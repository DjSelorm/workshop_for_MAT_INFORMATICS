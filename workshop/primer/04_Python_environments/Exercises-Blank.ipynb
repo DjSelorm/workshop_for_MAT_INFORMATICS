{
 "cells": [
  {
   "cell_type": "markdown",
   "id": "9b4206ae-b655-4c9c-9b7e-17e4c9014433",
   "metadata": {},
   "source": [
    "# pip"
   ]
  },
  {
   "cell_type": "markdown",
   "id": "6eee0f93-8c51-4dc6-80c2-91faca8440a3",
   "metadata": {},
   "source": [
    "## Exercise: Try downgrading the numpy to version 1.19.5"
   ]
  },
  {
   "cell_type": "code",
   "execution_count": null,
   "id": "9110ac41-b91d-4755-b6c9-b755943c0869",
   "metadata": {},
   "outputs": [],
   "source": []
  },
  {
   "cell_type": "markdown",
   "id": "31be9054-b2b6-47e7-9516-3479a7713201",
   "metadata": {},
   "source": [
    "## Exercise: Try upgrading numpy back to the latest version"
   ]
  },
  {
   "cell_type": "code",
   "execution_count": null,
   "id": "b689d1bf-0411-4db0-8386-c719dfb78334",
   "metadata": {},
   "outputs": [],
   "source": []
  },
  {
   "cell_type": "markdown",
   "id": "8aa3679c-d9ab-4bc3-b5e3-bbd44409a92f",
   "metadata": {},
   "source": [
    "# Conda"
   ]
  },
  {
   "cell_type": "markdown",
   "id": "3aefd114-038d-4fbe-9874-1f132d39e88c",
   "metadata": {},
   "source": [
    "## Exercise: Try using creating a conda environment (with a name of your choice) and install enumlib version 1.0.4 from the `matsci` channel\n"
   ]
  },
  {
   "cell_type": "code",
   "execution_count": null,
   "id": "fe1f13f7-538a-408e-a530-6bea20737c70",
   "metadata": {},
   "outputs": [],
   "source": []
  },
  {
   "cell_type": "code",
   "execution_count": null,
   "id": "56c089b1-6fe9-4a8e-8188-bdef0727befb",
   "metadata": {},
   "outputs": [],
   "source": []
  }
 ],
 "metadata": {
  "kernelspec": {
   "display_name": "Python 3 (ipykernel)",
   "language": "python",
   "name": "python3"
  },
  "language_info": {
   "codemirror_mode": {
    "name": "ipython",
    "version": 3
   },
   "file_extension": ".py",
   "mimetype": "text/x-python",
   "name": "python",
   "nbconvert_exporter": "python",
   "pygments_lexer": "ipython3",
   "version": "3.9.6"
  }
 },
 "nbformat": 4,
 "nbformat_minor": 5
}
