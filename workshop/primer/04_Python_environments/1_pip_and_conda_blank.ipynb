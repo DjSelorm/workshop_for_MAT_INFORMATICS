{
 "cells": [
  {
   "cell_type": "markdown",
   "id": "8fc96903",
   "metadata": {},
   "source": [
    "# Introduction to pip\n",
    "pip is a package management system for python that is used to install and manage additional libraries and dependencies. pip typically comes pre-installed by alongside python. \n",
    "\n",
    "Let's verify that pip is installed:"
   ]
  },
  {
   "cell_type": "code",
   "execution_count": null,
   "id": "a93f4038",
   "metadata": {},
   "outputs": [],
   "source": []
  },
  {
   "cell_type": "markdown",
   "id": "8b397b5a",
   "metadata": {},
   "source": [
    "*note that we are using the `!` to execute a command on the system terminal/command-line"
   ]
  },
  {
   "cell_type": "markdown",
   "id": "9454e45d",
   "metadata": {},
   "source": [
    "Let's see what we can do with pip using the `help` command"
   ]
  },
  {
   "cell_type": "code",
   "execution_count": null,
   "id": "f75e53ae",
   "metadata": {},
   "outputs": [],
   "source": []
  },
  {
   "cell_type": "markdown",
   "id": "aca34351",
   "metadata": {},
   "source": [
    "`pip list` will show all installed packages, while `pip freeze` will show all user installed packages"
   ]
  },
  {
   "cell_type": "code",
   "execution_count": null,
   "id": "ee52b0cf",
   "metadata": {},
   "outputs": [],
   "source": []
  },
  {
   "cell_type": "code",
   "execution_count": null,
   "id": "6e18611e",
   "metadata": {},
   "outputs": [],
   "source": []
  },
  {
   "cell_type": "markdown",
   "id": "3bd3fcf5",
   "metadata": {},
   "source": [
    "## Searching for python packages\n",
    "~~pip can search for software packages in the the Python Package Index (PyPI), an online repository of 3rd party packages~~\n",
    "\n",
    "pip search is deprecated. See this [link](https://status.python.org/) and this [github issue](https://github.com/pypa/pip/issues/5216) for more information."
   ]
  },
  {
   "cell_type": "code",
   "execution_count": null,
   "id": "7e58ea1d",
   "metadata": {},
   "outputs": [],
   "source": []
  },
  {
   "cell_type": "markdown",
   "id": "f96f76ff",
   "metadata": {},
   "source": [
    "Python packages can be found on the [Python Package Index (PyPI)](https://pypi.org/)."
   ]
  },
  {
   "cell_type": "markdown",
   "id": "dc762671",
   "metadata": {},
   "source": [
    "## Installing python packages"
   ]
  },
  {
   "cell_type": "markdown",
   "id": "9e575835",
   "metadata": {},
   "source": [
    "To install the latest version of a package, use `pip install`"
   ]
  },
  {
   "cell_type": "code",
   "execution_count": null,
   "id": "68d1b761",
   "metadata": {},
   "outputs": [],
   "source": []
  },
  {
   "cell_type": "code",
   "execution_count": null,
   "id": "227d1bd0",
   "metadata": {
    "scrolled": true
   },
   "outputs": [],
   "source": []
  },
  {
   "cell_type": "markdown",
   "id": "4b09cb7c",
   "metadata": {},
   "source": [
    "Check if the package is installed"
   ]
  },
  {
   "cell_type": "code",
   "execution_count": null,
   "id": "ab86f945",
   "metadata": {},
   "outputs": [],
   "source": []
  },
  {
   "cell_type": "code",
   "execution_count": null,
   "id": "64598048",
   "metadata": {},
   "outputs": [],
   "source": []
  },
  {
   "cell_type": "code",
   "execution_count": null,
   "id": "f57c570d",
   "metadata": {},
   "outputs": [],
   "source": [
    "# Why does this work without restarting the package?\n"
   ]
  },
  {
   "cell_type": "markdown",
   "id": "5bbaaa1f",
   "metadata": {},
   "source": [
    "Reload the notebook kernel to load the newly installed package"
   ]
  },
  {
   "cell_type": "code",
   "execution_count": null,
   "id": "dd5a959c",
   "metadata": {},
   "outputs": [],
   "source": []
  },
  {
   "cell_type": "markdown",
   "id": "343ff801",
   "metadata": {},
   "source": [
    "Package versions can be found on the PyPI page for each package. Specify the version using `==`."
   ]
  },
  {
   "cell_type": "code",
   "execution_count": null,
   "id": "ed6437eb",
   "metadata": {
    "scrolled": true
   },
   "outputs": [],
   "source": []
  },
  {
   "cell_type": "code",
   "execution_count": null,
   "id": "24b6b29c",
   "metadata": {},
   "outputs": [],
   "source": []
  },
  {
   "cell_type": "code",
   "execution_count": null,
   "id": "e0fc536f",
   "metadata": {},
   "outputs": [],
   "source": []
  },
  {
   "cell_type": "markdown",
   "id": "2e685a9e",
   "metadata": {},
   "source": [
    "### Installing from packages from Github\n",
    "\n",
    "https://github.com/materialsproject/mpmorph"
   ]
  },
  {
   "cell_type": "code",
   "execution_count": null,
   "id": "aedd9744",
   "metadata": {},
   "outputs": [],
   "source": []
  },
  {
   "cell_type": "code",
   "execution_count": null,
   "id": "74c6d2e6",
   "metadata": {},
   "outputs": [],
   "source": []
  },
  {
   "cell_type": "markdown",
   "id": "9774a454",
   "metadata": {},
   "source": [
    "## Removing Python Packages"
   ]
  },
  {
   "cell_type": "markdown",
   "id": "6739ed40",
   "metadata": {},
   "source": [
    "Use `pip uninstall` to remove a python package. Use the `-y` flag to pre-confirm the uninstall"
   ]
  },
  {
   "cell_type": "code",
   "execution_count": null,
   "id": "de22a041",
   "metadata": {},
   "outputs": [],
   "source": []
  },
  {
   "cell_type": "code",
   "execution_count": null,
   "id": "114cfb78",
   "metadata": {},
   "outputs": [],
   "source": []
  },
  {
   "cell_type": "markdown",
   "id": "ca240e6a",
   "metadata": {},
   "source": [
    "Now when we attempt to show the details, we see that the MDAnalysis package is uninstalled and cannot be found"
   ]
  },
  {
   "cell_type": "code",
   "execution_count": null,
   "id": "47072255",
   "metadata": {},
   "outputs": [],
   "source": []
  },
  {
   "cell_type": "markdown",
   "id": "35cc6af1-702f-4d51-a7fc-2a30a5927dd9",
   "metadata": {},
   "source": [
    "## Creating and Using Requirement Files"
   ]
  },
  {
   "cell_type": "markdown",
   "id": "8e95765e-e684-4121-90a4-a0690d0d3b8c",
   "metadata": {},
   "source": [
    "Many code libraries are not static and often new versions are frequently released. This can cause issues when using code for production or when sharing code. To solve this issue, we use requirement files to document the versions compatible with our code. These files are necessary to replicate environments across different systems.\n",
    "\n",
    "We can make a requirements file from our current environment using the `pip freeze` command"
   ]
  },
  {
   "cell_type": "code",
   "execution_count": null,
   "id": "250326f7",
   "metadata": {},
   "outputs": [],
   "source": []
  },
  {
   "cell_type": "markdown",
   "id": "ddf6efab-2a88-4126-81b2-42e03888d034",
   "metadata": {},
   "source": [
    "To replicate our code environment, we simply transfer our 'requirements.txt' file to the new system and run `pip install` with the `-r` flag to indicate the installation from a requirement file."
   ]
  },
  {
   "cell_type": "code",
   "execution_count": null,
   "id": "f317ca70-cd0e-4a58-bafb-7d26036be506",
   "metadata": {},
   "outputs": [],
   "source": []
  },
  {
   "cell_type": "markdown",
   "id": "16c6853b-6db7-4d8e-a2ae-00c2e0826579",
   "metadata": {},
   "source": [
    "## Exercise: Try downgrading the numpy to version 1.19.5"
   ]
  },
  {
   "cell_type": "code",
   "execution_count": null,
   "id": "21b3c368-3c99-46cd-b467-0656de967518",
   "metadata": {},
   "outputs": [],
   "source": []
  },
  {
   "cell_type": "markdown",
   "id": "648e57df-9788-4ec6-a51d-6127cead5e56",
   "metadata": {},
   "source": [
    "## Exercise: Try upgrading numpy back to the latest version"
   ]
  },
  {
   "cell_type": "code",
   "execution_count": null,
   "id": "023c9648-41be-4502-9620-d97b9f7e021e",
   "metadata": {},
   "outputs": [],
   "source": []
  },
  {
   "cell_type": "markdown",
   "id": "64acde62-81aa-4e11-912d-c2d85397570f",
   "metadata": {},
   "source": [
    "# Introduction to Conda"
   ]
  },
  {
   "cell_type": "markdown",
   "id": "5c46ff7d-f3c6-4a5c-b2ee-c02c7e30cd3e",
   "metadata": {},
   "source": [
    "Much like pip, conda is a program writen in python for the purpose of managing packages. Programs are not limited to \n",
    "Conda also allows for the creation of virtual environments. Environments are very powerful and allow us to install a local collection of packages isolated from system packages or other environments. "
   ]
  },
  {
   "cell_type": "code",
   "execution_count": null,
   "id": "e1689bad-5db4-4e16-a286-04dd9f31d6d8",
   "metadata": {},
   "outputs": [],
   "source": []
  },
  {
   "cell_type": "markdown",
   "id": "51d09b63-32cd-40fb-9d5c-f729cdb41398",
   "metadata": {},
   "source": [
    "We can get a list of the available conda environments using the `conda env list` command"
   ]
  },
  {
   "cell_type": "code",
   "execution_count": null,
   "id": "fd10cbb0-625a-4461-b962-d9af7b6d7f61",
   "metadata": {},
   "outputs": [],
   "source": []
  },
  {
   "cell_type": "markdown",
   "id": "59663c79-b554-4156-a67a-6fd8fdf56257",
   "metadata": {},
   "source": [
    "## Creating Conda Environments"
   ]
  },
  {
   "cell_type": "markdown",
   "id": "6c38be00-9fd4-4660-9725-501c4f5751da",
   "metadata": {},
   "source": [
    "Create a new conda environment using the `conda create` command. We use the -y flag, since we cannot provide confirmation to the running code. We specify the environment to be created with a installation of python 3.9"
   ]
  },
  {
   "cell_type": "code",
   "execution_count": null,
   "id": "e6b5397e-ee07-49a7-a723-6c7b5f44ff54",
   "metadata": {},
   "outputs": [],
   "source": []
  },
  {
   "cell_type": "markdown",
   "id": "ef30c493-9035-48a7-a57c-0437728e72d1",
   "metadata": {},
   "source": [
    "Our new environment shows up under our list of conda environments. However it is not the active environment (does not have a * next to it)."
   ]
  },
  {
   "cell_type": "code",
   "execution_count": null,
   "id": "6d48f874-524c-4086-bc71-a3e0e2eb8cdb",
   "metadata": {},
   "outputs": [],
   "source": []
  },
  {
   "cell_type": "markdown",
   "id": "5cb175dd-1f66-4e79-837d-dfc74c5a03f1",
   "metadata": {},
   "source": [
    "## Using and interacting with Conda environments"
   ]
  },
  {
   "cell_type": "markdown",
   "id": "f35d88a6-138e-451f-8933-35669ad6c6ca",
   "metadata": {},
   "source": [
    "We must activate our environment to install python packages and run python code using the new environment. Since we are interacting with our environment from jupyter notebook, we must activate our environment within each cell before we use any bash commands.\n",
    "\n",
    "To do this, use the `%%bash` command to create a multi-line bash cell, then activate the environment using `source activate <env_name>`"
   ]
  },
  {
   "cell_type": "code",
   "execution_count": null,
   "id": "fa0552d8-077d-4be1-b656-9580fcfdbc8a",
   "metadata": {},
   "outputs": [],
   "source": []
  },
  {
   "cell_type": "markdown",
   "id": "4c2c27cc-c89d-451b-bfc6-8d9ab9f736b7",
   "metadata": {},
   "source": [
    "Now, using the `conda env list` command, we see our new environment is active, as denoted by the *"
   ]
  },
  {
   "cell_type": "code",
   "execution_count": null,
   "id": "86bdbb42-67d8-464e-bdfe-c0b6eb90c766",
   "metadata": {},
   "outputs": [],
   "source": [
    "%%bash\n",
    "source activate temp_workshop_env\n",
    "\n"
   ]
  },
  {
   "cell_type": "markdown",
   "id": "e183e7d3-c37b-40d6-be11-66d45d80bb3d",
   "metadata": {},
   "source": [
    "While our environment is ready for command-line use, there are additional steps to use it with jupyter. \n",
    "\n",
    "1. First, we will install \"ipykernel\""
   ]
  },
  {
   "cell_type": "code",
   "execution_count": null,
   "id": "76ff78e8-fc28-4ec3-a543-13562cefb6a8",
   "metadata": {},
   "outputs": [],
   "source": [
    "%%bash\n",
    "source activate temp_workshop_env\n",
    "\n"
   ]
  },
  {
   "cell_type": "code",
   "execution_count": null,
   "id": "149db951-a6ff-459f-a973-48560338d152",
   "metadata": {},
   "outputs": [],
   "source": [
    "%%bash\n",
    "source activate temp_workshop_env\n",
    "\n"
   ]
  },
  {
   "cell_type": "markdown",
   "id": "afe7bbd1-27cd-4229-b787-078981578e43",
   "metadata": {},
   "source": [
    "2. We will create a jupyter kernelspec for our environment"
   ]
  },
  {
   "cell_type": "code",
   "execution_count": null,
   "id": "1c8ab2f6-2369-4584-9055-f35bd9273e48",
   "metadata": {},
   "outputs": [],
   "source": []
  },
  {
   "cell_type": "code",
   "execution_count": null,
   "id": "85605d1f-20ba-4d30-bac9-fe2914ec3af2",
   "metadata": {},
   "outputs": [],
   "source": []
  },
  {
   "cell_type": "code",
   "execution_count": null,
   "id": "2bc019a4-6871-422b-a83e-174908609b60",
   "metadata": {},
   "outputs": [],
   "source": []
  },
  {
   "cell_type": "markdown",
   "id": "cf1abef8-6712-4f4f-9edf-7f76e0fc070f",
   "metadata": {},
   "source": [
    "## Installing from conda-forge"
   ]
  },
  {
   "cell_type": "markdown",
   "id": "7e8cc664-bde7-4278-a835-55dc300de980",
   "metadata": {},
   "source": [
    "When using conda to install or search for packages, the standard behaviour is to search the [default repositories](https://repo.anaconda.com/pkgs/). These are packages provided by Anaconda, Inc. for free. To access third-party software, we can use the conda-forge channel. [Conda-Forge](https://conda-forge.org/index.html) is a community effort to provide conda packages for a wide range of software."
   ]
  },
  {
   "cell_type": "markdown",
   "id": "f0b7c424-ac2e-4281-bb62-eef5ed22624c",
   "metadata": {},
   "source": [
    "To install software from the conda-forge channel, simply add `-c conda-forge` to the `conda install` command. This will tell conda to include the packages in conda-forge when searching for packages and dependencies.\n",
    "\n",
    "Many Materials Project codes (such as pymatgen, fireworks, custodian, atomate, and matminer) are available through the conda-forge channel."
   ]
  },
  {
   "cell_type": "code",
   "execution_count": null,
   "id": "f524dc8f-163f-4461-8946-825fe7187601",
   "metadata": {},
   "outputs": [],
   "source": [
    "%%bash\n",
    "source activate temp_workshop_env\n",
    "\n"
   ]
  },
  {
   "cell_type": "markdown",
   "id": "dcc3d68d-b08e-4b2a-a46d-db0029c2bb7e",
   "metadata": {},
   "source": [
    "We can add conda-forge to the list of channels (to avoid adding `-c conda-forge` to every installation line)"
   ]
  },
  {
   "cell_type": "code",
   "execution_count": null,
   "id": "f8cbfe81-bf0a-4976-bf0a-a0b43bbcccf0",
   "metadata": {},
   "outputs": [],
   "source": [
    "%%bash\n",
    "source activate temp_workshop_env\n",
    "\n"
   ]
  },
  {
   "cell_type": "markdown",
   "id": "3cda46f4-818c-455b-82d8-8dae7907b27a",
   "metadata": {},
   "source": [
    "Now we can install packages using less arguments"
   ]
  },
  {
   "cell_type": "code",
   "execution_count": null,
   "id": "f2f44bdb-fe21-4df9-bb9a-4b126da2d827",
   "metadata": {},
   "outputs": [],
   "source": [
    "%%bash\n",
    "source activate temp_workshop_env\n",
    "\n"
   ]
  },
  {
   "cell_type": "markdown",
   "id": "f2f91ed0-8ddb-4d8f-9646-3f1948b65250",
   "metadata": {},
   "source": [
    "## Remove/Delete Conda environment"
   ]
  },
  {
   "cell_type": "markdown",
   "id": "900b0c4d-89b8-4ee8-b4cf-7e73fa304f45",
   "metadata": {},
   "source": [
    "When a conda environment is no longer useful or needs to be uninstalled, remove it with `conda remove`."
   ]
  },
  {
   "cell_type": "code",
   "execution_count": null,
   "id": "9c80b671-776d-49b1-9e2d-078de8eba8fd",
   "metadata": {},
   "outputs": [],
   "source": []
  },
  {
   "cell_type": "code",
   "execution_count": null,
   "id": "b54ad5d4-4424-4be3-8352-a1fc2dbba902",
   "metadata": {},
   "outputs": [],
   "source": []
  },
  {
   "cell_type": "markdown",
   "id": "b18863e9-37e2-4e90-a5a1-85c0c95d0561",
   "metadata": {},
   "source": [
    "If we created a kernelspec, we'll want to remove it (not done by default)"
   ]
  },
  {
   "cell_type": "code",
   "execution_count": null,
   "id": "6b773ce6-5f0c-4359-b273-d3fce0f417b9",
   "metadata": {},
   "outputs": [],
   "source": []
  },
  {
   "cell_type": "markdown",
   "id": "4290be2d-3379-439c-9fac-f87c6b499b8a",
   "metadata": {},
   "source": [
    "## Exercise: Try using creating a conda environment (with a name of your choice) and install enumlib version 1.0.4 from the `matsci` channel\n"
   ]
  },
  {
   "cell_type": "code",
   "execution_count": null,
   "id": "c8346f99-669c-4138-88d5-c4a78c8d400f",
   "metadata": {},
   "outputs": [],
   "source": []
  },
  {
   "cell_type": "code",
   "execution_count": null,
   "id": "cc557373-31a1-4c75-a37d-4904fb3faa6c",
   "metadata": {},
   "outputs": [],
   "source": []
  },
  {
   "cell_type": "code",
   "execution_count": null,
   "id": "35f2b7ee-af9d-4e5d-b7bd-c16906b982ea",
   "metadata": {},
   "outputs": [],
   "source": []
  }
 ],
 "metadata": {
  "kernelspec": {
   "display_name": "Python 3 (ipykernel)",
   "language": "python",
   "name": "python3"
  },
  "language_info": {
   "codemirror_mode": {
    "name": "ipython",
    "version": 3
   },
   "file_extension": ".py",
   "mimetype": "text/x-python",
   "name": "python",
   "nbconvert_exporter": "python",
   "pygments_lexer": "ipython3",
   "version": "3.9.6"
  }
 },
 "nbformat": 4,
 "nbformat_minor": 5
}
