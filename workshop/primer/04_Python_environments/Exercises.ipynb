{
 "cells": [
  {
   "cell_type": "markdown",
   "id": "9b4206ae-b655-4c9c-9b7e-17e4c9014433",
   "metadata": {},
   "source": [
    "# pip"
   ]
  },
  {
   "cell_type": "markdown",
   "id": "6eee0f93-8c51-4dc6-80c2-91faca8440a3",
   "metadata": {},
   "source": [
    "## Exercise: Try downgrading the numpy to version 1.19.5"
   ]
  },
  {
   "cell_type": "code",
   "execution_count": 1,
   "id": "6443a011-98d2-4035-8411-0363a0a04ed6",
   "metadata": {},
   "outputs": [
    {
     "name": "stdout",
     "output_type": "stream",
     "text": [
      "\u001b[33mWARNING: Ignoring invalid distribution -umpy (/Users/esivonxay/anaconda3/envs/mp_workshop_2021/lib/python3.9/site-packages)\u001b[0m\n",
      "\u001b[33mWARNING: Ignoring invalid distribution -umpy (/Users/esivonxay/anaconda3/envs/mp_workshop_2021/lib/python3.9/site-packages)\u001b[0m\n",
      "Collecting numpy==1.19.5\n",
      "  Using cached numpy-1.19.5-cp39-cp39-macosx_10_9_x86_64.whl (15.6 MB)\n",
      "\u001b[33mWARNING: Ignoring invalid distribution -umpy (/Users/esivonxay/anaconda3/envs/mp_workshop_2021/lib/python3.9/site-packages)\u001b[0m\n",
      "Installing collected packages: numpy\n",
      "  Attempting uninstall: numpy\n",
      "\u001b[33m    WARNING: Ignoring invalid distribution -umpy (/Users/esivonxay/anaconda3/envs/mp_workshop_2021/lib/python3.9/site-packages)\u001b[0m\n",
      "    Found existing installation: numpy 1.21.1\n",
      "    Uninstalling numpy-1.21.1:\n",
      "      Successfully uninstalled numpy-1.21.1\n",
      "\u001b[33mWARNING: Ignoring invalid distribution -umpy (/Users/esivonxay/anaconda3/envs/mp_workshop_2021/lib/python3.9/site-packages)\u001b[0m\n",
      "\u001b[31mERROR: pip's dependency resolver does not currently take into account all the packages that are installed. This behaviour is the source of the following dependency conflicts.\n",
      "robocrys 0.2.6 requires matminer, which is not installed.\n",
      "tensorflow 2.5.0 requires six~=1.15.0, but you have six 1.16.0 which is incompatible.\n",
      "tensorflow-cpu 2.5.0 requires six~=1.15.0, but you have six 1.16.0 which is incompatible.\n",
      "pymatgen 2022.0.11 requires numpy>=1.20.1, but you have numpy 1.19.5 which is incompatible.\u001b[0m\n",
      "Successfully installed numpy-1.19.5\n",
      "\u001b[33mWARNING: Ignoring invalid distribution -umpy (/Users/esivonxay/anaconda3/envs/mp_workshop_2021/lib/python3.9/site-packages)\u001b[0m\n",
      "\u001b[33mWARNING: Ignoring invalid distribution -umpy (/Users/esivonxay/anaconda3/envs/mp_workshop_2021/lib/python3.9/site-packages)\u001b[0m\n",
      "\u001b[33mWARNING: Ignoring invalid distribution -umpy (/Users/esivonxay/anaconda3/envs/mp_workshop_2021/lib/python3.9/site-packages)\u001b[0m\n"
     ]
    }
   ],
   "source": [
    "!pip install numpy==1.19.5"
   ]
  },
  {
   "cell_type": "markdown",
   "id": "31be9054-b2b6-47e7-9516-3479a7713201",
   "metadata": {},
   "source": [
    "## Exercise: Try upgrading numpy back to the latest version"
   ]
  },
  {
   "cell_type": "code",
   "execution_count": 2,
   "id": "4c9582ab-2d18-460c-be4c-2b46d8165664",
   "metadata": {},
   "outputs": [
    {
     "name": "stdout",
     "output_type": "stream",
     "text": [
      "\u001b[33mWARNING: Ignoring invalid distribution -umpy (/Users/esivonxay/anaconda3/envs/mp_workshop_2021/lib/python3.9/site-packages)\u001b[0m\n",
      "\u001b[33mWARNING: Ignoring invalid distribution -umpy (/Users/esivonxay/anaconda3/envs/mp_workshop_2021/lib/python3.9/site-packages)\u001b[0m\n",
      "Requirement already satisfied: numpy in /Users/esivonxay/anaconda3/envs/mp_workshop_2021/lib/python3.9/site-packages (1.19.5)\n",
      "Collecting numpy\n",
      "  Using cached numpy-1.21.1-cp39-cp39-macosx_10_9_x86_64.whl (17.0 MB)\n",
      "\u001b[33mWARNING: Ignoring invalid distribution -umpy (/Users/esivonxay/anaconda3/envs/mp_workshop_2021/lib/python3.9/site-packages)\u001b[0m\n",
      "Installing collected packages: numpy\n",
      "  Attempting uninstall: numpy\n",
      "\u001b[33m    WARNING: Ignoring invalid distribution -umpy (/Users/esivonxay/anaconda3/envs/mp_workshop_2021/lib/python3.9/site-packages)\u001b[0m\n",
      "    Found existing installation: numpy 1.19.5\n",
      "    Uninstalling numpy-1.19.5:\n",
      "      Successfully uninstalled numpy-1.19.5\n",
      "\u001b[33mWARNING: Ignoring invalid distribution -umpy (/Users/esivonxay/anaconda3/envs/mp_workshop_2021/lib/python3.9/site-packages)\u001b[0m\n",
      "\u001b[31mERROR: pip's dependency resolver does not currently take into account all the packages that are installed. This behaviour is the source of the following dependency conflicts.\n",
      "robocrys 0.2.6 requires matminer, which is not installed.\n",
      "tensorflow 2.5.0 requires numpy~=1.19.2, but you have numpy 1.21.1 which is incompatible.\n",
      "tensorflow 2.5.0 requires six~=1.15.0, but you have six 1.16.0 which is incompatible.\n",
      "tensorflow-cpu 2.5.0 requires numpy~=1.19.2, but you have numpy 1.21.1 which is incompatible.\n",
      "tensorflow-cpu 2.5.0 requires six~=1.15.0, but you have six 1.16.0 which is incompatible.\u001b[0m\n",
      "Successfully installed numpy-1.21.1\n",
      "\u001b[33mWARNING: Ignoring invalid distribution -umpy (/Users/esivonxay/anaconda3/envs/mp_workshop_2021/lib/python3.9/site-packages)\u001b[0m\n",
      "\u001b[33mWARNING: Ignoring invalid distribution -umpy (/Users/esivonxay/anaconda3/envs/mp_workshop_2021/lib/python3.9/site-packages)\u001b[0m\n",
      "\u001b[33mWARNING: Ignoring invalid distribution -umpy (/Users/esivonxay/anaconda3/envs/mp_workshop_2021/lib/python3.9/site-packages)\u001b[0m\n"
     ]
    }
   ],
   "source": [
    "!pip install --upgrade numpy"
   ]
  },
  {
   "cell_type": "markdown",
   "id": "8aa3679c-d9ab-4bc3-b5e3-bbd44409a92f",
   "metadata": {},
   "source": [
    "# Conda"
   ]
  },
  {
   "cell_type": "markdown",
   "id": "3aefd114-038d-4fbe-9874-1f132d39e88c",
   "metadata": {},
   "source": [
    "## Exercise: Try using creating a conda environment (with a name of your choice) and install enumlib version 1.0.4 from the `matsci` channel\n"
   ]
  },
  {
   "cell_type": "code",
   "execution_count": 3,
   "id": "a85539c7-d979-4d5c-b81b-5c2f27db5fc7",
   "metadata": {},
   "outputs": [
    {
     "name": "stdout",
     "output_type": "stream",
     "text": [
      "Loading channels: done\n",
      "# Name                       Version           Build  Channel             \n",
      "enumlib                        1.0.4               0  matsci              \n",
      "enumlib                        1.0.4               1  matsci              \n",
      "enumlib                        2.0.4      h6818c3e_0  conda-forge         \n",
      "enumlib                        2.0.4      h6818c3e_1  conda-forge         \n"
     ]
    }
   ],
   "source": [
    "!conda search enumlib -c matsci"
   ]
  },
  {
   "cell_type": "code",
   "execution_count": 4,
   "id": "875cc645-4acc-4e3e-9239-16c2989f97ff",
   "metadata": {},
   "outputs": [
    {
     "name": "stdout",
     "output_type": "stream",
     "text": [
      "Collecting package metadata (current_repodata.json): done\n",
      "Solving environment: done\n",
      "\n",
      "\n",
      "==> WARNING: A newer version of conda exists. <==\n",
      "  current version: 4.8.4\n",
      "  latest version: 4.10.3\n",
      "\n",
      "Please update conda by running\n",
      "\n",
      "    $ conda update -n base conda\n",
      "\n",
      "\n",
      "\n",
      "## Package Plan ##\n",
      "\n",
      "  environment location: /Users/esivonxay/anaconda3/envs/enumlib_env\n",
      "\n",
      "\n",
      "\n",
      "Preparing transaction: done\n",
      "Verifying transaction: done\n",
      "Executing transaction: done\n",
      "#\n",
      "# To activate this environment, use\n",
      "#\n",
      "#     $ conda activate enumlib_env\n",
      "#\n",
      "# To deactivate an active environment, use\n",
      "#\n",
      "#     $ conda deactivate\n",
      "\n"
     ]
    }
   ],
   "source": [
    "!conda create -y --name enumlib_env"
   ]
  },
  {
   "cell_type": "code",
   "execution_count": 5,
   "id": "b9052269-6f9e-400b-9014-294535742eef",
   "metadata": {},
   "outputs": [
    {
     "name": "stdout",
     "output_type": "stream",
     "text": [
      "Collecting package metadata (current_repodata.json): ...working... done\n",
      "Solving environment: ...working... done\n",
      "\n",
      "## Package Plan ##\n",
      "\n",
      "  environment location: /Users/esivonxay/anaconda3/envs/enumlib_env\n",
      "\n",
      "  added / updated specs:\n",
      "    - enumlib=1.0.4\n",
      "\n",
      "\n",
      "The following packages will be downloaded:\n",
      "\n",
      "    package                    |            build\n",
      "    ---------------------------|-----------------\n",
      "    enumlib-1.0.4              |                1         641 KB  matsci\n",
      "    ------------------------------------------------------------\n",
      "                                           Total:         641 KB\n",
      "\n",
      "The following NEW packages will be INSTALLED:\n",
      "\n",
      "  enumlib            matsci/osx-64::enumlib-1.0.4-1\n",
      "\n",
      "\n",
      "\n",
      "Downloading and Extracting Packages\n",
      "enumlib-1.0.4        | 641 KB    | ########## | 100% \n",
      "Preparing transaction: ...working... done\n",
      "Verifying transaction: ...working... done\n",
      "Executing transaction: ...working... done\n"
     ]
    },
    {
     "name": "stderr",
     "output_type": "stream",
     "text": [
      "\n",
      "\n",
      "==> WARNING: A newer version of conda exists. <==\n",
      "  current version: 4.8.4\n",
      "  latest version: 4.10.3\n",
      "\n",
      "Please update conda by running\n",
      "\n",
      "    $ conda update -n base conda\n",
      "\n",
      "\n"
     ]
    }
   ],
   "source": [
    "%%bash\n",
    "source activate enumlib_env\n",
    "conda install -y enumlib=1.0.4 -c matsci"
   ]
  },
  {
   "cell_type": "code",
   "execution_count": null,
   "id": "56c089b1-6fe9-4a8e-8188-bdef0727befb",
   "metadata": {},
   "outputs": [],
   "source": []
  }
 ],
 "metadata": {
  "kernelspec": {
   "display_name": "Python 3 (ipykernel)",
   "language": "python",
   "name": "python3"
  },
  "language_info": {
   "codemirror_mode": {
    "name": "ipython",
    "version": 3
   },
   "file_extension": ".py",
   "mimetype": "text/x-python",
   "name": "python",
   "nbconvert_exporter": "python",
   "pygments_lexer": "ipython3",
   "version": "3.9.6"
  }
 },
 "nbformat": 4,
 "nbformat_minor": 5
}
