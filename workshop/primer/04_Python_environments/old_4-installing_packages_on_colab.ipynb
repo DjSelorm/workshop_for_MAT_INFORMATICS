{
 "cells": [
  {
   "cell_type": "markdown",
   "metadata": {
    "id": "j7M_T3WyPGBp"
   },
   "source": [
    "Google Colab comes pre-configured with a python environment capable of machine learning. We will want to install additional python packages to utilize materials science codes."
   ]
  },
  {
   "cell_type": "markdown",
   "metadata": {
    "id": "mWFsTaHTPdqE"
   },
   "source": [
    "# Conda vs pip"
   ]
  },
  {
   "cell_type": "markdown",
   "metadata": {
    "id": "XJsEWVbRXoHw"
   },
   "source": [
    "# Install Conda using conda-colab\n",
    "Google Colab does contain a pre-installed version of conda. Conda is a package manager and environment manager.\n",
    "\n",
    "This will allow you to use conda to install packages"
   ]
  },
  {
   "cell_type": "code",
   "execution_count": null,
   "metadata": {
    "colab": {
     "base_uri": "https://localhost:8080/"
    },
    "id": "JpDm2ypyZfMD",
    "outputId": "68153ddd-e7af-4961-821e-b80d8af69ebb"
   },
   "outputs": [
    {
     "name": "stdout",
     "output_type": "stream",
     "text": [
      "/usr/local/bin/conda\n"
     ]
    }
   ],
   "source": [
    "!which conda"
   ]
  },
  {
   "cell_type": "markdown",
   "metadata": {
    "id": "faXB6tMOcT2z"
   },
   "source": [
    "To simplify the conda installation, we use [condacolab](https://pypi.org/project/condacolab/). "
   ]
  },
  {
   "cell_type": "code",
   "execution_count": null,
   "metadata": {
    "colab": {
     "base_uri": "https://localhost:8080/"
    },
    "id": "pOoEqgtKQL7X",
    "outputId": "4875104c-5662-47ee-d412-dbe173306d77"
   },
   "outputs": [
    {
     "name": "stdout",
     "output_type": "stream",
     "text": [
      "1 loop, best of 1: 4.14 s per loop\n"
     ]
    }
   ],
   "source": [
    "%%timeit -n 1 -r 1\n",
    "!pip install -q condacolab"
   ]
  },
  {
   "cell_type": "code",
   "execution_count": null,
   "metadata": {
    "colab": {
     "base_uri": "https://localhost:8080/"
    },
    "id": "yqiixsVMQPsq",
    "outputId": "7659242c-94ed-4d15-c6dc-152d126a1286"
   },
   "outputs": [
    {
     "name": "stdout",
     "output_type": "stream",
     "text": [
      "⏬ Downloading https://github.com/jaimergp/miniforge/releases/latest/download/Mambaforge-colab-Linux-x86_64.sh...\n",
      "📦 Installing...\n",
      "📌 Adjusting configuration...\n",
      "🩹 Patching environment...\n",
      "⏲ Done in 0:00:40\n",
      "🔁 Restarting kernel...\n",
      "1 loop, best of 1: 40.3 s per loop\n"
     ]
    }
   ],
   "source": [
    "%%timeit -n 1 -r 1\n",
    "import condacolab\n",
    "condacolab.install()"
   ]
  },
  {
   "cell_type": "markdown",
   "metadata": {
    "id": "DSetNfuXZh67"
   },
   "source": [
    "After running condacolab.install(), conda and mamba are installed. Conda and Mamba are functionally equivalent, however conda is written in python, whilst Mamba is written in C. \n",
    "\n",
    "In our lesson, we use Mamba to leverage its speed (as compared to Conda). However, we note that Mamba can be more prone to bugs, as it is relatively new and less popular."
   ]
  },
  {
   "cell_type": "code",
   "execution_count": null,
   "metadata": {
    "colab": {
     "base_uri": "https://localhost:8080/"
    },
    "id": "u61ZCG7ubOTF",
    "outputId": "bed44e2a-10ca-4b76-d90a-57df43878e05"
   },
   "outputs": [
    {
     "name": "stdout",
     "output_type": "stream",
     "text": [
      "/usr/local/bin/conda\n",
      "/usr/local/bin/mamba\n"
     ]
    }
   ],
   "source": [
    "!which conda\n",
    "!which mamba"
   ]
  },
  {
   "cell_type": "markdown",
   "metadata": {
    "id": "m6xH_dS_XszC"
   },
   "source": [
    "For compatibility with colab, we will need to ensure the numpy version is unchanged when we install packages (such as pymatgen).\n",
    "\n",
    "To identify the numpy version factory installed on colab:"
   ]
  },
  {
   "cell_type": "code",
   "execution_count": null,
   "metadata": {
    "colab": {
     "base_uri": "https://localhost:8080/"
    },
    "id": "9ZwllzNPVg1r",
    "outputId": "1da82c84-bc5a-4c66-9903-69372ad07a9a"
   },
   "outputs": [
    {
     "name": "stdout",
     "output_type": "stream",
     "text": [
      "1.19.5\n"
     ]
    }
   ],
   "source": [
    "import numpy as np\n",
    "print(np.__version__)"
   ]
  },
  {
   "cell_type": "markdown",
   "metadata": {
    "id": "jmrwl3RcX0d7"
   },
   "source": [
    "The current version of numpy is v1.19.5, thus we specify mamba to install this specific version."
   ]
  },
  {
   "cell_type": "code",
   "execution_count": null,
   "metadata": {
    "colab": {
     "base_uri": "https://localhost:8080/"
    },
    "id": "Q4JEeqCUSZcA",
    "outputId": "5e4eea22-34fc-4c91-98c5-af2703600ae8"
   },
   "outputs": [
    {
     "name": "stdout",
     "output_type": "stream",
     "text": [
      "1 loop, best of 1: 4.54 s per loop\n"
     ]
    }
   ],
   "source": [
    "%%timeit -n 1 -r 1\n",
    "!mamba install -q --channel conda-forge pymatgen numpy=1.19.5 -y"
   ]
  },
  {
   "cell_type": "markdown",
   "metadata": {
    "id": "YJ53xLpRbSkB"
   },
   "source": [
    "Installation of pymatgen is complete. We test the install by creating a dummy structure"
   ]
  },
  {
   "cell_type": "code",
   "execution_count": null,
   "metadata": {
    "id": "8zxeAwzLSZ_D"
   },
   "outputs": [],
   "source": [
    "from pymatgen.core import Structure, Lattice\n",
    "lattice = Lattice.cubic(2)\n",
    "struct = Structure(lattice, species=['Li'], coords=[[0, 0, 0]])"
   ]
  },
  {
   "cell_type": "code",
   "execution_count": null,
   "metadata": {
    "colab": {
     "base_uri": "https://localhost:8080/"
    },
    "id": "GjIRAlv9U9HO",
    "outputId": "2f673f53-f6cf-48ba-f41a-8a31f39eddd9"
   },
   "outputs": [
    {
     "data": {
      "text/plain": [
       "Structure Summary\n",
       "Lattice\n",
       "    abc : 2.0 2.0 2.0\n",
       " angles : 90.0 90.0 90.0\n",
       " volume : 8.0\n",
       "      A : 2.0 0.0 0.0\n",
       "      B : 0.0 2.0 0.0\n",
       "      C : 0.0 0.0 2.0\n",
       "PeriodicSite: Li (0.0000, 0.0000, 0.0000) [0.0000, 0.0000, 0.0000]"
      ]
     },
     "execution_count": 9,
     "metadata": {
      "tags": []
     },
     "output_type": "execute_result"
    }
   ],
   "source": [
    "struct"
   ]
  },
  {
   "cell_type": "markdown",
   "metadata": {
    "id": "BjT3HZIbdRV7"
   },
   "source": [
    "# Setup environment using conda constructor.\n",
    "---\n",
    "\n",
    "\n",
    "1.   First, we want to remove our previous installations by resetting our runtime to factory defaults. This process will revert the environment to its original state, removing any added packages or restoring deleted system files.\n",
    "  *   Runtime > Factory reset runtime\n",
    "\n"
   ]
  },
  {
   "cell_type": "markdown",
   "metadata": {
    "id": "eeoPe5vQIHAH"
   },
   "source": [
    "\n",
    "2.   Next, we install conda colab"
   ]
  },
  {
   "cell_type": "code",
   "execution_count": 1,
   "metadata": {
    "id": "3NMEY8jpIMWO"
   },
   "outputs": [],
   "source": [
    "!pip install -q condacolab"
   ]
  },
  {
   "cell_type": "markdown",
   "metadata": {
    "id": "171eqBlzIMjf"
   },
   "source": [
    "\n",
    "3.   Finally, we install using the constructor we have built for the workshop."
   ]
  },
  {
   "cell_type": "code",
   "execution_count": 2,
   "metadata": {
    "colab": {
     "base_uri": "https://localhost:8080/"
    },
    "id": "rL0nO8MFfYnn",
    "outputId": "45bfe454-5277-499e-c41a-6d1545de9026"
   },
   "outputs": [
    {
     "name": "stdout",
     "output_type": "stream",
     "text": [
      "⏬ Downloading https://github.com/sivonxay/workshop/releases/download/v2021.07.21/condacolab-0.1-Linux-x86_64.sh...\n",
      "📦 Installing...\n",
      "📌 Adjusting configuration...\n",
      "🩹 Patching environment...\n",
      "⏲ Done in 0:01:14\n",
      "🔁 Restarting kernel...\n"
     ]
    }
   ],
   "source": [
    "import condacolab\n",
    "\n",
    "conda_constructor = 'https://github.com/sivonxay/workshop/releases/download/v2021.07.21/condacolab-0.1-Linux-x86_64.sh'\n",
    "condacolab.install_from_url(conda_constructor)"
   ]
  },
  {
   "cell_type": "code",
   "execution_count": 13,
   "metadata": {
    "colab": {
     "base_uri": "https://localhost:8080/",
     "height": 392
    },
    "id": "7pLkgEbC4gfd",
    "outputId": "35e25c9e-0284-44e1-cbc3-c129cce745ee"
   },
   "outputs": [
    {
     "ename": "ValueError",
     "evalue": "ignored",
     "output_type": "error",
     "traceback": [
      "\u001b[0;31m---------------------------------------------------------------------------\u001b[0m",
      "\u001b[0;31mValueError\u001b[0m                                Traceback (most recent call last)",
      "\u001b[0;32m<ipython-input-13-07ce3f28f21e>\u001b[0m in \u001b[0;36m<module>\u001b[0;34m()\u001b[0m\n\u001b[0;32m----> 1\u001b[0;31m \u001b[0;32mfrom\u001b[0m \u001b[0mpymatgen\u001b[0m\u001b[0;34m.\u001b[0m\u001b[0mcore\u001b[0m \u001b[0;32mimport\u001b[0m \u001b[0mStructure\u001b[0m\u001b[0;34m,\u001b[0m \u001b[0mLattice\u001b[0m\u001b[0;34m\u001b[0m\u001b[0;34m\u001b[0m\u001b[0m\n\u001b[0m\u001b[1;32m      2\u001b[0m \u001b[0mlattice\u001b[0m \u001b[0;34m=\u001b[0m \u001b[0mLattice\u001b[0m\u001b[0;34m.\u001b[0m\u001b[0mcubic\u001b[0m\u001b[0;34m(\u001b[0m\u001b[0;36m2\u001b[0m\u001b[0;34m)\u001b[0m\u001b[0;34m\u001b[0m\u001b[0;34m\u001b[0m\u001b[0m\n\u001b[1;32m      3\u001b[0m \u001b[0mstruct\u001b[0m \u001b[0;34m=\u001b[0m \u001b[0mStructure\u001b[0m\u001b[0;34m(\u001b[0m\u001b[0mlattice\u001b[0m\u001b[0;34m,\u001b[0m \u001b[0mspecies\u001b[0m\u001b[0;34m=\u001b[0m\u001b[0;34m[\u001b[0m\u001b[0;34m'Li'\u001b[0m\u001b[0;34m]\u001b[0m\u001b[0;34m,\u001b[0m \u001b[0mcoords\u001b[0m\u001b[0;34m=\u001b[0m\u001b[0;34m[\u001b[0m\u001b[0;34m[\u001b[0m\u001b[0;36m0\u001b[0m\u001b[0;34m,\u001b[0m \u001b[0;36m0\u001b[0m\u001b[0;34m,\u001b[0m \u001b[0;36m0\u001b[0m\u001b[0;34m]\u001b[0m\u001b[0;34m]\u001b[0m\u001b[0;34m)\u001b[0m\u001b[0;34m\u001b[0m\u001b[0;34m\u001b[0m\u001b[0m\n",
      "\u001b[0;32m/usr/local/lib/python3.7/site-packages/pymatgen/core/__init__.py\u001b[0m in \u001b[0;36m<module>\u001b[0;34m()\u001b[0m\n\u001b[1;32m     19\u001b[0m \u001b[0;34m\u001b[0m\u001b[0m\n\u001b[1;32m     20\u001b[0m \u001b[0;32mfrom\u001b[0m \u001b[0;34m.\u001b[0m\u001b[0mcomposition\u001b[0m \u001b[0;32mimport\u001b[0m \u001b[0mComposition\u001b[0m  \u001b[0;31m# noqa\u001b[0m\u001b[0;34m\u001b[0m\u001b[0;34m\u001b[0m\u001b[0m\n\u001b[0;32m---> 21\u001b[0;31m \u001b[0;32mfrom\u001b[0m \u001b[0;34m.\u001b[0m\u001b[0mlattice\u001b[0m \u001b[0;32mimport\u001b[0m \u001b[0mLattice\u001b[0m  \u001b[0;31m# noqa\u001b[0m\u001b[0;34m\u001b[0m\u001b[0;34m\u001b[0m\u001b[0m\n\u001b[0m\u001b[1;32m     22\u001b[0m \u001b[0;32mfrom\u001b[0m \u001b[0;34m.\u001b[0m\u001b[0moperations\u001b[0m \u001b[0;32mimport\u001b[0m \u001b[0mSymmOp\u001b[0m  \u001b[0;31m# noqa\u001b[0m\u001b[0;34m\u001b[0m\u001b[0;34m\u001b[0m\u001b[0m\n\u001b[1;32m     23\u001b[0m \u001b[0;32mfrom\u001b[0m \u001b[0;34m.\u001b[0m\u001b[0mperiodic_table\u001b[0m \u001b[0;32mimport\u001b[0m \u001b[0mDummySpecies\u001b[0m\u001b[0;34m,\u001b[0m \u001b[0mElement\u001b[0m\u001b[0;34m,\u001b[0m \u001b[0mSpecies\u001b[0m  \u001b[0;31m# noqa\u001b[0m\u001b[0;34m\u001b[0m\u001b[0;34m\u001b[0m\u001b[0m\n",
      "\u001b[0;32m/usr/local/lib/python3.7/site-packages/pymatgen/core/lattice.py\u001b[0m in \u001b[0;36m<module>\u001b[0;34m()\u001b[0m\n\u001b[1;32m     21\u001b[0m \u001b[0;32mfrom\u001b[0m \u001b[0mnumpy\u001b[0m\u001b[0;34m.\u001b[0m\u001b[0mlinalg\u001b[0m \u001b[0;32mimport\u001b[0m \u001b[0minv\u001b[0m\u001b[0;34m\u001b[0m\u001b[0;34m\u001b[0m\u001b[0m\n\u001b[1;32m     22\u001b[0m \u001b[0;34m\u001b[0m\u001b[0m\n\u001b[0;32m---> 23\u001b[0;31m \u001b[0;32mfrom\u001b[0m \u001b[0mpymatgen\u001b[0m\u001b[0;34m.\u001b[0m\u001b[0mutil\u001b[0m\u001b[0;34m.\u001b[0m\u001b[0mcoord\u001b[0m \u001b[0;32mimport\u001b[0m \u001b[0mpbc_shortest_vectors\u001b[0m\u001b[0;34m\u001b[0m\u001b[0;34m\u001b[0m\u001b[0m\n\u001b[0m\u001b[1;32m     24\u001b[0m \u001b[0;32mfrom\u001b[0m \u001b[0mpymatgen\u001b[0m\u001b[0;34m.\u001b[0m\u001b[0mutil\u001b[0m\u001b[0;34m.\u001b[0m\u001b[0mnum\u001b[0m \u001b[0;32mimport\u001b[0m \u001b[0mabs_cap\u001b[0m\u001b[0;34m\u001b[0m\u001b[0;34m\u001b[0m\u001b[0m\n\u001b[1;32m     25\u001b[0m \u001b[0;32mfrom\u001b[0m \u001b[0mpymatgen\u001b[0m\u001b[0;34m.\u001b[0m\u001b[0mutil\u001b[0m\u001b[0;34m.\u001b[0m\u001b[0mtyping\u001b[0m \u001b[0;32mimport\u001b[0m \u001b[0mArrayLike\u001b[0m\u001b[0;34m\u001b[0m\u001b[0;34m\u001b[0m\u001b[0m\n",
      "\u001b[0;32m/usr/local/lib/python3.7/site-packages/pymatgen/util/coord.py\u001b[0m in \u001b[0;36m<module>\u001b[0;34m()\u001b[0m\n\u001b[1;32m     15\u001b[0m \u001b[0;32mimport\u001b[0m \u001b[0mnumpy\u001b[0m \u001b[0;32mas\u001b[0m \u001b[0mnp\u001b[0m\u001b[0;34m\u001b[0m\u001b[0;34m\u001b[0m\u001b[0m\n\u001b[1;32m     16\u001b[0m \u001b[0;34m\u001b[0m\u001b[0m\n\u001b[0;32m---> 17\u001b[0;31m \u001b[0;32mfrom\u001b[0m \u001b[0;34m.\u001b[0m \u001b[0;32mimport\u001b[0m \u001b[0mcoord_cython\u001b[0m \u001b[0;32mas\u001b[0m \u001b[0mcuc\u001b[0m\u001b[0;34m\u001b[0m\u001b[0;34m\u001b[0m\u001b[0m\n\u001b[0m\u001b[1;32m     18\u001b[0m \u001b[0;34m\u001b[0m\u001b[0m\n\u001b[1;32m     19\u001b[0m \u001b[0;31m# array size threshold for looping instead of broadcasting\u001b[0m\u001b[0;34m\u001b[0m\u001b[0;34m\u001b[0m\u001b[0;34m\u001b[0m\u001b[0m\n",
      "\u001b[0;32mpymatgen/util/coord_cython.pyx\u001b[0m in \u001b[0;36minit pymatgen.util.coord_cython\u001b[0;34m()\u001b[0m\n",
      "\u001b[0;31mValueError\u001b[0m: numpy.ndarray size changed, may indicate binary incompatibility. Expected 88 from C header, got 80 from PyObject"
     ]
    }
   ],
   "source": [
    "from pymatgen.core import Structure, Lattice\n",
    "lattice = Lattice.cubic(2)\n",
    "struct = Structure(lattice, species=['Li'], coords=[[0, 0, 0]])"
   ]
  },
  {
   "cell_type": "code",
   "execution_count": 8,
   "metadata": {
    "colab": {
     "base_uri": "https://localhost:8080/",
     "height": 164
    },
    "id": "veTfmf264hH5",
    "outputId": "cf946411-7590-4705-ddb3-2476bbaa14fa"
   },
   "outputs": [
    {
     "ename": "NameError",
     "evalue": "ignored",
     "output_type": "error",
     "traceback": [
      "\u001b[0;31m---------------------------------------------------------------------------\u001b[0m",
      "\u001b[0;31mNameError\u001b[0m                                 Traceback (most recent call last)",
      "\u001b[0;32m<ipython-input-8-ea585a2a6d79>\u001b[0m in \u001b[0;36m<module>\u001b[0;34m()\u001b[0m\n\u001b[0;32m----> 1\u001b[0;31m \u001b[0mstruct\u001b[0m\u001b[0;34m\u001b[0m\u001b[0;34m\u001b[0m\u001b[0m\n\u001b[0m",
      "\u001b[0;31mNameError\u001b[0m: name 'struct' is not defined"
     ]
    }
   ],
   "source": [
    "struct"
   ]
  },
  {
   "cell_type": "markdown",
   "metadata": {
    "id": "TlWy5dU9bxtQ"
   },
   "source": [
    "# Building a conda constructor\n",
    "To build your own environment constructor (to save time when restarting notebook)\n",
    "\n",
    "Adapted from this [notebook](https://colab.research.google.com/github/jaimergp/condacolab/blob/main/constructor-example/condacolab_constructor_tutorial.ipynb#scrollTo=-RDpyAYfXk9L)\n"
   ]
  },
  {
   "cell_type": "markdown",
   "metadata": {
    "id": "5BDO0Lqctf5V"
   },
   "source": [
    "1. Download the templates constructor\n",
    "\n"
   ]
  },
  {
   "cell_type": "code",
   "execution_count": 2,
   "metadata": {
    "id": "GdtsZqUqfO_l"
   },
   "outputs": [],
   "source": [
    "!wget -q https://raw.githubusercontent.com/jaimergp/condacolab/main/constructor-example/construct.yaml\n",
    "!wget -q https://raw.githubusercontent.com/jaimergp/condacolab/main/constructor-example/pip-dependencies.sh"
   ]
  },
  {
   "cell_type": "markdown",
   "metadata": {
    "id": "LqcRCDR9tqVZ"
   },
   "source": [
    "2. Modify the construct.yaml as desired. Here, we will add: \n",
    "\n",
    "  *   numpy 1.19.5\n",
    "  *   pymatgen\n"
   ]
  },
  {
   "cell_type": "markdown",
   "metadata": {
    "id": "pUphV54ot4Uj"
   },
   "source": [
    "3. Install condacolab, conda, and mamba"
   ]
  },
  {
   "cell_type": "code",
   "execution_count": null,
   "metadata": {
    "id": "gNm5p61wbznR"
   },
   "outputs": [],
   "source": [
    "!pip install -q condacolab\n",
    "\n",
    "# Install conda and mamba\n",
    "import condacolab\n",
    "condacolab.install()\n",
    "\n",
    "# Install constructor\n",
    "!mamba install -q constructor"
   ]
  },
  {
   "cell_type": "markdown",
   "metadata": {
    "id": "Nxm8bFr2uT0Z"
   },
   "source": [
    "5. Run constructor to build .sh template file"
   ]
  },
  {
   "cell_type": "code",
   "execution_count": null,
   "metadata": {
    "id": "JCg8ApEYflcj"
   },
   "outputs": [],
   "source": [
    "!constructor ."
   ]
  },
  {
   "cell_type": "markdown",
   "metadata": {
    "id": "DI5w9dc7uWLq"
   },
   "source": [
    "5. Download .sh constructor and upload to"
   ]
  },
  {
   "cell_type": "code",
   "execution_count": null,
   "metadata": {
    "id": "fiKjwx6Vb15b"
   },
   "outputs": [],
   "source": [
    "from google.colab import files\n",
    "installer = !ls *-Linux-x86_64.sh\n",
    "files.download(installer[0])"
   ]
  }
 ],
 "metadata": {
  "colab": {
   "collapsed_sections": [],
   "name": "lesson2_installing_packages.ipynb",
   "provenance": []
  },
  "kernelspec": {
   "display_name": "Python 3 (ipykernel)",
   "language": "python",
   "name": "python3"
  },
  "language_info": {
   "codemirror_mode": {
    "name": "ipython",
    "version": 3
   },
   "file_extension": ".py",
   "mimetype": "text/x-python",
   "name": "python",
   "nbconvert_exporter": "python",
   "pygments_lexer": "ipython3",
   "version": "3.9.6"
  }
 },
 "nbformat": 4,
 "nbformat_minor": 4
}
