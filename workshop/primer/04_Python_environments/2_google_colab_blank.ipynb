{
  "nbformat": 4,
  "nbformat_minor": 0,
  "metadata": {
    "colab": {
      "name": "lesson1_getting_started",
      "provenance": [],
      "collapsed_sections": []
    },
    "kernelspec": {
      "display_name": "Python 3 (ipykernel)",
      "language": "python",
      "name": "python3"
    },
    "language_info": {
      "codemirror_mode": {
        "name": "ipython",
        "version": 3
      },
      "file_extension": ".py",
      "mimetype": "text/x-python",
      "name": "python",
      "nbconvert_exporter": "python",
      "pygments_lexer": "ipython3",
      "version": "3.9.6"
    },
    "accelerator": "GPU"
  },
  "cells": [
    {
      "cell_type": "markdown",
      "metadata": {
        "id": "PuCDmJj-GPHs"
      },
      "source": [
        "# Getting started on Colab"
      ]
    },
    {
      "cell_type": "markdown",
      "metadata": {
        "id": "Htw6z2E3my70"
      },
      "source": [
        "Colab is based on Jupyter, utilizing the same notebook structure, while allowing for quick and easy sharing. Jupyter notebooks can be shared quickly without requiring download or python environment setup."
      ]
    },
    {
      "cell_type": "markdown",
      "metadata": {
        "id": "1ctEH7lUKH5_"
      },
      "source": [
        "## Navigating the notebook"
      ]
    },
    {
      "cell_type": "markdown",
      "metadata": {
        "id": "P4JGHl-WJ_dT"
      },
      "source": [
        "As Colab is based on Jupyter, many jupyter shortcuts are available in colab.\n",
        "For example:\n",
        "\n",
        "- Use `Enter` to select and interact with a cell\n",
        "\n",
        "- Use `Esc` to deselect a cell"
      ]
    },
    {
      "cell_type": "code",
      "metadata": {
        "id": "imfIy8ofKtCE"
      },
      "source": [
        "#Try to type something into this box: "
      ],
      "execution_count": 1,
      "outputs": []
    },
    {
      "cell_type": "markdown",
      "metadata": {
        "id": "8IxbmSoxKk27"
      },
      "source": [
        "- Run a cell using `Shift+Enter`"
      ]
    },
    {
      "cell_type": "markdown",
      "metadata": {
        "id": "TP7a0rG4JFZJ"
      },
      "source": [
        "- Add a code cell above using `a` when not interacting with a cell\n",
        "- Add a code cell below using `b` when not interacting with a cell"
      ]
    },
    {
      "cell_type": "markdown",
      "metadata": {
        "id": "Gz6I5fdmN5nT"
      },
      "source": [
        "## Executing Shell Commands\n",
        "Shell commands are useful to "
      ]
    },
    {
      "cell_type": "markdown",
      "metadata": {
        "id": "J65W4J_HGYMw"
      },
      "source": [
        "## As with jupyter, use the `!` command to execute shell commands "
      ]
    },
    {
      "cell_type": "code",
      "metadata": {
        "colab": {
          "base_uri": "https://localhost:8080/"
        },
        "id": "SUe7PAE99Giw",
        "outputId": "be4f982c-eb0c-4902-b9c0-b303353ca996"
      },
      "source": [
        ""
      ],
      "execution_count": 2,
      "outputs": [
        {
          "output_type": "stream",
          "text": [
            "Python 3.7.11\n"
          ],
          "name": "stdout"
        }
      ]
    },
    {
      "cell_type": "code",
      "metadata": {
        "colab": {
          "base_uri": "https://localhost:8080/"
        },
        "id": "D4GxvDdqGn_j",
        "outputId": "f631c6e5-5371-4360-b998-7b90cbe08e34"
      },
      "source": [
        ""
      ],
      "execution_count": 3,
      "outputs": [
        {
          "output_type": "stream",
          "text": [
            "anscombe.json\t\t      mnist_test.csv\n",
            "california_housing_test.csv   mnist_train_small.csv\n",
            "california_housing_train.csv  README.md\n"
          ],
          "name": "stdout"
        }
      ]
    },
    {
      "cell_type": "markdown",
      "metadata": {
        "id": "UsCXdMNWGzS2"
      },
      "source": [
        "## Use `%%bash` to set entire cell to execute as shell commands"
      ]
    },
    {
      "cell_type": "code",
      "metadata": {
        "colab": {
          "base_uri": "https://localhost:8080/"
        },
        "id": "HZB6SmAb-4hJ",
        "outputId": "b02f5624-2384-4b30-b9d5-fea3cf150f82"
      },
      "source": [
        ""
      ],
      "execution_count": 4,
      "outputs": [
        {
          "output_type": "stream",
          "text": [
            "/content\n",
            "/usr/bin/python3\n"
          ],
          "name": "stdout"
        }
      ]
    },
    {
      "cell_type": "markdown",
      "metadata": {
        "id": "s3ETb0HQvgUt"
      },
      "source": [
        "Shell commands can be combined with python code"
      ]
    },
    {
      "cell_type": "code",
      "metadata": {
        "colab": {
          "base_uri": "https://localhost:8080/"
        },
        "id": "dEodQpVWvtiy",
        "outputId": "0580dbd5-3054-41af-a39e-ba60db39b0e9"
      },
      "source": [
        ""
      ],
      "execution_count": 5,
      "outputs": [
        {
          "output_type": "stream",
          "text": [
            "['/content']\n"
          ],
          "name": "stdout"
        }
      ]
    },
    {
      "cell_type": "markdown",
      "metadata": {
        "id": "MYvYP18Xq26V"
      },
      "source": [
        "## Executing Python Code"
      ]
    },
    {
      "cell_type": "markdown",
      "metadata": {
        "id": "SwUJKAa2rDNh"
      },
      "source": [
        "Colab environment comes with a number of pre-installed  scientific and machine learning packages such as numpy, scipy, pandas, tensorflow, and pytorch.\n",
        "\n",
        "We can check the installed python packages using `pip freeze`"
      ]
    },
    {
      "cell_type": "code",
      "metadata": {
        "colab": {
          "base_uri": "https://localhost:8080/"
        },
        "id": "j-KqmAGtrCc9",
        "outputId": "d97a929a-1ec8-478e-e3f7-c79e71e643b0"
      },
      "source": [
        ""
      ],
      "execution_count": 6,
      "outputs": [
        {
          "output_type": "stream",
          "text": [
            "absl-py==0.12.0\n",
            "alabaster==0.7.12\n",
            "albumentations==0.1.12\n",
            "altair==4.1.0\n",
            "appdirs==1.4.4\n",
            "argon2-cffi==20.1.0\n",
            "arviz==0.11.2\n",
            "astor==0.8.1\n",
            "astropy==4.2.1\n",
            "astunparse==1.6.3\n",
            "async-generator==1.10\n",
            "atari-py==0.2.9\n",
            "atomicwrites==1.4.0\n",
            "attrs==21.2.0\n",
            "audioread==2.1.9\n",
            "autograd==1.3\n",
            "Babel==2.9.1\n",
            "backcall==0.2.0\n",
            "beautifulsoup4==4.6.3\n",
            "bleach==3.3.0\n",
            "blis==0.4.1\n",
            "bokeh==2.3.3\n",
            "Bottleneck==1.3.2\n",
            "branca==0.4.2\n",
            "bs4==0.0.1\n",
            "CacheControl==0.12.6\n",
            "cached-property==1.5.2\n",
            "cachetools==4.2.2\n",
            "catalogue==1.0.0\n",
            "certifi==2021.5.30\n",
            "cffi==1.14.6\n",
            "cftime==1.5.0\n",
            "chardet==3.0.4\n",
            "charset-normalizer==2.0.2\n",
            "click==7.1.2\n",
            "cloudpickle==1.3.0\n",
            "cmake==3.12.0\n",
            "cmdstanpy==0.9.5\n",
            "colorcet==2.0.6\n",
            "colorlover==0.3.0\n",
            "community==1.0.0b1\n",
            "contextlib2==0.5.5\n",
            "convertdate==2.3.2\n",
            "coverage==3.7.1\n",
            "coveralls==0.5\n",
            "crcmod==1.7\n",
            "cufflinks==0.17.3\n",
            "cvxopt==1.2.6\n",
            "cvxpy==1.0.31\n",
            "cycler==0.10.0\n",
            "cymem==2.0.5\n",
            "Cython==0.29.23\n",
            "daft==0.0.4\n",
            "dask==2.12.0\n",
            "datascience==0.10.6\n",
            "debugpy==1.0.0\n",
            "decorator==4.4.2\n",
            "defusedxml==0.7.1\n",
            "descartes==1.1.0\n",
            "dill==0.3.4\n",
            "distributed==1.25.3\n",
            "dlib @ file:///dlib-19.18.0-cp37-cp37m-linux_x86_64.whl\n",
            "dm-tree==0.1.6\n",
            "docopt==0.6.2\n",
            "docutils==0.17.1\n",
            "dopamine-rl==1.0.5\n",
            "earthengine-api==0.1.272\n",
            "easydict==1.9\n",
            "ecos==2.0.7.post1\n",
            "editdistance==0.5.3\n",
            "en-core-web-sm @ https://github.com/explosion/spacy-models/releases/download/en_core_web_sm-2.2.5/en_core_web_sm-2.2.5.tar.gz\n",
            "entrypoints==0.3\n",
            "ephem==4.0.0.2\n",
            "et-xmlfile==1.1.0\n",
            "fa2==0.3.5\n",
            "fastai==1.0.61\n",
            "fastdtw==0.3.4\n",
            "fastprogress==1.0.0\n",
            "fastrlock==0.6\n",
            "fbprophet==0.7.1\n",
            "feather-format==0.4.1\n",
            "filelock==3.0.12\n",
            "firebase-admin==4.4.0\n",
            "fix-yahoo-finance==0.0.22\n",
            "Flask==1.1.4\n",
            "flatbuffers==1.12\n",
            "folium==0.8.3\n",
            "future==0.16.0\n",
            "gast==0.4.0\n",
            "GDAL==2.2.2\n",
            "gdown==3.6.4\n",
            "gensim==3.6.0\n",
            "geographiclib==1.52\n",
            "geopy==1.17.0\n",
            "gin-config==0.4.0\n",
            "glob2==0.7\n",
            "google==2.0.3\n",
            "google-api-core==1.26.3\n",
            "google-api-python-client==1.12.8\n",
            "google-auth==1.32.1\n",
            "google-auth-httplib2==0.0.4\n",
            "google-auth-oauthlib==0.4.4\n",
            "google-cloud-bigquery==1.21.0\n",
            "google-cloud-bigquery-storage==1.1.0\n",
            "google-cloud-core==1.0.3\n",
            "google-cloud-datastore==1.8.0\n",
            "google-cloud-firestore==1.7.0\n",
            "google-cloud-language==1.2.0\n",
            "google-cloud-storage==1.18.1\n",
            "google-cloud-translate==1.5.0\n",
            "google-colab @ file:///colabtools/dist/google-colab-1.0.0.tar.gz\n",
            "google-pasta==0.2.0\n",
            "google-resumable-media==0.4.1\n",
            "googleapis-common-protos==1.53.0\n",
            "googledrivedownloader==0.4\n",
            "graphviz==0.10.1\n",
            "greenlet==1.1.0\n",
            "grpcio==1.34.1\n",
            "gspread==3.0.1\n",
            "gspread-dataframe==3.0.8\n",
            "gym==0.17.3\n",
            "h5py==3.1.0\n",
            "HeapDict==1.0.1\n",
            "hijri-converter==2.1.3\n",
            "holidays==0.10.5.2\n",
            "holoviews==1.14.4\n",
            "html5lib==1.0.1\n",
            "httpimport==0.5.18\n",
            "httplib2==0.17.4\n",
            "httplib2shim==0.0.3\n",
            "humanize==0.5.1\n",
            "hyperopt==0.1.2\n",
            "ideep4py==2.0.0.post3\n",
            "idna==2.10\n",
            "imageio==2.4.1\n",
            "imagesize==1.2.0\n",
            "imbalanced-learn==0.4.3\n",
            "imblearn==0.0\n",
            "imgaug==0.2.9\n",
            "importlib-metadata==4.6.1\n",
            "importlib-resources==5.2.0\n",
            "imutils==0.5.4\n",
            "inflect==2.1.0\n",
            "iniconfig==1.1.1\n",
            "install==1.3.4\n",
            "intel-openmp==2021.3.0\n",
            "intervaltree==2.1.0\n",
            "ipykernel==4.10.1\n",
            "ipython==5.5.0\n",
            "ipython-genutils==0.2.0\n",
            "ipython-sql==0.3.9\n",
            "ipywidgets==7.6.3\n",
            "itsdangerous==1.1.0\n",
            "jax==0.2.17\n",
            "jaxlib @ https://storage.googleapis.com/jax-releases/cuda110/jaxlib-0.1.69+cuda110-cp37-none-manylinux2010_x86_64.whl\n",
            "jdcal==1.4.1\n",
            "jedi==0.18.0\n",
            "jieba==0.42.1\n",
            "Jinja2==2.11.3\n",
            "joblib==1.0.1\n",
            "jpeg4py==0.1.4\n",
            "jsonschema==2.6.0\n",
            "jupyter==1.0.0\n",
            "jupyter-client==5.3.5\n",
            "jupyter-console==5.2.0\n",
            "jupyter-core==4.7.1\n",
            "jupyterlab-pygments==0.1.2\n",
            "jupyterlab-widgets==1.0.0\n",
            "kaggle==1.5.12\n",
            "kapre==0.3.5\n",
            "Keras==2.4.3\n",
            "keras-nightly==2.5.0.dev2021032900\n",
            "Keras-Preprocessing==1.1.2\n",
            "keras-vis==0.4.1\n",
            "kiwisolver==1.3.1\n",
            "korean-lunar-calendar==0.2.1\n",
            "librosa==0.8.1\n",
            "lightgbm==2.2.3\n",
            "llvmlite==0.34.0\n",
            "lmdb==0.99\n",
            "LunarCalendar==0.0.9\n",
            "lxml==4.2.6\n",
            "Markdown==3.3.4\n",
            "MarkupSafe==2.0.1\n",
            "matplotlib==3.2.2\n",
            "matplotlib-inline==0.1.2\n",
            "matplotlib-venn==0.11.6\n",
            "missingno==0.5.0\n",
            "mistune==0.8.4\n",
            "mizani==0.6.0\n",
            "mkl==2019.0\n",
            "mlxtend==0.14.0\n",
            "more-itertools==8.8.0\n",
            "moviepy==0.2.3.5\n",
            "mpmath==1.2.1\n",
            "msgpack==1.0.2\n",
            "multiprocess==0.70.12.2\n",
            "multitasking==0.0.9\n",
            "murmurhash==1.0.5\n",
            "music21==5.5.0\n",
            "natsort==5.5.0\n",
            "nbclient==0.5.3\n",
            "nbconvert==5.6.1\n",
            "nbformat==5.1.3\n",
            "nest-asyncio==1.5.1\n",
            "netCDF4==1.5.7\n",
            "networkx==2.5.1\n",
            "nibabel==3.0.2\n",
            "nltk==3.2.5\n",
            "notebook==5.3.1\n",
            "numba==0.51.2\n",
            "numexpr==2.7.3\n",
            "numpy==1.19.5\n",
            "nvidia-ml-py3==7.352.0\n",
            "oauth2client==4.1.3\n",
            "oauthlib==3.1.1\n",
            "okgrade==0.4.3\n",
            "opencv-contrib-python==4.1.2.30\n",
            "opencv-python==4.1.2.30\n",
            "openpyxl==2.5.9\n",
            "opt-einsum==3.3.0\n",
            "osqp==0.6.2.post0\n",
            "packaging==21.0\n",
            "palettable==3.3.0\n",
            "pandas==1.1.5\n",
            "pandas-datareader==0.9.0\n",
            "pandas-gbq==0.13.3\n",
            "pandas-profiling==1.4.1\n",
            "pandocfilters==1.4.3\n",
            "panel==0.11.3\n",
            "param==1.11.1\n",
            "parso==0.8.2\n",
            "pathlib==1.0.1\n",
            "patsy==0.5.1\n",
            "pexpect==4.8.0\n",
            "pickleshare==0.7.5\n",
            "Pillow==7.1.2\n",
            "pip-tools==4.5.1\n",
            "plac==1.1.3\n",
            "plotly==4.4.1\n",
            "plotnine==0.6.0\n",
            "pluggy==0.7.1\n",
            "pooch==1.4.0\n",
            "portpicker==1.3.9\n",
            "prefetch-generator==1.0.1\n",
            "preshed==3.0.5\n",
            "prettytable==2.1.0\n",
            "progressbar2==3.38.0\n",
            "prometheus-client==0.11.0\n",
            "promise==2.3\n",
            "prompt-toolkit==1.0.18\n",
            "protobuf==3.17.3\n",
            "psutil==5.4.8\n",
            "psycopg2==2.7.6.1\n",
            "ptyprocess==0.7.0\n",
            "py==1.10.0\n",
            "pyarrow==3.0.0\n",
            "pyasn1==0.4.8\n",
            "pyasn1-modules==0.2.8\n",
            "pycocotools==2.0.2\n",
            "pycparser==2.20\n",
            "pyct==0.4.8\n",
            "pydata-google-auth==1.2.0\n",
            "pydot==1.3.0\n",
            "pydot-ng==2.0.0\n",
            "pydotplus==2.0.2\n",
            "PyDrive==1.3.1\n",
            "pyemd==0.5.1\n",
            "pyerfa==2.0.0\n",
            "pyglet==1.5.0\n",
            "Pygments==2.6.1\n",
            "pygobject==3.26.1\n",
            "pymc3==3.11.2\n",
            "PyMeeus==0.5.11\n",
            "pymongo==3.11.4\n",
            "pymystem3==0.2.0\n",
            "PyOpenGL==3.1.5\n",
            "pyparsing==2.4.7\n",
            "pyrsistent==0.18.0\n",
            "pysndfile==1.3.8\n",
            "PySocks==1.7.1\n",
            "pystan==2.19.1.1\n",
            "pytest==3.6.4\n",
            "python-apt==0.0.0\n",
            "python-chess==0.23.11\n",
            "python-dateutil==2.8.1\n",
            "python-louvain==0.15\n",
            "python-slugify==5.0.2\n",
            "python-utils==2.5.6\n",
            "pytz==2018.9\n",
            "pyviz-comms==2.1.0\n",
            "PyWavelets==1.1.1\n",
            "PyYAML==3.13\n",
            "pyzmq==22.1.0\n",
            "qdldl==0.1.5.post0\n",
            "qtconsole==5.1.1\n",
            "QtPy==1.9.0\n",
            "regex==2019.12.20\n",
            "requests==2.23.0\n",
            "requests-oauthlib==1.3.0\n",
            "resampy==0.2.2\n",
            "retrying==1.3.3\n",
            "rpy2==3.4.5\n",
            "rsa==4.7.2\n",
            "scikit-image==0.16.2\n",
            "scikit-learn==0.22.2.post1\n",
            "scipy==1.4.1\n",
            "screen-resolution-extra==0.0.0\n",
            "scs==2.1.4\n",
            "seaborn==0.11.1\n",
            "semver==2.13.0\n",
            "Send2Trash==1.7.1\n",
            "setuptools-git==1.2\n",
            "Shapely==1.7.1\n",
            "simplegeneric==0.8.1\n",
            "six==1.15.0\n",
            "sklearn==0.0\n",
            "sklearn-pandas==1.8.0\n",
            "smart-open==5.1.0\n",
            "snowballstemmer==2.1.0\n",
            "sortedcontainers==2.4.0\n",
            "SoundFile==0.10.3.post1\n",
            "spacy==2.2.4\n",
            "Sphinx==1.8.5\n",
            "sphinxcontrib-serializinghtml==1.1.5\n",
            "sphinxcontrib-websupport==1.2.4\n",
            "SQLAlchemy==1.4.20\n",
            "sqlparse==0.4.1\n",
            "srsly==1.0.5\n",
            "statsmodels==0.10.2\n",
            "sympy==1.7.1\n",
            "tables==3.4.4\n",
            "tabulate==0.8.9\n",
            "tblib==1.7.0\n",
            "tensorboard==2.5.0\n",
            "tensorboard-data-server==0.6.1\n",
            "tensorboard-plugin-wit==1.8.0\n",
            "tensorflow @ file:///tensorflow-2.5.0-cp37-cp37m-linux_x86_64.whl\n",
            "tensorflow-datasets==4.0.1\n",
            "tensorflow-estimator==2.5.0\n",
            "tensorflow-gcs-config==2.5.0\n",
            "tensorflow-hub==0.12.0\n",
            "tensorflow-metadata==1.1.0\n",
            "tensorflow-probability==0.13.0\n",
            "termcolor==1.1.0\n",
            "terminado==0.10.1\n",
            "testpath==0.5.0\n",
            "text-unidecode==1.3\n",
            "textblob==0.15.3\n",
            "Theano-PyMC==1.1.2\n",
            "thinc==7.4.0\n",
            "tifffile==2021.7.2\n",
            "toml==0.10.2\n",
            "toolz==0.11.1\n",
            "torch @ https://download.pytorch.org/whl/cu102/torch-1.9.0%2Bcu102-cp37-cp37m-linux_x86_64.whl\n",
            "torchsummary==1.5.1\n",
            "torchtext==0.10.0\n",
            "torchvision @ https://download.pytorch.org/whl/cu102/torchvision-0.10.0%2Bcu102-cp37-cp37m-linux_x86_64.whl\n",
            "tornado==5.1.1\n",
            "tqdm==4.41.1\n",
            "traitlets==5.0.5\n",
            "tweepy==3.10.0\n",
            "typeguard==2.7.1\n",
            "typing-extensions==3.7.4.3\n",
            "tzlocal==1.5.1\n",
            "uritemplate==3.0.1\n",
            "urllib3==1.24.3\n",
            "vega-datasets==0.9.0\n",
            "wasabi==0.8.2\n",
            "wcwidth==0.2.5\n",
            "webencodings==0.5.1\n",
            "Werkzeug==1.0.1\n",
            "widgetsnbextension==3.5.1\n",
            "wordcloud==1.5.0\n",
            "wrapt==1.12.1\n",
            "xarray==0.18.2\n",
            "xgboost==0.90\n",
            "xkit==0.0.0\n",
            "xlrd==1.1.0\n",
            "xlwt==1.3.0\n",
            "yellowbrick==0.9.1\n",
            "zict==2.0.0\n",
            "zipp==3.5.0\n"
          ],
          "name": "stdout"
        }
      ]
    },
    {
      "cell_type": "markdown",
      "metadata": {
        "id": "gG31T3IxG9yH"
      },
      "source": [
        "# Runtimes"
      ]
    },
    {
      "cell_type": "markdown",
      "metadata": {
        "id": "XOYTfKojIxr_"
      },
      "source": [
        "Each Colab instance (runtime) runs on an individual Virtual Machine(VM). "
      ]
    },
    {
      "cell_type": "markdown",
      "metadata": {
        "id": "iAC5do2bLW_b"
      },
      "source": [
        "To view active sessions, select Runtime > Manage Sessions. \n",
        "\n",
        "Here you will be able to view all your open notebooks (and terminate them)."
      ]
    },
    {
      "cell_type": "markdown",
      "metadata": {
        "id": "DaDS10tyKUQ6"
      },
      "source": [
        "---\n",
        "By Default, Colab instances have access to CPUs, however notebooks have access to GPU and TPU resources. "
      ]
    },
    {
      "cell_type": "markdown",
      "metadata": {
        "id": "Pbl9Ic0fMcOm"
      },
      "source": [
        "To initialize a runtime with a GPU, \n",
        "\n",
        "\n",
        "1.   Select 'Runtime' > 'Change Runtime Type'\n",
        "2.   Select 'GPU' in the drop down menu and click 'Save'\n",
        "\n"
      ]
    },
    {
      "cell_type": "markdown",
      "metadata": {
        "id": "Am7Zk1vmOPSU"
      },
      "source": [
        "We'll test the GPU using the [example](https://colab.research.google.com/notebooks/gpu.ipynb) provided by colab."
      ]
    },
    {
      "cell_type": "code",
      "metadata": {
        "colab": {
          "base_uri": "https://localhost:8080/"
        },
        "id": "2-9u4NL6No11",
        "outputId": "d7c2fd8f-5be2-4836-9eaa-2e925a7fd453"
      },
      "source": [
        "%tensorflow_version 2.x\n",
        "import tensorflow as tf\n",
        "import timeit\n",
        "\n",
        "device_name = tf.test.gpu_device_name()\n",
        "if device_name != '/device:GPU:0':\n",
        "  print(\n",
        "      '\\n\\nThis error most likely means that this notebook is not '\n",
        "      'configured to use a GPU.  Change this in Notebook Settings via the '\n",
        "      'command palette (cmd/ctrl-shift-P) or the Edit menu.\\n\\n')\n",
        "  raise SystemError('GPU device not found')\n",
        "\n",
        "def cpu():\n",
        "  with tf.device('/cpu:0'):\n",
        "    random_image_cpu = tf.random.normal((100, 100, 100, 3))\n",
        "    net_cpu = tf.keras.layers.Conv2D(32, 7)(random_image_cpu)\n",
        "    return tf.math.reduce_sum(net_cpu)\n",
        "\n",
        "def gpu():\n",
        "  with tf.device('/device:GPU:0'):\n",
        "    random_image_gpu = tf.random.normal((100, 100, 100, 3))\n",
        "    net_gpu = tf.keras.layers.Conv2D(32, 7)(random_image_gpu)\n",
        "    return tf.math.reduce_sum(net_gpu)\n",
        "  \n",
        "# We run each op once to warm up; see: https://stackoverflow.com/a/45067900\n",
        "cpu()\n",
        "gpu()\n",
        "\n",
        "# Run the op several times.\n",
        "print('Time (s) to convolve 32x7x7x3 filter over random 100x100x100x3 images '\n",
        "      '(batch x height x width x channel). Sum of ten runs.')\n",
        "print('CPU (s):')\n",
        "cpu_time = timeit.timeit('cpu()', number=10, setup=\"from __main__ import cpu\")\n",
        "print(cpu_time)\n",
        "print('GPU (s):')\n",
        "gpu_time = timeit.timeit('gpu()', number=10, setup=\"from __main__ import gpu\")\n",
        "print(gpu_time)\n",
        "print('GPU speedup over CPU: {}x'.format(int(cpu_time/gpu_time)))"
      ],
      "execution_count": 1,
      "outputs": [
        {
          "output_type": "stream",
          "text": [
            "Time (s) to convolve 32x7x7x3 filter over random 100x100x100x3 images (batch x height x width x channel). Sum of ten runs.\n",
            "CPU (s):\n",
            "2.800848473000002\n",
            "GPU (s):\n",
            "0.03377948799999331\n",
            "GPU speedup over CPU: 82x\n"
          ],
          "name": "stdout"
        }
      ]
    },
    {
      "cell_type": "markdown",
      "metadata": {
        "id": "XJsEWVbRXoHw"
      },
      "source": [
        "# Install Conda using conda-colab\n",
        "Google Colab does contain a pre-installed version of conda. Conda is a package manager and environment manager.\n",
        "\n",
        "This will allow you to use conda to install packages"
      ]
    },
    {
      "cell_type": "code",
      "metadata": {
        "id": "JpDm2ypyZfMD"
      },
      "source": [
        ""
      ],
      "execution_count": 2,
      "outputs": []
    },
    {
      "cell_type": "markdown",
      "metadata": {
        "id": "faXB6tMOcT2z"
      },
      "source": [
        "To simplify the conda installation, we use [condacolab](https://pypi.org/project/condacolab/). "
      ]
    },
    {
      "cell_type": "code",
      "metadata": {
        "colab": {
          "base_uri": "https://localhost:8080/"
        },
        "id": "pOoEqgtKQL7X",
        "outputId": "dc3de54a-5c2d-48cd-fc23-eb03d90e689b"
      },
      "source": [
        ""
      ],
      "execution_count": 3,
      "outputs": [
        {
          "output_type": "stream",
          "text": [
            "1 loop, best of 1: 3.06 s per loop\n"
          ],
          "name": "stdout"
        }
      ]
    },
    {
      "cell_type": "code",
      "metadata": {
        "colab": {
          "base_uri": "https://localhost:8080/"
        },
        "id": "yqiixsVMQPsq",
        "outputId": "e9fe6278-d7f5-4200-a170-0f0af4f1f775"
      },
      "source": [
        ""
      ],
      "execution_count": 4,
      "outputs": [
        {
          "output_type": "stream",
          "text": [
            "⏬ Downloading https://github.com/jaimergp/miniforge/releases/latest/download/Mambaforge-colab-Linux-x86_64.sh...\n",
            "📦 Installing...\n",
            "📌 Adjusting configuration...\n",
            "🩹 Patching environment...\n",
            "⏲ Done in 0:00:36\n",
            "🔁 Restarting kernel...\n",
            "1 loop, best of 1: 36.4 s per loop\n"
          ],
          "name": "stdout"
        }
      ]
    },
    {
      "cell_type": "markdown",
      "metadata": {
        "id": "DSetNfuXZh67"
      },
      "source": [
        "After running condacolab.install(), conda and mamba are installed. Conda and Mamba are functionally equivalent, however conda is written in python, whilst Mamba is written in C. \n",
        "\n",
        "In our lesson, we use Mamba to leverage its speed (as compared to Conda). However, we note that Mamba can be more prone to bugs, as it is relatively new and less popular."
      ]
    },
    {
      "cell_type": "code",
      "metadata": {
        "colab": {
          "base_uri": "https://localhost:8080/"
        },
        "id": "u61ZCG7ubOTF",
        "outputId": "a24321d8-9c70-492c-e357-ec1b51a44964"
      },
      "source": [
        ""
      ],
      "execution_count": 5,
      "outputs": [
        {
          "output_type": "stream",
          "text": [
            "/usr/local/bin/conda\n",
            "/usr/local/bin/mamba\n"
          ],
          "name": "stdout"
        }
      ]
    },
    {
      "cell_type": "markdown",
      "metadata": {
        "id": "m6xH_dS_XszC"
      },
      "source": [
        "For compatibility with colab, we will need to ensure the numpy version is unchanged when we install packages (such as pymatgen).\n",
        "\n",
        "To identify the numpy version factory installed on colab:"
      ]
    },
    {
      "cell_type": "code",
      "metadata": {
        "colab": {
          "base_uri": "https://localhost:8080/"
        },
        "id": "9ZwllzNPVg1r",
        "outputId": "6bd8a07b-f0b1-4e1e-8977-f0c0171d0e4a"
      },
      "source": [
        ""
      ],
      "execution_count": 1,
      "outputs": [
        {
          "output_type": "stream",
          "text": [
            "1.19.5\n"
          ],
          "name": "stdout"
        }
      ]
    },
    {
      "cell_type": "markdown",
      "metadata": {
        "id": "jmrwl3RcX0d7"
      },
      "source": [
        "The current version of numpy is v1.19.5, thus we specify mamba to install this specific version."
      ]
    },
    {
      "cell_type": "code",
      "metadata": {
        "colab": {
          "base_uri": "https://localhost:8080/"
        },
        "id": "Q4JEeqCUSZcA",
        "outputId": "599026f6-aca7-449b-8066-0df93db11e8b"
      },
      "source": [
        ""
      ],
      "execution_count": 2,
      "outputs": [
        {
          "output_type": "stream",
          "text": [
            "  Package                Version  Build                       Channel                    Size\n",
            "───────────────────────────────────────────────────────────────────────────────────────────────\n",
            "  Install:\n",
            "───────────────────────────────────────────────────────────────────────────────────────────────\n",
            "\n",
            "\u001b[32m  apscheduler       \u001b[00m       3.7.0  py37h89c1867_0              conda-forge/linux-64      81 KB\n",
            "\u001b[32m  ase               \u001b[00m      3.22.0  pyhd8ed1ab_0                conda-forge/noarch         2 MB\n",
            "\u001b[32m  beautifulsoup4    \u001b[00m       4.9.3  pyhb0f4dca_0                conda-forge/noarch        86 KB\n",
            "\u001b[32m  cftime            \u001b[00m       1.5.0  py37h6f94858_0              conda-forge/linux-64     224 KB\n",
            "\u001b[32m  click             \u001b[00m       8.0.1  py37h89c1867_0              conda-forge/linux-64     145 KB\n",
            "\u001b[32m  curl              \u001b[00m      7.75.0  h979ede3_0                  conda-forge/linux-64     147 KB\n",
            "\u001b[32m  cycler            \u001b[00m      0.10.0  py_2                        conda-forge/noarch         9 KB\n",
            "\u001b[32m  dataclasses       \u001b[00m         0.8  pyhc8e2a94_1                conda-forge/noarch         7 KB\n",
            "\u001b[32m  decorator         \u001b[00m       4.4.2  py_0                        conda-forge/noarch        11 KB\n",
            "\u001b[32m  double-conversion \u001b[00m       3.1.5  he1b5a44_2                  conda-forge/linux-64      85 KB\n",
            "\u001b[32m  eigen             \u001b[00m       3.3.9  h4bd325d_1                  conda-forge/linux-64     970 KB\n",
            "\u001b[32m  expat             \u001b[00m       2.4.1  h9c3ff4c_0                  conda-forge/linux-64     182 KB\n",
            "\u001b[32m  ffmpeg            \u001b[00m       4.3.1  hca11adc_2                  conda-forge/linux-64      92 MB\n",
            "\u001b[32m  flask             \u001b[00m       2.0.1  pyhd8ed1ab_0                conda-forge/noarch        70 KB\n",
            "\u001b[32m  freetype          \u001b[00m      2.10.4  h0708190_1                  conda-forge/linux-64     890 KB\n",
            "\u001b[32m  future            \u001b[00m      0.18.2  py37h89c1867_3              conda-forge/linux-64     714 KB\n",
            "\u001b[32m  gettext           \u001b[00m      0.21.0  hf68c758_0                  pkgs/main/linux-64         3 MB\n",
            "\u001b[32m  giflib            \u001b[00m       5.2.1  h516909a_2                  conda-forge/linux-64      80 KB\n",
            "\u001b[32m  gl2ps             \u001b[00m       1.4.2  he06d7ca_0                  conda-forge/linux-64     134 KB\n",
            "\u001b[32m  glew              \u001b[00m       2.1.0  h9c3ff4c_2                  conda-forge/linux-64     647 KB\n",
            "\u001b[32m  gmp               \u001b[00m       6.2.1  h58526e2_0                  conda-forge/linux-64     806 KB\n",
            "\u001b[32m  gmpy2             \u001b[00m     2.1.0b5  py37h025e8b9_0              conda-forge/linux-64     207 KB\n",
            "\u001b[32m  gnutls            \u001b[00m      3.6.15  he1e5248_0                  pkgs/main/linux-64         1 MB\n",
            "\u001b[32m  hdf4              \u001b[00m      4.2.15  h10796ff_3                  conda-forge/linux-64     950 KB\n",
            "\u001b[32m  hdf5              \u001b[00m      1.10.6  nompi_h6a2412b_1114         conda-forge/linux-64       3 MB\n",
            "\u001b[32m  importlib-metadata\u001b[00m       4.6.1  py37h89c1867_0              conda-forge/linux-64      31 KB\n",
            "\u001b[32m  itsdangerous      \u001b[00m       2.0.1  pyhd8ed1ab_0                conda-forge/noarch        17 KB\n",
            "\u001b[32m  jinja2            \u001b[00m       3.0.1  pyhd8ed1ab_0                conda-forge/noarch        99 KB\n",
            "\u001b[32m  jpeg              \u001b[00m          9d  h516909a_0                  conda-forge/linux-64     266 KB\n",
            "\u001b[32m  jsoncpp           \u001b[00m       1.9.4  h4bd325d_3                  conda-forge/linux-64     262 KB\n",
            "\u001b[32m  kiwisolver        \u001b[00m       1.3.1  py37h2527ec5_1              conda-forge/linux-64      78 KB\n",
            "\u001b[32m  lame              \u001b[00m       3.100  h14c3975_1001               conda-forge/linux-64     498 KB\n",
            "\u001b[32m  latexcodec        \u001b[00m       2.0.1  pyh9f0ad1d_0                conda-forge/noarch        18 KB\n",
            "\u001b[32m  lcms2             \u001b[00m        2.12  hddcbb42_0                  conda-forge/linux-64     443 KB\n",
            "\u001b[32m  libblas           \u001b[00m       3.9.0  10_openblas                 conda-forge/linux-64      11 KB\n",
            "\u001b[32m  libcblas          \u001b[00m       3.9.0  10_openblas                 conda-forge/linux-64      11 KB\n",
            "\u001b[32m  libgfortran-ng    \u001b[00m       9.3.0  hff62375_19                 conda-forge/linux-64      22 KB\n",
            "\u001b[32m  libgfortran5      \u001b[00m       9.3.0  hff62375_19                 conda-forge/linux-64       2 MB\n",
            "\u001b[32m  libglu            \u001b[00m       9.0.0  he1b5a44_1001               conda-forge/linux-64     413 KB\n",
            "\u001b[32m  libidn2           \u001b[00m       2.3.2  h7f98852_0                  conda-forge/linux-64      98 KB\n",
            "\u001b[32m  liblapack         \u001b[00m       3.9.0  10_openblas                 conda-forge/linux-64      11 KB\n",
            "\u001b[32m  libnetcdf         \u001b[00m       4.7.4  nompi_h56d31a8_107          conda-forge/linux-64       1 MB\n",
            "\u001b[32m  libogg            \u001b[00m       1.3.5  h27cfd23_1                  pkgs/main/linux-64       199 KB\n",
            "\u001b[32m  libopenblas       \u001b[00m      0.3.17  pthreads_h8fe5266_1         conda-forge/linux-64       9 MB\n",
            "\u001b[32m  libpng            \u001b[00m      1.6.37  hed695b0_2                  conda-forge/linux-64     359 KB\n",
            "\u001b[32m  libtasn1          \u001b[00m      4.16.0  h27cfd23_0                  pkgs/main/linux-64        58 KB\n",
            "\u001b[32m  libtheora         \u001b[00m       1.1.1  h7f98852_1005               conda-forge/linux-64     651 KB\n",
            "\u001b[32m  libtiff           \u001b[00m       4.2.0  hbd63e13_2                  conda-forge/linux-64     639 KB\n",
            "\u001b[32m  libunistring      \u001b[00m      0.9.10  h14c3975_0                  conda-forge/linux-64       1 MB\n",
            "\u001b[32m  libuuid           \u001b[00m      2.32.1  h14c3975_1000               conda-forge/linux-64      26 KB\n",
            "\u001b[32m  libvorbis         \u001b[00m       1.3.7  he1b5a44_0                  conda-forge/linux-64     287 KB\n",
            "\u001b[32m  libwebp           \u001b[00m       1.2.0  h3452ae3_0                  conda-forge/linux-64      85 KB\n",
            "\u001b[32m  libwebp-base      \u001b[00m       1.2.0  h7f98852_2                  conda-forge/linux-64     815 KB\n",
            "\u001b[32m  libxcb            \u001b[00m        1.14  h7b6447c_0                  pkgs/main/linux-64       505 KB\n",
            "\u001b[32m  loguru            \u001b[00m       0.5.3  py37hc8dfbb8_2              conda-forge/linux-64      85 KB\n",
            "\u001b[32m  markupsafe        \u001b[00m       2.0.1  py37h5e8e339_0              conda-forge/linux-64      22 KB\n",
            "\u001b[32m  matplotlib-base   \u001b[00m       3.4.2  py37hdd32ed1_0              conda-forge/linux-64       7 MB\n",
            "\u001b[32m  monty             \u001b[00m    2021.7.8  pyhd8ed1ab_0                conda-forge/noarch        37 KB\n",
            "\u001b[32m  mpc               \u001b[00m       1.1.0  h04dde30_1009               conda-forge/linux-64     105 KB\n",
            "\u001b[32m  mpfr              \u001b[00m       4.0.2  he80fd80_1                  conda-forge/linux-64     648 KB\n",
            "\u001b[32m  mpmath            \u001b[00m       1.2.1  pyhd8ed1ab_0                conda-forge/noarch       437 KB\n",
            "\u001b[32m  netcdf4           \u001b[00m       1.5.6  nompi_py37hf7b6e46_102      conda-forge/linux-64     528 KB\n",
            "\u001b[32m  nettle            \u001b[00m       3.7.3  hbbd107a_1                  pkgs/main/linux-64       809 KB\n",
            "\u001b[32m  networkx          \u001b[00m       2.6.2  pyhd8ed1ab_0                conda-forge/noarch         1 MB\n",
            "\u001b[32m  numpy             \u001b[00m      1.19.5  py37h038b26d_2              conda-forge/linux-64       5 MB\n",
            "\u001b[32m  olefile           \u001b[00m        0.46  pyh9f0ad1d_1                conda-forge/noarch        32 KB\n",
            "\u001b[32m  openh264          \u001b[00m       2.1.1  h780b84a_0                  conda-forge/linux-64       2 MB\n",
            "\u001b[32m  palettable        \u001b[00m       3.3.0  py_0                        conda-forge/noarch        86 KB\n",
            "\u001b[32m  pandas            \u001b[00m       1.3.1  py37h219a48f_0              conda-forge/linux-64      13 MB\n",
            "\u001b[32m  pillow            \u001b[00m       8.3.1  py37h5aabda8_0              pkgs/main/linux-64       633 KB\n",
            "\u001b[32m  plotly            \u001b[00m       5.1.0  pyhd8ed1ab_1                conda-forge/noarch         7 MB\n",
            "\u001b[32m  proj              \u001b[00m       7.2.0  h277dcde_2                  conda-forge/linux-64       3 MB\n",
            "\u001b[32m  pugixml           \u001b[00m      1.11.4  h9c3ff4c_0                  conda-forge/linux-64     125 KB\n",
            "\u001b[32m  pybtex            \u001b[00m      0.24.0  py37h89c1867_0              conda-forge/linux-64     305 KB\n",
            "\u001b[32m  pymatgen          \u001b[00m  2020.12.31  py37h2527ec5_0              conda-forge/linux-64       3 MB\n",
            "\u001b[32m  pyparsing         \u001b[00m       2.4.7  pyh9f0ad1d_0                conda-forge/noarch        60 KB\n",
            "\u001b[32m  python-dateutil   \u001b[00m       2.8.2  pyhd8ed1ab_0                conda-forge/noarch       240 KB\n",
            "\u001b[32m  pytz              \u001b[00m      2021.1  pyhd8ed1ab_0                conda-forge/noarch       239 KB\n",
            "\u001b[32m  pyyaml            \u001b[00m       5.4.1  py37h5e8e339_0              conda-forge/linux-64     189 KB\n",
            "\u001b[32m  ruamel.yaml       \u001b[00m     0.17.10  py37h5e8e339_0              conda-forge/linux-64     169 KB\n",
            "\u001b[32m  ruamel.yaml.clib  \u001b[00m       0.2.2  py37h5e8e339_2              conda-forge/linux-64     171 KB\n",
            "\u001b[32m  scipy             \u001b[00m       1.7.0  py37h29e03ee_1              conda-forge/linux-64      22 MB\n",
            "\u001b[32m  soupsieve         \u001b[00m       2.2.1  pyhd3eb1b0_0                pkgs/main/noarch          32 KB\n",
            "\u001b[32m  spglib            \u001b[00m      1.16.1  py37h902c9e0_0              conda-forge/linux-64     610 KB\n",
            "\u001b[32m  sympy             \u001b[00m         1.8  py37h89c1867_0              conda-forge/linux-64      11 MB\n",
            "\u001b[32m  tabulate          \u001b[00m       0.8.9  pyhd8ed1ab_0                conda-forge/noarch        26 KB\n",
            "\u001b[32m  tbb               \u001b[00m      2020.3  hfd86e86_0                  pkgs/main/linux-64         1 MB\n",
            "\u001b[32m  tbb-devel         \u001b[00m      2020.3  hfd86e86_0                  pkgs/main/linux-64         1 MB\n",
            "\u001b[32m  tenacity          \u001b[00m       8.0.1  pyhd8ed1ab_0                conda-forge/noarch        21 KB\n",
            "\u001b[32m  tornado           \u001b[00m         6.1  py37h5e8e339_1              conda-forge/linux-64     646 KB\n",
            "\u001b[32m  typing_extensions \u001b[00m    3.10.0.0  pyha770c72_0                conda-forge/noarch        28 KB\n",
            "\u001b[32m  tzlocal           \u001b[00m       2.0.0  py_0                        conda-forge/noarch        17 KB\n",
            "\u001b[32m  uncertainties     \u001b[00m       3.1.6  pyhd8ed1ab_0                conda-forge/noarch        76 KB\n",
            "\u001b[32m  utfcpp            \u001b[00m       3.2.1  ha770c72_0                  conda-forge/linux-64      10 KB\n",
            "\u001b[32m  vtk               \u001b[00m       9.0.1  no_osmesa_py37hd45ff58_104  conda-forge/linux-64      36 MB\n",
            "\u001b[32m  werkzeug          \u001b[00m       2.0.1  pyhd8ed1ab_0                conda-forge/noarch       219 KB\n",
            "\u001b[32m  x264              \u001b[00m  1!161.3030  h7f98852_1                  conda-forge/linux-64       2 MB\n",
            "\u001b[32m  xorg-kbproto      \u001b[00m       1.0.7  h14c3975_1002               conda-forge/linux-64      26 KB\n",
            "\u001b[32m  xorg-libice       \u001b[00m      1.0.10  h516909a_0                  conda-forge/linux-64      57 KB\n",
            "\u001b[32m  xorg-libsm        \u001b[00m       1.2.3  hd9c2040_1000               conda-forge/linux-64      26 KB\n",
            "\u001b[32m  xorg-libx11       \u001b[00m       1.7.2  h7f98852_0                  conda-forge/linux-64     941 KB\n",
            "\u001b[32m  xorg-libxext      \u001b[00m       1.3.4  h7f98852_1                  conda-forge/linux-64      54 KB\n",
            "\u001b[32m  xorg-libxt        \u001b[00m       1.2.1  h7f98852_2                  conda-forge/linux-64     375 KB\n",
            "\u001b[32m  xorg-xextproto    \u001b[00m       7.3.0  h14c3975_1002               conda-forge/linux-64      27 KB\n",
            "\u001b[32m  xorg-xproto       \u001b[00m      7.0.31  h14c3975_1007               conda-forge/linux-64      72 KB\n",
            "\u001b[32m  zipp              \u001b[00m       3.5.0  pyhd8ed1ab_0                conda-forge/noarch        12 KB\n",
            "\n",
            "  Upgrade:\n",
            "───────────────────────────────────────────────────────────────────────────────────────────────\n",
            "\n",
            "\u001b[31m  ca-certificates   \u001b[00m   2020.12.5  ha878542_0                  installed                      \n",
            "\u001b[32m  ca-certificates   \u001b[00m    2021.7.5  h06a4308_1                  pkgs/main/linux-64       113 KB\n",
            "\u001b[31m  certifi           \u001b[00m   2020.12.5  py37h89c1867_1              installed                      \n",
            "\u001b[32m  certifi           \u001b[00m   2021.5.30  py37h89c1867_0              conda-forge/linux-64     141 KB\n",
            "\u001b[31m  openssl           \u001b[00m      1.1.1j  h7f98852_0                  installed                      \n",
            "\u001b[32m  openssl           \u001b[00m      1.1.1k  h7f98852_0                  conda-forge/linux-64       2 MB\n",
            "\n",
            "  Summary:\n",
            "\n",
            "  Install: 106 packages\n",
            "  Upgrade: 3 packages\n",
            "\n",
            "  Total download: 251 MB\n",
            "\n",
            "───────────────────────────────────────────────────────────────────────────────────────────────\n",
            "\n",
            "Preparing transaction: ...working... done\n",
            "Verifying transaction: ...working... done\n",
            "Executing transaction: ...working... done\n",
            "1 loop, best of 1: 1min 11s per loop\n"
          ],
          "name": "stdout"
        }
      ]
    },
    {
      "cell_type": "markdown",
      "metadata": {
        "id": "YJ53xLpRbSkB"
      },
      "source": [
        "Installation of pymatgen is complete. We test the install by creating a dummy structure"
      ]
    },
    {
      "cell_type": "code",
      "metadata": {
        "id": "8zxeAwzLSZ_D"
      },
      "source": [
        ""
      ],
      "execution_count": 3,
      "outputs": []
    },
    {
      "cell_type": "code",
      "metadata": {
        "colab": {
          "base_uri": "https://localhost:8080/"
        },
        "id": "GjIRAlv9U9HO",
        "outputId": "87c0e871-b0c5-4788-ff2b-65b9d09baaa2"
      },
      "source": [
        ""
      ],
      "execution_count": 4,
      "outputs": [
        {
          "output_type": "execute_result",
          "data": {
            "text/plain": [
              "Structure Summary\n",
              "Lattice\n",
              "    abc : 1.0 1.0 1.0\n",
              " angles : 90.0 90.0 90.0\n",
              " volume : 1.0\n",
              "      A : 1.0 0.0 0.0\n",
              "      B : 0.0 1.0 0.0\n",
              "      C : 0.0 0.0 1.0\n",
              "PeriodicSite: Li (0.0000, 0.0000, 0.0000) [0.0000, 0.0000, 0.0000]"
            ]
          },
          "metadata": {
            "tags": []
          },
          "execution_count": 4
        }
      ]
    },
    {
      "cell_type": "markdown",
      "metadata": {
        "id": "BjT3HZIbdRV7"
      },
      "source": [
        "# Setup environment using conda constructor.\n",
        "---\n",
        "\n",
        "\n",
        "1.   First, we want to remove our previous installations by resetting our runtime to factory defaults. This process will revert the environment to its original state, removing any added packages or restoring deleted system files.\n",
        "  *   Runtime > Factory reset runtime\n",
        "\n"
      ]
    },
    {
      "cell_type": "markdown",
      "metadata": {
        "id": "eeoPe5vQIHAH"
      },
      "source": [
        "\n",
        "2.   Next, we install conda colab"
      ]
    },
    {
      "cell_type": "code",
      "metadata": {
        "id": "3NMEY8jpIMWO"
      },
      "source": [
        ""
      ],
      "execution_count": 5,
      "outputs": []
    },
    {
      "cell_type": "markdown",
      "metadata": {
        "id": "171eqBlzIMjf"
      },
      "source": [
        "\n",
        "3.   Finally, we install using the constructor we have built for the workshop."
      ]
    },
    {
      "cell_type": "code",
      "metadata": {
        "colab": {
          "base_uri": "https://localhost:8080/"
        },
        "id": "rL0nO8MFfYnn",
        "outputId": "29857015-ef80-4e4e-ee89-fd640cbf2b43"
      },
      "source": [
        ""
      ],
      "execution_count": 6,
      "outputs": [
        {
          "output_type": "stream",
          "text": [
            "✨🍰✨ Everything looks OK!\n"
          ],
          "name": "stdout"
        }
      ]
    },
    {
      "cell_type": "code",
      "metadata": {
        "id": "7pLkgEbC4gfd"
      },
      "source": [
        ""
      ],
      "execution_count": 7,
      "outputs": []
    },
    {
      "cell_type": "code",
      "metadata": {
        "colab": {
          "base_uri": "https://localhost:8080/"
        },
        "id": "veTfmf264hH5",
        "outputId": "c4abe8db-b85e-453a-baf2-ec50d29a9cc9"
      },
      "source": [
        ""
      ],
      "execution_count": 8,
      "outputs": [
        {
          "output_type": "execute_result",
          "data": {
            "text/plain": [
              "Structure Summary\n",
              "Lattice\n",
              "    abc : 1.0 1.0 1.0\n",
              " angles : 90.0 90.0 90.0\n",
              " volume : 1.0\n",
              "      A : 1.0 0.0 0.0\n",
              "      B : 0.0 1.0 0.0\n",
              "      C : 0.0 0.0 1.0\n",
              "PeriodicSite: Li (0.0000, 0.0000, 0.0000) [0.0000, 0.0000, 0.0000]"
            ]
          },
          "metadata": {
            "tags": []
          },
          "execution_count": 8
        }
      ]
    },
    {
      "cell_type": "markdown",
      "metadata": {
        "id": "TlWy5dU9bxtQ"
      },
      "source": [
        "# Building a conda constructor\n",
        "To build your own environment constructor (to save time when restarting notebook)\n",
        "\n",
        "Adapted from this [notebook](https://colab.research.google.com/github/jaimergp/condacolab/blob/main/constructor-example/condacolab_constructor_tutorial.ipynb#scrollTo=-RDpyAYfXk9L)\n"
      ]
    },
    {
      "cell_type": "markdown",
      "metadata": {
        "id": "5BDO0Lqctf5V"
      },
      "source": [
        "1. Download the templates constructor\n",
        "\n"
      ]
    },
    {
      "cell_type": "code",
      "metadata": {
        "id": "GdtsZqUqfO_l"
      },
      "source": [
        "!wget -q https://raw.githubusercontent.com/jaimergp/condacolab/main/constructor-example/construct.yaml\n",
        "!wget -q https://raw.githubusercontent.com/jaimergp/condacolab/main/constructor-example/pip-dependencies.sh"
      ],
      "execution_count": null,
      "outputs": []
    },
    {
      "cell_type": "markdown",
      "metadata": {
        "id": "LqcRCDR9tqVZ"
      },
      "source": [
        "2. Modify the construct.yaml as desired. Here, we will add: \n",
        "\n",
        "  *   numpy 1.19.5\n",
        "  *   pymatgen\n"
      ]
    },
    {
      "cell_type": "markdown",
      "metadata": {
        "id": "pUphV54ot4Uj"
      },
      "source": [
        "3. Install condacolab, conda, and mamba"
      ]
    },
    {
      "cell_type": "code",
      "metadata": {
        "id": "gNm5p61wbznR"
      },
      "source": [
        ""
      ],
      "execution_count": null,
      "outputs": []
    },
    {
      "cell_type": "markdown",
      "metadata": {
        "id": "Nxm8bFr2uT0Z"
      },
      "source": [
        "5. Run constructor to build .sh template file"
      ]
    },
    {
      "cell_type": "code",
      "metadata": {
        "id": "JCg8ApEYflcj"
      },
      "source": [
        ""
      ],
      "execution_count": null,
      "outputs": []
    },
    {
      "cell_type": "markdown",
      "metadata": {
        "id": "DI5w9dc7uWLq"
      },
      "source": [
        "5. Download .sh constructor and upload to"
      ]
    },
    {
      "cell_type": "code",
      "metadata": {
        "id": "fiKjwx6Vb15b"
      },
      "source": [
        "from google.colab import files\n",
        "installer = !ls *-Linux-x86_64.sh\n",
        "files.download(installer[0])"
      ],
      "execution_count": null,
      "outputs": []
    }
  ]
}