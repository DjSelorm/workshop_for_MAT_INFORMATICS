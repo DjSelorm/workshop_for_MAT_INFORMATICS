{
  "nbformat": 4,
  "nbformat_minor": 0,
  "metadata": {
    "colab": {
      "name": "2_google_colab",
      "provenance": [],
      "collapsed_sections": []
    },
    "kernelspec": {
      "display_name": "Python 3 (ipykernel)",
      "language": "python",
      "name": "python3"
    },
    "language_info": {
      "codemirror_mode": {
        "name": "ipython",
        "version": 3
      },
      "file_extension": ".py",
      "mimetype": "text/x-python",
      "name": "python",
      "nbconvert_exporter": "python",
      "pygments_lexer": "ipython3",
      "version": "3.9.6"
    }
  },
  "cells": [
    {
      "cell_type": "markdown",
      "metadata": {
        "id": "PuCDmJj-GPHs"
      },
      "source": [
        "# Getting started on Colab"
      ]
    },
    {
      "cell_type": "markdown",
      "metadata": {
        "id": "Htw6z2E3my70"
      },
      "source": [
        "Colab is a hosted python notebook service, based on Jupyter, that provides free access to computing resources (including GPUs and TPUs). Colab allows for quick and easy sharing with collaborators without requiring downloads or python environment setup."
      ]
    },
    {
      "cell_type": "markdown",
      "metadata": {
        "id": "MYvYP18Xq26V"
      },
      "source": [
        "## Executing Python Code"
      ]
    },
    {
      "cell_type": "code",
      "metadata": {
        "id": "-vDMCgc8hgVL"
      },
      "source": [
        ""
      ],
      "execution_count": null,
      "outputs": []
    },
    {
      "cell_type": "markdown",
      "metadata": {
        "id": "SwUJKAa2rDNh"
      },
      "source": [
        "Colab environment comes with a number of pre-installed  scientific and machine learning packages such as numpy, scipy, pandas, tensorflow, and pytorch.\n",
        "\n",
        "We can check the installed python packages using `pip freeze`"
      ]
    },
    {
      "cell_type": "code",
      "metadata": {
        "id": "ALjKo_aVhjN1"
      },
      "source": [
        ""
      ],
      "execution_count": null,
      "outputs": []
    },
    {
      "cell_type": "markdown",
      "metadata": {
        "id": "q-Vt0vsn4W8F"
      },
      "source": [
        "## Add code snippets \n",
        "\n",
        "To add pre-written code snippets (useful for plotting), open the code snippets tab\n",
        "\n",
        "- Insert -> Code Snippets"
      ]
    },
    {
      "cell_type": "markdown",
      "metadata": {
        "id": "gG31T3IxG9yH"
      },
      "source": [
        "# Runtimes"
      ]
    },
    {
      "cell_type": "markdown",
      "metadata": {
        "id": "XOYTfKojIxr_"
      },
      "source": [
        "Each Colab instance (runtime) runs on an individual Virtual Machine(VM). "
      ]
    },
    {
      "cell_type": "markdown",
      "metadata": {
        "id": "iAC5do2bLW_b"
      },
      "source": [
        "To view active sessions, select Runtime > Manage Sessions. \n",
        "\n",
        "Here you will be able to view all your open notebooks (and terminate them)."
      ]
    },
    {
      "cell_type": "markdown",
      "metadata": {
        "id": "DaDS10tyKUQ6"
      },
      "source": [
        "---\n",
        "By Default, Colab instances have access to CPUs, however notebooks have access to GPU and TPU resources. "
      ]
    },
    {
      "cell_type": "markdown",
      "metadata": {
        "id": "Pbl9Ic0fMcOm"
      },
      "source": [
        "To initialize a runtime with a GPU, \n",
        "\n",
        "\n",
        "1.   Select 'Runtime' > 'Change Runtime Type'\n",
        "2.   Select 'GPU' in the drop down menu and click 'Save'\n",
        "\n"
      ]
    },
    {
      "cell_type": "markdown",
      "metadata": {
        "id": "Am7Zk1vmOPSU"
      },
      "source": [
        "We'll test the GPU using the [example](https://colab.research.google.com/notebooks/gpu.ipynb) provided by colab."
      ]
    },
    {
      "cell_type": "code",
      "metadata": {
        "colab": {
          "base_uri": "https://localhost:8080/"
        },
        "id": "2-9u4NL6No11",
        "tags": [
          "no-execute"
        ],
        "outputId": "49da6a19-23b1-4581-b46d-5f1507c0b55c"
      },
      "source": [
        "%tensorflow_version 2.x\n",
        "import tensorflow as tf\n",
        "import timeit\n",
        "\n",
        "device_name = tf.test.gpu_device_name()\n",
        "if device_name != '/device:GPU:0':\n",
        "  print(\n",
        "      '\\n\\nThis error most likely means that this notebook is not '\n",
        "      'configured to use a GPU.  Change this in Notebook Settings via the '\n",
        "      'command palette (cmd/ctrl-shift-P) or the Edit menu.\\n\\n')\n",
        "  raise SystemError('GPU device not found')\n",
        "\n",
        "def cpu():\n",
        "  with tf.device('/cpu:0'):\n",
        "    random_image_cpu = tf.random.normal((100, 100, 100, 3))\n",
        "    net_cpu = tf.keras.layers.Conv2D(32, 7)(random_image_cpu)\n",
        "    return tf.math.reduce_sum(net_cpu)\n",
        "\n",
        "def gpu():\n",
        "  with tf.device('/device:GPU:0'):\n",
        "    random_image_gpu = tf.random.normal((100, 100, 100, 3))\n",
        "    net_gpu = tf.keras.layers.Conv2D(32, 7)(random_image_gpu)\n",
        "    return tf.math.reduce_sum(net_gpu)\n",
        "  \n",
        "# We run each op once to warm up; see: https://stackoverflow.com/a/45067900\n",
        "cpu()\n",
        "gpu()\n",
        "\n",
        "# Run the op several times.\n",
        "print('Time (s) to convolve 32x7x7x3 filter over random 100x100x100x3 images '\n",
        "      '(batch x height x width x channel). Sum of five runs.')\n",
        "print('CPU (s):')\n",
        "cpu_time = timeit.timeit('cpu()', number=5, setup=\"from __main__ import cpu\")\n",
        "print(cpu_time)\n",
        "print('GPU (s):')\n",
        "gpu_time = timeit.timeit('gpu()', number=5, setup=\"from __main__ import gpu\")\n",
        "print(gpu_time)\n",
        "print('GPU speedup over CPU: {}x'.format(int(cpu_time/gpu_time)))"
      ],
      "execution_count": 1,
      "outputs": [
        {
          "output_type": "stream",
          "text": [
            "Time (s) to convolve 32x7x7x3 filter over random 100x100x100x3 images (batch x height x width x channel). Sum of five runs.\n",
            "CPU (s):\n",
            "1.650525636999987\n",
            "GPU (s):\n",
            "0.018746201999988443\n",
            "GPU speedup over CPU: 88x\n"
          ],
          "name": "stdout"
        }
      ]
    },
    {
      "cell_type": "markdown",
      "metadata": {
        "id": "XJsEWVbRXoHw"
      },
      "source": [
        "# Install Conda using conda-colab\n",
        "Google Colab does contain a pre-installed version of conda. Conda is a package manager and environment manager.\n",
        "\n",
        "This will allow you to use conda to install packages"
      ]
    },
    {
      "cell_type": "code",
      "metadata": {
        "id": "NJuJgJAYhlBh"
      },
      "source": [
        ""
      ],
      "execution_count": null,
      "outputs": []
    },
    {
      "cell_type": "markdown",
      "metadata": {
        "id": "faXB6tMOcT2z"
      },
      "source": [
        "To simplify the conda installation, we use [condacolab](https://pypi.org/project/condacolab/). "
      ]
    },
    {
      "cell_type": "code",
      "metadata": {
        "id": "kSyGorcihmgj"
      },
      "source": [
        ""
      ],
      "execution_count": null,
      "outputs": []
    },
    {
      "cell_type": "code",
      "metadata": {
        "id": "2jcQrY2ghn9a"
      },
      "source": [
        ""
      ],
      "execution_count": null,
      "outputs": []
    },
    {
      "cell_type": "markdown",
      "metadata": {
        "id": "DSetNfuXZh67"
      },
      "source": [
        "After running condacolab.install(), conda and mamba are installed. Conda and Mamba are functionally equivalent, however conda is written in python, whilst Mamba is written in C. \n",
        "\n",
        "In our lesson, we use Mamba to leverage its speed (as compared to Conda). However, we note that Mamba can be more prone to bugs, as it is relatively new and less popular."
      ]
    },
    {
      "cell_type": "code",
      "metadata": {
        "id": "TJYOWpbDho8U"
      },
      "source": [
        ""
      ],
      "execution_count": null,
      "outputs": []
    },
    {
      "cell_type": "markdown",
      "metadata": {
        "id": "m6xH_dS_XszC"
      },
      "source": [
        "For compatibility with colab, we will need to ensure the numpy version is unchanged when we install packages (such as pymatgen).\n",
        "\n",
        "To identify the numpy version factory installed on colab:"
      ]
    },
    {
      "cell_type": "code",
      "metadata": {
        "id": "dU0LxEJfhqOq"
      },
      "source": [
        ""
      ],
      "execution_count": null,
      "outputs": []
    },
    {
      "cell_type": "markdown",
      "metadata": {
        "id": "jmrwl3RcX0d7"
      },
      "source": [
        "The current version of numpy is v1.19.5, thus we specify mamba to install this specific version."
      ]
    },
    {
      "cell_type": "code",
      "metadata": {
        "id": "SjQcrkoohrgZ"
      },
      "source": [
        ""
      ],
      "execution_count": null,
      "outputs": []
    },
    {
      "cell_type": "markdown",
      "metadata": {
        "id": "BjT3HZIbdRV7"
      },
      "source": [
        "# Setup environment using conda constructor.\n",
        "---\n",
        "\n",
        "\n",
        "1.   First, we want to remove our previous installations by resetting our runtime to factory defaults. This process will revert the environment to its original state, removing any added packages or restoring deleted system files.\n",
        "  *   Runtime > Factory reset runtime\n",
        "\n"
      ]
    },
    {
      "cell_type": "markdown",
      "metadata": {
        "id": "eeoPe5vQIHAH"
      },
      "source": [
        "\n",
        "2.   Next, we install conda colab"
      ]
    },
    {
      "cell_type": "code",
      "metadata": {
        "id": "Scv_QVS1hsZU"
      },
      "source": [
        ""
      ],
      "execution_count": null,
      "outputs": []
    },
    {
      "cell_type": "markdown",
      "metadata": {
        "id": "171eqBlzIMjf"
      },
      "source": [
        "\n",
        "3.   Finally, we install using the constructor we have built for the [workshop](https://github.com/materialsproject/workshop)\n",
        "\n",
        "  Link to the [release](https://github.com/materialsproject/workshop/releases/tag/2021.08.09)\n",
        "\n",
        "  - https://github.com/materialsproject/workshop/releases/download/2021.08.09/condacolab-0.1-Linux-x86_64.sh"
      ]
    },
    {
      "cell_type": "code",
      "metadata": {
        "id": "xOnGmRBzhs4_"
      },
      "source": [
        ""
      ],
      "execution_count": null,
      "outputs": []
    },
    {
      "cell_type": "markdown",
      "metadata": {
        "id": "31vhGHZSWYvL"
      },
      "source": [
        "The environment is now setup with pymatgen, fireworks, custodian, atomate, and matminer."
      ]
    },
    {
      "cell_type": "markdown",
      "metadata": {
        "id": "TlWy5dU9bxtQ"
      },
      "source": [
        "# Building a conda constructor\n",
        "To build your own environment constructor (to save time when restarting notebook)\n",
        "\n",
        "Adapted from this [notebook](https://colab.research.google.com/github/jaimergp/condacolab/blob/main/constructor-example/condacolab_constructor_tutorial.ipynb#scrollTo=-RDpyAYfXk9L)\n"
      ]
    },
    {
      "cell_type": "markdown",
      "metadata": {
        "id": "5BDO0Lqctf5V"
      },
      "source": [
        "1. Download the templates constructor\n",
        "\n"
      ]
    },
    {
      "cell_type": "code",
      "metadata": {
        "id": "qFzIJoyiTorX"
      },
      "source": [
        "!wget -q https://raw.githubusercontent.com/materialsproject/workshop/master/workshop/primer/04_Python_environments/env_installer/construct.yaml\n",
        "!wget -q https://raw.githubusercontent.com/materialsproject/workshop/master/workshop/primer/04_Python_environments/env_installer/pip-dependencies.sh"
      ],
      "execution_count": 5,
      "outputs": []
    },
    {
      "cell_type": "markdown",
      "metadata": {
        "id": "LqcRCDR9tqVZ"
      },
      "source": [
        "2. Modify the construct.yaml as desired. Here, we will add: \n",
        "\n",
        "  - numpy 1.19.5\n",
        "  - pymatgen\n",
        "  - custodian\n",
        "  - fireworks\n",
        "  - atomate\n",
        "  - matminer\n"
      ]
    },
    {
      "cell_type": "markdown",
      "metadata": {
        "id": "pUphV54ot4Uj"
      },
      "source": [
        "3. Install condacolab, conda, mamba, and constructor"
      ]
    },
    {
      "cell_type": "code",
      "metadata": {
        "colab": {
          "base_uri": "https://localhost:8080/"
        },
        "id": "gNm5p61wbznR",
        "tags": [
          "no-execute"
        ],
        "outputId": "a6c0a736-a9e7-4659-9018-002ff5170ec4"
      },
      "source": [
        "!pip install -q condacolab\n",
        "\n",
        "# Install conda and mamba\n",
        "import condacolab\n",
        "condacolab.install()\n",
        "\n",
        "# Install constructor\n",
        "!mamba install -q constructor"
      ],
      "execution_count": null,
      "outputs": [
        {
          "output_type": "stream",
          "text": [
            "⏬ Downloading https://github.com/jaimergp/miniforge/releases/latest/download/Mambaforge-colab-Linux-x86_64.sh...\n",
            "📦 Installing...\n",
            "📌 Adjusting configuration...\n",
            "🩹 Patching environment...\n",
            "⏲ Done in 0:00:38\n",
            "🔁 Restarting kernel...\n",
            "  Package             Version  Build           Channel                    Size\n",
            "────────────────────────────────────────────────────────────────────────────────\n",
            "  Install:\n",
            "────────────────────────────────────────────────────────────────────────────────\n",
            "\n",
            "\u001b[32m  conda-standalone\u001b[00m     4.10.3  ha770c72_0      conda-forge/linux-64       9 MB\n",
            "\u001b[32m  constructor     \u001b[00m      3.2.1  py37h89c1867_1  conda-forge/linux-64     162 KB\n",
            "\n",
            "  Upgrade:\n",
            "────────────────────────────────────────────────────────────────────────────────\n",
            "\n",
            "\u001b[31m  ca-certificates \u001b[00m  2020.12.5  ha878542_0      installed                      \n",
            "\u001b[32m  ca-certificates \u001b[00m  2021.5.30  ha878542_0      conda-forge/linux-64     136 KB\n",
            "\u001b[31m  certifi         \u001b[00m  2020.12.5  py37h89c1867_1  installed                      \n",
            "\u001b[32m  certifi         \u001b[00m  2021.5.30  py37h89c1867_0  conda-forge/linux-64     141 KB\n",
            "\u001b[31m  openssl         \u001b[00m     1.1.1j  h7f98852_0      installed                      \n",
            "\u001b[32m  openssl         \u001b[00m     1.1.1k  h7f98852_0      conda-forge/linux-64       2 MB\n",
            "\n",
            "  Summary:\n",
            "\n",
            "  Install: 2 packages\n",
            "  Upgrade: 3 packages\n",
            "\n",
            "  Total download: 12 MB\n",
            "\n",
            "────────────────────────────────────────────────────────────────────────────────\n",
            "\n",
            "Preparing transaction: ...working... done\n",
            "Verifying transaction: ...working... done\n",
            "Executing transaction: ...working... done\n"
          ],
          "name": "stdout"
        }
      ]
    },
    {
      "cell_type": "markdown",
      "metadata": {
        "id": "Nxm8bFr2uT0Z"
      },
      "source": [
        "5. Run constructor to build .sh template file"
      ]
    },
    {
      "cell_type": "code",
      "metadata": {
        "colab": {
          "base_uri": "https://localhost:8080/"
        },
        "id": "JCg8ApEYflcj",
        "tags": [
          "no-execute"
        ],
        "outputId": "fc3fb735-8e64-487e-91a6-f1eede653f34"
      },
      "source": [
        "!constructor ."
      ],
      "execution_count": null,
      "outputs": [
        {
          "output_type": "stream",
          "text": [
            "platform: linux-64\n",
            "Collecting package metadata (repodata.json): done\n",
            "Solving environment: done\n",
            "fetching: python-3.7.0-hd21baee_1006.tar.bz2\n",
            "fetching: _libgcc_mutex-0.1-conda_forge.tar.bz2\n",
            "fetching: ca-certificates-2021.5.30-ha878542_0.tar.bz2\n",
            "fetching: libgfortran4-7.5.0-h14aa051_19.tar.bz2\n",
            "fetching: libstdcxx-ng-11.1.0-h56837e0_5.tar.bz2\n",
            "fetching: libgfortran-ng-7.5.0-h14aa051_19.tar.bz2\n",
            "fetching: libgomp-11.1.0-hc902ee8_5.tar.bz2\n",
            "fetching: _openmp_mutex-4.5-1_gnu.tar.bz2\n",
            "fetching: libgcc-ng-11.1.0-hc902ee8_5.tar.bz2\n",
            "fetching: bzip2-1.0.8-h7f98852_4.tar.bz2\n",
            "fetching: expat-2.4.1-h9c3ff4c_0.tar.bz2\n",
            "fetching: gmp-6.2.1-h58526e2_0.tar.bz2\n",
            "fetching: icu-68.1-h58526e2_0.tar.bz2\n",
            "fetching: jpeg-9d-h36c2ea0_0.tar.bz2\n",
            "fetching: jsoncpp-1.8.4-hc9558a2_1002.tar.bz2\n",
            "fetching: libffi-3.2.1-he1b5a44_1007.tar.bz2\n",
            "fetching: libiconv-1.16-h516909a_0.tar.bz2\n",
            "fetching: libopenblas-0.3.12-pthreads_hb3c22a3_1.tar.bz2\n",
            "fetching: libsodium-1.0.18-h36c2ea0_1.tar.bz2\n",
            "fetching: libuuid-2.32.1-h7f98852_1000.tar.bz2\n",
            "fetching: lz4-c-1.8.3-he1b5a44_1001.tar.bz2\n",
            "fetching: metis-5.1.0-h58526e2_1006.tar.bz2\n",
            "fetching: ncurses-6.2-h58526e2_4.tar.bz2\n",
            "fetching: openssl-1.0.2u-h516909a_0.tar.bz2\n",
            "fetching: pthread-stubs-0.4-h36c2ea0_1001.tar.bz2\n",
            "fetching: tbb-2020.2-h4bd325d_4.tar.bz2\n",
            "fetching: xorg-kbproto-1.0.7-h7f98852_1002.tar.bz2\n",
            "fetching: xorg-libice-1.0.10-h7f98852_0.tar.bz2\n",
            "fetching: xorg-libxau-1.0.9-h7f98852_0.tar.bz2\n",
            "fetching: xorg-libxdmcp-1.1.3-h7f98852_0.tar.bz2\n",
            "fetching: xorg-xproto-7.0.31-h7f98852_1007.tar.bz2\n",
            "fetching: xz-5.2.5-h516909a_1.tar.bz2\n",
            "fetching: yaml-0.2.5-h516909a_0.tar.bz2\n",
            "fetching: zlib-1.2.11-h516909a_1010.tar.bz2\n",
            "fetching: glpk-4.65-h9202a9a_1004.tar.bz2\n",
            "fetching: hdf4-4.2.15-h10796ff_3.tar.bz2\n",
            "fetching: hdf5-1.10.4-nompi_h3c11f04_1106.tar.bz2\n",
            "fetching: libblas-3.9.0-8_openblas.tar.bz2\n",
            "fetching: libedit-3.1.20191231-he28a2e2_2.tar.bz2\n",
            "fetching: libllvm10-10.0.1-he513fc3_3.tar.bz2\n",
            "fetching: libpng-1.6.37-h21135ba_2.tar.bz2\n",
            "fetching: libsolv-0.7.19-h780b84a_5.tar.bz2\n",
            "fetching: libssh2-1.8.0-h1ad7b7a_1003.tar.bz2\n",
            "fetching: libxcb-1.13-h7f98852_1003.tar.bz2\n",
            "fetching: libxml2-2.9.12-h72842e0_0.tar.bz2\n",
            "fetching: mpfr-4.0.2-he80fd80_1.tar.bz2\n",
            "fetching: readline-7.0-hf8c457e_1001.tar.bz2\n",
            "fetching: tk-8.6.10-h21135ba_1.tar.bz2\n",
            "fetching: xorg-libsm-1.2.3-hd9c2040_1000.tar.bz2\n",
            "fetching: zstd-1.4.4-h3b9ef0a_2.tar.bz2\n",
            "fetching: freetype-2.10.4-h0708190_1.tar.bz2\n",
            "fetching: krb5-1.16.3-hc83ff2d_1000.tar.bz2\n",
            "fetching: libcblas-3.9.0-8_openblas.tar.bz2\n",
            "fetching: liblapack-3.9.0-8_openblas.tar.bz2\n",
            "fetching: libtiff-4.1.0-hc3755c2_3.tar.bz2\n",
            "fetching: mpc-1.1.0-h04dde30_1009.tar.bz2\n",
            "fetching: sqlite-3.28.0-h8b20d00_0.tar.bz2\n",
            "fetching: xorg-libx11-1.7.2-h7f98852_0.tar.bz2\n",
            "fetching: arpack-3.7.0-hc6cf775_2.tar.bz2\n",
            "fetching: lcms2-2.11-hcbb858e_1.tar.bz2\n",
            "fetching: libcurl-7.64.0-h01ee5af_0.tar.bz2\n",
            "fetching: suitesparse-5.10.1-hd8046ac_0.tar.bz2\n",
            "fetching: xorg-libxt-1.2.1-h7f98852_2.tar.bz2\n",
            "fetching: asn1crypto-1.4.0-pyh9f0ad1d_0.tar.bz2\n",
            "fetching: attrs-21.2.0-pyhd8ed1ab_0.tar.bz2\n",
            "fetching: charset-normalizer-2.0.0-pyhd8ed1ab_0.tar.bz2\n",
            "fetching: curl-7.64.0-h646f8bb_0.tar.bz2\n",
            "fetching: dataclasses-0.8-pyhc8e2a94_1.tar.bz2\n",
            "fetching: decorator-5.0.9-pyhd8ed1ab_0.tar.bz2\n",
            "fetching: idna-3.1-pyhd3deb0d_0.tar.bz2\n",
            "fetching: invoke-1.6.0-pyhd8ed1ab_0.tar.bz2\n",
            "fetching: itsdangerous-2.0.1-pyhd8ed1ab_0.tar.bz2\n",
            "fetching: jmespath-0.10.0-pyh9f0ad1d_0.tar.bz2\n",
            "fetching: monty-2021.7.8-pyhd8ed1ab_0.tar.bz2\n",
            "fetching: mpmath-1.2.1-pyhd8ed1ab_0.tar.bz2\n",
            "fetching: olefile-0.46-pyh9f0ad1d_1.tar.bz2\n",
            "fetching: pycparser-2.20-pyh9f0ad1d_2.tar.bz2\n",
            "fetching: pydash-5.0.2-pyh6c4a22f_0.tar.bz2\n",
            "fetching: pyparsing-2.4.7-pyh9f0ad1d_0.tar.bz2\n",
            "fetching: python_abi-3.7-2_cp37m.tar.bz2\n",
            "fetching: pytz-2021.1-pyhd8ed1ab_0.tar.bz2\n",
            "fetching: sentinels-1.0.0-py_1.tar.bz2\n",
            "fetching: six-1.16.0-pyh6c4a22f_0.tar.bz2\n",
            "fetching: soupsieve-2.0.1-py_1.tar.bz2\n",
            "fetching: starlette-0.14.2-pyhd8ed1ab_0.tar.bz2\n",
            "fetching: tabulate-0.8.9-pyhd8ed1ab_0.tar.bz2\n",
            "fetching: tenacity-8.0.1-pyhd8ed1ab_0.tar.bz2\n",
            "fetching: termcolor-1.1.0-py_2.tar.bz2\n",
            "fetching: texttable-1.6.4-pyhd8ed1ab_0.tar.bz2\n",
            "fetching: threadpoolctl-2.2.0-pyh8a188c0_0.tar.bz2\n",
            "fetching: tqdm-4.61.2-pyhd8ed1ab_1.tar.bz2\n",
            "fetching: typing_extensions-3.10.0.0-pyha770c72_0.tar.bz2\n",
            "fetching: wheel-0.36.2-pyhd3deb0d_0.tar.bz2\n",
            "fetching: zipp-3.5.0-pyhd8ed1ab_0.tar.bz2\n",
            "fetching: aioitertools-0.7.1-pyhd8ed1ab_0.tar.bz2\n",
            "fetching: beautifulsoup4-4.9.3-pyhb0f4dca_0.tar.bz2\n",
            "fetching: certifi-2021.5.30-py37h89c1867_0.tar.bz2\n",
            "fetching: cffi-1.14.4-py37h11fe52a_0.tar.bz2\n",
            "fetching: chardet-4.0.0-py37h89c1867_1.tar.bz2\n",
            "fetching: conda-package-handling-1.7.3-py37h5e8e339_0.tar.bz2\n",
            "fetching: cycler-0.10.0-py_2.tar.bz2\n",
            "fetching: ecdsa-0.17.0-pyhd8ed1ab_0.tar.bz2\n",
            "fetching: future-0.18.2-py37h89c1867_3.tar.bz2\n",
            "fetching: gmpy2-2.1.0b5-py37h025e8b9_0.tar.bz2\n",
            "fetching: httplib2-0.19.1-pyhd8ed1ab_0.tar.bz2\n",
            "fetching: importlib-metadata-4.6.1-py37h89c1867_0.tar.bz2\n",
            "fetching: importlib_resources-5.2.1-pyhd8ed1ab_0.tar.bz2\n",
            "fetching: kiwisolver-1.3.1-py37h2527ec5_1.tar.bz2\n",
            "fetching: latexcodec-2.0.1-pyh9f0ad1d_0.tar.bz2\n",
            "fetching: libnetcdf-4.6.2-hbdf4f91_1001.tar.bz2\n",
            "fetching: llvmlite-0.36.0-py37h9d7f4d0_0.tar.bz2\n",
            "fetching: markupsafe-2.0.1-py37h5e8e339_0.tar.bz2\n",
            "fetching: msgpack-python-1.0.2-py37h2527ec5_1.tar.bz2\n",
            "fetching: numpy-1.19.5-py37h038b26d_2.tar.bz2\n",
            "fetching: orjson-3.6.0-py37h5e8e339_0.tar.bz2\n",
            "fetching: packaging-21.0-pyhd8ed1ab_0.tar.bz2\n",
            "fetching: pathlib2-2.3.6-py37h89c1867_0.tar.bz2\n",
            "fetching: pillow-8.1.0-py37he6b4880_1.tar.bz2\n",
            "fetching: pybind11-global-2.7.0-py37h2527ec5_0.tar.bz2\n",
            "fetching: pycosat-0.6.3-py37h5e8e339_1006.tar.bz2\n",
            "fetching: pycryptodome-3.10.1-py37ha6ede69_0.tar.bz2\n",
            "fetching: pymongo-3.12.0-py37hcd2ae1e_0.tar.bz2\n",
            "fetching: pyrsistent-0.17.3-py37h5e8e339_2.tar.bz2\n",
            "fetching: pysocks-1.7.1-py37h89c1867_3.tar.bz2\n",
            "fetching: python-dateutil-2.8.2-pyhd8ed1ab_0.tar.bz2\n",
            "fetching: python-igraph-0.9.6-py37h6c76e3a_0.tar.bz2\n",
            "fetching: pyyaml-5.4.1-py37h5e8e339_0.tar.bz2\n",
            "fetching: ruamel.yaml.clib-0.2.2-py37h5e8e339_2.tar.bz2\n",
            "fetching: ruamel_yaml-0.15.80-py37h5e8e339_1004.tar.bz2\n",
            "fetching: sniffio-1.2.0-py37h89c1867_1.tar.bz2\n",
            "fetching: tornado-6.1-py37h5e8e339_1.tar.bz2\n",
            "fetching: typing-extensions-3.10.0.0-hd8ed1ab_0.tar.bz2\n",
            "fetching: tzlocal-2.1-pyh9f0ad1d_0.tar.bz2\n",
            "fetching: ujson-4.0.2-py37hcd2ae1e_0.tar.bz2\n",
            "fetching: werkzeug-2.0.1-pyhd8ed1ab_0.tar.bz2\n",
            "fetching: brotlipy-0.7.0-py37h5e8e339_1001.tar.bz2\n",
            "fetching: cftime-1.5.0-py37h6f94858_0.tar.bz2\n",
            "fetching: click-8.0.1-py37h89c1867_0.tar.bz2\n",
            "fetching: cryptography-2.5-py37hb7f436b_1.tar.bz2\n",
            "fetching: dnspython-1.16.0-py_1.tar.bz2\n",
            "fetching: h5py-2.9.0-nompi_py37hcafd542_1103.tar.bz2\n",
            "fetching: importlib_metadata-4.6.1-hd8ed1ab_0.tar.bz2\n",
            "fetching: jinja2-3.0.1-pyhd8ed1ab_0.tar.bz2\n",
            "fetching: pandas-1.3.1-py37h219a48f_0.tar.bz2\n",
            "fetching: pybind11-2.7.0-py37h2527ec5_0.tar.bz2\n",
            "fetching: pydantic-1.8.2-py37h5e8e339_0.tar.bz2\n",
            "fetching: pynacl-1.4.0-py37h5e8e339_2.tar.bz2\n",
            "fetching: pynng-0.7.1-py37h5e8e339_0.tar.bz2\n",
            "fetching: pypif-2.1.1-py_0.tar.bz2\n",
            "fetching: scipy-1.5.3-py37h8911b10_0.tar.bz2\n",
            "fetching: setuptools-49.6.0-py37h89c1867_3.tar.bz2\n",
            "fetching: spglib-1.16.1-py37h902c9e0_0.tar.bz2\n",
            "fetching: sympy-1.8-py37h89c1867_0.tar.bz2\n",
            "fetching: uncertainties-3.1.6-pyhd8ed1ab_0.tar.bz2\n",
            "fetching: vtk-8.2.0-py37ha8e561a_202.tar.bz2\n",
            "fetching: apscheduler-3.6.3-py37h89c1867_3.tar.bz2\n",
            "fetching: fastapi-0.67.0-pyhd8ed1ab_0.tar.bz2\n",
            "fetching: flask-2.0.1-pyhd8ed1ab_0.tar.bz2\n",
            "fetching: gunicorn-20.1.0-py37h89c1867_0.tar.bz2\n",
            "fetching: joblib-1.0.1-pyhd8ed1ab_0.tar.bz2\n",
            "fetching: jsonschema-3.2.0-pyhd8ed1ab_3.tar.bz2\n",
            "fetching: matplotlib-base-3.4.2-py37hdd32ed1_0.tar.bz2\n",
            "fetching: mongomock-3.22.1-pyh44b312d_0.tar.bz2\n",
            "fetching: netcdf4-1.5.1.2-py37had58050_0.tar.bz2\n",
            "fetching: networkx-2.5-py_0.tar.bz2\n",
            "fetching: numba-0.53.1-py37hb11d6e1_1.tar.bz2\n",
            "fetching: palettable-3.3.0-py_0.tar.bz2\n",
            "fetching: pint-0.17-pyhd8ed1ab_0.tar.bz2\n",
            "fetching: pip-21.2.1-pyhd8ed1ab_0.tar.bz2\n",
            "fetching: plotly-5.1.0-pyhd8ed1ab_1.tar.bz2\n",
            "fetching: pybtex-0.24.0-py37h89c1867_0.tar.bz2\n",
            "fetching: pyjwt-1.7.1-py_0.tar.bz2\n",
            "fetching: pyopenssl-19.0.0-py37_0.tar.bz2\n",
            "fetching: ruamel.yaml-0.17.10-py37h5e8e339_0.tar.bz2\n",
            "fetching: ase-3.22.0-pyhd8ed1ab_0.tar.bz2\n",
            "fetching: bcrypt-3.2.0-py37h5e8e339_1.tar.bz2\n",
            "fetching: flask-paginate-0.8.1-pyh44b312d_0.tar.bz2\n",
            "fetching: phonopy-2.11.0-py37hb1e94ed_1.tar.bz2\n",
            "fetching: scikit-learn-0.24.2-py37h18a542f_0.tar.bz2\n",
            "fetching: sparse-0.12.0-pyhd8ed1ab_0.tar.bz2\n",
            "fetching: urllib3-1.26.6-pyhd8ed1ab_0.tar.bz2\n",
            "fetching: aflow-0.0.11-py_0.tar.bz2\n",
            "fetching: dscribe-1.1.0-py37h2527ec5_0.tar.bz2\n",
            "fetching: paramiko-2.7.2-pyh9f0ad1d_0.tar.bz2\n",
            "fetching: requests-2.26.0-pyhd8ed1ab_0.tar.bz2\n",
            "fetching: sentry-sdk-1.3.1-pyhd8ed1ab_0.tar.bz2\n",
            "fetching: conda-4.10.3-py37h89c1867_0.tar.bz2\n",
            "fetching: custodian-2021.2.8-pyh44b312d_0.tar.bz2\n",
            "fetching: fabric-2.6.0-pyhd8ed1ab_1.tar.bz2\n",
            "fetching: globus-sdk-2.0.1-pyhd8ed1ab_0.tar.bz2\n",
            "fetching: mongogrant-0.3.3-pyhd8ed1ab_0.tar.bz2\n",
            "fetching: pymatgen-2020.12.31-py37h2527ec5_0.tar.bz2\n",
            "fetching: requests-mock-1.9.3-pyhd8ed1ab_0.tar.bz2\n",
            "fetching: sshtunnel-0.3.1-pyhd8ed1ab_0.tar.bz2\n",
            "fetching: citrination-client-6.5.1-pyh9f0ad1d_0.tar.bz2\n",
            "fetching: fair-research-login-0.2.2-pyhd8ed1ab_0.tar.bz2\n",
            "fetching: fireworks-1.9.7-pyhd8ed1ab_0.tar.bz2\n",
            "fetching: globus-nexus-client-0.3.0-pyhd8ed1ab_1.tar.bz2\n",
            "fetching: maggma-0.30.2-pyhd8ed1ab_0.tar.bz2\n",
            "fetching: mamba-0.1.2-py37h99015e2_0.tar.bz2\n",
            "fetching: pymatgen-diffusion-2020.10.8-pyh9f0ad1d_0.tar.bz2\n",
            "fetching: atomate-0.9.9-pyhd8ed1ab_0.tar.bz2\n",
            "fetching: mdf_toolbox-0.5.7-pyhd8ed1ab_0.tar.bz2\n",
            "fetching: mdf_forge-0.7.6-py_0.tar.bz2\n",
            "fetching: matminer-0.7.3-pyhd8ed1ab_0.tar.bz2\n",
            "Checking for duplicate files ...\n",
            "Warning: Files 'share/terminfo/2/2621a', 'share/terminfo/2/2621A' found in the package(s): ncurses-6.2-h58526e2_4.tar.bz2\n",
            "Warning: Files 'share/terminfo/e/eterm', 'share/terminfo/E/Eterm' found in the package(s): ncurses-6.2-h58526e2_4.tar.bz2\n",
            "Warning: Files 'share/terminfo/E/Eterm-color', 'share/terminfo/e/eterm-color' found in the package(s): ncurses-6.2-h58526e2_4.tar.bz2\n",
            "Warning: Files 'share/terminfo/l/lft-pc850', 'share/terminfo/L/LFT-PC850' found in the package(s): ncurses-6.2-h58526e2_4.tar.bz2\n",
            "Warning: Files 'share/terminfo/n/ncr260vt300wpp', 'share/terminfo/N/NCR260VT300WPP' found in the package(s): ncurses-6.2-h58526e2_4.tar.bz2\n",
            "Warning: Files 'share/terminfo/N/NCRVT100WPP', 'share/terminfo/n/ncrvt100wpp' found in the package(s): ncurses-6.2-h58526e2_4.tar.bz2\n",
            "Warning: Files 'share/terminfo/p/p12', 'share/terminfo/P/P12' found in the package(s): ncurses-6.2-h58526e2_4.tar.bz2\n",
            "Warning: Files 'share/terminfo/P/P12-M', 'share/terminfo/p/p12-m' found in the package(s): ncurses-6.2-h58526e2_4.tar.bz2\n",
            "Warning: Files 'share/terminfo/p/p12-m-w', 'share/terminfo/P/P12-M-W' found in the package(s): ncurses-6.2-h58526e2_4.tar.bz2\n",
            "Warning: Files 'share/terminfo/P/P12-W', 'share/terminfo/p/p12-w' found in the package(s): ncurses-6.2-h58526e2_4.tar.bz2\n",
            "Warning: Files 'share/terminfo/p/p14', 'share/terminfo/P/P14' found in the package(s): ncurses-6.2-h58526e2_4.tar.bz2\n",
            "Warning: Files 'share/terminfo/P/P14-M', 'share/terminfo/p/p14-m' found in the package(s): ncurses-6.2-h58526e2_4.tar.bz2\n",
            "Warning: Files 'share/terminfo/P/P14-M-W', 'share/terminfo/p/p14-m-w' found in the package(s): ncurses-6.2-h58526e2_4.tar.bz2\n",
            "Warning: Files 'share/terminfo/P/P14-W', 'share/terminfo/p/p14-w' found in the package(s): ncurses-6.2-h58526e2_4.tar.bz2\n",
            "Warning: Files 'share/terminfo/P/P4', 'share/terminfo/p/p4' found in the package(s): ncurses-6.2-h58526e2_4.tar.bz2\n",
            "Warning: Files 'share/terminfo/p/p5', 'share/terminfo/P/P5' found in the package(s): ncurses-6.2-h58526e2_4.tar.bz2\n",
            "Warning: Files 'share/terminfo/P/P7', 'share/terminfo/p/p7' found in the package(s): ncurses-6.2-h58526e2_4.tar.bz2\n",
            "Warning: Files 'share/terminfo/P/P8', 'share/terminfo/p/p8' found in the package(s): ncurses-6.2-h58526e2_4.tar.bz2\n",
            "Warning: Files 'share/terminfo/p/p8-w', 'share/terminfo/P/P8-W' found in the package(s): ncurses-6.2-h58526e2_4.tar.bz2\n",
            "Warning: Files 'share/terminfo/p/p9', 'share/terminfo/P/P9' found in the package(s): ncurses-6.2-h58526e2_4.tar.bz2\n",
            "Warning: Files 'share/terminfo/p/p9-8', 'share/terminfo/P/P9-8' found in the package(s): ncurses-6.2-h58526e2_4.tar.bz2\n",
            "Warning: Files 'share/terminfo/P/P9-8-W', 'share/terminfo/p/p9-8-w' found in the package(s): ncurses-6.2-h58526e2_4.tar.bz2\n",
            "Warning: Files 'share/terminfo/p/p9-w', 'share/terminfo/P/P9-W' found in the package(s): ncurses-6.2-h58526e2_4.tar.bz2\n",
            "Warning: Files 'share/terminfo/h/hp2621a', 'share/terminfo/h/hp2621A' found in the package(s): ncurses-6.2-h58526e2_4.tar.bz2\n",
            "Warning: Files 'share/terminfo/h/hp70092a', 'share/terminfo/h/hp70092A' found in the package(s): ncurses-6.2-h58526e2_4.tar.bz2\n",
            "Reading: /usr/local/lib/python3.7/site-packages/constructor/header.sh\n",
            "Successfully created '/content/condacolab-0.1-Linux-x86_64.sh'.\n"
          ],
          "name": "stdout"
        }
      ]
    },
    {
      "cell_type": "markdown",
      "metadata": {
        "id": "DI5w9dc7uWLq"
      },
      "source": [
        "5. Download .sh constructor and upload to any file hosting site (github releases can be used)\n",
        "\n"
      ]
    },
    {
      "cell_type": "code",
      "metadata": {
        "colab": {
          "base_uri": "https://localhost:8080/",
          "height": 34
        },
        "id": "fiKjwx6Vb15b",
        "tags": [
          "no-execute"
        ],
        "outputId": "2cb71c17-f507-485a-d28d-6ab35427b001"
      },
      "source": [
        "from google.colab import files\n",
        "installer = !ls *-Linux-x86_64.sh\n",
        "files.download(installer[0])"
      ],
      "execution_count": null,
      "outputs": [
        {
          "output_type": "display_data",
          "data": {
            "application/javascript": [
              "\n",
              "    async function download(id, filename, size) {\n",
              "      if (!google.colab.kernel.accessAllowed) {\n",
              "        return;\n",
              "      }\n",
              "      const div = document.createElement('div');\n",
              "      const label = document.createElement('label');\n",
              "      label.textContent = `Downloading \"${filename}\": `;\n",
              "      div.appendChild(label);\n",
              "      const progress = document.createElement('progress');\n",
              "      progress.max = size;\n",
              "      div.appendChild(progress);\n",
              "      document.body.appendChild(div);\n",
              "\n",
              "      const buffers = [];\n",
              "      let downloaded = 0;\n",
              "\n",
              "      const channel = await google.colab.kernel.comms.open(id);\n",
              "      // Send a message to notify the kernel that we're ready.\n",
              "      channel.send({})\n",
              "\n",
              "      for await (const message of channel.messages) {\n",
              "        // Send a message to notify the kernel that we're ready.\n",
              "        channel.send({})\n",
              "        if (message.buffers) {\n",
              "          for (const buffer of message.buffers) {\n",
              "            buffers.push(buffer);\n",
              "            downloaded += buffer.byteLength;\n",
              "            progress.value = downloaded;\n",
              "          }\n",
              "        }\n",
              "      }\n",
              "      const blob = new Blob(buffers, {type: 'application/binary'});\n",
              "      const a = document.createElement('a');\n",
              "      a.href = window.URL.createObjectURL(blob);\n",
              "      a.download = filename;\n",
              "      div.appendChild(a);\n",
              "      a.click();\n",
              "      div.remove();\n",
              "    }\n",
              "  "
            ],
            "text/plain": [
              "<IPython.core.display.Javascript object>"
            ]
          },
          "metadata": {
            "tags": []
          }
        },
        {
          "output_type": "display_data",
          "data": {
            "application/javascript": [
              "download(\"download_2fbcf144-ab1f-4119-85e1-6c750c425b3b\", \"condacolab-0.1-Linux-x86_64.sh\", 299340058)"
            ],
            "text/plain": [
              "<IPython.core.display.Javascript object>"
            ]
          },
          "metadata": {
            "tags": []
          }
        }
      ]
    }
  ]
}