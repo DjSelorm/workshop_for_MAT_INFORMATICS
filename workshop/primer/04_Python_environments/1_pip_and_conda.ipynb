{
 "cells": [
  {
   "cell_type": "markdown",
   "metadata": {},
   "source": [
    "# Introduction to Package Managers and Environments"
   ]
  },
  {
   "cell_type": "markdown",
   "metadata": {},
   "source": [
    "While many programming languages exist, Python has risen to the top amongst the scientific and data science community. Python is simple to learn and use, is platform independent, and most importantly has access to a wide range of open source packages and libraries that aid in data analysis. While many of these packages are open source and readily available, in order to leverage these libraries in our code, we must use package managers to install and manage the packages. There are two common package management systems used - pip and conda."
   ]
  },
  {
   "cell_type": "markdown",
   "metadata": {},
   "source": [
    "---"
   ]
  },
  {
   "cell_type": "markdown",
   "metadata": {},
   "source": [
    "While it is easiest to work with pip and conda in the command line/terminal, for ease of demonstration, we will use ipython notebooks (in Co-calc) for the workshop. \n",
    "\n",
    "Most of the commands (especially those starting with `pip` or `conda`) used in this section are to be executed in a command-line. Within an ipython notebook, we use the `!` to run a single line of code in the command-line. Additionally, if we wish to execute the entirety of a cell as command-line, we can use the `%%bash` magic command. We will see examples of these later in the notebook."
   ]
  },
  {
   "cell_type": "markdown",
   "metadata": {},
   "source": [
    "# Introduction to pip\n",
    "pip is a package management system for python that is used to install and manage additional libraries and dependencies. pip typically comes pre-installed by alongside python. \n",
    "\n",
    "Let's verify that pip is installed:"
   ]
  },
  {
   "cell_type": "code",
   "execution_count": 1,
   "metadata": {
    "collapsed": false,
    "jupyter": {
     "outputs_hidden": false
    },
    "scrolled": true
   },
   "outputs": [
    {
     "name": "stdout",
     "output_type": "stream",
     "text": [
      "pip 21.0.1 from /srv/conda/envs/notebook/lib/python3.9/site-packages/pip (python 3.9)\n"
     ]
    }
   ],
   "source": [
    "!pip --version"
   ]
  },
  {
   "cell_type": "markdown",
   "metadata": {},
   "source": [
    "*note that we are using the `!` to execute a command on the system terminal/command-line"
   ]
  },
  {
   "cell_type": "markdown",
   "metadata": {},
   "source": [
    "Let's see what we can do with pip using the `help` command"
   ]
  },
  {
   "cell_type": "code",
   "execution_count": 2,
   "metadata": {
    "collapsed": false,
    "jupyter": {
     "outputs_hidden": false
    }
   },
   "outputs": [
    {
     "name": "stdout",
     "output_type": "stream",
     "text": [
      "\n",
      "Usage:   \n",
      "  pip <command> [options]\n",
      "\n",
      "Commands:\n",
      "  install                     Install packages.\n",
      "  download                    Download packages.\n",
      "  uninstall                   Uninstall packages.\n",
      "  freeze                      Output installed packages in requirements format.\n",
      "  list                        List installed packages.\n",
      "  show                        Show information about installed packages.\n",
      "  check                       Verify installed packages have compatible dependencies.\n",
      "  config                      Manage local and global configuration.\n",
      "  search                      Search PyPI for packages.\n",
      "  cache                       Inspect and manage pip's wheel cache.\n",
      "  wheel                       Build wheels from your requirements.\n",
      "  hash                        Compute hashes of package archives.\n",
      "  completion                  A helper command used for command completion.\n",
      "  debug                       Show information useful for debugging.\n",
      "  help                        Show help for commands.\n",
      "\n",
      "General Options:\n",
      "  -h, --help                  Show help.\n",
      "  --isolated                  Run pip in an isolated mode, ignoring\n",
      "                              environment variables and user configuration.\n",
      "  -v, --verbose               Give more output. Option is additive, and can be\n",
      "                              used up to 3 times.\n",
      "  -V, --version               Show version and exit.\n",
      "  -q, --quiet                 Give less output. Option is additive, and can be\n",
      "                              used up to 3 times (corresponding to WARNING,\n",
      "                              ERROR, and CRITICAL logging levels).\n",
      "  --log <path>                Path to a verbose appending log.\n",
      "  --no-input                  Disable prompting for input.\n",
      "  --proxy <proxy>             Specify a proxy in the form\n",
      "                              [user:passwd@]proxy.server:port.\n",
      "  --retries <retries>         Maximum number of retries each connection should\n",
      "                              attempt (default 5 times).\n",
      "  --timeout <sec>             Set the socket timeout (default 15 seconds).\n",
      "  --exists-action <action>    Default action when a path already exists:\n",
      "                              (s)witch, (i)gnore, (w)ipe, (b)ackup, (a)bort.\n",
      "  --trusted-host <hostname>   Mark this host or host:port pair as trusted,\n",
      "                              even though it does not have valid or any HTTPS.\n",
      "  --cert <path>               Path to alternate CA bundle.\n",
      "  --client-cert <path>        Path to SSL client certificate, a single file\n",
      "                              containing the private key and the certificate\n",
      "                              in PEM format.\n",
      "  --cache-dir <dir>           Store the cache data in <dir>.\n",
      "  --no-cache-dir              Disable the cache.\n",
      "  --disable-pip-version-check\n",
      "                              Don't periodically check PyPI to determine\n",
      "                              whether a new version of pip is available for\n",
      "                              download. Implied with --no-index.\n",
      "  --no-color                  Suppress colored output.\n",
      "  --no-python-version-warning\n",
      "                              Silence deprecation warnings for upcoming\n",
      "                              unsupported Pythons.\n",
      "  --use-feature <feature>     Enable new functionality, that may be backward\n",
      "                              incompatible.\n",
      "  --use-deprecated <feature>  Enable deprecated functionality, that will be\n",
      "                              removed in the future.\n"
     ]
    }
   ],
   "source": [
    "!pip --help"
   ]
  },
  {
   "cell_type": "markdown",
   "metadata": {},
   "source": [
    "`pip list` will show all installed packages, while `pip freeze` will show all user installed packages"
   ]
  },
  {
   "cell_type": "code",
   "execution_count": 3,
   "metadata": {
    "collapsed": false,
    "jupyter": {
     "outputs_hidden": false
    }
   },
   "outputs": [
    {
     "name": "stdout",
     "output_type": "stream",
     "text": [
      "Package                       Version                     Location\n",
      "----------------------------- --------------------------- ------------------------\n",
      "aioitertools                  0.7.1\n",
      "alembic                       1.5.5\n",
      "anyio                         3.3.0\n",
      "argon2-cffi                   20.1.0\n",
      "async-generator               1.10\n",
      "atomate                       0.9.9\n",
      "attrs                         21.2.0\n",
      "Automat                       20.2.0\n",
      "Babel                         2.9.1\n",
      "backcall                      0.2.0\n",
      "backports.functools-lru-cache 1.6.1\n",
      "bcrypt                        3.2.0\n",
      "bleach                        4.0.0\n",
      "blinker                       1.4\n",
      "boltons                       21.0.0\n",
      "bravado                       11.0.3\n",
      "bravado-core                  5.17.0\n",
      "brotlipy                      0.7.0\n",
      "certifi                       2021.5.30\n",
      "certipy                       0.1.3\n",
      "cffi                          1.14.6\n",
      "chardet                       4.0.0\n",
      "charset-normalizer            2.0.4\n",
      "click                         8.0.1\n",
      "cloudpickle                   1.6.0\n",
      "constantly                    15.1.0\n",
      "crochet                       2.0.0\n",
      "cryptography                  3.4.7\n",
      "crystal-toolkit               2021.4.29\n",
      "crystaltoolkit-extension      0.3.0\n",
      "custodian                     2021.2.8\n",
      "cycler                        0.10.0\n",
      "dask                          2021.7.2\n",
      "debugpy                       1.4.1\n",
      "decorator                     5.0.9\n",
      "defusedxml                    0.7.1\n",
      "dnspython                     2.1.0\n",
      "email-validator               1.1.3\n",
      "emmet-core                    0.9.1\n",
      "entrypoints                   0.3\n",
      "fastapi                       0.68.0\n",
      "fido                          4.2.2\n",
      "filetype                      1.0.7\n",
      "FireWorks                     1.9.7\n",
      "Flask                         2.0.1\n",
      "flask-paginate                0.8.1\n",
      "flatten-dict                  0.4.1\n",
      "fsspec                        2021.7.0\n",
      "future                        0.18.2\n",
      "graphviz                      0.17\n",
      "gunicorn                      20.1.0\n",
      "h5py                          3.3.0\n",
      "hyperlink                     21.0.0\n",
      "idna                          3.2\n",
      "imageio                       2.9.0\n",
      "importlib-metadata            3.4.0\n",
      "incremental                   21.3.0\n",
      "inflect                       5.3.0\n",
      "iniconfig                     1.1.1\n",
      "ipykernel                     6.0.3\n",
      "ipython                       7.26.0\n",
      "ipython-genutils              0.2.0\n",
      "ipywidgets                    7.6.3\n",
      "itsdangerous                  2.0.1\n",
      "jedi                          0.18.0\n",
      "Jinja2                        3.0.1\n",
      "joblib                        1.0.1\n",
      "json2html                     1.3.0\n",
      "json5                         0.9.6\n",
      "jsonpointer                   2.1\n",
      "jsonref                       0.2\n",
      "jsonschema                    3.2.0\n",
      "jupyter-client                6.1.12\n",
      "jupyter-core                  4.7.1\n",
      "jupyter-offlinenotebook       0.2.1\n",
      "jupyter-resource-usage        0.5.1\n",
      "jupyter-server                1.10.2\n",
      "jupyter-telemetry             0.1.0\n",
      "jupyterhub                    1.3.0\n",
      "jupyterlab                    3.1.2\n",
      "jupyterlab-pygments           0.1.2\n",
      "jupyterlab-server             2.6.2\n",
      "jupyterlab-widgets            1.0.0\n",
      "kiwisolver                    1.3.1\n",
      "latexcodec                    2.0.1\n",
      "llvmlite                      0.36.0\n",
      "locket                        0.2.1\n",
      "maggma                        0.30.4\n",
      "Mako                          1.1.4\n",
      "MarkupSafe                    2.0.1\n",
      "matminer                      0.7.4\n",
      "matplotlib                    3.4.2\n",
      "matplotlib-inline             0.1.2\n",
      "mistune                       0.8.4\n",
      "mongogrant                    0.3.3\n",
      "mongomock                     3.23.0\n",
      "monotonic                     1.6\n",
      "monty                         2021.7.8\n",
      "mp-api                        0.7.0\n",
      "mp-pyrho                      0.0.14\n",
      "mp-workshop                   0.1.dev1+g8fb187f.d20210728 /home/user/python_module\n",
      "mpcontribs-client             3.12.4\n",
      "mpmath                        1.2.1\n",
      "msgpack                       1.0.2\n",
      "nbclassic                     0.3.1\n",
      "nbclient                      0.5.3\n",
      "nbconvert                     6.1.0\n",
      "nbformat                      5.1.3\n",
      "nbgitpuller                   0.10.1\n",
      "nbzip                         0.1.0\n",
      "nest-asyncio                  1.5.1\n",
      "networkx                      2.6.2\n",
      "notebook                      6.4.0\n",
      "nteract-on-jupyter            2.1.3\n",
      "numba                         0.53.1\n",
      "numpy                         1.21.1\n",
      "oauthlib                      3.0.1\n",
      "olefile                       0.46\n",
      "orjson                        3.6.1\n",
      "packaging                     21.0\n",
      "palettable                    3.3.0\n",
      "pamela                        1.0.0\n",
      "pandas                        1.3.1\n",
      "pandocfilters                 1.4.3\n",
      "paramiko                      2.7.2\n",
      "parso                         0.8.2\n",
      "partd                         1.2.0\n",
      "pexpect                       4.8.0\n",
      "pickleshare                   0.7.5\n",
      "Pillow                        8.3.1\n",
      "Pint                          0.17\n",
      "pip                           21.0.1\n",
      "plotly                        4.14.3\n",
      "pluggy                        0.13.1\n",
      "prometheus-client             0.11.0\n",
      "prompt-toolkit                3.0.19\n",
      "psutil                        5.8.0\n",
      "ptyprocess                    0.7.0\n",
      "PubChemPy                     1.0.4\n",
      "py                            1.10.0\n",
      "pyasn1                        0.4.8\n",
      "pyasn1-modules                0.2.8\n",
      "pybtex                        0.24.0\n",
      "pycairo                       1.20.1\n",
      "pycparser                     2.20\n",
      "pycurl                        7.43.0.6\n",
      "pydantic                      1.8.2\n",
      "pydash                        5.0.2\n",
      "Pygments                      2.9.0\n",
      "PyGObject                     3.40.1\n",
      "pyIsEmail                     1.3.2\n",
      "PyJWT                         2.0.1\n",
      "pymatgen                      2022.0.11\n",
      "pymatgen-diffusion            2020.10.8\n",
      "pymongo                       3.12.0\n",
      "PyNaCl                        1.4.0\n",
      "pynng                         0.7.1\n",
      "pyOpenSSL                     20.0.1\n",
      "pyparsing                     2.4.7\n",
      "pyrsistent                    0.18.0\n",
      "PySocks                       1.7.1\n",
      "pytest                        6.2.4\n",
      "python-dateutil               2.8.2\n",
      "python-editor                 1.0.4\n",
      "python-json-logger            2.0.1\n",
      "pytz                          2021.1\n",
      "PyWavelets                    1.1.1\n",
      "PyYAML                        5.4.1\n",
      "pyzmq                         22.2.0\n",
      "ratelimit                     2.2.1\n",
      "reaction-network              2.0.0\n",
      "requests                      2.26.0\n",
      "requests-futures              1.0.0\n",
      "requests-unixsocket           0.2.0\n",
      "retrying                      1.3.3\n",
      "rfc3987                       1.3.8\n",
      "robocrys                      0.2.7\n",
      "ruamel.yaml                   0.17.10\n",
      "ruamel.yaml.clib              0.2.6\n",
      "scikit-image                  0.18.2\n",
      "scikit-learn                  0.24.2\n",
      "scipy                         1.7.1\n",
      "Send2Trash                    1.7.1\n",
      "sentinels                     1.0.0\n",
      "sentry-sdk                    1.3.1\n",
      "service-identity              21.1.0\n",
      "setuptools                    57.4.0\n",
      "simplejson                    3.17.3\n",
      "six                           1.16.0\n",
      "sniffio                       1.2.0\n",
      "spglib                        1.16.1\n",
      "SQLAlchemy                    1.3.23\n",
      "sshtunnel                     0.4.0\n",
      "starlette                     0.14.2\n",
      "strict-rfc3339                0.7\n",
      "swagger-spec-validator        2.7.3\n",
      "sympy                         1.8\n",
      "tabulate                      0.8.9\n",
      "terminado                     0.10.1\n",
      "testpath                      0.5.0\n",
      "threadpoolctl                 2.2.0\n",
      "tifffile                      2021.7.30\n",
      "toml                          0.10.2\n",
      "toolz                         0.11.1\n",
      "tornado                       6.1\n",
      "tqdm                          4.62.0\n",
      "traitlets                     5.0.5\n",
      "Twisted                       21.7.0\n",
      "typing-extensions             3.10.0.0\n",
      "uncertainties                 3.1.6\n",
      "urllib3                       1.26.6\n",
      "wcwidth                       0.2.5\n",
      "webcolors                     1.11.1\n",
      "webencodings                  0.5.1\n",
      "websocket-client              1.1.0\n",
      "Werkzeug                      2.0.1\n",
      "wheel                         0.36.2\n",
      "widgetsnbextension            3.5.1\n",
      "wrapt                         1.12.1\n",
      "yelp-bytes                    0.3.0\n",
      "yelp-encodings                1.0.0\n",
      "zipp                          3.4.0\n",
      "zope.interface                5.4.0\n",
      "zstandard                     0.15.2\n"
     ]
    }
   ],
   "source": [
    "!pip list"
   ]
  },
  {
   "cell_type": "code",
   "execution_count": 4,
   "metadata": {
    "collapsed": false,
    "jupyter": {
     "outputs_hidden": false
    }
   },
   "outputs": [
    {
     "name": "stdout",
     "output_type": "stream",
     "text": [
      "aioitertools==0.7.1\n",
      "alembic @ file:///home/conda/feedstock_root/build_artifacts/alembic_1613901514078/work\n",
      "anyio==3.3.0\n",
      "argon2-cffi==20.1.0\n",
      "async-generator==1.10\n",
      "atomate==0.9.9\n",
      "attrs==21.2.0\n",
      "Automat==20.2.0\n",
      "Babel==2.9.1\n",
      "backcall==0.2.0\n",
      "backports.functools-lru-cache==1.6.1\n",
      "bcrypt==3.2.0\n",
      "bleach==4.0.0\n",
      "blinker==1.4\n",
      "boltons==21.0.0\n",
      "bravado==11.0.3\n",
      "bravado-core==5.17.0\n",
      "brotlipy==0.7.0\n",
      "certifi==2021.5.30\n",
      "certipy==0.1.3\n",
      "cffi==1.14.6\n",
      "chardet @ file:///home/conda/feedstock_root/build_artifacts/chardet_1610093492116/work\n",
      "charset-normalizer==2.0.4\n",
      "click==8.0.1\n",
      "cloudpickle==1.6.0\n",
      "constantly==15.1.0\n",
      "crochet==2.0.0\n",
      "cryptography==3.4.7\n",
      "crystal-toolkit==2021.4.29\n",
      "crystaltoolkit-extension==0.3.0\n",
      "custodian==2021.2.8\n",
      "cycler==0.10.0\n",
      "dask==2021.7.2\n",
      "debugpy==1.4.1\n",
      "decorator==5.0.9\n",
      "defusedxml==0.7.1\n",
      "dnspython==2.1.0\n",
      "email-validator==1.1.3\n",
      "emmet-core==0.9.1\n",
      "entrypoints==0.3\n",
      "fastapi==0.68.0\n",
      "fido==4.2.2\n",
      "filetype==1.0.7\n",
      "FireWorks==1.9.7\n",
      "Flask==2.0.1\n",
      "flask-paginate==0.8.1\n",
      "flatten-dict==0.4.1\n",
      "fsspec==2021.7.0\n",
      "future==0.18.2\n",
      "graphviz==0.17\n",
      "gunicorn==20.1.0\n",
      "h5py==3.3.0\n",
      "hyperlink==21.0.0\n",
      "idna==3.2\n",
      "imageio==2.9.0\n",
      "importlib-metadata @ file:///home/conda/feedstock_root/build_artifacts/importlib-metadata_1610355162947/work\n",
      "incremental==21.3.0\n",
      "inflect==5.3.0\n",
      "iniconfig==1.1.1\n",
      "ipykernel==6.0.3\n",
      "ipython==7.26.0\n",
      "ipython-genutils==0.2.0\n",
      "ipywidgets==7.6.3\n",
      "itsdangerous==2.0.1\n",
      "jedi==0.18.0\n",
      "Jinja2==3.0.1\n",
      "joblib==1.0.1\n",
      "json2html==1.3.0\n",
      "json5==0.9.6\n",
      "jsonpointer==2.1\n",
      "jsonref==0.2\n",
      "jsonschema==3.2.0\n",
      "jupyter-client==6.1.12\n",
      "jupyter-core==4.7.1\n",
      "jupyter-offlinenotebook @ file:///home/conda/feedstock_root/build_artifacts/jupyter-offlinenotebook_1610833110941/work\n",
      "jupyter-resource-usage @ file:///home/conda/feedstock_root/build_artifacts/jupyter-resource-usage_1608550684149/work\n",
      "jupyter-server==1.10.2\n",
      "jupyter-telemetry @ file:///home/conda/feedstock_root/build_artifacts/jupyter_telemetry_1605173804246/work\n",
      "jupyterhub @ file:///home/conda/feedstock_root/build_artifacts/jupyterhub-feedstock_1607688168448/work\n",
      "jupyterlab==3.1.2\n",
      "jupyterlab-pygments==0.1.2\n",
      "jupyterlab-server==2.6.2\n",
      "jupyterlab-widgets==1.0.0\n",
      "kiwisolver==1.3.1\n",
      "latexcodec==2.0.1\n",
      "llvmlite==0.36.0\n",
      "locket==0.2.1\n",
      "maggma==0.30.4\n",
      "Mako @ file:///home/conda/feedstock_root/build_artifacts/mako_1610659158978/work\n",
      "MarkupSafe==2.0.1\n",
      "matminer==0.7.4\n",
      "matplotlib==3.4.2\n",
      "matplotlib-inline==0.1.2\n",
      "mistune==0.8.4\n",
      "mongogrant==0.3.3\n",
      "mongomock==3.23.0\n",
      "monotonic==1.6\n",
      "monty==2021.7.8\n",
      "mp-api==0.7.0\n",
      "mp-pyrho==0.0.14\n",
      "-e git+https://github.com/materialsproject/workshop.git@476ab797de7424e9cdb802d5853f74d1625aca32#egg=mp_workshop\n",
      "mpcontribs-client==3.12.4\n",
      "mpmath==1.2.1\n",
      "msgpack==1.0.2\n",
      "nbclassic==0.3.1\n",
      "nbclient==0.5.3\n",
      "nbconvert==6.1.0\n",
      "nbformat==5.1.3\n",
      "nbgitpuller==0.10.1\n",
      "nbzip==0.1.0\n",
      "nest-asyncio==1.5.1\n",
      "networkx==2.6.2\n",
      "notebook==6.4.0\n",
      "nteract-on-jupyter==2.1.3\n",
      "numba==0.53.1\n",
      "numpy==1.21.1\n",
      "oauthlib==3.0.1\n",
      "olefile @ file:///home/conda/feedstock_root/build_artifacts/olefile_1602866521163/work\n",
      "orjson==3.6.1\n",
      "packaging==21.0\n",
      "palettable==3.3.0\n",
      "pamela==1.0.0\n",
      "pandas==1.3.1\n",
      "pandocfilters==1.4.3\n",
      "paramiko==2.7.2\n",
      "parso==0.8.2\n",
      "partd==1.2.0\n",
      "pexpect==4.8.0\n",
      "pickleshare==0.7.5\n",
      "Pillow==8.3.1\n",
      "Pint==0.17\n",
      "plotly==4.14.3\n",
      "pluggy==0.13.1\n",
      "prometheus-client==0.11.0\n",
      "prompt-toolkit==3.0.19\n",
      "psutil @ file:///home/conda/feedstock_root/build_artifacts/psutil_1610127095958/work\n",
      "ptyprocess==0.7.0\n",
      "PubChemPy==1.0.4\n",
      "py==1.10.0\n",
      "pyasn1==0.4.8\n",
      "pyasn1-modules==0.2.8\n",
      "pybtex==0.24.0\n",
      "pycairo==1.20.1\n",
      "pycparser==2.20\n",
      "pycurl==7.43.0.6\n",
      "pydantic==1.8.2\n",
      "pydash==5.0.2\n",
      "Pygments==2.9.0\n",
      "PyGObject==3.40.1\n",
      "pyIsEmail==1.3.2\n",
      "PyJWT @ file:///home/conda/feedstock_root/build_artifacts/pyjwt_1610910308735/work\n",
      "pymatgen==2022.0.11\n",
      "pymatgen-diffusion==2020.10.8\n",
      "pymongo==3.12.0\n",
      "PyNaCl==1.4.0\n",
      "pynng==0.7.1\n",
      "pyOpenSSL==20.0.1\n",
      "pyparsing==2.4.7\n",
      "pyrsistent==0.18.0\n",
      "PySocks @ file:///home/conda/feedstock_root/build_artifacts/pysocks_1610291451001/work\n",
      "pytest==6.2.4\n",
      "python-dateutil==2.8.2\n",
      "python-editor==1.0.4\n",
      "python-json-logger @ file:///home/conda/feedstock_root/build_artifacts/python-json-logger_1602545356084/work\n",
      "pytz==2021.1\n",
      "PyWavelets==1.1.1\n",
      "PyYAML==5.4.1\n",
      "pyzmq==22.2.0\n",
      "ratelimit==2.2.1\n",
      "reaction-network==2.0.0\n",
      "requests==2.26.0\n",
      "requests-futures==1.0.0\n",
      "requests-unixsocket==0.2.0\n",
      "retrying==1.3.3\n",
      "rfc3987==1.3.8\n",
      "robocrys==0.2.7\n",
      "ruamel.yaml==0.17.10\n",
      "ruamel.yaml.clib==0.2.6\n",
      "scikit-image==0.18.2\n",
      "scikit-learn==0.24.2\n",
      "scipy==1.7.1\n",
      "Send2Trash==1.7.1\n",
      "sentinels==1.0.0\n",
      "sentry-sdk==1.3.1\n",
      "service-identity==21.1.0\n",
      "simplejson==3.17.3\n",
      "six==1.16.0\n",
      "sniffio==1.2.0\n",
      "spglib==1.16.1\n",
      "SQLAlchemy @ file:///home/conda/feedstock_root/build_artifacts/sqlalchemy_1612225078198/work\n",
      "sshtunnel==0.4.0\n",
      "starlette==0.14.2\n",
      "strict-rfc3339==0.7\n",
      "swagger-spec-validator==2.7.3\n",
      "sympy==1.8\n",
      "tabulate==0.8.9\n",
      "terminado==0.10.1\n",
      "testpath==0.5.0\n",
      "threadpoolctl==2.2.0\n",
      "tifffile==2021.7.30\n",
      "toml==0.10.2\n",
      "toolz==0.11.1\n",
      "tornado==6.1\n",
      "tqdm==4.62.0\n",
      "traitlets==5.0.5\n",
      "Twisted==21.7.0\n",
      "typing-extensions==3.10.0.0\n",
      "uncertainties==3.1.6\n",
      "urllib3==1.26.6\n",
      "wcwidth==0.2.5\n",
      "webcolors==1.11.1\n",
      "webencodings==0.5.1\n",
      "websocket-client==1.1.0\n",
      "Werkzeug==2.0.1\n",
      "widgetsnbextension==3.5.1\n",
      "wrapt==1.12.1\n",
      "yelp-bytes==0.3.0\n",
      "yelp-encodings==1.0.0\n",
      "zipp @ file:///home/conda/feedstock_root/build_artifacts/zipp_1603668650351/work\n",
      "zope.interface==5.4.0\n",
      "zstandard @ file:///home/conda/feedstock_root/build_artifacts/zstandard_1614954803539/work\n"
     ]
    }
   ],
   "source": [
    "!pip freeze"
   ]
  },
  {
   "cell_type": "markdown",
   "metadata": {},
   "source": [
    "## Searching for python packages\n",
    "Python packages for (nearly) any task can be found on the [Python Package Index (PyPI)](https://pypi.org/). PyPI is an online repository of 3rd party packages. Additionally, most python packages can be found on github, gitlab or other code repositories. Google search is also very handy when searching for packages.\n",
    "\n",
    "* *For those familiar with pip, `pip search` has recently been deprecated. See this [link](https://status.python.org/) and this [github issue](https://github.com/pypa/pip/issues/5216) for more information.*"
   ]
  },
  {
   "cell_type": "markdown",
   "metadata": {},
   "source": [
    "For demonstration purposes, we will examine the PyPI entry for [MDAnalysis](https://pypi.org/project/MDAnalysis/). The landing page for MDAnalysis provides us with details on the package in addition to installation instructions, examples, and release history."
   ]
  },
  {
   "cell_type": "markdown",
   "metadata": {},
   "source": [
    "## Installing python packages"
   ]
  },
  {
   "cell_type": "markdown",
   "metadata": {},
   "source": [
    "To install the latest version of a package, use `pip install`"
   ]
  },
  {
   "cell_type": "code",
   "execution_count": 5,
   "metadata": {
    "collapsed": false,
    "jupyter": {
     "outputs_hidden": false
    }
   },
   "outputs": [
    {
     "name": "stdout",
     "output_type": "stream",
     "text": [
      "\u001b[33mWARNING: Package(s) not found: MDAnalysis\u001b[0m\n"
     ]
    }
   ],
   "source": [
    "!pip show MDAnalysis"
   ]
  },
  {
   "cell_type": "code",
   "execution_count": 6,
   "metadata": {
    "collapsed": false,
    "jupyter": {
     "outputs_hidden": false
    },
    "scrolled": true
   },
   "outputs": [
    {
     "name": "stdout",
     "output_type": "stream",
     "text": [
      "Defaulting to user installation because normal site-packages is not writeable\n",
      "Collecting MDAnalysis\n",
      "  Downloading MDAnalysis-1.0.0.tar.gz (19.6 MB)\n",
      "\u001b[K     |████████████████████████████████| 19.6 MB 4.9 MB/s eta 0:00:01\n",
      "\u001b[?25hRequirement already satisfied: numpy>=1.13.3 in ./.local/lib/python3.9/site-packages (from MDAnalysis) (1.21.1)\n",
      "Collecting biopython>=1.71\n",
      "  Downloading biopython-1.79-cp39-cp39-manylinux_2_5_x86_64.manylinux1_x86_64.whl (2.3 MB)\n",
      "\u001b[K     |████████████████████████████████| 2.3 MB 67.3 MB/s eta 0:00:01\n",
      "\u001b[?25hRequirement already satisfied: networkx>=1.0 in ./.local/lib/python3.9/site-packages (from MDAnalysis) (2.6.2)\n",
      "Collecting GridDataFormats>=0.4.0\n",
      "  Downloading GridDataFormats-0.5.0-py2.py3-none-any.whl (2.0 MB)\n",
      "\u001b[K     |████████████████████████████████| 2.0 MB 113.9 MB/s eta 0:00:01\n",
      "\u001b[?25hRequirement already satisfied: six>=1.4.0 in ./.local/lib/python3.9/site-packages (from MDAnalysis) (1.16.0)\n",
      "Collecting mmtf-python>=1.0.0\n",
      "  Downloading mmtf_python-1.1.2-py2.py3-none-any.whl (21 kB)\n",
      "Requirement already satisfied: joblib>=0.12 in ./.local/lib/python3.9/site-packages (from MDAnalysis) (1.0.1)\n",
      "Requirement already satisfied: scipy>=1.0.0 in ./.local/lib/python3.9/site-packages (from MDAnalysis) (1.7.1)\n",
      "Requirement already satisfied: matplotlib>=1.5.1 in ./.local/lib/python3.9/site-packages (from MDAnalysis) (3.4.2)\n",
      "Collecting mock\n",
      "  Downloading mock-4.0.3-py3-none-any.whl (28 kB)\n",
      "Requirement already satisfied: tqdm>=4.43.0 in ./.local/lib/python3.9/site-packages (from MDAnalysis) (4.62.0)\n",
      "Collecting gsd>=1.4.0\n",
      "  Downloading gsd-2.4.2-cp39-cp39-manylinux2010_x86_64.whl (354 kB)\n",
      "\u001b[K     |████████████████████████████████| 354 kB 88.1 MB/s eta 0:00:01\n",
      "\u001b[?25hRequirement already satisfied: kiwisolver>=1.0.1 in ./.local/lib/python3.9/site-packages (from matplotlib>=1.5.1->MDAnalysis) (1.3.1)\n",
      "Requirement already satisfied: cycler>=0.10 in ./.local/lib/python3.9/site-packages (from matplotlib>=1.5.1->MDAnalysis) (0.10.0)\n",
      "Requirement already satisfied: python-dateutil>=2.7 in ./.local/lib/python3.9/site-packages (from matplotlib>=1.5.1->MDAnalysis) (2.8.2)\n",
      "Requirement already satisfied: pillow>=6.2.0 in ./.local/lib/python3.9/site-packages (from matplotlib>=1.5.1->MDAnalysis) (8.3.1)\n",
      "Requirement already satisfied: pyparsing>=2.2.1 in ./.local/lib/python3.9/site-packages (from matplotlib>=1.5.1->MDAnalysis) (2.4.7)\n",
      "Requirement already satisfied: msgpack>=0.5.6 in ./.local/lib/python3.9/site-packages (from mmtf-python>=1.0.0->MDAnalysis) (1.0.2)\n",
      "Building wheels for collected packages: MDAnalysis\n",
      "  Building wheel for MDAnalysis (setup.py) ... \u001b[?25ldone\n",
      "\u001b[?25h  Created wheel for MDAnalysis: filename=MDAnalysis-1.0.0-cp39-cp39-linux_x86_64.whl size=2042632 sha256=ec1e3d699b6756c1907745e1e56e5b077b9e29520cbb6830c1143c040aea3020\n",
      "  Stored in directory: /home/user/.cache/pip/wheels/50/9f/9e/803a0fafc253694711c79fb2940e717d32cf5114719a444cc5\n",
      "Successfully built MDAnalysis\n",
      "Installing collected packages: mock, mmtf-python, gsd, GridDataFormats, biopython, MDAnalysis\n",
      "Successfully installed GridDataFormats-0.5.0 MDAnalysis-1.0.0 biopython-1.79 gsd-2.4.2 mmtf-python-1.1.2 mock-4.0.3\n"
     ]
    }
   ],
   "source": [
    "!pip install MDAnalysis"
   ]
  },
  {
   "cell_type": "markdown",
   "metadata": {},
   "source": [
    "Now, we confirm the package is installed using the `pip show` command again."
   ]
  },
  {
   "cell_type": "code",
   "execution_count": 7,
   "metadata": {
    "collapsed": false,
    "jupyter": {
     "outputs_hidden": false
    }
   },
   "outputs": [
    {
     "name": "stdout",
     "output_type": "stream",
     "text": [
      "Name: MDAnalysis\n",
      "Version: 1.0.0\n",
      "Summary: An object-oriented toolkit to analyze molecular dynamics trajectories generated by CHARMM, Gromacs, NAMD, LAMMPS, or Amber.\n",
      "Home-page: https://www.mdanalysis.org\n",
      "Author: Naveen Michaud-Agrawal\n",
      "Author-email: naveen.michaudagrawal@gmail.com\n",
      "License: GPL 2\n",
      "Location: /home/user/.local/lib/python3.9/site-packages\n",
      "Requires: mmtf-python, gsd, numpy, networkx, tqdm, GridDataFormats, matplotlib, scipy, mock, six, joblib, biopython\n",
      "Required-by: \n"
     ]
    }
   ],
   "source": [
    "!pip show MDAnalysis"
   ]
  },
  {
   "cell_type": "markdown",
   "metadata": {},
   "source": [
    "After installing the package, we must reload the notebook kernel to load the newly installed package. To do this, click Kernel -> Restart Kernel"
   ]
  },
  {
   "cell_type": "code",
   "execution_count": 8,
   "metadata": {
    "collapsed": false,
    "jupyter": {
     "outputs_hidden": false
    }
   },
   "outputs": [
    {
     "data": {
      "text/plain": [
       "'1.0.0'"
      ]
     },
     "execution_count": 8,
     "metadata": {},
     "output_type": "execute_result"
    }
   ],
   "source": [
    "import MDAnalysis\n",
    "MDAnalysis.__version__"
   ]
  },
  {
   "cell_type": "markdown",
   "metadata": {},
   "source": [
    "Package versions can be found on the PyPI page for each package. We can specify the version we want installed using `==`."
   ]
  },
  {
   "cell_type": "code",
   "execution_count": 9,
   "metadata": {
    "collapsed": false,
    "jupyter": {
     "outputs_hidden": false
    },
    "scrolled": true
   },
   "outputs": [
    {
     "name": "stdout",
     "output_type": "stream",
     "text": [
      "Defaulting to user installation because normal site-packages is not writeable\n",
      "Collecting MDAnalysis==2.0.0b0\n",
      "  Downloading MDAnalysis-2.0.0b0.tar.gz (3.4 MB)\n",
      "\u001b[K     |████████████████████████████████| 3.4 MB 5.0 MB/s eta 0:00:01\n",
      "\u001b[?25hRequirement already satisfied: numpy>=1.16.0 in ./.local/lib/python3.9/site-packages (from MDAnalysis==2.0.0b0) (1.21.1)\n",
      "Requirement already satisfied: biopython>=1.71 in ./.local/lib/python3.9/site-packages (from MDAnalysis==2.0.0b0) (1.79)\n",
      "Requirement already satisfied: networkx>=1.0 in ./.local/lib/python3.9/site-packages (from MDAnalysis==2.0.0b0) (2.6.2)\n",
      "Requirement already satisfied: GridDataFormats>=0.4.0 in ./.local/lib/python3.9/site-packages (from MDAnalysis==2.0.0b0) (0.5.0)\n",
      "Requirement already satisfied: mmtf-python>=1.0.0 in ./.local/lib/python3.9/site-packages (from MDAnalysis==2.0.0b0) (1.1.2)\n",
      "Requirement already satisfied: joblib>=0.12 in ./.local/lib/python3.9/site-packages (from MDAnalysis==2.0.0b0) (1.0.1)\n",
      "Requirement already satisfied: scipy>=1.0.0 in ./.local/lib/python3.9/site-packages (from MDAnalysis==2.0.0b0) (1.7.1)\n",
      "Requirement already satisfied: matplotlib>=1.5.1 in ./.local/lib/python3.9/site-packages (from MDAnalysis==2.0.0b0) (3.4.2)\n",
      "Requirement already satisfied: tqdm>=4.43.0 in ./.local/lib/python3.9/site-packages (from MDAnalysis==2.0.0b0) (4.62.0)\n",
      "Requirement already satisfied: threadpoolctl in ./.local/lib/python3.9/site-packages (from MDAnalysis==2.0.0b0) (2.2.0)\n",
      "Requirement already satisfied: gsd>=1.4.0 in ./.local/lib/python3.9/site-packages (from MDAnalysis==2.0.0b0) (2.4.2)\n",
      "Requirement already satisfied: six in ./.local/lib/python3.9/site-packages (from GridDataFormats>=0.4.0->MDAnalysis==2.0.0b0) (1.16.0)\n",
      "Requirement already satisfied: pillow>=6.2.0 in ./.local/lib/python3.9/site-packages (from matplotlib>=1.5.1->MDAnalysis==2.0.0b0) (8.3.1)\n",
      "Requirement already satisfied: kiwisolver>=1.0.1 in ./.local/lib/python3.9/site-packages (from matplotlib>=1.5.1->MDAnalysis==2.0.0b0) (1.3.1)\n",
      "Requirement already satisfied: python-dateutil>=2.7 in ./.local/lib/python3.9/site-packages (from matplotlib>=1.5.1->MDAnalysis==2.0.0b0) (2.8.2)\n",
      "Requirement already satisfied: pyparsing>=2.2.1 in ./.local/lib/python3.9/site-packages (from matplotlib>=1.5.1->MDAnalysis==2.0.0b0) (2.4.7)\n",
      "Requirement already satisfied: cycler>=0.10 in ./.local/lib/python3.9/site-packages (from matplotlib>=1.5.1->MDAnalysis==2.0.0b0) (0.10.0)\n",
      "Requirement already satisfied: msgpack>=0.5.6 in ./.local/lib/python3.9/site-packages (from mmtf-python>=1.0.0->MDAnalysis==2.0.0b0) (1.0.2)\n",
      "Building wheels for collected packages: MDAnalysis\n",
      "  Building wheel for MDAnalysis (setup.py) ... \u001b[?25ldone\n",
      "\u001b[?25h  Created wheel for MDAnalysis: filename=MDAnalysis-2.0.0b0-cp39-cp39-linux_x86_64.whl size=2045870 sha256=8f899c5b6b9af11c06c9d20843adbe1b94866304b3c1dc3b2e52624b625f9052\n",
      "  Stored in directory: /home/user/.cache/pip/wheels/5e/a7/28/1c392640be72c44d40adeefd5ea798b0e67d685eca30c253e9\n",
      "Successfully built MDAnalysis\n",
      "Installing collected packages: MDAnalysis\n",
      "  Attempting uninstall: MDAnalysis\n",
      "    Found existing installation: MDAnalysis 1.0.0\n",
      "    Uninstalling MDAnalysis-1.0.0:\n",
      "      Successfully uninstalled MDAnalysis-1.0.0\n",
      "Successfully installed MDAnalysis-2.0.0b0\n"
     ]
    }
   ],
   "source": [
    "!pip install --upgrade MDAnalysis==2.0.0b0"
   ]
  },
  {
   "cell_type": "code",
   "execution_count": 10,
   "metadata": {
    "collapsed": false,
    "jupyter": {
     "outputs_hidden": false
    }
   },
   "outputs": [
    {
     "name": "stdout",
     "output_type": "stream",
     "text": [
      "Name: MDAnalysis\n",
      "Version: 2.0.0b0\n",
      "Summary: An object-oriented toolkit to analyze molecular dynamics trajectories generated by CHARMM, Gromacs, NAMD, LAMMPS, or Amber.\n",
      "Home-page: https://www.mdanalysis.org\n",
      "Author: MDAnalysis Development Team\n",
      "Author-email: mdanalysis@numfocus.org\n",
      "License: GPL 2\n",
      "Location: /home/user/.local/lib/python3.9/site-packages\n",
      "Requires: scipy, matplotlib, numpy, mmtf-python, joblib, gsd, threadpoolctl, networkx, GridDataFormats, tqdm, biopython\n",
      "Required-by: \n"
     ]
    }
   ],
   "source": [
    "!pip show MDAnalysis"
   ]
  },
  {
   "cell_type": "markdown",
   "metadata": {},
   "source": [
    "Again, we must restart our kernel to reset our ipython runtime environment."
   ]
  },
  {
   "cell_type": "code",
   "execution_count": 1,
   "metadata": {
    "collapsed": false,
    "jupyter": {
     "outputs_hidden": false
    }
   },
   "outputs": [
    {
     "data": {
      "text/plain": [
       "'2.0.0-beta'"
      ]
     },
     "execution_count": 1,
     "metadata": {},
     "output_type": "execute_result"
    }
   ],
   "source": [
    "import MDAnalysis\n",
    "MDAnalysis.__version__"
   ]
  },
  {
   "cell_type": "markdown",
   "metadata": {},
   "source": [
    "### Installing from packages from Github\n",
    "\n",
    "In some cases, especially for development or when using alpha or beta code, we must install the package from the source code. As an example, we will install [mpmorph](https://github.com/materialsproject/mpmorph) which is a package for running AIMD calculations in vasp using pymatgen, fireworks, and atomate."
   ]
  },
  {
   "cell_type": "code",
   "execution_count": 5,
   "metadata": {
    "collapsed": false,
    "jupyter": {
     "outputs_hidden": false
    },
    "tags": [
     "no-execute"
    ]
   },
   "outputs": [
    {
     "name": "stdout",
     "output_type": "stream",
     "text": [
      "Cloning into 'mpmorph'...\n",
      "remote: Enumerating objects: 3783, done.\u001b[K\n",
      "remote: Counting objects: 100% (28/28), done.\u001b[K\n",
      "remote: Compressing objects: 100% (28/28), done.\u001b[K\n",
      "remote: Total 3783 (delta 10), reused 12 (delta 0), pack-reused 3755\u001b[K\n",
      "Receiving objects: 100% (3783/3783), 9.34 MiB | 47.56 MiB/s, done.\n",
      "Resolving deltas: 100% (2800/2800), done.\n"
     ]
    }
   ],
   "source": [
    "!git clone https://github.com/materialsproject/mpmorph.git"
   ]
  },
  {
   "cell_type": "code",
   "execution_count": 6,
   "metadata": {
    "collapsed": false,
    "jupyter": {
     "outputs_hidden": false
    },
    "tags": [
     "no-execute"
    ]
   },
   "outputs": [
    {
     "name": "stdout",
     "output_type": "stream",
     "text": [
      "Defaulting to user installation because normal site-packages is not writeable\n",
      "Processing ./mpmorph\n",
      "Building wheels for collected packages: mpmorph\n",
      "  Building wheel for mpmorph (setup.py) ... \u001b[?25ldone\n",
      "\u001b[?25h  Created wheel for mpmorph: filename=mpmorph-2.0-py3-none-any.whl size=27793 sha256=260f76fa490c5a6ae4de435fe727cddab19e0ebc1ad00d7475762758ee45b04f\n",
      "  Stored in directory: /tmp/pip-ephem-wheel-cache-gpk650ld/wheels/75/13/14/9cae08c333bf3b02e96d00b42c197d452d7b8b33413abb062c\n",
      "Successfully built mpmorph\n",
      "Installing collected packages: mpmorph\n",
      "Successfully installed mpmorph-2.0\n"
     ]
    }
   ],
   "source": [
    "!pip install mpmorph/"
   ]
  },
  {
   "cell_type": "code",
   "execution_count": 7,
   "metadata": {
    "collapsed": false,
    "jupyter": {
     "outputs_hidden": false
    },
    "tags": [
     "no-execute"
    ]
   },
   "outputs": [
    {
     "name": "stdout",
     "output_type": "stream",
     "text": [
      "Name: mpmorph\n",
      "Version: 2.0\n",
      "Summary: UNKNOWN\n",
      "Home-page: https://github.com/materialsproject/mpmorph\n",
      "Author: Muratahan Aykol\n",
      "Author-email: maykol@lbl.gov\n",
      "License: modified BSD\n",
      "Location: /home/user/.local/lib/python3.9/site-packages\n",
      "Requires: \n",
      "Required-by: \n"
     ]
    }
   ],
   "source": [
    "!pip show mpmorph"
   ]
  },
  {
   "cell_type": "markdown",
   "metadata": {},
   "source": [
    "## Removing Python Packages"
   ]
  },
  {
   "cell_type": "markdown",
   "metadata": {},
   "source": [
    "Use `pip uninstall` to remove a python package. Use the `-y` flag to pre-confirm the uninstall"
   ]
  },
  {
   "cell_type": "code",
   "execution_count": 8,
   "metadata": {
    "collapsed": false,
    "jupyter": {
     "outputs_hidden": false
    }
   },
   "outputs": [
    {
     "name": "stdout",
     "output_type": "stream",
     "text": [
      "Found existing installation: MDAnalysis 2.0.0b0\n",
      "Uninstalling MDAnalysis-2.0.0b0:\n",
      "  Successfully uninstalled MDAnalysis-2.0.0b0\n"
     ]
    }
   ],
   "source": [
    "!pip uninstall -y MDAnalysis"
   ]
  },
  {
   "cell_type": "code",
   "execution_count": 9,
   "metadata": {
    "collapsed": false,
    "jupyter": {
     "outputs_hidden": false
    }
   },
   "outputs": [
    {
     "name": "stdout",
     "output_type": "stream",
     "text": [
      "\u001b[33mWARNING: Package(s) not found: MDAnalysis\u001b[0m\n"
     ]
    }
   ],
   "source": [
    "!pip show MDAnalysis"
   ]
  },
  {
   "cell_type": "markdown",
   "metadata": {},
   "source": [
    "Now when we attempt to show the details, we see that the MDAnalysis package is uninstalled and cannot be found"
   ]
  },
  {
   "cell_type": "code",
   "execution_count": 10,
   "metadata": {
    "collapsed": false,
    "jupyter": {
     "outputs_hidden": false
    }
   },
   "outputs": [
    {
     "name": "stdout",
     "output_type": "stream",
     "text": [
      "Found existing installation: mpmorph 2.0\n",
      "Uninstalling mpmorph-2.0:\n",
      "  Successfully uninstalled mpmorph-2.0\n"
     ]
    }
   ],
   "source": [
    "!pip uninstall -y mpmorph"
   ]
  },
  {
   "cell_type": "markdown",
   "metadata": {},
   "source": [
    "# Introduction to Conda (and Mamba)"
   ]
  },
  {
   "cell_type": "markdown",
   "metadata": {},
   "source": [
    "Much like pip, conda is a program writen in python for the purpose of managing packages. However, using conda, managed packages and software are not limited to python. Conda is a general-purpose package manager and enables installation of C libraries or R packages. Additionally, conda installs pre-built binaries, although it is possible to build packages from the source.\n",
    "\n",
    "Conda also allows for the creation of virtual environments. Environments are very powerful and allow us to install a local collection of packages isolated from system packages or other environments. Unlike pip, conda can also install or manage different versions of python. Conda and pip are usually used in conjunction.\n",
    "\n",
    "While conda is written in python, a mamba has recently been released and reimplements the functionality of conda using C++. Mamba offers parallel downloading of repository data and package files and a faster dependency solver. We will be using mamba in the workshop, however the two are interchangeable - that is, all `mamba` commands we use can be directly replaced with `conda` (i.e. `mamba install -y pymatgen` and `conda install -y pymatgen` both work) unless otherwise noted."
   ]
  },
  {
   "cell_type": "code",
   "execution_count": 1,
   "metadata": {
    "collapsed": false,
    "jupyter": {
     "outputs_hidden": false
    },
    "tags": []
   },
   "outputs": [
    {
     "name": "stdout",
     "output_type": "stream",
     "text": [
      "usage: mamba [-h] [-V] command ...\n",
      "\n",
      "conda is a tool for managing and deploying applications, environments and packages.\n",
      "\n",
      "Options:\n",
      "\n",
      "positional arguments:\n",
      "  command\n",
      "    clean        Remove unused packages and caches.\n",
      "    compare      Compare packages between conda environments.\n",
      "    config       Modify configuration values in .condarc. This is modeled\n",
      "                 after the git config command. Writes to the user .condarc\n",
      "                 file (/home/user/.condarc) by default.\n",
      "    create       Create a new conda environment from a list of specified\n",
      "                 packages.\n",
      "    help         Displays a list of available conda commands and their help\n",
      "                 strings.\n",
      "    info         Display information about current conda install.\n",
      "    init         Initialize conda for shell interaction. [Experimental]\n",
      "    install      Installs a list of packages into a specified conda\n",
      "                 environment.\n",
      "    list         List linked packages in a conda environment.\n",
      "    package      Low-level conda package utility. (EXPERIMENTAL)\n",
      "    remove       Remove a list of packages from a specified conda environment.\n",
      "    uninstall    Alias for conda remove.\n",
      "    run          Run an executable in a conda environment. [Experimental]\n",
      "    search       Search for packages and display associated information. The\n",
      "                 input is a MatchSpec, a query language for conda packages.\n",
      "                 See examples below.\n",
      "    update       Updates conda packages to the latest compatible version.\n",
      "    upgrade      Alias for conda update.\n",
      "    repoquery    Query repositories using mamba.\n",
      "\n",
      "optional arguments:\n",
      "  -h, --help     Show this help message and exit.\n",
      "  -V, --version  Show the conda version number and exit.\n",
      "\n",
      "conda commands available from other packages:\n",
      "  env\n"
     ]
    }
   ],
   "source": [
    "!mamba -h"
   ]
  },
  {
   "cell_type": "markdown",
   "metadata": {},
   "source": [
    "We can get a list of the available conda environments using the `conda env list` command"
   ]
  },
  {
   "cell_type": "code",
   "execution_count": 2,
   "metadata": {
    "collapsed": false,
    "jupyter": {
     "outputs_hidden": false
    },
    "tags": [
     "no-execute"
    ]
   },
   "outputs": [
    {
     "name": "stdout",
     "output_type": "stream",
     "text": [
      "usage: conda-env [-h] {create,export,list,remove,update,config} ...\n",
      "\n",
      "positional arguments:\n",
      "  {create,export,list,remove,update,config}\n",
      "    create              Create an environment based on an environment file\n",
      "    export              Export a given environment\n",
      "    list                List the Conda environments\n",
      "    remove              Remove an environment\n",
      "    update              Update the current environment based on environment\n",
      "                        file\n",
      "    config              Configure a conda environment\n",
      "\n",
      "optional arguments:\n",
      "  -h, --help            Show this help message and exit.\n",
      "\n",
      "conda commands available from other packages:\n",
      "  env\n"
     ]
    }
   ],
   "source": [
    "!mamba env --help"
   ]
  },
  {
   "cell_type": "code",
   "execution_count": 3,
   "metadata": {
    "collapsed": false,
    "jupyter": {
     "outputs_hidden": false
    },
    "tags": [
     "no-execute"
    ]
   },
   "outputs": [
    {
     "name": "stdout",
     "output_type": "stream",
     "text": [
      "# conda environments:\n",
      "#\n",
      "patrick                  /home/user/.conda/envs/patrick\n",
      "base                  *  /srv/conda\n",
      "notebook                 /srv/conda/envs/notebook\n",
      "\n"
     ]
    }
   ],
   "source": [
    "!mamba env list"
   ]
  },
  {
   "cell_type": "markdown",
   "metadata": {},
   "source": [
    "## Creating Conda Environments"
   ]
  },
  {
   "cell_type": "markdown",
   "metadata": {},
   "source": [
    "Create a new conda environment using the `conda create` command. We use the -y flag, since we cannot provide confirmation to the running code. We specify the environment to be created with a installation of python 3.9"
   ]
  },
  {
   "cell_type": "code",
   "execution_count": 4,
   "metadata": {
    "collapsed": false,
    "jupyter": {
     "outputs_hidden": false
    },
    "tags": [
     "no-execute"
    ]
   },
   "outputs": [
    {
     "name": "stdout",
     "output_type": "stream",
     "text": [
      "\n",
      "                  __    __    __    __\n",
      "                 /  \\  /  \\  /  \\  /  \\\n",
      "                /    \\/    \\/    \\/    \\\n",
      "███████████████/  /██/  /██/  /██/  /████████████████████████\n",
      "              /  / \\   / \\   / \\   / \\  \\____\n",
      "             /  /   \\_/   \\_/   \\_/   \\    o \\__,\n",
      "            / _/                       \\_____/  `\n",
      "            |/\n",
      "        ███╗   ███╗ █████╗ ███╗   ███╗██████╗  █████╗\n",
      "        ████╗ ████║██╔══██╗████╗ ████║██╔══██╗██╔══██╗\n",
      "        ██╔████╔██║███████║██╔████╔██║██████╔╝███████║\n",
      "        ██║╚██╔╝██║██╔══██║██║╚██╔╝██║██╔══██╗██╔══██║\n",
      "        ██║ ╚═╝ ██║██║  ██║██║ ╚═╝ ██║██████╔╝██║  ██║\n",
      "        ╚═╝     ╚═╝╚═╝  ╚═╝╚═╝     ╚═╝╚═════╝ ╚═╝  ╚═╝\n",
      "\n",
      "        mamba (0.7.4) supported by @QuantStack\n",
      "\n",
      "        GitHub:  https://github.com/mamba-org/mamba\n",
      "        Twitter: https://twitter.com/QuantStack\n",
      "\n",
      "█████████████████████████████████████████████████████████████\n",
      "\n",
      "\n",
      "Looking for: ['python=3.9']\n",
      "\n",
      "pkgs/main/noarch         [=>                  ] (--:--) No change\n",
      "pkgs/main/noarch         [====================] (00m:00s) No change\n",
      "pkgs/main/noarch         [====================] (00m:00s) No change\n",
      "pkgs/r/linux-64          [>                   ] (--:--) No change\n",
      "pkgs/r/linux-64          [====================] (00m:00s) No change\n",
      "pkgs/r/linux-64          [====================] (00m:00s) No change\n",
      "pkgs/main/linux-64       [>                   ] (--:--) No change\n",
      "pkgs/main/linux-64       [====================] (00m:00s) No change\n",
      "pkgs/main/linux-64       [====================] (00m:00s) No change\n",
      "conda-forge/noarch       [>                   ] (--:--) No change\n",
      "conda-forge/noarch       [====================] (00m:00s) No change\n",
      "conda-forge/noarch       [====================] (00m:00s) No change\n",
      "conda-forge/linux-64     [=>                  ] (--:--) No change\n",
      "conda-forge/linux-64     [====================] (00m:00s) No change\n",
      "conda-forge/linux-64     [====================] (00m:00s) No change\n",
      "pkgs/r/noarch            [=>                  ] (--:--) No change\n",
      "pkgs/r/noarch            [====================] (00m:00s) No change\n",
      "pkgs/r/noarch            [====================] (00m:00s) No change\n",
      "Transaction\n",
      "\n",
      "  Prefix: /home/user/.conda/envs/temp_env\n",
      "\n",
      "  Updating specs:\n",
      "\n",
      "   - python==3.9\n",
      "\n",
      "\n",
      "  Package             Version  Build               Channel                    Size\n",
      "────────────────────────────────────────────────────────────────────────────────────\n",
      "  Install:\n",
      "────────────────────────────────────────────────────────────────────────────────────\n",
      "\n",
      "\u001b[32m  _libgcc_mutex   \u001b[00m        0.1  conda_forge         conda-forge/linux-64\u001b[32m     Cached\u001b[00m\n",
      "\u001b[32m  _openmp_mutex   \u001b[00m        4.5  1_gnu               conda-forge/linux-64\u001b[32m     Cached\u001b[00m\n",
      "\u001b[32m  ca-certificates \u001b[00m  2021.5.30  ha878542_0          conda-forge/linux-64\u001b[32m     Cached\u001b[00m\n",
      "\u001b[32m  certifi         \u001b[00m  2021.5.30  py39hf3d152e_0      conda-forge/linux-64\u001b[32m     Cached\u001b[00m\n",
      "\u001b[32m  ld_impl_linux-64\u001b[00m     2.36.1  hea4e1c9_2          conda-forge/linux-64\u001b[32m     Cached\u001b[00m\n",
      "\u001b[32m  libffi          \u001b[00m        3.3  h58526e2_2          conda-forge/linux-64\u001b[32m     Cached\u001b[00m\n",
      "\u001b[32m  libgcc-ng       \u001b[00m     11.1.0  hc902ee8_8          conda-forge/linux-64\u001b[32m     Cached\u001b[00m\n",
      "\u001b[32m  libgomp         \u001b[00m     11.1.0  hc902ee8_8          conda-forge/linux-64\u001b[32m     Cached\u001b[00m\n",
      "\u001b[32m  libstdcxx-ng    \u001b[00m     11.1.0  h56837e0_8          conda-forge/linux-64\u001b[32m     Cached\u001b[00m\n",
      "\u001b[32m  ncurses         \u001b[00m        6.2  h58526e2_4          conda-forge/linux-64\u001b[32m     Cached\u001b[00m\n",
      "\u001b[32m  openssl         \u001b[00m     1.1.1k  h7f98852_0          conda-forge/linux-64\u001b[32m     Cached\u001b[00m\n",
      "\u001b[32m  pip             \u001b[00m     21.2.2  pyhd8ed1ab_0        conda-forge/noarch  \u001b[32m     Cached\u001b[00m\n",
      "\u001b[32m  python          \u001b[00m      3.9.6  h49503c6_1_cpython  conda-forge/linux-64\u001b[32m     Cached\u001b[00m\n",
      "\u001b[32m  python_abi      \u001b[00m        3.9  2_cp39              conda-forge/linux-64\u001b[32m     Cached\u001b[00m\n",
      "\u001b[32m  readline        \u001b[00m        8.1  h46c0cb4_0          conda-forge/linux-64\u001b[32m     Cached\u001b[00m\n",
      "\u001b[32m  setuptools      \u001b[00m     49.6.0  py39hf3d152e_3      conda-forge/linux-64\u001b[32m     Cached\u001b[00m\n",
      "\u001b[32m  sqlite          \u001b[00m     3.36.0  h9cd32fc_0          conda-forge/linux-64\u001b[32m     Cached\u001b[00m\n",
      "\u001b[32m  tk              \u001b[00m     8.6.10  hed695b0_1          conda-forge/linux-64       3 MB\n",
      "\u001b[32m  tzdata          \u001b[00m      2021a  he74cb21_1          conda-forge/noarch  \u001b[32m     Cached\u001b[00m\n",
      "\u001b[32m  wheel           \u001b[00m     0.36.2  pyhd3deb0d_0        conda-forge/noarch  \u001b[32m     Cached\u001b[00m\n",
      "\u001b[32m  xz              \u001b[00m      5.2.5  h516909a_1          conda-forge/linux-64\u001b[32m     Cached\u001b[00m\n",
      "\u001b[32m  zlib            \u001b[00m     1.2.11  h516909a_1010       conda-forge/linux-64\u001b[32m     Cached\u001b[00m\n",
      "\n",
      "  Summary:\n",
      "\n",
      "  Install: 22 packages\n",
      "\n",
      "  Total download: 3 MB\n",
      "\n",
      "────────────────────────────────────────────────────────────────────────────────────\n",
      "\n",
      "tk                       [==>                 ] (00m:00s) \n",
      "tk                       [>     ] (00m:00s)    478 KB /      3 MB (  1.55 MB/s)\n",
      "tk                       [======] (00m:00s)    478 KB /      3 MB (  1.55 MB/s)\n",
      "tk                       [====================] (00m:00s) Validating...\n",
      "tk                       [====================] (00m:00s) Waiting...\n",
      "tk                       [====================] (00m:00s) Decompressing...\n",
      "\u001b[1A\u001b[0KFinished tk                                   (00m:00s)               3 MB      9 MB/s\n",
      "Preparing transaction: done\n",
      "Verifying transaction: done\n",
      "Executing transaction: done\n",
      "#\n",
      "# To activate this environment, use\n",
      "#\n",
      "#     $ conda activate temp_env\n",
      "#\n",
      "# To deactivate an active environment, use\n",
      "#\n",
      "#     $ conda deactivate\n",
      "\n"
     ]
    }
   ],
   "source": [
    "!mamba create -y --name temp_env python=3.9"
   ]
  },
  {
   "cell_type": "markdown",
   "metadata": {},
   "source": [
    "Our new environment shows up under our list of conda environments. However it is not the active environment (does not have a * next to it)."
   ]
  },
  {
   "cell_type": "code",
   "execution_count": 5,
   "metadata": {
    "collapsed": false,
    "jupyter": {
     "outputs_hidden": false
    },
    "tags": [
     "no-execute"
    ]
   },
   "outputs": [
    {
     "name": "stdout",
     "output_type": "stream",
     "text": [
      "# conda environments:\n",
      "#\n",
      "patrick                  /home/user/.conda/envs/patrick\n",
      "temp_env                 /home/user/.conda/envs/temp_env\n",
      "base                  *  /srv/conda\n",
      "notebook                 /srv/conda/envs/notebook\n",
      "\n"
     ]
    }
   ],
   "source": [
    "!mamba env list"
   ]
  },
  {
   "cell_type": "markdown",
   "metadata": {},
   "source": [
    "## Using and interacting with Conda environments"
   ]
  },
  {
   "cell_type": "markdown",
   "metadata": {},
   "source": [
    "We must activate our environment to install python packages and run python code using the new environment. Since we are interacting with our environment from jupyter notebook, we must activate our environment within each cell before we use any bash commands.\n",
    "\n",
    "To do this, use the `%%bash` command to create a multi-line bash cell, then activate the environment using `source activate <env_name>`"
   ]
  },
  {
   "cell_type": "code",
   "execution_count": 6,
   "metadata": {
    "collapsed": false,
    "jupyter": {
     "outputs_hidden": false
    },
    "tags": [
     "no-execute"
    ]
   },
   "outputs": [
    {
     "name": "stdout",
     "output_type": "stream",
     "text": [
      "# conda environments:\n",
      "#\n",
      "patrick                  /home/user/.conda/envs/patrick\n",
      "temp_env              *  /home/user/.conda/envs/temp_env\n",
      "base                     /srv/conda\n",
      "notebook                 /srv/conda/envs/notebook\n",
      "\n"
     ]
    }
   ],
   "source": [
    "%%bash\n",
    "source activate temp_env\n",
    "\n",
    "mamba env list"
   ]
  },
  {
   "cell_type": "markdown",
   "metadata": {},
   "source": [
    "Now, using the `conda env list` command, we see our new environment is active, as denoted by the *"
   ]
  },
  {
   "cell_type": "code",
   "execution_count": 7,
   "metadata": {
    "collapsed": false,
    "jupyter": {
     "outputs_hidden": false
    },
    "tags": [
     "no-execute"
    ]
   },
   "outputs": [
    {
     "name": "stdout",
     "output_type": "stream",
     "text": [
      "\n",
      "                  __    __    __    __\n",
      "                 /  \\  /  \\  /  \\  /  \\\n",
      "                /    \\/    \\/    \\/    \\\n",
      "███████████████/  /██/  /██/  /██/  /████████████████████████\n",
      "              /  / \\   / \\   / \\   / \\  \\____\n",
      "             /  /   \\_/   \\_/   \\_/   \\    o \\__,\n",
      "            / _/                       \\_____/  `\n",
      "            |/\n",
      "        ███╗   ███╗ █████╗ ███╗   ███╗██████╗  █████╗\n",
      "        ████╗ ████║██╔══██╗████╗ ████║██╔══██╗██╔══██╗\n",
      "        ██╔████╔██║███████║██╔████╔██║██████╔╝███████║\n",
      "        ██║╚██╔╝██║██╔══██║██║╚██╔╝██║██╔══██╗██╔══██║\n",
      "        ██║ ╚═╝ ██║██║  ██║██║ ╚═╝ ██║██████╔╝██║  ██║\n",
      "        ╚═╝     ╚═╝╚═╝  ╚═╝╚═╝     ╚═╝╚═════╝ ╚═╝  ╚═╝\n",
      "\n",
      "        mamba (0.7.4) supported by @QuantStack\n",
      "\n",
      "        GitHub:  https://github.com/mamba-org/mamba\n",
      "        Twitter: https://twitter.com/QuantStack\n",
      "\n",
      "█████████████████████████████████████████████████████████████\n",
      "\n",
      "# packages in environment at /home/user/.conda/envs/temp_env:\n",
      "#\n",
      "# Name                    Version                   Build  Channel\n",
      "_libgcc_mutex             0.1                 conda_forge    conda-forge\n",
      "_openmp_mutex             4.5                       1_gnu    conda-forge\n",
      "ca-certificates           2021.5.30            ha878542_0    conda-forge\n",
      "certifi                   2021.5.30        py39hf3d152e_0    conda-forge\n",
      "ld_impl_linux-64          2.36.1               hea4e1c9_2    conda-forge\n",
      "libffi                    3.3                  h58526e2_2    conda-forge\n",
      "libgcc-ng                 11.1.0               hc902ee8_8    conda-forge\n",
      "libgomp                   11.1.0               hc902ee8_8    conda-forge\n",
      "libstdcxx-ng              11.1.0               h56837e0_8    conda-forge\n",
      "ncurses                   6.2                  h58526e2_4    conda-forge\n",
      "openssl                   1.1.1k               h7f98852_0    conda-forge\n",
      "pip                       21.2.2             pyhd8ed1ab_0    conda-forge\n",
      "python                    3.9.6           h49503c6_1_cpython    conda-forge\n",
      "python_abi                3.9                      2_cp39    conda-forge\n",
      "readline                  8.1                  h46c0cb4_0    conda-forge\n",
      "setuptools                49.6.0           py39hf3d152e_3    conda-forge\n",
      "sqlite                    3.36.0               h9cd32fc_0    conda-forge\n",
      "tk                        8.6.10               hed695b0_1    conda-forge\n",
      "tzdata                    2021a                he74cb21_1    conda-forge\n",
      "wheel                     0.36.2             pyhd3deb0d_0    conda-forge\n",
      "xz                        5.2.5                h516909a_1    conda-forge\n",
      "zlib                      1.2.11            h516909a_1010    conda-forge\n"
     ]
    }
   ],
   "source": [
    "%%bash\n",
    "source activate temp_env\n",
    "\n",
    "mamba list"
   ]
  },
  {
   "cell_type": "markdown",
   "metadata": {},
   "source": [
    "## Installing from conda-forge"
   ]
  },
  {
   "cell_type": "markdown",
   "metadata": {},
   "source": [
    "When using conda to install or search for packages, the standard behaviour is to search the [default repositories](https://repo.anaconda.com/pkgs/). These are packages provided by Anaconda, Inc. for free. To access third-party software, we can use the conda-forge channel. [Conda-Forge](https://conda-forge.org/index.html) is a community effort to provide conda packages for a wide range of software."
   ]
  },
  {
   "cell_type": "markdown",
   "metadata": {},
   "source": [
    "To install software from the conda-forge channel, simply add `-c conda-forge` to the `conda install` command. This will tell conda to include the packages in conda-forge when searching for packages and dependencies.\n",
    "\n",
    "Many Materials Project codes (such as pymatgen, fireworks, custodian, atomate, and matminer) are available through the conda-forge channel."
   ]
  },
  {
   "cell_type": "markdown",
   "metadata": {},
   "source": [
    "\\* Note: repoquery is not available in conda. In conda, you must use `conda search numpy` and its equivalent command in mamba is `mamba search numpy`. We use the `repoquery` command, as it offers improved speed over the default search."
   ]
  },
  {
   "cell_type": "code",
   "execution_count": 8,
   "metadata": {
    "collapsed": false,
    "jupyter": {
     "outputs_hidden": false
    },
    "tags": [
     "no-execute"
    ]
   },
   "outputs": [
    {
     "name": "stdout",
     "output_type": "stream",
     "text": [
      "conda-forge/linux-64     Using cache\n",
      "conda-forge/noarch       Using cache\n",
      "pkgs/main/linux-64       Using cache\n",
      "pkgs/main/noarch         Using cache\n",
      "pkgs/r/linux-64          Using cache\n",
      "pkgs/r/noarch            Using cache\n",
      "\n",
      "                  __    __    __    __\n",
      "                 /  \\  /  \\  /  \\  /  \\\n",
      "                /    \\/    \\/    \\/    \\\n",
      "███████████████/  /██/  /██/  /██/  /████████████████████████\n",
      "              /  / \\   / \\   / \\   / \\  \\____\n",
      "             /  /   \\_/   \\_/   \\_/   \\    o \\__,\n",
      "            / _/                       \\_____/  `\n",
      "            |/\n",
      "        ███╗   ███╗ █████╗ ███╗   ███╗██████╗  █████╗\n",
      "        ████╗ ████║██╔══██╗████╗ ████║██╔══██╗██╔══██╗\n",
      "        ██╔████╔██║███████║██╔████╔██║██████╔╝███████║\n",
      "        ██║╚██╔╝██║██╔══██║██║╚██╔╝██║██╔══██╗██╔══██║\n",
      "        ██║ ╚═╝ ██║██║  ██║██║ ╚═╝ ██║██████╔╝██║  ██║\n",
      "        ╚═╝     ╚═╝╚═╝  ╚═╝╚═╝     ╚═╝╚═════╝ ╚═╝  ╚═╝\n",
      "\n",
      "        mamba (0.7.4) supported by @QuantStack\n",
      "\n",
      "        GitHub:  https://github.com/mamba-org/mamba\n",
      "        Twitter: https://twitter.com/QuantStack\n",
      "\n",
      "█████████████████████████████████████████████████████████████\n",
      "\n",
      "\n",
      "Executing the query numpy\n",
      "\n",
      "\n",
      "\n",
      " Name  Version Build                           Channel             \n",
      "────────────────────────────────────────────────────────────────────\n",
      " numpy 1.21.1  py39hdbf815f_0                  conda-forge/linux-64\n",
      " numpy 1.21.1  py38h9894fe3_0                  conda-forge/linux-64\n",
      " numpy 1.21.1  py37h620df1f_0                  conda-forge/linux-64\n",
      " numpy 1.21.1  py37h038b26d_0                  conda-forge/linux-64\n",
      " numpy 1.21.0  py39hdbf815f_0                  conda-forge/linux-64\n",
      " numpy 1.21.0  py38h9894fe3_0                  conda-forge/linux-64\n",
      " numpy 1.21.0  py37h620df1f_0                  conda-forge/linux-64\n",
      " numpy 1.21.0  py37h038b26d_0                  conda-forge/linux-64\n",
      " numpy 1.20.3  py37h038b26d_0                  conda-forge/linux-64\n",
      " numpy 1.20.3  py39hdbf815f_1                  conda-forge/linux-64\n",
      " numpy 1.20.3  py39hdbf815f_0                  conda-forge/linux-64\n",
      " numpy 1.20.3  py38h9894fe3_1                  conda-forge/linux-64\n",
      " numpy 1.20.3  py38h9894fe3_0                  conda-forge/linux-64\n",
      " numpy 1.20.3  py37h038b26d_1                  conda-forge/linux-64\n",
      " numpy 1.20.3  py37h620df1f_0                  conda-forge/linux-64\n",
      " numpy 1.20.3  py37h620df1f_1                  conda-forge/linux-64\n",
      " numpy 1.20.3  py37h3dbb7de_0                  pkgs/main/linux-64  \n",
      " numpy 1.20.3  py37hf144106_0                  pkgs/main/linux-64  \n",
      " numpy 1.20.3  py38h3dbb7de_0                  pkgs/main/linux-64  \n",
      " numpy 1.20.3  py38hf144106_0                  pkgs/main/linux-64  \n",
      " numpy 1.20.3  py39h3dbb7de_0                  pkgs/main/linux-64  \n",
      " numpy 1.20.3  py39hf144106_0                  pkgs/main/linux-64  \n",
      " numpy 1.20.2  py38h2d18471_0                  pkgs/main/linux-64  \n",
      " numpy 1.20.2  py39hdbf815f_0                  conda-forge/linux-64\n",
      " numpy 1.20.2  py38h9894fe3_0                  conda-forge/linux-64\n",
      " numpy 1.20.2  py37h620df1f_0                  conda-forge/linux-64\n",
      " numpy 1.20.2  py37h038b26d_0                  conda-forge/linux-64\n",
      " numpy 1.20.2  py39h62767a5_0                  pkgs/main/linux-64  \n",
      " numpy 1.20.2  py39h2d18471_0                  pkgs/main/linux-64  \n",
      " numpy 1.20.2  py38h62767a5_0                  pkgs/main/linux-64  \n",
      " numpy 1.20.2  py37h2d18471_0                  pkgs/main/linux-64  \n",
      " numpy 1.20.2  py37h62767a5_0                  pkgs/main/linux-64  \n",
      " numpy 1.20.1  py38h18fd61f_0                  conda-forge/linux-64\n",
      " numpy 1.20.1  py39hdbf815f_0                  conda-forge/linux-64\n",
      " numpy 1.20.1  py37haa41c4c_0                  conda-forge/linux-64\n",
      " numpy 1.20.1  py37h620df1f_0                  conda-forge/linux-64\n",
      " numpy 1.20.1  py37h5a90a98_0                  pkgs/main/linux-64  \n",
      " numpy 1.20.1  py37h93e21f0_0                  pkgs/main/linux-64  \n",
      " numpy 1.20.1  py38h5a90a98_0                  pkgs/main/linux-64  \n",
      " numpy 1.20.1  py38h93e21f0_0                  pkgs/main/linux-64  \n",
      " numpy 1.20.1  py39h5a90a98_0                  pkgs/main/linux-64  \n",
      " numpy 1.20.1  py39h93e21f0_0                  pkgs/main/linux-64  \n",
      " numpy 1.20.0  py39hdbf815f_0                  conda-forge/linux-64\n",
      " numpy 1.20.0  py38h18fd61f_0                  conda-forge/linux-64\n",
      " numpy 1.20.0  py37haa41c4c_0                  conda-forge/linux-64\n",
      " numpy 1.20.0  py37h620df1f_0                  conda-forge/linux-64\n",
      " numpy 1.19.5  py36h7e87304_0                  conda-forge/linux-64\n",
      " numpy 1.19.5  py36h2aa4a07_0                  conda-forge/linux-64\n",
      " numpy 1.19.5  py36h7e87304_1                  conda-forge/linux-64\n",
      " numpy 1.19.5  py36hfc0c790_2                  conda-forge/linux-64\n",
      " numpy 1.19.5  py37h038b26d_2                  conda-forge/linux-64\n",
      " numpy 1.19.5  py37h620df1f_1                  conda-forge/linux-64\n",
      " numpy 1.19.5  py37h620df1f_2                  conda-forge/linux-64\n",
      " numpy 1.19.5  py37haa41c4c_0                  conda-forge/linux-64\n",
      " numpy 1.19.5  py37haa41c4c_1                  conda-forge/linux-64\n",
      " numpy 1.19.5  py38h18fd61f_0                  conda-forge/linux-64\n",
      " numpy 1.19.5  py38h18fd61f_1                  conda-forge/linux-64\n",
      " numpy 1.19.5  py38h9894fe3_2                  conda-forge/linux-64\n",
      " numpy 1.19.5  py39hdbf815f_0                  conda-forge/linux-64\n",
      " numpy 1.19.5  py39hdbf815f_1                  conda-forge/linux-64\n",
      " numpy 1.19.5  py36h2aa4a07_1                  conda-forge/linux-64\n",
      " numpy 1.19.5  py39hdbf815f_2                  conda-forge/linux-64\n",
      " numpy 1.19.4  py36h2aa4a07_2                  conda-forge/linux-64\n",
      " numpy 1.19.4  py36h8732dcd_0                  conda-forge/linux-64\n",
      " numpy 1.19.4  py36h8732dcd_1                  conda-forge/linux-64\n",
      " numpy 1.19.4  py36hf5aa452_0                  conda-forge/linux-64\n",
      " numpy 1.19.4  py37h7e9df27_0                  conda-forge/linux-64\n",
      " numpy 1.19.4  py37h7e9df27_1                  conda-forge/linux-64\n",
      " numpy 1.19.4  py37haa41c4c_2                  conda-forge/linux-64\n",
      " numpy 1.19.4  py38h18fd61f_2                  conda-forge/linux-64\n",
      " numpy 1.19.4  py38hf0fd68c_0                  conda-forge/linux-64\n",
      " numpy 1.19.4  py38hf0fd68c_1                  conda-forge/linux-64\n",
      " numpy 1.19.4  py39h57d35e7_0                  conda-forge/linux-64\n",
      " numpy 1.19.4  py39h57d35e7_1                  conda-forge/linux-64\n",
      " numpy 1.19.4  py39hdbf815f_2                  conda-forge/linux-64\n",
      " numpy 1.19.2  py37h6163131_0                  pkgs/main/linux-64  \n",
      " numpy 1.19.2  py39h87658db_0                  pkgs/main/linux-64  \n",
      " numpy 1.19.2  py36h3849536_0                  conda-forge/linux-64\n",
      " numpy 1.19.2  py36h3849536_1                  conda-forge/linux-64\n",
      " numpy 1.19.2  py36h68c22af_1                  conda-forge/linux-64\n",
      " numpy 1.19.2  py36h865be6f_1                  conda-forge/linux-64\n",
      " numpy 1.19.2  py36he0f5f23_1                  conda-forge/linux-64\n",
      " numpy 1.19.2  py37h7008fea_1                  conda-forge/linux-64\n",
      " numpy 1.19.2  py37h7ea13bd_0                  conda-forge/linux-64\n",
      " numpy 1.19.2  py37h7ea13bd_1                  conda-forge/linux-64\n",
      " numpy 1.19.2  py38hbc27379_0                  conda-forge/linux-64\n",
      " numpy 1.19.2  py38hbc27379_1                  conda-forge/linux-64\n",
      " numpy 1.19.2  py38hf89b668_1                  conda-forge/linux-64\n",
      " numpy 1.19.2  py39h2bb7b6c_1                  conda-forge/linux-64\n",
      " numpy 1.19.2  py39hb68c0c8_1                  conda-forge/linux-64\n",
      " numpy 1.19.2  py36h54aff64_0                  pkgs/main/linux-64  \n",
      " numpy 1.19.2  py36h6163131_0                  pkgs/main/linux-64  \n",
      " numpy 1.19.2  py37h54aff64_0                  pkgs/main/linux-64  \n",
      " numpy 1.19.2  py38h54aff64_0                  pkgs/main/linux-64  \n",
      " numpy 1.19.2  py38h6163131_0                  pkgs/main/linux-64  \n",
      " numpy 1.19.2  py39h89c1606_0                  pkgs/main/linux-64  \n",
      " numpy 1.19.1  py37h7ea13bd_1                  conda-forge/linux-64\n",
      " numpy 1.19.1  py38hbc27379_2                  conda-forge/linux-64\n",
      " numpy 1.19.1  py38hbc27379_1                  conda-forge/linux-64\n",
      " numpy 1.19.1  py38h8854b6b_0                  conda-forge/linux-64\n",
      " numpy 1.19.1  py37h8960a57_0                  conda-forge/linux-64\n",
      " numpy 1.19.1  py37h7ea13bd_2                  conda-forge/linux-64\n",
      " numpy 1.19.1  py38h30dfecb_0                  pkgs/main/linux-64  \n",
      " numpy 1.19.1  py36h3849536_1                  conda-forge/linux-64\n",
      " numpy 1.19.1  py36h3849536_2                  conda-forge/linux-64\n",
      " numpy 1.19.1  py36h7314795_0                  conda-forge/linux-64\n",
      " numpy 1.19.1  py36he0f5f23_0                  conda-forge/linux-64\n",
      " numpy 1.19.1  py36he0f5f23_1                  conda-forge/linux-64\n",
      " numpy 1.19.1  py36he0f5f23_2                  conda-forge/linux-64\n",
      " numpy 1.19.1  py36h30dfecb_0                  pkgs/main/linux-64  \n",
      " numpy 1.19.1  py36hbc911f0_0                  pkgs/main/linux-64  \n",
      " numpy 1.19.1  py37h30dfecb_0                  pkgs/main/linux-64  \n",
      " numpy 1.19.1  py37hbc911f0_0                  pkgs/main/linux-64  \n",
      " numpy 1.19.1  py38hbc911f0_0                  pkgs/main/linux-64  \n",
      " numpy 1.19.0  py36h7314795_0                  conda-forge/linux-64\n",
      " numpy 1.19.0  py38h8854b6b_0                  conda-forge/linux-64\n",
      " numpy 1.19.0  py37h8960a57_0                  conda-forge/linux-64\n",
      " numpy 1.19.0  py36he0f5f23_0                  conda-forge/linux-64\n",
      " numpy 1.18.5  py37ha1c710e_0                  pkgs/main/linux-64  \n",
      " numpy 1.18.5  py36h7314795_0                  conda-forge/linux-64\n",
      " numpy 1.18.5  py36he0f5f23_0                  conda-forge/linux-64\n",
      " numpy 1.18.5  py37h8960a57_0                  conda-forge/linux-64\n",
      " numpy 1.18.5  py38h8854b6b_0                  conda-forge/linux-64\n",
      " numpy 1.18.5  py38ha1c710e_0                  pkgs/main/linux-64  \n",
      " numpy 1.18.5  py36h7130bb8_0                  pkgs/main/linux-64  \n",
      " numpy 1.18.5  py36ha1c710e_0                  pkgs/main/linux-64  \n",
      " numpy 1.18.5  py37h7130bb8_0                  pkgs/main/linux-64  \n",
      " numpy 1.18.5  py38h7130bb8_0                  pkgs/main/linux-64  \n",
      " numpy 1.18.4  py38h8854b6b_0                  conda-forge/linux-64\n",
      " numpy 1.18.4  py37h8960a57_0                  conda-forge/linux-64\n",
      " numpy 1.18.4  py36he0f5f23_0                  conda-forge/linux-64\n",
      " numpy 1.18.4  py36h7314795_0                  conda-forge/linux-64\n",
      " numpy 1.18.1  py38h95a1406_0                  conda-forge/linux-64\n",
      " numpy 1.18.1  py38h8854b6b_1                  conda-forge/linux-64\n",
      " numpy 1.18.1  py37h95a1406_0                  conda-forge/linux-64\n",
      " numpy 1.18.1  py37h8960a57_1                  conda-forge/linux-64\n",
      " numpy 1.18.1  py38h4f9e942_0                  pkgs/main/linux-64  \n",
      " numpy 1.18.1  py37h94c655d_0                  pkgs/main/linux-64  \n",
      " numpy 1.18.1  py37h4f9e942_0                  pkgs/main/linux-64  \n",
      " numpy 1.18.1  py36h94c655d_0                  pkgs/main/linux-64  \n",
      " numpy 1.18.1  py36h4f9e942_0                  pkgs/main/linux-64  \n",
      " numpy 1.18.1  py38h94c655d_0                  pkgs/main/linux-64  \n",
      " numpy 1.18.1  py36he0f5f23_1                  conda-forge/linux-64\n",
      " numpy 1.18.1  py36h95a1406_0                  conda-forge/linux-64\n",
      " numpy 1.18.1  py36h7314795_1                  conda-forge/linux-64\n",
      " numpy 1.17.5  py36h2aa4a07_1                  conda-forge/linux-64\n",
      " numpy 1.17.5  py36h95a1406_0                  conda-forge/linux-64\n",
      " numpy 1.17.5  py37h95a1406_0                  conda-forge/linux-64\n",
      " numpy 1.17.5  py37haa41c4c_1                  conda-forge/linux-64\n",
      " numpy 1.17.5  py38h18fd61f_1                  conda-forge/linux-64\n",
      " numpy 1.17.5  py38h95a1406_0                  conda-forge/linux-64\n",
      " numpy 1.17.4  py36hc1035e2_0                  pkgs/main/linux-64  \n",
      " numpy 1.17.4  py36hd5be1e1_0                  pkgs/main/linux-64  \n",
      " numpy 1.17.4  py37hc1035e2_0                  pkgs/main/linux-64  \n",
      " numpy 1.17.4  py37hd5be1e1_0                  pkgs/main/linux-64  \n",
      " numpy 1.17.4  py38hc1035e2_0                  pkgs/main/linux-64  \n",
      " numpy 1.17.4  py38hd5be1e1_0                  pkgs/main/linux-64  \n",
      " numpy 1.17.3  py38h95a1406_0                  conda-forge/linux-64\n",
      " numpy 1.17.3  py38h7e8d029_0                  pkgs/main/linux-64  \n",
      " numpy 1.17.3  py37hd14ec0e_0                  pkgs/main/linux-64  \n",
      " numpy 1.17.3  py37h7e8d029_0                  pkgs/main/linux-64  \n",
      " numpy 1.17.3  py36hd14ec0e_0                  pkgs/main/linux-64  \n",
      " numpy 1.17.3  py36h7e8d029_0                  pkgs/main/linux-64  \n",
      " numpy 1.17.3  py37h95a1406_0                  conda-forge/linux-64\n",
      " numpy 1.17.3  py36h95a1406_0                  conda-forge/linux-64\n",
      " numpy 1.17.2  py37h95a1406_0                  conda-forge/linux-64\n",
      " numpy 1.17.2  py36h95a1406_0                  conda-forge/linux-64\n",
      " numpy 1.17.2  py36haad9e8e_0                  pkgs/main/linux-64  \n",
      " numpy 1.17.2  py37hf9bf1b6_0                  pkgs/main/linux-64  \n",
      " numpy 1.17.2  py37haad9e8e_0                  pkgs/main/linux-64  \n",
      " numpy 1.17.2  py36hf9bf1b6_0                  pkgs/main/linux-64  \n",
      " numpy 1.17.1  py37h95a1406_0                  conda-forge/linux-64\n",
      " numpy 1.17.1  py36h95a1406_0                  conda-forge/linux-64\n",
      " numpy 1.17.0  py37h99e49ec_0                  pkgs/r/linux-64     \n",
      " numpy 1.17.0  py37h95a1406_0                  conda-forge/linux-64\n",
      " numpy 1.17.0  py36h95a1406_0                  conda-forge/linux-64\n",
      " numpy 1.17.0  py36h7e9f1db_0                  pkgs/r/linux-64     \n",
      " numpy 1.17.0  py36h99e49ec_0                  pkgs/r/linux-64     \n",
      " numpy 1.17.0  py37h7e9f1db_0                  pkgs/r/linux-64     \n",
      " numpy 1.16.6  py36h2aa4a07_0                  conda-forge/linux-64\n",
      " numpy 1.16.6  py36h30dfecb_0                  pkgs/main/linux-64  \n",
      " numpy 1.16.6  py37haa41c4c_0                  conda-forge/linux-64\n",
      " numpy 1.16.6  py38h18fd61f_0                  conda-forge/linux-64\n",
      " numpy 1.16.6  py36h2d18471_3                  pkgs/main/linux-64  \n",
      " numpy 1.16.6  py36h0a8e133_3                  pkgs/main/linux-64  \n",
      " numpy 1.16.6  py27hbc911f0_0                  pkgs/main/linux-64  \n",
      " numpy 1.16.6  py27h30dfecb_0                  pkgs/main/linux-64  \n",
      " numpy 1.16.6  py36hbc911f0_0                  pkgs/main/linux-64  \n",
      " numpy 1.16.6  py37h0a8e133_3                  pkgs/main/linux-64  \n",
      " numpy 1.16.6  py37h2d18471_3                  pkgs/main/linux-64  \n",
      " numpy 1.16.6  py37h30dfecb_0                  pkgs/main/linux-64  \n",
      " numpy 1.16.6  py37hbc911f0_0                  pkgs/main/linux-64  \n",
      " numpy 1.16.6  py38h0a8e133_3                  pkgs/main/linux-64  \n",
      " numpy 1.16.6  py38h2d18471_3                  pkgs/main/linux-64  \n",
      " numpy 1.16.6  py38h30dfecb_0                  pkgs/main/linux-64  \n",
      " numpy 1.16.6  py38hbc911f0_0                  pkgs/main/linux-64  \n",
      " numpy 1.16.6  py39h0a8e133_3                  pkgs/main/linux-64  \n",
      " numpy 1.16.6  py39h2d18471_3                  pkgs/main/linux-64  \n",
      " numpy 1.16.6  py39h89c1606_1                  pkgs/main/linux-64  \n",
      " numpy 1.16.6  py39hdd937aa_1                  pkgs/main/linux-64  \n",
      " numpy 1.16.5  py38h95a1406_0                  conda-forge/linux-64\n",
      " numpy 1.16.5  py38h18fd61f_1                  conda-forge/linux-64\n",
      " numpy 1.16.5  py37haa41c4c_1                  conda-forge/linux-64\n",
      " numpy 1.16.5  py37h95a1406_0                  conda-forge/linux-64\n",
      " numpy 1.16.5  py37h99e49ec_0                  pkgs/main/linux-64  \n",
      " numpy 1.16.5  py27h95a1406_0                  conda-forge/linux-64\n",
      " numpy 1.16.5  py36h2aa4a07_1                  conda-forge/linux-64\n",
      " numpy 1.16.5  py36h95a1406_0                  conda-forge/linux-64\n",
      " numpy 1.16.5  py37h7e9f1db_0                  pkgs/main/linux-64  \n",
      " numpy 1.16.5  py36h99e49ec_0                  pkgs/main/linux-64  \n",
      " numpy 1.16.5  py36h7e9f1db_0                  pkgs/main/linux-64  \n",
      " numpy 1.16.5  py27h99e49ec_0                  pkgs/main/linux-64  \n",
      " numpy 1.16.5  py27h7e9f1db_0                  pkgs/main/linux-64  \n",
      " numpy 1.16.4  py36h99e49ec_0                  pkgs/main/linux-64  \n",
      " numpy 1.16.4  py37h99e49ec_0                  pkgs/main/linux-64  \n",
      " numpy 1.16.4  py37h7e9f1db_0                  pkgs/main/linux-64  \n",
      " numpy 1.16.4  py36h7e9f1db_0                  pkgs/main/linux-64  \n",
      " numpy 1.16.4  py27h99e49ec_0                  pkgs/main/linux-64  \n",
      " numpy 1.16.4  py27h7e9f1db_0                  pkgs/main/linux-64  \n",
      " numpy 1.16.4  py37h95a1406_0                  conda-forge/linux-64\n",
      " numpy 1.16.4  py36h95a1406_0                  conda-forge/linux-64\n",
      " numpy 1.16.4  py27h95a1406_0                  conda-forge/linux-64\n",
      " numpy 1.16.3  py27he5ce36f_0                  conda-forge/linux-64\n",
      " numpy 1.16.3  py37he5ce36f_0                  conda-forge/linux-64\n",
      " numpy 1.16.3  py36he5ce36f_0                  conda-forge/linux-64\n",
      " numpy 1.16.3  py37h99e49ec_0                  pkgs/main/linux-64  \n",
      " numpy 1.16.3  py37h7e9f1db_0                  pkgs/main/linux-64  \n",
      " numpy 1.16.3  py36h99e49ec_0                  pkgs/main/linux-64  \n",
      " numpy 1.16.3  py36h7e9f1db_0                  pkgs/main/linux-64  \n",
      " numpy 1.16.3  py27h99e49ec_0                  pkgs/main/linux-64  \n",
      " numpy 1.16.3  py27h7e9f1db_0                  pkgs/main/linux-64  \n",
      " numpy 1.16.2  py27h7e9f1db_0                  pkgs/main/linux-64  \n",
      " numpy 1.16.2  py27h99e49ec_0                  pkgs/main/linux-64  \n",
      " numpy 1.16.2  py36h7e9f1db_0                  pkgs/main/linux-64  \n",
      " numpy 1.16.2  py37h99e49ec_0                  pkgs/main/linux-64  \n",
      " numpy 1.16.2  py37h7e9f1db_0                  pkgs/main/linux-64  \n",
      " numpy 1.16.2  py36h99e49ec_0                  pkgs/main/linux-64  \n",
      " numpy 1.16.2  py37h7fc5cc3_0                  conda-forge/linux-64\n",
      " numpy 1.16.2  py37h8b7e671_1                  conda-forge/linux-64\n",
      " numpy 1.16.2  py27_blas_openblash1522bff_0    conda-forge/linux-64\n",
      " numpy 1.16.2  py27h7fc5cc3_0                  conda-forge/linux-64\n",
      " numpy 1.16.2  py27h8b7e671_1                  conda-forge/linux-64\n",
      " numpy 1.16.2  py36_blas_openblash1522bff_0    conda-forge/linux-64\n",
      " numpy 1.16.2  py36h7fc5cc3_0                  conda-forge/linux-64\n",
      " numpy 1.16.2  py36h8b7e671_1                  conda-forge/linux-64\n",
      " numpy 1.16.2  py37_blas_openblash1522bff_0    conda-forge/linux-64\n",
      " numpy 1.16.1  py27h7e9f1db_0                  pkgs/main/linux-64  \n",
      " numpy 1.16.1  py27h7e9f1db_1                  pkgs/main/linux-64  \n",
      " numpy 1.16.1  py27h99e49ec_0                  pkgs/main/linux-64  \n",
      " numpy 1.16.1  py27h99e49ec_1                  pkgs/main/linux-64  \n",
      " numpy 1.16.1  py36h7e9f1db_0                  pkgs/main/linux-64  \n",
      " numpy 1.16.1  py36h7e9f1db_1                  pkgs/main/linux-64  \n",
      " numpy 1.16.1  py36h99e49ec_0                  pkgs/main/linux-64  \n",
      " numpy 1.16.1  py36h99e49ec_1                  pkgs/main/linux-64  \n",
      " numpy 1.16.1  py37h7e9f1db_0                  pkgs/main/linux-64  \n",
      " numpy 1.16.1  py37h7e9f1db_1                  pkgs/main/linux-64  \n",
      " numpy 1.16.1  py37h99e49ec_0                  pkgs/main/linux-64  \n",
      " numpy 1.16.1  py37h99e49ec_1                  pkgs/main/linux-64  \n",
      " numpy 1.16.1  py27_blas_openblash1522bff_0    conda-forge/linux-64\n",
      " numpy 1.16.1  py36_blas_openblash1522bff_0    conda-forge/linux-64\n",
      " numpy 1.16.1  py37_blas_openblash1522bff_0    conda-forge/linux-64\n",
      " numpy 1.16.0  py27h99e49ec_1                  pkgs/main/linux-64  \n",
      " numpy 1.16.0  py36h7e9f1db_0                  pkgs/main/linux-64  \n",
      " numpy 1.16.0  py36h7e9f1db_1                  pkgs/main/linux-64  \n",
      " numpy 1.16.0  py36h99e49ec_0                  pkgs/main/linux-64  \n",
      " numpy 1.16.0  py36h99e49ec_1                  pkgs/main/linux-64  \n",
      " numpy 1.16.0  py37h7e9f1db_0                  pkgs/main/linux-64  \n",
      " numpy 1.16.0  py37h7e9f1db_1                  pkgs/main/linux-64  \n",
      " numpy 1.16.0  py37h99e49ec_0                  pkgs/main/linux-64  \n",
      " numpy 1.16.0  py37h99e49ec_1                  pkgs/main/linux-64  \n",
      " numpy 1.16.0  py37_blas_openblash1522bff_1000 conda-forge/linux-64\n",
      " numpy 1.16.0  py36_blas_openblash1522bff_1000 conda-forge/linux-64\n",
      " numpy 1.16.0  py27_blas_openblash1522bff_1000 conda-forge/linux-64\n",
      " numpy 1.16.0  py27h7e9f1db_0                  pkgs/main/linux-64  \n",
      " numpy 1.16.0  py27h7e9f1db_1                  pkgs/main/linux-64  \n",
      " numpy 1.16.0  py27h99e49ec_0                  pkgs/main/linux-64  \n",
      " numpy 1.15.4  py37h7e9f1db_0                  pkgs/main/linux-64  \n",
      " numpy 1.15.4  py36_blas_openblash1522bff_1000 conda-forge/linux-64\n",
      " numpy 1.15.4  py27h1d66e8a_0                  pkgs/main/linux-64  \n",
      " numpy 1.15.4  py27h7e9f1db_0                  pkgs/main/linux-64  \n",
      " numpy 1.15.4  py27h99e49ec_0                  pkgs/main/linux-64  \n",
      " numpy 1.15.4  py36h1d66e8a_0                  pkgs/main/linux-64  \n",
      " numpy 1.15.4  py36h7e9f1db_0                  pkgs/main/linux-64  \n",
      " numpy 1.15.4  py36h99e49ec_0                  pkgs/main/linux-64  \n",
      " numpy 1.15.4  py27_blas_openblash1522bff_1000 conda-forge/linux-64\n",
      " numpy 1.15.4  py27_blas_openblashb06ca3d_0    conda-forge/linux-64\n",
      " numpy 1.15.4  py27h8b7e671_1001               conda-forge/linux-64\n",
      " numpy 1.15.4  py27h8b7e671_1002               conda-forge/linux-64\n",
      " numpy 1.15.4  py36_blas_openblashb06ca3d_0    conda-forge/linux-64\n",
      " numpy 1.15.4  py36h8b7e671_1001               conda-forge/linux-64\n",
      " numpy 1.15.4  py36h8b7e671_1002               conda-forge/linux-64\n",
      " numpy 1.15.4  py37_blas_openblash1522bff_1000 conda-forge/linux-64\n",
      " numpy 1.15.4  py37_blas_openblashb06ca3d_0    conda-forge/linux-64\n",
      " numpy 1.15.4  py37h8b7e671_1001               conda-forge/linux-64\n",
      " numpy 1.15.4  py37h8b7e671_1002               conda-forge/linux-64\n",
      " numpy 1.15.4  py37h1d66e8a_0                  pkgs/main/linux-64  \n",
      " numpy 1.15.4  py37h99e49ec_0                  pkgs/main/linux-64  \n",
      " numpy 1.15.3  py37h1d66e8a_0                  pkgs/main/linux-64  \n",
      " numpy 1.15.3  py37h99e49ec_0                  pkgs/main/linux-64  \n",
      " numpy 1.15.3  py36h99e49ec_0                  pkgs/main/linux-64  \n",
      " numpy 1.15.3  py36h1d66e8a_0                  pkgs/main/linux-64  \n",
      " numpy 1.15.3  py27h99e49ec_0                  pkgs/main/linux-64  \n",
      " numpy 1.15.3  py27h1d66e8a_0                  pkgs/main/linux-64  \n",
      " numpy 1.15.3  py37_blas_openblashb06ca3d_0    conda-forge/linux-64\n",
      " numpy 1.15.3  py37_blas_openblash1522bff_1000 conda-forge/linux-64\n",
      " numpy 1.15.3  py36_blas_openblashb06ca3d_0    conda-forge/linux-64\n",
      " numpy 1.15.3  py36_blas_openblash1522bff_1000 conda-forge/linux-64\n",
      " numpy 1.15.3  py27_blas_openblashb06ca3d_0    conda-forge/linux-64\n",
      " numpy 1.15.3  py27_blas_openblash1522bff_1000 conda-forge/linux-64\n",
      " numpy 1.15.2  py27h1d66e8a_1                  pkgs/main/linux-64  \n",
      " numpy 1.15.2  py27h99e49ec_0                  pkgs/main/linux-64  \n",
      " numpy 1.15.2  py27h99e49ec_1                  pkgs/main/linux-64  \n",
      " numpy 1.15.2  py35h1d66e8a_0                  pkgs/main/linux-64  \n",
      " numpy 1.15.2  py35h99e49ec_0                  pkgs/main/linux-64  \n",
      " numpy 1.15.2  py37_blas_openblashb06ca3d_201  conda-forge/linux-64\n",
      " numpy 1.15.2  py36h1d66e8a_0                  pkgs/main/linux-64  \n",
      " numpy 1.15.2  py27h1d66e8a_0                  pkgs/main/linux-64  \n",
      " numpy 1.15.2  py36_blas_openblash1522bff_1001 conda-forge/linux-64\n",
      " numpy 1.15.2  py35_blas_openblashd3ea46f_0    conda-forge/linux-64\n",
      " numpy 1.15.2  py27_blas_openblashd3ea46f_1    conda-forge/linux-64\n",
      " numpy 1.15.2  py27_blas_openblashd3ea46f_0    conda-forge/linux-64\n",
      " numpy 1.15.2  py27_blas_openblashb06ca3d_201  conda-forge/linux-64\n",
      " numpy 1.15.2  py27_blas_openblashb06ca3d_1    conda-forge/linux-64\n",
      " numpy 1.15.2  py27_blas_openblash1522bff_1201 conda-forge/linux-64\n",
      " numpy 1.15.2  py27_blas_openblash1522bff_1001 conda-forge/linux-64\n",
      " numpy 1.15.2  py36h99e49ec_0                  pkgs/main/linux-64  \n",
      " numpy 1.15.2  py36h1d66e8a_1                  pkgs/main/linux-64  \n",
      " numpy 1.15.2  py36_blas_openblashb06ca3d_1    conda-forge/linux-64\n",
      " numpy 1.15.2  py36_blas_openblashb06ca3d_201  conda-forge/linux-64\n",
      " numpy 1.15.2  py36_blas_openblashd3ea46f_0    conda-forge/linux-64\n",
      " numpy 1.15.2  py36_blas_openblashd3ea46f_1    conda-forge/linux-64\n",
      " numpy 1.15.2  py37_blas_openblash1522bff_1001 conda-forge/linux-64\n",
      " numpy 1.15.2  py37_blas_openblash1522bff_1201 conda-forge/linux-64\n",
      " numpy 1.15.2  py37_blas_openblashd3ea46f_1    conda-forge/linux-64\n",
      " numpy 1.15.2  py37_blas_openblashb06ca3d_1    conda-forge/linux-64\n",
      " numpy 1.15.2  py36_blas_openblash1522bff_1201 conda-forge/linux-64\n",
      " numpy 1.15.2  py37h99e49ec_1                  pkgs/main/linux-64  \n",
      " numpy 1.15.2  py37h99e49ec_0                  pkgs/main/linux-64  \n",
      " numpy 1.15.2  py37h1d66e8a_1                  pkgs/main/linux-64  \n",
      " numpy 1.15.2  py37h1d66e8a_0                  pkgs/main/linux-64  \n",
      " numpy 1.15.2  py36h99e49ec_1                  pkgs/main/linux-64  \n",
      " numpy 1.15.1  py35_blas_openblashd3ea46f_0    conda-forge/linux-64\n",
      " numpy 1.15.1  py35_blas_openblashd3ea46f_1    conda-forge/linux-64\n",
      " numpy 1.15.1  py36_blas_openblashd3ea46f_0    conda-forge/linux-64\n",
      " numpy 1.15.1  py36_blas_openblashd3ea46f_1    conda-forge/linux-64\n",
      " numpy 1.15.1  py37_blas_openblashd3ea46f_1    conda-forge/linux-64\n",
      " numpy 1.15.1  py27_blas_openblashd3ea46f_1    conda-forge/linux-64\n",
      " numpy 1.15.1  py27_blas_openblashd3ea46f_0    conda-forge/linux-64\n",
      " numpy 1.15.1  py27h1d66e8a_0                  pkgs/main/linux-64  \n",
      " numpy 1.15.1  py27h3b04361_0                  pkgs/main/linux-64  \n",
      " numpy 1.15.1  py27hb510916_0                  pkgs/main/linux-64  \n",
      " numpy 1.15.1  py37hec00662_0                  pkgs/main/linux-64  \n",
      " numpy 1.15.1  py37hb510916_0                  pkgs/main/linux-64  \n",
      " numpy 1.15.1  py37h99e49ec_0                  pkgs/main/linux-64  \n",
      " numpy 1.15.1  py37h3b04361_0                  pkgs/main/linux-64  \n",
      " numpy 1.15.1  py37h1d66e8a_0                  pkgs/main/linux-64  \n",
      " numpy 1.15.1  py36hec00662_0                  pkgs/main/linux-64  \n",
      " numpy 1.15.1  py36hb510916_0                  pkgs/main/linux-64  \n",
      " numpy 1.15.1  py36h99e49ec_0                  pkgs/main/linux-64  \n",
      " numpy 1.15.1  py36h3b04361_0                  pkgs/main/linux-64  \n",
      " numpy 1.15.1  py36h1d66e8a_0                  pkgs/main/linux-64  \n",
      " numpy 1.15.1  py35hec00662_0                  pkgs/main/linux-64  \n",
      " numpy 1.15.1  py35hb510916_0                  pkgs/main/linux-64  \n",
      " numpy 1.15.1  py35h99e49ec_0                  pkgs/main/linux-64  \n",
      " numpy 1.15.1  py35h3b04361_0                  pkgs/main/linux-64  \n",
      " numpy 1.15.1  py35h1d66e8a_0                  pkgs/main/linux-64  \n",
      " numpy 1.15.1  py27hec00662_0                  pkgs/main/linux-64  \n",
      " numpy 1.15.1  py27h99e49ec_0                  pkgs/main/linux-64  \n",
      " numpy 1.15.0  py27h1b885b7_0                  pkgs/main/linux-64  \n",
      " numpy 1.15.0  py27h2aefc1b_0                  pkgs/main/linux-64  \n",
      " numpy 1.15.0  py35h1b885b7_0                  pkgs/main/linux-64  \n",
      " numpy 1.15.0  py35h2aefc1b_0                  pkgs/main/linux-64  \n",
      " numpy 1.15.0  py36h1b885b7_0                  pkgs/main/linux-64  \n",
      " numpy 1.15.0  py36h2aefc1b_0                  pkgs/main/linux-64  \n",
      " numpy 1.15.0  py37h1b885b7_0                  pkgs/main/linux-64  \n",
      " numpy 1.15.0  py37h2aefc1b_0                  pkgs/main/linux-64  \n",
      " numpy 1.15.0  py37_blas_openblashd3ea46f_200  conda-forge/linux-64\n",
      " numpy 1.15.0  py36_blas_openblashd3ea46f_200  conda-forge/linux-64\n",
      " numpy 1.15.0  py35_blas_openblashd3ea46f_200  conda-forge/linux-64\n",
      " numpy 1.15.0  py27_blas_openblashd3ea46f_200  conda-forge/linux-64\n",
      " numpy 1.14.6  py27_blas_openblashb06ca3d_200  conda-forge/linux-64\n",
      " numpy 1.14.6  py35hec00662_4                  pkgs/main/linux-64  \n",
      " numpy 1.14.6  py27_blas_openblashb06ca3d_0    conda-forge/linux-64\n",
      " numpy 1.14.6  py27_blas_openblash1522bff_1200 conda-forge/linux-64\n",
      " numpy 1.14.6  py27_blas_openblash1522bff_1000 conda-forge/linux-64\n",
      " numpy 1.14.6  py38h1e1a116_4                  pkgs/main/linux-64  \n",
      " numpy 1.14.6  py38h056ac22_4                  pkgs/main/linux-64  \n",
      " numpy 1.14.6  py37hec00662_5                  pkgs/main/linux-64  \n",
      " numpy 1.14.6  py37hec00662_4                  pkgs/main/linux-64  \n",
      " numpy 1.14.6  py37h3b04361_5                  pkgs/main/linux-64  \n",
      " numpy 1.14.6  py37h3b04361_4                  pkgs/main/linux-64  \n",
      " numpy 1.14.6  py36hec00662_5                  pkgs/main/linux-64  \n",
      " numpy 1.14.6  py36hec00662_4                  pkgs/main/linux-64  \n",
      " numpy 1.14.6  py36h3b04361_5                  pkgs/main/linux-64  \n",
      " numpy 1.14.6  py36h3b04361_4                  pkgs/main/linux-64  \n",
      " numpy 1.14.6  py35h3b04361_4                  pkgs/main/linux-64  \n",
      " numpy 1.14.6  py27hec00662_5                  pkgs/main/linux-64  \n",
      " numpy 1.14.6  py27hec00662_4                  pkgs/main/linux-64  \n",
      " numpy 1.14.6  py27h3b04361_5                  pkgs/main/linux-64  \n",
      " numpy 1.14.6  py27h3b04361_4                  pkgs/main/linux-64  \n",
      " numpy 1.14.6  py27h95a1406_1201               conda-forge/linux-64\n",
      " numpy 1.14.6  py36_blas_openblash1522bff_1000 conda-forge/linux-64\n",
      " numpy 1.14.6  py36_blas_openblash1522bff_1200 conda-forge/linux-64\n",
      " numpy 1.14.6  py36_blas_openblashb06ca3d_0    conda-forge/linux-64\n",
      " numpy 1.14.6  py36_blas_openblashb06ca3d_200  conda-forge/linux-64\n",
      " numpy 1.14.6  py36_blas_openblashd3ea46f_200  conda-forge/linux-64\n",
      " numpy 1.14.6  py36h95a1406_1201               conda-forge/linux-64\n",
      " numpy 1.14.6  py36he5ce36f_1201               conda-forge/linux-64\n",
      " numpy 1.14.6  py37_blas_openblash1522bff_1000 conda-forge/linux-64\n",
      " numpy 1.14.6  py37_blas_openblash1522bff_1200 conda-forge/linux-64\n",
      " numpy 1.14.6  py37_blas_openblashb06ca3d_0    conda-forge/linux-64\n",
      " numpy 1.14.6  py37_blas_openblashb06ca3d_200  conda-forge/linux-64\n",
      " numpy 1.14.6  py37_blas_openblashd3ea46f_200  conda-forge/linux-64\n",
      " numpy 1.14.6  py37h95a1406_1201               conda-forge/linux-64\n",
      " numpy 1.14.6  py37he5ce36f_1201               conda-forge/linux-64\n",
      " numpy 1.14.6  py38h95a1406_1201               conda-forge/linux-64\n",
      " numpy 1.14.6  py27_blas_openblashd3ea46f_200  conda-forge/linux-64\n",
      " numpy 1.14.6  py35_blas_openblashd3ea46f_200  conda-forge/linux-64\n",
      " numpy 1.14.6  py27he5ce36f_1201               conda-forge/linux-64\n",
      " numpy 1.14.5  py36hcd700cb_3                  pkgs/main/linux-64  \n",
      " numpy 1.14.5  py37h1b885b7_4                  pkgs/main/linux-64  \n",
      " numpy 1.14.5  py37h28100ab_2                  pkgs/main/linux-64  \n",
      " numpy 1.14.5  py37h28100ab_1                  pkgs/main/linux-64  \n",
      " numpy 1.14.5  py37h28100ab_3                  pkgs/main/linux-64  \n",
      " numpy 1.14.5  py36hcd700cb_2                  pkgs/main/linux-64  \n",
      " numpy 1.14.5  py35h1b885b7_4                  pkgs/main/linux-64  \n",
      " numpy 1.14.5  py27h1b885b7_4                  pkgs/main/linux-64  \n",
      " numpy 1.14.5  py27h28100ab_0                  pkgs/main/linux-64  \n",
      " numpy 1.14.5  py27h28100ab_1                  pkgs/main/linux-64  \n",
      " numpy 1.14.5  py27h28100ab_2                  pkgs/main/linux-64  \n",
      " numpy 1.14.5  py27h28100ab_3                  pkgs/main/linux-64  \n",
      " numpy 1.14.5  py27h2aefc1b_4                  pkgs/main/linux-64  \n",
      " numpy 1.14.5  py27hcd700cb_0                  pkgs/main/linux-64  \n",
      " numpy 1.14.5  py27hcd700cb_1                  pkgs/main/linux-64  \n",
      " numpy 1.14.5  py27hcd700cb_2                  pkgs/main/linux-64  \n",
      " numpy 1.14.5  py27hcd700cb_3                  pkgs/main/linux-64  \n",
      " numpy 1.14.5  py36hcd700cb_1                  pkgs/main/linux-64  \n",
      " numpy 1.14.5  py35h2aefc1b_4                  pkgs/main/linux-64  \n",
      " numpy 1.14.5  py35hcd700cb_0                  pkgs/main/linux-64  \n",
      " numpy 1.14.5  py36h1b885b7_4                  pkgs/main/linux-64  \n",
      " numpy 1.14.5  py36h28100ab_0                  pkgs/main/linux-64  \n",
      " numpy 1.14.5  py36h28100ab_1                  pkgs/main/linux-64  \n",
      " numpy 1.14.5  py36h28100ab_2                  pkgs/main/linux-64  \n",
      " numpy 1.14.5  py36h28100ab_3                  pkgs/main/linux-64  \n",
      " numpy 1.14.5  py36h2aefc1b_4                  pkgs/main/linux-64  \n",
      " numpy 1.14.5  py36hcd700cb_0                  pkgs/main/linux-64  \n",
      " numpy 1.14.5  py37hcd700cb_1                  pkgs/main/linux-64  \n",
      " numpy 1.14.5  py37_blas_openblashd3ea46f_202  conda-forge/linux-64\n",
      " numpy 1.14.5  py36_blas_openblashd3ea46f_202  conda-forge/linux-64\n",
      " numpy 1.14.5  py36_blas_openblashd3ea46f_201  conda-forge/linux-64\n",
      " numpy 1.14.5  py36_blas_openblashd3ea46f_200  conda-forge/linux-64\n",
      " numpy 1.14.5  py36_blas_openblash24bf2e0_200  conda-forge/linux-64\n",
      " numpy 1.14.5  py35_blas_openblashd3ea46f_202  conda-forge/linux-64\n",
      " numpy 1.14.5  py35_blas_openblashd3ea46f_201  conda-forge/linux-64\n",
      " numpy 1.14.5  py35_blas_openblashd3ea46f_200  conda-forge/linux-64\n",
      " numpy 1.14.5  py35_blas_openblash24bf2e0_200  conda-forge/linux-64\n",
      " numpy 1.14.5  py27_blas_openblashd3ea46f_202  conda-forge/linux-64\n",
      " numpy 1.14.5  py27_blas_openblashd3ea46f_201  conda-forge/linux-64\n",
      " numpy 1.14.5  py27_blas_openblashd3ea46f_200  conda-forge/linux-64\n",
      " numpy 1.14.5  py27_blas_openblash24bf2e0_200  conda-forge/linux-64\n",
      " numpy 1.14.5  py37h2aefc1b_4                  pkgs/main/linux-64  \n",
      " numpy 1.14.5  py37hcd700cb_2                  pkgs/main/linux-64  \n",
      " numpy 1.14.5  py37hcd700cb_3                  pkgs/main/linux-64  \n",
      " numpy 1.14.4  py35_blas_openblash24bf2e0_200  conda-forge/linux-64\n",
      " numpy 1.14.4  py27h28100ab_0                  pkgs/main/linux-64  \n",
      " numpy 1.14.4  py27hcd700cb_0                  pkgs/main/linux-64  \n",
      " numpy 1.14.4  py35h28100ab_0                  pkgs/main/linux-64  \n",
      " numpy 1.14.4  py35hcd700cb_0                  pkgs/main/linux-64  \n",
      " numpy 1.14.4  py36h28100ab_0                  pkgs/main/linux-64  \n",
      " numpy 1.14.4  py36hcd700cb_0                  pkgs/main/linux-64  \n",
      " numpy 1.14.4  py27_blas_openblash24bf2e0_200  conda-forge/linux-64\n",
      " numpy 1.14.4  py36_blas_openblash24bf2e0_200  conda-forge/linux-64\n",
      " numpy 1.14.3  py27_blas_openblas_200          conda-forge/linux-64\n",
      " numpy 1.14.3  py35_blas_openblas_200          conda-forge/linux-64\n",
      " numpy 1.14.3  py36_blas_openblas_200          conda-forge/linux-64\n",
      " numpy 1.14.3  py36hcd700cb_1                  pkgs/main/linux-64  \n",
      " numpy 1.14.3  py36h28100ab_1                  pkgs/main/linux-64  \n",
      " numpy 1.14.3  py35hcd700cb_1                  pkgs/main/linux-64  \n",
      " numpy 1.14.3  py35h28100ab_1                  pkgs/main/linux-64  \n",
      " numpy 1.14.3  py27hcd700cb_1                  pkgs/main/linux-64  \n",
      " numpy 1.14.3  py27h28100ab_1                  pkgs/main/linux-64  \n",
      " numpy 1.14.2  py35hdbf6ddf_0                  pkgs/main/linux-64  \n",
      " numpy 1.14.2  py27_nomklh2b20989_0            pkgs/main/linux-64  \n",
      " numpy 1.14.2  py35_nomklh2b20989_1            pkgs/main/linux-64  \n",
      " numpy 1.14.2  py35_nomklh2b20989_0            pkgs/main/linux-64  \n",
      " numpy 1.14.2  py27hdbf6ddf_1                  pkgs/main/linux-64  \n",
      " numpy 1.14.2  py27hdbf6ddf_0                  pkgs/main/linux-64  \n",
      " numpy 1.14.2  py27_nomklh2b20989_1            pkgs/main/linux-64  \n",
      " numpy 1.14.2  py36_nomklh2b20989_0            pkgs/main/linux-64  \n",
      " numpy 1.14.2  py35hdbf6ddf_1                  pkgs/main/linux-64  \n",
      " numpy 1.14.2  py36_nomklh2b20989_1            pkgs/main/linux-64  \n",
      " numpy 1.14.2  py36hdbf6ddf_0                  pkgs/main/linux-64  \n",
      " numpy 1.14.2  py36hdbf6ddf_1                  pkgs/main/linux-64  \n",
      " numpy 1.14.2  py36_blas_openblas_200          conda-forge/linux-64\n",
      " numpy 1.14.2  py35_blas_openblas_200          conda-forge/linux-64\n",
      " numpy 1.14.2  py27_blas_openblas_200          conda-forge/linux-64\n",
      " numpy 1.14.1  py35_nomklh5cab86c_2            pkgs/main/linux-64  \n",
      " numpy 1.14.1  py35_blas_openblas_200          conda-forge/linux-64\n",
      " numpy 1.14.1  py36_blas_openblas_200          conda-forge/linux-64\n",
      " numpy 1.14.1  py27_blas_openblas_200          conda-forge/linux-64\n",
      " numpy 1.14.1  py36ha266831_2                  pkgs/main/linux-64  \n",
      " numpy 1.14.1  py36h3dfced4_1                  pkgs/main/linux-64  \n",
      " numpy 1.14.1  py36_nomklh7cdd4dd_1            pkgs/main/linux-64  \n",
      " numpy 1.14.1  py36_nomklh5cab86c_2            pkgs/main/linux-64  \n",
      " numpy 1.14.1  py35ha266831_2                  pkgs/main/linux-64  \n",
      " numpy 1.14.1  py35h3dfced4_1                  pkgs/main/linux-64  \n",
      " numpy 1.14.1  py35_nomklh7cdd4dd_1            pkgs/main/linux-64  \n",
      " numpy 1.14.1  py27ha266831_2                  pkgs/main/linux-64  \n",
      " numpy 1.14.1  py27h3dfced4_1                  pkgs/main/linux-64  \n",
      " numpy 1.14.1  py27_nomklh7cdd4dd_1            pkgs/main/linux-64  \n",
      " numpy 1.14.1  py27_nomklh5cab86c_2            pkgs/main/linux-64  \n",
      " numpy 1.14.0  py27ha266831_2                  pkgs/main/linux-64  \n",
      " numpy 1.14.0  py36ha266831_2                  pkgs/main/linux-64  \n",
      " numpy 1.14.0  py36h3dfced4_1                  pkgs/main/linux-64  \n",
      " numpy 1.14.0  py36h3dfced4_0                  pkgs/main/linux-64  \n",
      " numpy 1.14.0  py36_nomklh7cdd4dd_0            pkgs/main/linux-64  \n",
      " numpy 1.14.0  py35ha266831_2                  pkgs/main/linux-64  \n",
      " numpy 1.14.0  py35h3dfced4_1                  pkgs/main/linux-64  \n",
      " numpy 1.14.0  py35h3dfced4_0                  pkgs/main/linux-64  \n",
      " numpy 1.14.0  py35_nomklh7cdd4dd_0            pkgs/main/linux-64  \n",
      " numpy 1.14.0  py27h3dfced4_1                  pkgs/main/linux-64  \n",
      " numpy 1.14.0  py27h3dfced4_0                  pkgs/main/linux-64  \n",
      " numpy 1.14.0  py27_nomklh7cdd4dd_0            pkgs/main/linux-64  \n",
      " numpy 1.14.0  py35_blas_openblas_200          conda-forge/linux-64\n",
      " numpy 1.14.0  py36_blas_openblas_200          conda-forge/linux-64\n",
      " numpy 1.14.0  py34_blas_openblas_200          conda-forge/linux-64\n",
      " numpy 1.14.0  py27_blas_openblas_200          conda-forge/linux-64\n",
      " numpy 1.13.3  py27_blas_openblashb06ca3d_1    conda-forge/linux-64\n",
      " numpy 1.13.3  py35_blas_openblas_201          conda-forge/linux-64\n",
      " numpy 1.13.3  py27_blas_openblashb06ca3d_201  conda-forge/linux-64\n",
      " numpy 1.13.3  py35_blas_openblas_200          conda-forge/linux-64\n",
      " numpy 1.13.3  py27_blas_openblas_200          conda-forge/linux-64\n",
      " numpy 1.13.3  py27_blas_openblash1522bff_1201 conda-forge/linux-64\n",
      " numpy 1.13.3  py27_blas_openblash1522bff_1001 conda-forge/linux-64\n",
      " numpy 1.13.3  py27_blas_openblas_201          conda-forge/linux-64\n",
      " numpy 1.13.3  py36ha12f23b_0                  pkgs/main/linux-64  \n",
      " numpy 1.13.3  py36_blas_openblas_200          conda-forge/linux-64\n",
      " numpy 1.13.3  py36_blas_openblas_201          conda-forge/linux-64\n",
      " numpy 1.13.3  py36_blas_openblash1522bff_1001 conda-forge/linux-64\n",
      " numpy 1.13.3  py36_blas_openblash1522bff_1201 conda-forge/linux-64\n",
      " numpy 1.13.3  py36_blas_openblashb06ca3d_1    conda-forge/linux-64\n",
      " numpy 1.13.3  py36_blas_openblashb06ca3d_201  conda-forge/linux-64\n",
      " numpy 1.13.3  py27h3dfced4_2                  pkgs/main/linux-64  \n",
      " numpy 1.13.3  py27_nomklhfe0a00b_0            pkgs/main/linux-64  \n",
      " numpy 1.13.3  py27_nomklh2b20989_4            pkgs/main/linux-64  \n",
      " numpy 1.13.3  py35_nomklhb7e7d7c_0            pkgs/main/linux-64  \n",
      " numpy 1.13.3  py36h3dfced4_2                  pkgs/main/linux-64  \n",
      " numpy 1.13.3  py36ha266831_3                  pkgs/main/linux-64  \n",
      " numpy 1.13.3  py36hdbf6ddf_4                  pkgs/main/linux-64  \n",
      " numpy 1.13.3  py38_nomklh199bd5d_4            pkgs/main/linux-64  \n",
      " numpy 1.13.3  py38he85021b_4                  pkgs/main/linux-64  \n",
      " numpy 1.13.3  py36_nomklhbef0cb9_0            pkgs/main/linux-64  \n",
      " numpy 1.13.3  py36_nomklh2b20989_4            pkgs/main/linux-64  \n",
      " numpy 1.13.3  py35hdbf6ddf_4                  pkgs/main/linux-64  \n",
      " numpy 1.13.3  py35hd829ed6_0                  pkgs/main/linux-64  \n",
      " numpy 1.13.3  py35ha266831_3                  pkgs/main/linux-64  \n",
      " numpy 1.13.3  py35h3dfced4_2                  pkgs/main/linux-64  \n",
      " numpy 1.13.3  py35_nomklh2b20989_4            pkgs/main/linux-64  \n",
      " numpy 1.13.3  py27hdbf6ddf_4                  pkgs/main/linux-64  \n",
      " numpy 1.13.3  py27hbcc08e0_0                  pkgs/main/linux-64  \n",
      " numpy 1.13.3  py27ha266831_3                  pkgs/main/linux-64  \n",
      " numpy 1.13.2  py36_blas_openblas_200          conda-forge/linux-64\n",
      " numpy 1.13.2  py35_blas_openblas_200          conda-forge/linux-64\n",
      " numpy 1.13.2  py27_blas_openblas_200          conda-forge/linux-64\n",
      " numpy 1.13.1  py36_blas_openblas_200          conda-forge/linux-64\n",
      " numpy 1.13.1  py27_blas_openblas_201          conda-forge/linux-64\n",
      " numpy 1.13.1  py34_blas_openblas_200          conda-forge/linux-64\n",
      " numpy 1.13.1  py34_blas_openblas_201          conda-forge/linux-64\n",
      " numpy 1.13.1  py35_blas_openblas_200          conda-forge/linux-64\n",
      " numpy 1.13.1  py35_blas_openblas_201          conda-forge/linux-64\n",
      " numpy 1.13.1  py36_blas_openblas_201          conda-forge/linux-64\n",
      " numpy 1.13.1  py35h8926d81_2                  pkgs/main/linux-64  \n",
      " numpy 1.13.1  py27hd1b6e02_2                  pkgs/main/linux-64  \n",
      " numpy 1.13.1  py36h5bc529a_2                  pkgs/main/linux-64  \n",
      " numpy 1.13.1  py27_blas_openblas_200          conda-forge/linux-64\n",
      " numpy 1.13.0  py36_blas_openblas_200          conda-forge/linux-64\n",
      " numpy 1.13.0  py35_blas_openblas_200          conda-forge/linux-64\n",
      " numpy 1.13.0  py34_blas_openblas_200          conda-forge/linux-64\n",
      " numpy 1.13.0  py27_blas_openblas_200          conda-forge/linux-64\n",
      " numpy 1.12.1  py27_blas_openblashb06ca3d_1    conda-forge/linux-64\n",
      " numpy 1.12.1  py36he24570b_1                  pkgs/main/linux-64  \n",
      " numpy 1.12.1  py35hca0bb5e_1                  pkgs/main/linux-64  \n",
      " numpy 1.12.1  py27h9378851_1                  pkgs/main/linux-64  \n",
      " numpy 1.12.1  py27_blas_openblas_200          conda-forge/linux-64\n",
      " numpy 1.12.1  py27_blas_openblas_201          conda-forge/linux-64\n",
      " numpy 1.12.1  py27_blas_openblash1522bff_1001 conda-forge/linux-64\n",
      " numpy 1.12.1  py27_blas_openblash24bf2e0_201  conda-forge/linux-64\n",
      " numpy 1.12.1  py34_blas_openblas_200          conda-forge/linux-64\n",
      " numpy 1.12.1  py34_blas_openblas_201          conda-forge/linux-64\n",
      " numpy 1.12.1  py35_blas_openblas_200          conda-forge/linux-64\n",
      " numpy 1.12.1  py35_blas_openblas_201          conda-forge/linux-64\n",
      " numpy 1.12.1  py36_blas_openblas_200          conda-forge/linux-64\n",
      " numpy 1.12.1  py36_blas_openblas_201          conda-forge/linux-64\n",
      " numpy 1.12.1  py36_blas_openblash1522bff_1001 conda-forge/linux-64\n",
      " numpy 1.12.1  py36_blas_openblash24bf2e0_201  conda-forge/linux-64\n",
      " numpy 1.12.1  py36_blas_openblashb06ca3d_1    conda-forge/linux-64\n",
      " numpy 1.12.0  py36_blas_openblas_200          conda-forge/linux-64\n",
      " numpy 1.12.0  py27_blas_openblas_200          conda-forge/linux-64\n",
      " numpy 1.12.0  py34_blas_openblas_200          conda-forge/linux-64\n",
      " numpy 1.12.0  py35_blas_openblas_200          conda-forge/linux-64\n",
      " numpy 1.11.3  py34_blas_openblas_203          conda-forge/linux-64\n",
      " numpy 1.11.3  py27_blas_openblashd3ea46f_205  conda-forge/linux-64\n",
      " numpy 1.11.3  py27_blas_openblashb06ca3d_205  conda-forge/linux-64\n",
      " numpy 1.11.3  py27_blas_openblash1522bff_1205 conda-forge/linux-64\n",
      " numpy 1.11.3  py27_blas_openblas_203          conda-forge/linux-64\n",
      " numpy 1.11.3  py27_blas_openblas_202          conda-forge/linux-64\n",
      " numpy 1.11.3  py27_blas_openblas_201          conda-forge/linux-64\n",
      " numpy 1.11.3  py27_blas_openblas_200          conda-forge/linux-64\n",
      " numpy 1.11.3  py27he5ce36f_1207               conda-forge/linux-64\n",
      " numpy 1.11.3  py34_blas_openblas_200          conda-forge/linux-64\n",
      " numpy 1.11.3  py34_blas_openblas_201          conda-forge/linux-64\n",
      " numpy 1.11.3  py34_blas_openblas_202          conda-forge/linux-64\n",
      " numpy 1.11.3  py36_blas_openblashb06ca3d_205  conda-forge/linux-64\n",
      " numpy 1.11.3  py35_blas_openblas_200          conda-forge/linux-64\n",
      " numpy 1.11.3  py35_blas_openblas_201          conda-forge/linux-64\n",
      " numpy 1.11.3  py35_blas_openblas_202          conda-forge/linux-64\n",
      " numpy 1.11.3  py35_blas_openblas_203          conda-forge/linux-64\n",
      " numpy 1.11.3  py35_blas_openblashd3ea46f_205  conda-forge/linux-64\n",
      " numpy 1.11.3  py36_blas_openblas_200          conda-forge/linux-64\n",
      " numpy 1.11.3  py36_blas_openblas_201          conda-forge/linux-64\n",
      " numpy 1.11.3  py36_blas_openblas_202          conda-forge/linux-64\n",
      " numpy 1.11.3  py36_blas_openblas_203          conda-forge/linux-64\n",
      " numpy 1.11.3  py36_blas_openblash1522bff_1205 conda-forge/linux-64\n",
      " numpy 1.11.3  py36h7e9f1db_12                 pkgs/main/linux-64  \n",
      " numpy 1.11.3  py37h1b885b7_9                  pkgs/main/linux-64  \n",
      " numpy 1.11.3  py37h1b885b7_8                  pkgs/main/linux-64  \n",
      " numpy 1.11.3  py36hec00662_9                  pkgs/main/linux-64  \n",
      " numpy 1.11.3  py36hcd700cb_8                  pkgs/main/linux-64  \n",
      " numpy 1.11.3  py36hcd700cb_7                  pkgs/main/linux-64  \n",
      " numpy 1.11.3  py36hb510916_10                 pkgs/main/linux-64  \n",
      " numpy 1.11.3  py37he5ce36f_1207               conda-forge/linux-64\n",
      " numpy 1.11.3  py36h99e49ec_11                 pkgs/main/linux-64  \n",
      " numpy 1.11.3  py36h99e49ec_10                 pkgs/main/linux-64  \n",
      " numpy 1.11.3  py37h1d66e8a_10                 pkgs/main/linux-64  \n",
      " numpy 1.11.3  py36h7e9f1db_11                 pkgs/main/linux-64  \n",
      " numpy 1.11.3  py36h3dfced4_4                  pkgs/main/linux-64  \n",
      " numpy 1.11.3  py36h3b04361_9                  pkgs/main/linux-64  \n",
      " numpy 1.11.3  py36h2aefc1b_9                  pkgs/main/linux-64  \n",
      " numpy 1.11.3  py36h2aefc1b_8                  pkgs/main/linux-64  \n",
      " numpy 1.11.3  py36h28100ab_8                  pkgs/main/linux-64  \n",
      " numpy 1.11.3  py36h28100ab_7                  pkgs/main/linux-64  \n",
      " numpy 1.11.3  py36h1d66e8a_10                 pkgs/main/linux-64  \n",
      " numpy 1.11.3  py37h99e49ec_11                 pkgs/main/linux-64  \n",
      " numpy 1.11.3  py38h99e49ec_12                 pkgs/main/linux-64  \n",
      " numpy 1.11.3  py38h7e9f1db_12                 pkgs/main/linux-64  \n",
      " numpy 1.11.3  py37hec00662_9                  pkgs/main/linux-64  \n",
      " numpy 1.11.3  py27h8b7e671_1206               conda-forge/linux-64\n",
      " numpy 1.11.3  py37hcd700cb_8                  pkgs/main/linux-64  \n",
      " numpy 1.11.3  py37hcd700cb_7                  pkgs/main/linux-64  \n",
      " numpy 1.11.3  py37hb510916_10                 pkgs/main/linux-64  \n",
      " numpy 1.11.3  py37h99e49ec_12                 pkgs/main/linux-64  \n",
      " numpy 1.11.3  py36h99e49ec_12                 pkgs/main/linux-64  \n",
      " numpy 1.11.3  py37h99e49ec_10                 pkgs/main/linux-64  \n",
      " numpy 1.11.3  py37h7e9f1db_12                 pkgs/main/linux-64  \n",
      " numpy 1.11.3  py37h7e9f1db_11                 pkgs/main/linux-64  \n",
      " numpy 1.11.3  py37h3b04361_9                  pkgs/main/linux-64  \n",
      " numpy 1.11.3  py37h2aefc1b_9                  pkgs/main/linux-64  \n",
      " numpy 1.11.3  py37h2aefc1b_8                  pkgs/main/linux-64  \n",
      " numpy 1.11.3  py37h28100ab_8                  pkgs/main/linux-64  \n",
      " numpy 1.11.3  py37h28100ab_7                  pkgs/main/linux-64  \n",
      " numpy 1.11.3  py27h1b885b7_9                  pkgs/main/linux-64  \n",
      " numpy 1.11.3  py27h7e9f1db_12                 pkgs/main/linux-64  \n",
      " numpy 1.11.3  py27h7e9f1db_11                 pkgs/main/linux-64  \n",
      " numpy 1.11.3  py27h3dfced4_4                  pkgs/main/linux-64  \n",
      " numpy 1.11.3  py27h3b04361_9                  pkgs/main/linux-64  \n",
      " numpy 1.11.3  py27h2aefc1b_9                  pkgs/main/linux-64  \n",
      " numpy 1.11.3  py27h2aefc1b_8                  pkgs/main/linux-64  \n",
      " numpy 1.11.3  py27h28100ab_8                  pkgs/main/linux-64  \n",
      " numpy 1.11.3  py27h28100ab_7                  pkgs/main/linux-64  \n",
      " numpy 1.11.3  py27h1d66e8a_10                 pkgs/main/linux-64  \n",
      " numpy 1.11.3  py36h1b885b7_8                  pkgs/main/linux-64  \n",
      " numpy 1.11.3  py27h1b885b7_8                  pkgs/main/linux-64  \n",
      " numpy 1.11.3  py36_blas_openblashd3ea46f_205  conda-forge/linux-64\n",
      " numpy 1.11.3  py36h8b7e671_1206               conda-forge/linux-64\n",
      " numpy 1.11.3  py36he5ce36f_1207               conda-forge/linux-64\n",
      " numpy 1.11.3  py37_blas_openblash1522bff_1205 conda-forge/linux-64\n",
      " numpy 1.11.3  py37_blas_openblashb06ca3d_205  conda-forge/linux-64\n",
      " numpy 1.11.3  py37_blas_openblashd3ea46f_205  conda-forge/linux-64\n",
      " numpy 1.11.3  py37h8b7e671_1206               conda-forge/linux-64\n",
      " numpy 1.11.3  py27h99e49ec_11                 pkgs/main/linux-64  \n",
      " numpy 1.11.3  py36h1b885b7_9                  pkgs/main/linux-64  \n",
      " numpy 1.11.3  py35hec00662_9                  pkgs/main/linux-64  \n",
      " numpy 1.11.3  py35hb510916_10                 pkgs/main/linux-64  \n",
      " numpy 1.11.3  py35h99e49ec_10                 pkgs/main/linux-64  \n",
      " numpy 1.11.3  py35h3dfced4_4                  pkgs/main/linux-64  \n",
      " numpy 1.11.3  py35h3b04361_9                  pkgs/main/linux-64  \n",
      " numpy 1.11.3  py35h2aefc1b_9                  pkgs/main/linux-64  \n",
      " numpy 1.11.3  py35h2aefc1b_8                  pkgs/main/linux-64  \n",
      " numpy 1.11.3  py35h1d66e8a_10                 pkgs/main/linux-64  \n",
      " numpy 1.11.3  py27h99e49ec_10                 pkgs/main/linux-64  \n",
      " numpy 1.11.3  py27h99e49ec_12                 pkgs/main/linux-64  \n",
      " numpy 1.11.3  py27hb510916_10                 pkgs/main/linux-64  \n",
      " numpy 1.11.3  py27hcd700cb_7                  pkgs/main/linux-64  \n",
      " numpy 1.11.3  py27hcd700cb_8                  pkgs/main/linux-64  \n",
      " numpy 1.11.3  py27hec00662_9                  pkgs/main/linux-64  \n",
      " numpy 1.11.3  py35h1b885b7_8                  pkgs/main/linux-64  \n",
      " numpy 1.11.3  py35h1b885b7_9                  pkgs/main/linux-64  \n",
      " numpy 1.11.2  py27_blas_openblas_200          conda-forge/linux-64\n",
      " numpy 1.11.2  py27_blas_openblas_201          conda-forge/linux-64\n",
      " numpy 1.11.2  py27_blas_openblas_202          conda-forge/linux-64\n",
      " numpy 1.11.2  py34_blas_openblas_200          conda-forge/linux-64\n",
      " numpy 1.11.2  py34_blas_openblas_201          conda-forge/linux-64\n",
      " numpy 1.11.2  py34_blas_openblas_202          conda-forge/linux-64\n",
      " numpy 1.11.2  py35_blas_openblas_200          conda-forge/linux-64\n",
      " numpy 1.11.2  py35_blas_openblas_201          conda-forge/linux-64\n",
      " numpy 1.11.2  py35_blas_openblas_202          conda-forge/linux-64\n",
      " numpy 1.11.1  py35_blas_openblas_202          conda-forge/linux-64\n",
      " numpy 1.11.1  py35_blas_openblas_201          conda-forge/linux-64\n",
      " numpy 1.11.1  py35_blas_openblas_200          conda-forge/linux-64\n",
      " numpy 1.11.1  py34_blas_openblas_202          conda-forge/linux-64\n",
      " numpy 1.11.1  py34_blas_openblas_201          conda-forge/linux-64\n",
      " numpy 1.11.1  py34_blas_openblas_200          conda-forge/linux-64\n",
      " numpy 1.11.1  py27_blas_openblas_202          conda-forge/linux-64\n",
      " numpy 1.11.1  py27_blas_openblas_201          conda-forge/linux-64\n",
      " numpy 1.11.1  py27_blas_openblas_200          conda-forge/linux-64\n",
      " numpy 1.11.0  py35_blas_openblas_201          conda-forge/linux-64\n",
      " numpy 1.11.0  py35_blas_openblas_200          conda-forge/linux-64\n",
      " numpy 1.11.0  py34_blas_openblas_201          conda-forge/linux-64\n",
      " numpy 1.11.0  py34_blas_openblas_200          conda-forge/linux-64\n",
      " numpy 1.11.0  py27_blas_openblas_201          conda-forge/linux-64\n",
      " numpy 1.11.0  py27_blas_openblas_200          conda-forge/linux-64\n",
      " numpy 1.10.4  py27_blas_openblas_201          conda-forge/linux-64\n",
      " numpy 1.10.4  py27_blas_openblas_200          conda-forge/linux-64\n",
      " numpy 1.10.4  py36_blas_openblas_205          conda-forge/linux-64\n",
      " numpy 1.10.4  py35_blas_openblas_205          conda-forge/linux-64\n",
      " numpy 1.10.4  py35_blas_openblas_204          conda-forge/linux-64\n",
      " numpy 1.10.4  py35_blas_openblas_203          conda-forge/linux-64\n",
      " numpy 1.10.4  py35_blas_openblas_202          conda-forge/linux-64\n",
      " numpy 1.10.4  py35_blas_openblas_201          conda-forge/linux-64\n",
      " numpy 1.10.4  py35_blas_openblas_200          conda-forge/linux-64\n",
      " numpy 1.10.4  py34_blas_openblas_205          conda-forge/linux-64\n",
      " numpy 1.10.4  py34_blas_openblas_204          conda-forge/linux-64\n",
      " numpy 1.10.4  py34_blas_openblas_203          conda-forge/linux-64\n",
      " numpy 1.10.4  py34_blas_openblas_202          conda-forge/linux-64\n",
      " numpy 1.10.4  py34_blas_openblas_201          conda-forge/linux-64\n",
      " numpy 1.10.4  py34_blas_openblas_200          conda-forge/linux-64\n",
      " numpy 1.10.4  py27_blas_openblas_205          conda-forge/linux-64\n",
      " numpy 1.10.4  py27_blas_openblas_202          conda-forge/linux-64\n",
      " numpy 1.10.4  py27_blas_openblas_203          conda-forge/linux-64\n",
      " numpy 1.10.4  py27_blas_openblas_204          conda-forge/linux-64\n",
      " numpy 1.9.3   py37h28100ab_7                  pkgs/main/linux-64  \n",
      " numpy 1.9.3   py27h28100ab_6                  pkgs/main/linux-64  \n",
      " numpy 1.9.3   py27h28100ab_5                  pkgs/main/linux-64  \n",
      " numpy 1.9.3   py27h1b885b7_7                  pkgs/main/linux-64  \n",
      " numpy 1.9.3   py27_nomklhbee5d10_3            pkgs/main/linux-64  \n",
      " numpy 1.9.3   py36hcd700cb_6                  pkgs/main/linux-64  \n",
      " numpy 1.9.3   py36hcd700cb_7                  pkgs/main/linux-64  \n",
      " numpy 1.9.3   py37h1b885b7_7                  pkgs/main/linux-64  \n",
      " numpy 1.9.3   py37h28100ab_5                  pkgs/main/linux-64  \n",
      " numpy 1.9.3   py37h28100ab_6                  pkgs/main/linux-64  \n",
      " numpy 1.9.3   py27h28100ab_7                  pkgs/main/linux-64  \n",
      " numpy 1.9.3   py37h2aefc1b_7                  pkgs/main/linux-64  \n",
      " numpy 1.9.3   py37hcd700cb_5                  pkgs/main/linux-64  \n",
      " numpy 1.9.3   py37hcd700cb_6                  pkgs/main/linux-64  \n",
      " numpy 1.9.3   py37hcd700cb_7                  pkgs/main/linux-64  \n",
      " numpy 1.9.3   py37h8b7e671_1208               conda-forge/linux-64\n",
      " numpy 1.9.3   py35h2aefc1b_7                  pkgs/main/linux-64  \n",
      " numpy 1.9.3   py36h35fcb08_3                  pkgs/main/linux-64  \n",
      " numpy 1.9.3   py36h2aefc1b_7                  pkgs/main/linux-64  \n",
      " numpy 1.9.3   py36h28100ab_7                  pkgs/main/linux-64  \n",
      " numpy 1.9.3   py36h28100ab_6                  pkgs/main/linux-64  \n",
      " numpy 1.9.3   py36h28100ab_5                  pkgs/main/linux-64  \n",
      " numpy 1.9.3   py36h1b885b7_7                  pkgs/main/linux-64  \n",
      " numpy 1.9.3   py36_nomklh9e07ec8_3            pkgs/main/linux-64  \n",
      " numpy 1.9.3   py35hff6eb55_3                  pkgs/main/linux-64  \n",
      " numpy 1.9.3   py35hcd700cb_7                  pkgs/main/linux-64  \n",
      " numpy 1.9.3   py36hcd700cb_5                  pkgs/main/linux-64  \n",
      " numpy 1.9.3   py35h28100ab_7                  pkgs/main/linux-64  \n",
      " numpy 1.9.3   py35h1b885b7_7                  pkgs/main/linux-64  \n",
      " numpy 1.9.3   py35_nomklh11ed3e2_3            pkgs/main/linux-64  \n",
      " numpy 1.9.3   py27hcd700cb_7                  pkgs/main/linux-64  \n",
      " numpy 1.9.3   py27hcd700cb_6                  pkgs/main/linux-64  \n",
      " numpy 1.9.3   py27hcd700cb_5                  pkgs/main/linux-64  \n",
      " numpy 1.9.3   py27h7e35acb_3                  pkgs/main/linux-64  \n",
      " numpy 1.9.3   py27h2aefc1b_7                  pkgs/main/linux-64  \n",
      " numpy 1.9.3   py36_blas_openblashb06ca3d_6    conda-forge/linux-64\n",
      " numpy 1.9.3   py35_blas_openblas_200          conda-forge/linux-64\n",
      " numpy 1.9.3   py35_blas_openblas_201          conda-forge/linux-64\n",
      " numpy 1.9.3   py35_blas_openblas_202          conda-forge/linux-64\n",
      " numpy 1.9.3   py35_blas_openblas_203          conda-forge/linux-64\n",
      " numpy 1.9.3   py35_blas_openblashd3ea46f_205  conda-forge/linux-64\n",
      " numpy 1.9.3   py35_blas_openblashd3ea46f_206  conda-forge/linux-64\n",
      " numpy 1.9.3   py36_blas_openblas_200          conda-forge/linux-64\n",
      " numpy 1.9.3   py36_blas_openblas_201          conda-forge/linux-64\n",
      " numpy 1.9.3   py36_blas_openblas_202          conda-forge/linux-64\n",
      " numpy 1.9.3   py36_blas_openblas_203          conda-forge/linux-64\n",
      " numpy 1.9.3   py36_blas_openblash1522bff_1006 conda-forge/linux-64\n",
      " numpy 1.9.3   py36_blas_openblash1522bff_1007 conda-forge/linux-64\n",
      " numpy 1.9.3   py36_blas_openblash1522bff_1207 conda-forge/linux-64\n",
      " numpy 1.9.3   py36_blas_openblashb06ca3d_207  conda-forge/linux-64\n",
      " numpy 1.9.3   py34_blas_openblas_203          conda-forge/linux-64\n",
      " numpy 1.9.3   py36_blas_openblashb06ca3d_7    conda-forge/linux-64\n",
      " numpy 1.9.3   py36_blas_openblashd3ea46f_205  conda-forge/linux-64\n",
      " numpy 1.9.3   py36_blas_openblashd3ea46f_206  conda-forge/linux-64\n",
      " numpy 1.9.3   py36h8b7e671_1208               conda-forge/linux-64\n",
      " numpy 1.9.3   py36he5ce36f_1209               conda-forge/linux-64\n",
      " numpy 1.9.3   py37_blas_openblash1522bff_1006 conda-forge/linux-64\n",
      " numpy 1.9.3   py37_blas_openblash1522bff_1007 conda-forge/linux-64\n",
      " numpy 1.9.3   py37_blas_openblash1522bff_1207 conda-forge/linux-64\n",
      " numpy 1.9.3   py37_blas_openblashb06ca3d_207  conda-forge/linux-64\n",
      " numpy 1.9.3   py37_blas_openblashb06ca3d_6    conda-forge/linux-64\n",
      " numpy 1.9.3   py37_blas_openblashb06ca3d_7    conda-forge/linux-64\n",
      " numpy 1.9.3   py37_blas_openblashd3ea46f_206  conda-forge/linux-64\n",
      " numpy 1.9.3   py37he5ce36f_1209               conda-forge/linux-64\n",
      " numpy 1.9.3   py34_blas_openblas_202          conda-forge/linux-64\n",
      " numpy 1.9.3   py27_blas_openblas_200          conda-forge/linux-64\n",
      " numpy 1.9.3   py27_blas_openblas_201          conda-forge/linux-64\n",
      " numpy 1.9.3   py27_blas_openblas_202          conda-forge/linux-64\n",
      " numpy 1.9.3   py27_blas_openblas_203          conda-forge/linux-64\n",
      " numpy 1.9.3   py27_blas_openblash1522bff_1006 conda-forge/linux-64\n",
      " numpy 1.9.3   py27_blas_openblash1522bff_1007 conda-forge/linux-64\n",
      " numpy 1.9.3   py27_blas_openblash1522bff_1207 conda-forge/linux-64\n",
      " numpy 1.9.3   py27_blas_openblashb06ca3d_207  conda-forge/linux-64\n",
      " numpy 1.9.3   py27_blas_openblashb06ca3d_7    conda-forge/linux-64\n",
      " numpy 1.9.3   py27_blas_openblashd3ea46f_205  conda-forge/linux-64\n",
      " numpy 1.9.3   py27_blas_openblashd3ea46f_206  conda-forge/linux-64\n",
      " numpy 1.9.3   py27h8b7e671_1208               conda-forge/linux-64\n",
      " numpy 1.9.3   py27he5ce36f_1209               conda-forge/linux-64\n",
      " numpy 1.9.3   py34_blas_openblas_200          conda-forge/linux-64\n",
      " numpy 1.9.3   py34_blas_openblas_201          conda-forge/linux-64\n",
      " numpy 1.9.3   py27_blas_openblashb06ca3d_6    conda-forge/linux-64\n",
      " numpy 1.8.2   py27_blas_openblas_200          conda-forge/linux-64\n",
      " numpy 1.8.2   py34_blas_openblas_200          conda-forge/linux-64\n",
      " numpy 1.8.2   py34_blas_openblas_201          conda-forge/linux-64\n",
      " numpy 1.8.2   py35_blas_openblas_200          conda-forge/linux-64\n",
      " numpy 1.8.2   py35_blas_openblas_201          conda-forge/linux-64\n",
      " numpy 1.8.2   py36_blas_openblas_200          conda-forge/linux-64\n",
      " numpy 1.8.2   py36_blas_openblas_201          conda-forge/linux-64\n",
      " numpy 1.8.2   py27_blas_openblas_201          conda-forge/linux-64\n",
      " numpy 1.7.2   py27_blas_openblas_201          conda-forge/linux-64\n",
      " numpy 1.7.2   py27_blas_openblas_202          conda-forge/linux-64\n",
      " numpy 1.7.2   py34_blas_openblas_202          conda-forge/linux-64\n",
      "\n"
     ]
    }
   ],
   "source": [
    "%%bash\n",
    "source activate temp_env\n",
    "\n",
    "mamba repoquery search numpy"
   ]
  },
  {
   "cell_type": "code",
   "execution_count": 9,
   "metadata": {
    "collapsed": false,
    "jupyter": {
     "outputs_hidden": false
    },
    "tags": [
     "no-execute"
    ]
   },
   "outputs": [
    {
     "name": "stdout",
     "output_type": "stream",
     "text": [
      "conda-forge/linux-64     Using cache\n",
      "conda-forge/noarch       Using cache\n",
      "pkgs/main/linux-64       Using cache\n",
      "pkgs/main/noarch         Using cache\n",
      "pkgs/r/linux-64          Using cache\n",
      "pkgs/r/noarch            Using cache\n",
      "Transaction\n",
      "\n",
      "  Prefix: /home/user/.conda/envs/temp_env\n",
      "\n",
      "  Updating specs:\n",
      "\n",
      "   - numpy\n",
      "\n",
      "\n",
      "\n",
      "                  __    __    __    __\n",
      "                 /  \\  /  \\  /  \\  /  \\\n",
      "                /    \\/    \\/    \\/    \\\n",
      "███████████████/  /██/  /██/  /██/  /████████████████████████\n",
      "              /  / \\   / \\   / \\   / \\  \\____\n",
      "             /  /   \\_/   \\_/   \\_/   \\    o \\__,\n",
      "            / _/                       \\_____/  `\n",
      "            |/\n",
      "        ███╗   ███╗ █████╗ ███╗   ███╗██████╗  █████╗\n",
      "        ████╗ ████║██╔══██╗████╗ ████║██╔══██╗██╔══██╗\n",
      "        ██╔████╔██║███████║██╔████╔██║██████╔╝███████║\n",
      "        ██║╚██╔╝██║██╔══██║██║╚██╔╝██║██╔══██╗██╔══██║\n",
      "        ██║ ╚═╝ ██║██║  ██║██║ ╚═╝ ██║██████╔╝██║  ██║\n",
      "        ╚═╝     ╚═╝╚═╝  ╚═╝╚═╝     ╚═╝╚═════╝ ╚═╝  ╚═╝\n",
      "\n",
      "        mamba (0.7.4) supported by @QuantStack\n",
      "\n",
      "        GitHub:  https://github.com/mamba-org/mamba\n",
      "        Twitter: https://twitter.com/QuantStack\n",
      "\n",
      "█████████████████████████████████████████████████████████████\n",
      "\n",
      "\n",
      "Looking for: ['numpy']\n",
      "\n",
      "Preparing transaction: ...working... done\n",
      "Verifying transaction: ...working... done\n",
      "Executing transaction: ...working... done\n",
      "  Package         Version  Build                Channel                    Size\n",
      "─────────────────────────────────────────────────────────────────────────────────\n",
      "  Install:\n",
      "─────────────────────────────────────────────────────────────────────────────────\n",
      "\n",
      "  libblas           3.9.0  10_openblas          conda-forge/linux-64     Cached\n",
      "  libcblas          3.9.0  10_openblas          conda-forge/linux-64     Cached\n",
      "  libgfortran-ng   11.1.0  h69a702a_8           conda-forge/linux-64     Cached\n",
      "  libgfortran5     11.1.0  h6c583b3_8           conda-forge/linux-64     Cached\n",
      "  liblapack         3.9.0  10_openblas          conda-forge/linux-64     Cached\n",
      "  libopenblas      0.3.17  pthreads_h8fe5266_1  conda-forge/linux-64     Cached\n",
      "  numpy            1.21.1  py39hdbf815f_0       conda-forge/linux-64     Cached\n",
      "\n",
      "  Summary:\n",
      "\n",
      "  Install: 7 packages\n",
      "\n",
      "  Total download: 0  B\n",
      "\n",
      "─────────────────────────────────────────────────────────────────────────────────\n",
      "\n"
     ]
    }
   ],
   "source": [
    "%%bash\n",
    "source activate temp_env\n",
    "\n",
    "mamba install -y numpy -c conda-forge"
   ]
  },
  {
   "cell_type": "markdown",
   "metadata": {},
   "source": [
    "We can add conda-forge to the list of channels (to avoid adding `-c conda-forge` to every installation line)"
   ]
  },
  {
   "cell_type": "markdown",
   "metadata": {},
   "source": [
    "\\* mamba does not currently support changing configuration files. We use conda for this, although the config changes also apply to mamba"
   ]
  },
  {
   "cell_type": "code",
   "execution_count": 10,
   "metadata": {
    "collapsed": false,
    "jupyter": {
     "outputs_hidden": false
    },
    "tags": [
     "no-execute"
    ]
   },
   "outputs": [
    {
     "name": "stderr",
     "output_type": "stream",
     "text": [
      "Warning: 'conda-forge' already in 'channels' list, moving to the top\n"
     ]
    }
   ],
   "source": [
    "%%bash\n",
    "source activate temp_env\n",
    "\n",
    "conda config --add channels conda-forge\n",
    "conda config --set channel_priority strict"
   ]
  },
  {
   "cell_type": "markdown",
   "metadata": {},
   "source": [
    "Now we can install packages using less arguments"
   ]
  },
  {
   "cell_type": "code",
   "execution_count": 11,
   "metadata": {
    "collapsed": false,
    "jupyter": {
     "outputs_hidden": false
    },
    "tags": [
     "no-execute"
    ]
   },
   "outputs": [
    {
     "name": "stdout",
     "output_type": "stream",
     "text": [
      "conda-forge/linux-64     Using cache\n",
      "conda-forge/noarch       Using cache\n",
      "pkgs/main/linux-64        \n",
      "pkgs/main/noarch          \n",
      "pkgs/r/linux-64           \n",
      "pkgs/r/noarch             \n",
      "Transaction\n",
      "\n",
      "  Prefix: /home/user/.conda/envs/temp_env\n",
      "\n",
      "  Updating specs:\n",
      "\n",
      "   - scipy\n",
      "\n",
      "\n",
      "\n",
      "                  __    __    __    __\n",
      "                 /  \\  /  \\  /  \\  /  \\\n",
      "                /    \\/    \\/    \\/    \\\n",
      "███████████████/  /██/  /██/  /██/  /████████████████████████\n",
      "              /  / \\   / \\   / \\   / \\  \\____\n",
      "             /  /   \\_/   \\_/   \\_/   \\    o \\__,\n",
      "            / _/                       \\_____/  `\n",
      "            |/\n",
      "        ███╗   ███╗ █████╗ ███╗   ███╗██████╗  █████╗\n",
      "        ████╗ ████║██╔══██╗████╗ ████║██╔══██╗██╔══██╗\n",
      "        ██╔████╔██║███████║██╔████╔██║██████╔╝███████║\n",
      "        ██║╚██╔╝██║██╔══██║██║╚██╔╝██║██╔══██╗██╔══██║\n",
      "        ██║ ╚═╝ ██║██║  ██║██║ ╚═╝ ██║██████╔╝██║  ██║\n",
      "        ╚═╝     ╚═╝╚═╝  ╚═╝╚═╝     ╚═╝╚═════╝ ╚═╝  ╚═╝\n",
      "\n",
      "        mamba (0.7.4) supported by @QuantStack\n",
      "\n",
      "        GitHub:  https://github.com/mamba-org/mamba\n",
      "        Twitter: https://twitter.com/QuantStack\n",
      "\n",
      "█████████████████████████████████████████████████████████████\n",
      "\n",
      "\n",
      "Looking for: ['scipy']\n",
      "\n",
      "Preparing transaction: ...working... done\n",
      "Verifying transaction: ...working... done\n",
      "Executing transaction: ...working... done\n",
      "  Package  Version  Build           Channel                    Size\n",
      "─────────────────────────────────────────────────────────────────────\n",
      "  Install:\n",
      "─────────────────────────────────────────────────────────────────────\n",
      "\n",
      "  scipy      1.7.0  py39hee8e79c_1  conda-forge/linux-64     Cached\n",
      "\n",
      "  Summary:\n",
      "\n",
      "  Install: 1 packages\n",
      "\n",
      "  Total download: 0  B\n",
      "\n",
      "─────────────────────────────────────────────────────────────────────\n",
      "\n"
     ]
    }
   ],
   "source": [
    "%%bash\n",
    "source activate temp_env\n",
    "\n",
    "mamba install -y scipy"
   ]
  },
  {
   "cell_type": "markdown",
   "metadata": {},
   "source": [
    "# Creating a Custom Kernel for Jupyter/IPython"
   ]
  },
  {
   "cell_type": "markdown",
   "metadata": {},
   "source": [
    "While our environment is ready for command-line use, there are additional steps to use it with jupyter. \n",
    "\n",
    "1. First, we will install \"ipykernel\""
   ]
  },
  {
   "cell_type": "code",
   "execution_count": 12,
   "metadata": {
    "collapsed": false,
    "jupyter": {
     "outputs_hidden": false
    },
    "tags": [
     "no-execute"
    ]
   },
   "outputs": [
    {
     "name": "stdout",
     "output_type": "stream",
     "text": [
      "conda-forge/linux-64     Using cache\n",
      "conda-forge/noarch       Using cache\n",
      "pkgs/main/linux-64       Using cache\n",
      "pkgs/main/noarch         Using cache\n",
      "pkgs/r/linux-64          Using cache\n",
      "pkgs/r/noarch            Using cache\n",
      "Transaction\n",
      "\n",
      "  Prefix: /home/user/.conda/envs/temp_env\n",
      "\n",
      "  Updating specs:\n",
      "\n",
      "   - ipykernel\n",
      "\n",
      "\n",
      "\n",
      "                  __    __    __    __\n",
      "                 /  \\  /  \\  /  \\  /  \\\n",
      "                /    \\/    \\/    \\/    \\\n",
      "███████████████/  /██/  /██/  /██/  /████████████████████████\n",
      "              /  / \\   / \\   / \\   / \\  \\____\n",
      "             /  /   \\_/   \\_/   \\_/   \\    o \\__,\n",
      "            / _/                       \\_____/  `\n",
      "            |/\n",
      "        ███╗   ███╗ █████╗ ███╗   ███╗██████╗  █████╗\n",
      "        ████╗ ████║██╔══██╗████╗ ████║██╔══██╗██╔══██╗\n",
      "        ██╔████╔██║███████║██╔████╔██║██████╔╝███████║\n",
      "        ██║╚██╔╝██║██╔══██║██║╚██╔╝██║██╔══██╗██╔══██║\n",
      "        ██║ ╚═╝ ██║██║  ██║██║ ╚═╝ ██║██████╔╝██║  ██║\n",
      "        ╚═╝     ╚═╝╚═╝  ╚═╝╚═╝     ╚═╝╚═════╝ ╚═╝  ╚═╝\n",
      "\n",
      "        mamba (0.7.4) supported by @QuantStack\n",
      "\n",
      "        GitHub:  https://github.com/mamba-org/mamba\n",
      "        Twitter: https://twitter.com/QuantStack\n",
      "\n",
      "█████████████████████████████████████████████████████████████\n",
      "\n",
      "\n",
      "Looking for: ['ipykernel']\n",
      "\n",
      "Preparing transaction: ...working... done\n",
      "Verifying transaction: ...working... done\n",
      "Executing transaction: ...working... done\n",
      "  Package                        Version  Build              Channel                    Size\n",
      "──────────────────────────────────────────────────────────────────────────────────────────────\n",
      "  Install:\n",
      "──────────────────────────────────────────────────────────────────────────────────────────────\n",
      "\n",
      "  backcall                         0.2.0  pyh9f0ad1d_0       conda-forge/noarch       Cached\n",
      "  backports                          1.0  py_2               conda-forge/noarch       Cached\n",
      "  backports.functools_lru_cache    1.6.4  pyhd8ed1ab_0       conda-forge/noarch       Cached\n",
      "  debugpy                          1.4.1  py39he80948d_0     conda-forge/linux-64     Cached\n",
      "  decorator                        5.0.9  pyhd8ed1ab_0       conda-forge/noarch       Cached\n",
      "  ipykernel                        6.0.3  py39hef51801_0     conda-forge/linux-64     Cached\n",
      "  ipython                         7.26.0  py39hef51801_0     conda-forge/linux-64     Cached\n",
      "  ipython_genutils                 0.2.0  py_1               conda-forge/noarch       Cached\n",
      "  jedi                            0.18.0  py39hf3d152e_2     conda-forge/linux-64     Cached\n",
      "  jupyter_client                  6.1.12  pyhd8ed1ab_0       conda-forge/noarch       Cached\n",
      "  jupyter_core                     4.7.1  py39hf3d152e_0     conda-forge/linux-64     Cached\n",
      "  libsodium                       1.0.18  h516909a_1         conda-forge/linux-64     Cached\n",
      "  matplotlib-inline                0.1.2  pyhd8ed1ab_2       conda-forge/noarch       Cached\n",
      "  parso                            0.8.2  pyhd8ed1ab_0       conda-forge/noarch       Cached\n",
      "  pexpect                          4.8.0  pyh9f0ad1d_2       conda-forge/noarch       Cached\n",
      "  pickleshare                      0.7.5  py39hde42818_1002  conda-forge/linux-64     Cached\n",
      "  prompt-toolkit                  3.0.19  pyha770c72_0       conda-forge/noarch       Cached\n",
      "  ptyprocess                       0.7.0  pyhd3deb0d_0       conda-forge/noarch       Cached\n",
      "  pygments                         2.9.0  pyhd8ed1ab_0       conda-forge/noarch       Cached\n",
      "  python-dateutil                  2.8.2  pyhd8ed1ab_0       conda-forge/noarch       Cached\n",
      "  pyzmq                           22.2.0  py39h37b5a0c_0     conda-forge/linux-64     Cached\n",
      "  six                             1.16.0  pyh6c4a22f_0       conda-forge/noarch       Cached\n",
      "  tornado                            6.1  py39h3811e60_1     conda-forge/linux-64     Cached\n",
      "  traitlets                        5.0.5  py_0               conda-forge/noarch       Cached\n",
      "  wcwidth                          0.2.5  pyh9f0ad1d_2       conda-forge/noarch       Cached\n",
      "  zeromq                           4.3.4  h9c3ff4c_0         conda-forge/linux-64     Cached\n",
      "\n",
      "  Summary:\n",
      "\n",
      "  Install: 26 packages\n",
      "\n",
      "  Total download: 0  B\n",
      "\n",
      "──────────────────────────────────────────────────────────────────────────────────────────────\n",
      "\n"
     ]
    }
   ],
   "source": [
    "%%bash\n",
    "source activate temp_env\n",
    "\n",
    "mamba install -y ipykernel"
   ]
  },
  {
   "cell_type": "markdown",
   "metadata": {},
   "source": [
    "2. We will create a jupyter kernelspec for our environment"
   ]
  },
  {
   "cell_type": "code",
   "execution_count": 13,
   "metadata": {
    "collapsed": false,
    "jupyter": {
     "outputs_hidden": false
    },
    "tags": [
     "no-execute"
    ]
   },
   "outputs": [
    {
     "name": "stdout",
     "output_type": "stream",
     "text": [
      "Available kernels:\n",
      "  python3    /home/user/.local/share/jupyter/kernels/python3\n"
     ]
    }
   ],
   "source": [
    "!jupyter kernelspec list"
   ]
  },
  {
   "cell_type": "markdown",
   "metadata": {},
   "source": [
    "We will create a kernelspec (a pointer to our environment) using the python in our environment and add it to the list of kernels for our base environment."
   ]
  },
  {
   "cell_type": "code",
   "execution_count": 14,
   "metadata": {
    "collapsed": false,
    "jupyter": {
     "outputs_hidden": false
    }
   },
   "outputs": [
    {
     "name": "stdout",
     "output_type": "stream",
     "text": [
      "# conda environments:\n",
      "#\n",
      "patrick                  /home/user/.conda/envs/patrick\n",
      "temp_env                 /home/user/.conda/envs/temp_env\n",
      "base                  *  /srv/conda\n",
      "notebook                 /srv/conda/envs/notebook\n",
      "\n"
     ]
    }
   ],
   "source": [
    "!mamba env list"
   ]
  },
  {
   "cell_type": "code",
   "execution_count": 15,
   "metadata": {
    "collapsed": false,
    "jupyter": {
     "outputs_hidden": false
    },
    "tags": [
     "no-execute"
    ]
   },
   "outputs": [
    {
     "name": "stdout",
     "output_type": "stream",
     "text": [
      "Installed kernelspec temp_env_kernel in /home/user/.local/share/jupyter/kernels/temp_env_kernel\n"
     ]
    }
   ],
   "source": [
    "!/home/user/.conda/envs/temp_env/bin/python -m ipykernel install --user --name 'temp_env_kernel'"
   ]
  },
  {
   "cell_type": "code",
   "execution_count": 16,
   "metadata": {
    "collapsed": false,
    "jupyter": {
     "outputs_hidden": false
    },
    "tags": [
     "no-execute"
    ]
   },
   "outputs": [
    {
     "name": "stdout",
     "output_type": "stream",
     "text": [
      "Available kernels:\n",
      "  python3            /home/user/.local/share/jupyter/kernels/python3\n",
      "  temp_env_kernel    /home/user/.local/share/jupyter/kernels/temp_env_kernel\n"
     ]
    }
   ],
   "source": [
    "!jupyter kernelspec list"
   ]
  },
  {
   "cell_type": "code",
   "execution_count": 2,
   "metadata": {
    "collapsed": false,
    "jupyter": {
     "outputs_hidden": false
    }
   },
   "outputs": [],
   "source": [
    "import numpy, scipy"
   ]
  },
  {
   "cell_type": "markdown",
   "metadata": {},
   "source": [
    "## Remove/Delete Conda environment"
   ]
  },
  {
   "cell_type": "markdown",
   "metadata": {},
   "source": [
    "When a conda environment is no longer useful or needs to be uninstalled, remove it with `conda remove`."
   ]
  },
  {
   "cell_type": "code",
   "execution_count": 3,
   "metadata": {
    "collapsed": false,
    "jupyter": {
     "outputs_hidden": false
    },
    "tags": [
     "no-execute"
    ]
   },
   "outputs": [
    {
     "name": "stdout",
     "output_type": "stream",
     "text": [
      "\n",
      "                  __    __    __    __\n",
      "                 /  \\  /  \\  /  \\  /  \\\n",
      "                /    \\/    \\/    \\/    \\\n",
      "███████████████/  /██/  /██/  /██/  /████████████████████████\n",
      "              /  / \\   / \\   / \\   / \\  \\____\n",
      "             /  /   \\_/   \\_/   \\_/   \\    o \\__,\n",
      "            / _/                       \\_____/  `\n",
      "            |/\n",
      "        ███╗   ███╗ █████╗ ███╗   ███╗██████╗  █████╗\n",
      "        ████╗ ████║██╔══██╗████╗ ████║██╔══██╗██╔══██╗\n",
      "        ██╔████╔██║███████║██╔████╔██║██████╔╝███████║\n",
      "        ██║╚██╔╝██║██╔══██║██║╚██╔╝██║██╔══██╗██╔══██║\n",
      "        ██║ ╚═╝ ██║██║  ██║██║ ╚═╝ ██║██████╔╝██║  ██║\n",
      "        ╚═╝     ╚═╝╚═╝  ╚═╝╚═╝     ╚═╝╚═════╝ ╚═╝  ╚═╝\n",
      "\n",
      "        mamba (0.7.4) supported by @QuantStack\n",
      "\n",
      "        GitHub:  https://github.com/mamba-org/mamba\n",
      "        Twitter: https://twitter.com/QuantStack\n",
      "\n",
      "█████████████████████████████████████████████████████████████\n",
      "\n",
      "\n",
      "Remove all packages in environment /home/user/.conda/envs/temp_env:\n",
      "\n",
      "Preparing transaction: done\n",
      "Verifying transaction: done\n",
      "Executing transaction: done\n"
     ]
    }
   ],
   "source": [
    "!mamba remove -y --name temp_env --all"
   ]
  },
  {
   "cell_type": "code",
   "execution_count": 4,
   "metadata": {
    "collapsed": false,
    "jupyter": {
     "outputs_hidden": false
    },
    "tags": [
     "no-execute"
    ]
   },
   "outputs": [
    {
     "name": "stdout",
     "output_type": "stream",
     "text": [
      "# conda environments:\n",
      "#\n",
      "patrick                  /home/user/.conda/envs/patrick\n",
      "base                  *  /srv/conda\n",
      "notebook                 /srv/conda/envs/notebook\n",
      "\n"
     ]
    }
   ],
   "source": [
    "!mamba env list"
   ]
  },
  {
   "cell_type": "markdown",
   "metadata": {},
   "source": [
    "If we created a kernelspec, we'll want to remove it (not done by default)"
   ]
  },
  {
   "cell_type": "code",
   "execution_count": 5,
   "metadata": {
    "collapsed": false,
    "jupyter": {
     "outputs_hidden": false
    },
    "tags": [
     "no-execute"
    ]
   },
   "outputs": [
    {
     "name": "stdout",
     "output_type": "stream",
     "text": [
      "[RemoveKernelSpec] Removed /home/user/.local/share/jupyter/kernels/temp_env_kernel\n"
     ]
    }
   ],
   "source": [
    "!jupyter kernelspec remove -f temp_env_kernel"
   ]
  },
  {
   "cell_type": "code",
   "execution_count": null,
   "metadata": {
    "collapsed": false,
    "jupyter": {
     "outputs_hidden": false
    }
   },
   "outputs": [],
   "source": []
  }
 ],
 "metadata": {
  "kernelspec": {
   "display_name": "Python 3 (ipykernel)",
   "language": "python",
   "name": "python3"
  },
  "language_info": {
   "codemirror_mode": {
    "name": "ipython",
    "version": 3
   },
   "file_extension": ".py",
   "mimetype": "text/x-python",
   "name": "python",
   "nbconvert_exporter": "python",
   "pygments_lexer": "ipython3",
   "version": "3.9.6"
  }
 },
 "nbformat": 4,
 "nbformat_minor": 4
}
