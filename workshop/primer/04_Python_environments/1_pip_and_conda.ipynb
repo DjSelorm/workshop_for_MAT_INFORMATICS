{
 "cells": [
  {
   "cell_type": "markdown",
   "metadata": {
    "collapsed": false
   },
   "source": [
    "# Introduction to Package Managers and Environments"
   ]
  },
  {
   "cell_type": "markdown",
   "metadata": {
    "collapsed": false
   },
   "source": [
    "While many programming languages exist, Python has risen to the top amongst the scientific and data science community. Python is simple to learn and use, is platform independent, and most importantly has access to a wide range of open source packages and libraries that aid in data analysis. While many of these packages are open source and readily available, in order to leverage these libraries in our code, we must use package managers to install and manage the packages. There are two common package management systems used - pip and conda."
   ]
  },
  {
   "cell_type": "markdown",
   "metadata": {
    "collapsed": false
   },
   "source": [
    "---"
   ]
  },
  {
   "cell_type": "markdown",
   "metadata": {
    "collapsed": false
   },
   "source": [
    "While it is easiest to work with pip and conda in the command line/terminal, for ease of demonstration, we will use ipython notebooks (in Co-calc) for the workshop. \n",
    "\n",
    "Most of the commands (especially those starting with `pip` or `conda`) used in this section are to be executed in a command-line. Within an ipython notebook, we use the `!` to run a single line of code in the command-line. Additionally, if we wish to execute the entirety of a cell as command-line, we can use the `%%bash` magic command. We will see examples of these later in the notebook."
   ]
  },
  {
   "cell_type": "markdown",
   "metadata": {
    "collapsed": false
   },
   "source": [
    "# Introduction to pip\n",
    "pip is a package management system for python that is used to install and manage additional libraries and dependencies. pip typically comes pre-installed by alongside python. \n",
    "\n",
    "Let's verify that pip is installed:"
   ]
  },
  {
   "cell_type": "code",
   "execution_count": 1,
   "metadata": {
    "collapsed": false,
    "scrolled": true
   },
   "outputs": [
    {
     "name": "stdout",
     "output_type": "stream",
     "text": [
      "pip 21.0.1 from /srv/conda/envs/notebook/lib/python3.9/site-packages/pip (python 3.9)\r\n"
     ]
    }
   ],
   "source": [
    "!pip --version"
   ]
  },
  {
   "cell_type": "markdown",
   "metadata": {
    "collapsed": false
   },
   "source": [
    "*note that we are using the `!` to execute a command on the system terminal/command-line"
   ]
  },
  {
   "cell_type": "markdown",
   "metadata": {
    "collapsed": false
   },
   "source": [
    "Let's see what we can do with pip using the `help` command"
   ]
  },
  {
   "cell_type": "code",
   "execution_count": 2,
   "metadata": {
    "collapsed": false
   },
   "outputs": [
    {
     "name": "stdout",
     "output_type": "stream",
     "text": [
      "\r\n",
      "Usage:   \r\n",
      "  pip <command> [options]\r\n",
      "\r\n",
      "Commands:\r\n",
      "  install                     Install packages.\r\n",
      "  download                    Download packages.\r\n",
      "  uninstall                   Uninstall packages.\r\n",
      "  freeze                      Output installed packages in requirements format.\r\n",
      "  list                        List installed packages.\r\n",
      "  show                        Show information about installed packages.\r\n",
      "  check                       Verify installed packages have compatible dependencies.\r\n",
      "  config                      Manage local and global configuration.\r\n",
      "  search                      Search PyPI for packages.\r\n",
      "  cache                       Inspect and manage pip's wheel cache.\r\n",
      "  wheel                       Build wheels from your requirements.\r\n",
      "  hash                        Compute hashes of package archives.\r\n",
      "  completion                  A helper command used for command completion.\r\n",
      "  debug                       Show information useful for debugging.\r\n",
      "  help                        Show help for commands.\r\n",
      "\r\n",
      "General Options:\r\n",
      "  -h, --help                  Show help.\r\n",
      "  --isolated                  Run pip in an isolated mode, ignoring\r\n",
      "                              environment variables and user configuration.\r\n",
      "  -v, --verbose               Give more output. Option is additive, and can be\r\n",
      "                              used up to 3 times.\r\n",
      "  -V, --version               Show version and exit.\r\n",
      "  -q, --quiet                 Give less output. Option is additive, and can be\r\n",
      "                              used up to 3 times (corresponding to WARNING,\r\n",
      "                              ERROR, and CRITICAL logging levels).\r\n",
      "  --log <path>                Path to a verbose appending log.\r\n",
      "  --no-input                  Disable prompting for input.\r\n",
      "  --proxy <proxy>             Specify a proxy in the form\r\n",
      "                              [user:passwd@]proxy.server:port.\r\n",
      "  --retries <retries>         Maximum number of retries each connection should\r\n",
      "                              attempt (default 5 times).\r\n",
      "  --timeout <sec>             Set the socket timeout (default 15 seconds).\r\n",
      "  --exists-action <action>    Default action when a path already exists:\r\n",
      "                              (s)witch, (i)gnore, (w)ipe, (b)ackup, (a)bort.\r\n",
      "  --trusted-host <hostname>   Mark this host or host:port pair as trusted,\r\n",
      "                              even though it does not have valid or any HTTPS.\r\n",
      "  --cert <path>               Path to alternate CA bundle.\r\n",
      "  --client-cert <path>        Path to SSL client certificate, a single file\r\n",
      "                              containing the private key and the certificate\r\n",
      "                              in PEM format.\r\n",
      "  --cache-dir <dir>           Store the cache data in <dir>.\r\n",
      "  --no-cache-dir              Disable the cache.\r\n",
      "  --disable-pip-version-check\r\n",
      "                              Don't periodically check PyPI to determine\r\n",
      "                              whether a new version of pip is available for\r\n",
      "                              download. Implied with --no-index.\r\n",
      "  --no-color                  Suppress colored output.\r\n",
      "  --no-python-version-warning\r\n",
      "                              Silence deprecation warnings for upcoming\r\n",
      "                              unsupported Pythons.\r\n",
      "  --use-feature <feature>     Enable new functionality, that may be backward\r\n",
      "                              incompatible.\r\n",
      "  --use-deprecated <feature>  Enable deprecated functionality, that will be\r\n",
      "                              removed in the future.\r\n"
     ]
    }
   ],
   "source": [
    "!pip --help"
   ]
  },
  {
   "cell_type": "markdown",
   "metadata": {
    "collapsed": false
   },
   "source": [
    "`pip list` will show all installed packages, while `pip freeze` will show all user installed packages"
   ]
  },
  {
   "cell_type": "code",
   "execution_count": 3,
   "metadata": {
    "collapsed": false
   },
   "outputs": [
    {
     "name": "stdout",
     "output_type": "stream",
     "text": [
      "Package                       Version                     Location\r\n",
      "----------------------------- --------------------------- ------------------------\r\n",
      "aioitertools                  0.7.1\r\n",
      "alembic                       1.5.5\r\n",
      "anyio                         3.3.0\r\n",
      "argon2-cffi                   20.1.0\r\n",
      "async-generator               1.10\r\n",
      "atomate                       0.9.9\r\n",
      "attrs                         21.2.0\r\n",
      "Automat                       20.2.0\r\n",
      "Babel                         2.9.1\r\n",
      "backcall                      0.2.0\r\n",
      "backports.functools-lru-cache 1.6.1\r\n",
      "bcrypt                        3.2.0\r\n",
      "bleach                        4.0.0\r\n",
      "blinker                       1.4\r\n",
      "boltons                       21.0.0\r\n",
      "bravado                       11.0.3\r\n",
      "bravado-core                  5.17.0\r\n",
      "brotlipy                      0.7.0\r\n",
      "certifi                       2021.5.30\r\n",
      "certipy                       0.1.3\r\n",
      "cffi                          1.14.6\r\n",
      "chardet                       4.0.0\r\n",
      "charset-normalizer            2.0.4\r\n",
      "click                         8.0.1\r\n",
      "cloudpickle                   1.6.0\r\n",
      "constantly                    15.1.0\r\n",
      "crochet                       2.0.0\r\n",
      "cryptography                  3.4.7\r\n",
      "crystal-toolkit               2021.4.29\r\n",
      "crystaltoolkit-extension      0.3.0\r\n",
      "custodian                     2021.2.8\r\n",
      "cycler                        0.10.0\r\n",
      "dask                          2021.7.2\r\n",
      "debugpy                       1.4.1\r\n",
      "decorator                     5.0.9\r\n",
      "defusedxml                    0.7.1\r\n",
      "dnspython                     2.1.0\r\n",
      "email-validator               1.1.3\r\n",
      "emmet-core                    0.9.1\r\n",
      "entrypoints                   0.3\r\n",
      "fastapi                       0.68.0\r\n",
      "fido                          4.2.2\r\n",
      "filetype                      1.0.7\r\n",
      "FireWorks                     1.9.7\r\n",
      "Flask                         2.0.1\r\n",
      "flask-paginate                0.8.1\r\n",
      "flatten-dict                  0.4.1\r\n",
      "fsspec                        2021.7.0\r\n",
      "future                        0.18.2\r\n",
      "graphviz                      0.17\r\n",
      "gunicorn                      20.1.0\r\n",
      "h5py                          3.3.0\r\n",
      "hyperlink                     21.0.0\r\n",
      "idna                          3.2\r\n",
      "imageio                       2.9.0\r\n",
      "importlib-metadata            3.4.0\r\n",
      "incremental                   21.3.0\r\n",
      "inflect                       5.3.0\r\n",
      "iniconfig                     1.1.1\r\n",
      "ipykernel                     6.0.3\r\n",
      "ipython                       7.26.0\r\n",
      "ipython-genutils              0.2.0\r\n",
      "ipywidgets                    7.6.3\r\n",
      "itsdangerous                  2.0.1\r\n",
      "jedi                          0.18.0\r\n",
      "Jinja2                        3.0.1\r\n",
      "joblib                        1.0.1\r\n",
      "json2html                     1.3.0\r\n",
      "json5                         0.9.6\r\n",
      "jsonpointer                   2.1\r\n",
      "jsonref                       0.2\r\n",
      "jsonschema                    3.2.0\r\n",
      "jupyter-client                6.1.12\r\n",
      "jupyter-core                  4.7.1\r\n",
      "jupyter-offlinenotebook       0.2.1\r\n",
      "jupyter-resource-usage        0.5.1\r\n",
      "jupyter-server                1.10.2\r\n",
      "jupyter-telemetry             0.1.0\r\n",
      "jupyterhub                    1.3.0\r\n",
      "jupyterlab                    3.1.2\r\n",
      "jupyterlab-pygments           0.1.2\r\n",
      "jupyterlab-server             2.6.2\r\n",
      "jupyterlab-widgets            1.0.0\r\n",
      "kiwisolver                    1.3.1\r\n",
      "latexcodec                    2.0.1\r\n",
      "llvmlite                      0.36.0\r\n",
      "locket                        0.2.1\r\n",
      "maggma                        0.30.4\r\n",
      "Mako                          1.1.4\r\n",
      "MarkupSafe                    2.0.1\r\n",
      "matminer                      0.7.4\r\n",
      "matplotlib                    3.4.2\r\n",
      "matplotlib-inline             0.1.2\r\n",
      "mistune                       0.8.4\r\n",
      "mongogrant                    0.3.3\r\n",
      "mongomock                     3.23.0\r\n",
      "monotonic                     1.6\r\n",
      "monty                         2021.7.8\r\n",
      "mp-api                        0.7.0\r\n",
      "mp-pyrho                      0.0.14\r\n",
      "mp-workshop                   0.1.dev1+g8fb187f.d20210728 /home/user/python_module\r\n",
      "mpcontribs-client             3.12.4\r\n",
      "mpmath                        1.2.1\r\n",
      "msgpack                       1.0.2\r\n",
      "nbclassic                     0.3.1\r\n",
      "nbclient                      0.5.3\r\n",
      "nbconvert                     6.1.0\r\n",
      "nbformat                      5.1.3\r\n",
      "nbgitpuller                   0.10.1\r\n",
      "nbzip                         0.1.0\r\n",
      "nest-asyncio                  1.5.1\r\n",
      "networkx                      2.6.2\r\n",
      "notebook                      6.4.0\r\n",
      "nteract-on-jupyter            2.1.3\r\n",
      "numba                         0.53.1\r\n",
      "numpy                         1.21.1\r\n",
      "oauthlib                      3.0.1\r\n",
      "olefile                       0.46\r\n",
      "orjson                        3.6.1\r\n",
      "packaging                     21.0\r\n",
      "palettable                    3.3.0\r\n",
      "pamela                        1.0.0\r\n",
      "pandas                        1.3.1\r\n",
      "pandocfilters                 1.4.3\r\n",
      "paramiko                      2.7.2\r\n",
      "parso                         0.8.2\r\n",
      "partd                         1.2.0\r\n",
      "pexpect                       4.8.0\r\n",
      "pickleshare                   0.7.5\r\n",
      "Pillow                        8.3.1\r\n",
      "Pint                          0.17\r\n",
      "pip                           21.0.1\r\n",
      "plotly                        4.14.3\r\n",
      "pluggy                        0.13.1\r\n",
      "prometheus-client             0.11.0\r\n",
      "prompt-toolkit                3.0.19\r\n",
      "psutil                        5.8.0\r\n",
      "ptyprocess                    0.7.0\r\n",
      "PubChemPy                     1.0.4\r\n",
      "py                            1.10.0\r\n",
      "pyasn1                        0.4.8\r\n",
      "pyasn1-modules                0.2.8\r\n",
      "pybtex                        0.24.0\r\n",
      "pycairo                       1.20.1\r\n",
      "pycparser                     2.20\r\n",
      "pycurl                        7.43.0.6\r\n",
      "pydantic                      1.8.2\r\n",
      "pydash                        5.0.2\r\n",
      "Pygments                      2.9.0\r\n",
      "PyGObject                     3.40.1\r\n",
      "pyIsEmail                     1.3.2\r\n",
      "PyJWT                         2.0.1\r\n",
      "pymatgen                      2022.0.11\r\n",
      "pymatgen-diffusion            2020.10.8\r\n",
      "pymongo                       3.12.0\r\n",
      "PyNaCl                        1.4.0\r\n",
      "pynng                         0.7.1\r\n",
      "pyOpenSSL                     20.0.1\r\n",
      "pyparsing                     2.4.7\r\n",
      "pyrsistent                    0.18.0\r\n",
      "PySocks                       1.7.1\r\n",
      "pytest                        6.2.4\r\n",
      "python-dateutil               2.8.2\r\n",
      "python-editor                 1.0.4\r\n",
      "python-json-logger            2.0.1\r\n",
      "pytz                          2021.1\r\n",
      "PyWavelets                    1.1.1\r\n",
      "PyYAML                        5.4.1\r\n",
      "pyzmq                         22.2.0\r\n",
      "ratelimit                     2.2.1\r\n",
      "reaction-network              2.0.0\r\n",
      "requests                      2.26.0\r\n",
      "requests-futures              1.0.0\r\n",
      "requests-unixsocket           0.2.0\r\n",
      "retrying                      1.3.3\r\n",
      "rfc3987                       1.3.8\r\n",
      "robocrys                      0.2.7\r\n",
      "ruamel.yaml                   0.17.10\r\n",
      "ruamel.yaml.clib              0.2.6\r\n",
      "scikit-image                  0.18.2\r\n",
      "scikit-learn                  0.24.2\r\n",
      "scipy                         1.7.1\r\n",
      "Send2Trash                    1.7.1\r\n",
      "sentinels                     1.0.0\r\n",
      "sentry-sdk                    1.3.1\r\n",
      "service-identity              21.1.0\r\n",
      "setuptools                    57.4.0\r\n",
      "simplejson                    3.17.3\r\n",
      "six                           1.16.0\r\n",
      "sniffio                       1.2.0\r\n",
      "spglib                        1.16.1\r\n",
      "SQLAlchemy                    1.3.23\r\n",
      "sshtunnel                     0.4.0\r\n",
      "starlette                     0.14.2\r\n",
      "strict-rfc3339                0.7\r\n",
      "swagger-spec-validator        2.7.3\r\n",
      "sympy                         1.8\r\n",
      "tabulate                      0.8.9\r\n",
      "terminado                     0.10.1\r\n",
      "testpath                      0.5.0\r\n",
      "threadpoolctl                 2.2.0\r\n",
      "tifffile                      2021.7.30\r\n",
      "toml                          0.10.2\r\n",
      "toolz                         0.11.1\r\n",
      "tornado                       6.1\r\n",
      "tqdm                          4.62.0\r\n",
      "traitlets                     5.0.5\r\n",
      "Twisted                       21.7.0\r\n",
      "typing-extensions             3.10.0.0\r\n",
      "uncertainties                 3.1.6\r\n",
      "urllib3                       1.26.6\r\n",
      "wcwidth                       0.2.5\r\n",
      "webcolors                     1.11.1\r\n",
      "webencodings                  0.5.1\r\n",
      "websocket-client              1.1.0\r\n",
      "Werkzeug                      2.0.1\r\n",
      "wheel                         0.36.2\r\n",
      "widgetsnbextension            3.5.1\r\n",
      "wrapt                         1.12.1\r\n",
      "yelp-bytes                    0.3.0\r\n",
      "yelp-encodings                1.0.0\r\n",
      "zipp                          3.4.0\r\n",
      "zope.interface                5.4.0\r\n",
      "zstandard                     0.15.2\r\n"
     ]
    }
   ],
   "source": [
    "!pip list"
   ]
  },
  {
   "cell_type": "code",
   "execution_count": 4,
   "metadata": {
    "collapsed": false
   },
   "outputs": [
    {
     "name": "stdout",
     "output_type": "stream",
     "text": [
      "aioitertools==0.7.1\r\n",
      "alembic @ file:///home/conda/feedstock_root/build_artifacts/alembic_1613901514078/work\r\n",
      "anyio==3.3.0\r\n",
      "argon2-cffi==20.1.0\r\n",
      "async-generator==1.10\r\n",
      "atomate==0.9.9\r\n",
      "attrs==21.2.0\r\n",
      "Automat==20.2.0\r\n",
      "Babel==2.9.1\r\n",
      "backcall==0.2.0\r\n",
      "backports.functools-lru-cache==1.6.1\r\n",
      "bcrypt==3.2.0\r\n",
      "bleach==4.0.0\r\n",
      "blinker==1.4\r\n",
      "boltons==21.0.0\r\n",
      "bravado==11.0.3\r\n",
      "bravado-core==5.17.0\r\n",
      "brotlipy==0.7.0\r\n",
      "certifi==2021.5.30\r\n",
      "certipy==0.1.3\r\n",
      "cffi==1.14.6\r\n",
      "chardet @ file:///home/conda/feedstock_root/build_artifacts/chardet_1610093492116/work\r\n",
      "charset-normalizer==2.0.4\r\n",
      "click==8.0.1\r\n",
      "cloudpickle==1.6.0\r\n",
      "constantly==15.1.0\r\n",
      "crochet==2.0.0\r\n",
      "cryptography==3.4.7\r\n",
      "crystal-toolkit==2021.4.29\r\n",
      "crystaltoolkit-extension==0.3.0\r\n",
      "custodian==2021.2.8\r\n",
      "cycler==0.10.0\r\n",
      "dask==2021.7.2\r\n",
      "debugpy==1.4.1\r\n",
      "decorator==5.0.9\r\n",
      "defusedxml==0.7.1\r\n",
      "dnspython==2.1.0\r\n",
      "email-validator==1.1.3\r\n",
      "emmet-core==0.9.1\r\n",
      "entrypoints==0.3\r\n",
      "fastapi==0.68.0\r\n",
      "fido==4.2.2\r\n",
      "filetype==1.0.7\r\n",
      "FireWorks==1.9.7\r\n",
      "Flask==2.0.1\r\n",
      "flask-paginate==0.8.1\r\n",
      "flatten-dict==0.4.1\r\n",
      "fsspec==2021.7.0\r\n",
      "future==0.18.2\r\n",
      "graphviz==0.17\r\n",
      "gunicorn==20.1.0\r\n",
      "h5py==3.3.0\r\n",
      "hyperlink==21.0.0\r\n",
      "idna==3.2\r\n",
      "imageio==2.9.0\r\n",
      "importlib-metadata @ file:///home/conda/feedstock_root/build_artifacts/importlib-metadata_1610355162947/work\r\n",
      "incremental==21.3.0\r\n",
      "inflect==5.3.0\r\n",
      "iniconfig==1.1.1\r\n",
      "ipykernel==6.0.3\r\n",
      "ipython==7.26.0\r\n",
      "ipython-genutils==0.2.0\r\n",
      "ipywidgets==7.6.3\r\n",
      "itsdangerous==2.0.1\r\n",
      "jedi==0.18.0\r\n",
      "Jinja2==3.0.1\r\n",
      "joblib==1.0.1\r\n",
      "json2html==1.3.0\r\n",
      "json5==0.9.6\r\n",
      "jsonpointer==2.1\r\n",
      "jsonref==0.2\r\n",
      "jsonschema==3.2.0\r\n",
      "jupyter-client==6.1.12\r\n",
      "jupyter-core==4.7.1\r\n",
      "jupyter-offlinenotebook @ file:///home/conda/feedstock_root/build_artifacts/jupyter-offlinenotebook_1610833110941/work\r\n",
      "jupyter-resource-usage @ file:///home/conda/feedstock_root/build_artifacts/jupyter-resource-usage_1608550684149/work\r\n",
      "jupyter-server==1.10.2\r\n",
      "jupyter-telemetry @ file:///home/conda/feedstock_root/build_artifacts/jupyter_telemetry_1605173804246/work\r\n",
      "jupyterhub @ file:///home/conda/feedstock_root/build_artifacts/jupyterhub-feedstock_1607688168448/work\r\n",
      "jupyterlab==3.1.2\r\n",
      "jupyterlab-pygments==0.1.2\r\n",
      "jupyterlab-server==2.6.2\r\n",
      "jupyterlab-widgets==1.0.0\r\n",
      "kiwisolver==1.3.1\r\n",
      "latexcodec==2.0.1\r\n",
      "llvmlite==0.36.0\r\n",
      "locket==0.2.1\r\n",
      "maggma==0.30.4\r\n",
      "Mako @ file:///home/conda/feedstock_root/build_artifacts/mako_1610659158978/work\r\n",
      "MarkupSafe==2.0.1\r\n",
      "matminer==0.7.4\r\n",
      "matplotlib==3.4.2\r\n",
      "matplotlib-inline==0.1.2\r\n",
      "mistune==0.8.4\r\n",
      "mongogrant==0.3.3\r\n",
      "mongomock==3.23.0\r\n",
      "monotonic==1.6\r\n",
      "monty==2021.7.8\r\n",
      "mp-api==0.7.0\r\n",
      "mp-pyrho==0.0.14\r\n",
      "-e git+https://github.com/materialsproject/workshop.git@476ab797de7424e9cdb802d5853f74d1625aca32#egg=mp_workshop\r\n",
      "mpcontribs-client==3.12.4\r\n",
      "mpmath==1.2.1\r\n",
      "msgpack==1.0.2\r\n",
      "nbclassic==0.3.1\r\n",
      "nbclient==0.5.3\r\n",
      "nbconvert==6.1.0\r\n",
      "nbformat==5.1.3\r\n",
      "nbgitpuller==0.10.1\r\n",
      "nbzip==0.1.0\r\n",
      "nest-asyncio==1.5.1\r\n",
      "networkx==2.6.2\r\n",
      "notebook==6.4.0\r\n",
      "nteract-on-jupyter==2.1.3\r\n",
      "numba==0.53.1\r\n",
      "numpy==1.21.1\r\n",
      "oauthlib==3.0.1\r\n",
      "olefile @ file:///home/conda/feedstock_root/build_artifacts/olefile_1602866521163/work\r\n",
      "orjson==3.6.1\r\n",
      "packaging==21.0\r\n",
      "palettable==3.3.0\r\n",
      "pamela==1.0.0\r\n",
      "pandas==1.3.1\r\n",
      "pandocfilters==1.4.3\r\n",
      "paramiko==2.7.2\r\n",
      "parso==0.8.2\r\n",
      "partd==1.2.0\r\n",
      "pexpect==4.8.0\r\n",
      "pickleshare==0.7.5\r\n",
      "Pillow==8.3.1\r\n",
      "Pint==0.17\r\n",
      "plotly==4.14.3\r\n",
      "pluggy==0.13.1\r\n",
      "prometheus-client==0.11.0\r\n",
      "prompt-toolkit==3.0.19\r\n",
      "psutil @ file:///home/conda/feedstock_root/build_artifacts/psutil_1610127095958/work\r\n",
      "ptyprocess==0.7.0\r\n",
      "PubChemPy==1.0.4\r\n",
      "py==1.10.0\r\n",
      "pyasn1==0.4.8\r\n",
      "pyasn1-modules==0.2.8\r\n",
      "pybtex==0.24.0\r\n",
      "pycairo==1.20.1\r\n",
      "pycparser==2.20\r\n",
      "pycurl==7.43.0.6\r\n",
      "pydantic==1.8.2\r\n",
      "pydash==5.0.2\r\n",
      "Pygments==2.9.0\r\n",
      "PyGObject==3.40.1\r\n",
      "pyIsEmail==1.3.2\r\n",
      "PyJWT @ file:///home/conda/feedstock_root/build_artifacts/pyjwt_1610910308735/work\r\n",
      "pymatgen==2022.0.11\r\n",
      "pymatgen-diffusion==2020.10.8\r\n",
      "pymongo==3.12.0\r\n",
      "PyNaCl==1.4.0\r\n",
      "pynng==0.7.1\r\n",
      "pyOpenSSL==20.0.1\r\n",
      "pyparsing==2.4.7\r\n",
      "pyrsistent==0.18.0\r\n",
      "PySocks @ file:///home/conda/feedstock_root/build_artifacts/pysocks_1610291451001/work\r\n",
      "pytest==6.2.4\r\n",
      "python-dateutil==2.8.2\r\n",
      "python-editor==1.0.4\r\n",
      "python-json-logger @ file:///home/conda/feedstock_root/build_artifacts/python-json-logger_1602545356084/work\r\n",
      "pytz==2021.1\r\n",
      "PyWavelets==1.1.1\r\n",
      "PyYAML==5.4.1\r\n",
      "pyzmq==22.2.0\r\n",
      "ratelimit==2.2.1\r\n",
      "reaction-network==2.0.0\r\n",
      "requests==2.26.0\r\n",
      "requests-futures==1.0.0\r\n",
      "requests-unixsocket==0.2.0\r\n",
      "retrying==1.3.3\r\n",
      "rfc3987==1.3.8\r\n",
      "robocrys==0.2.7\r\n",
      "ruamel.yaml==0.17.10\r\n",
      "ruamel.yaml.clib==0.2.6\r\n",
      "scikit-image==0.18.2\r\n",
      "scikit-learn==0.24.2\r\n",
      "scipy==1.7.1\r\n",
      "Send2Trash==1.7.1\r\n",
      "sentinels==1.0.0\r\n",
      "sentry-sdk==1.3.1\r\n",
      "service-identity==21.1.0\r\n",
      "simplejson==3.17.3\r\n",
      "six==1.16.0\r\n",
      "sniffio==1.2.0\r\n",
      "spglib==1.16.1\r\n",
      "SQLAlchemy @ file:///home/conda/feedstock_root/build_artifacts/sqlalchemy_1612225078198/work\r\n",
      "sshtunnel==0.4.0\r\n",
      "starlette==0.14.2\r\n",
      "strict-rfc3339==0.7\r\n",
      "swagger-spec-validator==2.7.3\r\n",
      "sympy==1.8\r\n",
      "tabulate==0.8.9\r\n",
      "terminado==0.10.1\r\n",
      "testpath==0.5.0\r\n",
      "threadpoolctl==2.2.0\r\n",
      "tifffile==2021.7.30\r\n",
      "toml==0.10.2\r\n",
      "toolz==0.11.1\r\n",
      "tornado==6.1\r\n",
      "tqdm==4.62.0\r\n",
      "traitlets==5.0.5\r\n",
      "Twisted==21.7.0\r\n",
      "typing-extensions==3.10.0.0\r\n",
      "uncertainties==3.1.6\r\n",
      "urllib3==1.26.6\r\n",
      "wcwidth==0.2.5\r\n",
      "webcolors==1.11.1\r\n",
      "webencodings==0.5.1\r\n",
      "websocket-client==1.1.0\r\n",
      "Werkzeug==2.0.1\r\n",
      "widgetsnbextension==3.5.1\r\n",
      "wrapt==1.12.1\r\n",
      "yelp-bytes==0.3.0\r\n",
      "yelp-encodings==1.0.0\r\n",
      "zipp @ file:///home/conda/feedstock_root/build_artifacts/zipp_1603668650351/work\r\n",
      "zope.interface==5.4.0\r\n",
      "zstandard @ file:///home/conda/feedstock_root/build_artifacts/zstandard_1614954803539/work\r\n"
     ]
    }
   ],
   "source": [
    "!pip freeze"
   ]
  },
  {
   "cell_type": "markdown",
   "metadata": {
    "collapsed": false
   },
   "source": [
    "## Searching for python packages\n",
    "Python packages for (nearly) any task can be found on the [Python Package Index (PyPI)](https://pypi.org/). PyPI is an online repository of 3rd party packages. Additionally, most python packages can be found on github, gitlab or other code repositories. Google search is also very handy when searching for packages.\n",
    "\n",
    "* *For those familiar with pip, `pip search` has recently been deprecated. See this [link](https://status.python.org/) and this [github issue](https://github.com/pypa/pip/issues/5216) for more information.*"
   ]
  },
  {
   "cell_type": "markdown",
   "metadata": {
    "collapsed": false
   },
   "source": [
    "For demonstration purposes, we will examine the PyPI entry for [MDAnalysis](https://pypi.org/project/MDAnalysis/). The landing page for MDAnalysis provides us with details on the package in addition to installation instructions, examples, and release history."
   ]
  },
  {
   "cell_type": "markdown",
   "metadata": {
    "collapsed": false
   },
   "source": [
    "## Installing python packages"
   ]
  },
  {
   "cell_type": "markdown",
   "metadata": {
    "collapsed": false
   },
   "source": [
    "To install the latest version of a package, use `pip install`"
   ]
  },
  {
   "cell_type": "code",
   "execution_count": 5,
   "metadata": {
    "collapsed": false
   },
   "outputs": [
    {
     "name": "stdout",
     "output_type": "stream",
     "text": [
      "\u001b[33mWARNING: Package(s) not found: MDAnalysis\u001b[0m\r\n"
     ]
    }
   ],
   "source": [
    "!pip show MDAnalysis"
   ]
  },
  {
   "cell_type": "code",
   "execution_count": 6,
   "metadata": {
    "collapsed": false,
    "scrolled": true
   },
   "outputs": [
    {
     "name": "stdout",
     "output_type": "stream",
     "text": [
      "Defaulting to user installation because normal site-packages is not writeable\r\n"
     ]
    },
    {
     "name": "stdout",
     "output_type": "stream",
     "text": [
      "Collecting MDAnalysis\r\n"
     ]
    },
    {
     "name": "stdout",
     "output_type": "stream",
     "text": [
      "  Downloading MDAnalysis-1.0.0.tar.gz (19.6 MB)\r\n",
      "\u001b[?25l\r\u001b[K     |                                | 10 kB 16.9 MB/s eta 0:00:02\r\u001b[K     |                                | 20 kB 9.6 MB/s eta 0:00:03\r\u001b[K     |                                | 30 kB 6.9 MB/s eta 0:00:03"
     ]
    },
    {
     "name": "stdout",
     "output_type": "stream",
     "text": [
      "\r\u001b[K     |                                | 40 kB 4.3 MB/s eta 0:00:05\r\u001b[K     |                                | 51 kB 4.7 MB/s eta 0:00:05\r\u001b[K     |                                | 61 kB 5.3 MB/s eta 0:00:04\r\u001b[K     |▏                               | 71 kB 5.1 MB/s eta 0:00:04\r\u001b[K     |▏                               | 81 kB 5.3 MB/s eta 0:00:04\r\u001b[K     |▏                               | 92 kB 5.9 MB/s eta 0:00:04\r\u001b[K     |▏                               | 102 kB 4.9 MB/s eta 0:00:04\r\u001b[K     |▏                               | 112 kB 4.9 MB/s eta 0:00:04\r\u001b[K     |▏                               | 122 kB 4.9 MB/s eta 0:00:04\r\u001b[K     |▏                               | 133 kB 4.9 MB/s eta 0:00:04\r\u001b[K     |▎                               | 143 kB 4.9 MB/s eta 0:00:04\r\u001b[K     |▎                               | 153 kB 4.9 MB/s eta 0:00:04\r\u001b[K     |▎                               | 163 kB 4.9 MB/s eta 0:00:04\r\u001b[K     |▎                               | 174 kB 4.9 MB/s eta 0:00:04\r\u001b[K     |▎                               | 184 kB 4.9 MB/s eta 0:00:04\r\u001b[K     |▎                               | 194 kB 4.9 MB/s eta 0:00:04\r\u001b[K     |▍                               | 204 kB 4.9 MB/s eta 0:00:04\r\u001b[K     |▍                               | 215 kB 4.9 MB/s eta 0:00:04\r\u001b[K     |▍                               | 225 kB 4.9 MB/s eta 0:00:04\r\u001b[K     |▍                               | 235 kB 4.9 MB/s eta 0:00:04\r\u001b[K     |▍                               | 245 kB 4.9 MB/s eta 0:00:04\r\u001b[K     |▍                               | 256 kB 4.9 MB/s eta 0:00:04\r\u001b[K     |▍                               | 266 kB 4.9 MB/s eta 0:00:04\r\u001b[K     |▌                               | 276 kB 4.9 MB/s eta 0:00:04\r\u001b[K     |▌                               | 286 kB 4.9 MB/s eta 0:00:04\r\u001b[K     |▌                               | 296 kB 4.9 MB/s eta 0:00:04\r\u001b[K     |▌                               | 307 kB 4.9 MB/s eta 0:00:04\r\u001b[K     |▌                               | 317 kB 4.9 MB/s eta 0:00:04\r\u001b[K     |▌                               | 327 kB 4.9 MB/s eta 0:00:04\r\u001b[K     |▌                               | 337 kB 4.9 MB/s eta 0:00:04\r\u001b[K     |▋                               | 348 kB 4.9 MB/s eta 0:00:04\r\u001b[K     |▋                               | 358 kB 4.9 MB/s eta 0:00:04\r\u001b[K     |▋                               | 368 kB 4.9 MB/s eta 0:00:04\r\u001b[K     |▋                               | 378 kB 4.9 MB/s eta 0:00:04\r\u001b[K     |▋                               | 389 kB 4.9 MB/s eta 0:00:04\r\u001b[K     |▋                               | 399 kB 4.9 MB/s eta 0:00:04\r\u001b[K     |▊                               | 409 kB 4.9 MB/s eta 0:00:04"
     ]
    },
    {
     "name": "stdout",
     "output_type": "stream",
     "text": [
      "\r\u001b[K     |▊                               | 419 kB 4.9 MB/s eta 0:00:04\r\u001b[K     |▊                               | 430 kB 4.9 MB/s eta 0:00:04\r\u001b[K     |▊                               | 440 kB 4.9 MB/s eta 0:00:04\r\u001b[K     |▊                               | 450 kB 4.9 MB/s eta 0:00:04\r\u001b[K     |▊                               | 460 kB 4.9 MB/s eta 0:00:04\r\u001b[K     |▊                               | 471 kB 4.9 MB/s eta 0:00:04\r\u001b[K     |▉                               | 481 kB 4.9 MB/s eta 0:00:04\r\u001b[K     |▉                               | 491 kB 4.9 MB/s eta 0:00:04\r\u001b[K     |▉                               | 501 kB 4.9 MB/s eta 0:00:04\r\u001b[K     |▉                               | 512 kB 4.9 MB/s eta 0:00:04\r\u001b[K     |▉                               | 522 kB 4.9 MB/s eta 0:00:04\r\u001b[K     |▉                               | 532 kB 4.9 MB/s eta 0:00:04\r\u001b[K     |▉                               | 542 kB 4.9 MB/s eta 0:00:04\r\u001b[K     |█                               | 552 kB 4.9 MB/s eta 0:00:04\r\u001b[K     |█                               | 563 kB 4.9 MB/s eta 0:00:04\r\u001b[K     |█                               | 573 kB 4.9 MB/s eta 0:00:04\r\u001b[K     |█                               | 583 kB 4.9 MB/s eta 0:00:04\r\u001b[K     |█                               | 593 kB 4.9 MB/s eta 0:00:04\r\u001b[K     |█                               | 604 kB 4.9 MB/s eta 0:00:04\r\u001b[K     |█                               | 614 kB 4.9 MB/s eta 0:00:04\r\u001b[K     |█                               | 624 kB 4.9 MB/s eta 0:00:04\r\u001b[K     |█                               | 634 kB 4.9 MB/s eta 0:00:04\r\u001b[K     |█                               | 645 kB 4.9 MB/s eta 0:00:04\r\u001b[K     |█                               | 655 kB 4.9 MB/s eta 0:00:04\r\u001b[K     |█                               | 665 kB 4.9 MB/s eta 0:00:04\r\u001b[K     |█                               | 675 kB 4.9 MB/s eta 0:00:04\r\u001b[K     |█▏                              | 686 kB 4.9 MB/s eta 0:00:04\r\u001b[K     |█▏                              | 696 kB 4.9 MB/s eta 0:00:04\r\u001b[K     |█▏                              | 706 kB 4.9 MB/s eta 0:00:04\r\u001b[K     |█▏                              | 716 kB 4.9 MB/s eta 0:00:04\r\u001b[K     |█▏                              | 727 kB 4.9 MB/s eta 0:00:04\r\u001b[K     |█▏                              | 737 kB 4.9 MB/s eta 0:00:04\r\u001b[K     |█▎                              | 747 kB 4.9 MB/s eta 0:00:04\r\u001b[K     |█▎                              | 757 kB 4.9 MB/s eta 0:00:04\r\u001b[K     |█▎                              | 768 kB 4.9 MB/s eta 0:00:04\r\u001b[K     |█▎                              | 778 kB 4.9 MB/s eta 0:00:04\r\u001b[K     |█▎                              | 788 kB 4.9 MB/s eta 0:00:04\r\u001b[K     |█▎                              | 798 kB 4.9 MB/s eta 0:00:04\r\u001b[K     |█▎                              | 808 kB 4.9 MB/s eta 0:00:04\r\u001b[K     |█▍                              | 819 kB 4.9 MB/s eta 0:00:04\r\u001b[K     |█▍                              | 829 kB 4.9 MB/s eta 0:00:04\r\u001b[K     |█▍                              | 839 kB 4.9 MB/s eta 0:00:04\r\u001b[K     |█▍                              | 849 kB 4.9 MB/s eta 0:00:04\r\u001b[K     |█▍                              | 860 kB 4.9 MB/s eta 0:00:04\r\u001b[K     |█▍                              | 870 kB 4.9 MB/s eta 0:00:04\r\u001b[K     |█▍                              | 880 kB 4.9 MB/s eta 0:00:04\r\u001b[K     |█▌                              | 890 kB 4.9 MB/s eta 0:00:04"
     ]
    },
    {
     "name": "stdout",
     "output_type": "stream",
     "text": [
      "\r\u001b[K     |█▌                              | 901 kB 4.9 MB/s eta 0:00:04\r\u001b[K     |█▌                              | 911 kB 4.9 MB/s eta 0:00:04\r\u001b[K     |█▌                              | 921 kB 4.9 MB/s eta 0:00:04\r\u001b[K     |█▌                              | 931 kB 4.9 MB/s eta 0:00:04\r\u001b[K     |█▌                              | 942 kB 4.9 MB/s eta 0:00:04\r\u001b[K     |█▋                              | 952 kB 4.9 MB/s eta 0:00:04\r\u001b[K     |█▋                              | 962 kB 4.9 MB/s eta 0:00:04\r\u001b[K     |█▋                              | 972 kB 4.9 MB/s eta 0:00:04\r\u001b[K     |█▋                              | 983 kB 4.9 MB/s eta 0:00:04\r\u001b[K     |█▋                              | 993 kB 4.9 MB/s eta 0:00:04\r\u001b[K     |█▋                              | 1.0 MB 4.9 MB/s eta 0:00:04\r\u001b[K     |█▋                              | 1.0 MB 4.9 MB/s eta 0:00:04\r\u001b[K     |█▊                              | 1.0 MB 4.9 MB/s eta 0:00:04\r\u001b[K     |█▊                              | 1.0 MB 4.9 MB/s eta 0:00:04\r\u001b[K     |█▊                              | 1.0 MB 4.9 MB/s eta 0:00:04\r\u001b[K     |█▊                              | 1.1 MB 4.9 MB/s eta 0:00:04\r\u001b[K     |█▊                              | 1.1 MB 4.9 MB/s eta 0:00:04\r\u001b[K     |█▊                              | 1.1 MB 4.9 MB/s eta 0:00:04\r\u001b[K     |█▊                              | 1.1 MB 4.9 MB/s eta 0:00:04\r\u001b[K     |█▉                              | 1.1 MB 4.9 MB/s eta 0:00:04\r\u001b[K     |█▉                              | 1.1 MB 4.9 MB/s eta 0:00:04\r\u001b[K     |█▉                              | 1.1 MB 4.9 MB/s eta 0:00:04\r\u001b[K     |█▉                              | 1.1 MB 4.9 MB/s eta 0:00:04\r\u001b[K     |█▉                              | 1.1 MB 4.9 MB/s eta 0:00:04\r\u001b[K     |█▉                              | 1.1 MB 4.9 MB/s eta 0:00:04\r\u001b[K     |██                              | 1.2 MB 4.9 MB/s eta 0:00:04\r\u001b[K     |██                              | 1.2 MB 4.9 MB/s eta 0:00:04\r\u001b[K     |██                              | 1.2 MB 4.9 MB/s eta 0:00:04\r\u001b[K     |██                              | 1.2 MB 4.9 MB/s eta 0:00:04\r\u001b[K     |██                              | 1.2 MB 4.9 MB/s eta 0:00:04\r\u001b[K     |██                              | 1.2 MB 4.9 MB/s eta 0:00:04\r\u001b[K     |██                              | 1.2 MB 4.9 MB/s eta 0:00:04\r\u001b[K     |██                              | 1.2 MB 4.9 MB/s eta 0:00:04\r\u001b[K     |██                              | 1.2 MB 4.9 MB/s eta 0:00:04\r\u001b[K     |██                              | 1.2 MB 4.9 MB/s eta 0:00:04\r\u001b[K     |██                              | 1.3 MB 4.9 MB/s eta 0:00:04\r\u001b[K     |██                              | 1.3 MB 4.9 MB/s eta 0:00:04\r\u001b[K     |██                              | 1.3 MB 4.9 MB/s eta 0:00:04\r\u001b[K     |██▏                             | 1.3 MB 4.9 MB/s eta 0:00:04\r\u001b[K     |██▏                             | 1.3 MB 4.9 MB/s eta 0:00:04\r\u001b[K     |██▏                             | 1.3 MB 4.9 MB/s eta 0:00:04\r\u001b[K     |██▏                             | 1.3 MB 4.9 MB/s eta 0:00:04\r\u001b[K     |██▏                             | 1.3 MB 4.9 MB/s eta 0:00:04\r\u001b[K     |██▏                             | 1.3 MB 4.9 MB/s eta 0:00:04\r\u001b[K     |██▏                             | 1.4 MB 4.9 MB/s eta 0:00:04\r\u001b[K     |██▎                             | 1.4 MB 4.9 MB/s eta 0:00:04\r\u001b[K     |██▎                             | 1.4 MB 4.9 MB/s eta 0:00:04\r\u001b[K     |██▎                             | 1.4 MB 4.9 MB/s eta 0:00:04\r\u001b[K     |██▎                             | 1.4 MB 4.9 MB/s eta 0:00:04\r\u001b[K     |██▎                             | 1.4 MB 4.9 MB/s eta 0:00:04\r\u001b[K     |██▎                             | 1.4 MB 4.9 MB/s eta 0:00:04\r\u001b[K     |██▎                             | 1.4 MB 4.9 MB/s eta 0:00:04\r\u001b[K     |██▍                             | 1.4 MB 4.9 MB/s eta 0:00:04\r\u001b[K     |██▍                             | 1.4 MB 4.9 MB/s eta 0:00:04\r\u001b[K     |██▍                             | 1.5 MB 4.9 MB/s eta 0:00:04\r\u001b[K     |██▍                             | 1.5 MB 4.9 MB/s eta 0:00:04\r\u001b[K     |██▍                             | 1.5 MB 4.9 MB/s eta 0:00:04\r\u001b[K     |██▍                             | 1.5 MB 4.9 MB/s eta 0:00:04\r\u001b[K     |██▌                             | 1.5 MB 4.9 MB/s eta 0:00:04"
     ]
    },
    {
     "name": "stdout",
     "output_type": "stream",
     "text": [
      "\r\u001b[K     |██▌                             | 1.5 MB 4.9 MB/s eta 0:00:04\r\u001b[K     |██▌                             | 1.5 MB 4.9 MB/s eta 0:00:04\r\u001b[K     |██▌                             | 1.5 MB 4.9 MB/s eta 0:00:04\r\u001b[K     |██▌                             | 1.5 MB 4.9 MB/s eta 0:00:04\r\u001b[K     |██▌                             | 1.5 MB 4.9 MB/s eta 0:00:04\r\u001b[K     |██▌                             | 1.6 MB 4.9 MB/s eta 0:00:04\r\u001b[K     |██▋                             | 1.6 MB 4.9 MB/s eta 0:00:04\r\u001b[K     |██▋                             | 1.6 MB 4.9 MB/s eta 0:00:04\r\u001b[K     |██▋                             | 1.6 MB 4.9 MB/s eta 0:00:04\r\u001b[K     |██▋                             | 1.6 MB 4.9 MB/s eta 0:00:04\r\u001b[K     |██▋                             | 1.6 MB 4.9 MB/s eta 0:00:04\r\u001b[K     |██▋                             | 1.6 MB 4.9 MB/s eta 0:00:04\r\u001b[K     |██▋                             | 1.6 MB 4.9 MB/s eta 0:00:04\r\u001b[K     |██▊                             | 1.6 MB 4.9 MB/s eta 0:00:04\r\u001b[K     |██▊                             | 1.6 MB 4.9 MB/s eta 0:00:04\r\u001b[K     |██▊                             | 1.7 MB 4.9 MB/s eta 0:00:04\r\u001b[K     |██▊                             | 1.7 MB 4.9 MB/s eta 0:00:04\r\u001b[K     |██▊                             | 1.7 MB 4.9 MB/s eta 0:00:04\r\u001b[K     |██▊                             | 1.7 MB 4.9 MB/s eta 0:00:04\r\u001b[K     |██▉                             | 1.7 MB 4.9 MB/s eta 0:00:04\r\u001b[K     |██▉                             | 1.7 MB 4.9 MB/s eta 0:00:04\r\u001b[K     |██▉                             | 1.7 MB 4.9 MB/s eta 0:00:04\r\u001b[K     |██▉                             | 1.7 MB 4.9 MB/s eta 0:00:04\r\u001b[K     |██▉                             | 1.7 MB 4.9 MB/s eta 0:00:04\r\u001b[K     |██▉                             | 1.8 MB 4.9 MB/s eta 0:00:04\r\u001b[K     |██▉                             | 1.8 MB 4.9 MB/s eta 0:00:04\r\u001b[K     |███                             | 1.8 MB 4.9 MB/s eta 0:00:04\r\u001b[K     |███                             | 1.8 MB 4.9 MB/s eta 0:00:04\r\u001b[K     |███                             | 1.8 MB 4.9 MB/s eta 0:00:04\r\u001b[K     |███                             | 1.8 MB 4.9 MB/s eta 0:00:04\r\u001b[K     |███                             | 1.8 MB 4.9 MB/s eta 0:00:04\r\u001b[K     |███                             | 1.8 MB 4.9 MB/s eta 0:00:04\r\u001b[K     |███                             | 1.8 MB 4.9 MB/s eta 0:00:04\r\u001b[K     |███                             | 1.8 MB 4.9 MB/s eta 0:00:04\r\u001b[K     |███                             | 1.9 MB 4.9 MB/s eta 0:00:04\r\u001b[K     |███                             | 1.9 MB 4.9 MB/s eta 0:00:04\r\u001b[K     |███                             | 1.9 MB 4.9 MB/s eta 0:00:04\r\u001b[K     |███                             | 1.9 MB 4.9 MB/s eta 0:00:04\r\u001b[K     |███                             | 1.9 MB 4.9 MB/s eta 0:00:04\r\u001b[K     |███▏                            | 1.9 MB 4.9 MB/s eta 0:00:04\r\u001b[K     |███▏                            | 1.9 MB 4.9 MB/s eta 0:00:04\r\u001b[K     |███▏                            | 1.9 MB 4.9 MB/s eta 0:00:04\r\u001b[K     |███▏                            | 1.9 MB 4.9 MB/s eta 0:00:04\r\u001b[K     |███▏                            | 1.9 MB 4.9 MB/s eta 0:00:04\r\u001b[K     |███▏                            | 2.0 MB 4.9 MB/s eta 0:00:04\r\u001b[K     |███▏                            | 2.0 MB 4.9 MB/s eta 0:00:04\r\u001b[K     |███▎                            | 2.0 MB 4.9 MB/s eta 0:00:04\r\u001b[K     |███▎                            | 2.0 MB 4.9 MB/s eta 0:00:04\r\u001b[K     |███▎                            | 2.0 MB 4.9 MB/s eta 0:00:04\r\u001b[K     |███▎                            | 2.0 MB 4.9 MB/s eta 0:00:04\r\u001b[K     |███▎                            | 2.0 MB 4.9 MB/s eta 0:00:04\r\u001b[K     |███▎                            | 2.0 MB 4.9 MB/s eta 0:00:04\r\u001b[K     |███▍                            | 2.0 MB 4.9 MB/s eta 0:00:04\r\u001b[K     |███▍                            | 2.0 MB 4.9 MB/s eta 0:00:04\r\u001b[K     |███▍                            | 2.1 MB 4.9 MB/s eta 0:00:04\r\u001b[K     |███▍                            | 2.1 MB 4.9 MB/s eta 0:00:04\r\u001b[K     |███▍                            | 2.1 MB 4.9 MB/s eta 0:00:04\r\u001b[K     |███▍                            | 2.1 MB 4.9 MB/s eta 0:00:04\r\u001b[K     |███▍                            | 2.1 MB 4.9 MB/s eta 0:00:04\r\u001b[K     |███▌                            | 2.1 MB 4.9 MB/s eta 0:00:04\r\u001b[K     |███▌                            | 2.1 MB 4.9 MB/s eta 0:00:04\r\u001b[K     |███▌                            | 2.1 MB 4.9 MB/s eta 0:00:04\r\u001b[K     |███▌                            | 2.1 MB 4.9 MB/s eta 0:00:04\r\u001b[K     |███▌                            | 2.2 MB 4.9 MB/s eta 0:00:04\r\u001b[K     |███▌                            | 2.2 MB 4.9 MB/s eta 0:00:04\r\u001b[K     |███▌                            | 2.2 MB 4.9 MB/s eta 0:00:04\r\u001b[K     |███▋                            | 2.2 MB 4.9 MB/s eta 0:00:04\r\u001b[K     |███▋                            | 2.2 MB 4.9 MB/s eta 0:00:04\r\u001b[K     |███▋                            | 2.2 MB 4.9 MB/s eta 0:00:04\r\u001b[K     |███▋                            | 2.2 MB 4.9 MB/s eta 0:00:04\r\u001b[K     |███▋                            | 2.2 MB 4.9 MB/s eta 0:00:04\r\u001b[K     |███▋                            | 2.2 MB 4.9 MB/s eta 0:00:04\r\u001b[K     |███▊                            | 2.2 MB 4.9 MB/s eta 0:00:04\r\u001b[K     |███▊                            | 2.3 MB 4.9 MB/s eta 0:00:04"
     ]
    },
    {
     "name": "stdout",
     "output_type": "stream",
     "text": [
      "\r\u001b[K     |███▊                            | 2.3 MB 4.9 MB/s eta 0:00:04\r\u001b[K     |███▊                            | 2.3 MB 4.9 MB/s eta 0:00:04\r\u001b[K     |███▊                            | 2.3 MB 4.9 MB/s eta 0:00:04\r\u001b[K     |███▊                            | 2.3 MB 4.9 MB/s eta 0:00:04\r\u001b[K     |███▊                            | 2.3 MB 4.9 MB/s eta 0:00:04\r\u001b[K     |███▉                            | 2.3 MB 4.9 MB/s eta 0:00:04\r\u001b[K     |███▉                            | 2.3 MB 4.9 MB/s eta 0:00:04\r\u001b[K     |███▉                            | 2.3 MB 4.9 MB/s eta 0:00:04\r\u001b[K     |███▉                            | 2.3 MB 4.9 MB/s eta 0:00:04\r\u001b[K     |███▉                            | 2.4 MB 4.9 MB/s eta 0:00:04\r\u001b[K     |███▉                            | 2.4 MB 4.9 MB/s eta 0:00:04\r\u001b[K     |███▉                            | 2.4 MB 4.9 MB/s eta 0:00:04\r\u001b[K     |████                            | 2.4 MB 4.9 MB/s eta 0:00:04\r\u001b[K     |████                            | 2.4 MB 4.9 MB/s eta 0:00:04\r\u001b[K     |████                            | 2.4 MB 4.9 MB/s eta 0:00:04\r\u001b[K     |████                            | 2.4 MB 4.9 MB/s eta 0:00:04\r\u001b[K     |████                            | 2.4 MB 4.9 MB/s eta 0:00:04\r\u001b[K     |████                            | 2.4 MB 4.9 MB/s eta 0:00:04\r\u001b[K     |████                            | 2.4 MB 4.9 MB/s eta 0:00:04\r\u001b[K     |████                            | 2.5 MB 4.9 MB/s eta 0:00:04\r\u001b[K     |████                            | 2.5 MB 4.9 MB/s eta 0:00:04\r\u001b[K     |████                            | 2.5 MB 4.9 MB/s eta 0:00:04\r\u001b[K     |████                            | 2.5 MB 4.9 MB/s eta 0:00:04\r\u001b[K     |████                            | 2.5 MB 4.9 MB/s eta 0:00:04\r\u001b[K     |████                            | 2.5 MB 4.9 MB/s eta 0:00:04\r\u001b[K     |████▏                           | 2.5 MB 4.9 MB/s eta 0:00:04\r\u001b[K     |████▏                           | 2.5 MB 4.9 MB/s eta 0:00:04\r\u001b[K     |████▏                           | 2.5 MB 4.9 MB/s eta 0:00:04\r\u001b[K     |████▏                           | 2.5 MB 4.9 MB/s eta 0:00:04\r\u001b[K     |████▏                           | 2.6 MB 4.9 MB/s eta 0:00:04\r\u001b[K     |████▏                           | 2.6 MB 4.9 MB/s eta 0:00:04\r\u001b[K     |████▎                           | 2.6 MB 4.9 MB/s eta 0:00:04\r\u001b[K     |████▎                           | 2.6 MB 4.9 MB/s eta 0:00:04\r\u001b[K     |████▎                           | 2.6 MB 4.9 MB/s eta 0:00:04\r\u001b[K     |████▎                           | 2.6 MB 4.9 MB/s eta 0:00:04\r\u001b[K     |████▎                           | 2.6 MB 4.9 MB/s eta 0:00:04\r\u001b[K     |████▎                           | 2.6 MB 4.9 MB/s eta 0:00:04\r\u001b[K     |████▎                           | 2.6 MB 4.9 MB/s eta 0:00:04\r\u001b[K     |████▍                           | 2.7 MB 4.9 MB/s eta 0:00:04\r\u001b[K     |████▍                           | 2.7 MB 4.9 MB/s eta 0:00:04\r\u001b[K     |████▍                           | 2.7 MB 4.9 MB/s eta 0:00:04\r\u001b[K     |████▍                           | 2.7 MB 4.9 MB/s eta 0:00:04\r\u001b[K     |████▍                           | 2.7 MB 4.9 MB/s eta 0:00:04\r\u001b[K     |████▍                           | 2.7 MB 4.9 MB/s eta 0:00:04\r\u001b[K     |████▍                           | 2.7 MB 4.9 MB/s eta 0:00:04\r\u001b[K     |████▌                           | 2.7 MB 4.9 MB/s eta 0:00:04\r\u001b[K     |████▌                           | 2.7 MB 4.9 MB/s eta 0:00:04\r\u001b[K     |████▌                           | 2.7 MB 4.9 MB/s eta 0:00:04\r\u001b[K     |████▌                           | 2.8 MB 4.9 MB/s eta 0:00:04\r\u001b[K     |████▌                           | 2.8 MB 4.9 MB/s eta 0:00:04\r\u001b[K     |████▌                           | 2.8 MB 4.9 MB/s eta 0:00:04\r\u001b[K     |████▋                           | 2.8 MB 4.9 MB/s eta 0:00:04\r\u001b[K     |████▋                           | 2.8 MB 4.9 MB/s eta 0:00:04\r\u001b[K     |████▋                           | 2.8 MB 4.9 MB/s eta 0:00:04\r\u001b[K     |████▋                           | 2.8 MB 4.9 MB/s eta 0:00:04\r\u001b[K     |████▋                           | 2.8 MB 4.9 MB/s eta 0:00:04\r\u001b[K     |████▋                           | 2.8 MB 4.9 MB/s eta 0:00:04\r\u001b[K     |████▋                           | 2.8 MB 4.9 MB/s eta 0:00:04\r\u001b[K     |████▊                           | 2.9 MB 4.9 MB/s eta 0:00:04\r\u001b[K     |████▊                           | 2.9 MB 4.9 MB/s eta 0:00:04\r\u001b[K     |████▊                           | 2.9 MB 4.9 MB/s eta 0:00:04\r\u001b[K     |████▊                           | 2.9 MB 4.9 MB/s eta 0:00:04\r\u001b[K     |████▊                           | 2.9 MB 4.9 MB/s eta 0:00:04\r\u001b[K     |████▊                           | 2.9 MB 4.9 MB/s eta 0:00:04\r\u001b[K     |████▊                           | 2.9 MB 4.9 MB/s eta 0:00:04\r\u001b[K     |████▉                           | 2.9 MB 4.9 MB/s eta 0:00:04\r\u001b[K     |████▉                           | 2.9 MB 4.9 MB/s eta 0:00:04\r\u001b[K     |████▉                           | 2.9 MB 4.9 MB/s eta 0:00:04\r\u001b[K     |████▉                           | 3.0 MB 4.9 MB/s eta 0:00:04\r\u001b[K     |████▉                           | 3.0 MB 4.9 MB/s eta 0:00:04\r\u001b[K     |████▉                           | 3.0 MB 4.9 MB/s eta 0:00:04\r\u001b[K     |█████                           | 3.0 MB 4.9 MB/s eta 0:00:04\r\u001b[K     |█████                           | 3.0 MB 4.9 MB/s eta 0:00:04\r\u001b[K     |█████                           | 3.0 MB 4.9 MB/s eta 0:00:04\r\u001b[K     |█████                           | 3.0 MB 4.9 MB/s eta 0:00:04\r\u001b[K     |█████                           | 3.0 MB 4.9 MB/s eta 0:00:04\r\u001b[K     |█████                           | 3.0 MB 4.9 MB/s eta 0:00:04\r\u001b[K     |█████                           | 3.1 MB 4.9 MB/s eta 0:00:04\r\u001b[K     |█████                           | 3.1 MB 4.9 MB/s eta 0:00:04\r\u001b[K     |█████                           | 3.1 MB 4.9 MB/s eta 0:00:04\r\u001b[K     |█████                           | 3.1 MB 4.9 MB/s eta 0:00:04\r\u001b[K     |█████                           | 3.1 MB 4.9 MB/s eta 0:00:04\r\u001b[K     |█████                           | 3.1 MB 4.9 MB/s eta 0:00:04\r\u001b[K     |█████                           | 3.1 MB 4.9 MB/s eta 0:00:04\r\u001b[K     |█████▏                          | 3.1 MB 4.9 MB/s eta 0:00:04\r\u001b[K     |█████▏                          | 3.1 MB 4.9 MB/s eta 0:00:04\r\u001b[K     |█████▏                          | 3.1 MB 4.9 MB/s eta 0:00:04\r\u001b[K     |█████▏                          | 3.2 MB 4.9 MB/s eta 0:00:04\r\u001b[K     |█████▏                          | 3.2 MB 4.9 MB/s eta 0:00:04\r\u001b[K     |█████▏                          | 3.2 MB 4.9 MB/s eta 0:00:04\r\u001b[K     |█████▏                          | 3.2 MB 4.9 MB/s eta 0:00:04\r\u001b[K     |█████▎                          | 3.2 MB 4.9 MB/s eta 0:00:04\r\u001b[K     |█████▎                          | 3.2 MB 4.9 MB/s eta 0:00:04\r\u001b[K     |█████▎                          | 3.2 MB 4.9 MB/s eta 0:00:04\r\u001b[K     |█████▎                          | 3.2 MB 4.9 MB/s eta 0:00:04"
     ]
    },
    {
     "name": "stdout",
     "output_type": "stream",
     "text": [
      "\r\u001b[K     |█████▎                          | 3.2 MB 4.9 MB/s eta 0:00:04\r\u001b[K     |█████▎                          | 3.2 MB 4.9 MB/s eta 0:00:04\r\u001b[K     |█████▎                          | 3.3 MB 4.9 MB/s eta 0:00:04\r\u001b[K     |█████▍                          | 3.3 MB 4.9 MB/s eta 0:00:04\r\u001b[K     |█████▍                          | 3.3 MB 4.9 MB/s eta 0:00:04\r\u001b[K     |█████▍                          | 3.3 MB 4.9 MB/s eta 0:00:04\r\u001b[K     |█████▍                          | 3.3 MB 4.9 MB/s eta 0:00:04\r\u001b[K     |█████▍                          | 3.3 MB 4.9 MB/s eta 0:00:04\r\u001b[K     |█████▍                          | 3.3 MB 4.9 MB/s eta 0:00:04\r\u001b[K     |█████▌                          | 3.3 MB 4.9 MB/s eta 0:00:04\r\u001b[K     |█████▌                          | 3.3 MB 4.9 MB/s eta 0:00:04\r\u001b[K     |█████▌                          | 3.3 MB 4.9 MB/s eta 0:00:04\r\u001b[K     |█████▌                          | 3.4 MB 4.9 MB/s eta 0:00:04\r\u001b[K     |█████▌                          | 3.4 MB 4.9 MB/s eta 0:00:04\r\u001b[K     |█████▌                          | 3.4 MB 4.9 MB/s eta 0:00:04\r\u001b[K     |█████▌                          | 3.4 MB 4.9 MB/s eta 0:00:04\r\u001b[K     |█████▋                          | 3.4 MB 4.9 MB/s eta 0:00:04\r\u001b[K     |█████▋                          | 3.4 MB 4.9 MB/s eta 0:00:04\r\u001b[K     |█████▋                          | 3.4 MB 4.9 MB/s eta 0:00:04\r\u001b[K     |█████▋                          | 3.4 MB 4.9 MB/s eta 0:00:04\r\u001b[K     |█████▋                          | 3.4 MB 4.9 MB/s eta 0:00:04\r\u001b[K     |█████▋                          | 3.5 MB 4.9 MB/s eta 0:00:04\r\u001b[K     |█████▋                          | 3.5 MB 4.9 MB/s eta 0:00:04\r\u001b[K     |█████▊                          | 3.5 MB 4.9 MB/s eta 0:00:04\r\u001b[K     |█████▊                          | 3.5 MB 4.9 MB/s eta 0:00:04\r\u001b[K     |█████▊                          | 3.5 MB 4.9 MB/s eta 0:00:04\r\u001b[K     |█████▊                          | 3.5 MB 4.9 MB/s eta 0:00:04\r\u001b[K     |█████▊                          | 3.5 MB 4.9 MB/s eta 0:00:04\r\u001b[K     |█████▊                          | 3.5 MB 4.9 MB/s eta 0:00:04\r\u001b[K     |█████▉                          | 3.5 MB 4.9 MB/s eta 0:00:04\r\u001b[K     |█████▉                          | 3.5 MB 4.9 MB/s eta 0:00:04\r\u001b[K     |█████▉                          | 3.6 MB 4.9 MB/s eta 0:00:04\r\u001b[K     |█████▉                          | 3.6 MB 4.9 MB/s eta 0:00:04\r\u001b[K     |█████▉                          | 3.6 MB 4.9 MB/s eta 0:00:04\r\u001b[K     |█████▉                          | 3.6 MB 4.9 MB/s eta 0:00:04\r\u001b[K     |█████▉                          | 3.6 MB 4.9 MB/s eta 0:00:04\r\u001b[K     |██████                          | 3.6 MB 4.9 MB/s eta 0:00:04\r\u001b[K     |██████                          | 3.6 MB 4.9 MB/s eta 0:00:04\r\u001b[K     |██████                          | 3.6 MB 4.9 MB/s eta 0:00:04\r\u001b[K     |██████                          | 3.6 MB 4.9 MB/s eta 0:00:04\r\u001b[K     |██████                          | 3.6 MB 4.9 MB/s eta 0:00:04\r\u001b[K     |██████                          | 3.7 MB 4.9 MB/s eta 0:00:04\r\u001b[K     |██████                          | 3.7 MB 4.9 MB/s eta 0:00:04\r\u001b[K     |██████                          | 3.7 MB 4.9 MB/s eta 0:00:04\r\u001b[K     |██████                          | 3.7 MB 4.9 MB/s eta 0:00:04\r\u001b[K     |██████                          | 3.7 MB 4.9 MB/s eta 0:00:04\r\u001b[K     |██████                          | 3.7 MB 4.9 MB/s eta 0:00:04\r\u001b[K     |██████                          | 3.7 MB 4.9 MB/s eta 0:00:04\r\u001b[K     |██████                          | 3.7 MB 4.9 MB/s eta 0:00:04\r\u001b[K     |██████▏                         | 3.7 MB 4.9 MB/s eta 0:00:04\r\u001b[K     |██████▏                         | 3.7 MB 4.9 MB/s eta 0:00:04\r\u001b[K     |██████▏                         | 3.8 MB 4.9 MB/s eta 0:00:04\r\u001b[K     |██████▏                         | 3.8 MB 4.9 MB/s eta 0:00:04\r\u001b[K     |██████▏                         | 3.8 MB 4.9 MB/s eta 0:00:04\r\u001b[K     |██████▏                         | 3.8 MB 4.9 MB/s eta 0:00:04\r\u001b[K     |██████▏                         | 3.8 MB 4.9 MB/s eta 0:00:04\r\u001b[K     |██████▎                         | 3.8 MB 4.9 MB/s eta 0:00:04\r\u001b[K     |██████▎                         | 3.8 MB 4.9 MB/s eta 0:00:04\r\u001b[K     |██████▎                         | 3.8 MB 4.9 MB/s eta 0:00:04\r\u001b[K     |██████▎                         | 3.8 MB 4.9 MB/s eta 0:00:04\r\u001b[K     |██████▎                         | 3.9 MB 4.9 MB/s eta 0:00:04\r\u001b[K     |██████▎                         | 3.9 MB 4.9 MB/s eta 0:00:04\r\u001b[K     |██████▍                         | 3.9 MB 4.9 MB/s eta 0:00:04\r\u001b[K     |██████▍                         | 3.9 MB 4.9 MB/s eta 0:00:04\r\u001b[K     |██████▍                         | 3.9 MB 4.9 MB/s eta 0:00:04\r\u001b[K     |██████▍                         | 3.9 MB 4.9 MB/s eta 0:00:04\r\u001b[K     |██████▍                         | 3.9 MB 4.9 MB/s eta 0:00:04\r\u001b[K     |██████▍                         | 3.9 MB 4.9 MB/s eta 0:00:04\r\u001b[K     |██████▍                         | 3.9 MB 4.9 MB/s eta 0:00:04\r\u001b[K     |██████▌                         | 3.9 MB 4.9 MB/s eta 0:00:04\r\u001b[K     |██████▌                         | 4.0 MB 4.9 MB/s eta 0:00:04\r\u001b[K     |██████▌                         | 4.0 MB 4.9 MB/s eta 0:00:04\r\u001b[K     |██████▌                         | 4.0 MB 4.9 MB/s eta 0:00:04\r\u001b[K     |██████▌                         | 4.0 MB 4.9 MB/s eta 0:00:04\r\u001b[K     |██████▌                         | 4.0 MB 4.9 MB/s eta 0:00:04\r\u001b[K     |██████▌                         | 4.0 MB 4.9 MB/s eta 0:00:04\r\u001b[K     |██████▋                         | 4.0 MB 4.9 MB/s eta 0:00:04\r\u001b[K     |██████▋                         | 4.0 MB 4.9 MB/s eta 0:00:04\r\u001b[K     |██████▋                         | 4.0 MB 4.9 MB/s eta 0:00:04\r\u001b[K     |██████▋                         | 4.0 MB 4.9 MB/s eta 0:00:04\r\u001b[K     |██████▋                         | 4.1 MB 4.9 MB/s eta 0:00:04\r\u001b[K     |██████▋                         | 4.1 MB 4.9 MB/s eta 0:00:04\r\u001b[K     |██████▊                         | 4.1 MB 4.9 MB/s eta 0:00:04\r\u001b[K     |██████▊                         | 4.1 MB 4.9 MB/s eta 0:00:04\r\u001b[K     |██████▊                         | 4.1 MB 4.9 MB/s eta 0:00:04\r\u001b[K     |██████▊                         | 4.1 MB 4.9 MB/s eta 0:00:04\r\u001b[K     |██████▊                         | 4.1 MB 4.9 MB/s eta 0:00:04\r\u001b[K     |██████▊                         | 4.1 MB 4.9 MB/s eta 0:00:04\r\u001b[K     |██████▊                         | 4.1 MB 4.9 MB/s eta 0:00:04\r\u001b[K     |██████▉                         | 4.1 MB 4.9 MB/s eta 0:00:04\r\u001b[K     |██████▉                         | 4.2 MB 4.9 MB/s eta 0:00:04\r\u001b[K     |██████▉                         | 4.2 MB 4.9 MB/s eta 0:00:04\r\u001b[K     |██████▉                         | 4.2 MB 4.9 MB/s eta 0:00:04\r\u001b[K     |██████▉                         | 4.2 MB 4.9 MB/s eta 0:00:04\r\u001b[K     |██████▉                         | 4.2 MB 4.9 MB/s eta 0:00:04\r\u001b[K     |██████▉                         | 4.2 MB 4.9 MB/s eta 0:00:04\r\u001b[K     |███████                         | 4.2 MB 4.9 MB/s eta 0:00:04\r\u001b[K     |███████                         | 4.2 MB 4.9 MB/s eta 0:00:04\r\u001b[K     |███████                         | 4.2 MB 4.9 MB/s eta 0:00:04\r\u001b[K     |███████                         | 4.2 MB 4.9 MB/s eta 0:00:04\r\u001b[K     |███████                         | 4.3 MB 4.9 MB/s eta 0:00:04\r\u001b[K     |███████                         | 4.3 MB 4.9 MB/s eta 0:00:04\r\u001b[K     |███████                         | 4.3 MB 4.9 MB/s eta 0:00:04\r\u001b[K     |███████                         | 4.3 MB 4.9 MB/s eta 0:00:04\r\u001b[K     |███████                         | 4.3 MB 4.9 MB/s eta 0:00:04\r\u001b[K     |███████                         | 4.3 MB 4.9 MB/s eta 0:00:04\r\u001b[K     |███████                         | 4.3 MB 4.9 MB/s eta 0:00:04\r\u001b[K     |███████                         | 4.3 MB 4.9 MB/s eta 0:00:04\r\u001b[K     |███████                         | 4.3 MB 4.9 MB/s eta 0:00:04\r\u001b[K     |███████▏                        | 4.4 MB 4.9 MB/s eta 0:00:04\r\u001b[K     |███████▏                        | 4.4 MB 4.9 MB/s eta 0:00:04\r\u001b[K     |███████▏                        | 4.4 MB 4.9 MB/s eta 0:00:04\r\u001b[K     |███████▏                        | 4.4 MB 4.9 MB/s eta 0:00:04\r\u001b[K     |███████▏                        | 4.4 MB 4.9 MB/s eta 0:00:04\r\u001b[K     |███████▏                        | 4.4 MB 4.9 MB/s eta 0:00:04\r\u001b[K     |███████▎                        | 4.4 MB 4.9 MB/s eta 0:00:04\r\u001b[K     |███████▎                        | 4.4 MB 4.9 MB/s eta 0:00:04"
     ]
    },
    {
     "name": "stdout",
     "output_type": "stream",
     "text": [
      "\r\u001b[K     |███████▎                        | 4.4 MB 4.9 MB/s eta 0:00:04\r\u001b[K     |███████▎                        | 4.4 MB 4.9 MB/s eta 0:00:04\r\u001b[K     |███████▎                        | 4.5 MB 4.9 MB/s eta 0:00:04\r\u001b[K     |███████▎                        | 4.5 MB 4.9 MB/s eta 0:00:04\r\u001b[K     |███████▎                        | 4.5 MB 4.9 MB/s eta 0:00:04\r\u001b[K     |███████▍                        | 4.5 MB 4.9 MB/s eta 0:00:04\r\u001b[K     |███████▍                        | 4.5 MB 4.9 MB/s eta 0:00:04\r\u001b[K     |███████▍                        | 4.5 MB 4.9 MB/s eta 0:00:04\r\u001b[K     |███████▍                        | 4.5 MB 4.9 MB/s eta 0:00:04\r\u001b[K     |███████▍                        | 4.5 MB 4.9 MB/s eta 0:00:04\r\u001b[K     |███████▍                        | 4.5 MB 4.9 MB/s eta 0:00:04\r\u001b[K     |███████▍                        | 4.5 MB 4.9 MB/s eta 0:00:04\r\u001b[K     |███████▌                        | 4.6 MB 4.9 MB/s eta 0:00:04\r\u001b[K     |███████▌                        | 4.6 MB 4.9 MB/s eta 0:00:04\r\u001b[K     |███████▌                        | 4.6 MB 4.9 MB/s eta 0:00:04\r\u001b[K     |███████▌                        | 4.6 MB 4.9 MB/s eta 0:00:04\r\u001b[K     |███████▌                        | 4.6 MB 4.9 MB/s eta 0:00:04\r\u001b[K     |███████▌                        | 4.6 MB 4.9 MB/s eta 0:00:04\r\u001b[K     |███████▋                        | 4.6 MB 4.9 MB/s eta 0:00:04\r\u001b[K     |███████▋                        | 4.6 MB 4.9 MB/s eta 0:00:04\r\u001b[K     |███████▋                        | 4.6 MB 4.9 MB/s eta 0:00:04\r\u001b[K     |███████▋                        | 4.6 MB 4.9 MB/s eta 0:00:04\r\u001b[K     |███████▋                        | 4.7 MB 4.9 MB/s eta 0:00:04\r\u001b[K     |███████▋                        | 4.7 MB 4.9 MB/s eta 0:00:04\r\u001b[K     |███████▋                        | 4.7 MB 4.9 MB/s eta 0:00:04\r\u001b[K     |███████▊                        | 4.7 MB 4.9 MB/s eta 0:00:04\r\u001b[K     |███████▊                        | 4.7 MB 4.9 MB/s eta 0:00:04\r\u001b[K     |███████▊                        | 4.7 MB 4.9 MB/s eta 0:00:04\r\u001b[K     |███████▊                        | 4.7 MB 4.9 MB/s eta 0:00:04\r\u001b[K     |███████▊                        | 4.7 MB 4.9 MB/s eta 0:00:04\r\u001b[K     |███████▊                        | 4.7 MB 4.9 MB/s eta 0:00:04\r\u001b[K     |███████▊                        | 4.8 MB 4.9 MB/s eta 0:00:04\r\u001b[K     |███████▉                        | 4.8 MB 4.9 MB/s eta 0:00:04\r\u001b[K     |███████▉                        | 4.8 MB 4.9 MB/s eta 0:00:04\r\u001b[K     |███████▉                        | 4.8 MB 4.9 MB/s eta 0:00:04\r\u001b[K     |███████▉                        | 4.8 MB 4.9 MB/s eta 0:00:04\r\u001b[K     |███████▉                        | 4.8 MB 4.9 MB/s eta 0:00:04\r\u001b[K     |███████▉                        | 4.8 MB 4.9 MB/s eta 0:00:04\r\u001b[K     |████████                        | 4.8 MB 4.9 MB/s eta 0:00:04\r\u001b[K     |████████                        | 4.8 MB 4.9 MB/s eta 0:00:04\r\u001b[K     |████████                        | 4.8 MB 4.9 MB/s eta 0:00:04\r\u001b[K     |████████                        | 4.9 MB 4.9 MB/s eta 0:00:04\r\u001b[K     |████████                        | 4.9 MB 4.9 MB/s eta 0:00:04\r\u001b[K     |████████                        | 4.9 MB 4.9 MB/s eta 0:00:04\r\u001b[K     |████████                        | 4.9 MB 4.9 MB/s eta 0:00:04\r\u001b[K     |████████                        | 4.9 MB 4.9 MB/s eta 0:00:03\r\u001b[K     |████████                        | 4.9 MB 4.9 MB/s eta 0:00:03\r\u001b[K     |████████                        | 4.9 MB 4.9 MB/s eta 0:00:03\r\u001b[K     |████████                        | 4.9 MB 4.9 MB/s eta 0:00:03\r\u001b[K     |████████                        | 4.9 MB 4.9 MB/s eta 0:00:03\r\u001b[K     |████████                        | 4.9 MB 4.9 MB/s eta 0:00:03\r\u001b[K     |████████▏                       | 5.0 MB 4.9 MB/s eta 0:00:03\r\u001b[K     |████████▏                       | 5.0 MB 4.9 MB/s eta 0:00:03\r\u001b[K     |████████▏                       | 5.0 MB 4.9 MB/s eta 0:00:03\r\u001b[K     |████████▏                       | 5.0 MB 4.9 MB/s eta 0:00:03\r\u001b[K     |████████▏                       | 5.0 MB 4.9 MB/s eta 0:00:03\r\u001b[K     |████████▏                       | 5.0 MB 4.9 MB/s eta 0:00:03\r\u001b[K     |████████▏                       | 5.0 MB 4.9 MB/s eta 0:00:03\r\u001b[K     |████████▎                       | 5.0 MB 4.9 MB/s eta 0:00:03\r\u001b[K     |████████▎                       | 5.0 MB 4.9 MB/s eta 0:00:03\r\u001b[K     |████████▎                       | 5.0 MB 4.9 MB/s eta 0:00:03\r\u001b[K     |████████▎                       | 5.1 MB 4.9 MB/s eta 0:00:03\r\u001b[K     |████████▎                       | 5.1 MB 4.9 MB/s eta 0:00:03\r\u001b[K     |████████▎                       | 5.1 MB 4.9 MB/s eta 0:00:03\r\u001b[K     |████████▎                       | 5.1 MB 4.9 MB/s eta 0:00:03\r\u001b[K     |████████▍                       | 5.1 MB 4.9 MB/s eta 0:00:03\r\u001b[K     |████████▍                       | 5.1 MB 4.9 MB/s eta 0:00:03\r\u001b[K     |████████▍                       | 5.1 MB 4.9 MB/s eta 0:00:03\r\u001b[K     |████████▍                       | 5.1 MB 4.9 MB/s eta 0:00:03\r\u001b[K     |████████▍                       | 5.1 MB 4.9 MB/s eta 0:00:03\r\u001b[K     |████████▍                       | 5.2 MB 4.9 MB/s eta 0:00:03\r\u001b[K     |████████▌                       | 5.2 MB 4.9 MB/s eta 0:00:03\r\u001b[K     |████████▌                       | 5.2 MB 4.9 MB/s eta 0:00:03\r\u001b[K     |████████▌                       | 5.2 MB 4.9 MB/s eta 0:00:03\r\u001b[K     |████████▌                       | 5.2 MB 4.9 MB/s eta 0:00:03\r\u001b[K     |████████▌                       | 5.2 MB 4.9 MB/s eta 0:00:03\r\u001b[K     |████████▌                       | 5.2 MB 4.9 MB/s eta 0:00:03\r\u001b[K     |████████▌                       | 5.2 MB 4.9 MB/s eta 0:00:03\r\u001b[K     |████████▋                       | 5.2 MB 4.9 MB/s eta 0:00:03\r\u001b[K     |████████▋                       | 5.2 MB 4.9 MB/s eta 0:00:03\r\u001b[K     |████████▋                       | 5.3 MB 4.9 MB/s eta 0:00:03\r\u001b[K     |████████▋                       | 5.3 MB 4.9 MB/s eta 0:00:03\r\u001b[K     |████████▋                       | 5.3 MB 4.9 MB/s eta 0:00:03\r\u001b[K     |████████▋                       | 5.3 MB 4.9 MB/s eta 0:00:03\r\u001b[K     |████████▋                       | 5.3 MB 4.9 MB/s eta 0:00:03\r\u001b[K     |████████▊                       | 5.3 MB 4.9 MB/s eta 0:00:03\r\u001b[K     |████████▊                       | 5.3 MB 4.9 MB/s eta 0:00:03\r\u001b[K     |████████▊                       | 5.3 MB 4.9 MB/s eta 0:00:03\r\u001b[K     |████████▊                       | 5.3 MB 4.9 MB/s eta 0:00:03\r\u001b[K     |████████▊                       | 5.3 MB 4.9 MB/s eta 0:00:03\r\u001b[K     |████████▊                       | 5.4 MB 4.9 MB/s eta 0:00:03\r\u001b[K     |████████▉                       | 5.4 MB 4.9 MB/s eta 0:00:03\r\u001b[K     |████████▉                       | 5.4 MB 4.9 MB/s eta 0:00:03\r\u001b[K     |████████▉                       | 5.4 MB 4.9 MB/s eta 0:00:03\r\u001b[K     |████████▉                       | 5.4 MB 4.9 MB/s eta 0:00:03\r\u001b[K     |████████▉                       | 5.4 MB 4.9 MB/s eta 0:00:03\r\u001b[K     |████████▉                       | 5.4 MB 4.9 MB/s eta 0:00:03\r\u001b[K     |████████▉                       | 5.4 MB 4.9 MB/s eta 0:00:03\r\u001b[K     |█████████                       | 5.4 MB 4.9 MB/s eta 0:00:03\r\u001b[K     |█████████                       | 5.4 MB 4.9 MB/s eta 0:00:03\r\u001b[K     |█████████                       | 5.5 MB 4.9 MB/s eta 0:00:03\r\u001b[K     |█████████                       | 5.5 MB 4.9 MB/s eta 0:00:03\r\u001b[K     |█████████                       | 5.5 MB 4.9 MB/s eta 0:00:03\r\u001b[K     |█████████                       | 5.5 MB 4.9 MB/s eta 0:00:03\r\u001b[K     |█████████                       | 5.5 MB 4.9 MB/s eta 0:00:03\r\u001b[K     |█████████                       | 5.5 MB 4.9 MB/s eta 0:00:03\r\u001b[K     |█████████                       | 5.5 MB 4.9 MB/s eta 0:00:03\r\u001b[K     |█████████                       | 5.5 MB 4.9 MB/s eta 0:00:03\r\u001b[K     |█████████                       | 5.5 MB 4.9 MB/s eta 0:00:03\r\u001b[K     |█████████                       | 5.6 MB 4.9 MB/s eta 0:00:03\r\u001b[K     |█████████                       | 5.6 MB 4.9 MB/s eta 0:00:03\r\u001b[K     |█████████▏                      | 5.6 MB 4.9 MB/s eta 0:00:03\r\u001b[K     |█████████▏                      | 5.6 MB 4.9 MB/s eta 0:00:03\r\u001b[K     |█████████▏                      | 5.6 MB 4.9 MB/s eta 0:00:03\r\u001b[K     |█████████▏                      | 5.6 MB 4.9 MB/s eta 0:00:03\r\u001b[K     |█████████▏                      | 5.6 MB 4.9 MB/s eta 0:00:03\r\u001b[K     |█████████▏                      | 5.6 MB 4.9 MB/s eta 0:00:03\r\u001b[K     |█████████▏                      | 5.6 MB 4.9 MB/s eta 0:00:03\r\u001b[K     |█████████▎                      | 5.6 MB 4.9 MB/s eta 0:00:03\r\u001b[K     |█████████▎                      | 5.7 MB 4.9 MB/s eta 0:00:03\r\u001b[K     |█████████▎                      | 5.7 MB 4.9 MB/s eta 0:00:03\r\u001b[K     |█████████▎                      | 5.7 MB 4.9 MB/s eta 0:00:03\r\u001b[K     |█████████▎                      | 5.7 MB 4.9 MB/s eta 0:00:03\r\u001b[K     |█████████▎                      | 5.7 MB 4.9 MB/s eta 0:00:03\r\u001b[K     |█████████▍                      | 5.7 MB 4.9 MB/s eta 0:00:03\r\u001b[K     |█████████▍                      | 5.7 MB 4.9 MB/s eta 0:00:03\r\u001b[K     |█████████▍                      | 5.7 MB 4.9 MB/s eta 0:00:03\r\u001b[K     |█████████▍                      | 5.7 MB 4.9 MB/s eta 0:00:03\r\u001b[K     |█████████▍                      | 5.7 MB 4.9 MB/s eta 0:00:03\r\u001b[K     |█████████▍                      | 5.8 MB 4.9 MB/s eta 0:00:03\r\u001b[K     |█████████▍                      | 5.8 MB 4.9 MB/s eta 0:00:03\r\u001b[K     |█████████▌                      | 5.8 MB 4.9 MB/s eta 0:00:03\r\u001b[K     |█████████▌                      | 5.8 MB 4.9 MB/s eta 0:00:03\r\u001b[K     |█████████▌                      | 5.8 MB 4.9 MB/s eta 0:00:03\r\u001b[K     |█████████▌                      | 5.8 MB 4.9 MB/s eta 0:00:03\r\u001b[K     |█████████▌                      | 5.8 MB 4.9 MB/s eta 0:00:03\r\u001b[K     |█████████▌                      | 5.8 MB 4.9 MB/s eta 0:00:03\r\u001b[K     |█████████▌                      | 5.8 MB 4.9 MB/s eta 0:00:03"
     ]
    },
    {
     "name": "stdout",
     "output_type": "stream",
     "text": [
      "\r\u001b[K     |█████████▋                      | 5.8 MB 4.9 MB/s eta 0:00:03\r\u001b[K     |█████████▋                      | 5.9 MB 4.9 MB/s eta 0:00:03\r\u001b[K     |█████████▋                      | 5.9 MB 4.9 MB/s eta 0:00:03\r\u001b[K     |█████████▋                      | 5.9 MB 4.9 MB/s eta 0:00:03\r\u001b[K     |█████████▋                      | 5.9 MB 4.9 MB/s eta 0:00:03\r\u001b[K     |█████████▋                      | 5.9 MB 4.9 MB/s eta 0:00:03\r\u001b[K     |█████████▊                      | 5.9 MB 4.9 MB/s eta 0:00:03\r\u001b[K     |█████████▊                      | 5.9 MB 4.9 MB/s eta 0:00:03\r\u001b[K     |█████████▊                      | 5.9 MB 4.9 MB/s eta 0:00:03\r\u001b[K     |█████████▊                      | 5.9 MB 4.9 MB/s eta 0:00:03\r\u001b[K     |█████████▊                      | 5.9 MB 4.9 MB/s eta 0:00:03\r\u001b[K     |█████████▊                      | 6.0 MB 4.9 MB/s eta 0:00:03\r\u001b[K     |█████████▊                      | 6.0 MB 4.9 MB/s eta 0:00:03\r\u001b[K     |█████████▉                      | 6.0 MB 4.9 MB/s eta 0:00:03\r\u001b[K     |█████████▉                      | 6.0 MB 4.9 MB/s eta 0:00:03\r\u001b[K     |█████████▉                      | 6.0 MB 4.9 MB/s eta 0:00:03\r\u001b[K     |█████████▉                      | 6.0 MB 4.9 MB/s eta 0:00:03\r\u001b[K     |█████████▉                      | 6.0 MB 4.9 MB/s eta 0:00:03\r\u001b[K     |█████████▉                      | 6.0 MB 4.9 MB/s eta 0:00:03\r\u001b[K     |█████████▉                      | 6.0 MB 4.9 MB/s eta 0:00:03\r\u001b[K     |██████████                      | 6.1 MB 4.9 MB/s eta 0:00:03\r\u001b[K     |██████████                      | 6.1 MB 4.9 MB/s eta 0:00:03\r\u001b[K     |██████████                      | 6.1 MB 4.9 MB/s eta 0:00:03\r\u001b[K     |██████████                      | 6.1 MB 4.9 MB/s eta 0:00:03\r\u001b[K     |██████████                      | 6.1 MB 4.9 MB/s eta 0:00:03\r\u001b[K     |██████████                      | 6.1 MB 4.9 MB/s eta 0:00:03\r\u001b[K     |██████████                      | 6.1 MB 4.9 MB/s eta 0:00:03\r\u001b[K     |██████████                      | 6.1 MB 4.9 MB/s eta 0:00:03\r\u001b[K     |██████████                      | 6.1 MB 4.9 MB/s eta 0:00:03\r\u001b[K     |██████████                      | 6.1 MB 4.9 MB/s eta 0:00:03\r\u001b[K     |██████████                      | 6.2 MB 4.9 MB/s eta 0:00:03\r\u001b[K     |██████████                      | 6.2 MB 4.9 MB/s eta 0:00:03\r\u001b[K     |██████████                      | 6.2 MB 4.9 MB/s eta 0:00:03\r\u001b[K     |██████████▏                     | 6.2 MB 4.9 MB/s eta 0:00:03\r\u001b[K     |██████████▏                     | 6.2 MB 4.9 MB/s eta 0:00:03\r\u001b[K     |██████████▏                     | 6.2 MB 4.9 MB/s eta 0:00:03\r\u001b[K     |██████████▏                     | 6.2 MB 4.9 MB/s eta 0:00:03\r\u001b[K     |██████████▏                     | 6.2 MB 4.9 MB/s eta 0:00:03\r\u001b[K     |██████████▏                     | 6.2 MB 4.9 MB/s eta 0:00:03\r\u001b[K     |██████████▎                     | 6.2 MB 4.9 MB/s eta 0:00:03\r\u001b[K     |██████████▎                     | 6.3 MB 4.9 MB/s eta 0:00:03\r\u001b[K     |██████████▎                     | 6.3 MB 4.9 MB/s eta 0:00:03\r\u001b[K     |██████████▎                     | 6.3 MB 4.9 MB/s eta 0:00:03\r\u001b[K     |██████████▎                     | 6.3 MB 4.9 MB/s eta 0:00:03\r\u001b[K     |██████████▎                     | 6.3 MB 4.9 MB/s eta 0:00:03\r\u001b[K     |██████████▎                     | 6.3 MB 4.9 MB/s eta 0:00:03\r\u001b[K     |██████████▍                     | 6.3 MB 4.9 MB/s eta 0:00:03\r\u001b[K     |██████████▍                     | 6.3 MB 4.9 MB/s eta 0:00:03\r\u001b[K     |██████████▍                     | 6.3 MB 4.9 MB/s eta 0:00:03\r\u001b[K     |██████████▍                     | 6.3 MB 4.9 MB/s eta 0:00:03\r\u001b[K     |██████████▍                     | 6.4 MB 4.9 MB/s eta 0:00:03\r\u001b[K     |██████████▍                     | 6.4 MB 4.9 MB/s eta 0:00:03\r\u001b[K     |██████████▍                     | 6.4 MB 4.9 MB/s eta 0:00:03\r\u001b[K     |██████████▌                     | 6.4 MB 4.9 MB/s eta 0:00:03\r\u001b[K     |██████████▌                     | 6.4 MB 4.9 MB/s eta 0:00:03\r\u001b[K     |██████████▌                     | 6.4 MB 4.9 MB/s eta 0:00:03\r\u001b[K     |██████████▌                     | 6.4 MB 4.9 MB/s eta 0:00:03\r\u001b[K     |██████████▌                     | 6.4 MB 4.9 MB/s eta 0:00:03\r\u001b[K     |██████████▌                     | 6.4 MB 4.9 MB/s eta 0:00:03\r\u001b[K     |██████████▋                     | 6.5 MB 4.9 MB/s eta 0:00:03\r\u001b[K     |██████████▋                     | 6.5 MB 4.9 MB/s eta 0:00:03\r\u001b[K     |██████████▋                     | 6.5 MB 4.9 MB/s eta 0:00:03\r\u001b[K     |██████████▋                     | 6.5 MB 4.9 MB/s eta 0:00:03\r\u001b[K     |██████████▋                     | 6.5 MB 4.9 MB/s eta 0:00:03\r\u001b[K     |██████████▋                     | 6.5 MB 4.9 MB/s eta 0:00:03\r\u001b[K     |██████████▋                     | 6.5 MB 4.9 MB/s eta 0:00:03\r\u001b[K     |██████████▊                     | 6.5 MB 4.9 MB/s eta 0:00:03\r\u001b[K     |██████████▊                     | 6.5 MB 4.9 MB/s eta 0:00:03\r\u001b[K     |██████████▊                     | 6.5 MB 4.9 MB/s eta 0:00:03\r\u001b[K     |██████████▊                     | 6.6 MB 4.9 MB/s eta 0:00:03\r\u001b[K     |██████████▊                     | 6.6 MB 4.9 MB/s eta 0:00:03\r\u001b[K     |██████████▊                     | 6.6 MB 4.9 MB/s eta 0:00:03\r\u001b[K     |██████████▊                     | 6.6 MB 4.9 MB/s eta 0:00:03\r\u001b[K     |██████████▉                     | 6.6 MB 4.9 MB/s eta 0:00:03\r\u001b[K     |██████████▉                     | 6.6 MB 4.9 MB/s eta 0:00:03\r\u001b[K     |██████████▉                     | 6.6 MB 4.9 MB/s eta 0:00:03\r\u001b[K     |██████████▉                     | 6.6 MB 4.9 MB/s eta 0:00:03\r\u001b[K     |██████████▉                     | 6.6 MB 4.9 MB/s eta 0:00:03\r\u001b[K     |██████████▉                     | 6.6 MB 4.9 MB/s eta 0:00:03\r\u001b[K     |███████████                     | 6.7 MB 4.9 MB/s eta 0:00:03\r\u001b[K     |███████████                     | 6.7 MB 4.9 MB/s eta 0:00:03\r\u001b[K     |███████████                     | 6.7 MB 4.9 MB/s eta 0:00:03\r\u001b[K     |███████████                     | 6.7 MB 4.9 MB/s eta 0:00:03\r\u001b[K     |███████████                     | 6.7 MB 4.9 MB/s eta 0:00:03\r\u001b[K     |███████████                     | 6.7 MB 4.9 MB/s eta 0:00:03\r\u001b[K     |███████████                     | 6.7 MB 4.9 MB/s eta 0:00:03\r\u001b[K     |███████████                     | 6.7 MB 4.9 MB/s eta 0:00:03\r\u001b[K     |███████████                     | 6.7 MB 4.9 MB/s eta 0:00:03\r\u001b[K     |███████████                     | 6.7 MB 4.9 MB/s eta 0:00:03\r\u001b[K     |███████████                     | 6.8 MB 4.9 MB/s eta 0:00:03\r\u001b[K     |███████████                     | 6.8 MB 4.9 MB/s eta 0:00:03\r\u001b[K     |███████████                     | 6.8 MB 4.9 MB/s eta 0:00:03\r\u001b[K     |███████████                     | 6.8 MB 4.9 MB/s eta 0:00:03\r\u001b[K     |███████████▏                    | 6.8 MB 4.9 MB/s eta 0:00:03\r\u001b[K     |███████████▏                    | 6.8 MB 4.9 MB/s eta 0:00:03\r\u001b[K     |███████████▏                    | 6.8 MB 4.9 MB/s eta 0:00:03\r\u001b[K     |███████████▏                    | 6.8 MB 4.9 MB/s eta 0:00:03\r\u001b[K     |███████████▏                    | 6.8 MB 4.9 MB/s eta 0:00:03\r\u001b[K     |███████████▏                    | 6.9 MB 4.9 MB/s eta 0:00:03\r\u001b[K     |███████████▎                    | 6.9 MB 4.9 MB/s eta 0:00:03\r\u001b[K     |███████████▎                    | 6.9 MB 4.9 MB/s eta 0:00:03\r\u001b[K     |███████████▎                    | 6.9 MB 4.9 MB/s eta 0:00:03\r\u001b[K     |███████████▎                    | 6.9 MB 4.9 MB/s eta 0:00:03\r\u001b[K     |███████████▎                    | 6.9 MB 4.9 MB/s eta 0:00:03\r\u001b[K     |███████████▎                    | 6.9 MB 4.9 MB/s eta 0:00:03\r\u001b[K     |███████████▎                    | 6.9 MB 4.9 MB/s eta 0:00:03\r\u001b[K     |███████████▍                    | 6.9 MB 4.9 MB/s eta 0:00:03\r\u001b[K     |███████████▍                    | 6.9 MB 4.9 MB/s eta 0:00:03\r\u001b[K     |███████████▍                    | 7.0 MB 4.9 MB/s eta 0:00:03\r\u001b[K     |███████████▍                    | 7.0 MB 4.9 MB/s eta 0:00:03\r\u001b[K     |███████████▍                    | 7.0 MB 4.9 MB/s eta 0:00:03\r\u001b[K     |███████████▍                    | 7.0 MB 4.9 MB/s eta 0:00:03\r\u001b[K     |███████████▌                    | 7.0 MB 4.9 MB/s eta 0:00:03\r\u001b[K     |███████████▌                    | 7.0 MB 4.9 MB/s eta 0:00:03\r\u001b[K     |███████████▌                    | 7.0 MB 4.9 MB/s eta 0:00:03\r\u001b[K     |███████████▌                    | 7.0 MB 4.9 MB/s eta 0:00:03\r\u001b[K     |███████████▌                    | 7.0 MB 4.9 MB/s eta 0:00:03\r\u001b[K     |███████████▌                    | 7.0 MB 4.9 MB/s eta 0:00:03\r\u001b[K     |███████████▌                    | 7.1 MB 4.9 MB/s eta 0:00:03\r\u001b[K     |███████████▋                    | 7.1 MB 4.9 MB/s eta 0:00:03\r\u001b[K     |███████████▋                    | 7.1 MB 4.9 MB/s eta 0:00:03\r\u001b[K     |███████████▋                    | 7.1 MB 4.9 MB/s eta 0:00:03\r\u001b[K     |███████████▋                    | 7.1 MB 4.9 MB/s eta 0:00:03\r\u001b[K     |███████████▋                    | 7.1 MB 4.9 MB/s eta 0:00:03\r\u001b[K     |███████████▋                    | 7.1 MB 4.9 MB/s eta 0:00:03\r\u001b[K     |███████████▋                    | 7.1 MB 4.9 MB/s eta 0:00:03\r\u001b[K     |███████████▊                    | 7.1 MB 4.9 MB/s eta 0:00:03\r\u001b[K     |███████████▊                    | 7.1 MB 4.9 MB/s eta 0:00:03\r\u001b[K     |███████████▊                    | 7.2 MB 4.9 MB/s eta 0:00:03\r\u001b[K     |███████████▊                    | 7.2 MB 4.9 MB/s eta 0:00:03\r\u001b[K     |███████████▊                    | 7.2 MB 4.9 MB/s eta 0:00:03\r\u001b[K     |███████████▊                    | 7.2 MB 4.9 MB/s eta 0:00:03\r\u001b[K     |███████████▉                    | 7.2 MB 4.9 MB/s eta 0:00:03\r\u001b[K     |███████████▉                    | 7.2 MB 4.9 MB/s eta 0:00:03\r\u001b[K     |███████████▉                    | 7.2 MB 4.9 MB/s eta 0:00:03\r\u001b[K     |███████████▉                    | 7.2 MB 4.9 MB/s eta 0:00:03\r\u001b[K     |███████████▉                    | 7.2 MB 4.9 MB/s eta 0:00:03\r\u001b[K     |███████████▉                    | 7.2 MB 4.9 MB/s eta 0:00:03\r\u001b[K     |███████████▉                    | 7.3 MB 4.9 MB/s eta 0:00:03\r\u001b[K     |████████████                    | 7.3 MB 4.9 MB/s eta 0:00:03\r\u001b[K     |████████████                    | 7.3 MB 4.9 MB/s eta 0:00:03\r\u001b[K     |████████████                    | 7.3 MB 4.9 MB/s eta 0:00:03\r\u001b[K     |████████████                    | 7.3 MB 4.9 MB/s eta 0:00:03\r\u001b[K     |████████████                    | 7.3 MB 4.9 MB/s eta 0:00:03\r\u001b[K     |████████████                    | 7.3 MB 4.9 MB/s eta 0:00:03\r\u001b[K     |████████████                    | 7.3 MB 4.9 MB/s eta 0:00:03\r\u001b[K     |████████████                    | 7.3 MB 4.9 MB/s eta 0:00:03\r\u001b[K     |████████████                    | 7.4 MB 4.9 MB/s eta 0:00:03\r\u001b[K     |████████████                    | 7.4 MB 4.9 MB/s eta 0:00:03\r\u001b[K     |████████████                    | 7.4 MB 4.9 MB/s eta 0:00:03\r\u001b[K     |████████████                    | 7.4 MB 4.9 MB/s eta 0:00:03\r\u001b[K     |████████████                    | 7.4 MB 4.9 MB/s eta 0:00:03\r\u001b[K     |████████████▏                   | 7.4 MB 4.9 MB/s eta 0:00:03\r\u001b[K     |████████████▏                   | 7.4 MB 4.9 MB/s eta 0:00:03\r\u001b[K     |████████████▏                   | 7.4 MB 4.9 MB/s eta 0:00:03\r\u001b[K     |████████████▏                   | 7.4 MB 4.9 MB/s eta 0:00:03\r\u001b[K     |████████████▏                   | 7.4 MB 4.9 MB/s eta 0:00:03\r\u001b[K     |████████████▏                   | 7.5 MB 4.9 MB/s eta 0:00:03\r\u001b[K     |████████████▏                   | 7.5 MB 4.9 MB/s eta 0:00:03\r\u001b[K     |████████████▎                   | 7.5 MB 4.9 MB/s eta 0:00:03\r\u001b[K     |████████████▎                   | 7.5 MB 4.9 MB/s eta 0:00:03\r\u001b[K     |████████████▎                   | 7.5 MB 4.9 MB/s eta 0:00:03\r\u001b[K     |████████████▎                   | 7.5 MB 4.9 MB/s eta 0:00:03\r\u001b[K     |████████████▎                   | 7.5 MB 4.9 MB/s eta 0:00:03\r\u001b[K     |████████████▎                   | 7.5 MB 4.9 MB/s eta 0:00:03\r\u001b[K     |████████████▍                   | 7.5 MB 4.9 MB/s eta 0:00:03\r\u001b[K     |████████████▍                   | 7.5 MB 4.9 MB/s eta 0:00:03\r\u001b[K     |████████████▍                   | 7.6 MB 4.9 MB/s eta 0:00:03\r\u001b[K     |████████████▍                   | 7.6 MB 4.9 MB/s eta 0:00:03\r\u001b[K     |████████████▍                   | 7.6 MB 4.9 MB/s eta 0:00:03\r\u001b[K     |████████████▍                   | 7.6 MB 4.9 MB/s eta 0:00:03\r\u001b[K     |████████████▍                   | 7.6 MB 4.9 MB/s eta 0:00:03\r\u001b[K     |████████████▌                   | 7.6 MB 4.9 MB/s eta 0:00:03\r\u001b[K     |████████████▌                   | 7.6 MB 4.9 MB/s eta 0:00:03\r\u001b[K     |████████████▌                   | 7.6 MB 4.9 MB/s eta 0:00:03\r\u001b[K     |████████████▌                   | 7.6 MB 4.9 MB/s eta 0:00:03\r\u001b[K     |████████████▌                   | 7.6 MB 4.9 MB/s eta 0:00:03\r\u001b[K     |████████████▌                   | 7.7 MB 4.9 MB/s eta 0:00:03\r\u001b[K     |████████████▌                   | 7.7 MB 4.9 MB/s eta 0:00:03\r\u001b[K     |████████████▋                   | 7.7 MB 4.9 MB/s eta 0:00:03\r\u001b[K     |████████████▋                   | 7.7 MB 4.9 MB/s eta 0:00:03\r\u001b[K     |████████████▋                   | 7.7 MB 4.9 MB/s eta 0:00:03\r\u001b[K     |████████████▋                   | 7.7 MB 4.9 MB/s eta 0:00:03\r\u001b[K     |████████████▋                   | 7.7 MB 4.9 MB/s eta 0:00:03"
     ]
    },
    {
     "name": "stdout",
     "output_type": "stream",
     "text": [
      "\r\u001b[K     |████████████▋                   | 7.7 MB 4.9 MB/s eta 0:00:03\r\u001b[K     |████████████▊                   | 7.7 MB 4.9 MB/s eta 0:00:03\r\u001b[K     |████████████▊                   | 7.8 MB 4.9 MB/s eta 0:00:03\r\u001b[K     |████████████▊                   | 7.8 MB 4.9 MB/s eta 0:00:03\r\u001b[K     |████████████▊                   | 7.8 MB 4.9 MB/s eta 0:00:03\r\u001b[K     |████████████▊                   | 7.8 MB 4.9 MB/s eta 0:00:03\r\u001b[K     |████████████▊                   | 7.8 MB 4.9 MB/s eta 0:00:03\r\u001b[K     |████████████▊                   | 7.8 MB 4.9 MB/s eta 0:00:03\r\u001b[K     |████████████▉                   | 7.8 MB 4.9 MB/s eta 0:00:03\r\u001b[K     |████████████▉                   | 7.8 MB 4.9 MB/s eta 0:00:03\r\u001b[K     |████████████▉                   | 7.8 MB 4.9 MB/s eta 0:00:03\r\u001b[K     |████████████▉                   | 7.8 MB 4.9 MB/s eta 0:00:03\r\u001b[K     |████████████▉                   | 7.9 MB 4.9 MB/s eta 0:00:03\r\u001b[K     |████████████▉                   | 7.9 MB 4.9 MB/s eta 0:00:03\r\u001b[K     |████████████▉                   | 7.9 MB 4.9 MB/s eta 0:00:03\r\u001b[K     |█████████████                   | 7.9 MB 4.9 MB/s eta 0:00:03\r\u001b[K     |█████████████                   | 7.9 MB 4.9 MB/s eta 0:00:03\r\u001b[K     |█████████████                   | 7.9 MB 4.9 MB/s eta 0:00:03\r\u001b[K     |█████████████                   | 7.9 MB 4.9 MB/s eta 0:00:03\r\u001b[K     |█████████████                   | 7.9 MB 4.9 MB/s eta 0:00:03\r\u001b[K     |█████████████                   | 7.9 MB 4.9 MB/s eta 0:00:03\r\u001b[K     |█████████████                   | 7.9 MB 4.9 MB/s eta 0:00:03\r\u001b[K     |█████████████                   | 8.0 MB 4.9 MB/s eta 0:00:03\r\u001b[K     |█████████████                   | 8.0 MB 4.9 MB/s eta 0:00:03\r\u001b[K     |█████████████                   | 8.0 MB 4.9 MB/s eta 0:00:03\r\u001b[K     |█████████████                   | 8.0 MB 4.9 MB/s eta 0:00:03\r\u001b[K     |█████████████                   | 8.0 MB 4.9 MB/s eta 0:00:03\r\u001b[K     |█████████████                   | 8.0 MB 4.9 MB/s eta 0:00:03\r\u001b[K     |█████████████▏                  | 8.0 MB 4.9 MB/s eta 0:00:03\r\u001b[K     |█████████████▏                  | 8.0 MB 4.9 MB/s eta 0:00:03\r\u001b[K     |█████████████▏                  | 8.0 MB 4.9 MB/s eta 0:00:03\r\u001b[K     |█████████████▏                  | 8.0 MB 4.9 MB/s eta 0:00:03\r\u001b[K     |█████████████▏                  | 8.1 MB 4.9 MB/s eta 0:00:03\r\u001b[K     |█████████████▏                  | 8.1 MB 4.9 MB/s eta 0:00:03\r\u001b[K     |█████████████▎                  | 8.1 MB 4.9 MB/s eta 0:00:03\r\u001b[K     |█████████████▎                  | 8.1 MB 4.9 MB/s eta 0:00:03\r\u001b[K     |█████████████▎                  | 8.1 MB 4.9 MB/s eta 0:00:03\r\u001b[K     |█████████████▎                  | 8.1 MB 4.9 MB/s eta 0:00:03\r\u001b[K     |█████████████▎                  | 8.1 MB 4.9 MB/s eta 0:00:03\r\u001b[K     |█████████████▎                  | 8.1 MB 4.9 MB/s eta 0:00:03\r\u001b[K     |█████████████▎                  | 8.1 MB 4.9 MB/s eta 0:00:03\r\u001b[K     |█████████████▍                  | 8.2 MB 4.9 MB/s eta 0:00:03\r\u001b[K     |█████████████▍                  | 8.2 MB 4.9 MB/s eta 0:00:03\r\u001b[K     |█████████████▍                  | 8.2 MB 4.9 MB/s eta 0:00:03\r\u001b[K     |█████████████▍                  | 8.2 MB 4.9 MB/s eta 0:00:03\r\u001b[K     |█████████████▍                  | 8.2 MB 4.9 MB/s eta 0:00:03\r\u001b[K     |█████████████▍                  | 8.2 MB 4.9 MB/s eta 0:00:03\r\u001b[K     |█████████████▍                  | 8.2 MB 4.9 MB/s eta 0:00:03\r\u001b[K     |█████████████▌                  | 8.2 MB 4.9 MB/s eta 0:00:03\r\u001b[K     |█████████████▌                  | 8.2 MB 4.9 MB/s eta 0:00:03\r\u001b[K     |█████████████▌                  | 8.2 MB 4.9 MB/s eta 0:00:03\r\u001b[K     |█████████████▌                  | 8.3 MB 4.9 MB/s eta 0:00:03\r\u001b[K     |█████████████▌                  | 8.3 MB 4.9 MB/s eta 0:00:03\r\u001b[K     |█████████████▌                  | 8.3 MB 4.9 MB/s eta 0:00:03\r\u001b[K     |█████████████▋                  | 8.3 MB 4.9 MB/s eta 0:00:03\r\u001b[K     |█████████████▋                  | 8.3 MB 4.9 MB/s eta 0:00:03\r\u001b[K     |█████████████▋                  | 8.3 MB 4.9 MB/s eta 0:00:03\r\u001b[K     |█████████████▋                  | 8.3 MB 4.9 MB/s eta 0:00:03\r\u001b[K     |█████████████▋                  | 8.3 MB 4.9 MB/s eta 0:00:03\r\u001b[K     |█████████████▋                  | 8.3 MB 4.9 MB/s eta 0:00:03\r\u001b[K     |█████████████▋                  | 8.3 MB 4.9 MB/s eta 0:00:03\r\u001b[K     |█████████████▊                  | 8.4 MB 4.9 MB/s eta 0:00:03\r\u001b[K     |█████████████▊                  | 8.4 MB 4.9 MB/s eta 0:00:03\r\u001b[K     |█████████████▊                  | 8.4 MB 4.9 MB/s eta 0:00:03\r\u001b[K     |█████████████▊                  | 8.4 MB 4.9 MB/s eta 0:00:03\r\u001b[K     |█████████████▊                  | 8.4 MB 4.9 MB/s eta 0:00:03\r\u001b[K     |█████████████▊                  | 8.4 MB 4.9 MB/s eta 0:00:03\r\u001b[K     |█████████████▊                  | 8.4 MB 4.9 MB/s eta 0:00:03\r\u001b[K     |█████████████▉                  | 8.4 MB 4.9 MB/s eta 0:00:03\r\u001b[K     |█████████████▉                  | 8.4 MB 4.9 MB/s eta 0:00:03\r\u001b[K     |█████████████▉                  | 8.4 MB 4.9 MB/s eta 0:00:03\r\u001b[K     |█████████████▉                  | 8.5 MB 4.9 MB/s eta 0:00:03\r\u001b[K     |█████████████▉                  | 8.5 MB 4.9 MB/s eta 0:00:03\r\u001b[K     |█████████████▉                  | 8.5 MB 4.9 MB/s eta 0:00:03\r\u001b[K     |██████████████                  | 8.5 MB 4.9 MB/s eta 0:00:03\r\u001b[K     |██████████████                  | 8.5 MB 4.9 MB/s eta 0:00:03\r\u001b[K     |██████████████                  | 8.5 MB 4.9 MB/s eta 0:00:03\r\u001b[K     |██████████████                  | 8.5 MB 4.9 MB/s eta 0:00:03\r\u001b[K     |██████████████                  | 8.5 MB 4.9 MB/s eta 0:00:03\r\u001b[K     |██████████████                  | 8.5 MB 4.9 MB/s eta 0:00:03\r\u001b[K     |██████████████                  | 8.6 MB 4.9 MB/s eta 0:00:03\r\u001b[K     |██████████████                  | 8.6 MB 4.9 MB/s eta 0:00:03\r\u001b[K     |██████████████                  | 8.6 MB 4.9 MB/s eta 0:00:03\r\u001b[K     |██████████████                  | 8.6 MB 4.9 MB/s eta 0:00:03\r\u001b[K     |██████████████                  | 8.6 MB 4.9 MB/s eta 0:00:03\r\u001b[K     |██████████████                  | 8.6 MB 4.9 MB/s eta 0:00:03\r\u001b[K     |██████████████                  | 8.6 MB 4.9 MB/s eta 0:00:03\r\u001b[K     |██████████████                  | 8.6 MB 4.9 MB/s eta 0:00:03\r\u001b[K     |██████████████▏                 | 8.6 MB 4.9 MB/s eta 0:00:03\r\u001b[K     |██████████████▏                 | 8.6 MB 4.9 MB/s eta 0:00:03\r\u001b[K     |██████████████▏                 | 8.7 MB 4.9 MB/s eta 0:00:03\r\u001b[K     |██████████████▏                 | 8.7 MB 4.9 MB/s eta 0:00:03\r\u001b[K     |██████████████▏                 | 8.7 MB 4.9 MB/s eta 0:00:03\r\u001b[K     |██████████████▏                 | 8.7 MB 4.9 MB/s eta 0:00:03\r\u001b[K     |██████████████▎                 | 8.7 MB 4.9 MB/s eta 0:00:03\r\u001b[K     |██████████████▎                 | 8.7 MB 4.9 MB/s eta 0:00:03\r\u001b[K     |██████████████▎                 | 8.7 MB 4.9 MB/s eta 0:00:03\r\u001b[K     |██████████████▎                 | 8.7 MB 4.9 MB/s eta 0:00:03\r\u001b[K     |██████████████▎                 | 8.7 MB 4.9 MB/s eta 0:00:03\r\u001b[K     |██████████████▎                 | 8.7 MB 4.9 MB/s eta 0:00:03\r\u001b[K     |██████████████▎                 | 8.8 MB 4.9 MB/s eta 0:00:03\r\u001b[K     |██████████████▍                 | 8.8 MB 4.9 MB/s eta 0:00:03\r\u001b[K     |██████████████▍                 | 8.8 MB 4.9 MB/s eta 0:00:03\r\u001b[K     |██████████████▍                 | 8.8 MB 4.9 MB/s eta 0:00:03\r\u001b[K     |██████████████▍                 | 8.8 MB 4.9 MB/s eta 0:00:03\r\u001b[K     |██████████████▍                 | 8.8 MB 4.9 MB/s eta 0:00:03\r\u001b[K     |██████████████▍                 | 8.8 MB 4.9 MB/s eta 0:00:03\r\u001b[K     |██████████████▌                 | 8.8 MB 4.9 MB/s eta 0:00:03\r\u001b[K     |██████████████▌                 | 8.8 MB 4.9 MB/s eta 0:00:03\r\u001b[K     |██████████████▌                 | 8.8 MB 4.9 MB/s eta 0:00:03\r\u001b[K     |██████████████▌                 | 8.9 MB 4.9 MB/s eta 0:00:03\r\u001b[K     |██████████████▌                 | 8.9 MB 4.9 MB/s eta 0:00:03\r\u001b[K     |██████████████▌                 | 8.9 MB 4.9 MB/s eta 0:00:03\r\u001b[K     |██████████████▌                 | 8.9 MB 4.9 MB/s eta 0:00:03\r\u001b[K     |██████████████▋                 | 8.9 MB 4.9 MB/s eta 0:00:03\r\u001b[K     |██████████████▋                 | 8.9 MB 4.9 MB/s eta 0:00:03\r\u001b[K     |██████████████▋                 | 8.9 MB 4.9 MB/s eta 0:00:03\r\u001b[K     |██████████████▋                 | 8.9 MB 4.9 MB/s eta 0:00:03\r\u001b[K     |██████████████▋                 | 8.9 MB 4.9 MB/s eta 0:00:03\r\u001b[K     |██████████████▋                 | 8.9 MB 4.9 MB/s eta 0:00:03\r\u001b[K     |██████████████▋                 | 9.0 MB 4.9 MB/s eta 0:00:03\r\u001b[K     |██████████████▊                 | 9.0 MB 4.9 MB/s eta 0:00:03\r\u001b[K     |██████████████▊                 | 9.0 MB 4.9 MB/s eta 0:00:03\r\u001b[K     |██████████████▊                 | 9.0 MB 4.9 MB/s eta 0:00:03\r\u001b[K     |██████████████▊                 | 9.0 MB 4.9 MB/s eta 0:00:03\r\u001b[K     |██████████████▊                 | 9.0 MB 4.9 MB/s eta 0:00:03\r\u001b[K     |██████████████▊                 | 9.0 MB 4.9 MB/s eta 0:00:03\r\u001b[K     |██████████████▉                 | 9.0 MB 4.9 MB/s eta 0:00:03\r\u001b[K     |██████████████▉                 | 9.0 MB 4.9 MB/s eta 0:00:03\r\u001b[K     |██████████████▉                 | 9.1 MB 4.9 MB/s eta 0:00:03\r\u001b[K     |██████████████▉                 | 9.1 MB 4.9 MB/s eta 0:00:03\r\u001b[K     |██████████████▉                 | 9.1 MB 4.9 MB/s eta 0:00:03\r\u001b[K     |██████████████▉                 | 9.1 MB 4.9 MB/s eta 0:00:03\r\u001b[K     |██████████████▉                 | 9.1 MB 4.9 MB/s eta 0:00:03\r\u001b[K     |███████████████                 | 9.1 MB 4.9 MB/s eta 0:00:03\r\u001b[K     |███████████████                 | 9.1 MB 4.9 MB/s eta 0:00:03\r\u001b[K     |███████████████                 | 9.1 MB 4.9 MB/s eta 0:00:03\r\u001b[K     |███████████████                 | 9.1 MB 4.9 MB/s eta 0:00:03\r\u001b[K     |███████████████                 | 9.1 MB 4.9 MB/s eta 0:00:03\r\u001b[K     |███████████████                 | 9.2 MB 4.9 MB/s eta 0:00:03\r\u001b[K     |███████████████                 | 9.2 MB 4.9 MB/s eta 0:00:03\r\u001b[K     |███████████████                 | 9.2 MB 4.9 MB/s eta 0:00:03\r\u001b[K     |███████████████                 | 9.2 MB 4.9 MB/s eta 0:00:03\r\u001b[K     |███████████████                 | 9.2 MB 4.9 MB/s eta 0:00:03\r\u001b[K     |███████████████                 | 9.2 MB 4.9 MB/s eta 0:00:03\r\u001b[K     |███████████████                 | 9.2 MB 4.9 MB/s eta 0:00:03\r\u001b[K     |███████████████                 | 9.2 MB 4.9 MB/s eta 0:00:03\r\u001b[K     |███████████████▏                | 9.2 MB 4.9 MB/s eta 0:00:03\r\u001b[K     |███████████████▏                | 9.2 MB 4.9 MB/s eta 0:00:03\r\u001b[K     |███████████████▏                | 9.3 MB 4.9 MB/s eta 0:00:03\r\u001b[K     |███████████████▏                | 9.3 MB 4.9 MB/s eta 0:00:03\r\u001b[K     |███████████████▏                | 9.3 MB 4.9 MB/s eta 0:00:03\r\u001b[K     |███████████████▏                | 9.3 MB 4.9 MB/s eta 0:00:03\r\u001b[K     |███████████████▏                | 9.3 MB 4.9 MB/s eta 0:00:03\r\u001b[K     |███████████████▎                | 9.3 MB 4.9 MB/s eta 0:00:03\r\u001b[K     |███████████████▎                | 9.3 MB 4.9 MB/s eta 0:00:03\r\u001b[K     |███████████████▎                | 9.3 MB 4.9 MB/s eta 0:00:03\r\u001b[K     |███████████████▎                | 9.3 MB 4.9 MB/s eta 0:00:03\r\u001b[K     |███████████████▎                | 9.3 MB 4.9 MB/s eta 0:00:03\r\u001b[K     |███████████████▎                | 9.4 MB 4.9 MB/s eta 0:00:03\r\u001b[K     |███████████████▍                | 9.4 MB 4.9 MB/s eta 0:00:03\r\u001b[K     |███████████████▍                | 9.4 MB 4.9 MB/s eta 0:00:03\r\u001b[K     |███████████████▍                | 9.4 MB 4.9 MB/s eta 0:00:03\r\u001b[K     |███████████████▍                | 9.4 MB 4.9 MB/s eta 0:00:03\r\u001b[K     |███████████████▍                | 9.4 MB 4.9 MB/s eta 0:00:03\r\u001b[K     |███████████████▍                | 9.4 MB 4.9 MB/s eta 0:00:03\r\u001b[K     |███████████████▍                | 9.4 MB 4.9 MB/s eta 0:00:03\r\u001b[K     |███████████████▌                | 9.4 MB 4.9 MB/s eta 0:00:03"
     ]
    },
    {
     "name": "stdout",
     "output_type": "stream",
     "text": [
      "\r\u001b[K     |███████████████▌                | 9.5 MB 4.9 MB/s eta 0:00:03\r\u001b[K     |███████████████▌                | 9.5 MB 4.9 MB/s eta 0:00:03\r\u001b[K     |███████████████▌                | 9.5 MB 4.9 MB/s eta 0:00:03\r\u001b[K     |███████████████▌                | 9.5 MB 4.9 MB/s eta 0:00:03\r\u001b[K     |███████████████▌                | 9.5 MB 4.9 MB/s eta 0:00:03\r\u001b[K     |███████████████▌                | 9.5 MB 4.9 MB/s eta 0:00:03\r\u001b[K     |███████████████▋                | 9.5 MB 4.9 MB/s eta 0:00:03\r\u001b[K     |███████████████▋                | 9.5 MB 4.9 MB/s eta 0:00:03\r\u001b[K     |███████████████▋                | 9.5 MB 4.9 MB/s eta 0:00:03\r\u001b[K     |███████████████▋                | 9.5 MB 4.9 MB/s eta 0:00:03\r\u001b[K     |███████████████▋                | 9.6 MB 4.9 MB/s eta 0:00:03\r\u001b[K     |███████████████▋                | 9.6 MB 4.9 MB/s eta 0:00:03\r\u001b[K     |███████████████▊                | 9.6 MB 4.9 MB/s eta 0:00:03\r\u001b[K     |███████████████▊                | 9.6 MB 4.9 MB/s eta 0:00:03\r\u001b[K     |███████████████▊                | 9.6 MB 4.9 MB/s eta 0:00:03\r\u001b[K     |███████████████▊                | 9.6 MB 4.9 MB/s eta 0:00:03\r\u001b[K     |███████████████▊                | 9.6 MB 4.9 MB/s eta 0:00:03\r\u001b[K     |███████████████▊                | 9.6 MB 4.9 MB/s eta 0:00:03\r\u001b[K     |███████████████▊                | 9.6 MB 4.9 MB/s eta 0:00:03\r\u001b[K     |███████████████▉                | 9.6 MB 4.9 MB/s eta 0:00:03\r\u001b[K     |███████████████▉                | 9.7 MB 4.9 MB/s eta 0:00:03\r\u001b[K     |███████████████▉                | 9.7 MB 4.9 MB/s eta 0:00:03\r\u001b[K     |███████████████▉                | 9.7 MB 4.9 MB/s eta 0:00:03\r\u001b[K     |███████████████▉                | 9.7 MB 4.9 MB/s eta 0:00:03\r\u001b[K     |███████████████▉                | 9.7 MB 4.9 MB/s eta 0:00:03\r\u001b[K     |███████████████▉                | 9.7 MB 4.9 MB/s eta 0:00:03\r\u001b[K     |████████████████                | 9.7 MB 4.9 MB/s eta 0:00:03\r\u001b[K     |████████████████                | 9.7 MB 4.9 MB/s eta 0:00:03\r\u001b[K     |████████████████                | 9.7 MB 4.9 MB/s eta 0:00:03\r\u001b[K     |████████████████                | 9.7 MB 4.9 MB/s eta 0:00:03\r\u001b[K     |████████████████                | 9.8 MB 4.9 MB/s eta 0:00:03\r\u001b[K     |████████████████                | 9.8 MB 4.9 MB/s eta 0:00:03\r\u001b[K     |████████████████                | 9.8 MB 4.9 MB/s eta 0:00:02\r\u001b[K     |████████████████                | 9.8 MB 4.9 MB/s eta 0:00:02\r\u001b[K     |████████████████                | 9.8 MB 4.9 MB/s eta 0:00:02\r\u001b[K     |████████████████                | 9.8 MB 4.9 MB/s eta 0:00:02\r\u001b[K     |████████████████                | 9.8 MB 4.9 MB/s eta 0:00:02\r\u001b[K     |████████████████                | 9.8 MB 4.9 MB/s eta 0:00:02\r\u001b[K     |████████████████                | 9.8 MB 4.9 MB/s eta 0:00:02\r\u001b[K     |████████████████▏               | 9.9 MB 4.9 MB/s eta 0:00:02\r\u001b[K     |████████████████▏               | 9.9 MB 4.9 MB/s eta 0:00:02\r\u001b[K     |████████████████▏               | 9.9 MB 4.9 MB/s eta 0:00:02\r\u001b[K     |████████████████▏               | 9.9 MB 4.9 MB/s eta 0:00:02\r\u001b[K     |████████████████▏               | 9.9 MB 4.9 MB/s eta 0:00:02\r\u001b[K     |████████████████▏               | 9.9 MB 4.9 MB/s eta 0:00:02\r\u001b[K     |████████████████▎               | 9.9 MB 4.9 MB/s eta 0:00:02\r\u001b[K     |████████████████▎               | 9.9 MB 4.9 MB/s eta 0:00:02\r\u001b[K     |████████████████▎               | 9.9 MB 4.9 MB/s eta 0:00:02\r\u001b[K     |████████████████▎               | 9.9 MB 4.9 MB/s eta 0:00:02\r\u001b[K     |████████████████▎               | 10.0 MB 4.9 MB/s eta 0:00:02\r\u001b[K     |████████████████▎               | 10.0 MB 4.9 MB/s eta 0:00:02\r\u001b[K     |████████████████▎               | 10.0 MB 4.9 MB/s eta 0:00:02\r\u001b[K     |████████████████▍               | 10.0 MB 4.9 MB/s eta 0:00:02\r\u001b[K     |████████████████▍               | 10.0 MB 4.9 MB/s eta 0:00:02\r\u001b[K     |████████████████▍               | 10.0 MB 4.9 MB/s eta 0:00:02\r\u001b[K     |████████████████▍               | 10.0 MB 4.9 MB/s eta 0:00:02\r\u001b[K     |████████████████▍               | 10.0 MB 4.9 MB/s eta 0:00:02\r\u001b[K     |████████████████▍               | 10.0 MB 4.9 MB/s eta 0:00:02\r\u001b[K     |████████████████▍               | 10.0 MB 4.9 MB/s eta 0:00:02\r\u001b[K     |████████████████▌               | 10.1 MB 4.9 MB/s eta 0:00:02\r\u001b[K     |████████████████▌               | 10.1 MB 4.9 MB/s eta 0:00:02\r\u001b[K     |████████████████▌               | 10.1 MB 4.9 MB/s eta 0:00:02\r\u001b[K     |████████████████▌               | 10.1 MB 4.9 MB/s eta 0:00:02\r\u001b[K     |████████████████▌               | 10.1 MB 4.9 MB/s eta 0:00:02\r\u001b[K     |████████████████▌               | 10.1 MB 4.9 MB/s eta 0:00:02\r\u001b[K     |████████████████▋               | 10.1 MB 4.9 MB/s eta 0:00:02\r\u001b[K     |████████████████▋               | 10.1 MB 4.9 MB/s eta 0:00:02\r\u001b[K     |████████████████▋               | 10.1 MB 4.9 MB/s eta 0:00:02\r\u001b[K     |████████████████▋               | 10.1 MB 4.9 MB/s eta 0:00:02\r\u001b[K     |████████████████▋               | 10.2 MB 4.9 MB/s eta 0:00:02\r\u001b[K     |████████████████▋               | 10.2 MB 4.9 MB/s eta 0:00:02\r\u001b[K     |████████████████▋               | 10.2 MB 4.9 MB/s eta 0:00:02\r\u001b[K     |████████████████▊               | 10.2 MB 4.9 MB/s eta 0:00:02\r\u001b[K     |████████████████▊               | 10.2 MB 4.9 MB/s eta 0:00:02\r\u001b[K     |████████████████▊               | 10.2 MB 4.9 MB/s eta 0:00:02\r\u001b[K     |████████████████▊               | 10.2 MB 4.9 MB/s eta 0:00:02\r\u001b[K     |████████████████▊               | 10.2 MB 4.9 MB/s eta 0:00:02\r\u001b[K     |████████████████▊               | 10.2 MB 4.9 MB/s eta 0:00:02\r\u001b[K     |████████████████▊               | 10.3 MB 4.9 MB/s eta 0:00:02\r\u001b[K     |████████████████▉               | 10.3 MB 4.9 MB/s eta 0:00:02\r\u001b[K     |████████████████▉               | 10.3 MB 4.9 MB/s eta 0:00:02\r\u001b[K     |████████████████▉               | 10.3 MB 4.9 MB/s eta 0:00:02\r\u001b[K     |████████████████▉               | 10.3 MB 4.9 MB/s eta 0:00:02\r\u001b[K     |████████████████▉               | 10.3 MB 4.9 MB/s eta 0:00:02\r\u001b[K     |████████████████▉               | 10.3 MB 4.9 MB/s eta 0:00:02\r\u001b[K     |█████████████████               | 10.3 MB 4.9 MB/s eta 0:00:02\r\u001b[K     |█████████████████               | 10.3 MB 4.9 MB/s eta 0:00:02\r\u001b[K     |█████████████████               | 10.3 MB 4.9 MB/s eta 0:00:02\r\u001b[K     |█████████████████               | 10.4 MB 4.9 MB/s eta 0:00:02\r\u001b[K     |█████████████████               | 10.4 MB 4.9 MB/s eta 0:00:02\r\u001b[K     |█████████████████               | 10.4 MB 4.9 MB/s eta 0:00:02\r\u001b[K     |█████████████████               | 10.4 MB 4.9 MB/s eta 0:00:02\r\u001b[K     |█████████████████               | 10.4 MB 4.9 MB/s eta 0:00:02\r\u001b[K     |█████████████████               | 10.4 MB 4.9 MB/s eta 0:00:02\r\u001b[K     |█████████████████               | 10.4 MB 4.9 MB/s eta 0:00:02\r\u001b[K     |█████████████████               | 10.4 MB 4.9 MB/s eta 0:00:02\r\u001b[K     |█████████████████               | 10.4 MB 4.9 MB/s eta 0:00:02\r\u001b[K     |█████████████████               | 10.4 MB 4.9 MB/s eta 0:00:02\r\u001b[K     |█████████████████               | 10.5 MB 4.9 MB/s eta 0:00:02\r\u001b[K     |█████████████████▏              | 10.5 MB 4.9 MB/s eta 0:00:02\r\u001b[K     |█████████████████▏              | 10.5 MB 4.9 MB/s eta 0:00:02\r\u001b[K     |█████████████████▏              | 10.5 MB 4.9 MB/s eta 0:00:02\r\u001b[K     |█████████████████▏              | 10.5 MB 4.9 MB/s eta 0:00:02\r\u001b[K     |█████████████████▏              | 10.5 MB 4.9 MB/s eta 0:00:02\r\u001b[K     |█████████████████▏              | 10.5 MB 4.9 MB/s eta 0:00:02\r\u001b[K     |█████████████████▎              | 10.5 MB 4.9 MB/s eta 0:00:02\r\u001b[K     |█████████████████▎              | 10.5 MB 4.9 MB/s eta 0:00:02\r\u001b[K     |█████████████████▎              | 10.5 MB 4.9 MB/s eta 0:00:02\r\u001b[K     |█████████████████▎              | 10.6 MB 4.9 MB/s eta 0:00:02\r\u001b[K     |█████████████████▎              | 10.6 MB 4.9 MB/s eta 0:00:02\r\u001b[K     |█████████████████▎              | 10.6 MB 4.9 MB/s eta 0:00:02\r\u001b[K     |█████████████████▎              | 10.6 MB 4.9 MB/s eta 0:00:02\r\u001b[K     |█████████████████▍              | 10.6 MB 4.9 MB/s eta 0:00:02\r\u001b[K     |█████████████████▍              | 10.6 MB 4.9 MB/s eta 0:00:02\r\u001b[K     |█████████████████▍              | 10.6 MB 4.9 MB/s eta 0:00:02\r\u001b[K     |█████████████████▍              | 10.6 MB 4.9 MB/s eta 0:00:02\r\u001b[K     |█████████████████▍              | 10.6 MB 4.9 MB/s eta 0:00:02\r\u001b[K     |█████████████████▍              | 10.6 MB 4.9 MB/s eta 0:00:02\r\u001b[K     |█████████████████▌              | 10.7 MB 4.9 MB/s eta 0:00:02\r\u001b[K     |█████████████████▌              | 10.7 MB 4.9 MB/s eta 0:00:02\r\u001b[K     |█████████████████▌              | 10.7 MB 4.9 MB/s eta 0:00:02\r\u001b[K     |█████████████████▌              | 10.7 MB 4.9 MB/s eta 0:00:02\r\u001b[K     |█████████████████▌              | 10.7 MB 4.9 MB/s eta 0:00:02\r\u001b[K     |█████████████████▌              | 10.7 MB 4.9 MB/s eta 0:00:02\r\u001b[K     |█████████████████▌              | 10.7 MB 4.9 MB/s eta 0:00:02\r\u001b[K     |█████████████████▋              | 10.7 MB 4.9 MB/s eta 0:00:02\r\u001b[K     |█████████████████▋              | 10.7 MB 4.9 MB/s eta 0:00:02\r\u001b[K     |█████████████████▋              | 10.8 MB 4.9 MB/s eta 0:00:02\r\u001b[K     |█████████████████▋              | 10.8 MB 4.9 MB/s eta 0:00:02\r\u001b[K     |█████████████████▋              | 10.8 MB 4.9 MB/s eta 0:00:02\r\u001b[K     |█████████████████▋              | 10.8 MB 4.9 MB/s eta 0:00:02\r\u001b[K     |█████████████████▋              | 10.8 MB 4.9 MB/s eta 0:00:02\r\u001b[K     |█████████████████▊              | 10.8 MB 4.9 MB/s eta 0:00:02\r\u001b[K     |█████████████████▊              | 10.8 MB 4.9 MB/s eta 0:00:02\r\u001b[K     |█████████████████▊              | 10.8 MB 4.9 MB/s eta 0:00:02\r\u001b[K     |█████████████████▊              | 10.8 MB 4.9 MB/s eta 0:00:02\r\u001b[K     |█████████████████▊              | 10.8 MB 4.9 MB/s eta 0:00:02\r\u001b[K     |█████████████████▊              | 10.9 MB 4.9 MB/s eta 0:00:02\r\u001b[K     |█████████████████▉              | 10.9 MB 4.9 MB/s eta 0:00:02\r\u001b[K     |█████████████████▉              | 10.9 MB 4.9 MB/s eta 0:00:02\r\u001b[K     |█████████████████▉              | 10.9 MB 4.9 MB/s eta 0:00:02\r\u001b[K     |█████████████████▉              | 10.9 MB 4.9 MB/s eta 0:00:02\r\u001b[K     |█████████████████▉              | 10.9 MB 4.9 MB/s eta 0:00:02\r\u001b[K     |█████████████████▉              | 10.9 MB 4.9 MB/s eta 0:00:02\r\u001b[K     |█████████████████▉              | 10.9 MB 4.9 MB/s eta 0:00:02\r\u001b[K     |██████████████████              | 10.9 MB 4.9 MB/s eta 0:00:02\r\u001b[K     |██████████████████              | 10.9 MB 4.9 MB/s eta 0:00:02\r\u001b[K     |██████████████████              | 11.0 MB 4.9 MB/s eta 0:00:02\r\u001b[K     |██████████████████              | 11.0 MB 4.9 MB/s eta 0:00:02\r\u001b[K     |██████████████████              | 11.0 MB 4.9 MB/s eta 0:00:02\r\u001b[K     |██████████████████              | 11.0 MB 4.9 MB/s eta 0:00:02\r\u001b[K     |██████████████████              | 11.0 MB 4.9 MB/s eta 0:00:02\r\u001b[K     |██████████████████              | 11.0 MB 4.9 MB/s eta 0:00:02\r\u001b[K     |██████████████████              | 11.0 MB 4.9 MB/s eta 0:00:02\r\u001b[K     |██████████████████              | 11.0 MB 4.9 MB/s eta 0:00:02\r\u001b[K     |██████████████████              | 11.0 MB 4.9 MB/s eta 0:00:02\r\u001b[K     |██████████████████              | 11.0 MB 4.9 MB/s eta 0:00:02\r\u001b[K     |██████████████████              | 11.1 MB 4.9 MB/s eta 0:00:02\r\u001b[K     |██████████████████▏             | 11.1 MB 4.9 MB/s eta 0:00:02\r\u001b[K     |██████████████████▏             | 11.1 MB 4.9 MB/s eta 0:00:02\r\u001b[K     |██████████████████▏             | 11.1 MB 4.9 MB/s eta 0:00:02\r\u001b[K     |██████████████████▏             | 11.1 MB 4.9 MB/s eta 0:00:02\r\u001b[K     |██████████████████▏             | 11.1 MB 4.9 MB/s eta 0:00:02\r\u001b[K     |██████████████████▏             | 11.1 MB 4.9 MB/s eta 0:00:02\r\u001b[K     |██████████████████▏             | 11.1 MB 4.9 MB/s eta 0:00:02\r\u001b[K     |██████████████████▎             | 11.1 MB 4.9 MB/s eta 0:00:02\r\u001b[K     |██████████████████▎             | 11.2 MB 4.9 MB/s eta 0:00:02\r\u001b[K     |██████████████████▎             | 11.2 MB 4.9 MB/s eta 0:00:02\r\u001b[K     |██████████████████▎             | 11.2 MB 4.9 MB/s eta 0:00:02\r\u001b[K     |██████████████████▎             | 11.2 MB 4.9 MB/s eta 0:00:02\r\u001b[K     |██████████████████▎             | 11.2 MB 4.9 MB/s eta 0:00:02\r\u001b[K     |██████████████████▍             | 11.2 MB 4.9 MB/s eta 0:00:02\r\u001b[K     |██████████████████▍             | 11.2 MB 4.9 MB/s eta 0:00:02\r\u001b[K     |██████████████████▍             | 11.2 MB 4.9 MB/s eta 0:00:02\r\u001b[K     |██████████████████▍             | 11.2 MB 4.9 MB/s eta 0:00:02\r\u001b[K     |██████████████████▍             | 11.2 MB 4.9 MB/s eta 0:00:02\r\u001b[K     |██████████████████▍             | 11.3 MB 4.9 MB/s eta 0:00:02\r\u001b[K     |██████████████████▍             | 11.3 MB 4.9 MB/s eta 0:00:02\r\u001b[K     |██████████████████▌             | 11.3 MB 4.9 MB/s eta 0:00:02\r\u001b[K     |██████████████████▌             | 11.3 MB 4.9 MB/s eta 0:00:02\r\u001b[K     |██████████████████▌             | 11.3 MB 4.9 MB/s eta 0:00:02\r\u001b[K     |██████████████████▌             | 11.3 MB 4.9 MB/s eta 0:00:02\r\u001b[K     |██████████████████▌             | 11.3 MB 4.9 MB/s eta 0:00:02\r\u001b[K     |██████████████████▌             | 11.3 MB 4.9 MB/s eta 0:00:02\r\u001b[K     |██████████████████▌             | 11.3 MB 4.9 MB/s eta 0:00:02\r\u001b[K     |██████████████████▋             | 11.3 MB 4.9 MB/s eta 0:00:02\r\u001b[K     |██████████████████▋             | 11.4 MB 4.9 MB/s eta 0:00:02\r\u001b[K     |██████████████████▋             | 11.4 MB 4.9 MB/s eta 0:00:02\r\u001b[K     |██████████████████▋             | 11.4 MB 4.9 MB/s eta 0:00:02\r\u001b[K     |██████████████████▋             | 11.4 MB 4.9 MB/s eta 0:00:02\r\u001b[K     |██████████████████▋             | 11.4 MB 4.9 MB/s eta 0:00:02\r\u001b[K     |██████████████████▊             | 11.4 MB 4.9 MB/s eta 0:00:02\r\u001b[K     |██████████████████▊             | 11.4 MB 4.9 MB/s eta 0:00:02\r\u001b[K     |██████████████████▊             | 11.4 MB 4.9 MB/s eta 0:00:02\r\u001b[K     |██████████████████▊             | 11.4 MB 4.9 MB/s eta 0:00:02\r\u001b[K     |██████████████████▊             | 11.4 MB 4.9 MB/s eta 0:00:02\r\u001b[K     |██████████████████▊             | 11.5 MB 4.9 MB/s eta 0:00:02\r\u001b[K     |██████████████████▊             | 11.5 MB 4.9 MB/s eta 0:00:02\r\u001b[K     |██████████████████▉             | 11.5 MB 4.9 MB/s eta 0:00:02\r\u001b[K     |██████████████████▉             | 11.5 MB 4.9 MB/s eta 0:00:02\r\u001b[K     |██████████████████▉             | 11.5 MB 4.9 MB/s eta 0:00:02\r\u001b[K     |██████████████████▉             | 11.5 MB 4.9 MB/s eta 0:00:02\r\u001b[K     |██████████████████▉             | 11.5 MB 4.9 MB/s eta 0:00:02\r\u001b[K     |██████████████████▉             | 11.5 MB 4.9 MB/s eta 0:00:02\r\u001b[K     |██████████████████▉             | 11.5 MB 4.9 MB/s eta 0:00:02\r\u001b[K     |███████████████████             | 11.6 MB 4.9 MB/s eta 0:00:02\r\u001b[K     |███████████████████             | 11.6 MB 4.9 MB/s eta 0:00:02\r\u001b[K     |███████████████████             | 11.6 MB 4.9 MB/s eta 0:00:02\r\u001b[K     |███████████████████             | 11.6 MB 4.9 MB/s eta 0:00:02\r\u001b[K     |███████████████████             | 11.6 MB 4.9 MB/s eta 0:00:02\r\u001b[K     |███████████████████             | 11.6 MB 4.9 MB/s eta 0:00:02\r\u001b[K     |███████████████████             | 11.6 MB 4.9 MB/s eta 0:00:02\r\u001b[K     |███████████████████             | 11.6 MB 4.9 MB/s eta 0:00:02\r\u001b[K     |███████████████████             | 11.6 MB 4.9 MB/s eta 0:00:02\r\u001b[K     |███████████████████             | 11.6 MB 4.9 MB/s eta 0:00:02\r\u001b[K     |███████████████████             | 11.7 MB 4.9 MB/s eta 0:00:02\r\u001b[K     |███████████████████             | 11.7 MB 4.9 MB/s eta 0:00:02\r\u001b[K     |███████████████████             | 11.7 MB 4.9 MB/s eta 0:00:02\r\u001b[K     |███████████████████▏            | 11.7 MB 4.9 MB/s eta 0:00:02\r\u001b[K     |███████████████████▏            | 11.7 MB 4.9 MB/s eta 0:00:02\r\u001b[K     |███████████████████▏            | 11.7 MB 4.9 MB/s eta 0:00:02\r\u001b[K     |███████████████████▏            | 11.7 MB 4.9 MB/s eta 0:00:02\r\u001b[K     |███████████████████▏            | 11.7 MB 4.9 MB/s eta 0:00:02\r\u001b[K     |███████████████████▏            | 11.7 MB 4.9 MB/s eta 0:00:02\r\u001b[K     |███████████████████▏            | 11.7 MB 4.9 MB/s eta 0:00:02\r\u001b[K     |███████████████████▎            | 11.8 MB 4.9 MB/s eta 0:00:02\r\u001b[K     |███████████████████▎            | 11.8 MB 4.9 MB/s eta 0:00:02\r\u001b[K     |███████████████████▎            | 11.8 MB 4.9 MB/s eta 0:00:02\r\u001b[K     |███████████████████▎            | 11.8 MB 4.9 MB/s eta 0:00:02\r\u001b[K     |███████████████████▎            | 11.8 MB 4.9 MB/s eta 0:00:02\r\u001b[K     |███████████████████▎            | 11.8 MB 4.9 MB/s eta 0:00:02\r\u001b[K     |███████████████████▍            | 11.8 MB 4.9 MB/s eta 0:00:02\r\u001b[K     |███████████████████▍            | 11.8 MB 4.9 MB/s eta 0:00:02\r\u001b[K     |███████████████████▍            | 11.8 MB 4.9 MB/s eta 0:00:02\r\u001b[K     |███████████████████▍            | 11.8 MB 4.9 MB/s eta 0:00:02\r\u001b[K     |███████████████████▍            | 11.9 MB 4.9 MB/s eta 0:00:02\r\u001b[K     |███████████████████▍            | 11.9 MB 4.9 MB/s eta 0:00:02\r\u001b[K     |███████████████████▍            | 11.9 MB 4.9 MB/s eta 0:00:02\r\u001b[K     |███████████████████▌            | 11.9 MB 4.9 MB/s eta 0:00:02\r\u001b[K     |███████████████████▌            | 11.9 MB 4.9 MB/s eta 0:00:02\r\u001b[K     |███████████████████▌            | 11.9 MB 4.9 MB/s eta 0:00:02\r\u001b[K     |███████████████████▌            | 11.9 MB 4.9 MB/s eta 0:00:02\r\u001b[K     |███████████████████▌            | 11.9 MB 4.9 MB/s eta 0:00:02\r\u001b[K     |███████████████████▌            | 11.9 MB 4.9 MB/s eta 0:00:02\r\u001b[K     |███████████████████▋            | 12.0 MB 4.9 MB/s eta 0:00:02\r\u001b[K     |███████████████████▋            | 12.0 MB 4.9 MB/s eta 0:00:02\r\u001b[K     |███████████████████▋            | 12.0 MB 4.9 MB/s eta 0:00:02\r\u001b[K     |███████████████████▋            | 12.0 MB 4.9 MB/s eta 0:00:02\r\u001b[K     |███████████████████▋            | 12.0 MB 4.9 MB/s eta 0:00:02\r\u001b[K     |███████████████████▋            | 12.0 MB 4.9 MB/s eta 0:00:02\r\u001b[K     |███████████████████▋            | 12.0 MB 4.9 MB/s eta 0:00:02\r\u001b[K     |███████████████████▊            | 12.0 MB 4.9 MB/s eta 0:00:02\r\u001b[K     |███████████████████▊            | 12.0 MB 4.9 MB/s eta 0:00:02\r\u001b[K     |███████████████████▊            | 12.0 MB 4.9 MB/s eta 0:00:02\r\u001b[K     |███████████████████▊            | 12.1 MB 4.9 MB/s eta 0:00:02"
     ]
    },
    {
     "name": "stdout",
     "output_type": "stream",
     "text": [
      "\r\u001b[K     |███████████████████▊            | 12.1 MB 4.9 MB/s eta 0:00:02\r\u001b[K     |███████████████████▊            | 12.1 MB 4.9 MB/s eta 0:00:02\r\u001b[K     |███████████████████▊            | 12.1 MB 4.9 MB/s eta 0:00:02\r\u001b[K     |███████████████████▉            | 12.1 MB 4.9 MB/s eta 0:00:02\r\u001b[K     |███████████████████▉            | 12.1 MB 4.9 MB/s eta 0:00:02\r\u001b[K     |███████████████████▉            | 12.1 MB 4.9 MB/s eta 0:00:02\r\u001b[K     |███████████████████▉            | 12.1 MB 4.9 MB/s eta 0:00:02\r\u001b[K     |███████████████████▉            | 12.1 MB 4.9 MB/s eta 0:00:02\r\u001b[K     |███████████████████▉            | 12.1 MB 4.9 MB/s eta 0:00:02\r\u001b[K     |████████████████████            | 12.2 MB 4.9 MB/s eta 0:00:02\r\u001b[K     |████████████████████            | 12.2 MB 4.9 MB/s eta 0:00:02\r\u001b[K     |████████████████████            | 12.2 MB 4.9 MB/s eta 0:00:02\r\u001b[K     |████████████████████            | 12.2 MB 4.9 MB/s eta 0:00:02\r\u001b[K     |████████████████████            | 12.2 MB 4.9 MB/s eta 0:00:02\r\u001b[K     |████████████████████            | 12.2 MB 4.9 MB/s eta 0:00:02\r\u001b[K     |████████████████████            | 12.2 MB 4.9 MB/s eta 0:00:02\r\u001b[K     |████████████████████            | 12.2 MB 4.9 MB/s eta 0:00:02\r\u001b[K     |████████████████████            | 12.2 MB 4.9 MB/s eta 0:00:02\r\u001b[K     |████████████████████            | 12.2 MB 4.9 MB/s eta 0:00:02\r\u001b[K     |████████████████████            | 12.3 MB 4.9 MB/s eta 0:00:02\r\u001b[K     |████████████████████            | 12.3 MB 4.9 MB/s eta 0:00:02\r\u001b[K     |████████████████████            | 12.3 MB 4.9 MB/s eta 0:00:02\r\u001b[K     |████████████████████            | 12.3 MB 4.9 MB/s eta 0:00:02\r\u001b[K     |████████████████████▏           | 12.3 MB 4.9 MB/s eta 0:00:02\r\u001b[K     |████████████████████▏           | 12.3 MB 4.9 MB/s eta 0:00:02\r\u001b[K     |████████████████████▏           | 12.3 MB 4.9 MB/s eta 0:00:02\r\u001b[K     |████████████████████▏           | 12.3 MB 4.9 MB/s eta 0:00:02\r\u001b[K     |████████████████████▏           | 12.3 MB 4.9 MB/s eta 0:00:02\r\u001b[K     |████████████████████▏           | 12.3 MB 4.9 MB/s eta 0:00:02\r\u001b[K     |████████████████████▎           | 12.4 MB 4.9 MB/s eta 0:00:02\r\u001b[K     |████████████████████▎           | 12.4 MB 4.9 MB/s eta 0:00:02\r\u001b[K     |████████████████████▎           | 12.4 MB 4.9 MB/s eta 0:00:02\r\u001b[K     |████████████████████▎           | 12.4 MB 4.9 MB/s eta 0:00:02\r\u001b[K     |████████████████████▎           | 12.4 MB 4.9 MB/s eta 0:00:02\r\u001b[K     |████████████████████▎           | 12.4 MB 4.9 MB/s eta 0:00:02\r\u001b[K     |████████████████████▎           | 12.4 MB 4.9 MB/s eta 0:00:02\r\u001b[K     |████████████████████▍           | 12.4 MB 4.9 MB/s eta 0:00:02\r\u001b[K     |████████████████████▍           | 12.4 MB 4.9 MB/s eta 0:00:02\r\u001b[K     |████████████████████▍           | 12.5 MB 4.9 MB/s eta 0:00:02\r\u001b[K     |████████████████████▍           | 12.5 MB 4.9 MB/s eta 0:00:02\r\u001b[K     |████████████████████▍           | 12.5 MB 4.9 MB/s eta 0:00:02\r\u001b[K     |████████████████████▍           | 12.5 MB 4.9 MB/s eta 0:00:02\r\u001b[K     |████████████████████▌           | 12.5 MB 4.9 MB/s eta 0:00:02\r\u001b[K     |████████████████████▌           | 12.5 MB 4.9 MB/s eta 0:00:02\r\u001b[K     |████████████████████▌           | 12.5 MB 4.9 MB/s eta 0:00:02\r\u001b[K     |████████████████████▌           | 12.5 MB 4.9 MB/s eta 0:00:02\r\u001b[K     |████████████████████▌           | 12.5 MB 4.9 MB/s eta 0:00:02\r\u001b[K     |████████████████████▌           | 12.5 MB 4.9 MB/s eta 0:00:02\r\u001b[K     |████████████████████▌           | 12.6 MB 4.9 MB/s eta 0:00:02\r\u001b[K     |████████████████████▋           | 12.6 MB 4.9 MB/s eta 0:00:02\r\u001b[K     |████████████████████▋           | 12.6 MB 4.9 MB/s eta 0:00:02\r\u001b[K     |████████████████████▋           | 12.6 MB 4.9 MB/s eta 0:00:02\r\u001b[K     |████████████████████▋           | 12.6 MB 4.9 MB/s eta 0:00:02\r\u001b[K     |████████████████████▋           | 12.6 MB 4.9 MB/s eta 0:00:02\r\u001b[K     |████████████████████▋           | 12.6 MB 4.9 MB/s eta 0:00:02\r\u001b[K     |████████████████████▋           | 12.6 MB 4.9 MB/s eta 0:00:02\r\u001b[K     |████████████████████▊           | 12.6 MB 4.9 MB/s eta 0:00:02\r\u001b[K     |████████████████████▊           | 12.6 MB 4.9 MB/s eta 0:00:02\r\u001b[K     |████████████████████▊           | 12.7 MB 4.9 MB/s eta 0:00:02\r\u001b[K     |████████████████████▊           | 12.7 MB 4.9 MB/s eta 0:00:02\r\u001b[K     |████████████████████▊           | 12.7 MB 4.9 MB/s eta 0:00:02\r\u001b[K     |████████████████████▊           | 12.7 MB 4.9 MB/s eta 0:00:02\r\u001b[K     |████████████████████▉           | 12.7 MB 4.9 MB/s eta 0:00:02\r\u001b[K     |████████████████████▉           | 12.7 MB 4.9 MB/s eta 0:00:02\r\u001b[K     |████████████████████▉           | 12.7 MB 4.9 MB/s eta 0:00:02\r\u001b[K     |████████████████████▉           | 12.7 MB 4.9 MB/s eta 0:00:02\r\u001b[K     |████████████████████▉           | 12.7 MB 4.9 MB/s eta 0:00:02\r\u001b[K     |████████████████████▉           | 12.7 MB 4.9 MB/s eta 0:00:02\r\u001b[K     |████████████████████▉           | 12.8 MB 4.9 MB/s eta 0:00:02\r\u001b[K     |█████████████████████           | 12.8 MB 4.9 MB/s eta 0:00:02\r\u001b[K     |█████████████████████           | 12.8 MB 4.9 MB/s eta 0:00:02\r\u001b[K     |█████████████████████           | 12.8 MB 4.9 MB/s eta 0:00:02\r\u001b[K     |█████████████████████           | 12.8 MB 4.9 MB/s eta 0:00:02\r\u001b[K     |█████████████████████           | 12.8 MB 4.9 MB/s eta 0:00:02\r\u001b[K     |█████████████████████           | 12.8 MB 4.9 MB/s eta 0:00:02\r\u001b[K     |█████████████████████           | 12.8 MB 4.9 MB/s eta 0:00:02\r\u001b[K     |█████████████████████           | 12.8 MB 4.9 MB/s eta 0:00:02\r\u001b[K     |█████████████████████           | 12.9 MB 4.9 MB/s eta 0:00:02\r\u001b[K     |█████████████████████           | 12.9 MB 4.9 MB/s eta 0:00:02\r\u001b[K     |█████████████████████           | 12.9 MB 4.9 MB/s eta 0:00:02\r\u001b[K     |█████████████████████           | 12.9 MB 4.9 MB/s eta 0:00:02\r\u001b[K     |█████████████████████           | 12.9 MB 4.9 MB/s eta 0:00:02\r\u001b[K     |█████████████████████▏          | 12.9 MB 4.9 MB/s eta 0:00:02\r\u001b[K     |█████████████████████▏          | 12.9 MB 4.9 MB/s eta 0:00:02\r\u001b[K     |█████████████████████▏          | 12.9 MB 4.9 MB/s eta 0:00:02\r\u001b[K     |█████████████████████▏          | 12.9 MB 4.9 MB/s eta 0:00:02\r\u001b[K     |█████████████████████▏          | 12.9 MB 4.9 MB/s eta 0:00:02\r\u001b[K     |█████████████████████▏          | 13.0 MB 4.9 MB/s eta 0:00:02\r\u001b[K     |█████████████████████▏          | 13.0 MB 4.9 MB/s eta 0:00:02\r\u001b[K     |█████████████████████▎          | 13.0 MB 4.9 MB/s eta 0:00:02\r\u001b[K     |█████████████████████▎          | 13.0 MB 4.9 MB/s eta 0:00:02\r\u001b[K     |█████████████████████▎          | 13.0 MB 4.9 MB/s eta 0:00:02\r\u001b[K     |█████████████████████▎          | 13.0 MB 4.9 MB/s eta 0:00:02\r\u001b[K     |█████████████████████▎          | 13.0 MB 4.9 MB/s eta 0:00:02\r\u001b[K     |█████████████████████▎          | 13.0 MB 4.9 MB/s eta 0:00:02\r\u001b[K     |█████████████████████▍          | 13.0 MB 4.9 MB/s eta 0:00:02\r\u001b[K     |█████████████████████▍          | 13.0 MB 4.9 MB/s eta 0:00:02\r\u001b[K     |█████████████████████▍          | 13.1 MB 4.9 MB/s eta 0:00:02\r\u001b[K     |█████████████████████▍          | 13.1 MB 4.9 MB/s eta 0:00:02\r\u001b[K     |█████████████████████▍          | 13.1 MB 4.9 MB/s eta 0:00:02\r\u001b[K     |█████████████████████▍          | 13.1 MB 4.9 MB/s eta 0:00:02\r\u001b[K     |█████████████████████▍          | 13.1 MB 4.9 MB/s eta 0:00:02\r\u001b[K     |█████████████████████▌          | 13.1 MB 4.9 MB/s eta 0:00:02\r\u001b[K     |█████████████████████▌          | 13.1 MB 4.9 MB/s eta 0:00:02\r\u001b[K     |█████████████████████▌          | 13.1 MB 4.9 MB/s eta 0:00:02\r\u001b[K     |█████████████████████▌          | 13.1 MB 4.9 MB/s eta 0:00:02\r\u001b[K     |█████████████████████▌          | 13.1 MB 4.9 MB/s eta 0:00:02\r\u001b[K     |█████████████████████▌          | 13.2 MB 4.9 MB/s eta 0:00:02\r\u001b[K     |█████████████████████▌          | 13.2 MB 4.9 MB/s eta 0:00:02\r\u001b[K     |█████████████████████▋          | 13.2 MB 4.9 MB/s eta 0:00:02\r\u001b[K     |█████████████████████▋          | 13.2 MB 4.9 MB/s eta 0:00:02\r\u001b[K     |█████████████████████▋          | 13.2 MB 4.9 MB/s eta 0:00:02\r\u001b[K     |█████████████████████▋          | 13.2 MB 4.9 MB/s eta 0:00:02\r\u001b[K     |█████████████████████▋          | 13.2 MB 4.9 MB/s eta 0:00:02\r\u001b[K     |█████████████████████▋          | 13.2 MB 4.9 MB/s eta 0:00:02\r\u001b[K     |█████████████████████▊          | 13.2 MB 4.9 MB/s eta 0:00:02\r\u001b[K     |█████████████████████▊          | 13.3 MB 4.9 MB/s eta 0:00:02\r\u001b[K     |█████████████████████▊          | 13.3 MB 4.9 MB/s eta 0:00:02\r\u001b[K     |█████████████████████▊          | 13.3 MB 4.9 MB/s eta 0:00:02\r\u001b[K     |█████████████████████▊          | 13.3 MB 4.9 MB/s eta 0:00:02\r\u001b[K     |█████████████████████▊          | 13.3 MB 4.9 MB/s eta 0:00:02\r\u001b[K     |█████████████████████▊          | 13.3 MB 4.9 MB/s eta 0:00:02\r\u001b[K     |█████████████████████▉          | 13.3 MB 4.9 MB/s eta 0:00:02\r\u001b[K     |█████████████████████▉          | 13.3 MB 4.9 MB/s eta 0:00:02\r\u001b[K     |█████████████████████▉          | 13.3 MB 4.9 MB/s eta 0:00:02\r\u001b[K     |█████████████████████▉          | 13.3 MB 4.9 MB/s eta 0:00:02\r\u001b[K     |█████████████████████▉          | 13.4 MB 4.9 MB/s eta 0:00:02\r\u001b[K     |█████████████████████▉          | 13.4 MB 4.9 MB/s eta 0:00:02\r\u001b[K     |█████████████████████▉          | 13.4 MB 4.9 MB/s eta 0:00:02\r\u001b[K     |██████████████████████          | 13.4 MB 4.9 MB/s eta 0:00:02\r\u001b[K     |██████████████████████          | 13.4 MB 4.9 MB/s eta 0:00:02\r\u001b[K     |██████████████████████          | 13.4 MB 4.9 MB/s eta 0:00:02\r\u001b[K     |██████████████████████          | 13.4 MB 4.9 MB/s eta 0:00:02\r\u001b[K     |██████████████████████          | 13.4 MB 4.9 MB/s eta 0:00:02\r\u001b[K     |██████████████████████          | 13.4 MB 4.9 MB/s eta 0:00:02\r\u001b[K     |██████████████████████          | 13.4 MB 4.9 MB/s eta 0:00:02\r\u001b[K     |██████████████████████          | 13.5 MB 4.9 MB/s eta 0:00:02\r\u001b[K     |██████████████████████          | 13.5 MB 4.9 MB/s eta 0:00:02\r\u001b[K     |██████████████████████          | 13.5 MB 4.9 MB/s eta 0:00:02\r\u001b[K     |██████████████████████          | 13.5 MB 4.9 MB/s eta 0:00:02\r\u001b[K     |██████████████████████          | 13.5 MB 4.9 MB/s eta 0:00:02\r\u001b[K     |██████████████████████          | 13.5 MB 4.9 MB/s eta 0:00:02\r\u001b[K     |██████████████████████▏         | 13.5 MB 4.9 MB/s eta 0:00:02\r\u001b[K     |██████████████████████▏         | 13.5 MB 4.9 MB/s eta 0:00:02\r\u001b[K     |██████████████████████▏         | 13.5 MB 4.9 MB/s eta 0:00:02\r\u001b[K     |██████████████████████▏         | 13.5 MB 4.9 MB/s eta 0:00:02\r\u001b[K     |██████████████████████▏         | 13.6 MB 4.9 MB/s eta 0:00:02\r\u001b[K     |██████████████████████▏         | 13.6 MB 4.9 MB/s eta 0:00:02\r\u001b[K     |██████████████████████▏         | 13.6 MB 4.9 MB/s eta 0:00:02\r\u001b[K     |██████████████████████▎         | 13.6 MB 4.9 MB/s eta 0:00:02\r\u001b[K     |██████████████████████▎         | 13.6 MB 4.9 MB/s eta 0:00:02\r\u001b[K     |██████████████████████▎         | 13.6 MB 4.9 MB/s eta 0:00:02\r\u001b[K     |██████████████████████▎         | 13.6 MB 4.9 MB/s eta 0:00:02\r\u001b[K     |██████████████████████▎         | 13.6 MB 4.9 MB/s eta 0:00:02\r\u001b[K     |██████████████████████▎         | 13.6 MB 4.9 MB/s eta 0:00:02\r\u001b[K     |██████████████████████▍         | 13.6 MB 4.9 MB/s eta 0:00:02\r\u001b[K     |██████████████████████▍         | 13.7 MB 4.9 MB/s eta 0:00:02\r\u001b[K     |██████████████████████▍         | 13.7 MB 4.9 MB/s eta 0:00:02\r\u001b[K     |██████████████████████▍         | 13.7 MB 4.9 MB/s eta 0:00:02\r\u001b[K     |██████████████████████▍         | 13.7 MB 4.9 MB/s eta 0:00:02\r\u001b[K     |██████████████████████▍         | 13.7 MB 4.9 MB/s eta 0:00:02\r\u001b[K     |██████████████████████▍         | 13.7 MB 4.9 MB/s eta 0:00:02\r\u001b[K     |██████████████████████▌         | 13.7 MB 4.9 MB/s eta 0:00:02\r\u001b[K     |██████████████████████▌         | 13.7 MB 4.9 MB/s eta 0:00:02\r\u001b[K     |██████████████████████▌         | 13.7 MB 4.9 MB/s eta 0:00:02\r\u001b[K     |██████████████████████▌         | 13.8 MB 4.9 MB/s eta 0:00:02\r\u001b[K     |██████████████████████▌         | 13.8 MB 4.9 MB/s eta 0:00:02\r\u001b[K     |██████████████████████▌         | 13.8 MB 4.9 MB/s eta 0:00:02\r\u001b[K     |██████████████████████▋         | 13.8 MB 4.9 MB/s eta 0:00:02\r\u001b[K     |██████████████████████▋         | 13.8 MB 4.9 MB/s eta 0:00:02\r\u001b[K     |██████████████████████▋         | 13.8 MB 4.9 MB/s eta 0:00:02\r\u001b[K     |██████████████████████▋         | 13.8 MB 4.9 MB/s eta 0:00:02\r\u001b[K     |██████████████████████▋         | 13.8 MB 4.9 MB/s eta 0:00:02\r\u001b[K     |██████████████████████▋         | 13.8 MB 4.9 MB/s eta 0:00:02\r\u001b[K     |██████████████████████▋         | 13.8 MB 4.9 MB/s eta 0:00:02\r\u001b[K     |██████████████████████▊         | 13.9 MB 4.9 MB/s eta 0:00:02\r\u001b[K     |██████████████████████▊         | 13.9 MB 4.9 MB/s eta 0:00:02\r\u001b[K     |██████████████████████▊         | 13.9 MB 4.9 MB/s eta 0:00:02\r\u001b[K     |██████████████████████▊         | 13.9 MB 4.9 MB/s eta 0:00:02\r\u001b[K     |██████████████████████▊         | 13.9 MB 4.9 MB/s eta 0:00:02\r\u001b[K     |██████████████████████▊         | 13.9 MB 4.9 MB/s eta 0:00:02\r\u001b[K     |██████████████████████▊         | 13.9 MB 4.9 MB/s eta 0:00:02\r\u001b[K     |██████████████████████▉         | 13.9 MB 4.9 MB/s eta 0:00:02\r\u001b[K     |██████████████████████▉         | 13.9 MB 4.9 MB/s eta 0:00:02\r\u001b[K     |██████████████████████▉         | 13.9 MB 4.9 MB/s eta 0:00:02\r\u001b[K     |██████████████████████▉         | 14.0 MB 4.9 MB/s eta 0:00:02\r\u001b[K     |██████████████████████▉         | 14.0 MB 4.9 MB/s eta 0:00:02\r\u001b[K     |██████████████████████▉         | 14.0 MB 4.9 MB/s eta 0:00:02\r\u001b[K     |███████████████████████         | 14.0 MB 4.9 MB/s eta 0:00:02\r\u001b[K     |███████████████████████         | 14.0 MB 4.9 MB/s eta 0:00:02\r\u001b[K     |███████████████████████         | 14.0 MB 4.9 MB/s eta 0:00:02\r\u001b[K     |███████████████████████         | 14.0 MB 4.9 MB/s eta 0:00:02\r\u001b[K     |███████████████████████         | 14.0 MB 4.9 MB/s eta 0:00:02\r\u001b[K     |███████████████████████         | 14.0 MB 4.9 MB/s eta 0:00:02\r\u001b[K     |███████████████████████         | 14.0 MB 4.9 MB/s eta 0:00:02\r\u001b[K     |███████████████████████         | 14.1 MB 4.9 MB/s eta 0:00:02\r\u001b[K     |███████████████████████         | 14.1 MB 4.9 MB/s eta 0:00:02\r\u001b[K     |███████████████████████         | 14.1 MB 4.9 MB/s eta 0:00:02\r\u001b[K     |███████████████████████         | 14.1 MB 4.9 MB/s eta 0:00:02\r\u001b[K     |███████████████████████         | 14.1 MB 4.9 MB/s eta 0:00:02\r\u001b[K     |███████████████████████         | 14.1 MB 4.9 MB/s eta 0:00:02\r\u001b[K     |███████████████████████         | 14.1 MB 4.9 MB/s eta 0:00:02\r\u001b[K     |███████████████████████▏        | 14.1 MB 4.9 MB/s eta 0:00:02\r\u001b[K     |███████████████████████▏        | 14.1 MB 4.9 MB/s eta 0:00:02\r\u001b[K     |███████████████████████▏        | 14.2 MB 4.9 MB/s eta 0:00:02\r\u001b[K     |███████████████████████▏        | 14.2 MB 4.9 MB/s eta 0:00:02\r\u001b[K     |███████████████████████▏        | 14.2 MB 4.9 MB/s eta 0:00:02\r\u001b[K     |███████████████████████▏        | 14.2 MB 4.9 MB/s eta 0:00:02\r\u001b[K     |███████████████████████▎        | 14.2 MB 4.9 MB/s eta 0:00:02\r\u001b[K     |███████████████████████▎        | 14.2 MB 4.9 MB/s eta 0:00:02\r\u001b[K     |███████████████████████▎        | 14.2 MB 4.9 MB/s eta 0:00:02\r\u001b[K     |███████████████████████▎        | 14.2 MB 4.9 MB/s eta 0:00:02\r\u001b[K     |███████████████████████▎        | 14.2 MB 4.9 MB/s eta 0:00:02\r\u001b[K     |███████████████████████▎        | 14.2 MB 4.9 MB/s eta 0:00:02\r\u001b[K     |███████████████████████▎        | 14.3 MB 4.9 MB/s eta 0:00:02\r\u001b[K     |███████████████████████▍        | 14.3 MB 4.9 MB/s eta 0:00:02\r\u001b[K     |███████████████████████▍        | 14.3 MB 4.9 MB/s eta 0:00:02\r\u001b[K     |███████████████████████▍        | 14.3 MB 4.9 MB/s eta 0:00:02\r\u001b[K     |███████████████████████▍        | 14.3 MB 4.9 MB/s eta 0:00:02\r\u001b[K     |███████████████████████▍        | 14.3 MB 4.9 MB/s eta 0:00:02\r\u001b[K     |███████████████████████▍        | 14.3 MB 4.9 MB/s eta 0:00:02\r\u001b[K     |███████████████████████▌        | 14.3 MB 4.9 MB/s eta 0:00:02\r\u001b[K     |███████████████████████▌        | 14.3 MB 4.9 MB/s eta 0:00:02\r\u001b[K     |███████████████████████▌        | 14.3 MB 4.9 MB/s eta 0:00:02\r\u001b[K     |███████████████████████▌        | 14.4 MB 4.9 MB/s eta 0:00:02\r\u001b[K     |███████████████████████▌        | 14.4 MB 4.9 MB/s eta 0:00:02\r\u001b[K     |███████████████████████▌        | 14.4 MB 4.9 MB/s eta 0:00:02\r\u001b[K     |███████████████████████▌        | 14.4 MB 4.9 MB/s eta 0:00:02\r\u001b[K     |███████████████████████▋        | 14.4 MB 4.9 MB/s eta 0:00:02\r\u001b[K     |███████████████████████▋        | 14.4 MB 4.9 MB/s eta 0:00:02\r\u001b[K     |███████████████████████▋        | 14.4 MB 4.9 MB/s eta 0:00:02\r\u001b[K     |███████████████████████▋        | 14.4 MB 4.9 MB/s eta 0:00:02\r\u001b[K     |███████████████████████▋        | 14.4 MB 4.9 MB/s eta 0:00:02\r\u001b[K     |███████████████████████▋        | 14.4 MB 4.9 MB/s eta 0:00:02\r\u001b[K     |███████████████████████▋        | 14.5 MB 4.9 MB/s eta 0:00:02\r\u001b[K     |███████████████████████▊        | 14.5 MB 4.9 MB/s eta 0:00:02\r\u001b[K     |███████████████████████▊        | 14.5 MB 4.9 MB/s eta 0:00:02\r\u001b[K     |███████████████████████▊        | 14.5 MB 4.9 MB/s eta 0:00:02\r\u001b[K     |███████████████████████▊        | 14.5 MB 4.9 MB/s eta 0:00:02\r\u001b[K     |███████████████████████▊        | 14.5 MB 4.9 MB/s eta 0:00:02\r\u001b[K     |███████████████████████▊        | 14.5 MB 4.9 MB/s eta 0:00:02\r\u001b[K     |███████████████████████▉        | 14.5 MB 4.9 MB/s eta 0:00:02\r\u001b[K     |███████████████████████▉        | 14.5 MB 4.9 MB/s eta 0:00:02\r\u001b[K     |███████████████████████▉        | 14.6 MB 4.9 MB/s eta 0:00:02\r\u001b[K     |███████████████████████▉        | 14.6 MB 4.9 MB/s eta 0:00:02\r\u001b[K     |███████████████████████▉        | 14.6 MB 4.9 MB/s eta 0:00:02\r\u001b[K     |███████████████████████▉        | 14.6 MB 4.9 MB/s eta 0:00:02\r\u001b[K     |███████████████████████▉        | 14.6 MB 4.9 MB/s eta 0:00:02\r\u001b[K     |████████████████████████        | 14.6 MB 4.9 MB/s eta 0:00:02\r\u001b[K     |████████████████████████        | 14.6 MB 4.9 MB/s eta 0:00:02\r\u001b[K     |████████████████████████        | 14.6 MB 4.9 MB/s eta 0:00:02\r\u001b[K     |████████████████████████        | 14.6 MB 4.9 MB/s eta 0:00:02\r\u001b[K     |████████████████████████        | 14.6 MB 4.9 MB/s eta 0:00:02\r\u001b[K     |████████████████████████        | 14.7 MB 4.9 MB/s eta 0:00:02\r\u001b[K     |████████████████████████        | 14.7 MB 4.9 MB/s eta 0:00:02\r\u001b[K     |████████████████████████        | 14.7 MB 4.9 MB/s eta 0:00:01\r\u001b[K     |████████████████████████        | 14.7 MB 4.9 MB/s eta 0:00:01\r\u001b[K     |████████████████████████        | 14.7 MB 4.9 MB/s eta 0:00:01\r\u001b[K     |████████████████████████        | 14.7 MB 4.9 MB/s eta 0:00:01\r\u001b[K     |████████████████████████        | 14.7 MB 4.9 MB/s eta 0:00:01\r\u001b[K     |████████████████████████        | 14.7 MB 4.9 MB/s eta 0:00:01\r\u001b[K     |████████████████████████▏       | 14.7 MB 4.9 MB/s eta 0:00:01\r\u001b[K     |████████████████████████▏       | 14.7 MB 4.9 MB/s eta 0:00:01\r\u001b[K     |████████████████████████▏       | 14.8 MB 4.9 MB/s eta 0:00:01\r\u001b[K     |████████████████████████▏       | 14.8 MB 4.9 MB/s eta 0:00:01\r\u001b[K     |████████████████████████▏       | 14.8 MB 4.9 MB/s eta 0:00:01\r\u001b[K     |████████████████████████▏       | 14.8 MB 4.9 MB/s eta 0:00:01\r\u001b[K     |████████████████████████▏       | 14.8 MB 4.9 MB/s eta 0:00:01\r\u001b[K     |████████████████████████▎       | 14.8 MB 4.9 MB/s eta 0:00:01\r\u001b[K     |████████████████████████▎       | 14.8 MB 4.9 MB/s eta 0:00:01\r\u001b[K     |████████████████████████▎       | 14.8 MB 4.9 MB/s eta 0:00:01\r\u001b[K     |████████████████████████▎       | 14.8 MB 4.9 MB/s eta 0:00:01\r\u001b[K     |████████████████████████▎       | 14.8 MB 4.9 MB/s eta 0:00:01\r\u001b[K     |████████████████████████▎       | 14.9 MB 4.9 MB/s eta 0:00:01\r\u001b[K     |████████████████████████▍       | 14.9 MB 4.9 MB/s eta 0:00:01\r\u001b[K     |████████████████████████▍       | 14.9 MB 4.9 MB/s eta 0:00:01\r\u001b[K     |████████████████████████▍       | 14.9 MB 4.9 MB/s eta 0:00:01\r\u001b[K     |████████████████████████▍       | 14.9 MB 4.9 MB/s eta 0:00:01\r\u001b[K     |████████████████████████▍       | 14.9 MB 4.9 MB/s eta 0:00:01\r\u001b[K     |████████████████████████▍       | 14.9 MB 4.9 MB/s eta 0:00:01\r\u001b[K     |████████████████████████▍       | 14.9 MB 4.9 MB/s eta 0:00:01\r\u001b[K     |████████████████████████▌       | 14.9 MB 4.9 MB/s eta 0:00:01\r\u001b[K     |████████████████████████▌       | 15.0 MB 4.9 MB/s eta 0:00:01\r\u001b[K     |████████████████████████▌       | 15.0 MB 4.9 MB/s eta 0:00:01\r\u001b[K     |████████████████████████▌       | 15.0 MB 4.9 MB/s eta 0:00:01\r\u001b[K     |████████████████████████▌       | 15.0 MB 4.9 MB/s eta 0:00:01\r\u001b[K     |████████████████████████▌       | 15.0 MB 4.9 MB/s eta 0:00:01\r\u001b[K     |████████████████████████▌       | 15.0 MB 4.9 MB/s eta 0:00:01\r\u001b[K     |████████████████████████▋       | 15.0 MB 4.9 MB/s eta 0:00:01\r\u001b[K     |████████████████████████▋       | 15.0 MB 4.9 MB/s eta 0:00:01\r\u001b[K     |████████████████████████▋       | 15.0 MB 4.9 MB/s eta 0:00:01\r\u001b[K     |████████████████████████▋       | 15.0 MB 4.9 MB/s eta 0:00:01\r\u001b[K     |████████████████████████▋       | 15.1 MB 4.9 MB/s eta 0:00:01\r\u001b[K     |████████████████████████▋       | 15.1 MB 4.9 MB/s eta 0:00:01\r\u001b[K     |████████████████████████▊       | 15.1 MB 4.9 MB/s eta 0:00:01\r\u001b[K     |████████████████████████▊       | 15.1 MB 4.9 MB/s eta 0:00:01\r\u001b[K     |████████████████████████▊       | 15.1 MB 4.9 MB/s eta 0:00:01\r\u001b[K     |████████████████████████▊       | 15.1 MB 4.9 MB/s eta 0:00:01\r\u001b[K     |████████████████████████▊       | 15.1 MB 4.9 MB/s eta 0:00:01\r\u001b[K     |████████████████████████▊       | 15.1 MB 4.9 MB/s eta 0:00:01\r\u001b[K     |████████████████████████▊       | 15.1 MB 4.9 MB/s eta 0:00:01\r\u001b[K     |████████████████████████▉       | 15.1 MB 4.9 MB/s eta 0:00:01\r\u001b[K     |████████████████████████▉       | 15.2 MB 4.9 MB/s eta 0:00:01\r\u001b[K     |████████████████████████▉       | 15.2 MB 4.9 MB/s eta 0:00:01\r\u001b[K     |████████████████████████▉       | 15.2 MB 4.9 MB/s eta 0:00:01\r\u001b[K     |████████████████████████▉       | 15.2 MB 4.9 MB/s eta 0:00:01\r\u001b[K     |████████████████████████▉       | 15.2 MB 4.9 MB/s eta 0:00:01\r\u001b[K     |████████████████████████▉       | 15.2 MB 4.9 MB/s eta 0:00:01\r\u001b[K     |█████████████████████████       | 15.2 MB 4.9 MB/s eta 0:00:01\r\u001b[K     |█████████████████████████       | 15.2 MB 4.9 MB/s eta 0:00:01\r\u001b[K     |█████████████████████████       | 15.2 MB 4.9 MB/s eta 0:00:01\r\u001b[K     |█████████████████████████       | 15.2 MB 4.9 MB/s eta 0:00:01\r\u001b[K     |█████████████████████████       | 15.3 MB 4.9 MB/s eta 0:00:01\r\u001b[K     |█████████████████████████       | 15.3 MB 4.9 MB/s eta 0:00:01"
     ]
    },
    {
     "name": "stdout",
     "output_type": "stream",
     "text": [
      "\r\u001b[K     |█████████████████████████       | 15.3 MB 4.9 MB/s eta 0:00:01\r\u001b[K     |█████████████████████████       | 15.3 MB 4.9 MB/s eta 0:00:01\r\u001b[K     |█████████████████████████       | 15.3 MB 4.9 MB/s eta 0:00:01\r\u001b[K     |█████████████████████████       | 15.3 MB 4.9 MB/s eta 0:00:01\r\u001b[K     |█████████████████████████       | 15.3 MB 4.9 MB/s eta 0:00:01\r\u001b[K     |█████████████████████████       | 15.3 MB 4.9 MB/s eta 0:00:01\r\u001b[K     |█████████████████████████       | 15.3 MB 4.9 MB/s eta 0:00:01\r\u001b[K     |█████████████████████████▏      | 15.3 MB 4.9 MB/s eta 0:00:01\r\u001b[K     |█████████████████████████▏      | 15.4 MB 4.9 MB/s eta 0:00:01\r\u001b[K     |█████████████████████████▏      | 15.4 MB 4.9 MB/s eta 0:00:01\r\u001b[K     |█████████████████████████▏      | 15.4 MB 4.9 MB/s eta 0:00:01\r\u001b[K     |█████████████████████████▏      | 15.4 MB 4.9 MB/s eta 0:00:01\r\u001b[K     |█████████████████████████▏      | 15.4 MB 4.9 MB/s eta 0:00:01\r\u001b[K     |█████████████████████████▏      | 15.4 MB 4.9 MB/s eta 0:00:01\r\u001b[K     |█████████████████████████▎      | 15.4 MB 4.9 MB/s eta 0:00:01\r\u001b[K     |█████████████████████████▎      | 15.4 MB 4.9 MB/s eta 0:00:01\r\u001b[K     |█████████████████████████▎      | 15.4 MB 4.9 MB/s eta 0:00:01\r\u001b[K     |█████████████████████████▎      | 15.5 MB 4.9 MB/s eta 0:00:01\r\u001b[K     |█████████████████████████▎      | 15.5 MB 4.9 MB/s eta 0:00:01\r\u001b[K     |█████████████████████████▎      | 15.5 MB 4.9 MB/s eta 0:00:01\r\u001b[K     |█████████████████████████▍      | 15.5 MB 4.9 MB/s eta 0:00:01\r\u001b[K     |█████████████████████████▍      | 15.5 MB 4.9 MB/s eta 0:00:01\r\u001b[K     |█████████████████████████▍      | 15.5 MB 4.9 MB/s eta 0:00:01\r\u001b[K     |█████████████████████████▍      | 15.5 MB 4.9 MB/s eta 0:00:01\r\u001b[K     |█████████████████████████▍      | 15.5 MB 4.9 MB/s eta 0:00:01\r\u001b[K     |█████████████████████████▍      | 15.5 MB 4.9 MB/s eta 0:00:01\r\u001b[K     |█████████████████████████▍      | 15.5 MB 4.9 MB/s eta 0:00:01\r\u001b[K     |█████████████████████████▌      | 15.6 MB 4.9 MB/s eta 0:00:01\r\u001b[K     |█████████████████████████▌      | 15.6 MB 4.9 MB/s eta 0:00:01\r\u001b[K     |█████████████████████████▌      | 15.6 MB 4.9 MB/s eta 0:00:01\r\u001b[K     |█████████████████████████▌      | 15.6 MB 4.9 MB/s eta 0:00:01\r\u001b[K     |█████████████████████████▌      | 15.6 MB 4.9 MB/s eta 0:00:01\r\u001b[K     |█████████████████████████▌      | 15.6 MB 4.9 MB/s eta 0:00:01\r\u001b[K     |█████████████████████████▋      | 15.6 MB 4.9 MB/s eta 0:00:01\r\u001b[K     |█████████████████████████▋      | 15.6 MB 4.9 MB/s eta 0:00:01\r\u001b[K     |█████████████████████████▋      | 15.6 MB 4.9 MB/s eta 0:00:01\r\u001b[K     |█████████████████████████▋      | 15.6 MB 4.9 MB/s eta 0:00:01\r\u001b[K     |█████████████████████████▋      | 15.7 MB 4.9 MB/s eta 0:00:01\r\u001b[K     |█████████████████████████▋      | 15.7 MB 4.9 MB/s eta 0:00:01\r\u001b[K     |█████████████████████████▋      | 15.7 MB 4.9 MB/s eta 0:00:01\r\u001b[K     |█████████████████████████▊      | 15.7 MB 4.9 MB/s eta 0:00:01\r\u001b[K     |█████████████████████████▊      | 15.7 MB 4.9 MB/s eta 0:00:01\r\u001b[K     |█████████████████████████▊      | 15.7 MB 4.9 MB/s eta 0:00:01\r\u001b[K     |█████████████████████████▊      | 15.7 MB 4.9 MB/s eta 0:00:01\r\u001b[K     |█████████████████████████▊      | 15.7 MB 4.9 MB/s eta 0:00:01\r\u001b[K     |█████████████████████████▊      | 15.7 MB 4.9 MB/s eta 0:00:01\r\u001b[K     |█████████████████████████▊      | 15.7 MB 4.9 MB/s eta 0:00:01\r\u001b[K     |█████████████████████████▉      | 15.8 MB 4.9 MB/s eta 0:00:01\r\u001b[K     |█████████████████████████▉      | 15.8 MB 4.9 MB/s eta 0:00:01\r\u001b[K     |█████████████████████████▉      | 15.8 MB 4.9 MB/s eta 0:00:01\r\u001b[K     |█████████████████████████▉      | 15.8 MB 4.9 MB/s eta 0:00:01\r\u001b[K     |█████████████████████████▉      | 15.8 MB 4.9 MB/s eta 0:00:01\r\u001b[K     |█████████████████████████▉      | 15.8 MB 4.9 MB/s eta 0:00:01\r\u001b[K     |██████████████████████████      | 15.8 MB 4.9 MB/s eta 0:00:01\r\u001b[K     |██████████████████████████      | 15.8 MB 4.9 MB/s eta 0:00:01\r\u001b[K     |██████████████████████████      | 15.8 MB 4.9 MB/s eta 0:00:01\r\u001b[K     |██████████████████████████      | 15.9 MB 4.9 MB/s eta 0:00:01\r\u001b[K     |██████████████████████████      | 15.9 MB 4.9 MB/s eta 0:00:01\r\u001b[K     |██████████████████████████      | 15.9 MB 4.9 MB/s eta 0:00:01\r\u001b[K     |██████████████████████████      | 15.9 MB 4.9 MB/s eta 0:00:01\r\u001b[K     |██████████████████████████      | 15.9 MB 4.9 MB/s eta 0:00:01\r\u001b[K     |██████████████████████████      | 15.9 MB 4.9 MB/s eta 0:00:01\r\u001b[K     |██████████████████████████      | 15.9 MB 4.9 MB/s eta 0:00:01\r\u001b[K     |██████████████████████████      | 15.9 MB 4.9 MB/s eta 0:00:01\r\u001b[K     |██████████████████████████      | 15.9 MB 4.9 MB/s eta 0:00:01\r\u001b[K     |██████████████████████████      | 15.9 MB 4.9 MB/s eta 0:00:01\r\u001b[K     |██████████████████████████      | 16.0 MB 4.9 MB/s eta 0:00:01\r\u001b[K     |██████████████████████████▏     | 16.0 MB 4.9 MB/s eta 0:00:01\r\u001b[K     |██████████████████████████▏     | 16.0 MB 4.9 MB/s eta 0:00:01\r\u001b[K     |██████████████████████████▏     | 16.0 MB 4.9 MB/s eta 0:00:01\r\u001b[K     |██████████████████████████▏     | 16.0 MB 4.9 MB/s eta 0:00:01\r\u001b[K     |██████████████████████████▏     | 16.0 MB 4.9 MB/s eta 0:00:01\r\u001b[K     |██████████████████████████▏     | 16.0 MB 4.9 MB/s eta 0:00:01\r\u001b[K     |██████████████████████████▎     | 16.0 MB 4.9 MB/s eta 0:00:01\r\u001b[K     |██████████████████████████▎     | 16.0 MB 4.9 MB/s eta 0:00:01\r\u001b[K     |██████████████████████████▎     | 16.0 MB 4.9 MB/s eta 0:00:01\r\u001b[K     |██████████████████████████▎     | 16.1 MB 4.9 MB/s eta 0:00:01\r\u001b[K     |██████████████████████████▎     | 16.1 MB 4.9 MB/s eta 0:00:01\r\u001b[K     |██████████████████████████▎     | 16.1 MB 4.9 MB/s eta 0:00:01\r\u001b[K     |██████████████████████████▎     | 16.1 MB 4.9 MB/s eta 0:00:01\r\u001b[K     |██████████████████████████▍     | 16.1 MB 4.9 MB/s eta 0:00:01\r\u001b[K     |██████████████████████████▍     | 16.1 MB 4.9 MB/s eta 0:00:01\r\u001b[K     |██████████████████████████▍     | 16.1 MB 4.9 MB/s eta 0:00:01\r\u001b[K     |██████████████████████████▍     | 16.1 MB 4.9 MB/s eta 0:00:01\r\u001b[K     |██████████████████████████▍     | 16.1 MB 4.9 MB/s eta 0:00:01\r\u001b[K     |██████████████████████████▍     | 16.1 MB 4.9 MB/s eta 0:00:01\r\u001b[K     |██████████████████████████▌     | 16.2 MB 4.9 MB/s eta 0:00:01\r\u001b[K     |██████████████████████████▌     | 16.2 MB 4.9 MB/s eta 0:00:01\r\u001b[K     |██████████████████████████▌     | 16.2 MB 4.9 MB/s eta 0:00:01\r\u001b[K     |██████████████████████████▌     | 16.2 MB 4.9 MB/s eta 0:00:01\r\u001b[K     |██████████████████████████▌     | 16.2 MB 4.9 MB/s eta 0:00:01\r\u001b[K     |██████████████████████████▌     | 16.2 MB 4.9 MB/s eta 0:00:01\r\u001b[K     |██████████████████████████▌     | 16.2 MB 4.9 MB/s eta 0:00:01\r\u001b[K     |██████████████████████████▋     | 16.2 MB 4.9 MB/s eta 0:00:01\r\u001b[K     |██████████████████████████▋     | 16.2 MB 4.9 MB/s eta 0:00:01\r\u001b[K     |██████████████████████████▋     | 16.3 MB 4.9 MB/s eta 0:00:01\r\u001b[K     |██████████████████████████▋     | 16.3 MB 4.9 MB/s eta 0:00:01\r\u001b[K     |██████████████████████████▋     | 16.3 MB 4.9 MB/s eta 0:00:01\r\u001b[K     |██████████████████████████▋     | 16.3 MB 4.9 MB/s eta 0:00:01\r\u001b[K     |██████████████████████████▋     | 16.3 MB 4.9 MB/s eta 0:00:01\r\u001b[K     |██████████████████████████▊     | 16.3 MB 4.9 MB/s eta 0:00:01\r\u001b[K     |██████████████████████████▊     | 16.3 MB 4.9 MB/s eta 0:00:01\r\u001b[K     |██████████████████████████▊     | 16.3 MB 4.9 MB/s eta 0:00:01\r\u001b[K     |██████████████████████████▊     | 16.3 MB 4.9 MB/s eta 0:00:01\r\u001b[K     |██████████████████████████▊     | 16.3 MB 4.9 MB/s eta 0:00:01\r\u001b[K     |██████████████████████████▊     | 16.4 MB 4.9 MB/s eta 0:00:01\r\u001b[K     |██████████████████████████▉     | 16.4 MB 4.9 MB/s eta 0:00:01\r\u001b[K     |██████████████████████████▉     | 16.4 MB 4.9 MB/s eta 0:00:01\r\u001b[K     |██████████████████████████▉     | 16.4 MB 4.9 MB/s eta 0:00:01\r\u001b[K     |██████████████████████████▉     | 16.4 MB 4.9 MB/s eta 0:00:01\r\u001b[K     |██████████████████████████▉     | 16.4 MB 4.9 MB/s eta 0:00:01\r\u001b[K     |██████████████████████████▉     | 16.4 MB 4.9 MB/s eta 0:00:01\r\u001b[K     |██████████████████████████▉     | 16.4 MB 4.9 MB/s eta 0:00:01\r\u001b[K     |███████████████████████████     | 16.4 MB 4.9 MB/s eta 0:00:01\r\u001b[K     |███████████████████████████     | 16.4 MB 4.9 MB/s eta 0:00:01\r\u001b[K     |███████████████████████████     | 16.5 MB 4.9 MB/s eta 0:00:01\r\u001b[K     |███████████████████████████     | 16.5 MB 4.9 MB/s eta 0:00:01\r\u001b[K     |███████████████████████████     | 16.5 MB 4.9 MB/s eta 0:00:01\r\u001b[K     |███████████████████████████     | 16.5 MB 4.9 MB/s eta 0:00:01\r\u001b[K     |███████████████████████████     | 16.5 MB 4.9 MB/s eta 0:00:01\r\u001b[K     |███████████████████████████     | 16.5 MB 4.9 MB/s eta 0:00:01\r\u001b[K     |███████████████████████████     | 16.5 MB 4.9 MB/s eta 0:00:01\r\u001b[K     |███████████████████████████     | 16.5 MB 4.9 MB/s eta 0:00:01\r\u001b[K     |███████████████████████████     | 16.5 MB 4.9 MB/s eta 0:00:01\r\u001b[K     |███████████████████████████     | 16.5 MB 4.9 MB/s eta 0:00:01\r\u001b[K     |███████████████████████████     | 16.6 MB 4.9 MB/s eta 0:00:01\r\u001b[K     |███████████████████████████▏    | 16.6 MB 4.9 MB/s eta 0:00:01\r\u001b[K     |███████████████████████████▏    | 16.6 MB 4.9 MB/s eta 0:00:01\r\u001b[K     |███████████████████████████▏    | 16.6 MB 4.9 MB/s eta 0:00:01\r\u001b[K     |███████████████████████████▏    | 16.6 MB 4.9 MB/s eta 0:00:01\r\u001b[K     |███████████████████████████▏    | 16.6 MB 4.9 MB/s eta 0:00:01\r\u001b[K     |███████████████████████████▏    | 16.6 MB 4.9 MB/s eta 0:00:01\r\u001b[K     |███████████████████████████▏    | 16.6 MB 4.9 MB/s eta 0:00:01\r\u001b[K     |███████████████████████████▎    | 16.6 MB 4.9 MB/s eta 0:00:01\r\u001b[K     |███████████████████████████▎    | 16.7 MB 4.9 MB/s eta 0:00:01\r\u001b[K     |███████████████████████████▎    | 16.7 MB 4.9 MB/s eta 0:00:01\r\u001b[K     |███████████████████████████▎    | 16.7 MB 4.9 MB/s eta 0:00:01\r\u001b[K     |███████████████████████████▎    | 16.7 MB 4.9 MB/s eta 0:00:01\r\u001b[K     |███████████████████████████▎    | 16.7 MB 4.9 MB/s eta 0:00:01\r\u001b[K     |███████████████████████████▍    | 16.7 MB 4.9 MB/s eta 0:00:01\r\u001b[K     |███████████████████████████▍    | 16.7 MB 4.9 MB/s eta 0:00:01\r\u001b[K     |███████████████████████████▍    | 16.7 MB 4.9 MB/s eta 0:00:01\r\u001b[K     |███████████████████████████▍    | 16.7 MB 4.9 MB/s eta 0:00:01\r\u001b[K     |███████████████████████████▍    | 16.7 MB 4.9 MB/s eta 0:00:01\r\u001b[K     |███████████████████████████▍    | 16.8 MB 4.9 MB/s eta 0:00:01\r\u001b[K     |███████████████████████████▍    | 16.8 MB 4.9 MB/s eta 0:00:01\r\u001b[K     |███████████████████████████▌    | 16.8 MB 4.9 MB/s eta 0:00:01\r\u001b[K     |███████████████████████████▌    | 16.8 MB 4.9 MB/s eta 0:00:01\r\u001b[K     |███████████████████████████▌    | 16.8 MB 4.9 MB/s eta 0:00:01\r\u001b[K     |███████████████████████████▌    | 16.8 MB 4.9 MB/s eta 0:00:01\r\u001b[K     |███████████████████████████▌    | 16.8 MB 4.9 MB/s eta 0:00:01\r\u001b[K     |███████████████████████████▌    | 16.8 MB 4.9 MB/s eta 0:00:01\r\u001b[K     |███████████████████████████▌    | 16.8 MB 4.9 MB/s eta 0:00:01\r\u001b[K     |███████████████████████████▋    | 16.8 MB 4.9 MB/s eta 0:00:01\r\u001b[K     |███████████████████████████▋    | 16.9 MB 4.9 MB/s eta 0:00:01\r\u001b[K     |███████████████████████████▋    | 16.9 MB 4.9 MB/s eta 0:00:01\r\u001b[K     |███████████████████████████▋    | 16.9 MB 4.9 MB/s eta 0:00:01\r\u001b[K     |███████████████████████████▋    | 16.9 MB 4.9 MB/s eta 0:00:01\r\u001b[K     |███████████████████████████▋    | 16.9 MB 4.9 MB/s eta 0:00:01\r\u001b[K     |███████████████████████████▊    | 16.9 MB 4.9 MB/s eta 0:00:01\r\u001b[K     |███████████████████████████▊    | 16.9 MB 4.9 MB/s eta 0:00:01\r\u001b[K     |███████████████████████████▊    | 16.9 MB 4.9 MB/s eta 0:00:01\r\u001b[K     |███████████████████████████▊    | 16.9 MB 4.9 MB/s eta 0:00:01\r\u001b[K     |███████████████████████████▊    | 16.9 MB 4.9 MB/s eta 0:00:01\r\u001b[K     |███████████████████████████▊    | 17.0 MB 4.9 MB/s eta 0:00:01\r\u001b[K     |███████████████████████████▊    | 17.0 MB 4.9 MB/s eta 0:00:01\r\u001b[K     |███████████████████████████▉    | 17.0 MB 4.9 MB/s eta 0:00:01\r\u001b[K     |███████████████████████████▉    | 17.0 MB 4.9 MB/s eta 0:00:01\r\u001b[K     |███████████████████████████▉    | 17.0 MB 4.9 MB/s eta 0:00:01\r\u001b[K     |███████████████████████████▉    | 17.0 MB 4.9 MB/s eta 0:00:01\r\u001b[K     |███████████████████████████▉    | 17.0 MB 4.9 MB/s eta 0:00:01\r\u001b[K     |███████████████████████████▉    | 17.0 MB 4.9 MB/s eta 0:00:01\r\u001b[K     |███████████████████████████▉    | 17.0 MB 4.9 MB/s eta 0:00:01\r\u001b[K     |████████████████████████████    | 17.0 MB 4.9 MB/s eta 0:00:01\r\u001b[K     |████████████████████████████    | 17.1 MB 4.9 MB/s eta 0:00:01\r\u001b[K     |████████████████████████████    | 17.1 MB 4.9 MB/s eta 0:00:01\r\u001b[K     |████████████████████████████    | 17.1 MB 4.9 MB/s eta 0:00:01\r\u001b[K     |████████████████████████████    | 17.1 MB 4.9 MB/s eta 0:00:01\r\u001b[K     |████████████████████████████    | 17.1 MB 4.9 MB/s eta 0:00:01\r\u001b[K     |████████████████████████████    | 17.1 MB 4.9 MB/s eta 0:00:01\r\u001b[K     |████████████████████████████    | 17.1 MB 4.9 MB/s eta 0:00:01\r\u001b[K     |████████████████████████████    | 17.1 MB 4.9 MB/s eta 0:00:01\r\u001b[K     |████████████████████████████    | 17.1 MB 4.9 MB/s eta 0:00:01\r\u001b[K     |████████████████████████████    | 17.2 MB 4.9 MB/s eta 0:00:01\r\u001b[K     |████████████████████████████    | 17.2 MB 4.9 MB/s eta 0:00:01\r\u001b[K     |████████████████████████████    | 17.2 MB 4.9 MB/s eta 0:00:01\r\u001b[K     |████████████████████████████▏   | 17.2 MB 4.9 MB/s eta 0:00:01\r\u001b[K     |████████████████████████████▏   | 17.2 MB 4.9 MB/s eta 0:00:01\r\u001b[K     |████████████████████████████▏   | 17.2 MB 4.9 MB/s eta 0:00:01\r\u001b[K     |████████████████████████████▏   | 17.2 MB 4.9 MB/s eta 0:00:01\r\u001b[K     |████████████████████████████▏   | 17.2 MB 4.9 MB/s eta 0:00:01\r\u001b[K     |████████████████████████████▏   | 17.2 MB 4.9 MB/s eta 0:00:01\r\u001b[K     |████████████████████████████▏   | 17.2 MB 4.9 MB/s eta 0:00:01\r\u001b[K     |████████████████████████████▎   | 17.3 MB 4.9 MB/s eta 0:00:01\r\u001b[K     |████████████████████████████▎   | 17.3 MB 4.9 MB/s eta 0:00:01\r\u001b[K     |████████████████████████████▎   | 17.3 MB 4.9 MB/s eta 0:00:01\r\u001b[K     |████████████████████████████▎   | 17.3 MB 4.9 MB/s eta 0:00:01\r\u001b[K     |████████████████████████████▎   | 17.3 MB 4.9 MB/s eta 0:00:01\r\u001b[K     |████████████████████████████▎   | 17.3 MB 4.9 MB/s eta 0:00:01\r\u001b[K     |████████████████████████████▍   | 17.3 MB 4.9 MB/s eta 0:00:01\r\u001b[K     |████████████████████████████▍   | 17.3 MB 4.9 MB/s eta 0:00:01\r\u001b[K     |████████████████████████████▍   | 17.3 MB 4.9 MB/s eta 0:00:01\r\u001b[K     |████████████████████████████▍   | 17.3 MB 4.9 MB/s eta 0:00:01\r\u001b[K     |████████████████████████████▍   | 17.4 MB 4.9 MB/s eta 0:00:01\r\u001b[K     |████████████████████████████▍   | 17.4 MB 4.9 MB/s eta 0:00:01\r\u001b[K     |████████████████████████████▍   | 17.4 MB 4.9 MB/s eta 0:00:01\r\u001b[K     |████████████████████████████▌   | 17.4 MB 4.9 MB/s eta 0:00:01\r\u001b[K     |████████████████████████████▌   | 17.4 MB 4.9 MB/s eta 0:00:01\r\u001b[K     |████████████████████████████▌   | 17.4 MB 4.9 MB/s eta 0:00:01\r\u001b[K     |████████████████████████████▌   | 17.4 MB 4.9 MB/s eta 0:00:01\r\u001b[K     |████████████████████████████▌   | 17.4 MB 4.9 MB/s eta 0:00:01\r\u001b[K     |████████████████████████████▌   | 17.4 MB 4.9 MB/s eta 0:00:01\r\u001b[K     |████████████████████████████▋   | 17.4 MB 4.9 MB/s eta 0:00:01\r\u001b[K     |████████████████████████████▋   | 17.5 MB 4.9 MB/s eta 0:00:01\r\u001b[K     |████████████████████████████▋   | 17.5 MB 4.9 MB/s eta 0:00:01\r\u001b[K     |████████████████████████████▋   | 17.5 MB 4.9 MB/s eta 0:00:01\r\u001b[K     |████████████████████████████▋   | 17.5 MB 4.9 MB/s eta 0:00:01\r\u001b[K     |████████████████████████████▋   | 17.5 MB 4.9 MB/s eta 0:00:01\r\u001b[K     |████████████████████████████▋   | 17.5 MB 4.9 MB/s eta 0:00:01\r\u001b[K     |████████████████████████████▊   | 17.5 MB 4.9 MB/s eta 0:00:01\r\u001b[K     |████████████████████████████▊   | 17.5 MB 4.9 MB/s eta 0:00:01\r\u001b[K     |████████████████████████████▊   | 17.5 MB 4.9 MB/s eta 0:00:01\r\u001b[K     |████████████████████████████▊   | 17.6 MB 4.9 MB/s eta 0:00:01\r\u001b[K     |████████████████████████████▊   | 17.6 MB 4.9 MB/s eta 0:00:01\r\u001b[K     |████████████████████████████▊   | 17.6 MB 4.9 MB/s eta 0:00:01\r\u001b[K     |████████████████████████████▊   | 17.6 MB 4.9 MB/s eta 0:00:01\r\u001b[K     |████████████████████████████▉   | 17.6 MB 4.9 MB/s eta 0:00:01\r\u001b[K     |████████████████████████████▉   | 17.6 MB 4.9 MB/s eta 0:00:01\r\u001b[K     |████████████████████████████▉   | 17.6 MB 4.9 MB/s eta 0:00:01\r\u001b[K     |████████████████████████████▉   | 17.6 MB 4.9 MB/s eta 0:00:01\r\u001b[K     |████████████████████████████▉   | 17.6 MB 4.9 MB/s eta 0:00:01\r\u001b[K     |████████████████████████████▉   | 17.6 MB 4.9 MB/s eta 0:00:01\r\u001b[K     |█████████████████████████████   | 17.7 MB 4.9 MB/s eta 0:00:01\r\u001b[K     |█████████████████████████████   | 17.7 MB 4.9 MB/s eta 0:00:01\r\u001b[K     |█████████████████████████████   | 17.7 MB 4.9 MB/s eta 0:00:01\r\u001b[K     |█████████████████████████████   | 17.7 MB 4.9 MB/s eta 0:00:01\r\u001b[K     |█████████████████████████████   | 17.7 MB 4.9 MB/s eta 0:00:01\r\u001b[K     |█████████████████████████████   | 17.7 MB 4.9 MB/s eta 0:00:01\r\u001b[K     |█████████████████████████████   | 17.7 MB 4.9 MB/s eta 0:00:01\r\u001b[K     |█████████████████████████████   | 17.7 MB 4.9 MB/s eta 0:00:01\r\u001b[K     |█████████████████████████████   | 17.7 MB 4.9 MB/s eta 0:00:01\r\u001b[K     |█████████████████████████████   | 17.7 MB 4.9 MB/s eta 0:00:01\r\u001b[K     |█████████████████████████████   | 17.8 MB 4.9 MB/s eta 0:00:01\r\u001b[K     |█████████████████████████████   | 17.8 MB 4.9 MB/s eta 0:00:01\r\u001b[K     |█████████████████████████████   | 17.8 MB 4.9 MB/s eta 0:00:01\r\u001b[K     |█████████████████████████████   | 17.8 MB 4.9 MB/s eta 0:00:01\r\u001b[K     |█████████████████████████████▏  | 17.8 MB 4.9 MB/s eta 0:00:01\r\u001b[K     |█████████████████████████████▏  | 17.8 MB 4.9 MB/s eta 0:00:01\r\u001b[K     |█████████████████████████████▏  | 17.8 MB 4.9 MB/s eta 0:00:01\r\u001b[K     |█████████████████████████████▏  | 17.8 MB 4.9 MB/s eta 0:00:01\r\u001b[K     |█████████████████████████████▏  | 17.8 MB 4.9 MB/s eta 0:00:01\r\u001b[K     |█████████████████████████████▏  | 17.8 MB 4.9 MB/s eta 0:00:01\r\u001b[K     |█████████████████████████████▎  | 17.9 MB 4.9 MB/s eta 0:00:01\r\u001b[K     |█████████████████████████████▎  | 17.9 MB 4.9 MB/s eta 0:00:01\r\u001b[K     |█████████████████████████████▎  | 17.9 MB 4.9 MB/s eta 0:00:01\r\u001b[K     |█████████████████████████████▎  | 17.9 MB 4.9 MB/s eta 0:00:01\r\u001b[K     |█████████████████████████████▎  | 17.9 MB 4.9 MB/s eta 0:00:01\r\u001b[K     |█████████████████████████████▎  | 17.9 MB 4.9 MB/s eta 0:00:01\r\u001b[K     |█████████████████████████████▎  | 17.9 MB 4.9 MB/s eta 0:00:01\r\u001b[K     |█████████████████████████████▍  | 17.9 MB 4.9 MB/s eta 0:00:01\r\u001b[K     |█████████████████████████████▍  | 17.9 MB 4.9 MB/s eta 0:00:01\r\u001b[K     |█████████████████████████████▍  | 18.0 MB 4.9 MB/s eta 0:00:01\r\u001b[K     |█████████████████████████████▍  | 18.0 MB 4.9 MB/s eta 0:00:01\r\u001b[K     |█████████████████████████████▍  | 18.0 MB 4.9 MB/s eta 0:00:01\r\u001b[K     |█████████████████████████████▍  | 18.0 MB 4.9 MB/s eta 0:00:01\r\u001b[K     |█████████████████████████████▌  | 18.0 MB 4.9 MB/s eta 0:00:01\r\u001b[K     |█████████████████████████████▌  | 18.0 MB 4.9 MB/s eta 0:00:01\r\u001b[K     |█████████████████████████████▌  | 18.0 MB 4.9 MB/s eta 0:00:01\r\u001b[K     |█████████████████████████████▌  | 18.0 MB 4.9 MB/s eta 0:00:01\r\u001b[K     |█████████████████████████████▌  | 18.0 MB 4.9 MB/s eta 0:00:01\r\u001b[K     |█████████████████████████████▌  | 18.0 MB 4.9 MB/s eta 0:00:01\r\u001b[K     |█████████████████████████████▌  | 18.1 MB 4.9 MB/s eta 0:00:01\r\u001b[K     |█████████████████████████████▋  | 18.1 MB 4.9 MB/s eta 0:00:01\r\u001b[K     |█████████████████████████████▋  | 18.1 MB 4.9 MB/s eta 0:00:01\r\u001b[K     |█████████████████████████████▋  | 18.1 MB 4.9 MB/s eta 0:00:01\r\u001b[K     |█████████████████████████████▋  | 18.1 MB 4.9 MB/s eta 0:00:01\r\u001b[K     |█████████████████████████████▋  | 18.1 MB 4.9 MB/s eta 0:00:01\r\u001b[K     |█████████████████████████████▋  | 18.1 MB 4.9 MB/s eta 0:00:01\r\u001b[K     |█████████████████████████████▋  | 18.1 MB 4.9 MB/s eta 0:00:01\r\u001b[K     |█████████████████████████████▊  | 18.1 MB 4.9 MB/s eta 0:00:01\r\u001b[K     |█████████████████████████████▊  | 18.1 MB 4.9 MB/s eta 0:00:01\r\u001b[K     |█████████████████████████████▊  | 18.2 MB 4.9 MB/s eta 0:00:01\r\u001b[K     |█████████████████████████████▊  | 18.2 MB 4.9 MB/s eta 0:00:01\r\u001b[K     |█████████████████████████████▊  | 18.2 MB 4.9 MB/s eta 0:00:01\r\u001b[K     |█████████████████████████████▊  | 18.2 MB 4.9 MB/s eta 0:00:01\r\u001b[K     |█████████████████████████████▉  | 18.2 MB 4.9 MB/s eta 0:00:01\r\u001b[K     |█████████████████████████████▉  | 18.2 MB 4.9 MB/s eta 0:00:01\r\u001b[K     |█████████████████████████████▉  | 18.2 MB 4.9 MB/s eta 0:00:01\r\u001b[K     |█████████████████████████████▉  | 18.2 MB 4.9 MB/s eta 0:00:01\r\u001b[K     |█████████████████████████████▉  | 18.2 MB 4.9 MB/s eta 0:00:01\r\u001b[K     |█████████████████████████████▉  | 18.2 MB 4.9 MB/s eta 0:00:01\r\u001b[K     |█████████████████████████████▉  | 18.3 MB 4.9 MB/s eta 0:00:01\r\u001b[K     |██████████████████████████████  | 18.3 MB 4.9 MB/s eta 0:00:01\r\u001b[K     |██████████████████████████████  | 18.3 MB 4.9 MB/s eta 0:00:01\r\u001b[K     |██████████████████████████████  | 18.3 MB 4.9 MB/s eta 0:00:01\r\u001b[K     |██████████████████████████████  | 18.3 MB 4.9 MB/s eta 0:00:01\r\u001b[K     |██████████████████████████████  | 18.3 MB 4.9 MB/s eta 0:00:01\r\u001b[K     |██████████████████████████████  | 18.3 MB 4.9 MB/s eta 0:00:01\r\u001b[K     |██████████████████████████████  | 18.3 MB 4.9 MB/s eta 0:00:01\r\u001b[K     |██████████████████████████████  | 18.3 MB 4.9 MB/s eta 0:00:01\r\u001b[K     |██████████████████████████████  | 18.4 MB 4.9 MB/s eta 0:00:01\r\u001b[K     |██████████████████████████████  | 18.4 MB 4.9 MB/s eta 0:00:01\r\u001b[K     |██████████████████████████████  | 18.4 MB 4.9 MB/s eta 0:00:01\r\u001b[K     |██████████████████████████████  | 18.4 MB 4.9 MB/s eta 0:00:01\r\u001b[K     |██████████████████████████████  | 18.4 MB 4.9 MB/s eta 0:00:01\r\u001b[K     |██████████████████████████████▏ | 18.4 MB 4.9 MB/s eta 0:00:01\r\u001b[K     |██████████████████████████████▏ | 18.4 MB 4.9 MB/s eta 0:00:01\r\u001b[K     |██████████████████████████████▏ | 18.4 MB 4.9 MB/s eta 0:00:01\r\u001b[K     |██████████████████████████████▏ | 18.4 MB 4.9 MB/s eta 0:00:01\r\u001b[K     |██████████████████████████████▏ | 18.4 MB 4.9 MB/s eta 0:00:01\r\u001b[K     |██████████████████████████████▏ | 18.5 MB 4.9 MB/s eta 0:00:01\r\u001b[K     |██████████████████████████████▏ | 18.5 MB 4.9 MB/s eta 0:00:01\r\u001b[K     |██████████████████████████████▎ | 18.5 MB 4.9 MB/s eta 0:00:01\r\u001b[K     |██████████████████████████████▎ | 18.5 MB 4.9 MB/s eta 0:00:01\r\u001b[K     |██████████████████████████████▎ | 18.5 MB 4.9 MB/s eta 0:00:01\r\u001b[K     |██████████████████████████████▎ | 18.5 MB 4.9 MB/s eta 0:00:01\r\u001b[K     |██████████████████████████████▎ | 18.5 MB 4.9 MB/s eta 0:00:01\r\u001b[K     |██████████████████████████████▎ | 18.5 MB 4.9 MB/s eta 0:00:01\r\u001b[K     |██████████████████████████████▎ | 18.5 MB 4.9 MB/s eta 0:00:01\r\u001b[K     |██████████████████████████████▍ | 18.5 MB 4.9 MB/s eta 0:00:01\r\u001b[K     |██████████████████████████████▍ | 18.6 MB 4.9 MB/s eta 0:00:01\r\u001b[K     |██████████████████████████████▍ | 18.6 MB 4.9 MB/s eta 0:00:01\r\u001b[K     |██████████████████████████████▍ | 18.6 MB 4.9 MB/s eta 0:00:01\r\u001b[K     |██████████████████████████████▍ | 18.6 MB 4.9 MB/s eta 0:00:01\r\u001b[K     |██████████████████████████████▍ | 18.6 MB 4.9 MB/s eta 0:00:01\r\u001b[K     |██████████████████████████████▌ | 18.6 MB 4.9 MB/s eta 0:00:01\r\u001b[K     |██████████████████████████████▌ | 18.6 MB 4.9 MB/s eta 0:00:01\r\u001b[K     |██████████████████████████████▌ | 18.6 MB 4.9 MB/s eta 0:00:01\r\u001b[K     |██████████████████████████████▌ | 18.6 MB 4.9 MB/s eta 0:00:01\r\u001b[K     |██████████████████████████████▌ | 18.6 MB 4.9 MB/s eta 0:00:01\r\u001b[K     |██████████████████████████████▌ | 18.7 MB 4.9 MB/s eta 0:00:01\r\u001b[K     |██████████████████████████████▌ | 18.7 MB 4.9 MB/s eta 0:00:01\r\u001b[K     |██████████████████████████████▋ | 18.7 MB 4.9 MB/s eta 0:00:01\r\u001b[K     |██████████████████████████████▋ | 18.7 MB 4.9 MB/s eta 0:00:01\r\u001b[K     |██████████████████████████████▋ | 18.7 MB 4.9 MB/s eta 0:00:01\r\u001b[K     |██████████████████████████████▋ | 18.7 MB 4.9 MB/s eta 0:00:01\r\u001b[K     |██████████████████████████████▋ | 18.7 MB 4.9 MB/s eta 0:00:01\r\u001b[K     |██████████████████████████████▋ | 18.7 MB 4.9 MB/s eta 0:00:01\r\u001b[K     |██████████████████████████████▊ | 18.7 MB 4.9 MB/s eta 0:00:01\r\u001b[K     |██████████████████████████████▊ | 18.7 MB 4.9 MB/s eta 0:00:01\r\u001b[K     |██████████████████████████████▊ | 18.8 MB 4.9 MB/s eta 0:00:01\r\u001b[K     |██████████████████████████████▊ | 18.8 MB 4.9 MB/s eta 0:00:01\r\u001b[K     |██████████████████████████████▊ | 18.8 MB 4.9 MB/s eta 0:00:01\r\u001b[K     |██████████████████████████████▊ | 18.8 MB 4.9 MB/s eta 0:00:01\r\u001b[K     |██████████████████████████████▊ | 18.8 MB 4.9 MB/s eta 0:00:01\r\u001b[K     |██████████████████████████████▉ | 18.8 MB 4.9 MB/s eta 0:00:01\r\u001b[K     |██████████████████████████████▉ | 18.8 MB 4.9 MB/s eta 0:00:01\r\u001b[K     |██████████████████████████████▉ | 18.8 MB 4.9 MB/s eta 0:00:01\r\u001b[K     |██████████████████████████████▉ | 18.8 MB 4.9 MB/s eta 0:00:01\r\u001b[K     |██████████████████████████████▉ | 18.9 MB 4.9 MB/s eta 0:00:01\r\u001b[K     |██████████████████████████████▉ | 18.9 MB 4.9 MB/s eta 0:00:01\r\u001b[K     |██████████████████████████████▉ | 18.9 MB 4.9 MB/s eta 0:00:01\r\u001b[K     |███████████████████████████████ | 18.9 MB 4.9 MB/s eta 0:00:01\r\u001b[K     |███████████████████████████████ | 18.9 MB 4.9 MB/s eta 0:00:01\r\u001b[K     |███████████████████████████████ | 18.9 MB 4.9 MB/s eta 0:00:01\r\u001b[K     |███████████████████████████████ | 18.9 MB 4.9 MB/s eta 0:00:01\r\u001b[K     |███████████████████████████████ | 18.9 MB 4.9 MB/s eta 0:00:01\r\u001b[K     |███████████████████████████████ | 18.9 MB 4.9 MB/s eta 0:00:01\r\u001b[K     |███████████████████████████████ | 18.9 MB 4.9 MB/s eta 0:00:01\r\u001b[K     |███████████████████████████████ | 19.0 MB 4.9 MB/s eta 0:00:01\r\u001b[K     |███████████████████████████████ | 19.0 MB 4.9 MB/s eta 0:00:01\r\u001b[K     |███████████████████████████████ | 19.0 MB 4.9 MB/s eta 0:00:01\r\u001b[K     |███████████████████████████████ | 19.0 MB 4.9 MB/s eta 0:00:01\r\u001b[K     |███████████████████████████████ | 19.0 MB 4.9 MB/s eta 0:00:01\r\u001b[K     |███████████████████████████████ | 19.0 MB 4.9 MB/s eta 0:00:01\r\u001b[K     |███████████████████████████████▏| 19.0 MB 4.9 MB/s eta 0:00:01\r\u001b[K     |███████████████████████████████▏| 19.0 MB 4.9 MB/s eta 0:00:01\r\u001b[K     |███████████████████████████████▏| 19.0 MB 4.9 MB/s eta 0:00:01\r\u001b[K     |███████████████████████████████▏| 19.0 MB 4.9 MB/s eta 0:00:01\r\u001b[K     |███████████████████████████████▏| 19.1 MB 4.9 MB/s eta 0:00:01\r\u001b[K     |███████████████████████████████▏| 19.1 MB 4.9 MB/s eta 0:00:01\r\u001b[K     |███████████████████████████████▏| 19.1 MB 4.9 MB/s eta 0:00:01\r\u001b[K     |███████████████████████████████▎| 19.1 MB 4.9 MB/s eta 0:00:01\r\u001b[K     |███████████████████████████████▎| 19.1 MB 4.9 MB/s eta 0:00:01\r\u001b[K     |███████████████████████████████▎| 19.1 MB 4.9 MB/s eta 0:00:01\r\u001b[K     |███████████████████████████████▎| 19.1 MB 4.9 MB/s eta 0:00:01\r\u001b[K     |███████████████████████████████▎| 19.1 MB 4.9 MB/s eta 0:00:01\r\u001b[K     |███████████████████████████████▎| 19.1 MB 4.9 MB/s eta 0:00:01\r\u001b[K     |███████████████████████████████▍| 19.1 MB 4.9 MB/s eta 0:00:01\r\u001b[K     |███████████████████████████████▍| 19.2 MB 4.9 MB/s eta 0:00:01\r\u001b[K     |███████████████████████████████▍| 19.2 MB 4.9 MB/s eta 0:00:01\r\u001b[K     |███████████████████████████████▍| 19.2 MB 4.9 MB/s eta 0:00:01\r\u001b[K     |███████████████████████████████▍| 19.2 MB 4.9 MB/s eta 0:00:01\r\u001b[K     |███████████████████████████████▍| 19.2 MB 4.9 MB/s eta 0:00:01\r\u001b[K     |███████████████████████████████▍| 19.2 MB 4.9 MB/s eta 0:00:01\r\u001b[K     |███████████████████████████████▌| 19.2 MB 4.9 MB/s eta 0:00:01\r\u001b[K     |███████████████████████████████▌| 19.2 MB 4.9 MB/s eta 0:00:01\r\u001b[K     |███████████████████████████████▌| 19.2 MB 4.9 MB/s eta 0:00:01\r\u001b[K     |███████████████████████████████▌| 19.3 MB 4.9 MB/s eta 0:00:01\r\u001b[K     |███████████████████████████████▌| 19.3 MB 4.9 MB/s eta 0:00:01\r\u001b[K     |███████████████████████████████▌| 19.3 MB 4.9 MB/s eta 0:00:01\r\u001b[K     |███████████████████████████████▋| 19.3 MB 4.9 MB/s eta 0:00:01\r\u001b[K     |███████████████████████████████▋| 19.3 MB 4.9 MB/s eta 0:00:01\r\u001b[K     |███████████████████████████████▋| 19.3 MB 4.9 MB/s eta 0:00:01\r\u001b[K     |███████████████████████████████▋| 19.3 MB 4.9 MB/s eta 0:00:01\r\u001b[K     |███████████████████████████████▋| 19.3 MB 4.9 MB/s eta 0:00:01\r\u001b[K     |███████████████████████████████▋| 19.3 MB 4.9 MB/s eta 0:00:01\r\u001b[K     |███████████████████████████████▋| 19.3 MB 4.9 MB/s eta 0:00:01\r\u001b[K     |███████████████████████████████▊| 19.4 MB 4.9 MB/s eta 0:00:01\r\u001b[K     |███████████████████████████████▊| 19.4 MB 4.9 MB/s eta 0:00:01\r\u001b[K     |███████████████████████████████▊| 19.4 MB 4.9 MB/s eta 0:00:01\r\u001b[K     |███████████████████████████████▊| 19.4 MB 4.9 MB/s eta 0:00:01\r\u001b[K     |███████████████████████████████▊| 19.4 MB 4.9 MB/s eta 0:00:01\r\u001b[K     |███████████████████████████████▊| 19.4 MB 4.9 MB/s eta 0:00:01\r\u001b[K     |███████████████████████████████▊| 19.4 MB 4.9 MB/s eta 0:00:01"
     ]
    },
    {
     "name": "stdout",
     "output_type": "stream",
     "text": [
      "\r\u001b[K     |███████████████████████████████▉| 19.4 MB 4.9 MB/s eta 0:00:01\r\u001b[K     |███████████████████████████████▉| 19.4 MB 4.9 MB/s eta 0:00:01\r\u001b[K     |███████████████████████████████▉| 19.4 MB 4.9 MB/s eta 0:00:01\r\u001b[K     |███████████████████████████████▉| 19.5 MB 4.9 MB/s eta 0:00:01\r\u001b[K     |███████████████████████████████▉| 19.5 MB 4.9 MB/s eta 0:00:01\r\u001b[K     |███████████████████████████████▉| 19.5 MB 4.9 MB/s eta 0:00:01\r\u001b[K     |████████████████████████████████| 19.5 MB 4.9 MB/s eta 0:00:01\r\u001b[K     |████████████████████████████████| 19.5 MB 4.9 MB/s eta 0:00:01\r\u001b[K     |████████████████████████████████| 19.5 MB 4.9 MB/s eta 0:00:01\r\u001b[K     |████████████████████████████████| 19.5 MB 4.9 MB/s eta 0:00:01\r\u001b[K     |████████████████████████████████| 19.5 MB 4.9 MB/s eta 0:00:01\r\u001b[K     |████████████████████████████████| 19.5 MB 4.9 MB/s eta 0:00:01\r\u001b[K     |████████████████████████████████| 19.5 MB 4.9 MB/s eta 0:00:01"
     ]
    },
    {
     "name": "stdout",
     "output_type": "stream",
     "text": [
      "\r\u001b[K     |████████████████████████████████| 19.6 MB 4.9 MB/s \r\n"
     ]
    },
    {
     "name": "stdout",
     "output_type": "stream",
     "text": [
      "\u001b[?25hRequirement already satisfied: numpy>=1.13.3 in ./.local/lib/python3.9/site-packages (from MDAnalysis) (1.21.1)\r\n"
     ]
    },
    {
     "name": "stdout",
     "output_type": "stream",
     "text": [
      "Collecting biopython>=1.71\r\n"
     ]
    },
    {
     "name": "stdout",
     "output_type": "stream",
     "text": [
      "  Downloading biopython-1.79-cp39-cp39-manylinux_2_5_x86_64.manylinux1_x86_64.whl (2.3 MB)\r\n",
      "\u001b[?25l\r\u001b[K     |▏                               | 10 kB 36.1 MB/s eta 0:00:01\r\u001b[K     |▎                               | 20 kB 42.9 MB/s eta 0:00:01\r\u001b[K     |▍                               | 30 kB 54.1 MB/s eta 0:00:01\r\u001b[K     |▋                               | 40 kB 59.0 MB/s eta 0:00:01\r\u001b[K     |▊                               | 51 kB 64.7 MB/s eta 0:00:01\r\u001b[K     |▉                               | 61 kB 62.2 MB/s eta 0:00:01\r\u001b[K     |█                               | 71 kB 63.6 MB/s eta 0:00:01\r\u001b[K     |█▏                              | 81 kB 66.0 MB/s eta 0:00:01\r\u001b[K     |█▎                              | 92 kB 68.1 MB/s eta 0:00:01\r\u001b[K     |█▍                              | 102 kB 67.3 MB/s eta 0:00:01\r\u001b[K     |█▋                              | 112 kB 67.3 MB/s eta 0:00:01\r\u001b[K     |█▊                              | 122 kB 67.3 MB/s eta 0:00:01\r\u001b[K     |█▉                              | 133 kB 67.3 MB/s eta 0:00:01\r\u001b[K     |██                              | 143 kB 67.3 MB/s eta 0:00:01\r\u001b[K     |██▏                             | 153 kB 67.3 MB/s eta 0:00:01\r\u001b[K     |██▎                             | 163 kB 67.3 MB/s eta 0:00:01\r\u001b[K     |██▍                             | 174 kB 67.3 MB/s eta 0:00:01\r\u001b[K     |██▋                             | 184 kB 67.3 MB/s eta 0:00:01\r\u001b[K     |██▊                             | 194 kB 67.3 MB/s eta 0:00:01\r\u001b[K     |██▉                             | 204 kB 67.3 MB/s eta 0:00:01\r\u001b[K     |███                             | 215 kB 67.3 MB/s eta 0:00:01\r\u001b[K     |███▏                            | 225 kB 67.3 MB/s eta 0:00:01\r\u001b[K     |███▎                            | 235 kB 67.3 MB/s eta 0:00:01\r\u001b[K     |███▌                            | 245 kB 67.3 MB/s eta 0:00:01\r\u001b[K     |███▋                            | 256 kB 67.3 MB/s eta 0:00:01\r\u001b[K     |███▊                            | 266 kB 67.3 MB/s eta 0:00:01\r\u001b[K     |███▉                            | 276 kB 67.3 MB/s eta 0:00:01\r\u001b[K     |████                            | 286 kB 67.3 MB/s eta 0:00:01\r\u001b[K     |████▏                           | 296 kB 67.3 MB/s eta 0:00:01\r\u001b[K     |████▎                           | 307 kB 67.3 MB/s eta 0:00:01\r\u001b[K     |████▌                           | 317 kB 67.3 MB/s eta 0:00:01\r\u001b[K     |████▋                           | 327 kB 67.3 MB/s eta 0:00:01\r\u001b[K     |████▊                           | 337 kB 67.3 MB/s eta 0:00:01\r\u001b[K     |████▉                           | 348 kB 67.3 MB/s eta 0:00:01\r\u001b[K     |█████                           | 358 kB 67.3 MB/s eta 0:00:01\r\u001b[K     |█████▏                          | 368 kB 67.3 MB/s eta 0:00:01\r\u001b[K     |█████▎                          | 378 kB 67.3 MB/s eta 0:00:01\r\u001b[K     |█████▌                          | 389 kB 67.3 MB/s eta 0:00:01\r\u001b[K     |█████▋                          | 399 kB 67.3 MB/s eta 0:00:01\r\u001b[K     |█████▊                          | 409 kB 67.3 MB/s eta 0:00:01\r\u001b[K     |██████                          | 419 kB 67.3 MB/s eta 0:00:01\r\u001b[K     |██████                          | 430 kB 67.3 MB/s eta 0:00:01\r\u001b[K     |██████▏                         | 440 kB 67.3 MB/s eta 0:00:01\r\u001b[K     |██████▎                         | 450 kB 67.3 MB/s eta 0:00:01\r\u001b[K     |██████▌                         | 460 kB 67.3 MB/s eta 0:00:01\r\u001b[K     |██████▋                         | 471 kB 67.3 MB/s eta 0:00:01\r\u001b[K     |██████▊                         | 481 kB 67.3 MB/s eta 0:00:01\r\u001b[K     |███████                         | 491 kB 67.3 MB/s eta 0:00:01\r\u001b[K     |███████                         | 501 kB 67.3 MB/s eta 0:00:01\r\u001b[K     |███████▏                        | 512 kB 67.3 MB/s eta 0:00:01\r\u001b[K     |███████▎                        | 522 kB 67.3 MB/s eta 0:00:01\r\u001b[K     |███████▌                        | 532 kB 67.3 MB/s eta 0:00:01\r\u001b[K     |███████▋                        | 542 kB 67.3 MB/s eta 0:00:01\r\u001b[K     |███████▊                        | 552 kB 67.3 MB/s eta 0:00:01\r\u001b[K     |████████                        | 563 kB 67.3 MB/s eta 0:00:01\r\u001b[K     |████████                        | 573 kB 67.3 MB/s eta 0:00:01\r\u001b[K     |████████▏                       | 583 kB 67.3 MB/s eta 0:00:01\r\u001b[K     |████████▍                       | 593 kB 67.3 MB/s eta 0:00:01\r\u001b[K     |████████▌                       | 604 kB 67.3 MB/s eta 0:00:01\r\u001b[K     |████████▋                       | 614 kB 67.3 MB/s eta 0:00:01\r\u001b[K     |████████▊                       | 624 kB 67.3 MB/s eta 0:00:01\r\u001b[K     |█████████                       | 634 kB 67.3 MB/s eta 0:00:01\r\u001b[K     |█████████                       | 645 kB 67.3 MB/s eta 0:00:01\r\u001b[K     |█████████▏                      | 655 kB 67.3 MB/s eta 0:00:01\r\u001b[K     |█████████▍                      | 665 kB 67.3 MB/s eta 0:00:01\r\u001b[K     |█████████▌                      | 675 kB 67.3 MB/s eta 0:00:01\r\u001b[K     |█████████▋                      | 686 kB 67.3 MB/s eta 0:00:01\r\u001b[K     |█████████▊                      | 696 kB 67.3 MB/s eta 0:00:01\r\u001b[K     |██████████                      | 706 kB 67.3 MB/s eta 0:00:01\r\u001b[K     |██████████                      | 716 kB 67.3 MB/s eta 0:00:01\r\u001b[K     |██████████▏                     | 727 kB 67.3 MB/s eta 0:00:01\r\u001b[K     |██████████▍                     | 737 kB 67.3 MB/s eta 0:00:01\r\u001b[K     |██████████▌                     | 747 kB 67.3 MB/s eta 0:00:01\r\u001b[K     |██████████▋                     | 757 kB 67.3 MB/s eta 0:00:01\r\u001b[K     |██████████▉                     | 768 kB 67.3 MB/s eta 0:00:01\r\u001b[K     |███████████                     | 778 kB 67.3 MB/s eta 0:00:01\r\u001b[K     |███████████                     | 788 kB 67.3 MB/s eta 0:00:01\r\u001b[K     |███████████▏                    | 798 kB 67.3 MB/s eta 0:00:01\r\u001b[K     |███████████▍                    | 808 kB 67.3 MB/s eta 0:00:01\r\u001b[K     |███████████▌                    | 819 kB 67.3 MB/s eta 0:00:01\r\u001b[K     |███████████▋                    | 829 kB 67.3 MB/s eta 0:00:01\r\u001b[K     |███████████▉                    | 839 kB 67.3 MB/s eta 0:00:01\r\u001b[K     |████████████                    | 849 kB 67.3 MB/s eta 0:00:01\r\u001b[K     |████████████                    | 860 kB 67.3 MB/s eta 0:00:01\r\u001b[K     |████████████▏                   | 870 kB 67.3 MB/s eta 0:00:01\r\u001b[K     |████████████▍                   | 880 kB 67.3 MB/s eta 0:00:01\r\u001b[K     |████████████▌                   | 890 kB 67.3 MB/s eta 0:00:01\r\u001b[K     |████████████▋                   | 901 kB 67.3 MB/s eta 0:00:01\r\u001b[K     |████████████▉                   | 911 kB 67.3 MB/s eta 0:00:01\r\u001b[K     |█████████████                   | 921 kB 67.3 MB/s eta 0:00:01\r\u001b[K     |█████████████                   | 931 kB 67.3 MB/s eta 0:00:01\r\u001b[K     |█████████████▎                  | 942 kB 67.3 MB/s eta 0:00:01\r\u001b[K     |█████████████▍                  | 952 kB 67.3 MB/s eta 0:00:01\r\u001b[K     |█████████████▌                  | 962 kB 67.3 MB/s eta 0:00:01\r\u001b[K     |█████████████▋                  | 972 kB 67.3 MB/s eta 0:00:01\r\u001b[K     |█████████████▉                  | 983 kB 67.3 MB/s eta 0:00:01\r\u001b[K     |██████████████                  | 993 kB 67.3 MB/s eta 0:00:01\r\u001b[K     |██████████████                  | 1.0 MB 67.3 MB/s eta 0:00:01\r\u001b[K     |██████████████▎                 | 1.0 MB 67.3 MB/s eta 0:00:01\r\u001b[K     |██████████████▍                 | 1.0 MB 67.3 MB/s eta 0:00:01\r\u001b[K     |██████████████▌                 | 1.0 MB 67.3 MB/s eta 0:00:01\r\u001b[K     |██████████████▋                 | 1.0 MB 67.3 MB/s eta 0:00:01\r\u001b[K     |██████████████▉                 | 1.1 MB 67.3 MB/s eta 0:00:01\r\u001b[K     |███████████████                 | 1.1 MB 67.3 MB/s eta 0:00:01\r\u001b[K     |███████████████                 | 1.1 MB 67.3 MB/s eta 0:00:01\r\u001b[K     |███████████████▎                | 1.1 MB 67.3 MB/s eta 0:00:01\r\u001b[K     |███████████████▍                | 1.1 MB 67.3 MB/s eta 0:00:01\r\u001b[K     |███████████████▌                | 1.1 MB 67.3 MB/s eta 0:00:01\r\u001b[K     |███████████████▊                | 1.1 MB 67.3 MB/s eta 0:00:01\r\u001b[K     |███████████████▉                | 1.1 MB 67.3 MB/s eta 0:00:01\r\u001b[K     |████████████████                | 1.1 MB 67.3 MB/s eta 0:00:01\r\u001b[K     |████████████████                | 1.1 MB 67.3 MB/s eta 0:00:01\r\u001b[K     |████████████████▎               | 1.2 MB 67.3 MB/s eta 0:00:01\r\u001b[K     |████████████████▍               | 1.2 MB 67.3 MB/s eta 0:00:01\r\u001b[K     |████████████████▌               | 1.2 MB 67.3 MB/s eta 0:00:01\r\u001b[K     |████████████████▊               | 1.2 MB 67.3 MB/s eta 0:00:01\r\u001b[K     |████████████████▉               | 1.2 MB 67.3 MB/s eta 0:00:01\r\u001b[K     |█████████████████               | 1.2 MB 67.3 MB/s eta 0:00:01\r\u001b[K     |█████████████████               | 1.2 MB 67.3 MB/s eta 0:00:01\r\u001b[K     |█████████████████▎              | 1.2 MB 67.3 MB/s eta 0:00:01\r\u001b[K     |█████████████████▍              | 1.2 MB 67.3 MB/s eta 0:00:01\r\u001b[K     |█████████████████▌              | 1.2 MB 67.3 MB/s eta 0:00:01\r\u001b[K     |█████████████████▊              | 1.3 MB 67.3 MB/s eta 0:00:01\r\u001b[K     |█████████████████▉              | 1.3 MB 67.3 MB/s eta 0:00:01\r\u001b[K     |██████████████████              | 1.3 MB 67.3 MB/s eta 0:00:01\r\u001b[K     |██████████████████▏             | 1.3 MB 67.3 MB/s eta 0:00:01\r\u001b[K     |██████████████████▎             | 1.3 MB 67.3 MB/s eta 0:00:01\r\u001b[K     |██████████████████▍             | 1.3 MB 67.3 MB/s eta 0:00:01\r\u001b[K     |██████████████████▌             | 1.3 MB 67.3 MB/s eta 0:00:01\r\u001b[K     |██████████████████▊             | 1.3 MB 67.3 MB/s eta 0:00:01\r\u001b[K     |██████████████████▉             | 1.3 MB 67.3 MB/s eta 0:00:01\r\u001b[K     |███████████████████             | 1.4 MB 67.3 MB/s eta 0:00:01\r\u001b[K     |███████████████████▏            | 1.4 MB 67.3 MB/s eta 0:00:01\r\u001b[K     |███████████████████▎            | 1.4 MB 67.3 MB/s eta 0:00:01\r\u001b[K     |███████████████████▍            | 1.4 MB 67.3 MB/s eta 0:00:01\r\u001b[K     |███████████████████▌            | 1.4 MB 67.3 MB/s eta 0:00:01\r\u001b[K     |███████████████████▊            | 1.4 MB 67.3 MB/s eta 0:00:01\r\u001b[K     |███████████████████▉            | 1.4 MB 67.3 MB/s eta 0:00:01\r\u001b[K     |████████████████████            | 1.4 MB 67.3 MB/s eta 0:00:01\r\u001b[K     |████████████████████▏           | 1.4 MB 67.3 MB/s eta 0:00:01\r\u001b[K     |████████████████████▎           | 1.4 MB 67.3 MB/s eta 0:00:01\r\u001b[K     |████████████████████▍           | 1.5 MB 67.3 MB/s eta 0:00:01\r\u001b[K     |████████████████████▋           | 1.5 MB 67.3 MB/s eta 0:00:01\r\u001b[K     |████████████████████▊           | 1.5 MB 67.3 MB/s eta 0:00:01\r\u001b[K     |████████████████████▉           | 1.5 MB 67.3 MB/s eta 0:00:01\r\u001b[K     |█████████████████████           | 1.5 MB 67.3 MB/s eta 0:00:01\r\u001b[K     |█████████████████████▏          | 1.5 MB 67.3 MB/s eta 0:00:01\r\u001b[K     |█████████████████████▎          | 1.5 MB 67.3 MB/s eta 0:00:01\r\u001b[K     |█████████████████████▍          | 1.5 MB 67.3 MB/s eta 0:00:01\r\u001b[K     |█████████████████████▋          | 1.5 MB 67.3 MB/s eta 0:00:01\r\u001b[K     |█████████████████████▊          | 1.5 MB 67.3 MB/s eta 0:00:01\r\u001b[K     |█████████████████████▉          | 1.6 MB 67.3 MB/s eta 0:00:01\r\u001b[K     |██████████████████████          | 1.6 MB 67.3 MB/s eta 0:00:01\r\u001b[K     |██████████████████████▏         | 1.6 MB 67.3 MB/s eta 0:00:01\r\u001b[K     |██████████████████████▎         | 1.6 MB 67.3 MB/s eta 0:00:01\r\u001b[K     |██████████████████████▍         | 1.6 MB 67.3 MB/s eta 0:00:01\r\u001b[K     |██████████████████████▋         | 1.6 MB 67.3 MB/s eta 0:00:01\r\u001b[K     |██████████████████████▊         | 1.6 MB 67.3 MB/s eta 0:00:01\r\u001b[K     |██████████████████████▉         | 1.6 MB 67.3 MB/s eta 0:00:01\r\u001b[K     |███████████████████████         | 1.6 MB 67.3 MB/s eta 0:00:01\r\u001b[K     |███████████████████████▏        | 1.6 MB 67.3 MB/s eta 0:00:01\r\u001b[K     |███████████████████████▎        | 1.7 MB 67.3 MB/s eta 0:00:01\r\u001b[K     |███████████████████████▍        | 1.7 MB 67.3 MB/s eta 0:00:01\r\u001b[K     |███████████████████████▋        | 1.7 MB 67.3 MB/s eta 0:00:01\r\u001b[K     |███████████████████████▊        | 1.7 MB 67.3 MB/s eta 0:00:01\r\u001b[K     |███████████████████████▉        | 1.7 MB 67.3 MB/s eta 0:00:01\r\u001b[K     |████████████████████████        | 1.7 MB 67.3 MB/s eta 0:00:01\r\u001b[K     |████████████████████████▏       | 1.7 MB 67.3 MB/s eta 0:00:01\r\u001b[K     |████████████████████████▎       | 1.7 MB 67.3 MB/s eta 0:00:01\r\u001b[K     |████████████████████████▍       | 1.7 MB 67.3 MB/s eta 0:00:01\r\u001b[K     |████████████████████████▋       | 1.8 MB 67.3 MB/s eta 0:00:01\r\u001b[K     |████████████████████████▊       | 1.8 MB 67.3 MB/s eta 0:00:01\r\u001b[K     |████████████████████████▉       | 1.8 MB 67.3 MB/s eta 0:00:01\r\u001b[K     |█████████████████████████       | 1.8 MB 67.3 MB/s eta 0:00:01\r\u001b[K     |█████████████████████████▏      | 1.8 MB 67.3 MB/s eta 0:00:01\r\u001b[K     |█████████████████████████▎      | 1.8 MB 67.3 MB/s eta 0:00:01\r\u001b[K     |█████████████████████████▌      | 1.8 MB 67.3 MB/s eta 0:00:01\r\u001b[K     |█████████████████████████▋      | 1.8 MB 67.3 MB/s eta 0:00:01\r\u001b[K     |█████████████████████████▊      | 1.8 MB 67.3 MB/s eta 0:00:01\r\u001b[K     |█████████████████████████▉      | 1.8 MB 67.3 MB/s eta 0:00:01\r\u001b[K     |██████████████████████████      | 1.9 MB 67.3 MB/s eta 0:00:01\r\u001b[K     |██████████████████████████▏     | 1.9 MB 67.3 MB/s eta 0:00:01\r\u001b[K     |██████████████████████████▎     | 1.9 MB 67.3 MB/s eta 0:00:01\r\u001b[K     |██████████████████████████▌     | 1.9 MB 67.3 MB/s eta 0:00:01\r\u001b[K     |██████████████████████████▋     | 1.9 MB 67.3 MB/s eta 0:00:01\r\u001b[K     |██████████████████████████▊     | 1.9 MB 67.3 MB/s eta 0:00:01\r\u001b[K     |██████████████████████████▉     | 1.9 MB 67.3 MB/s eta 0:00:01\r\u001b[K     |███████████████████████████     | 1.9 MB 67.3 MB/s eta 0:00:01\r\u001b[K     |███████████████████████████▏    | 1.9 MB 67.3 MB/s eta 0:00:01\r\u001b[K     |███████████████████████████▎    | 1.9 MB 67.3 MB/s eta 0:00:01\r\u001b[K     |███████████████████████████▌    | 2.0 MB 67.3 MB/s eta 0:00:01\r\u001b[K     |███████████████████████████▋    | 2.0 MB 67.3 MB/s eta 0:00:01"
     ]
    },
    {
     "name": "stdout",
     "output_type": "stream",
     "text": [
      "\r\u001b[K     |███████████████████████████▊    | 2.0 MB 67.3 MB/s eta 0:00:01\r\u001b[K     |████████████████████████████    | 2.0 MB 67.3 MB/s eta 0:00:01\r\u001b[K     |████████████████████████████    | 2.0 MB 67.3 MB/s eta 0:00:01\r\u001b[K     |████████████████████████████▏   | 2.0 MB 67.3 MB/s eta 0:00:01\r\u001b[K     |████████████████████████████▎   | 2.0 MB 67.3 MB/s eta 0:00:01\r\u001b[K     |████████████████████████████▌   | 2.0 MB 67.3 MB/s eta 0:00:01\r\u001b[K     |████████████████████████████▋   | 2.0 MB 67.3 MB/s eta 0:00:01\r\u001b[K     |████████████████████████████▊   | 2.0 MB 67.3 MB/s eta 0:00:01\r\u001b[K     |█████████████████████████████   | 2.1 MB 67.3 MB/s eta 0:00:01\r\u001b[K     |█████████████████████████████   | 2.1 MB 67.3 MB/s eta 0:00:01\r\u001b[K     |█████████████████████████████▏  | 2.1 MB 67.3 MB/s eta 0:00:01\r\u001b[K     |█████████████████████████████▎  | 2.1 MB 67.3 MB/s eta 0:00:01\r\u001b[K     |█████████████████████████████▌  | 2.1 MB 67.3 MB/s eta 0:00:01\r\u001b[K     |█████████████████████████████▋  | 2.1 MB 67.3 MB/s eta 0:00:01\r\u001b[K     |█████████████████████████████▊  | 2.1 MB 67.3 MB/s eta 0:00:01\r\u001b[K     |██████████████████████████████  | 2.1 MB 67.3 MB/s eta 0:00:01\r\u001b[K     |██████████████████████████████  | 2.1 MB 67.3 MB/s eta 0:00:01\r\u001b[K     |██████████████████████████████▏ | 2.2 MB 67.3 MB/s eta 0:00:01\r\u001b[K     |██████████████████████████████▍ | 2.2 MB 67.3 MB/s eta 0:00:01\r\u001b[K     |██████████████████████████████▌ | 2.2 MB 67.3 MB/s eta 0:00:01\r\u001b[K     |██████████████████████████████▋ | 2.2 MB 67.3 MB/s eta 0:00:01\r\u001b[K     |██████████████████████████████▊ | 2.2 MB 67.3 MB/s eta 0:00:01\r\u001b[K     |███████████████████████████████ | 2.2 MB 67.3 MB/s eta 0:00:01\r\u001b[K     |███████████████████████████████ | 2.2 MB 67.3 MB/s eta 0:00:01\r\u001b[K     |███████████████████████████████▏| 2.2 MB 67.3 MB/s eta 0:00:01\r\u001b[K     |███████████████████████████████▍| 2.2 MB 67.3 MB/s eta 0:00:01\r\u001b[K     |███████████████████████████████▌| 2.2 MB 67.3 MB/s eta 0:00:01\r\u001b[K     |███████████████████████████████▋| 2.3 MB 67.3 MB/s eta 0:00:01\r\u001b[K     |███████████████████████████████▊| 2.3 MB 67.3 MB/s eta 0:00:01\r\u001b[K     |████████████████████████████████| 2.3 MB 67.3 MB/s eta 0:00:01"
     ]
    },
    {
     "name": "stdout",
     "output_type": "stream",
     "text": [
      "\r\u001b[K     |████████████████████████████████| 2.3 MB 67.3 MB/s \r\n",
      "\u001b[?25hRequirement already satisfied: networkx>=1.0 in ./.local/lib/python3.9/site-packages (from MDAnalysis) (2.6.2)\r\n"
     ]
    },
    {
     "name": "stdout",
     "output_type": "stream",
     "text": [
      "Collecting GridDataFormats>=0.4.0\r\n",
      "  Downloading GridDataFormats-0.5.0-py2.py3-none-any.whl (2.0 MB)\r\n",
      "\u001b[?25l\r\u001b[K     |▏                               | 10 kB 65.1 MB/s eta 0:00:01\r\u001b[K     |▍                               | 20 kB 73.2 MB/s eta 0:00:01\r\u001b[K     |▌                               | 30 kB 83.3 MB/s eta 0:00:01\r\u001b[K     |▊                               | 40 kB 94.1 MB/s eta 0:00:01\r\u001b[K     |▉                               | 51 kB 100.0 MB/s eta 0:00:01\r\u001b[K     |█                               | 61 kB 105.5 MB/s eta 0:00:01\r\u001b[K     |█▏                              | 71 kB 109.5 MB/s eta 0:00:01\r\u001b[K     |█▍                              | 81 kB 116.5 MB/s eta 0:00:01\r\u001b[K     |█▌                              | 92 kB 117.4 MB/s eta 0:00:01\r\u001b[K     |█▊                              | 102 kB 113.9 MB/s eta 0:00:01\r\u001b[K     |█▉                              | 112 kB 113.9 MB/s eta 0:00:01\r\u001b[K     |██                              | 122 kB 113.9 MB/s eta 0:00:01\r\u001b[K     |██▏                             | 133 kB 113.9 MB/s eta 0:00:01\r\u001b[K     |██▍                             | 143 kB 113.9 MB/s eta 0:00:01\r\u001b[K     |██▌                             | 153 kB 113.9 MB/s eta 0:00:01\r\u001b[K     |██▊                             | 163 kB 113.9 MB/s eta 0:00:01\r\u001b[K     |██▉                             | 174 kB 113.9 MB/s eta 0:00:01\r\u001b[K     |███                             | 184 kB 113.9 MB/s eta 0:00:01\r\u001b[K     |███▏                            | 194 kB 113.9 MB/s eta 0:00:01\r\u001b[K     |███▍                            | 204 kB 113.9 MB/s eta 0:00:01\r\u001b[K     |███▌                            | 215 kB 113.9 MB/s eta 0:00:01\r\u001b[K     |███▊                            | 225 kB 113.9 MB/s eta 0:00:01\r\u001b[K     |███▉                            | 235 kB 113.9 MB/s eta 0:00:01\r\u001b[K     |████                            | 245 kB 113.9 MB/s eta 0:00:01\r\u001b[K     |████▏                           | 256 kB 113.9 MB/s eta 0:00:01\r\u001b[K     |████▍                           | 266 kB 113.9 MB/s eta 0:00:01\r\u001b[K     |████▌                           | 276 kB 113.9 MB/s eta 0:00:01\r\u001b[K     |████▊                           | 286 kB 113.9 MB/s eta 0:00:01\r\u001b[K     |████▉                           | 296 kB 113.9 MB/s eta 0:00:01\r\u001b[K     |█████                           | 307 kB 113.9 MB/s eta 0:00:01\r\u001b[K     |█████▏                          | 317 kB 113.9 MB/s eta 0:00:01\r\u001b[K     |█████▍                          | 327 kB 113.9 MB/s eta 0:00:01\r\u001b[K     |█████▌                          | 337 kB 113.9 MB/s eta 0:00:01\r\u001b[K     |█████▊                          | 348 kB 113.9 MB/s eta 0:00:01\r\u001b[K     |█████▉                          | 358 kB 113.9 MB/s eta 0:00:01\r\u001b[K     |██████                          | 368 kB 113.9 MB/s eta 0:00:01\r\u001b[K     |██████▏                         | 378 kB 113.9 MB/s eta 0:00:01\r\u001b[K     |██████▍                         | 389 kB 113.9 MB/s eta 0:00:01\r\u001b[K     |██████▌                         | 399 kB 113.9 MB/s eta 0:00:01\r\u001b[K     |██████▊                         | 409 kB 113.9 MB/s eta 0:00:01\r\u001b[K     |██████▉                         | 419 kB 113.9 MB/s eta 0:00:01\r\u001b[K     |███████                         | 430 kB 113.9 MB/s eta 0:00:01\r\u001b[K     |███████▏                        | 440 kB 113.9 MB/s eta 0:00:01\r\u001b[K     |███████▍                        | 450 kB 113.9 MB/s eta 0:00:01\r\u001b[K     |███████▌                        | 460 kB 113.9 MB/s eta 0:00:01\r\u001b[K     |███████▊                        | 471 kB 113.9 MB/s eta 0:00:01\r\u001b[K     |███████▉                        | 481 kB 113.9 MB/s eta 0:00:01\r\u001b[K     |████████                        | 491 kB 113.9 MB/s eta 0:00:01\r\u001b[K     |████████▏                       | 501 kB 113.9 MB/s eta 0:00:01\r\u001b[K     |████████▍                       | 512 kB 113.9 MB/s eta 0:00:01\r\u001b[K     |████████▌                       | 522 kB 113.9 MB/s eta 0:00:01\r\u001b[K     |████████▊                       | 532 kB 113.9 MB/s eta 0:00:01\r\u001b[K     |████████▉                       | 542 kB 113.9 MB/s eta 0:00:01\r\u001b[K     |█████████                       | 552 kB 113.9 MB/s eta 0:00:01\r\u001b[K     |█████████▏                      | 563 kB 113.9 MB/s eta 0:00:01\r\u001b[K     |█████████▍                      | 573 kB 113.9 MB/s eta 0:00:01\r\u001b[K     |█████████▌                      | 583 kB 113.9 MB/s eta 0:00:01\r\u001b[K     |█████████▊                      | 593 kB 113.9 MB/s eta 0:00:01\r\u001b[K     |██████████                      | 604 kB 113.9 MB/s eta 0:00:01\r\u001b[K     |██████████                      | 614 kB 113.9 MB/s eta 0:00:01\r\u001b[K     |██████████▎                     | 624 kB 113.9 MB/s eta 0:00:01\r\u001b[K     |██████████▍                     | 634 kB 113.9 MB/s eta 0:00:01\r\u001b[K     |██████████▋                     | 645 kB 113.9 MB/s eta 0:00:01\r\u001b[K     |██████████▊                     | 655 kB 113.9 MB/s eta 0:00:01\r\u001b[K     |███████████                     | 665 kB 113.9 MB/s eta 0:00:01\r\u001b[K     |███████████                     | 675 kB 113.9 MB/s eta 0:00:01\r\u001b[K     |███████████▎                    | 686 kB 113.9 MB/s eta 0:00:01\r\u001b[K     |███████████▍                    | 696 kB 113.9 MB/s eta 0:00:01\r\u001b[K     |███████████▋                    | 706 kB 113.9 MB/s eta 0:00:01\r\u001b[K     |███████████▊                    | 716 kB 113.9 MB/s eta 0:00:01\r\u001b[K     |████████████                    | 727 kB 113.9 MB/s eta 0:00:01\r\u001b[K     |████████████                    | 737 kB 113.9 MB/s eta 0:00:01\r\u001b[K     |████████████▎                   | 747 kB 113.9 MB/s eta 0:00:01\r\u001b[K     |████████████▍                   | 757 kB 113.9 MB/s eta 0:00:01\r\u001b[K     |████████████▋                   | 768 kB 113.9 MB/s eta 0:00:01\r\u001b[K     |████████████▊                   | 778 kB 113.9 MB/s eta 0:00:01\r\u001b[K     |█████████████                   | 788 kB 113.9 MB/s eta 0:00:01\r\u001b[K     |█████████████                   | 798 kB 113.9 MB/s eta 0:00:01\r\u001b[K     |█████████████▎                  | 808 kB 113.9 MB/s eta 0:00:01\r\u001b[K     |█████████████▍                  | 819 kB 113.9 MB/s eta 0:00:01\r\u001b[K     |█████████████▋                  | 829 kB 113.9 MB/s eta 0:00:01\r\u001b[K     |█████████████▊                  | 839 kB 113.9 MB/s eta 0:00:01\r\u001b[K     |██████████████                  | 849 kB 113.9 MB/s eta 0:00:01\r\u001b[K     |██████████████                  | 860 kB 113.9 MB/s eta 0:00:01\r\u001b[K     |██████████████▎                 | 870 kB 113.9 MB/s eta 0:00:01\r\u001b[K     |██████████████▍                 | 880 kB 113.9 MB/s eta 0:00:01\r\u001b[K     |██████████████▋                 | 890 kB 113.9 MB/s eta 0:00:01\r\u001b[K     |██████████████▊                 | 901 kB 113.9 MB/s eta 0:00:01\r\u001b[K     |███████████████                 | 911 kB 113.9 MB/s eta 0:00:01\r\u001b[K     |███████████████                 | 921 kB 113.9 MB/s eta 0:00:01\r\u001b[K     |███████████████▎                | 931 kB 113.9 MB/s eta 0:00:01\r\u001b[K     |███████████████▍                | 942 kB 113.9 MB/s eta 0:00:01\r\u001b[K     |███████████████▋                | 952 kB 113.9 MB/s eta 0:00:01\r\u001b[K     |███████████████▊                | 962 kB 113.9 MB/s eta 0:00:01\r\u001b[K     |████████████████                | 972 kB 113.9 MB/s eta 0:00:01\r\u001b[K     |████████████████                | 983 kB 113.9 MB/s eta 0:00:01\r\u001b[K     |████████████████▎               | 993 kB 113.9 MB/s eta 0:00:01\r\u001b[K     |████████████████▍               | 1.0 MB 113.9 MB/s eta 0:00:01\r\u001b[K     |████████████████▋               | 1.0 MB 113.9 MB/s eta 0:00:01\r\u001b[K     |████████████████▊               | 1.0 MB 113.9 MB/s eta 0:00:01\r\u001b[K     |█████████████████               | 1.0 MB 113.9 MB/s eta 0:00:01\r\u001b[K     |█████████████████               | 1.0 MB 113.9 MB/s eta 0:00:01\r\u001b[K     |█████████████████▎              | 1.1 MB 113.9 MB/s eta 0:00:01\r\u001b[K     |█████████████████▍              | 1.1 MB 113.9 MB/s eta 0:00:01\r\u001b[K     |█████████████████▋              | 1.1 MB 113.9 MB/s eta 0:00:01\r\u001b[K     |█████████████████▊              | 1.1 MB 113.9 MB/s eta 0:00:01\r\u001b[K     |██████████████████              | 1.1 MB 113.9 MB/s eta 0:00:01\r\u001b[K     |██████████████████              | 1.1 MB 113.9 MB/s eta 0:00:01\r\u001b[K     |██████████████████▎             | 1.1 MB 113.9 MB/s eta 0:00:01\r\u001b[K     |██████████████████▍             | 1.1 MB 113.9 MB/s eta 0:00:01\r\u001b[K     |██████████████████▋             | 1.1 MB 113.9 MB/s eta 0:00:01\r\u001b[K     |██████████████████▊             | 1.1 MB 113.9 MB/s eta 0:00:01\r\u001b[K     |███████████████████             | 1.2 MB 113.9 MB/s eta 0:00:01\r\u001b[K     |███████████████████             | 1.2 MB 113.9 MB/s eta 0:00:01\r\u001b[K     |███████████████████▎            | 1.2 MB 113.9 MB/s eta 0:00:01\r\u001b[K     |███████████████████▌            | 1.2 MB 113.9 MB/s eta 0:00:01\r\u001b[K     |███████████████████▋            | 1.2 MB 113.9 MB/s eta 0:00:01\r\u001b[K     |███████████████████▉            | 1.2 MB 113.9 MB/s eta 0:00:01\r\u001b[K     |████████████████████            | 1.2 MB 113.9 MB/s eta 0:00:01\r\u001b[K     |████████████████████▏           | 1.2 MB 113.9 MB/s eta 0:00:01\r\u001b[K     |████████████████████▎           | 1.2 MB 113.9 MB/s eta 0:00:01\r\u001b[K     |████████████████████▌           | 1.2 MB 113.9 MB/s eta 0:00:01\r\u001b[K     |████████████████████▋           | 1.3 MB 113.9 MB/s eta 0:00:01\r\u001b[K     |████████████████████▉           | 1.3 MB 113.9 MB/s eta 0:00:01\r\u001b[K     |█████████████████████           | 1.3 MB 113.9 MB/s eta 0:00:01\r\u001b[K     |█████████████████████▏          | 1.3 MB 113.9 MB/s eta 0:00:01\r\u001b[K     |█████████████████████▎          | 1.3 MB 113.9 MB/s eta 0:00:01\r\u001b[K     |█████████████████████▌          | 1.3 MB 113.9 MB/s eta 0:00:01\r\u001b[K     |█████████████████████▋          | 1.3 MB 113.9 MB/s eta 0:00:01\r\u001b[K     |█████████████████████▉          | 1.3 MB 113.9 MB/s eta 0:00:01"
     ]
    },
    {
     "name": "stdout",
     "output_type": "stream",
     "text": [
      "\r\u001b[K     |██████████████████████          | 1.3 MB 113.9 MB/s eta 0:00:01\r\u001b[K     |██████████████████████▏         | 1.4 MB 113.9 MB/s eta 0:00:01\r\u001b[K     |██████████████████████▎         | 1.4 MB 113.9 MB/s eta 0:00:01\r\u001b[K     |██████████████████████▌         | 1.4 MB 113.9 MB/s eta 0:00:01\r\u001b[K     |██████████████████████▋         | 1.4 MB 113.9 MB/s eta 0:00:01\r\u001b[K     |██████████████████████▉         | 1.4 MB 113.9 MB/s eta 0:00:01\r\u001b[K     |███████████████████████         | 1.4 MB 113.9 MB/s eta 0:00:01\r\u001b[K     |███████████████████████▏        | 1.4 MB 113.9 MB/s eta 0:00:01\r\u001b[K     |███████████████████████▎        | 1.4 MB 113.9 MB/s eta 0:00:01\r\u001b[K     |███████████████████████▌        | 1.4 MB 113.9 MB/s eta 0:00:01\r\u001b[K     |███████████████████████▋        | 1.4 MB 113.9 MB/s eta 0:00:01\r\u001b[K     |███████████████████████▉        | 1.5 MB 113.9 MB/s eta 0:00:01\r\u001b[K     |████████████████████████        | 1.5 MB 113.9 MB/s eta 0:00:01\r\u001b[K     |████████████████████████▏       | 1.5 MB 113.9 MB/s eta 0:00:01\r\u001b[K     |████████████████████████▎       | 1.5 MB 113.9 MB/s eta 0:00:01\r\u001b[K     |████████████████████████▌       | 1.5 MB 113.9 MB/s eta 0:00:01\r\u001b[K     |████████████████████████▋       | 1.5 MB 113.9 MB/s eta 0:00:01\r\u001b[K     |████████████████████████▉       | 1.5 MB 113.9 MB/s eta 0:00:01\r\u001b[K     |█████████████████████████       | 1.5 MB 113.9 MB/s eta 0:00:01\r\u001b[K     |█████████████████████████▏      | 1.5 MB 113.9 MB/s eta 0:00:01\r\u001b[K     |█████████████████████████▎      | 1.5 MB 113.9 MB/s eta 0:00:01\r\u001b[K     |█████████████████████████▌      | 1.6 MB 113.9 MB/s eta 0:00:01\r\u001b[K     |█████████████████████████▋      | 1.6 MB 113.9 MB/s eta 0:00:01\r\u001b[K     |█████████████████████████▉      | 1.6 MB 113.9 MB/s eta 0:00:01\r\u001b[K     |██████████████████████████      | 1.6 MB 113.9 MB/s eta 0:00:01\r\u001b[K     |██████████████████████████▏     | 1.6 MB 113.9 MB/s eta 0:00:01\r\u001b[K     |██████████████████████████▎     | 1.6 MB 113.9 MB/s eta 0:00:01\r\u001b[K     |██████████████████████████▌     | 1.6 MB 113.9 MB/s eta 0:00:01\r\u001b[K     |██████████████████████████▋     | 1.6 MB 113.9 MB/s eta 0:00:01\r\u001b[K     |██████████████████████████▉     | 1.6 MB 113.9 MB/s eta 0:00:01\r\u001b[K     |███████████████████████████     | 1.6 MB 113.9 MB/s eta 0:00:01\r\u001b[K     |███████████████████████████▏    | 1.7 MB 113.9 MB/s eta 0:00:01\r\u001b[K     |███████████████████████████▎    | 1.7 MB 113.9 MB/s eta 0:00:01\r\u001b[K     |███████████████████████████▌    | 1.7 MB 113.9 MB/s eta 0:00:01\r\u001b[K     |███████████████████████████▋    | 1.7 MB 113.9 MB/s eta 0:00:01\r\u001b[K     |███████████████████████████▉    | 1.7 MB 113.9 MB/s eta 0:00:01\r\u001b[K     |████████████████████████████    | 1.7 MB 113.9 MB/s eta 0:00:01\r\u001b[K     |████████████████████████████▏   | 1.7 MB 113.9 MB/s eta 0:00:01\r\u001b[K     |████████████████████████████▎   | 1.7 MB 113.9 MB/s eta 0:00:01\r\u001b[K     |████████████████████████████▌   | 1.7 MB 113.9 MB/s eta 0:00:01\r\u001b[K     |████████████████████████████▋   | 1.8 MB 113.9 MB/s eta 0:00:01\r\u001b[K     |████████████████████████████▉   | 1.8 MB 113.9 MB/s eta 0:00:01\r\u001b[K     |█████████████████████████████   | 1.8 MB 113.9 MB/s eta 0:00:01\r\u001b[K     |█████████████████████████████▏  | 1.8 MB 113.9 MB/s eta 0:00:01\r\u001b[K     |█████████████████████████████▍  | 1.8 MB 113.9 MB/s eta 0:00:01\r\u001b[K     |█████████████████████████████▌  | 1.8 MB 113.9 MB/s eta 0:00:01\r\u001b[K     |█████████████████████████████▊  | 1.8 MB 113.9 MB/s eta 0:00:01\r\u001b[K     |█████████████████████████████▉  | 1.8 MB 113.9 MB/s eta 0:00:01\r\u001b[K     |██████████████████████████████  | 1.8 MB 113.9 MB/s eta 0:00:01\r\u001b[K     |██████████████████████████████▏ | 1.8 MB 113.9 MB/s eta 0:00:01\r\u001b[K     |██████████████████████████████▍ | 1.9 MB 113.9 MB/s eta 0:00:01\r\u001b[K     |██████████████████████████████▌ | 1.9 MB 113.9 MB/s eta 0:00:01\r\u001b[K     |██████████████████████████████▊ | 1.9 MB 113.9 MB/s eta 0:00:01\r\u001b[K     |██████████████████████████████▉ | 1.9 MB 113.9 MB/s eta 0:00:01\r\u001b[K     |███████████████████████████████ | 1.9 MB 113.9 MB/s eta 0:00:01\r\u001b[K     |███████████████████████████████▏| 1.9 MB 113.9 MB/s eta 0:00:01\r\u001b[K     |███████████████████████████████▍| 1.9 MB 113.9 MB/s eta 0:00:01\r\u001b[K     |███████████████████████████████▌| 1.9 MB 113.9 MB/s eta 0:00:01\r\u001b[K     |███████████████████████████████▊| 1.9 MB 113.9 MB/s eta 0:00:01\r\u001b[K     |███████████████████████████████▉| 1.9 MB 113.9 MB/s eta 0:00:01\r\u001b[K     |████████████████████████████████| 2.0 MB 113.9 MB/s \r\n",
      "\u001b[?25hRequirement already satisfied: six>=1.4.0 in ./.local/lib/python3.9/site-packages (from MDAnalysis) (1.16.0)\r\n"
     ]
    },
    {
     "name": "stdout",
     "output_type": "stream",
     "text": [
      "Collecting mmtf-python>=1.0.0\r\n",
      "  Downloading mmtf_python-1.1.2-py2.py3-none-any.whl (21 kB)\r\n",
      "Requirement already satisfied: joblib>=0.12 in ./.local/lib/python3.9/site-packages (from MDAnalysis) (1.0.1)\r\n",
      "Requirement already satisfied: scipy>=1.0.0 in ./.local/lib/python3.9/site-packages (from MDAnalysis) (1.7.1)\r\n",
      "Requirement already satisfied: matplotlib>=1.5.1 in ./.local/lib/python3.9/site-packages (from MDAnalysis) (3.4.2)\r\n"
     ]
    },
    {
     "name": "stdout",
     "output_type": "stream",
     "text": [
      "Collecting mock\r\n",
      "  Downloading mock-4.0.3-py3-none-any.whl (28 kB)\r\n"
     ]
    },
    {
     "name": "stdout",
     "output_type": "stream",
     "text": [
      "Requirement already satisfied: tqdm>=4.43.0 in ./.local/lib/python3.9/site-packages (from MDAnalysis) (4.62.0)\r\n"
     ]
    },
    {
     "name": "stdout",
     "output_type": "stream",
     "text": [
      "Collecting gsd>=1.4.0\r\n"
     ]
    },
    {
     "name": "stdout",
     "output_type": "stream",
     "text": [
      "  Downloading gsd-2.4.2-cp39-cp39-manylinux2010_x86_64.whl (354 kB)\r\n",
      "\u001b[?25l\r\u001b[K     |█                               | 10 kB 45.7 MB/s eta 0:00:01\r\u001b[K     |█▉                              | 20 kB 55.7 MB/s eta 0:00:01\r\u001b[K     |██▊                             | 30 kB 67.6 MB/s eta 0:00:01\r\u001b[K     |███▊                            | 40 kB 70.9 MB/s eta 0:00:01\r\u001b[K     |████▋                           | 51 kB 73.6 MB/s eta 0:00:01\r\u001b[K     |█████▌                          | 61 kB 78.8 MB/s eta 0:00:01\r\u001b[K     |██████▌                         | 71 kB 81.1 MB/s eta 0:00:01\r\u001b[K     |███████▍                        | 81 kB 85.8 MB/s eta 0:00:01\r\u001b[K     |████████▎                       | 92 kB 86.2 MB/s eta 0:00:01\r\u001b[K     |█████████▎                      | 102 kB 88.1 MB/s eta 0:00:01\r\u001b[K     |██████████▏                     | 112 kB 88.1 MB/s eta 0:00:01\r\u001b[K     |███████████                     | 122 kB 88.1 MB/s eta 0:00:01\r\u001b[K     |████████████                    | 133 kB 88.1 MB/s eta 0:00:01\r\u001b[K     |█████████████                   | 143 kB 88.1 MB/s eta 0:00:01\r\u001b[K     |█████████████▉                  | 153 kB 88.1 MB/s eta 0:00:01\r\u001b[K     |██████████████▉                 | 163 kB 88.1 MB/s eta 0:00:01\r\u001b[K     |███████████████▊                | 174 kB 88.1 MB/s eta 0:00:01\r\u001b[K     |████████████████▋               | 184 kB 88.1 MB/s eta 0:00:01\r\u001b[K     |█████████████████▋              | 194 kB 88.1 MB/s eta 0:00:01\r\u001b[K     |██████████████████▌             | 204 kB 88.1 MB/s eta 0:00:01\r\u001b[K     |███████████████████▍            | 215 kB 88.1 MB/s eta 0:00:01\r\u001b[K     |████████████████████▎           | 225 kB 88.1 MB/s eta 0:00:01\r\u001b[K     |█████████████████████▎          | 235 kB 88.1 MB/s eta 0:00:01\r\u001b[K     |██████████████████████▏         | 245 kB 88.1 MB/s eta 0:00:01\r\u001b[K     |███████████████████████         | 256 kB 88.1 MB/s eta 0:00:01\r\u001b[K     |████████████████████████        | 266 kB 88.1 MB/s eta 0:00:01\r\u001b[K     |█████████████████████████       | 276 kB 88.1 MB/s eta 0:00:01\r\u001b[K     |█████████████████████████▉      | 286 kB 88.1 MB/s eta 0:00:01\r\u001b[K     |██████████████████████████▉     | 296 kB 88.1 MB/s eta 0:00:01\r\u001b[K     |███████████████████████████▊    | 307 kB 88.1 MB/s eta 0:00:01\r\u001b[K     |████████████████████████████▋   | 317 kB 88.1 MB/s eta 0:00:01\r\u001b[K     |█████████████████████████████▋  | 327 kB 88.1 MB/s eta 0:00:01\r\u001b[K     |██████████████████████████████▌ | 337 kB 88.1 MB/s eta 0:00:01\r\u001b[K     |███████████████████████████████▍| 348 kB 88.1 MB/s eta 0:00:01\r\u001b[K     |████████████████████████████████| 354 kB 88.1 MB/s \r\n",
      "\u001b[?25hRequirement already satisfied: kiwisolver>=1.0.1 in ./.local/lib/python3.9/site-packages (from matplotlib>=1.5.1->MDAnalysis) (1.3.1)\r\n",
      "Requirement already satisfied: cycler>=0.10 in ./.local/lib/python3.9/site-packages (from matplotlib>=1.5.1->MDAnalysis) (0.10.0)\r\n",
      "Requirement already satisfied: python-dateutil>=2.7 in ./.local/lib/python3.9/site-packages (from matplotlib>=1.5.1->MDAnalysis) (2.8.2)\r\n",
      "Requirement already satisfied: pillow>=6.2.0 in ./.local/lib/python3.9/site-packages (from matplotlib>=1.5.1->MDAnalysis) (8.3.1)\r\n",
      "Requirement already satisfied: pyparsing>=2.2.1 in ./.local/lib/python3.9/site-packages (from matplotlib>=1.5.1->MDAnalysis) (2.4.7)\r\n"
     ]
    },
    {
     "name": "stdout",
     "output_type": "stream",
     "text": [
      "Requirement already satisfied: msgpack>=0.5.6 in ./.local/lib/python3.9/site-packages (from mmtf-python>=1.0.0->MDAnalysis) (1.0.2)\r\n",
      "Building wheels for collected packages: MDAnalysis\r\n"
     ]
    },
    {
     "name": "stdout",
     "output_type": "stream",
     "text": [
      "  Building wheel for MDAnalysis (setup.py) ... \u001b[?25l-"
     ]
    },
    {
     "name": "stdout",
     "output_type": "stream",
     "text": [
      "\b \b\\"
     ]
    },
    {
     "name": "stdout",
     "output_type": "stream",
     "text": [
      "\b \b|"
     ]
    },
    {
     "name": "stdout",
     "output_type": "stream",
     "text": [
      "\b \b/"
     ]
    },
    {
     "name": "stdout",
     "output_type": "stream",
     "text": [
      "\b \b-"
     ]
    },
    {
     "name": "stdout",
     "output_type": "stream",
     "text": [
      "\b \b\\"
     ]
    },
    {
     "name": "stdout",
     "output_type": "stream",
     "text": [
      "\b \b|"
     ]
    },
    {
     "name": "stdout",
     "output_type": "stream",
     "text": [
      "\b \b/"
     ]
    },
    {
     "name": "stdout",
     "output_type": "stream",
     "text": [
      "\b \b-"
     ]
    },
    {
     "name": "stdout",
     "output_type": "stream",
     "text": [
      "\b \b\\"
     ]
    },
    {
     "name": "stdout",
     "output_type": "stream",
     "text": [
      "\b \b|"
     ]
    },
    {
     "name": "stdout",
     "output_type": "stream",
     "text": [
      "\b \b/"
     ]
    },
    {
     "name": "stdout",
     "output_type": "stream",
     "text": [
      "\b \b-"
     ]
    },
    {
     "name": "stdout",
     "output_type": "stream",
     "text": [
      "\b \b\\"
     ]
    },
    {
     "name": "stdout",
     "output_type": "stream",
     "text": [
      "\b \b|"
     ]
    },
    {
     "name": "stdout",
     "output_type": "stream",
     "text": [
      "\b \b/"
     ]
    },
    {
     "name": "stdout",
     "output_type": "stream",
     "text": [
      "\b \b-"
     ]
    },
    {
     "name": "stdout",
     "output_type": "stream",
     "text": [
      "\b \b\\"
     ]
    },
    {
     "name": "stdout",
     "output_type": "stream",
     "text": [
      "\b \b|"
     ]
    },
    {
     "name": "stdout",
     "output_type": "stream",
     "text": [
      "\b \b/"
     ]
    },
    {
     "name": "stdout",
     "output_type": "stream",
     "text": [
      "\b \b-"
     ]
    },
    {
     "name": "stdout",
     "output_type": "stream",
     "text": [
      "\b \b\\"
     ]
    },
    {
     "name": "stdout",
     "output_type": "stream",
     "text": [
      "\b \b|"
     ]
    },
    {
     "name": "stdout",
     "output_type": "stream",
     "text": [
      "\b \b/"
     ]
    },
    {
     "name": "stdout",
     "output_type": "stream",
     "text": [
      "\b \b-"
     ]
    },
    {
     "name": "stdout",
     "output_type": "stream",
     "text": [
      "\b \b\\"
     ]
    },
    {
     "name": "stdout",
     "output_type": "stream",
     "text": [
      "\b \b|"
     ]
    },
    {
     "name": "stdout",
     "output_type": "stream",
     "text": [
      "\b \b/"
     ]
    },
    {
     "name": "stdout",
     "output_type": "stream",
     "text": [
      "\b \b-"
     ]
    },
    {
     "name": "stdout",
     "output_type": "stream",
     "text": [
      "\b \b\\"
     ]
    },
    {
     "name": "stdout",
     "output_type": "stream",
     "text": [
      "\b \b|"
     ]
    },
    {
     "name": "stdout",
     "output_type": "stream",
     "text": [
      "\b \b/"
     ]
    },
    {
     "name": "stdout",
     "output_type": "stream",
     "text": [
      "\b \b-"
     ]
    },
    {
     "name": "stdout",
     "output_type": "stream",
     "text": [
      "\b \b\\"
     ]
    },
    {
     "name": "stdout",
     "output_type": "stream",
     "text": [
      "\b \b|"
     ]
    },
    {
     "name": "stdout",
     "output_type": "stream",
     "text": [
      "\b \b/"
     ]
    },
    {
     "name": "stdout",
     "output_type": "stream",
     "text": [
      "\b \b-"
     ]
    },
    {
     "name": "stdout",
     "output_type": "stream",
     "text": [
      "\b \b\\"
     ]
    },
    {
     "name": "stdout",
     "output_type": "stream",
     "text": [
      "\b \b|"
     ]
    },
    {
     "name": "stdout",
     "output_type": "stream",
     "text": [
      "\b \b/"
     ]
    },
    {
     "name": "stdout",
     "output_type": "stream",
     "text": [
      "\b \b-"
     ]
    },
    {
     "name": "stdout",
     "output_type": "stream",
     "text": [
      "\b \b\\"
     ]
    },
    {
     "name": "stdout",
     "output_type": "stream",
     "text": [
      "\b \b|"
     ]
    },
    {
     "name": "stdout",
     "output_type": "stream",
     "text": [
      "\b \b/"
     ]
    },
    {
     "name": "stdout",
     "output_type": "stream",
     "text": [
      "\b \bdone\r\n",
      "\u001b[?25h  Created wheel for MDAnalysis: filename=MDAnalysis-1.0.0-cp39-cp39-linux_x86_64.whl size=2042632 sha256=ec1e3d699b6756c1907745e1e56e5b077b9e29520cbb6830c1143c040aea3020\r\n",
      "  Stored in directory: /home/user/.cache/pip/wheels/50/9f/9e/803a0fafc253694711c79fb2940e717d32cf5114719a444cc5\r\n",
      "Successfully built MDAnalysis\r\n"
     ]
    },
    {
     "name": "stdout",
     "output_type": "stream",
     "text": [
      "Installing collected packages: mock, mmtf-python, gsd, GridDataFormats, biopython, MDAnalysis\r\n"
     ]
    },
    {
     "name": "stdout",
     "output_type": "stream",
     "text": [
      "Successfully installed GridDataFormats-0.5.0 MDAnalysis-1.0.0 biopython-1.79 gsd-2.4.2 mmtf-python-1.1.2 mock-4.0.3\r\n"
     ]
    }
   ],
   "source": [
    "!pip install MDAnalysis"
   ]
  },
  {
   "cell_type": "markdown",
   "metadata": {
    "collapsed": false
   },
   "source": [
    "Now, we confirm the package is installed using the `pip show` command again."
   ]
  },
  {
   "cell_type": "code",
   "execution_count": 7,
   "metadata": {
    "collapsed": false
   },
   "outputs": [
    {
     "name": "stdout",
     "output_type": "stream",
     "text": [
      "Name: MDAnalysis\r\n",
      "Version: 1.0.0\r\n",
      "Summary: An object-oriented toolkit to analyze molecular dynamics trajectories generated by CHARMM, Gromacs, NAMD, LAMMPS, or Amber.\r\n",
      "Home-page: https://www.mdanalysis.org\r\n",
      "Author: Naveen Michaud-Agrawal\r\n",
      "Author-email: naveen.michaudagrawal@gmail.com\r\n",
      "License: GPL 2\r\n",
      "Location: /home/user/.local/lib/python3.9/site-packages\r\n",
      "Requires: mmtf-python, gsd, numpy, networkx, tqdm, GridDataFormats, matplotlib, scipy, mock, six, joblib, biopython\r\n",
      "Required-by: \r\n"
     ]
    }
   ],
   "source": [
    "!pip show MDAnalysis"
   ]
  },
  {
   "cell_type": "markdown",
   "metadata": {
    "collapsed": false
   },
   "source": [
    "After installing the package, we must reload the notebook kernel to load the newly installed package. To do this, click Kernel -> Restart Kernel"
   ]
  },
  {
   "cell_type": "code",
   "execution_count": 8,
   "metadata": {
    "collapsed": false
   },
   "outputs": [
    {
     "data": {
      "text/plain": [
       "'1.0.0'"
      ]
     },
     "execution_count": 8,
     "metadata": {
     },
     "output_type": "execute_result"
    }
   ],
   "source": [
    "import MDAnalysis\n",
    "MDAnalysis.__version__"
   ]
  },
  {
   "cell_type": "markdown",
   "metadata": {
    "collapsed": false
   },
   "source": [
    "Package versions can be found on the PyPI page for each package. We can specify the version we want installed using `==`."
   ]
  },
  {
   "cell_type": "code",
   "execution_count": 9,
   "metadata": {
    "collapsed": false,
    "scrolled": true
   },
   "outputs": [
    {
     "name": "stdout",
     "output_type": "stream",
     "text": [
      "Defaulting to user installation because normal site-packages is not writeable\r\n"
     ]
    },
    {
     "name": "stdout",
     "output_type": "stream",
     "text": [
      "Collecting MDAnalysis==2.0.0b0\r\n"
     ]
    },
    {
     "name": "stdout",
     "output_type": "stream",
     "text": [
      "  Downloading MDAnalysis-2.0.0b0.tar.gz (3.4 MB)\r\n",
      "\u001b[?25l\r\u001b[K     |                                | 10 kB 34.6 MB/s eta 0:00:01\r\u001b[K     |▏                               | 20 kB 20.5 MB/s eta 0:00:01\r\u001b[K     |▎                               | 30 kB 10.7 MB/s eta 0:00:01\r\u001b[K     |▍                               | 40 kB 4.3 MB/s eta 0:00:01\r\u001b[K     |▌                               | 51 kB 5.1 MB/s eta 0:00:01\r\u001b[K     |▋                               | 61 kB 5.2 MB/s eta 0:00:01\r\u001b[K     |▊                               | 71 kB 5.2 MB/s eta 0:00:01\r\u001b[K     |▊                               | 81 kB 5.9 MB/s eta 0:00:01\r\u001b[K     |▉                               | 92 kB 6.1 MB/s eta 0:00:01\r\u001b[K     |█                               | 102 kB 5.0 MB/s eta 0:00:01\r\u001b[K     |█                               | 112 kB 5.0 MB/s eta 0:00:01\r\u001b[K     |█▏                              | 122 kB 5.0 MB/s eta 0:00:01\r\u001b[K     |█▎                              | 133 kB 5.0 MB/s eta 0:00:01\r\u001b[K     |█▍                              | 143 kB 5.0 MB/s eta 0:00:01\r\u001b[K     |█▍                              | 153 kB 5.0 MB/s eta 0:00:01\r\u001b[K     |█▌                              | 163 kB 5.0 MB/s eta 0:00:01\r\u001b[K     |█▋                              | 174 kB 5.0 MB/s eta 0:00:01\r\u001b[K     |█▊                              | 184 kB 5.0 MB/s eta 0:00:01\r\u001b[K     |█▉                              | 194 kB 5.0 MB/s eta 0:00:01\r\u001b[K     |██                              | 204 kB 5.0 MB/s eta 0:00:01\r\u001b[K     |██                              | 215 kB 5.0 MB/s eta 0:00:01\r\u001b[K     |██                              | 225 kB 5.0 MB/s eta 0:00:01\r\u001b[K     |██▏                             | 235 kB 5.0 MB/s eta 0:00:01\r\u001b[K     |██▎                             | 245 kB 5.0 MB/s eta 0:00:01\r\u001b[K     |██▍                             | 256 kB 5.0 MB/s eta 0:00:01\r\u001b[K     |██▌                             | 266 kB 5.0 MB/s eta 0:00:01\r\u001b[K     |██▋                             | 276 kB 5.0 MB/s eta 0:00:01\r\u001b[K     |██▊                             | 286 kB 5.0 MB/s eta 0:00:01\r\u001b[K     |██▉                             | 296 kB 5.0 MB/s eta 0:00:01\r\u001b[K     |██▉                             | 307 kB 5.0 MB/s eta 0:00:01\r\u001b[K     |███                             | 317 kB 5.0 MB/s eta 0:00:01\r\u001b[K     |███                             | 327 kB 5.0 MB/s eta 0:00:01\r\u001b[K     |███▏                            | 337 kB 5.0 MB/s eta 0:00:01\r\u001b[K     |███▎                            | 348 kB 5.0 MB/s eta 0:00:01\r\u001b[K     |███▍                            | 358 kB 5.0 MB/s eta 0:00:01\r\u001b[K     |███▌                            | 368 kB 5.0 MB/s eta 0:00:01\r\u001b[K     |███▌                            | 378 kB 5.0 MB/s eta 0:00:01\r\u001b[K     |███▋                            | 389 kB 5.0 MB/s eta 0:00:01\r\u001b[K     |███▊                            | 399 kB 5.0 MB/s eta 0:00:01\r\u001b[K     |███▉                            | 409 kB 5.0 MB/s eta 0:00:01\r\u001b[K     |████                            | 419 kB 5.0 MB/s eta 0:00:01\r\u001b[K     |████                            | 430 kB 5.0 MB/s eta 0:00:01"
     ]
    },
    {
     "name": "stdout",
     "output_type": "stream",
     "text": [
      "\r\u001b[K     |████▏                           | 440 kB 5.0 MB/s eta 0:00:01\r\u001b[K     |████▏                           | 450 kB 5.0 MB/s eta 0:00:01\r\u001b[K     |████▎                           | 460 kB 5.0 MB/s eta 0:00:01\r\u001b[K     |████▍                           | 471 kB 5.0 MB/s eta 0:00:01\r\u001b[K     |████▌                           | 481 kB 5.0 MB/s eta 0:00:01\r\u001b[K     |████▋                           | 491 kB 5.0 MB/s eta 0:00:01\r\u001b[K     |████▊                           | 501 kB 5.0 MB/s eta 0:00:01\r\u001b[K     |████▉                           | 512 kB 5.0 MB/s eta 0:00:01\r\u001b[K     |████▉                           | 522 kB 5.0 MB/s eta 0:00:01\r\u001b[K     |█████                           | 532 kB 5.0 MB/s eta 0:00:01\r\u001b[K     |█████                           | 542 kB 5.0 MB/s eta 0:00:01\r\u001b[K     |█████▏                          | 552 kB 5.0 MB/s eta 0:00:01\r\u001b[K     |█████▎                          | 563 kB 5.0 MB/s eta 0:00:01\r\u001b[K     |█████▍                          | 573 kB 5.0 MB/s eta 0:00:01\r\u001b[K     |█████▌                          | 583 kB 5.0 MB/s eta 0:00:01\r\u001b[K     |█████▋                          | 593 kB 5.0 MB/s eta 0:00:01\r\u001b[K     |█████▋                          | 604 kB 5.0 MB/s eta 0:00:01\r\u001b[K     |█████▊                          | 614 kB 5.0 MB/s eta 0:00:01\r\u001b[K     |█████▉                          | 624 kB 5.0 MB/s eta 0:00:01\r\u001b[K     |██████                          | 634 kB 5.0 MB/s eta 0:00:01\r\u001b[K     |██████                          | 645 kB 5.0 MB/s eta 0:00:01\r\u001b[K     |██████▏                         | 655 kB 5.0 MB/s eta 0:00:01\r\u001b[K     |██████▎                         | 665 kB 5.0 MB/s eta 0:00:01\r\u001b[K     |██████▎                         | 675 kB 5.0 MB/s eta 0:00:01\r\u001b[K     |██████▍                         | 686 kB 5.0 MB/s eta 0:00:01\r\u001b[K     |██████▌                         | 696 kB 5.0 MB/s eta 0:00:01\r\u001b[K     |██████▋                         | 706 kB 5.0 MB/s eta 0:00:01\r\u001b[K     |██████▊                         | 716 kB 5.0 MB/s eta 0:00:01\r\u001b[K     |██████▉                         | 727 kB 5.0 MB/s eta 0:00:01\r\u001b[K     |███████                         | 737 kB 5.0 MB/s eta 0:00:01\r\u001b[K     |███████                         | 747 kB 5.0 MB/s eta 0:00:01\r\u001b[K     |███████                         | 757 kB 5.0 MB/s eta 0:00:01\r\u001b[K     |███████▏                        | 768 kB 5.0 MB/s eta 0:00:01\r\u001b[K     |███████▎                        | 778 kB 5.0 MB/s eta 0:00:01\r\u001b[K     |███████▍                        | 788 kB 5.0 MB/s eta 0:00:01\r\u001b[K     |███████▌                        | 798 kB 5.0 MB/s eta 0:00:01\r\u001b[K     |███████▋                        | 808 kB 5.0 MB/s eta 0:00:01\r\u001b[K     |███████▊                        | 819 kB 5.0 MB/s eta 0:00:01\r\u001b[K     |███████▊                        | 829 kB 5.0 MB/s eta 0:00:01\r\u001b[K     |███████▉                        | 839 kB 5.0 MB/s eta 0:00:01\r\u001b[K     |████████                        | 849 kB 5.0 MB/s eta 0:00:01\r\u001b[K     |████████                        | 860 kB 5.0 MB/s eta 0:00:01\r\u001b[K     |████████▏                       | 870 kB 5.0 MB/s eta 0:00:01\r\u001b[K     |████████▎                       | 880 kB 5.0 MB/s eta 0:00:01\r\u001b[K     |████████▍                       | 890 kB 5.0 MB/s eta 0:00:01\r\u001b[K     |████████▍                       | 901 kB 5.0 MB/s eta 0:00:01\r\u001b[K     |████████▌                       | 911 kB 5.0 MB/s eta 0:00:01\r\u001b[K     |████████▋                       | 921 kB 5.0 MB/s eta 0:00:01\r\u001b[K     |████████▊                       | 931 kB 5.0 MB/s eta 0:00:01\r\u001b[K     |████████▉                       | 942 kB 5.0 MB/s eta 0:00:01\r\u001b[K     |█████████                       | 952 kB 5.0 MB/s eta 0:00:01\r\u001b[K     |█████████                       | 962 kB 5.0 MB/s eta 0:00:01\r\u001b[K     |█████████                       | 972 kB 5.0 MB/s eta 0:00:01\r\u001b[K     |█████████▏                      | 983 kB 5.0 MB/s eta 0:00:01\r\u001b[K     |█████████▎                      | 993 kB 5.0 MB/s eta 0:00:01\r\u001b[K     |█████████▍                      | 1.0 MB 5.0 MB/s eta 0:00:01\r\u001b[K     |█████████▌                      | 1.0 MB 5.0 MB/s eta 0:00:01\r\u001b[K     |█████████▋                      | 1.0 MB 5.0 MB/s eta 0:00:01\r\u001b[K     |█████████▊                      | 1.0 MB 5.0 MB/s eta 0:00:01\r\u001b[K     |█████████▊                      | 1.0 MB 5.0 MB/s eta 0:00:01\r\u001b[K     |█████████▉                      | 1.1 MB 5.0 MB/s eta 0:00:01\r\u001b[K     |██████████                      | 1.1 MB 5.0 MB/s eta 0:00:01\r\u001b[K     |██████████                      | 1.1 MB 5.0 MB/s eta 0:00:01\r\u001b[K     |██████████▏                     | 1.1 MB 5.0 MB/s eta 0:00:01\r\u001b[K     |██████████▎                     | 1.1 MB 5.0 MB/s eta 0:00:01\r\u001b[K     |██████████▍                     | 1.1 MB 5.0 MB/s eta 0:00:01\r\u001b[K     |██████████▌                     | 1.1 MB 5.0 MB/s eta 0:00:01\r\u001b[K     |██████████▌                     | 1.1 MB 5.0 MB/s eta 0:00:01\r\u001b[K     |██████████▋                     | 1.1 MB 5.0 MB/s eta 0:00:01\r\u001b[K     |██████████▊                     | 1.1 MB 5.0 MB/s eta 0:00:01\r\u001b[K     |██████████▉                     | 1.2 MB 5.0 MB/s eta 0:00:01\r\u001b[K     |███████████                     | 1.2 MB 5.0 MB/s eta 0:00:01"
     ]
    },
    {
     "name": "stdout",
     "output_type": "stream",
     "text": [
      "\r\u001b[K     |███████████                     | 1.2 MB 5.0 MB/s eta 0:00:01\r\u001b[K     |███████████▏                    | 1.2 MB 5.0 MB/s eta 0:00:01\r\u001b[K     |███████████▏                    | 1.2 MB 5.0 MB/s eta 0:00:01\r\u001b[K     |███████████▎                    | 1.2 MB 5.0 MB/s eta 0:00:01\r\u001b[K     |███████████▍                    | 1.2 MB 5.0 MB/s eta 0:00:01\r\u001b[K     |███████████▌                    | 1.2 MB 5.0 MB/s eta 0:00:01\r\u001b[K     |███████████▋                    | 1.2 MB 5.0 MB/s eta 0:00:01\r\u001b[K     |███████████▊                    | 1.2 MB 5.0 MB/s eta 0:00:01\r\u001b[K     |███████████▉                    | 1.3 MB 5.0 MB/s eta 0:00:01\r\u001b[K     |███████████▉                    | 1.3 MB 5.0 MB/s eta 0:00:01\r\u001b[K     |████████████                    | 1.3 MB 5.0 MB/s eta 0:00:01\r\u001b[K     |████████████                    | 1.3 MB 5.0 MB/s eta 0:00:01\r\u001b[K     |████████████▏                   | 1.3 MB 5.0 MB/s eta 0:00:01\r\u001b[K     |████████████▎                   | 1.3 MB 5.0 MB/s eta 0:00:01\r\u001b[K     |████████████▍                   | 1.3 MB 5.0 MB/s eta 0:00:01\r\u001b[K     |████████████▌                   | 1.3 MB 5.0 MB/s eta 0:00:01\r\u001b[K     |████████████▌                   | 1.3 MB 5.0 MB/s eta 0:00:01\r\u001b[K     |████████████▋                   | 1.4 MB 5.0 MB/s eta 0:00:01\r\u001b[K     |████████████▊                   | 1.4 MB 5.0 MB/s eta 0:00:01\r\u001b[K     |████████████▉                   | 1.4 MB 5.0 MB/s eta 0:00:01\r\u001b[K     |█████████████                   | 1.4 MB 5.0 MB/s eta 0:00:01\r\u001b[K     |█████████████                   | 1.4 MB 5.0 MB/s eta 0:00:01\r\u001b[K     |█████████████▏                  | 1.4 MB 5.0 MB/s eta 0:00:01\r\u001b[K     |█████████████▎                  | 1.4 MB 5.0 MB/s eta 0:00:01\r\u001b[K     |█████████████▎                  | 1.4 MB 5.0 MB/s eta 0:00:01\r\u001b[K     |█████████████▍                  | 1.4 MB 5.0 MB/s eta 0:00:01\r\u001b[K     |█████████████▌                  | 1.4 MB 5.0 MB/s eta 0:00:01\r\u001b[K     |█████████████▋                  | 1.5 MB 5.0 MB/s eta 0:00:01\r\u001b[K     |█████████████▊                  | 1.5 MB 5.0 MB/s eta 0:00:01\r\u001b[K     |█████████████▉                  | 1.5 MB 5.0 MB/s eta 0:00:01\r\u001b[K     |██████████████                  | 1.5 MB 5.0 MB/s eta 0:00:01\r\u001b[K     |██████████████                  | 1.5 MB 5.0 MB/s eta 0:00:01\r\u001b[K     |██████████████                  | 1.5 MB 5.0 MB/s eta 0:00:01\r\u001b[K     |██████████████▏                 | 1.5 MB 5.0 MB/s eta 0:00:01\r\u001b[K     |██████████████▎                 | 1.5 MB 5.0 MB/s eta 0:00:01\r\u001b[K     |██████████████▍                 | 1.5 MB 5.0 MB/s eta 0:00:01\r\u001b[K     |██████████████▌                 | 1.5 MB 5.0 MB/s eta 0:00:01\r\u001b[K     |██████████████▋                 | 1.6 MB 5.0 MB/s eta 0:00:01\r\u001b[K     |██████████████▋                 | 1.6 MB 5.0 MB/s eta 0:00:01\r\u001b[K     |██████████████▊                 | 1.6 MB 5.0 MB/s eta 0:00:01\r\u001b[K     |██████████████▉                 | 1.6 MB 5.0 MB/s eta 0:00:01\r\u001b[K     |███████████████                 | 1.6 MB 5.0 MB/s eta 0:00:01\r\u001b[K     |███████████████                 | 1.6 MB 5.0 MB/s eta 0:00:01\r\u001b[K     |███████████████▏                | 1.6 MB 5.0 MB/s eta 0:00:01\r\u001b[K     |███████████████▎                | 1.6 MB 5.0 MB/s eta 0:00:01\r\u001b[K     |███████████████▍                | 1.6 MB 5.0 MB/s eta 0:00:01\r\u001b[K     |███████████████▍                | 1.6 MB 5.0 MB/s eta 0:00:01\r\u001b[K     |███████████████▌                | 1.7 MB 5.0 MB/s eta 0:00:01\r\u001b[K     |███████████████▋                | 1.7 MB 5.0 MB/s eta 0:00:01\r\u001b[K     |███████████████▊                | 1.7 MB 5.0 MB/s eta 0:00:01\r\u001b[K     |███████████████▉                | 1.7 MB 5.0 MB/s eta 0:00:01\r\u001b[K     |████████████████                | 1.7 MB 5.0 MB/s eta 0:00:01\r\u001b[K     |████████████████                | 1.7 MB 5.0 MB/s eta 0:00:01\r\u001b[K     |████████████████                | 1.7 MB 5.0 MB/s eta 0:00:01\r\u001b[K     |████████████████▏               | 1.7 MB 5.0 MB/s eta 0:00:01\r\u001b[K     |████████████████▎               | 1.7 MB 5.0 MB/s eta 0:00:01\r\u001b[K     |████████████████▍               | 1.8 MB 5.0 MB/s eta 0:00:01\r\u001b[K     |████████████████▌               | 1.8 MB 5.0 MB/s eta 0:00:01\r\u001b[K     |████████████████▋               | 1.8 MB 5.0 MB/s eta 0:00:01\r\u001b[K     |████████████████▊               | 1.8 MB 5.0 MB/s eta 0:00:01\r\u001b[K     |████████████████▊               | 1.8 MB 5.0 MB/s eta 0:00:01\r\u001b[K     |████████████████▉               | 1.8 MB 5.0 MB/s eta 0:00:01\r\u001b[K     |█████████████████               | 1.8 MB 5.0 MB/s eta 0:00:01\r\u001b[K     |█████████████████               | 1.8 MB 5.0 MB/s eta 0:00:01\r\u001b[K     |█████████████████▏              | 1.8 MB 5.0 MB/s eta 0:00:01\r\u001b[K     |█████████████████▎              | 1.8 MB 5.0 MB/s eta 0:00:01\r\u001b[K     |█████████████████▍              | 1.9 MB 5.0 MB/s eta 0:00:01\r\u001b[K     |█████████████████▍              | 1.9 MB 5.0 MB/s eta 0:00:01\r\u001b[K     |█████████████████▌              | 1.9 MB 5.0 MB/s eta 0:00:01\r\u001b[K     |█████████████████▋              | 1.9 MB 5.0 MB/s eta 0:00:01\r\u001b[K     |█████████████████▊              | 1.9 MB 5.0 MB/s eta 0:00:01"
     ]
    },
    {
     "name": "stdout",
     "output_type": "stream",
     "text": [
      "\r\u001b[K     |█████████████████▉              | 1.9 MB 5.0 MB/s eta 0:00:01\r\u001b[K     |██████████████████              | 1.9 MB 5.0 MB/s eta 0:00:01\r\u001b[K     |██████████████████              | 1.9 MB 5.0 MB/s eta 0:00:01\r\u001b[K     |██████████████████▏             | 1.9 MB 5.0 MB/s eta 0:00:01\r\u001b[K     |██████████████████▏             | 1.9 MB 5.0 MB/s eta 0:00:01\r\u001b[K     |██████████████████▎             | 2.0 MB 5.0 MB/s eta 0:00:01\r\u001b[K     |██████████████████▍             | 2.0 MB 5.0 MB/s eta 0:00:01\r\u001b[K     |██████████████████▌             | 2.0 MB 5.0 MB/s eta 0:00:01\r\u001b[K     |██████████████████▋             | 2.0 MB 5.0 MB/s eta 0:00:01\r\u001b[K     |██████████████████▊             | 2.0 MB 5.0 MB/s eta 0:00:01\r\u001b[K     |██████████████████▉             | 2.0 MB 5.0 MB/s eta 0:00:01\r\u001b[K     |██████████████████▉             | 2.0 MB 5.0 MB/s eta 0:00:01\r\u001b[K     |███████████████████             | 2.0 MB 5.0 MB/s eta 0:00:01\r\u001b[K     |███████████████████             | 2.0 MB 5.0 MB/s eta 0:00:01\r\u001b[K     |███████████████████▏            | 2.0 MB 5.0 MB/s eta 0:00:01\r\u001b[K     |███████████████████▎            | 2.1 MB 5.0 MB/s eta 0:00:01\r\u001b[K     |███████████████████▍            | 2.1 MB 5.0 MB/s eta 0:00:01\r\u001b[K     |███████████████████▌            | 2.1 MB 5.0 MB/s eta 0:00:01\r\u001b[K     |███████████████████▌            | 2.1 MB 5.0 MB/s eta 0:00:01\r\u001b[K     |███████████████████▋            | 2.1 MB 5.0 MB/s eta 0:00:01\r\u001b[K     |███████████████████▊            | 2.1 MB 5.0 MB/s eta 0:00:01\r\u001b[K     |███████████████████▉            | 2.1 MB 5.0 MB/s eta 0:00:01\r\u001b[K     |████████████████████            | 2.1 MB 5.0 MB/s eta 0:00:01\r\u001b[K     |████████████████████            | 2.1 MB 5.0 MB/s eta 0:00:01\r\u001b[K     |████████████████████▏           | 2.2 MB 5.0 MB/s eta 0:00:01\r\u001b[K     |████████████████████▎           | 2.2 MB 5.0 MB/s eta 0:00:01\r\u001b[K     |████████████████████▎           | 2.2 MB 5.0 MB/s eta 0:00:01\r\u001b[K     |████████████████████▍           | 2.2 MB 5.0 MB/s eta 0:00:01\r\u001b[K     |████████████████████▌           | 2.2 MB 5.0 MB/s eta 0:00:01\r\u001b[K     |████████████████████▋           | 2.2 MB 5.0 MB/s eta 0:00:01\r\u001b[K     |████████████████████▊           | 2.2 MB 5.0 MB/s eta 0:00:01\r\u001b[K     |████████████████████▉           | 2.2 MB 5.0 MB/s eta 0:00:01\r\u001b[K     |█████████████████████           | 2.2 MB 5.0 MB/s eta 0:00:01\r\u001b[K     |█████████████████████           | 2.2 MB 5.0 MB/s eta 0:00:01\r\u001b[K     |█████████████████████           | 2.3 MB 5.0 MB/s eta 0:00:01\r\u001b[K     |█████████████████████▏          | 2.3 MB 5.0 MB/s eta 0:00:01\r\u001b[K     |█████████████████████▎          | 2.3 MB 5.0 MB/s eta 0:00:01\r\u001b[K     |█████████████████████▍          | 2.3 MB 5.0 MB/s eta 0:00:01\r\u001b[K     |█████████████████████▌          | 2.3 MB 5.0 MB/s eta 0:00:01\r\u001b[K     |█████████████████████▋          | 2.3 MB 5.0 MB/s eta 0:00:01\r\u001b[K     |█████████████████████▋          | 2.3 MB 5.0 MB/s eta 0:00:01\r\u001b[K     |█████████████████████▊          | 2.3 MB 5.0 MB/s eta 0:00:01\r\u001b[K     |█████████████████████▉          | 2.3 MB 5.0 MB/s eta 0:00:01\r\u001b[K     |██████████████████████          | 2.3 MB 5.0 MB/s eta 0:00:01\r\u001b[K     |██████████████████████          | 2.4 MB 5.0 MB/s eta 0:00:01\r\u001b[K     |██████████████████████▏         | 2.4 MB 5.0 MB/s eta 0:00:01\r\u001b[K     |██████████████████████▎         | 2.4 MB 5.0 MB/s eta 0:00:01\r\u001b[K     |██████████████████████▎         | 2.4 MB 5.0 MB/s eta 0:00:01\r\u001b[K     |██████████████████████▍         | 2.4 MB 5.0 MB/s eta 0:00:01\r\u001b[K     |██████████████████████▌         | 2.4 MB 5.0 MB/s eta 0:00:01\r\u001b[K     |██████████████████████▋         | 2.4 MB 5.0 MB/s eta 0:00:01\r\u001b[K     |██████████████████████▊         | 2.4 MB 5.0 MB/s eta 0:00:01\r\u001b[K     |██████████████████████▉         | 2.4 MB 5.0 MB/s eta 0:00:01\r\u001b[K     |███████████████████████         | 2.4 MB 5.0 MB/s eta 0:00:01\r\u001b[K     |███████████████████████         | 2.5 MB 5.0 MB/s eta 0:00:01\r\u001b[K     |███████████████████████         | 2.5 MB 5.0 MB/s eta 0:00:01\r\u001b[K     |███████████████████████▏        | 2.5 MB 5.0 MB/s eta 0:00:01\r\u001b[K     |███████████████████████▎        | 2.5 MB 5.0 MB/s eta 0:00:01\r\u001b[K     |███████████████████████▍        | 2.5 MB 5.0 MB/s eta 0:00:01\r\u001b[K     |███████████████████████▌        | 2.5 MB 5.0 MB/s eta 0:00:01\r\u001b[K     |███████████████████████▋        | 2.5 MB 5.0 MB/s eta 0:00:01\r\u001b[K     |███████████████████████▊        | 2.5 MB 5.0 MB/s eta 0:00:01\r\u001b[K     |███████████████████████▊        | 2.5 MB 5.0 MB/s eta 0:00:01\r\u001b[K     |███████████████████████▉        | 2.5 MB 5.0 MB/s eta 0:00:01\r\u001b[K     |████████████████████████        | 2.6 MB 5.0 MB/s eta 0:00:01\r\u001b[K     |████████████████████████        | 2.6 MB 5.0 MB/s eta 0:00:01\r\u001b[K     |████████████████████████▏       | 2.6 MB 5.0 MB/s eta 0:00:01\r\u001b[K     |████████████████████████▎       | 2.6 MB 5.0 MB/s eta 0:00:01\r\u001b[K     |████████████████████████▍       | 2.6 MB 5.0 MB/s eta 0:00:01\r\u001b[K     |████████████████████████▍       | 2.6 MB 5.0 MB/s eta 0:00:01\r\u001b[K     |████████████████████████▌       | 2.6 MB 5.0 MB/s eta 0:00:01\r\u001b[K     |████████████████████████▋       | 2.6 MB 5.0 MB/s eta 0:00:01\r\u001b[K     |████████████████████████▊       | 2.6 MB 5.0 MB/s eta 0:00:01\r\u001b[K     |████████████████████████▉       | 2.7 MB 5.0 MB/s eta 0:00:01\r\u001b[K     |█████████████████████████       | 2.7 MB 5.0 MB/s eta 0:00:01\r\u001b[K     |█████████████████████████       | 2.7 MB 5.0 MB/s eta 0:00:01\r\u001b[K     |█████████████████████████       | 2.7 MB 5.0 MB/s eta 0:00:01\r\u001b[K     |█████████████████████████▏      | 2.7 MB 5.0 MB/s eta 0:00:01\r\u001b[K     |█████████████████████████▎      | 2.7 MB 5.0 MB/s eta 0:00:01\r\u001b[K     |█████████████████████████▍      | 2.7 MB 5.0 MB/s eta 0:00:01\r\u001b[K     |█████████████████████████▌      | 2.7 MB 5.0 MB/s eta 0:00:01\r\u001b[K     |█████████████████████████▋      | 2.7 MB 5.0 MB/s eta 0:00:01\r\u001b[K     |█████████████████████████▊      | 2.7 MB 5.0 MB/s eta 0:00:01\r\u001b[K     |█████████████████████████▉      | 2.8 MB 5.0 MB/s eta 0:00:01\r\u001b[K     |█████████████████████████▉      | 2.8 MB 5.0 MB/s eta 0:00:01\r\u001b[K     |██████████████████████████      | 2.8 MB 5.0 MB/s eta 0:00:01\r\u001b[K     |██████████████████████████      | 2.8 MB 5.0 MB/s eta 0:00:01\r\u001b[K     |██████████████████████████▏     | 2.8 MB 5.0 MB/s eta 0:00:01\r\u001b[K     |██████████████████████████▎     | 2.8 MB 5.0 MB/s eta 0:00:01\r\u001b[K     |██████████████████████████▍     | 2.8 MB 5.0 MB/s eta 0:00:01\r\u001b[K     |██████████████████████████▌     | 2.8 MB 5.0 MB/s eta 0:00:01\r\u001b[K     |██████████████████████████▌     | 2.8 MB 5.0 MB/s eta 0:00:01\r\u001b[K     |██████████████████████████▋     | 2.8 MB 5.0 MB/s eta 0:00:01\r\u001b[K     |██████████████████████████▊     | 2.9 MB 5.0 MB/s eta 0:00:01\r\u001b[K     |██████████████████████████▉     | 2.9 MB 5.0 MB/s eta 0:00:01\r\u001b[K     |███████████████████████████     | 2.9 MB 5.0 MB/s eta 0:00:01\r\u001b[K     |███████████████████████████     | 2.9 MB 5.0 MB/s eta 0:00:01\r\u001b[K     |███████████████████████████▏    | 2.9 MB 5.0 MB/s eta 0:00:01\r\u001b[K     |███████████████████████████▏    | 2.9 MB 5.0 MB/s eta 0:00:01\r\u001b[K     |███████████████████████████▎    | 2.9 MB 5.0 MB/s eta 0:00:01\r\u001b[K     |███████████████████████████▍    | 2.9 MB 5.0 MB/s eta 0:00:01\r\u001b[K     |███████████████████████████▌    | 2.9 MB 5.0 MB/s eta 0:00:01\r\u001b[K     |███████████████████████████▋    | 2.9 MB 5.0 MB/s eta 0:00:01\r\u001b[K     |███████████████████████████▊    | 3.0 MB 5.0 MB/s eta 0:00:01\r\u001b[K     |███████████████████████████▉    | 3.0 MB 5.0 MB/s eta 0:00:01\r\u001b[K     |████████████████████████████    | 3.0 MB 5.0 MB/s eta 0:00:01\r\u001b[K     |████████████████████████████    | 3.0 MB 5.0 MB/s eta 0:00:01\r\u001b[K     |████████████████████████████    | 3.0 MB 5.0 MB/s eta 0:00:01\r\u001b[K     |████████████████████████████▏   | 3.0 MB 5.0 MB/s eta 0:00:01\r\u001b[K     |████████████████████████████▎   | 3.0 MB 5.0 MB/s eta 0:00:01\r\u001b[K     |████████████████████████████▍   | 3.0 MB 5.0 MB/s eta 0:00:01"
     ]
    },
    {
     "name": "stdout",
     "output_type": "stream",
     "text": [
      "\r\u001b[K     |████████████████████████████▌   | 3.0 MB 5.0 MB/s eta 0:00:01\r\u001b[K     |████████████████████████████▋   | 3.1 MB 5.0 MB/s eta 0:00:01\r\u001b[K     |████████████████████████████▋   | 3.1 MB 5.0 MB/s eta 0:00:01\r\u001b[K     |████████████████████████████▊   | 3.1 MB 5.0 MB/s eta 0:00:01\r\u001b[K     |████████████████████████████▉   | 3.1 MB 5.0 MB/s eta 0:00:01\r\u001b[K     |█████████████████████████████   | 3.1 MB 5.0 MB/s eta 0:00:01\r\u001b[K     |█████████████████████████████   | 3.1 MB 5.0 MB/s eta 0:00:01\r\u001b[K     |█████████████████████████████▏  | 3.1 MB 5.0 MB/s eta 0:00:01\r\u001b[K     |█████████████████████████████▎  | 3.1 MB 5.0 MB/s eta 0:00:01\r\u001b[K     |█████████████████████████████▎  | 3.1 MB 5.0 MB/s eta 0:00:01\r\u001b[K     |█████████████████████████████▍  | 3.1 MB 5.0 MB/s eta 0:00:01\r\u001b[K     |█████████████████████████████▌  | 3.2 MB 5.0 MB/s eta 0:00:01\r\u001b[K     |█████████████████████████████▋  | 3.2 MB 5.0 MB/s eta 0:00:01\r\u001b[K     |█████████████████████████████▊  | 3.2 MB 5.0 MB/s eta 0:00:01\r\u001b[K     |█████████████████████████████▉  | 3.2 MB 5.0 MB/s eta 0:00:01\r\u001b[K     |██████████████████████████████  | 3.2 MB 5.0 MB/s eta 0:00:01\r\u001b[K     |██████████████████████████████  | 3.2 MB 5.0 MB/s eta 0:00:01\r\u001b[K     |██████████████████████████████  | 3.2 MB 5.0 MB/s eta 0:00:01\r\u001b[K     |██████████████████████████████▏ | 3.2 MB 5.0 MB/s eta 0:00:01\r\u001b[K     |██████████████████████████████▎ | 3.2 MB 5.0 MB/s eta 0:00:01\r\u001b[K     |██████████████████████████████▍ | 3.2 MB 5.0 MB/s eta 0:00:01\r\u001b[K     |██████████████████████████████▌ | 3.3 MB 5.0 MB/s eta 0:00:01\r\u001b[K     |██████████████████████████████▋ | 3.3 MB 5.0 MB/s eta 0:00:01\r\u001b[K     |██████████████████████████████▊ | 3.3 MB 5.0 MB/s eta 0:00:01\r\u001b[K     |██████████████████████████████▊ | 3.3 MB 5.0 MB/s eta 0:00:01\r\u001b[K     |██████████████████████████████▉ | 3.3 MB 5.0 MB/s eta 0:00:01\r\u001b[K     |███████████████████████████████ | 3.3 MB 5.0 MB/s eta 0:00:01\r\u001b[K     |███████████████████████████████ | 3.3 MB 5.0 MB/s eta 0:00:01\r\u001b[K     |███████████████████████████████▏| 3.3 MB 5.0 MB/s eta 0:00:01\r\u001b[K     |███████████████████████████████▎| 3.3 MB 5.0 MB/s eta 0:00:01\r\u001b[K     |███████████████████████████████▍| 3.3 MB 5.0 MB/s eta 0:00:01\r\u001b[K     |███████████████████████████████▍| 3.4 MB 5.0 MB/s eta 0:00:01\r\u001b[K     |███████████████████████████████▌| 3.4 MB 5.0 MB/s eta 0:00:01\r\u001b[K     |███████████████████████████████▋| 3.4 MB 5.0 MB/s eta 0:00:01\r\u001b[K     |███████████████████████████████▊| 3.4 MB 5.0 MB/s eta 0:00:01\r\u001b[K     |███████████████████████████████▉| 3.4 MB 5.0 MB/s eta 0:00:01\r\u001b[K     |████████████████████████████████| 3.4 MB 5.0 MB/s eta 0:00:01"
     ]
    },
    {
     "name": "stdout",
     "output_type": "stream",
     "text": [
      "\r\u001b[K     |████████████████████████████████| 3.4 MB 5.0 MB/s \r\n"
     ]
    },
    {
     "name": "stdout",
     "output_type": "stream",
     "text": [
      "\u001b[?25hRequirement already satisfied: numpy>=1.16.0 in ./.local/lib/python3.9/site-packages (from MDAnalysis==2.0.0b0) (1.21.1)\r\n",
      "Requirement already satisfied: biopython>=1.71 in ./.local/lib/python3.9/site-packages (from MDAnalysis==2.0.0b0) (1.79)\r\n"
     ]
    },
    {
     "name": "stdout",
     "output_type": "stream",
     "text": [
      "Requirement already satisfied: networkx>=1.0 in ./.local/lib/python3.9/site-packages (from MDAnalysis==2.0.0b0) (2.6.2)\r\n",
      "Requirement already satisfied: GridDataFormats>=0.4.0 in ./.local/lib/python3.9/site-packages (from MDAnalysis==2.0.0b0) (0.5.0)\r\n",
      "Requirement already satisfied: mmtf-python>=1.0.0 in ./.local/lib/python3.9/site-packages (from MDAnalysis==2.0.0b0) (1.1.2)\r\n",
      "Requirement already satisfied: joblib>=0.12 in ./.local/lib/python3.9/site-packages (from MDAnalysis==2.0.0b0) (1.0.1)\r\n",
      "Requirement already satisfied: scipy>=1.0.0 in ./.local/lib/python3.9/site-packages (from MDAnalysis==2.0.0b0) (1.7.1)\r\n",
      "Requirement already satisfied: matplotlib>=1.5.1 in ./.local/lib/python3.9/site-packages (from MDAnalysis==2.0.0b0) (3.4.2)\r\n",
      "Requirement already satisfied: tqdm>=4.43.0 in ./.local/lib/python3.9/site-packages (from MDAnalysis==2.0.0b0) (4.62.0)\r\n",
      "Requirement already satisfied: threadpoolctl in ./.local/lib/python3.9/site-packages (from MDAnalysis==2.0.0b0) (2.2.0)\r\n",
      "Requirement already satisfied: gsd>=1.4.0 in ./.local/lib/python3.9/site-packages (from MDAnalysis==2.0.0b0) (2.4.2)\r\n",
      "Requirement already satisfied: six in ./.local/lib/python3.9/site-packages (from GridDataFormats>=0.4.0->MDAnalysis==2.0.0b0) (1.16.0)\r\n",
      "Requirement already satisfied: pillow>=6.2.0 in ./.local/lib/python3.9/site-packages (from matplotlib>=1.5.1->MDAnalysis==2.0.0b0) (8.3.1)\r\n",
      "Requirement already satisfied: kiwisolver>=1.0.1 in ./.local/lib/python3.9/site-packages (from matplotlib>=1.5.1->MDAnalysis==2.0.0b0) (1.3.1)\r\n",
      "Requirement already satisfied: python-dateutil>=2.7 in ./.local/lib/python3.9/site-packages (from matplotlib>=1.5.1->MDAnalysis==2.0.0b0) (2.8.2)\r\n",
      "Requirement already satisfied: pyparsing>=2.2.1 in ./.local/lib/python3.9/site-packages (from matplotlib>=1.5.1->MDAnalysis==2.0.0b0) (2.4.7)\r\n",
      "Requirement already satisfied: cycler>=0.10 in ./.local/lib/python3.9/site-packages (from matplotlib>=1.5.1->MDAnalysis==2.0.0b0) (0.10.0)\r\n",
      "Requirement already satisfied: msgpack>=0.5.6 in ./.local/lib/python3.9/site-packages (from mmtf-python>=1.0.0->MDAnalysis==2.0.0b0) (1.0.2)\r\n"
     ]
    },
    {
     "name": "stdout",
     "output_type": "stream",
     "text": [
      "Building wheels for collected packages: MDAnalysis\r\n"
     ]
    },
    {
     "name": "stdout",
     "output_type": "stream",
     "text": [
      "  Building wheel for MDAnalysis (setup.py) ... \u001b[?25l-"
     ]
    },
    {
     "name": "stdout",
     "output_type": "stream",
     "text": [
      "\b \b\\"
     ]
    },
    {
     "name": "stdout",
     "output_type": "stream",
     "text": [
      "\b \b|"
     ]
    },
    {
     "name": "stdout",
     "output_type": "stream",
     "text": [
      "\b \b/"
     ]
    },
    {
     "name": "stdout",
     "output_type": "stream",
     "text": [
      "\b \b-"
     ]
    },
    {
     "name": "stdout",
     "output_type": "stream",
     "text": [
      "\b \b\\"
     ]
    },
    {
     "name": "stdout",
     "output_type": "stream",
     "text": [
      "\b \b|"
     ]
    },
    {
     "name": "stdout",
     "output_type": "stream",
     "text": [
      "\b \b/"
     ]
    },
    {
     "name": "stdout",
     "output_type": "stream",
     "text": [
      "\b \b-"
     ]
    },
    {
     "name": "stdout",
     "output_type": "stream",
     "text": [
      "\b \b\\"
     ]
    },
    {
     "name": "stdout",
     "output_type": "stream",
     "text": [
      "\b \b|"
     ]
    },
    {
     "name": "stdout",
     "output_type": "stream",
     "text": [
      "\b \b/"
     ]
    },
    {
     "name": "stdout",
     "output_type": "stream",
     "text": [
      "\b \b-"
     ]
    },
    {
     "name": "stdout",
     "output_type": "stream",
     "text": [
      "\b \b\\"
     ]
    },
    {
     "name": "stdout",
     "output_type": "stream",
     "text": [
      "\b \b|"
     ]
    },
    {
     "name": "stdout",
     "output_type": "stream",
     "text": [
      "\b \b/"
     ]
    },
    {
     "name": "stdout",
     "output_type": "stream",
     "text": [
      "\b \b-"
     ]
    },
    {
     "name": "stdout",
     "output_type": "stream",
     "text": [
      "\b \b\\"
     ]
    },
    {
     "name": "stdout",
     "output_type": "stream",
     "text": [
      "\b \b|"
     ]
    },
    {
     "name": "stdout",
     "output_type": "stream",
     "text": [
      "\b \b/"
     ]
    },
    {
     "name": "stdout",
     "output_type": "stream",
     "text": [
      "\b \b-"
     ]
    },
    {
     "name": "stdout",
     "output_type": "stream",
     "text": [
      "\b \b\\"
     ]
    },
    {
     "name": "stdout",
     "output_type": "stream",
     "text": [
      "\b \b|"
     ]
    },
    {
     "name": "stdout",
     "output_type": "stream",
     "text": [
      "\b \b/"
     ]
    },
    {
     "name": "stdout",
     "output_type": "stream",
     "text": [
      "\b \b-"
     ]
    },
    {
     "name": "stdout",
     "output_type": "stream",
     "text": [
      "\b \b\\"
     ]
    },
    {
     "name": "stdout",
     "output_type": "stream",
     "text": [
      "\b \b|"
     ]
    },
    {
     "name": "stdout",
     "output_type": "stream",
     "text": [
      "\b \b/"
     ]
    },
    {
     "name": "stdout",
     "output_type": "stream",
     "text": [
      "\b \b-"
     ]
    },
    {
     "name": "stdout",
     "output_type": "stream",
     "text": [
      "\b \b\\"
     ]
    },
    {
     "name": "stdout",
     "output_type": "stream",
     "text": [
      "\b \b|"
     ]
    },
    {
     "name": "stdout",
     "output_type": "stream",
     "text": [
      "\b \b/"
     ]
    },
    {
     "name": "stdout",
     "output_type": "stream",
     "text": [
      "\b \b-"
     ]
    },
    {
     "name": "stdout",
     "output_type": "stream",
     "text": [
      "\b \b\\"
     ]
    },
    {
     "name": "stdout",
     "output_type": "stream",
     "text": [
      "\b \bdone\r\n",
      "\u001b[?25h  Created wheel for MDAnalysis: filename=MDAnalysis-2.0.0b0-cp39-cp39-linux_x86_64.whl size=2045870 sha256=8f899c5b6b9af11c06c9d20843adbe1b94866304b3c1dc3b2e52624b625f9052\r\n",
      "  Stored in directory: /home/user/.cache/pip/wheels/5e/a7/28/1c392640be72c44d40adeefd5ea798b0e67d685eca30c253e9\r\n",
      "Successfully built MDAnalysis\r\n"
     ]
    },
    {
     "name": "stdout",
     "output_type": "stream",
     "text": [
      "Installing collected packages: MDAnalysis\r\n",
      "  Attempting uninstall: MDAnalysis\r\n",
      "    Found existing installation: MDAnalysis 1.0.0\r\n",
      "    Uninstalling MDAnalysis-1.0.0:\r\n",
      "      Successfully uninstalled MDAnalysis-1.0.0\r\n"
     ]
    },
    {
     "name": "stdout",
     "output_type": "stream",
     "text": [
      "Successfully installed MDAnalysis-2.0.0b0\r\n"
     ]
    }
   ],
   "source": [
    "!pip install --upgrade MDAnalysis==2.0.0b0"
   ]
  },
  {
   "cell_type": "code",
   "execution_count": 10,
   "metadata": {
    "collapsed": false
   },
   "outputs": [
    {
     "name": "stdout",
     "output_type": "stream",
     "text": [
      "Name: MDAnalysis\r\n",
      "Version: 2.0.0b0\r\n",
      "Summary: An object-oriented toolkit to analyze molecular dynamics trajectories generated by CHARMM, Gromacs, NAMD, LAMMPS, or Amber.\r\n",
      "Home-page: https://www.mdanalysis.org\r\n",
      "Author: MDAnalysis Development Team\r\n",
      "Author-email: mdanalysis@numfocus.org\r\n",
      "License: GPL 2\r\n",
      "Location: /home/user/.local/lib/python3.9/site-packages\r\n",
      "Requires: scipy, matplotlib, numpy, mmtf-python, joblib, gsd, threadpoolctl, networkx, GridDataFormats, tqdm, biopython\r\n",
      "Required-by: \r\n"
     ]
    }
   ],
   "source": [
    "!pip show MDAnalysis"
   ]
  },
  {
   "cell_type": "markdown",
   "metadata": {
    "collapsed": false
   },
   "source": [
    "Again, we must restart our kernel to reset our ipython runtime environment."
   ]
  },
  {
   "cell_type": "code",
   "execution_count": 1,
   "metadata": {
    "collapsed": false
   },
   "outputs": [
    {
     "data": {
      "text/plain": [
       "'2.0.0-beta'"
      ]
     },
     "execution_count": 1,
     "metadata": {
     },
     "output_type": "execute_result"
    }
   ],
   "source": [
    "import MDAnalysis\n",
    "MDAnalysis.__version__"
   ]
  },
  {
   "cell_type": "markdown",
   "metadata": {
    "collapsed": false
   },
   "source": [
    "### Installing from packages from Github\n",
    "\n",
    "In some cases, especially for development or when using alpha or beta code, we must install the package from the source code. As an example, we will install [mpmorph](https://github.com/materialsproject/mpmorph) which is a package for running AIMD calculations in vasp using pymatgen, fireworks, and atomate."
   ]
  },
  {
   "cell_type": "code",
   "execution_count": 5,
   "metadata": {
    "collapsed": false
   },
   "outputs": [
    {
     "name": "stdout",
     "output_type": "stream",
     "text": [
      "Cloning into 'mpmorph'...\r\n"
     ]
    },
    {
     "name": "stdout",
     "output_type": "stream",
     "text": [
      "remote: Enumerating objects: 3783, done.\u001b[K\r\n",
      "remote: Counting objects:   3% (1/28)\u001b[K\rremote: Counting objects:   7% (2/28)\u001b[K\rremote: Counting objects:  10% (3/28)\u001b[K\rremote: Counting objects:  14% (4/28)\u001b[K\rremote: Counting objects:  17% (5/28)\u001b[K\rremote: Counting objects:  21% (6/28)\u001b[K\rremote: Counting objects:  25% (7/28)\u001b[K\rremote: Counting objects:  28% (8/28)\u001b[K\rremote: Counting objects:  32% (9/28)\u001b[K\rremote: Counting objects:  35% (10/28)\u001b[K\rremote: Counting objects:  39% (11/28)\u001b[K\rremote: Counting objects:  42% (12/28)\u001b[K\rremote: Counting objects:  46% (13/28)\u001b[K\rremote: Counting objects:  50% (14/28)\u001b[K\rremote: Counting objects:  53% (15/28)\u001b[K\rremote: Counting objects:  57% (16/28)\u001b[K\rremote: Counting objects:  60% (17/28)\u001b[K\rremote: Counting objects:  64% (18/28)\u001b[K\rremote: Counting objects:  67% (19/28)\u001b[K\rremote: Counting objects:  71% (20/28)\u001b[K\rremote: Counting objects:  75% (21/28)\u001b[K\rremote: Counting objects:  78% (22/28)\u001b[K\rremote: Counting objects:  82% (23/28)\u001b[K\rremote: Counting objects:  85% (24/28)\u001b[K\rremote: Counting objects:  89% (25/28)\u001b[K\rremote: Counting objects:  92% (26/28)\u001b[K\rremote: Counting objects:  96% (27/28)\u001b[K\rremote: Counting objects: 100% (28/28)\u001b[K\rremote: Counting objects: 100% (28/28), done.\u001b[K\r\n",
      "remote: Compressing objects:   3% (1/28)\u001b[K\rremote: Compressing objects:   7% (2/28)\u001b[K\rremote: Compressing objects:  10% (3/28)\u001b[K\rremote: Compressing objects:  14% (4/28)\u001b[K\rremote: Compressing objects:  17% (5/28)\u001b[K\rremote: Compressing objects:  21% (6/28)\u001b[K\rremote: Compressing objects:  25% (7/28)\u001b[K\rremote: Compressing objects:  28% (8/28)\u001b[K\rremote: Compressing objects:  32% (9/28)\u001b[K\rremote: Compressing objects:  35% (10/28)\u001b[K\rremote: Compressing objects:  39% (11/28)\u001b[K\rremote: Compressing objects:  42% (12/28)\u001b[K\rremote: Compressing objects:  46% (13/28)\u001b[K\rremote: Compressing objects:  50% (14/28)\u001b[K\rremote: Compressing objects:  53% (15/28)\u001b[K\rremote: Compressing objects:  57% (16/28)\u001b[K\rremote: Compressing objects:  60% (17/28)\u001b[K\rremote: Compressing objects:  64% (18/28)\u001b[K\rremote: Compressing objects:  67% (19/28)\u001b[K\rremote: Compressing objects:  71% (20/28)\u001b[K\rremote: Compressing objects:  75% (21/28)\u001b[K\rremote: Compressing objects:  78% (22/28)\u001b[K\rremote: Compressing objects:  82% (23/28)\u001b[K\rremote: Compressing objects:  85% (24/28)\u001b[K\rremote: Compressing objects:  89% (25/28)\u001b[K\rremote: Compressing objects:  92% (26/28)\u001b[K\rremote: Compressing objects:  96% (27/28)\u001b[K\rremote: Compressing objects: 100% (28/28)\u001b[K\rremote: Compressing objects: 100% (28/28), done.\u001b[K\r\n"
     ]
    },
    {
     "name": "stdout",
     "output_type": "stream",
     "text": [
      "Receiving objects:   0% (1/3783)   \rReceiving objects:   1% (38/3783)   \rReceiving objects:   2% (76/3783)   \rReceiving objects:   3% (114/3783)   \rReceiving objects:   4% (152/3783)   \rReceiving objects:   5% (190/3783)   \rReceiving objects:   6% (227/3783)   \rReceiving objects:   7% (265/3783)   \rReceiving objects:   8% (303/3783)   \rReceiving objects:   9% (341/3783)   \rReceiving objects:  10% (379/3783)   \rReceiving objects:  11% (417/3783)   \rReceiving objects:  12% (454/3783)   \rReceiving objects:  13% (492/3783)   \rReceiving objects:  14% (530/3783)   \rReceiving objects:  15% (568/3783)   \r"
     ]
    },
    {
     "name": "stdout",
     "output_type": "stream",
     "text": [
      "Receiving objects:  16% (606/3783)   \rReceiving objects:  17% (644/3783)   \rReceiving objects:  18% (681/3783)   \rReceiving objects:  19% (719/3783)   \rReceiving objects:  20% (757/3783)   \rReceiving objects:  21% (795/3783)   \rReceiving objects:  22% (833/3783)   \rReceiving objects:  23% (871/3783)   \rReceiving objects:  24% (908/3783)   \rReceiving objects:  25% (946/3783)   \rReceiving objects:  26% (984/3783)   \rReceiving objects:  27% (1022/3783)   \rReceiving objects:  28% (1060/3783)   \rReceiving objects:  29% (1098/3783)   \rReceiving objects:  30% (1135/3783)   \rReceiving objects:  31% (1173/3783)   \rReceiving objects:  32% (1211/3783)   \rReceiving objects:  33% (1249/3783)   \rReceiving objects:  34% (1287/3783)   \rReceiving objects:  35% (1325/3783)   \rReceiving objects:  36% (1362/3783)   \rReceiving objects:  37% (1400/3783)   \rReceiving objects:  38% (1438/3783)   \rReceiving objects:  39% (1476/3783)   \rReceiving objects:  40% (1514/3783)   \rReceiving objects:  41% (1552/3783)   \rReceiving objects:  42% (1589/3783)   \rReceiving objects:  43% (1627/3783)   \rReceiving objects:  44% (1665/3783)   \rReceiving objects:  45% (1703/3783)   \rReceiving objects:  46% (1741/3783)   \rReceiving objects:  47% (1779/3783)   \rReceiving objects:  48% (1816/3783)   \rReceiving objects:  49% (1854/3783)   \rReceiving objects:  50% (1892/3783)   \rReceiving objects:  51% (1930/3783)   \rReceiving objects:  52% (1968/3783)   \rReceiving objects:  53% (2005/3783)   \rReceiving objects:  54% (2043/3783)   \rReceiving objects:  55% (2081/3783)   \rReceiving objects:  56% (2119/3783)   \rReceiving objects:  57% (2157/3783)   \rReceiving objects:  58% (2195/3783)   \rReceiving objects:  59% (2232/3783)   \rReceiving objects:  60% (2270/3783)   \rReceiving objects:  61% (2308/3783)   \rReceiving objects:  62% (2346/3783)   \rReceiving objects:  63% (2384/3783)   \rReceiving objects:  64% (2422/3783)   \rReceiving objects:  65% (2459/3783)   \rReceiving objects:  66% (2497/3783)   \rReceiving objects:  67% (2535/3783)   \rReceiving objects:  68% (2573/3783)   \rReceiving objects:  69% (2611/3783)   \rReceiving objects:  70% (2649/3783)   \rReceiving objects:  71% (2686/3783)   \rReceiving objects:  72% (2724/3783)   \rReceiving objects:  73% (2762/3783)   \rReceiving objects:  74% (2800/3783)   \rReceiving objects:  75% (2838/3783)   \rReceiving objects:  76% (2876/3783)   \rReceiving objects:  77% (2913/3783)   \rReceiving objects:  78% (2951/3783)   \rReceiving objects:  79% (2989/3783)   \rReceiving objects:  80% (3027/3783)   \rReceiving objects:  81% (3065/3783)   \rReceiving objects:  82% (3103/3783)   \rReceiving objects:  83% (3140/3783)   \rReceiving objects:  84% (3178/3783)   \rReceiving objects:  85% (3216/3783)   \rReceiving objects:  86% (3254/3783)   \rReceiving objects:  87% (3292/3783)   \rReceiving objects:  88% (3330/3783)   \rReceiving objects:  89% (3367/3783)   \rReceiving objects:  90% (3405/3783)   \rReceiving objects:  91% (3443/3783)   \rremote: Total 3783 (delta 10), reused 12 (delta 0), pack-reused 3755\u001b[K\r\n",
      "Receiving objects:  92% (3481/3783)   \rReceiving objects:  93% (3519/3783)   \rReceiving objects:  94% (3557/3783)   \rReceiving objects:  95% (3594/3783)   \rReceiving objects:  96% (3632/3783)   \rReceiving objects:  97% (3670/3783)   \rReceiving objects:  98% (3708/3783)   \rReceiving objects:  99% (3746/3783)   \r"
     ]
    },
    {
     "name": "stdout",
     "output_type": "stream",
     "text": [
      "Receiving objects: 100% (3783/3783)   \rReceiving objects: 100% (3783/3783), 9.34 MiB | 47.56 MiB/s, done.\r\n",
      "Resolving deltas:   0% (0/2800)   \rResolving deltas:   1% (36/2800)   \rResolving deltas:   2% (56/2800)   \rResolving deltas:   3% (93/2800)   \rResolving deltas:   4% (116/2800)   \rResolving deltas:   6% (184/2800)   \rResolving deltas:   7% (213/2800)   \rResolving deltas:   8% (239/2800)   \rResolving deltas:   9% (263/2800)   \rResolving deltas:  11% (314/2800)   \rResolving deltas:  12% (355/2800)   \rResolving deltas:  14% (400/2800)   \rResolving deltas:  16% (471/2800)   \rResolving deltas:  18% (522/2800)   \rResolving deltas:  19% (555/2800)   \rResolving deltas:  20% (569/2800)   \rResolving deltas:  21% (592/2800)   \rResolving deltas:  26% (749/2800)   \rResolving deltas:  30% (840/2800)   \rResolving deltas:  31% (884/2800)   \rResolving deltas:  33% (925/2800)   \rResolving deltas:  34% (972/2800)   \rResolving deltas:  35% (987/2800)   \rResolving deltas:  41% (1169/2800)   \rResolving deltas:  42% (1177/2800)   \rResolving deltas:  43% (1210/2800)   \rResolving deltas:  44% (1232/2800)   \rResolving deltas:  45% (1263/2800)   \rResolving deltas:  46% (1296/2800)   \rResolving deltas:  47% (1323/2800)   \rResolving deltas:  48% (1347/2800)   \rResolving deltas:  49% (1372/2800)   \rResolving deltas:  50% (1402/2800)   \rResolving deltas:  51% (1434/2800)   \rResolving deltas:  52% (1456/2800)   \rResolving deltas:  53% (1490/2800)   \rResolving deltas:  54% (1517/2800)   \rResolving deltas:  55% (1540/2800)   \rResolving deltas:  56% (1575/2800)   \rResolving deltas:  57% (1602/2800)   \rResolving deltas:  59% (1672/2800)   \rResolving deltas:  60% (1683/2800)   \rResolving deltas:  61% (1714/2800)   \rResolving deltas:  66% (1870/2800)   \rResolving deltas:  67% (1881/2800)   \rResolving deltas:  68% (1930/2800)   \rResolving deltas:  71% (2013/2800)   \rResolving deltas:  72% (2016/2800)   \rResolving deltas:  73% (2062/2800)   \rResolving deltas:  74% (2076/2800)   \rResolving deltas:  75% (2107/2800)   \rResolving deltas:  76% (2128/2800)   \rResolving deltas:  78% (2186/2800)   \rResolving deltas:  80% (2244/2800)   \rResolving deltas:  81% (2276/2800)   \rResolving deltas:  82% (2298/2800)   \rResolving deltas:  83% (2328/2800)   \rResolving deltas:  84% (2365/2800)   \rResolving deltas:  85% (2380/2800)   \rResolving deltas:  86% (2409/2800)   \rResolving deltas:  87% (2459/2800)   \rResolving deltas:  88% (2466/2800)   \rResolving deltas:  89% (2505/2800)   \rResolving deltas:  90% (2520/2800)   \rResolving deltas:  91% (2548/2800)   \rResolving deltas:  92% (2589/2800)   \rResolving deltas:  93% (2604/2800)   \rResolving deltas:  94% (2655/2800)   \rResolving deltas:  95% (2678/2800)   \rResolving deltas:  96% (2690/2800)   \rResolving deltas: 100% (2800/2800)   \rResolving deltas: 100% (2800/2800), done.\r\n"
     ]
    }
   ],
   "source": [
    "!git clone https://github.com/materialsproject/mpmorph.git"
   ]
  },
  {
   "cell_type": "code",
   "execution_count": 6,
   "metadata": {
    "collapsed": false
   },
   "outputs": [
    {
     "name": "stdout",
     "output_type": "stream",
     "text": [
      "Defaulting to user installation because normal site-packages is not writeable\r\n"
     ]
    },
    {
     "name": "stdout",
     "output_type": "stream",
     "text": [
      "Processing ./mpmorph\r\n"
     ]
    },
    {
     "name": "stdout",
     "output_type": "stream",
     "text": [
      "Building wheels for collected packages: mpmorph\r\n"
     ]
    },
    {
     "name": "stdout",
     "output_type": "stream",
     "text": [
      "  Building wheel for mpmorph (setup.py) ... \u001b[?25l-"
     ]
    },
    {
     "name": "stdout",
     "output_type": "stream",
     "text": [
      "\b \bdone\r\n",
      "\u001b[?25h  Created wheel for mpmorph: filename=mpmorph-2.0-py3-none-any.whl size=27793 sha256=260f76fa490c5a6ae4de435fe727cddab19e0ebc1ad00d7475762758ee45b04f\r\n",
      "  Stored in directory: /tmp/pip-ephem-wheel-cache-gpk650ld/wheels/75/13/14/9cae08c333bf3b02e96d00b42c197d452d7b8b33413abb062c\r\n",
      "Successfully built mpmorph\r\n"
     ]
    },
    {
     "name": "stdout",
     "output_type": "stream",
     "text": [
      "Installing collected packages: mpmorph\r\n"
     ]
    },
    {
     "name": "stdout",
     "output_type": "stream",
     "text": [
      "Successfully installed mpmorph-2.0\r\n"
     ]
    }
   ],
   "source": [
    "!pip install mpmorph/"
   ]
  },
  {
   "cell_type": "code",
   "execution_count": 7,
   "metadata": {
    "collapsed": false
   },
   "outputs": [
    {
     "name": "stdout",
     "output_type": "stream",
     "text": [
      "Name: mpmorph\r\n",
      "Version: 2.0\r\n",
      "Summary: UNKNOWN\r\n",
      "Home-page: https://github.com/materialsproject/mpmorph\r\n",
      "Author: Muratahan Aykol\r\n",
      "Author-email: maykol@lbl.gov\r\n",
      "License: modified BSD\r\n",
      "Location: /home/user/.local/lib/python3.9/site-packages\r\n",
      "Requires: \r\n",
      "Required-by: \r\n"
     ]
    }
   ],
   "source": [
    "!pip show mpmorph"
   ]
  },
  {
   "cell_type": "markdown",
   "metadata": {
    "collapsed": false
   },
   "source": [
    "## Removing Python Packages"
   ]
  },
  {
   "cell_type": "markdown",
   "metadata": {
    "collapsed": false
   },
   "source": [
    "Use `pip uninstall` to remove a python package. Use the `-y` flag to pre-confirm the uninstall"
   ]
  },
  {
   "cell_type": "code",
   "execution_count": 8,
   "metadata": {
    "collapsed": false
   },
   "outputs": [
    {
     "name": "stdout",
     "output_type": "stream",
     "text": [
      "Found existing installation: MDAnalysis 2.0.0b0\r\n"
     ]
    },
    {
     "name": "stdout",
     "output_type": "stream",
     "text": [
      "Uninstalling MDAnalysis-2.0.0b0:\r\n",
      "  Successfully uninstalled MDAnalysis-2.0.0b0\r\n"
     ]
    }
   ],
   "source": [
    "!pip uninstall -y MDAnalysis"
   ]
  },
  {
   "cell_type": "code",
   "execution_count": 9,
   "metadata": {
    "collapsed": false
   },
   "outputs": [
    {
     "name": "stdout",
     "output_type": "stream",
     "text": [
      "\u001b[33mWARNING: Package(s) not found: MDAnalysis\u001b[0m\r\n"
     ]
    }
   ],
   "source": [
    "!pip show MDAnalysis"
   ]
  },
  {
   "cell_type": "markdown",
   "metadata": {
    "collapsed": false
   },
   "source": [
    "Now when we attempt to show the details, we see that the MDAnalysis package is uninstalled and cannot be found"
   ]
  },
  {
   "cell_type": "code",
   "execution_count": 10,
   "metadata": {
    "collapsed": false
   },
   "outputs": [
    {
     "name": "stdout",
     "output_type": "stream",
     "text": [
      "Found existing installation: mpmorph 2.0\r\n",
      "Uninstalling mpmorph-2.0:\r\n",
      "  Successfully uninstalled mpmorph-2.0\r\n"
     ]
    }
   ],
   "source": [
    "!pip uninstall -y mpmorph"
   ]
  },
  {
   "cell_type": "markdown",
   "metadata": {
    "collapsed": false
   },
   "source": [
    "# Introduction to Conda (and Mamba)"
   ]
  },
  {
   "cell_type": "markdown",
   "metadata": {
    "collapsed": false
   },
   "source": [
    "Much like pip, conda is a program writen in python for the purpose of managing packages. However, using conda, managed packages and software are not limited to python. Conda is a general-purpose package manager and enables installation of C libraries or R packages. Additionally, conda installs pre-built binaries, although it is possible to build packages from the source.\n",
    "\n",
    "Conda also allows for the creation of virtual environments. Environments are very powerful and allow us to install a local collection of packages isolated from system packages or other environments. Unlike pip, conda can also install or manage different versions of python. Conda and pip are usually used in conjunction.\n",
    "\n",
    "While conda is written in python, a mamba has recently been released and reimplements the functionality of conda using C++. Mamba offers parallel downloading of repository data and package files and a faster dependency solver. We will be using mamba in the workshop, however the two are interchangeable - that is, all `mamba` commands we use can be directly replaced with `conda` (i.e. `mamba install -y pymatgen` and `conda install -y pymatgen` both work) unless otherwise noted."
   ]
  },
  {
   "cell_type": "code",
   "execution_count": 1,
   "metadata": {
    "collapsed": false,
    "tags": [
    ]
   },
   "outputs": [
    {
     "name": "stdout",
     "output_type": "stream",
     "text": [
      "usage: mamba [-h] [-V] command ...\r\n",
      "\r\n",
      "conda is a tool for managing and deploying applications, environments and packages.\r\n",
      "\r\n",
      "Options:\r\n",
      "\r\n",
      "positional arguments:\r\n",
      "  command\r\n",
      "    clean        Remove unused packages and caches.\r\n",
      "    compare      Compare packages between conda environments.\r\n",
      "    config       Modify configuration values in .condarc. This is modeled\r\n",
      "                 after the git config command. Writes to the user .condarc\r\n",
      "                 file (/home/user/.condarc) by default.\r\n",
      "    create       Create a new conda environment from a list of specified\r\n",
      "                 packages.\r\n",
      "    help         Displays a list of available conda commands and their help\r\n",
      "                 strings.\r\n",
      "    info         Display information about current conda install.\r\n",
      "    init         Initialize conda for shell interaction. [Experimental]\r\n",
      "    install      Installs a list of packages into a specified conda\r\n",
      "                 environment.\r\n",
      "    list         List linked packages in a conda environment.\r\n",
      "    package      Low-level conda package utility. (EXPERIMENTAL)\r\n",
      "    remove       Remove a list of packages from a specified conda environment.\r\n",
      "    uninstall    Alias for conda remove.\r\n",
      "    run          Run an executable in a conda environment. [Experimental]\r\n",
      "    search       Search for packages and display associated information. The\r\n",
      "                 input is a MatchSpec, a query language for conda packages.\r\n",
      "                 See examples below.\r\n",
      "    update       Updates conda packages to the latest compatible version.\r\n",
      "    upgrade      Alias for conda update.\r\n",
      "    repoquery    Query repositories using mamba.\r\n",
      "\r\n",
      "optional arguments:\r\n",
      "  -h, --help     Show this help message and exit.\r\n",
      "  -V, --version  Show the conda version number and exit.\r\n"
     ]
    },
    {
     "name": "stdout",
     "output_type": "stream",
     "text": [
      "\r\n",
      "conda commands available from other packages:\r\n",
      "  env\r\n"
     ]
    }
   ],
   "source": [
    "!mamba -h"
   ]
  },
  {
   "cell_type": "markdown",
   "metadata": {
    "collapsed": false
   },
   "source": [
    "We can get a list of the available conda environments using the `conda env list` command"
   ]
  },
  {
   "cell_type": "code",
   "execution_count": 2,
   "metadata": {
    "collapsed": false,
    "tags": [
     "no-execute"
    ]
   },
   "outputs": [
    {
     "name": "stdout",
     "output_type": "stream",
     "text": [
      "usage: conda-env [-h] {create,export,list,remove,update,config} ...\r\n",
      "\r\n",
      "positional arguments:\r\n",
      "  {create,export,list,remove,update,config}\r\n",
      "    create              Create an environment based on an environment file\r\n",
      "    export              Export a given environment\r\n",
      "    list                List the Conda environments\r\n",
      "    remove              Remove an environment\r\n",
      "    update              Update the current environment based on environment\r\n",
      "                        file\r\n",
      "    config              Configure a conda environment\r\n",
      "\r\n",
      "optional arguments:\r\n",
      "  -h, --help            Show this help message and exit.\r\n",
      "\r\n",
      "conda commands available from other packages:\r\n",
      "  env\r\n"
     ]
    }
   ],
   "source": [
    "!mamba env --help"
   ]
  },
  {
   "cell_type": "code",
   "execution_count": 3,
   "metadata": {
    "collapsed": false,
    "tags": [
     "no-execute"
    ]
   },
   "outputs": [
    {
     "name": "stdout",
     "output_type": "stream",
     "text": [
      "# conda environments:\r\n",
      "#\r\n",
      "patrick                  /home/user/.conda/envs/patrick\r\n",
      "base                  *  /srv/conda\r\n",
      "notebook                 /srv/conda/envs/notebook\r\n",
      "\r\n"
     ]
    }
   ],
   "source": [
    "!mamba env list"
   ]
  },
  {
   "cell_type": "markdown",
   "metadata": {
    "collapsed": false
   },
   "source": [
    "## Creating Conda Environments"
   ]
  },
  {
   "cell_type": "markdown",
   "metadata": {
    "collapsed": false
   },
   "source": [
    "Create a new conda environment using the `conda create` command. We use the -y flag, since we cannot provide confirmation to the running code. We specify the environment to be created with a installation of python 3.9"
   ]
  },
  {
   "cell_type": "code",
   "execution_count": 4,
   "metadata": {
    "collapsed": false,
    "tags": [
     "no-execute"
    ]
   },
   "outputs": [
    {
     "name": "stdout",
     "output_type": "stream",
     "text": [
      "\r\n",
      "                  __    __    __    __\r\n",
      "                 /  \\  /  \\  /  \\  /  \\\r\n",
      "                /    \\/    \\/    \\/    \\\r\n",
      "███████████████/  /██/  /██/  /██/  /████████████████████████\r\n",
      "              /  / \\   / \\   / \\   / \\  \\____\r\n",
      "             /  /   \\_/   \\_/   \\_/   \\    o \\__,\r\n",
      "            / _/                       \\_____/  `\r\n",
      "            |/\r\n",
      "        ███╗   ███╗ █████╗ ███╗   ███╗██████╗  █████╗\r\n",
      "        ████╗ ████║██╔══██╗████╗ ████║██╔══██╗██╔══██╗\r\n",
      "        ██╔████╔██║███████║██╔████╔██║██████╔╝███████║\r\n",
      "        ██║╚██╔╝██║██╔══██║██║╚██╔╝██║██╔══██╗██╔══██║\r\n",
      "        ██║ ╚═╝ ██║██║  ██║██║ ╚═╝ ██║██████╔╝██║  ██║\r\n",
      "        ╚═╝     ╚═╝╚═╝  ╚═╝╚═╝     ╚═╝╚═════╝ ╚═╝  ╚═╝\r\n",
      "\r\n",
      "        mamba (0.7.4) supported by @QuantStack\r\n",
      "\r\n",
      "        GitHub:  https://github.com/mamba-org/mamba\r\n",
      "        Twitter: https://twitter.com/QuantStack\r\n",
      "\r\n",
      "█████████████████████████████████████████████████████████████\r\n",
      "\r\n",
      "\r\n",
      "Looking for: ['python=3.9']\r\n",
      "\r\n"
     ]
    },
    {
     "name": "stdout",
     "output_type": "stream",
     "text": [
      "\u001b[2K\rpkgs/main/noarch         [=>                  ] (--:--) No change\r\n",
      "\u001b[1A\u001b[2K\rpkgs/main/noarch         [====================] (00m:00s) No change\r\n",
      "\u001b[1A\u001b[0K\u001b[2K\rpkgs/main/noarch         [====================] (00m:00s) No change\r\n",
      "\u001b[2K\rpkgs/r/linux-64          [>                   ] (--:--) No change\r\n",
      "\u001b[1A\u001b[2K\rpkgs/r/linux-64          [====================] (00m:00s) No change\r\n",
      "\u001b[1A\u001b[0K\u001b[2K\rpkgs/r/linux-64          [====================] (00m:00s) No change\r\n",
      "\u001b[2K\rpkgs/main/linux-64       [>                   ] (--:--) No change\r\n",
      "\u001b[1A\u001b[2K\rpkgs/main/linux-64       [====================] (00m:00s) No change\r\n",
      "\u001b[1A\u001b[0K\u001b[2K\rpkgs/main/linux-64       [====================] (00m:00s) No change\r\n"
     ]
    },
    {
     "name": "stdout",
     "output_type": "stream",
     "text": [
      "\u001b[2K\rconda-forge/noarch       [>                   ] (--:--) No change\r\n",
      "\u001b[1A\u001b[2K\rconda-forge/noarch       [====================] (00m:00s) No change\r\n",
      "\u001b[1A\u001b[0K\u001b[2K\rconda-forge/noarch       [====================] (00m:00s) No change\r\n",
      "\u001b[2K\rconda-forge/linux-64     [=>                  ] (--:--) No change\r\n",
      "\u001b[1A\u001b[2K\rconda-forge/linux-64     [====================] (00m:00s) No change\r\n",
      "\u001b[1A\u001b[0K\u001b[2K\rconda-forge/linux-64     [====================] (00m:00s) No change\r\n",
      "\u001b[2K\rpkgs/r/noarch            [=>                  ] (--:--) No change\r\n",
      "\u001b[1A\u001b[2K\rpkgs/r/noarch            [====================] (00m:00s) No change\r\n",
      "\u001b[1A\u001b[0K\u001b[2K\rpkgs/r/noarch            [====================] (00m:00s) No change\r\n"
     ]
    },
    {
     "name": "stdout",
     "output_type": "stream",
     "text": [
      "Transaction\r\n",
      "\r\n",
      "  Prefix: /home/user/.conda/envs/temp_env\r\n",
      "\r\n",
      "  Updating specs:\r\n",
      "\r\n",
      "   - python==3.9\r\n",
      "\r\n",
      "\r\n",
      "  Package             Version  Build               Channel                    Size\r\n",
      "────────────────────────────────────────────────────────────────────────────────────\r\n",
      "  Install:\r\n",
      "────────────────────────────────────────────────────────────────────────────────────\r\n",
      "\r\n",
      "\u001b[32m  _libgcc_mutex   \u001b[00m        0.1  conda_forge         conda-forge/linux-64\u001b[32m     Cached\u001b[00m\r\n",
      "\u001b[32m  _openmp_mutex   \u001b[00m        4.5  1_gnu               conda-forge/linux-64\u001b[32m     Cached\u001b[00m\r\n",
      "\u001b[32m  ca-certificates \u001b[00m  2021.5.30  ha878542_0          conda-forge/linux-64\u001b[32m     Cached\u001b[00m\r\n",
      "\u001b[32m  certifi         \u001b[00m  2021.5.30  py39hf3d152e_0      conda-forge/linux-64\u001b[32m     Cached\u001b[00m\r\n",
      "\u001b[32m  ld_impl_linux-64\u001b[00m     2.36.1  hea4e1c9_2          conda-forge/linux-64\u001b[32m     Cached\u001b[00m\r\n",
      "\u001b[32m  libffi          \u001b[00m        3.3  h58526e2_2          conda-forge/linux-64\u001b[32m     Cached\u001b[00m\r\n",
      "\u001b[32m  libgcc-ng       \u001b[00m     11.1.0  hc902ee8_8          conda-forge/linux-64\u001b[32m     Cached\u001b[00m\r\n",
      "\u001b[32m  libgomp         \u001b[00m     11.1.0  hc902ee8_8          conda-forge/linux-64\u001b[32m     Cached\u001b[00m\r\n",
      "\u001b[32m  libstdcxx-ng    \u001b[00m     11.1.0  h56837e0_8          conda-forge/linux-64\u001b[32m     Cached\u001b[00m\r\n",
      "\u001b[32m  ncurses         \u001b[00m        6.2  h58526e2_4          conda-forge/linux-64\u001b[32m     Cached\u001b[00m\r\n",
      "\u001b[32m  openssl         \u001b[00m     1.1.1k  h7f98852_0          conda-forge/linux-64\u001b[32m     Cached\u001b[00m\r\n",
      "\u001b[32m  pip             \u001b[00m     21.2.2  pyhd8ed1ab_0        conda-forge/noarch  \u001b[32m     Cached\u001b[00m\r\n",
      "\u001b[32m  python          \u001b[00m      3.9.6  h49503c6_1_cpython  conda-forge/linux-64\u001b[32m     Cached\u001b[00m\r\n",
      "\u001b[32m  python_abi      \u001b[00m        3.9  2_cp39              conda-forge/linux-64\u001b[32m     Cached\u001b[00m\r\n",
      "\u001b[32m  readline        \u001b[00m        8.1  h46c0cb4_0          conda-forge/linux-64\u001b[32m     Cached\u001b[00m\r\n",
      "\u001b[32m  setuptools      \u001b[00m     49.6.0  py39hf3d152e_3      conda-forge/linux-64\u001b[32m     Cached\u001b[00m\r\n",
      "\u001b[32m  sqlite          \u001b[00m     3.36.0  h9cd32fc_0          conda-forge/linux-64\u001b[32m     Cached\u001b[00m\r\n",
      "\u001b[32m  tk              \u001b[00m     8.6.10  hed695b0_1          conda-forge/linux-64       3 MB\r\n",
      "\u001b[32m  tzdata          \u001b[00m      2021a  he74cb21_1          conda-forge/noarch  \u001b[32m     Cached\u001b[00m\r\n",
      "\u001b[32m  wheel           \u001b[00m     0.36.2  pyhd3deb0d_0        conda-forge/noarch  \u001b[32m     Cached\u001b[00m\r\n",
      "\u001b[32m  xz              \u001b[00m      5.2.5  h516909a_1          conda-forge/linux-64\u001b[32m     Cached\u001b[00m\r\n",
      "\u001b[32m  zlib            \u001b[00m     1.2.11  h516909a_1010       conda-forge/linux-64\u001b[32m     Cached\u001b[00m\r\n",
      "\r\n",
      "  Summary:\r\n",
      "\r\n",
      "  Install: 22 packages\r\n",
      "\r\n",
      "  Total download: 3 MB\r\n",
      "\r\n",
      "────────────────────────────────────────────────────────────────────────────────────\r\n",
      "\r\n"
     ]
    },
    {
     "name": "stdout",
     "output_type": "stream",
     "text": [
      "\u001b[2K\rtk                       [==>                 ] (00m:00s) \r\n",
      "\u001b[1A\u001b[2K\rtk                       [>     ] (00m:00s)    478 KB /      3 MB (  1.55 MB/s)\r\n"
     ]
    },
    {
     "name": "stdout",
     "output_type": "stream",
     "text": [
      "\u001b[1A\u001b[2K\rtk                       [======] (00m:00s)    478 KB /      3 MB (  1.55 MB/s)\r\n",
      "\u001b[1A\u001b[2K\rtk                       [====================] (00m:00s) Validating...\r\n",
      "\u001b[1A\u001b[2K\rtk                       [====================] (00m:00s) Waiting...\r\n",
      "\u001b[1A\u001b[2K\rtk                       [====================] (00m:00s) Decompressing...\r\n"
     ]
    },
    {
     "name": "stdout",
     "output_type": "stream",
     "text": [
      "\u001b[1A\u001b[0KFinished tk                                   (00m:00s)               3 MB      9 MB/s\r\n"
     ]
    },
    {
     "name": "stdout",
     "output_type": "stream",
     "text": [
      "Preparing transaction: - "
     ]
    },
    {
     "name": "stdout",
     "output_type": "stream",
     "text": [
      "\b\b\\ "
     ]
    },
    {
     "name": "stdout",
     "output_type": "stream",
     "text": [
      "\b\b| "
     ]
    },
    {
     "name": "stdout",
     "output_type": "stream",
     "text": [
      "\b\bdone\r\n",
      "Verifying transaction: - "
     ]
    },
    {
     "name": "stdout",
     "output_type": "stream",
     "text": [
      "\b\b\\ "
     ]
    },
    {
     "name": "stdout",
     "output_type": "stream",
     "text": [
      "\b\b| "
     ]
    },
    {
     "name": "stdout",
     "output_type": "stream",
     "text": [
      "\b\b/ "
     ]
    },
    {
     "name": "stdout",
     "output_type": "stream",
     "text": [
      "\b\b- "
     ]
    },
    {
     "name": "stdout",
     "output_type": "stream",
     "text": [
      "\b\b\\ "
     ]
    },
    {
     "name": "stdout",
     "output_type": "stream",
     "text": [
      "\b\b| "
     ]
    },
    {
     "name": "stdout",
     "output_type": "stream",
     "text": [
      "\b\b/ "
     ]
    },
    {
     "name": "stdout",
     "output_type": "stream",
     "text": [
      "\b\b- "
     ]
    },
    {
     "name": "stdout",
     "output_type": "stream",
     "text": [
      "\b\b\\ "
     ]
    },
    {
     "name": "stdout",
     "output_type": "stream",
     "text": [
      "\b\b| "
     ]
    },
    {
     "name": "stdout",
     "output_type": "stream",
     "text": [
      "\b\b/ "
     ]
    },
    {
     "name": "stdout",
     "output_type": "stream",
     "text": [
      "\b\b- "
     ]
    },
    {
     "name": "stdout",
     "output_type": "stream",
     "text": [
      "\b\b\\ "
     ]
    },
    {
     "name": "stdout",
     "output_type": "stream",
     "text": [
      "\b\b| "
     ]
    },
    {
     "name": "stdout",
     "output_type": "stream",
     "text": [
      "\b\b/ "
     ]
    },
    {
     "name": "stdout",
     "output_type": "stream",
     "text": [
      "\b\b- "
     ]
    },
    {
     "name": "stdout",
     "output_type": "stream",
     "text": [
      "\b\b\\ "
     ]
    },
    {
     "name": "stdout",
     "output_type": "stream",
     "text": [
      "\b\bdone\r\n",
      "Executing transaction: / "
     ]
    },
    {
     "name": "stdout",
     "output_type": "stream",
     "text": [
      "\b\b- "
     ]
    },
    {
     "name": "stdout",
     "output_type": "stream",
     "text": [
      "\b\b\\ "
     ]
    },
    {
     "name": "stdout",
     "output_type": "stream",
     "text": [
      "\b\b| "
     ]
    },
    {
     "name": "stdout",
     "output_type": "stream",
     "text": [
      "\b\b/ "
     ]
    },
    {
     "name": "stdout",
     "output_type": "stream",
     "text": [
      "\b\b- "
     ]
    },
    {
     "name": "stdout",
     "output_type": "stream",
     "text": [
      "\b\b\\ "
     ]
    },
    {
     "name": "stdout",
     "output_type": "stream",
     "text": [
      "\b\b| "
     ]
    },
    {
     "name": "stdout",
     "output_type": "stream",
     "text": [
      "\b\b/ "
     ]
    },
    {
     "name": "stdout",
     "output_type": "stream",
     "text": [
      "\b\b- "
     ]
    },
    {
     "name": "stdout",
     "output_type": "stream",
     "text": [
      "\b\b\\ "
     ]
    },
    {
     "name": "stdout",
     "output_type": "stream",
     "text": [
      "\b\b| "
     ]
    },
    {
     "name": "stdout",
     "output_type": "stream",
     "text": [
      "\b\b/ "
     ]
    },
    {
     "name": "stdout",
     "output_type": "stream",
     "text": [
      "\b\b- "
     ]
    },
    {
     "name": "stdout",
     "output_type": "stream",
     "text": [
      "\b\b\\ "
     ]
    },
    {
     "name": "stdout",
     "output_type": "stream",
     "text": [
      "\b\b| "
     ]
    },
    {
     "name": "stdout",
     "output_type": "stream",
     "text": [
      "\b\b/ "
     ]
    },
    {
     "name": "stdout",
     "output_type": "stream",
     "text": [
      "\b\b- "
     ]
    },
    {
     "name": "stdout",
     "output_type": "stream",
     "text": [
      "\b\b\\ "
     ]
    },
    {
     "name": "stdout",
     "output_type": "stream",
     "text": [
      "\b\b| "
     ]
    },
    {
     "name": "stdout",
     "output_type": "stream",
     "text": [
      "\b\bdone\r\n",
      "#\r\n",
      "# To activate this environment, use\r\n",
      "#\r\n",
      "#     $ conda activate temp_env\r\n",
      "#\r\n",
      "# To deactivate an active environment, use\r\n",
      "#\r\n",
      "#     $ conda deactivate\r\n",
      "\r\n"
     ]
    }
   ],
   "source": [
    "!mamba create -y --name temp_env python=3.9"
   ]
  },
  {
   "cell_type": "markdown",
   "metadata": {
    "collapsed": false
   },
   "source": [
    "Our new environment shows up under our list of conda environments. However it is not the active environment (does not have a * next to it)."
   ]
  },
  {
   "cell_type": "code",
   "execution_count": 5,
   "metadata": {
    "collapsed": false,
    "tags": [
     "no-execute"
    ]
   },
   "outputs": [
    {
     "name": "stdout",
     "output_type": "stream",
     "text": [
      "# conda environments:\r\n",
      "#\r\n",
      "patrick                  /home/user/.conda/envs/patrick\r\n",
      "temp_env                 /home/user/.conda/envs/temp_env\r\n",
      "base                  *  /srv/conda\r\n",
      "notebook                 /srv/conda/envs/notebook\r\n",
      "\r\n"
     ]
    }
   ],
   "source": [
    "!mamba env list"
   ]
  },
  {
   "cell_type": "markdown",
   "metadata": {
    "collapsed": false
   },
   "source": [
    "## Using and interacting with Conda environments"
   ]
  },
  {
   "cell_type": "markdown",
   "metadata": {
    "collapsed": false
   },
   "source": [
    "We must activate our environment to install python packages and run python code using the new environment. Since we are interacting with our environment from jupyter notebook, we must activate our environment within each cell before we use any bash commands.\n",
    "\n",
    "To do this, use the `%%bash` command to create a multi-line bash cell, then activate the environment using `source activate <env_name>`"
   ]
  },
  {
   "cell_type": "code",
   "execution_count": 6,
   "metadata": {
    "collapsed": false,
    "tags": [
     "no-execute"
    ]
   },
   "outputs": [
    {
     "name": "stdout",
     "output_type": "stream",
     "text": [
      "# conda environments:\n",
      "#\n",
      "patrick                  /home/user/.conda/envs/patrick\n",
      "temp_env              *  /home/user/.conda/envs/temp_env\n",
      "base                     /srv/conda\n",
      "notebook                 /srv/conda/envs/notebook\n",
      "\n"
     ]
    }
   ],
   "source": [
    "%%bash\n",
    "source activate temp_env\n",
    "\n",
    "mamba env list"
   ]
  },
  {
   "cell_type": "markdown",
   "metadata": {
    "collapsed": false
   },
   "source": [
    "Now, using the `conda env list` command, we see our new environment is active, as denoted by the *"
   ]
  },
  {
   "cell_type": "code",
   "execution_count": 7,
   "metadata": {
    "collapsed": false,
    "tags": [
     "no-execute"
    ]
   },
   "outputs": [
    {
     "name": "stdout",
     "output_type": "stream",
     "text": [
      "\n",
      "                  __    __    __    __\n",
      "                 /  \\  /  \\  /  \\  /  \\\n",
      "                /    \\/    \\/    \\/    \\\n",
      "███████████████/  /██/  /██/  /██/  /████████████████████████\n",
      "              /  / \\   / \\   / \\   / \\  \\____\n",
      "             /  /   \\_/   \\_/   \\_/   \\    o \\__,\n",
      "            / _/                       \\_____/  `\n",
      "            |/\n",
      "        ███╗   ███╗ █████╗ ███╗   ███╗██████╗  █████╗\n",
      "        ████╗ ████║██╔══██╗████╗ ████║██╔══██╗██╔══██╗\n",
      "        ██╔████╔██║███████║██╔████╔██║██████╔╝███████║\n",
      "        ██║╚██╔╝██║██╔══██║██║╚██╔╝██║██╔══██╗██╔══██║\n",
      "        ██║ ╚═╝ ██║██║  ██║██║ ╚═╝ ██║██████╔╝██║  ██║\n",
      "        ╚═╝     ╚═╝╚═╝  ╚═╝╚═╝     ╚═╝╚═════╝ ╚═╝  ╚═╝\n",
      "\n",
      "        mamba (0.7.4) supported by @QuantStack\n",
      "\n",
      "        GitHub:  https://github.com/mamba-org/mamba\n",
      "        Twitter: https://twitter.com/QuantStack\n",
      "\n",
      "█████████████████████████████████████████████████████████████\n",
      "\n",
      "# packages in environment at /home/user/.conda/envs/temp_env:\n",
      "#\n",
      "# Name                    Version                   Build  Channel\n",
      "_libgcc_mutex             0.1                 conda_forge    conda-forge\n",
      "_openmp_mutex             4.5                       1_gnu    conda-forge\n",
      "ca-certificates           2021.5.30            ha878542_0    conda-forge\n",
      "certifi                   2021.5.30        py39hf3d152e_0    conda-forge\n",
      "ld_impl_linux-64          2.36.1               hea4e1c9_2    conda-forge\n",
      "libffi                    3.3                  h58526e2_2    conda-forge\n",
      "libgcc-ng                 11.1.0               hc902ee8_8    conda-forge\n",
      "libgomp                   11.1.0               hc902ee8_8    conda-forge\n",
      "libstdcxx-ng              11.1.0               h56837e0_8    conda-forge\n",
      "ncurses                   6.2                  h58526e2_4    conda-forge\n",
      "openssl                   1.1.1k               h7f98852_0    conda-forge\n",
      "pip                       21.2.2             pyhd8ed1ab_0    conda-forge\n",
      "python                    3.9.6           h49503c6_1_cpython    conda-forge\n",
      "python_abi                3.9                      2_cp39    conda-forge\n",
      "readline                  8.1                  h46c0cb4_0    conda-forge\n",
      "setuptools                49.6.0           py39hf3d152e_3    conda-forge\n",
      "sqlite                    3.36.0               h9cd32fc_0    conda-forge\n",
      "tk                        8.6.10               hed695b0_1    conda-forge\n",
      "tzdata                    2021a                he74cb21_1    conda-forge\n",
      "wheel                     0.36.2             pyhd3deb0d_0    conda-forge\n",
      "xz                        5.2.5                h516909a_1    conda-forge\n",
      "zlib                      1.2.11            h516909a_1010    conda-forge\n"
     ]
    }
   ],
   "source": [
    "%%bash\n",
    "source activate temp_env\n",
    "\n",
    "mamba list"
   ]
  },
  {
   "cell_type": "markdown",
   "metadata": {
    "collapsed": false
   },
   "source": [
    "## Installing from conda-forge"
   ]
  },
  {
   "cell_type": "markdown",
   "metadata": {
    "collapsed": false
   },
   "source": [
    "When using conda to install or search for packages, the standard behaviour is to search the [default repositories](https://repo.anaconda.com/pkgs/). These are packages provided by Anaconda, Inc. for free. To access third-party software, we can use the conda-forge channel. [Conda-Forge](https://conda-forge.org/index.html) is a community effort to provide conda packages for a wide range of software."
   ]
  },
  {
   "cell_type": "markdown",
   "metadata": {
    "collapsed": false
   },
   "source": [
    "To install software from the conda-forge channel, simply add `-c conda-forge` to the `conda install` command. This will tell conda to include the packages in conda-forge when searching for packages and dependencies.\n",
    "\n",
    "Many Materials Project codes (such as pymatgen, fireworks, custodian, atomate, and matminer) are available through the conda-forge channel."
   ]
  },
  {
   "cell_type": "markdown",
   "metadata": {
    "collapsed": false
   },
   "source": [
    "\\* Note: repoquery is not available in conda. In conda, you must use `conda search numpy` and its equivalent command in mamba is `mamba search numpy`. We use the `repoquery` command, as it offers improved speed over the default search."
   ]
  },
  {
   "cell_type": "code",
   "execution_count": 8,
   "metadata": {
    "collapsed": false,
    "jupyter": {
    },
    "tags": [
     "no-execute"
    ]
   },
   "outputs": [
    {
     "name": "stdout",
     "output_type": "stream",
     "text": [
      "conda-forge/linux-64     Using cache\n",
      "conda-forge/noarch       Using cache\n",
      "pkgs/main/linux-64       Using cache\n",
      "pkgs/main/noarch         Using cache\n",
      "pkgs/r/linux-64          Using cache\n",
      "pkgs/r/noarch            Using cache\n",
      "\n",
      "                  __    __    __    __\n",
      "                 /  \\  /  \\  /  \\  /  \\\n",
      "                /    \\/    \\/    \\/    \\\n",
      "███████████████/  /██/  /██/  /██/  /████████████████████████\n",
      "              /  / \\   / \\   / \\   / \\  \\____\n",
      "             /  /   \\_/   \\_/   \\_/   \\    o \\__,\n",
      "            / _/                       \\_____/  `\n",
      "            |/\n",
      "        ███╗   ███╗ █████╗ ███╗   ███╗██████╗  █████╗\n",
      "        ████╗ ████║██╔══██╗████╗ ████║██╔══██╗██╔══██╗\n",
      "        ██╔████╔██║███████║██╔████╔██║██████╔╝███████║\n",
      "        ██║╚██╔╝██║██╔══██║██║╚██╔╝██║██╔══██╗██╔══██║\n",
      "        ██║ ╚═╝ ██║██║  ██║██║ ╚═╝ ██║██████╔╝██║  ██║\n",
      "        ╚═╝     ╚═╝╚═╝  ╚═╝╚═╝     ╚═╝╚═════╝ ╚═╝  ╚═╝\n",
      "\n",
      "        mamba (0.7.4) supported by @QuantStack\n",
      "\n",
      "        GitHub:  https://github.com/mamba-org/mamba\n",
      "        Twitter: https://twitter.com/QuantStack\n",
      "\n",
      "█████████████████████████████████████████████████████████████\n",
      "\n",
      "\n",
      "Executing the query numpy\n",
      "\n",
      "\n",
      "\n",
      " Name  Version Build                           Channel             \n",
      "────────────────────────────────────────────────────────────────────\n",
      " numpy 1.21.1  py39hdbf815f_0                  conda-forge/linux-64\n",
      " numpy 1.21.1  py38h9894fe3_0                  conda-forge/linux-64\n",
      " numpy 1.21.1  py37h620df1f_0                  conda-forge/linux-64\n",
      " numpy 1.21.1  py37h038b26d_0                  conda-forge/linux-64\n",
      " numpy 1.21.0  py39hdbf815f_0                  conda-forge/linux-64\n",
      " numpy 1.21.0  py38h9894fe3_0                  conda-forge/linux-64\n",
      " numpy 1.21.0  py37h620df1f_0                  conda-forge/linux-64\n",
      " numpy 1.21.0  py37h038b26d_0                  conda-forge/linux-64\n",
      " numpy 1.20.3  py37h038b26d_0                  conda-forge/linux-64\n",
      " numpy 1.20.3  py39hdbf815f_1                  conda-forge/linux-64\n",
      " numpy 1.20.3  py39hdbf815f_0                  conda-forge/linux-64\n",
      " numpy 1.20.3  py38h9894fe3_1                  conda-forge/linux-64\n",
      " numpy 1.20.3  py38h9894fe3_0                  conda-forge/linux-64\n",
      " numpy 1.20.3  py37h038b26d_1                  conda-forge/linux-64\n",
      " numpy 1.20.3  py37h620df1f_0                  conda-forge/linux-64\n",
      " numpy 1.20.3  py37h620df1f_1                  conda-forge/linux-64\n",
      " numpy 1.20.3  py37h3dbb7de_0                  pkgs/main/linux-64  \n",
      " numpy 1.20.3  py37hf144106_0                  pkgs/main/linux-64  \n",
      " numpy 1.20.3  py38h3dbb7de_0                  pkgs/main/linux-64  \n",
      " numpy 1.20.3  py38hf144106_0                  pkgs/main/linux-64  \n",
      " numpy 1.20.3  py39h3dbb7de_0                  pkgs/main/linux-64  \n",
      " numpy 1.20.3  py39hf144106_0                  pkgs/main/linux-64  \n",
      " numpy 1.20.2  py38h2d18471_0                  pkgs/main/linux-64  \n",
      " numpy 1.20.2  py39hdbf815f_0                  conda-forge/linux-64\n",
      " numpy 1.20.2  py38h9894fe3_0                  conda-forge/linux-64\n",
      " numpy 1.20.2  py37h620df1f_0                  conda-forge/linux-64\n",
      " numpy 1.20.2  py37h038b26d_0                  conda-forge/linux-64\n",
      " numpy 1.20.2  py39h62767a5_0                  pkgs/main/linux-64  \n",
      " numpy 1.20.2  py39h2d18471_0                  pkgs/main/linux-64  \n",
      " numpy 1.20.2  py38h62767a5_0                  pkgs/main/linux-64  \n",
      " numpy 1.20.2  py37h2d18471_0                  pkgs/main/linux-64  \n",
      " numpy 1.20.2  py37h62767a5_0                  pkgs/main/linux-64  \n",
      " numpy 1.20.1  py38h18fd61f_0                  conda-forge/linux-64\n",
      " numpy 1.20.1  py39hdbf815f_0                  conda-forge/linux-64\n",
      " numpy 1.20.1  py37haa41c4c_0                  conda-forge/linux-64\n",
      " numpy 1.20.1  py37h620df1f_0                  conda-forge/linux-64\n",
      " numpy 1.20.1  py37h5a90a98_0                  pkgs/main/linux-64  \n",
      " numpy 1.20.1  py37h93e21f0_0                  pkgs/main/linux-64  \n",
      " numpy 1.20.1  py38h5a90a98_0                  pkgs/main/linux-64  \n",
      " numpy 1.20.1  py38h93e21f0_0                  pkgs/main/linux-64  \n",
      " numpy 1.20.1  py39h5a90a98_0                  pkgs/main/linux-64  \n",
      " numpy 1.20.1  py39h93e21f0_0                  pkgs/main/linux-64  \n",
      " numpy 1.20.0  py39hdbf815f_0                  conda-forge/linux-64\n",
      " numpy 1.20.0  py38h18fd61f_0                  conda-forge/linux-64\n",
      " numpy 1.20.0  py37haa41c4c_0                  conda-forge/linux-64\n",
      " numpy 1.20.0  py37h620df1f_0                  conda-forge/linux-64\n",
      " numpy 1.19.5  py36h7e87304_0                  conda-forge/linux-64\n",
      " numpy 1.19.5  py36h2aa4a07_0                  conda-forge/linux-64\n",
      " numpy 1.19.5  py36h7e87304_1                  conda-forge/linux-64\n",
      " numpy 1.19.5  py36hfc0c790_2                  conda-forge/linux-64\n",
      " numpy 1.19.5  py37h038b26d_2                  conda-forge/linux-64\n",
      " numpy 1.19.5  py37h620df1f_1                  conda-forge/linux-64\n",
      " numpy 1.19.5  py37h620df1f_2                  conda-forge/linux-64\n",
      " numpy 1.19.5  py37haa41c4c_0                  conda-forge/linux-64\n",
      " numpy 1.19.5  py37haa41c4c_1                  conda-forge/linux-64\n",
      " numpy 1.19.5  py38h18fd61f_0                  conda-forge/linux-64\n",
      " numpy 1.19.5  py38h18fd61f_1                  conda-forge/linux-64\n",
      " numpy 1.19.5  py38h9894fe3_2                  conda-forge/linux-64\n",
      " numpy 1.19.5  py39hdbf815f_0                  conda-forge/linux-64\n",
      " numpy 1.19.5  py39hdbf815f_1                  conda-forge/linux-64\n",
      " numpy 1.19.5  py36h2aa4a07_1                  conda-forge/linux-64\n",
      " numpy 1.19.5  py39hdbf815f_2                  conda-forge/linux-64\n",
      " numpy 1.19.4  py36h2aa4a07_2                  conda-forge/linux-64\n",
      " numpy 1.19.4  py36h8732dcd_0                  conda-forge/linux-64\n",
      " numpy 1.19.4  py36h8732dcd_1                  conda-forge/linux-64\n",
      " numpy 1.19.4  py36hf5aa452_0                  conda-forge/linux-64\n",
      " numpy 1.19.4  py37h7e9df27_0                  conda-forge/linux-64\n",
      " numpy 1.19.4  py37h7e9df27_1                  conda-forge/linux-64\n",
      " numpy 1.19.4  py37haa41c4c_2                  conda-forge/linux-64\n",
      " numpy 1.19.4  py38h18fd61f_2                  conda-forge/linux-64\n",
      " numpy 1.19.4  py38hf0fd68c_0                  conda-forge/linux-64\n",
      " numpy 1.19.4  py38hf0fd68c_1                  conda-forge/linux-64\n",
      " numpy 1.19.4  py39h57d35e7_0                  conda-forge/linux-64\n",
      " numpy 1.19.4  py39h57d35e7_1                  conda-forge/linux-64\n",
      " numpy 1.19.4  py39hdbf815f_2                  conda-forge/linux-64\n",
      " numpy 1.19.2  py37h6163131_0                  pkgs/main/linux-64  \n",
      " numpy 1.19.2  py39h87658db_0                  pkgs/main/linux-64  \n",
      " numpy 1.19.2  py36h3849536_0                  conda-forge/linux-64\n",
      " numpy 1.19.2  py36h3849536_1                  conda-forge/linux-64\n",
      " numpy 1.19.2  py36h68c22af_1                  conda-forge/linux-64\n",
      " numpy 1.19.2  py36h865be6f_1                  conda-forge/linux-64\n",
      " numpy 1.19.2  py36he0f5f23_1                  conda-forge/linux-64\n",
      " numpy 1.19.2  py37h7008fea_1                  conda-forge/linux-64\n",
      " numpy 1.19.2  py37h7ea13bd_0                  conda-forge/linux-64\n",
      " numpy 1.19.2  py37h7ea13bd_1                  conda-forge/linux-64\n",
      " numpy 1.19.2  py38hbc27379_0                  conda-forge/linux-64\n",
      " numpy 1.19.2  py38hbc27379_1                  conda-forge/linux-64\n",
      " numpy 1.19.2  py38hf89b668_1                  conda-forge/linux-64\n",
      " numpy 1.19.2  py39h2bb7b6c_1                  conda-forge/linux-64\n",
      " numpy 1.19.2  py39hb68c0c8_1                  conda-forge/linux-64\n",
      " numpy 1.19.2  py36h54aff64_0                  pkgs/main/linux-64  \n",
      " numpy 1.19.2  py36h6163131_0                  pkgs/main/linux-64  \n",
      " numpy 1.19.2  py37h54aff64_0                  pkgs/main/linux-64  \n",
      " numpy 1.19.2  py38h54aff64_0                  pkgs/main/linux-64  \n",
      " numpy 1.19.2  py38h6163131_0                  pkgs/main/linux-64  \n",
      " numpy 1.19.2  py39h89c1606_0                  pkgs/main/linux-64  \n",
      " numpy 1.19.1  py37h7ea13bd_1                  conda-forge/linux-64\n",
      " numpy 1.19.1  py38hbc27379_2                  conda-forge/linux-64\n",
      " numpy 1.19.1  py38hbc27379_1                  conda-forge/linux-64\n",
      " numpy 1.19.1  py38h8854b6b_0                  conda-forge/linux-64\n",
      " numpy 1.19.1  py37h8960a57_0                  conda-forge/linux-64\n",
      " numpy 1.19.1  py37h7ea13bd_2                  conda-forge/linux-64\n",
      " numpy 1.19.1  py38h30dfecb_0                  pkgs/main/linux-64  \n",
      " numpy 1.19.1  py36h3849536_1                  conda-forge/linux-64\n",
      " numpy 1.19.1  py36h3849536_2                  conda-forge/linux-64\n",
      " numpy 1.19.1  py36h7314795_0                  conda-forge/linux-64\n",
      " numpy 1.19.1  py36he0f5f23_0                  conda-forge/linux-64\n",
      " numpy 1.19.1  py36he0f5f23_1                  conda-forge/linux-64\n",
      " numpy 1.19.1  py36he0f5f23_2                  conda-forge/linux-64\n",
      " numpy 1.19.1  py36h30dfecb_0                  pkgs/main/linux-64  \n",
      " numpy 1.19.1  py36hbc911f0_0                  pkgs/main/linux-64  \n",
      " numpy 1.19.1  py37h30dfecb_0                  pkgs/main/linux-64  \n",
      " numpy 1.19.1  py37hbc911f0_0                  pkgs/main/linux-64  \n",
      " numpy 1.19.1  py38hbc911f0_0                  pkgs/main/linux-64  \n",
      " numpy 1.19.0  py36h7314795_0                  conda-forge/linux-64\n",
      " numpy 1.19.0  py38h8854b6b_0                  conda-forge/linux-64\n",
      " numpy 1.19.0  py37h8960a57_0                  conda-forge/linux-64\n",
      " numpy 1.19.0  py36he0f5f23_0                  conda-forge/linux-64\n",
      " numpy 1.18.5  py37ha1c710e_0                  pkgs/main/linux-64  \n",
      " numpy 1.18.5  py36h7314795_0                  conda-forge/linux-64\n",
      " numpy 1.18.5  py36he0f5f23_0                  conda-forge/linux-64\n",
      " numpy 1.18.5  py37h8960a57_0                  conda-forge/linux-64\n",
      " numpy 1.18.5  py38h8854b6b_0                  conda-forge/linux-64\n",
      " numpy 1.18.5  py38ha1c710e_0                  pkgs/main/linux-64  \n",
      " numpy 1.18.5  py36h7130bb8_0                  pkgs/main/linux-64  \n",
      " numpy 1.18.5  py36ha1c710e_0                  pkgs/main/linux-64  \n",
      " numpy 1.18.5  py37h7130bb8_0                  pkgs/main/linux-64  \n",
      " numpy 1.18.5  py38h7130bb8_0                  pkgs/main/linux-64  \n",
      " numpy 1.18.4  py38h8854b6b_0                  conda-forge/linux-64\n",
      " numpy 1.18.4  py37h8960a57_0                  conda-forge/linux-64\n",
      " numpy 1.18.4  py36he0f5f23_0                  conda-forge/linux-64\n",
      " numpy 1.18.4  py36h7314795_0                  conda-forge/linux-64\n",
      " numpy 1.18.1  py38h95a1406_0                  conda-forge/linux-64\n",
      " numpy 1.18.1  py38h8854b6b_1                  conda-forge/linux-64\n",
      " numpy 1.18.1  py37h95a1406_0                  conda-forge/linux-64\n",
      " numpy 1.18.1  py37h8960a57_1                  conda-forge/linux-64\n",
      " numpy 1.18.1  py38h4f9e942_0                  pkgs/main/linux-64  \n",
      " numpy 1.18.1  py37h94c655d_0                  pkgs/main/linux-64  \n",
      " numpy 1.18.1  py37h4f9e942_0                  pkgs/main/linux-64  \n",
      " numpy 1.18.1  py36h94c655d_0                  pkgs/main/linux-64  \n",
      " numpy 1.18.1  py36h4f9e942_0                  pkgs/main/linux-64  \n",
      " numpy 1.18.1  py38h94c655d_0                  pkgs/main/linux-64  \n",
      " numpy 1.18.1  py36he0f5f23_1                  conda-forge/linux-64\n",
      " numpy 1.18.1  py36h95a1406_0                  conda-forge/linux-64\n",
      " numpy 1.18.1  py36h7314795_1                  conda-forge/linux-64\n",
      " numpy 1.17.5  py36h2aa4a07_1                  conda-forge/linux-64\n",
      " numpy 1.17.5  py36h95a1406_0                  conda-forge/linux-64\n",
      " numpy 1.17.5  py37h95a1406_0                  conda-forge/linux-64\n",
      " numpy 1.17.5  py37haa41c4c_1                  conda-forge/linux-64\n",
      " numpy 1.17.5  py38h18fd61f_1                  conda-forge/linux-64\n",
      " numpy 1.17.5  py38h95a1406_0                  conda-forge/linux-64\n",
      " numpy 1.17.4  py36hc1035e2_0                  pkgs/main/linux-64  \n",
      " numpy 1.17.4  py36hd5be1e1_0                  pkgs/main/linux-64  \n",
      " numpy 1.17.4  py37hc1035e2_0                  pkgs/main/linux-64  \n",
      " numpy 1.17.4  py37hd5be1e1_0                  pkgs/main/linux-64  \n",
      " numpy 1.17.4  py38hc1035e2_0                  pkgs/main/linux-64  \n",
      " numpy 1.17.4  py38hd5be1e1_0                  pkgs/main/linux-64  \n",
      " numpy 1.17.3  py38h95a1406_0                  conda-forge/linux-64\n",
      " numpy 1.17.3  py38h7e8d029_0                  pkgs/main/linux-64  \n",
      " numpy 1.17.3  py37hd14ec0e_0                  pkgs/main/linux-64  \n",
      " numpy 1.17.3  py37h7e8d029_0                  pkgs/main/linux-64  \n",
      " numpy 1.17.3  py36hd14ec0e_0                  pkgs/main/linux-64  \n",
      " numpy 1.17.3  py36h7e8d029_0                  pkgs/main/linux-64  \n",
      " numpy 1.17.3  py37h95a1406_0                  conda-forge/linux-64\n",
      " numpy 1.17.3  py36h95a1406_0                  conda-forge/linux-64\n",
      " numpy 1.17.2  py37h95a1406_0                  conda-forge/linux-64\n",
      " numpy 1.17.2  py36h95a1406_0                  conda-forge/linux-64\n",
      " numpy 1.17.2  py36haad9e8e_0                  pkgs/main/linux-64  \n",
      " numpy 1.17.2  py37hf9bf1b6_0                  pkgs/main/linux-64  \n",
      " numpy 1.17.2  py37haad9e8e_0                  pkgs/main/linux-64  \n",
      " numpy 1.17.2  py36hf9bf1b6_0                  pkgs/main/linux-64  \n",
      " numpy 1.17.1  py37h95a1406_0                  conda-forge/linux-64\n",
      " numpy 1.17.1  py36h95a1406_0                  conda-forge/linux-64\n",
      " numpy 1.17.0  py37h99e49ec_0                  pkgs/r/linux-64     \n",
      " numpy 1.17.0  py37h95a1406_0                  conda-forge/linux-64\n",
      " numpy 1.17.0  py36h95a1406_0                  conda-forge/linux-64\n",
      " numpy 1.17.0  py36h7e9f1db_0                  pkgs/r/linux-64     \n",
      " numpy 1.17.0  py36h99e49ec_0                  pkgs/r/linux-64     \n",
      " numpy 1.17.0  py37h7e9f1db_0                  pkgs/r/linux-64     \n",
      " numpy 1.16.6  py36h2aa4a07_0                  conda-forge/linux-64\n",
      " numpy 1.16.6  py36h30dfecb_0                  pkgs/main/linux-64  \n",
      " numpy 1.16.6  py37haa41c4c_0                  conda-forge/linux-64\n",
      " numpy 1.16.6  py38h18fd61f_0                  conda-forge/linux-64\n",
      " numpy 1.16.6  py36h2d18471_3                  pkgs/main/linux-64  \n",
      " numpy 1.16.6  py36h0a8e133_3                  pkgs/main/linux-64  \n",
      " numpy 1.16.6  py27hbc911f0_0                  pkgs/main/linux-64  \n",
      " numpy 1.16.6  py27h30dfecb_0                  pkgs/main/linux-64  \n",
      " numpy 1.16.6  py36hbc911f0_0                  pkgs/main/linux-64  \n",
      " numpy 1.16.6  py37h0a8e133_3                  pkgs/main/linux-64  \n",
      " numpy 1.16.6  py37h2d18471_3                  pkgs/main/linux-64  \n",
      " numpy 1.16.6  py37h30dfecb_0                  pkgs/main/linux-64  \n",
      " numpy 1.16.6  py37hbc911f0_0                  pkgs/main/linux-64  \n",
      " numpy 1.16.6  py38h0a8e133_3                  pkgs/main/linux-64  \n",
      " numpy 1.16.6  py38h2d18471_3                  pkgs/main/linux-64  \n",
      " numpy 1.16.6  py38h30dfecb_0                  pkgs/main/linux-64  \n",
      " numpy 1.16.6  py38hbc911f0_0                  pkgs/main/linux-64  \n",
      " numpy 1.16.6  py39h0a8e133_3                  pkgs/main/linux-64  \n",
      " numpy 1.16.6  py39h2d18471_3                  pkgs/main/linux-64  \n",
      " numpy 1.16.6  py39h89c1606_1                  pkgs/main/linux-64  \n",
      " numpy 1.16.6  py39hdd937aa_1                  pkgs/main/linux-64  \n",
      " numpy 1.16.5  py38h95a1406_0                  conda-forge/linux-64\n",
      " numpy 1.16.5  py38h18fd61f_1                  conda-forge/linux-64\n",
      " numpy 1.16.5  py37haa41c4c_1                  conda-forge/linux-64\n",
      " numpy 1.16.5  py37h95a1406_0                  conda-forge/linux-64\n",
      " numpy 1.16.5  py37h99e49ec_0                  pkgs/main/linux-64  \n",
      " numpy 1.16.5  py27h95a1406_0                  conda-forge/linux-64\n",
      " numpy 1.16.5  py36h2aa4a07_1                  conda-forge/linux-64\n",
      " numpy 1.16.5  py36h95a1406_0                  conda-forge/linux-64\n",
      " numpy 1.16.5  py37h7e9f1db_0                  pkgs/main/linux-64  \n",
      " numpy 1.16.5  py36h99e49ec_0                  pkgs/main/linux-64  \n",
      " numpy 1.16.5  py36h7e9f1db_0                  pkgs/main/linux-64  \n",
      " numpy 1.16.5  py27h99e49ec_0                  pkgs/main/linux-64  \n",
      " numpy 1.16.5  py27h7e9f1db_0                  pkgs/main/linux-64  \n",
      " numpy 1.16.4  py36h99e49ec_0                  pkgs/main/linux-64  \n",
      " numpy 1.16.4  py37h99e49ec_0                  pkgs/main/linux-64  \n",
      " numpy 1.16.4  py37h7e9f1db_0                  pkgs/main/linux-64  \n",
      " numpy 1.16.4  py36h7e9f1db_0                  pkgs/main/linux-64  \n",
      " numpy 1.16.4  py27h99e49ec_0                  pkgs/main/linux-64  \n",
      " numpy 1.16.4  py27h7e9f1db_0                  pkgs/main/linux-64  \n",
      " numpy 1.16.4  py37h95a1406_0                  conda-forge/linux-64\n",
      " numpy 1.16.4  py36h95a1406_0                  conda-forge/linux-64\n",
      " numpy 1.16.4  py27h95a1406_0                  conda-forge/linux-64\n",
      " numpy 1.16.3  py27he5ce36f_0                  conda-forge/linux-64\n",
      " numpy 1.16.3  py37he5ce36f_0                  conda-forge/linux-64\n",
      " numpy 1.16.3  py36he5ce36f_0                  conda-forge/linux-64\n",
      " numpy 1.16.3  py37h99e49ec_0                  pkgs/main/linux-64  \n",
      " numpy 1.16.3  py37h7e9f1db_0                  pkgs/main/linux-64  \n",
      " numpy 1.16.3  py36h99e49ec_0                  pkgs/main/linux-64  \n",
      " numpy 1.16.3  py36h7e9f1db_0                  pkgs/main/linux-64  \n",
      " numpy 1.16.3  py27h99e49ec_0                  pkgs/main/linux-64  \n",
      " numpy 1.16.3  py27h7e9f1db_0                  pkgs/main/linux-64  \n",
      " numpy 1.16.2  py27h7e9f1db_0                  pkgs/main/linux-64  \n",
      " numpy 1.16.2  py27h99e49ec_0                  pkgs/main/linux-64  \n",
      " numpy 1.16.2  py36h7e9f1db_0                  pkgs/main/linux-64  \n",
      " numpy 1.16.2  py37h99e49ec_0                  pkgs/main/linux-64  \n",
      " numpy 1.16.2  py37h7e9f1db_0                  pkgs/main/linux-64  \n",
      " numpy 1.16.2  py36h99e49ec_0                  pkgs/main/linux-64  \n",
      " numpy 1.16.2  py37h7fc5cc3_0                  conda-forge/linux-64\n",
      " numpy 1.16.2  py37h8b7e671_1                  conda-forge/linux-64\n",
      " numpy 1.16.2  py27_blas_openblash1522bff_0    conda-forge/linux-64\n",
      " numpy 1.16.2  py27h7fc5cc3_0                  conda-forge/linux-64\n",
      " numpy 1.16.2  py27h8b7e671_1                  conda-forge/linux-64\n",
      " numpy 1.16.2  py36_blas_openblash1522bff_0    conda-forge/linux-64\n",
      " numpy 1.16.2  py36h7fc5cc3_0                  conda-forge/linux-64\n",
      " numpy 1.16.2  py36h8b7e671_1                  conda-forge/linux-64\n",
      " numpy 1.16.2  py37_blas_openblash1522bff_0    conda-forge/linux-64\n",
      " numpy 1.16.1  py27h7e9f1db_0                  pkgs/main/linux-64  \n",
      " numpy 1.16.1  py27h7e9f1db_1                  pkgs/main/linux-64  \n",
      " numpy 1.16.1  py27h99e49ec_0                  pkgs/main/linux-64  \n",
      " numpy 1.16.1  py27h99e49ec_1                  pkgs/main/linux-64  \n",
      " numpy 1.16.1  py36h7e9f1db_0                  pkgs/main/linux-64  \n",
      " numpy 1.16.1  py36h7e9f1db_1                  pkgs/main/linux-64  \n",
      " numpy 1.16.1  py36h99e49ec_0                  pkgs/main/linux-64  \n",
      " numpy 1.16.1  py36h99e49ec_1                  pkgs/main/linux-64  \n",
      " numpy 1.16.1  py37h7e9f1db_0                  pkgs/main/linux-64  \n",
      " numpy 1.16.1  py37h7e9f1db_1                  pkgs/main/linux-64  \n",
      " numpy 1.16.1  py37h99e49ec_0                  pkgs/main/linux-64  \n",
      " numpy 1.16.1  py37h99e49ec_1                  pkgs/main/linux-64  \n",
      " numpy 1.16.1  py27_blas_openblash1522bff_0    conda-forge/linux-64\n",
      " numpy 1.16.1  py36_blas_openblash1522bff_0    conda-forge/linux-64\n",
      " numpy 1.16.1  py37_blas_openblash1522bff_0    conda-forge/linux-64\n",
      " numpy 1.16.0  py27h99e49ec_1                  pkgs/main/linux-64  \n",
      " numpy 1.16.0  py36h7e9f1db_0                  pkgs/main/linux-64  \n",
      " numpy 1.16.0  py36h7e9f1db_1                  pkgs/main/linux-64  \n",
      " numpy 1.16.0  py36h99e49ec_0                  pkgs/main/linux-64  \n",
      " numpy 1.16.0  py36h99e49ec_1                  pkgs/main/linux-64  \n",
      " numpy 1.16.0  py37h7e9f1db_0                  pkgs/main/linux-64  \n",
      " numpy 1.16.0  py37h7e9f1db_1                  pkgs/main/linux-64  \n",
      " numpy 1.16.0  py37h99e49ec_0                  pkgs/main/linux-64  \n",
      " numpy 1.16.0  py37h99e49ec_1                  pkgs/main/linux-64  \n",
      " numpy 1.16.0  py37_blas_openblash1522bff_1000 conda-forge/linux-64\n",
      " numpy 1.16.0  py36_blas_openblash1522bff_1000 conda-forge/linux-64\n",
      " numpy 1.16.0  py27_blas_openblash1522bff_1000 conda-forge/linux-64\n",
      " numpy 1.16.0  py27h7e9f1db_0                  pkgs/main/linux-64  \n",
      " numpy 1.16.0  py27h7e9f1db_1                  pkgs/main/linux-64  \n",
      " numpy 1.16.0  py27h99e49ec_0                  pkgs/main/linux-64  \n",
      " numpy 1.15.4  py37h7e9f1db_0                  pkgs/main/linux-64  \n",
      " numpy 1.15.4  py36_blas_openblash1522bff_1000 conda-forge/linux-64\n",
      " numpy 1.15.4  py27h1d66e8a_0                  pkgs/main/linux-64  \n",
      " numpy 1.15.4  py27h7e9f1db_0                  pkgs/main/linux-64  \n",
      " numpy 1.15.4  py27h99e49ec_0                  pkgs/main/linux-64  \n",
      " numpy 1.15.4  py36h1d66e8a_0                  pkgs/main/linux-64  \n",
      " numpy 1.15.4  py36h7e9f1db_0                  pkgs/main/linux-64  \n",
      " numpy 1.15.4  py36h99e49ec_0                  pkgs/main/linux-64  \n",
      " numpy 1.15.4  py27_blas_openblash1522bff_1000 conda-forge/linux-64\n",
      " numpy 1.15.4  py27_blas_openblashb06ca3d_0    conda-forge/linux-64\n",
      " numpy 1.15.4  py27h8b7e671_1001               conda-forge/linux-64\n",
      " numpy 1.15.4  py27h8b7e671_1002               conda-forge/linux-64\n",
      " numpy 1.15.4  py36_blas_openblashb06ca3d_0    conda-forge/linux-64\n",
      " numpy 1.15.4  py36h8b7e671_1001               conda-forge/linux-64\n",
      " numpy 1.15.4  py36h8b7e671_1002               conda-forge/linux-64\n",
      " numpy 1.15.4  py37_blas_openblash1522bff_1000 conda-forge/linux-64\n",
      " numpy 1.15.4  py37_blas_openblashb06ca3d_0    conda-forge/linux-64\n",
      " numpy 1.15.4  py37h8b7e671_1001               conda-forge/linux-64\n",
      " numpy 1.15.4  py37h8b7e671_1002               conda-forge/linux-64\n",
      " numpy 1.15.4  py37h1d66e8a_0                  pkgs/main/linux-64  \n",
      " numpy 1.15.4  py37h99e49ec_0                  pkgs/main/linux-64  \n",
      " numpy 1.15.3  py37h1d66e8a_0                  pkgs/main/linux-64  \n",
      " numpy 1.15.3  py37h99e49ec_0                  pkgs/main/linux-64  \n",
      " numpy 1.15.3  py36h99e49ec_0                  pkgs/main/linux-64  \n",
      " numpy 1.15.3  py36h1d66e8a_0                  pkgs/main/linux-64  \n",
      " numpy 1.15.3  py27h99e49ec_0                  pkgs/main/linux-64  \n",
      " numpy 1.15.3  py27h1d66e8a_0                  pkgs/main/linux-64  \n",
      " numpy 1.15.3  py37_blas_openblashb06ca3d_0    conda-forge/linux-64\n",
      " numpy 1.15.3  py37_blas_openblash1522bff_1000 conda-forge/linux-64\n",
      " numpy 1.15.3  py36_blas_openblashb06ca3d_0    conda-forge/linux-64\n",
      " numpy 1.15.3  py36_blas_openblash1522bff_1000 conda-forge/linux-64\n",
      " numpy 1.15.3  py27_blas_openblashb06ca3d_0    conda-forge/linux-64\n",
      " numpy 1.15.3  py27_blas_openblash1522bff_1000 conda-forge/linux-64\n",
      " numpy 1.15.2  py27h1d66e8a_1                  pkgs/main/linux-64  \n",
      " numpy 1.15.2  py27h99e49ec_0                  pkgs/main/linux-64  \n",
      " numpy 1.15.2  py27h99e49ec_1                  pkgs/main/linux-64  \n",
      " numpy 1.15.2  py35h1d66e8a_0                  pkgs/main/linux-64  \n",
      " numpy 1.15.2  py35h99e49ec_0                  pkgs/main/linux-64  \n",
      " numpy 1.15.2  py37_blas_openblashb06ca3d_201  conda-forge/linux-64\n",
      " numpy 1.15.2  py36h1d66e8a_0                  pkgs/main/linux-64  \n",
      " numpy 1.15.2  py27h1d66e8a_0                  pkgs/main/linux-64  \n",
      " numpy 1.15.2  py36_blas_openblash1522bff_1001 conda-forge/linux-64\n",
      " numpy 1.15.2  py35_blas_openblashd3ea46f_0    conda-forge/linux-64\n",
      " numpy 1.15.2  py27_blas_openblashd3ea46f_1    conda-forge/linux-64\n",
      " numpy 1.15.2  py27_blas_openblashd3ea46f_0    conda-forge/linux-64\n",
      " numpy 1.15.2  py27_blas_openblashb06ca3d_201  conda-forge/linux-64\n",
      " numpy 1.15.2  py27_blas_openblashb06ca3d_1    conda-forge/linux-64\n",
      " numpy 1.15.2  py27_blas_openblash1522bff_1201 conda-forge/linux-64\n",
      " numpy 1.15.2  py27_blas_openblash1522bff_1001 conda-forge/linux-64\n",
      " numpy 1.15.2  py36h99e49ec_0                  pkgs/main/linux-64  \n",
      " numpy 1.15.2  py36h1d66e8a_1                  pkgs/main/linux-64  \n",
      " numpy 1.15.2  py36_blas_openblashb06ca3d_1    conda-forge/linux-64\n",
      " numpy 1.15.2  py36_blas_openblashb06ca3d_201  conda-forge/linux-64\n",
      " numpy 1.15.2  py36_blas_openblashd3ea46f_0    conda-forge/linux-64\n",
      " numpy 1.15.2  py36_blas_openblashd3ea46f_1    conda-forge/linux-64\n",
      " numpy 1.15.2  py37_blas_openblash1522bff_1001 conda-forge/linux-64\n",
      " numpy 1.15.2  py37_blas_openblash1522bff_1201 conda-forge/linux-64\n",
      " numpy 1.15.2  py37_blas_openblashd3ea46f_1    conda-forge/linux-64\n",
      " numpy 1.15.2  py37_blas_openblashb06ca3d_1    conda-forge/linux-64\n",
      " numpy 1.15.2  py36_blas_openblash1522bff_1201 conda-forge/linux-64\n",
      " numpy 1.15.2  py37h99e49ec_1                  pkgs/main/linux-64  \n",
      " numpy 1.15.2  py37h99e49ec_0                  pkgs/main/linux-64  \n",
      " numpy 1.15.2  py37h1d66e8a_1                  pkgs/main/linux-64  \n",
      " numpy 1.15.2  py37h1d66e8a_0                  pkgs/main/linux-64  \n",
      " numpy 1.15.2  py36h99e49ec_1                  pkgs/main/linux-64  \n",
      " numpy 1.15.1  py35_blas_openblashd3ea46f_0    conda-forge/linux-64\n",
      " numpy 1.15.1  py35_blas_openblashd3ea46f_1    conda-forge/linux-64\n",
      " numpy 1.15.1  py36_blas_openblashd3ea46f_0    conda-forge/linux-64\n",
      " numpy 1.15.1  py36_blas_openblashd3ea46f_1    conda-forge/linux-64\n",
      " numpy 1.15.1  py37_blas_openblashd3ea46f_1    conda-forge/linux-64\n",
      " numpy 1.15.1  py27_blas_openblashd3ea46f_1    conda-forge/linux-64\n",
      " numpy 1.15.1  py27_blas_openblashd3ea46f_0    conda-forge/linux-64\n",
      " numpy 1.15.1  py27h1d66e8a_0                  pkgs/main/linux-64  \n",
      " numpy 1.15.1  py27h3b04361_0                  pkgs/main/linux-64  \n",
      " numpy 1.15.1  py27hb510916_0                  pkgs/main/linux-64  \n",
      " numpy 1.15.1  py37hec00662_0                  pkgs/main/linux-64  \n",
      " numpy 1.15.1  py37hb510916_0                  pkgs/main/linux-64  \n",
      " numpy 1.15.1  py37h99e49ec_0                  pkgs/main/linux-64  \n",
      " numpy 1.15.1  py37h3b04361_0                  pkgs/main/linux-64  \n",
      " numpy 1.15.1  py37h1d66e8a_0                  pkgs/main/linux-64  \n",
      " numpy 1.15.1  py36hec00662_0                  pkgs/main/linux-64  \n",
      " numpy 1.15.1  py36hb510916_0                  pkgs/main/linux-64  \n",
      " numpy 1.15.1  py36h99e49ec_0                  pkgs/main/linux-64  \n",
      " numpy 1.15.1  py36h3b04361_0                  pkgs/main/linux-64  \n",
      " numpy 1.15.1  py36h1d66e8a_0                  pkgs/main/linux-64  \n",
      " numpy 1.15.1  py35hec00662_0                  pkgs/main/linux-64  \n",
      " numpy 1.15.1  py35hb510916_0                  pkgs/main/linux-64  \n",
      " numpy 1.15.1  py35h99e49ec_0                  pkgs/main/linux-64  \n",
      " numpy 1.15.1  py35h3b04361_0                  pkgs/main/linux-64  \n",
      " numpy 1.15.1  py35h1d66e8a_0                  pkgs/main/linux-64  \n",
      " numpy 1.15.1  py27hec00662_0                  pkgs/main/linux-64  \n",
      " numpy 1.15.1  py27h99e49ec_0                  pkgs/main/linux-64  \n",
      " numpy 1.15.0  py27h1b885b7_0                  pkgs/main/linux-64  \n",
      " numpy 1.15.0  py27h2aefc1b_0                  pkgs/main/linux-64  \n",
      " numpy 1.15.0  py35h1b885b7_0                  pkgs/main/linux-64  \n",
      " numpy 1.15.0  py35h2aefc1b_0                  pkgs/main/linux-64  \n",
      " numpy 1.15.0  py36h1b885b7_0                  pkgs/main/linux-64  \n",
      " numpy 1.15.0  py36h2aefc1b_0                  pkgs/main/linux-64  \n",
      " numpy 1.15.0  py37h1b885b7_0                  pkgs/main/linux-64  \n",
      " numpy 1.15.0  py37h2aefc1b_0                  pkgs/main/linux-64  \n",
      " numpy 1.15.0  py37_blas_openblashd3ea46f_200  conda-forge/linux-64\n",
      " numpy 1.15.0  py36_blas_openblashd3ea46f_200  conda-forge/linux-64\n",
      " numpy 1.15.0  py35_blas_openblashd3ea46f_200  conda-forge/linux-64\n",
      " numpy 1.15.0  py27_blas_openblashd3ea46f_200  conda-forge/linux-64\n",
      " numpy 1.14.6  py27_blas_openblashb06ca3d_200  conda-forge/linux-64\n",
      " numpy 1.14.6  py35hec00662_4                  pkgs/main/linux-64  \n",
      " numpy 1.14.6  py27_blas_openblashb06ca3d_0    conda-forge/linux-64\n",
      " numpy 1.14.6  py27_blas_openblash1522bff_1200 conda-forge/linux-64\n",
      " numpy 1.14.6  py27_blas_openblash1522bff_1000 conda-forge/linux-64\n",
      " numpy 1.14.6  py38h1e1a116_4                  pkgs/main/linux-64  \n",
      " numpy 1.14.6  py38h056ac22_4                  pkgs/main/linux-64  \n",
      " numpy 1.14.6  py37hec00662_5                  pkgs/main/linux-64  \n",
      " numpy 1.14.6  py37hec00662_4                  pkgs/main/linux-64  \n",
      " numpy 1.14.6  py37h3b04361_5                  pkgs/main/linux-64  \n",
      " numpy 1.14.6  py37h3b04361_4                  pkgs/main/linux-64  \n",
      " numpy 1.14.6  py36hec00662_5                  pkgs/main/linux-64  \n",
      " numpy 1.14.6  py36hec00662_4                  pkgs/main/linux-64  \n",
      " numpy 1.14.6  py36h3b04361_5                  pkgs/main/linux-64  \n",
      " numpy 1.14.6  py36h3b04361_4                  pkgs/main/linux-64  \n",
      " numpy 1.14.6  py35h3b04361_4                  pkgs/main/linux-64  \n",
      " numpy 1.14.6  py27hec00662_5                  pkgs/main/linux-64  \n",
      " numpy 1.14.6  py27hec00662_4                  pkgs/main/linux-64  \n",
      " numpy 1.14.6  py27h3b04361_5                  pkgs/main/linux-64  \n",
      " numpy 1.14.6  py27h3b04361_4                  pkgs/main/linux-64  \n",
      " numpy 1.14.6  py27h95a1406_1201               conda-forge/linux-64\n",
      " numpy 1.14.6  py36_blas_openblash1522bff_1000 conda-forge/linux-64\n",
      " numpy 1.14.6  py36_blas_openblash1522bff_1200 conda-forge/linux-64\n",
      " numpy 1.14.6  py36_blas_openblashb06ca3d_0    conda-forge/linux-64\n",
      " numpy 1.14.6  py36_blas_openblashb06ca3d_200  conda-forge/linux-64\n",
      " numpy 1.14.6  py36_blas_openblashd3ea46f_200  conda-forge/linux-64\n",
      " numpy 1.14.6  py36h95a1406_1201               conda-forge/linux-64\n",
      " numpy 1.14.6  py36he5ce36f_1201               conda-forge/linux-64\n",
      " numpy 1.14.6  py37_blas_openblash1522bff_1000 conda-forge/linux-64\n",
      " numpy 1.14.6  py37_blas_openblash1522bff_1200 conda-forge/linux-64\n",
      " numpy 1.14.6  py37_blas_openblashb06ca3d_0    conda-forge/linux-64\n",
      " numpy 1.14.6  py37_blas_openblashb06ca3d_200  conda-forge/linux-64\n",
      " numpy 1.14.6  py37_blas_openblashd3ea46f_200  conda-forge/linux-64\n",
      " numpy 1.14.6  py37h95a1406_1201               conda-forge/linux-64\n",
      " numpy 1.14.6  py37he5ce36f_1201               conda-forge/linux-64\n",
      " numpy 1.14.6  py38h95a1406_1201               conda-forge/linux-64\n",
      " numpy 1.14.6  py27_blas_openblashd3ea46f_200  conda-forge/linux-64\n",
      " numpy 1.14.6  py35_blas_openblashd3ea46f_200  conda-forge/linux-64\n",
      " numpy 1.14.6  py27he5ce36f_1201               conda-forge/linux-64\n",
      " numpy 1.14.5  py36hcd700cb_3                  pkgs/main/linux-64  \n",
      " numpy 1.14.5  py37h1b885b7_4                  pkgs/main/linux-64  \n",
      " numpy 1.14.5  py37h28100ab_2                  pkgs/main/linux-64  \n",
      " numpy 1.14.5  py37h28100ab_1                  pkgs/main/linux-64  \n",
      " numpy 1.14.5  py37h28100ab_3                  pkgs/main/linux-64  \n",
      " numpy 1.14.5  py36hcd700cb_2                  pkgs/main/linux-64  \n",
      " numpy 1.14.5  py35h1b885b7_4                  pkgs/main/linux-64  \n",
      " numpy 1.14.5  py27h1b885b7_4                  pkgs/main/linux-64  \n",
      " numpy 1.14.5  py27h28100ab_0                  pkgs/main/linux-64  \n",
      " numpy 1.14.5  py27h28100ab_1                  pkgs/main/linux-64  \n",
      " numpy 1.14.5  py27h28100ab_2                  pkgs/main/linux-64  \n",
      " numpy 1.14.5  py27h28100ab_3                  pkgs/main/linux-64  \n",
      " numpy 1.14.5  py27h2aefc1b_4                  pkgs/main/linux-64  \n",
      " numpy 1.14.5  py27hcd700cb_0                  pkgs/main/linux-64  \n",
      " numpy 1.14.5  py27hcd700cb_1                  pkgs/main/linux-64  \n",
      " numpy 1.14.5  py27hcd700cb_2                  pkgs/main/linux-64  \n",
      " numpy 1.14.5  py27hcd700cb_3                  pkgs/main/linux-64  \n",
      " numpy 1.14.5  py36hcd700cb_1                  pkgs/main/linux-64  \n",
      " numpy 1.14.5  py35h2aefc1b_4                  pkgs/main/linux-64  \n",
      " numpy 1.14.5  py35hcd700cb_0                  pkgs/main/linux-64  \n",
      " numpy 1.14.5  py36h1b885b7_4                  pkgs/main/linux-64  \n",
      " numpy 1.14.5  py36h28100ab_0                  pkgs/main/linux-64  \n",
      " numpy 1.14.5  py36h28100ab_1                  pkgs/main/linux-64  \n",
      " numpy 1.14.5  py36h28100ab_2                  pkgs/main/linux-64  \n",
      " numpy 1.14.5  py36h28100ab_3                  pkgs/main/linux-64  \n",
      " numpy 1.14.5  py36h2aefc1b_4                  pkgs/main/linux-64  \n",
      " numpy 1.14.5  py36hcd700cb_0                  pkgs/main/linux-64  \n",
      " numpy 1.14.5  py37hcd700cb_1                  pkgs/main/linux-64  \n",
      " numpy 1.14.5  py37_blas_openblashd3ea46f_202  conda-forge/linux-64\n",
      " numpy 1.14.5  py36_blas_openblashd3ea46f_202  conda-forge/linux-64\n",
      " numpy 1.14.5  py36_blas_openblashd3ea46f_201  conda-forge/linux-64\n",
      " numpy 1.14.5  py36_blas_openblashd3ea46f_200  conda-forge/linux-64\n",
      " numpy 1.14.5  py36_blas_openblash24bf2e0_200  conda-forge/linux-64\n",
      " numpy 1.14.5  py35_blas_openblashd3ea46f_202  conda-forge/linux-64\n",
      " numpy 1.14.5  py35_blas_openblashd3ea46f_201  conda-forge/linux-64\n",
      " numpy 1.14.5  py35_blas_openblashd3ea46f_200  conda-forge/linux-64\n",
      " numpy 1.14.5  py35_blas_openblash24bf2e0_200  conda-forge/linux-64\n",
      " numpy 1.14.5  py27_blas_openblashd3ea46f_202  conda-forge/linux-64\n",
      " numpy 1.14.5  py27_blas_openblashd3ea46f_201  conda-forge/linux-64\n",
      " numpy 1.14.5  py27_blas_openblashd3ea46f_200  conda-forge/linux-64\n",
      " numpy 1.14.5  py27_blas_openblash24bf2e0_200  conda-forge/linux-64\n",
      " numpy 1.14.5  py37h2aefc1b_4                  pkgs/main/linux-64  \n",
      " numpy 1.14.5  py37hcd700cb_2                  pkgs/main/linux-64  \n",
      " numpy 1.14.5  py37hcd700cb_3                  pkgs/main/linux-64  \n",
      " numpy 1.14.4  py35_blas_openblash24bf2e0_200  conda-forge/linux-64\n",
      " numpy 1.14.4  py27h28100ab_0                  pkgs/main/linux-64  \n",
      " numpy 1.14.4  py27hcd700cb_0                  pkgs/main/linux-64  \n",
      " numpy 1.14.4  py35h28100ab_0                  pkgs/main/linux-64  \n",
      " numpy 1.14.4  py35hcd700cb_0                  pkgs/main/linux-64  \n",
      " numpy 1.14.4  py36h28100ab_0                  pkgs/main/linux-64  \n",
      " numpy 1.14.4  py36hcd700cb_0                  pkgs/main/linux-64  \n",
      " numpy 1.14.4  py27_blas_openblash24bf2e0_200  conda-forge/linux-64\n",
      " numpy 1.14.4  py36_blas_openblash24bf2e0_200  conda-forge/linux-64\n",
      " numpy 1.14.3  py27_blas_openblas_200          conda-forge/linux-64\n",
      " numpy 1.14.3  py35_blas_openblas_200          conda-forge/linux-64\n",
      " numpy 1.14.3  py36_blas_openblas_200          conda-forge/linux-64\n",
      " numpy 1.14.3  py36hcd700cb_1                  pkgs/main/linux-64  \n",
      " numpy 1.14.3  py36h28100ab_1                  pkgs/main/linux-64  \n",
      " numpy 1.14.3  py35hcd700cb_1                  pkgs/main/linux-64  \n",
      " numpy 1.14.3  py35h28100ab_1                  pkgs/main/linux-64  \n",
      " numpy 1.14.3  py27hcd700cb_1                  pkgs/main/linux-64  \n",
      " numpy 1.14.3  py27h28100ab_1                  pkgs/main/linux-64  \n",
      " numpy 1.14.2  py35hdbf6ddf_0                  pkgs/main/linux-64  \n",
      " numpy 1.14.2  py27_nomklh2b20989_0            pkgs/main/linux-64  \n",
      " numpy 1.14.2  py35_nomklh2b20989_1            pkgs/main/linux-64  \n",
      " numpy 1.14.2  py35_nomklh2b20989_0            pkgs/main/linux-64  \n",
      " numpy 1.14.2  py27hdbf6ddf_1                  pkgs/main/linux-64  \n",
      " numpy 1.14.2  py27hdbf6ddf_0                  pkgs/main/linux-64  \n",
      " numpy 1.14.2  py27_nomklh2b20989_1            pkgs/main/linux-64  \n",
      " numpy 1.14.2  py36_nomklh2b20989_0            pkgs/main/linux-64  \n",
      " numpy 1.14.2  py35hdbf6ddf_1                  pkgs/main/linux-64  \n",
      " numpy 1.14.2  py36_nomklh2b20989_1            pkgs/main/linux-64  \n",
      " numpy 1.14.2  py36hdbf6ddf_0                  pkgs/main/linux-64  \n",
      " numpy 1.14.2  py36hdbf6ddf_1                  pkgs/main/linux-64  \n",
      " numpy 1.14.2  py36_blas_openblas_200          conda-forge/linux-64\n",
      " numpy 1.14.2  py35_blas_openblas_200          conda-forge/linux-64\n",
      " numpy 1.14.2  py27_blas_openblas_200          conda-forge/linux-64\n",
      " numpy 1.14.1  py35_nomklh5cab86c_2            pkgs/main/linux-64  \n",
      " numpy 1.14.1  py35_blas_openblas_200          conda-forge/linux-64\n",
      " numpy 1.14.1  py36_blas_openblas_200          conda-forge/linux-64\n",
      " numpy 1.14.1  py27_blas_openblas_200          conda-forge/linux-64\n",
      " numpy 1.14.1  py36ha266831_2                  pkgs/main/linux-64  \n",
      " numpy 1.14.1  py36h3dfced4_1                  pkgs/main/linux-64  \n",
      " numpy 1.14.1  py36_nomklh7cdd4dd_1            pkgs/main/linux-64  \n",
      " numpy 1.14.1  py36_nomklh5cab86c_2            pkgs/main/linux-64  \n",
      " numpy 1.14.1  py35ha266831_2                  pkgs/main/linux-64  \n",
      " numpy 1.14.1  py35h3dfced4_1                  pkgs/main/linux-64  \n",
      " numpy 1.14.1  py35_nomklh7cdd4dd_1            pkgs/main/linux-64  \n",
      " numpy 1.14.1  py27ha266831_2                  pkgs/main/linux-64  \n",
      " numpy 1.14.1  py27h3dfced4_1                  pkgs/main/linux-64  \n",
      " numpy 1.14.1  py27_nomklh7cdd4dd_1            pkgs/main/linux-64  \n",
      " numpy 1.14.1  py27_nomklh5cab86c_2            pkgs/main/linux-64  \n",
      " numpy 1.14.0  py27ha266831_2                  pkgs/main/linux-64  \n",
      " numpy 1.14.0  py36ha266831_2                  pkgs/main/linux-64  \n",
      " numpy 1.14.0  py36h3dfced4_1                  pkgs/main/linux-64  \n",
      " numpy 1.14.0  py36h3dfced4_0                  pkgs/main/linux-64  \n",
      " numpy 1.14.0  py36_nomklh7cdd4dd_0            pkgs/main/linux-64  \n",
      " numpy 1.14.0  py35ha266831_2                  pkgs/main/linux-64  \n",
      " numpy 1.14.0  py35h3dfced4_1                  pkgs/main/linux-64  \n",
      " numpy 1.14.0  py35h3dfced4_0                  pkgs/main/linux-64  \n",
      " numpy 1.14.0  py35_nomklh7cdd4dd_0            pkgs/main/linux-64  \n",
      " numpy 1.14.0  py27h3dfced4_1                  pkgs/main/linux-64  \n",
      " numpy 1.14.0  py27h3dfced4_0                  pkgs/main/linux-64  \n",
      " numpy 1.14.0  py27_nomklh7cdd4dd_0            pkgs/main/linux-64  \n",
      " numpy 1.14.0  py35_blas_openblas_200          conda-forge/linux-64\n",
      " numpy 1.14.0  py36_blas_openblas_200          conda-forge/linux-64\n",
      " numpy 1.14.0  py34_blas_openblas_200          conda-forge/linux-64\n",
      " numpy 1.14.0  py27_blas_openblas_200          conda-forge/linux-64\n",
      " numpy 1.13.3  py27_blas_openblashb06ca3d_1    conda-forge/linux-64\n",
      " numpy 1.13.3  py35_blas_openblas_201          conda-forge/linux-64\n",
      " numpy 1.13.3  py27_blas_openblashb06ca3d_201  conda-forge/linux-64\n",
      " numpy 1.13.3  py35_blas_openblas_200          conda-forge/linux-64\n",
      " numpy 1.13.3  py27_blas_openblas_200          conda-forge/linux-64\n",
      " numpy 1.13.3  py27_blas_openblash1522bff_1201 conda-forge/linux-64\n",
      " numpy 1.13.3  py27_blas_openblash1522bff_1001 conda-forge/linux-64\n",
      " numpy 1.13.3  py27_blas_openblas_201          conda-forge/linux-64\n",
      " numpy 1.13.3  py36ha12f23b_0                  pkgs/main/linux-64  \n",
      " numpy 1.13.3  py36_blas_openblas_200          conda-forge/linux-64\n",
      " numpy 1.13.3  py36_blas_openblas_201          conda-forge/linux-64\n",
      " numpy 1.13.3  py36_blas_openblash1522bff_1001 conda-forge/linux-64\n",
      " numpy 1.13.3  py36_blas_openblash1522bff_1201 conda-forge/linux-64\n",
      " numpy 1.13.3  py36_blas_openblashb06ca3d_1    conda-forge/linux-64\n",
      " numpy 1.13.3  py36_blas_openblashb06ca3d_201  conda-forge/linux-64\n",
      " numpy 1.13.3  py27h3dfced4_2                  pkgs/main/linux-64  \n",
      " numpy 1.13.3  py27_nomklhfe0a00b_0            pkgs/main/linux-64  \n",
      " numpy 1.13.3  py27_nomklh2b20989_4            pkgs/main/linux-64  \n",
      " numpy 1.13.3  py35_nomklhb7e7d7c_0            pkgs/main/linux-64  \n",
      " numpy 1.13.3  py36h3dfced4_2                  pkgs/main/linux-64  \n",
      " numpy 1.13.3  py36ha266831_3                  pkgs/main/linux-64  \n",
      " numpy 1.13.3  py36hdbf6ddf_4                  pkgs/main/linux-64  \n",
      " numpy 1.13.3  py38_nomklh199bd5d_4            pkgs/main/linux-64  \n",
      " numpy 1.13.3  py38he85021b_4                  pkgs/main/linux-64  \n",
      " numpy 1.13.3  py36_nomklhbef0cb9_0            pkgs/main/linux-64  \n",
      " numpy 1.13.3  py36_nomklh2b20989_4            pkgs/main/linux-64  \n",
      " numpy 1.13.3  py35hdbf6ddf_4                  pkgs/main/linux-64  \n",
      " numpy 1.13.3  py35hd829ed6_0                  pkgs/main/linux-64  \n",
      " numpy 1.13.3  py35ha266831_3                  pkgs/main/linux-64  \n",
      " numpy 1.13.3  py35h3dfced4_2                  pkgs/main/linux-64  \n",
      " numpy 1.13.3  py35_nomklh2b20989_4            pkgs/main/linux-64  \n",
      " numpy 1.13.3  py27hdbf6ddf_4                  pkgs/main/linux-64  \n",
      " numpy 1.13.3  py27hbcc08e0_0                  pkgs/main/linux-64  \n",
      " numpy 1.13.3  py27ha266831_3                  pkgs/main/linux-64  \n",
      " numpy 1.13.2  py36_blas_openblas_200          conda-forge/linux-64\n",
      " numpy 1.13.2  py35_blas_openblas_200          conda-forge/linux-64\n",
      " numpy 1.13.2  py27_blas_openblas_200          conda-forge/linux-64\n",
      " numpy 1.13.1  py36_blas_openblas_200          conda-forge/linux-64\n",
      " numpy 1.13.1  py27_blas_openblas_201          conda-forge/linux-64\n",
      " numpy 1.13.1  py34_blas_openblas_200          conda-forge/linux-64\n",
      " numpy 1.13.1  py34_blas_openblas_201          conda-forge/linux-64\n",
      " numpy 1.13.1  py35_blas_openblas_200          conda-forge/linux-64\n",
      " numpy 1.13.1  py35_blas_openblas_201          conda-forge/linux-64\n",
      " numpy 1.13.1  py36_blas_openblas_201          conda-forge/linux-64\n",
      " numpy 1.13.1  py35h8926d81_2                  pkgs/main/linux-64  \n",
      " numpy 1.13.1  py27hd1b6e02_2                  pkgs/main/linux-64  \n",
      " numpy 1.13.1  py36h5bc529a_2                  pkgs/main/linux-64  \n",
      " numpy 1.13.1  py27_blas_openblas_200          conda-forge/linux-64\n",
      " numpy 1.13.0  py36_blas_openblas_200          conda-forge/linux-64\n",
      " numpy 1.13.0  py35_blas_openblas_200          conda-forge/linux-64\n",
      " numpy 1.13.0  py34_blas_openblas_200          conda-forge/linux-64\n",
      " numpy 1.13.0  py27_blas_openblas_200          conda-forge/linux-64\n",
      " numpy 1.12.1  py27_blas_openblashb06ca3d_1    conda-forge/linux-64\n",
      " numpy 1.12.1  py36he24570b_1                  pkgs/main/linux-64  \n",
      " numpy 1.12.1  py35hca0bb5e_1                  pkgs/main/linux-64  \n",
      " numpy 1.12.1  py27h9378851_1                  pkgs/main/linux-64  \n",
      " numpy 1.12.1  py27_blas_openblas_200          conda-forge/linux-64\n",
      " numpy 1.12.1  py27_blas_openblas_201          conda-forge/linux-64\n",
      " numpy 1.12.1  py27_blas_openblash1522bff_1001 conda-forge/linux-64\n",
      " numpy 1.12.1  py27_blas_openblash24bf2e0_201  conda-forge/linux-64\n",
      " numpy 1.12.1  py34_blas_openblas_200          conda-forge/linux-64\n",
      " numpy 1.12.1  py34_blas_openblas_201          conda-forge/linux-64\n",
      " numpy 1.12.1  py35_blas_openblas_200          conda-forge/linux-64\n",
      " numpy 1.12.1  py35_blas_openblas_201          conda-forge/linux-64\n",
      " numpy 1.12.1  py36_blas_openblas_200          conda-forge/linux-64\n",
      " numpy 1.12.1  py36_blas_openblas_201          conda-forge/linux-64\n",
      " numpy 1.12.1  py36_blas_openblash1522bff_1001 conda-forge/linux-64\n",
      " numpy 1.12.1  py36_blas_openblash24bf2e0_201  conda-forge/linux-64\n",
      " numpy 1.12.1  py36_blas_openblashb06ca3d_1    conda-forge/linux-64\n",
      " numpy 1.12.0  py36_blas_openblas_200          conda-forge/linux-64\n",
      " numpy 1.12.0  py27_blas_openblas_200          conda-forge/linux-64\n",
      " numpy 1.12.0  py34_blas_openblas_200          conda-forge/linux-64\n",
      " numpy 1.12.0  py35_blas_openblas_200          conda-forge/linux-64\n",
      " numpy 1.11.3  py34_blas_openblas_203          conda-forge/linux-64\n",
      " numpy 1.11.3  py27_blas_openblashd3ea46f_205  conda-forge/linux-64\n",
      " numpy 1.11.3  py27_blas_openblashb06ca3d_205  conda-forge/linux-64\n",
      " numpy 1.11.3  py27_blas_openblash1522bff_1205 conda-forge/linux-64\n",
      " numpy 1.11.3  py27_blas_openblas_203          conda-forge/linux-64\n",
      " numpy 1.11.3  py27_blas_openblas_202          conda-forge/linux-64\n",
      " numpy 1.11.3  py27_blas_openblas_201          conda-forge/linux-64\n",
      " numpy 1.11.3  py27_blas_openblas_200          conda-forge/linux-64\n",
      " numpy 1.11.3  py27he5ce36f_1207               conda-forge/linux-64\n",
      " numpy 1.11.3  py34_blas_openblas_200          conda-forge/linux-64\n",
      " numpy 1.11.3  py34_blas_openblas_201          conda-forge/linux-64\n",
      " numpy 1.11.3  py34_blas_openblas_202          conda-forge/linux-64\n",
      " numpy 1.11.3  py36_blas_openblashb06ca3d_205  conda-forge/linux-64\n",
      " numpy 1.11.3  py35_blas_openblas_200          conda-forge/linux-64\n",
      " numpy 1.11.3  py35_blas_openblas_201          conda-forge/linux-64\n",
      " numpy 1.11.3  py35_blas_openblas_202          conda-forge/linux-64\n",
      " numpy 1.11.3  py35_blas_openblas_203          conda-forge/linux-64\n",
      " numpy 1.11.3  py35_blas_openblashd3ea46f_205  conda-forge/linux-64\n",
      " numpy 1.11.3  py36_blas_openblas_200          conda-forge/linux-64\n",
      " numpy 1.11.3  py36_blas_openblas_201          conda-forge/linux-64\n",
      " numpy 1.11.3  py36_blas_openblas_202          conda-forge/linux-64\n",
      " numpy 1.11.3  py36_blas_openblas_203          conda-forge/linux-64\n",
      " numpy 1.11.3  py36_blas_openblash1522bff_1205 conda-forge/linux-64\n",
      " numpy 1.11.3  py36h7e9f1db_12                 pkgs/main/linux-64  \n",
      " numpy 1.11.3  py37h1b885b7_9                  pkgs/main/linux-64  \n",
      " numpy 1.11.3  py37h1b885b7_8                  pkgs/main/linux-64  \n",
      " numpy 1.11.3  py36hec00662_9                  pkgs/main/linux-64  \n",
      " numpy 1.11.3  py36hcd700cb_8                  pkgs/main/linux-64  \n",
      " numpy 1.11.3  py36hcd700cb_7                  pkgs/main/linux-64  \n",
      " numpy 1.11.3  py36hb510916_10                 pkgs/main/linux-64  \n",
      " numpy 1.11.3  py37he5ce36f_1207               conda-forge/linux-64\n",
      " numpy 1.11.3  py36h99e49ec_11                 pkgs/main/linux-64  \n",
      " numpy 1.11.3  py36h99e49ec_10                 pkgs/main/linux-64  \n",
      " numpy 1.11.3  py37h1d66e8a_10                 pkgs/main/linux-64  \n",
      " numpy 1.11.3  py36h7e9f1db_11                 pkgs/main/linux-64  \n",
      " numpy 1.11.3  py36h3dfced4_4                  pkgs/main/linux-64  \n",
      " numpy 1.11.3  py36h3b04361_9                  pkgs/main/linux-64  \n",
      " numpy 1.11.3  py36h2aefc1b_9                  pkgs/main/linux-64  \n",
      " numpy 1.11.3  py36h2aefc1b_8                  pkgs/main/linux-64  \n",
      " numpy 1.11.3  py36h28100ab_8                  pkgs/main/linux-64  \n",
      " numpy 1.11.3  py36h28100ab_7                  pkgs/main/linux-64  \n",
      " numpy 1.11.3  py36h1d66e8a_10                 pkgs/main/linux-64  \n",
      " numpy 1.11.3  py37h99e49ec_11                 pkgs/main/linux-64  \n",
      " numpy 1.11.3  py38h99e49ec_12                 pkgs/main/linux-64  \n",
      " numpy 1.11.3  py38h7e9f1db_12                 pkgs/main/linux-64  \n",
      " numpy 1.11.3  py37hec00662_9                  pkgs/main/linux-64  \n",
      " numpy 1.11.3  py27h8b7e671_1206               conda-forge/linux-64\n",
      " numpy 1.11.3  py37hcd700cb_8                  pkgs/main/linux-64  \n",
      " numpy 1.11.3  py37hcd700cb_7                  pkgs/main/linux-64  \n",
      " numpy 1.11.3  py37hb510916_10                 pkgs/main/linux-64  \n",
      " numpy 1.11.3  py37h99e49ec_12                 pkgs/main/linux-64  \n",
      " numpy 1.11.3  py36h99e49ec_12                 pkgs/main/linux-64  \n",
      " numpy 1.11.3  py37h99e49ec_10                 pkgs/main/linux-64  \n",
      " numpy 1.11.3  py37h7e9f1db_12                 pkgs/main/linux-64  \n",
      " numpy 1.11.3  py37h7e9f1db_11                 pkgs/main/linux-64  \n",
      " numpy 1.11.3  py37h3b04361_9                  pkgs/main/linux-64  \n",
      " numpy 1.11.3  py37h2aefc1b_9                  pkgs/main/linux-64  \n",
      " numpy 1.11.3  py37h2aefc1b_8                  pkgs/main/linux-64  \n",
      " numpy 1.11.3  py37h28100ab_8                  pkgs/main/linux-64  \n",
      " numpy 1.11.3  py37h28100ab_7                  pkgs/main/linux-64  \n",
      " numpy 1.11.3  py27h1b885b7_9                  pkgs/main/linux-64  \n",
      " numpy 1.11.3  py27h7e9f1db_12                 pkgs/main/linux-64  \n",
      " numpy 1.11.3  py27h7e9f1db_11                 pkgs/main/linux-64  \n",
      " numpy 1.11.3  py27h3dfced4_4                  pkgs/main/linux-64  \n",
      " numpy 1.11.3  py27h3b04361_9                  pkgs/main/linux-64  \n",
      " numpy 1.11.3  py27h2aefc1b_9                  pkgs/main/linux-64  \n",
      " numpy 1.11.3  py27h2aefc1b_8                  pkgs/main/linux-64  \n",
      " numpy 1.11.3  py27h28100ab_8                  pkgs/main/linux-64  \n",
      " numpy 1.11.3  py27h28100ab_7                  pkgs/main/linux-64  \n",
      " numpy 1.11.3  py27h1d66e8a_10                 pkgs/main/linux-64  \n",
      " numpy 1.11.3  py36h1b885b7_8                  pkgs/main/linux-64  \n",
      " numpy 1.11.3  py27h1b885b7_8                  pkgs/main/linux-64  \n",
      " numpy 1.11.3  py36_blas_openblashd3ea46f_205  conda-forge/linux-64\n",
      " numpy 1.11.3  py36h8b7e671_1206               conda-forge/linux-64\n",
      " numpy 1.11.3  py36he5ce36f_1207               conda-forge/linux-64\n",
      " numpy 1.11.3  py37_blas_openblash1522bff_1205 conda-forge/linux-64\n",
      " numpy 1.11.3  py37_blas_openblashb06ca3d_205  conda-forge/linux-64\n",
      " numpy 1.11.3  py37_blas_openblashd3ea46f_205  conda-forge/linux-64\n",
      " numpy 1.11.3  py37h8b7e671_1206               conda-forge/linux-64\n",
      " numpy 1.11.3  py27h99e49ec_11                 pkgs/main/linux-64  \n",
      " numpy 1.11.3  py36h1b885b7_9                  pkgs/main/linux-64  \n",
      " numpy 1.11.3  py35hec00662_9                  pkgs/main/linux-64  \n",
      " numpy 1.11.3  py35hb510916_10                 pkgs/main/linux-64  \n",
      " numpy 1.11.3  py35h99e49ec_10                 pkgs/main/linux-64  \n",
      " numpy 1.11.3  py35h3dfced4_4                  pkgs/main/linux-64  \n",
      " numpy 1.11.3  py35h3b04361_9                  pkgs/main/linux-64  \n",
      " numpy 1.11.3  py35h2aefc1b_9                  pkgs/main/linux-64  \n",
      " numpy 1.11.3  py35h2aefc1b_8                  pkgs/main/linux-64  \n",
      " numpy 1.11.3  py35h1d66e8a_10                 pkgs/main/linux-64  \n",
      " numpy 1.11.3  py27h99e49ec_10                 pkgs/main/linux-64  \n",
      " numpy 1.11.3  py27h99e49ec_12                 pkgs/main/linux-64  \n",
      " numpy 1.11.3  py27hb510916_10                 pkgs/main/linux-64  \n",
      " numpy 1.11.3  py27hcd700cb_7                  pkgs/main/linux-64  \n",
      " numpy 1.11.3  py27hcd700cb_8                  pkgs/main/linux-64  \n",
      " numpy 1.11.3  py27hec00662_9                  pkgs/main/linux-64  \n",
      " numpy 1.11.3  py35h1b885b7_8                  pkgs/main/linux-64  \n",
      " numpy 1.11.3  py35h1b885b7_9                  pkgs/main/linux-64  \n",
      " numpy 1.11.2  py27_blas_openblas_200          conda-forge/linux-64\n",
      " numpy 1.11.2  py27_blas_openblas_201          conda-forge/linux-64\n",
      " numpy 1.11.2  py27_blas_openblas_202          conda-forge/linux-64\n",
      " numpy 1.11.2  py34_blas_openblas_200          conda-forge/linux-64\n",
      " numpy 1.11.2  py34_blas_openblas_201          conda-forge/linux-64\n",
      " numpy 1.11.2  py34_blas_openblas_202          conda-forge/linux-64\n",
      " numpy 1.11.2  py35_blas_openblas_200          conda-forge/linux-64\n",
      " numpy 1.11.2  py35_blas_openblas_201          conda-forge/linux-64\n",
      " numpy 1.11.2  py35_blas_openblas_202          conda-forge/linux-64\n",
      " numpy 1.11.1  py35_blas_openblas_202          conda-forge/linux-64\n",
      " numpy 1.11.1  py35_blas_openblas_201          conda-forge/linux-64\n",
      " numpy 1.11.1  py35_blas_openblas_200          conda-forge/linux-64\n",
      " numpy 1.11.1  py34_blas_openblas_202          conda-forge/linux-64\n",
      " numpy 1.11.1  py34_blas_openblas_201          conda-forge/linux-64\n",
      " numpy 1.11.1  py34_blas_openblas_200          conda-forge/linux-64\n",
      " numpy 1.11.1  py27_blas_openblas_202          conda-forge/linux-64\n",
      " numpy 1.11.1  py27_blas_openblas_201          conda-forge/linux-64\n",
      " numpy 1.11.1  py27_blas_openblas_200          conda-forge/linux-64\n",
      " numpy 1.11.0  py35_blas_openblas_201          conda-forge/linux-64\n",
      " numpy 1.11.0  py35_blas_openblas_200          conda-forge/linux-64\n",
      " numpy 1.11.0  py34_blas_openblas_201          conda-forge/linux-64\n",
      " numpy 1.11.0  py34_blas_openblas_200          conda-forge/linux-64\n",
      " numpy 1.11.0  py27_blas_openblas_201          conda-forge/linux-64\n",
      " numpy 1.11.0  py27_blas_openblas_200          conda-forge/linux-64\n",
      " numpy 1.10.4  py27_blas_openblas_201          conda-forge/linux-64\n",
      " numpy 1.10.4  py27_blas_openblas_200          conda-forge/linux-64\n",
      " numpy 1.10.4  py36_blas_openblas_205          conda-forge/linux-64\n",
      " numpy 1.10.4  py35_blas_openblas_205          conda-forge/linux-64\n",
      " numpy 1.10.4  py35_blas_openblas_204          conda-forge/linux-64\n",
      " numpy 1.10.4  py35_blas_openblas_203          conda-forge/linux-64\n",
      " numpy 1.10.4  py35_blas_openblas_202          conda-forge/linux-64\n",
      " numpy 1.10.4  py35_blas_openblas_201          conda-forge/linux-64\n",
      " numpy 1.10.4  py35_blas_openblas_200          conda-forge/linux-64\n",
      " numpy 1.10.4  py34_blas_openblas_205          conda-forge/linux-64\n",
      " numpy 1.10.4  py34_blas_openblas_204          conda-forge/linux-64\n",
      " numpy 1.10.4  py34_blas_openblas_203          conda-forge/linux-64\n",
      " numpy 1.10.4  py34_blas_openblas_202          conda-forge/linux-64\n",
      " numpy 1.10.4  py34_blas_openblas_201          conda-forge/linux-64\n",
      " numpy 1.10.4  py34_blas_openblas_200          conda-forge/linux-64\n",
      " numpy 1.10.4  py27_blas_openblas_205          conda-forge/linux-64\n",
      " numpy 1.10.4  py27_blas_openblas_202          conda-forge/linux-64\n",
      " numpy 1.10.4  py27_blas_openblas_203          conda-forge/linux-64\n",
      " numpy 1.10.4  py27_blas_openblas_204          conda-forge/linux-64\n",
      " numpy 1.9.3   py37h28100ab_7                  pkgs/main/linux-64  \n",
      " numpy 1.9.3   py27h28100ab_6                  pkgs/main/linux-64  \n",
      " numpy 1.9.3   py27h28100ab_5                  pkgs/main/linux-64  \n",
      " numpy 1.9.3   py27h1b885b7_7                  pkgs/main/linux-64  \n",
      " numpy 1.9.3   py27_nomklhbee5d10_3            pkgs/main/linux-64  \n",
      " numpy 1.9.3   py36hcd700cb_6                  pkgs/main/linux-64  \n",
      " numpy 1.9.3   py36hcd700cb_7                  pkgs/main/linux-64  \n",
      " numpy 1.9.3   py37h1b885b7_7                  pkgs/main/linux-64  \n",
      " numpy 1.9.3   py37h28100ab_5                  pkgs/main/linux-64  \n",
      " numpy 1.9.3   py37h28100ab_6                  pkgs/main/linux-64  \n",
      " numpy 1.9.3   py27h28100ab_7                  pkgs/main/linux-64  \n",
      " numpy 1.9.3   py37h2aefc1b_7                  pkgs/main/linux-64  \n",
      " numpy 1.9.3   py37hcd700cb_5                  pkgs/main/linux-64  \n",
      " numpy 1.9.3   py37hcd700cb_6                  pkgs/main/linux-64  \n",
      " numpy 1.9.3   py37hcd700cb_7                  pkgs/main/linux-64  \n",
      " numpy 1.9.3   py37h8b7e671_1208               conda-forge/linux-64\n",
      " numpy 1.9.3   py35h2aefc1b_7                  pkgs/main/linux-64  \n",
      " numpy 1.9.3   py36h35fcb08_3                  pkgs/main/linux-64  \n",
      " numpy 1.9.3   py36h2aefc1b_7                  pkgs/main/linux-64  \n",
      " numpy 1.9.3   py36h28100ab_7                  pkgs/main/linux-64  \n",
      " numpy 1.9.3   py36h28100ab_6                  pkgs/main/linux-64  \n",
      " numpy 1.9.3   py36h28100ab_5                  pkgs/main/linux-64  \n",
      " numpy 1.9.3   py36h1b885b7_7                  pkgs/main/linux-64  \n",
      " numpy 1.9.3   py36_nomklh9e07ec8_3            pkgs/main/linux-64  \n",
      " numpy 1.9.3   py35hff6eb55_3                  pkgs/main/linux-64  \n",
      " numpy 1.9.3   py35hcd700cb_7                  pkgs/main/linux-64  \n",
      " numpy 1.9.3   py36hcd700cb_5                  pkgs/main/linux-64  \n",
      " numpy 1.9.3   py35h28100ab_7                  pkgs/main/linux-64  \n",
      " numpy 1.9.3   py35h1b885b7_7                  pkgs/main/linux-64  \n",
      " numpy 1.9.3   py35_nomklh11ed3e2_3            pkgs/main/linux-64  \n",
      " numpy 1.9.3   py27hcd700cb_7                  pkgs/main/linux-64  \n",
      " numpy 1.9.3   py27hcd700cb_6                  pkgs/main/linux-64  \n",
      " numpy 1.9.3   py27hcd700cb_5                  pkgs/main/linux-64  \n",
      " numpy 1.9.3   py27h7e35acb_3                  pkgs/main/linux-64  \n",
      " numpy 1.9.3   py27h2aefc1b_7                  pkgs/main/linux-64  \n",
      " numpy 1.9.3   py36_blas_openblashb06ca3d_6    conda-forge/linux-64\n",
      " numpy 1.9.3   py35_blas_openblas_200          conda-forge/linux-64\n",
      " numpy 1.9.3   py35_blas_openblas_201          conda-forge/linux-64\n",
      " numpy 1.9.3   py35_blas_openblas_202          conda-forge/linux-64\n",
      " numpy 1.9.3   py35_blas_openblas_203          conda-forge/linux-64\n",
      " numpy 1.9.3   py35_blas_openblashd3ea46f_205  conda-forge/linux-64\n",
      " numpy 1.9.3   py35_blas_openblashd3ea46f_206  conda-forge/linux-64\n",
      " numpy 1.9.3   py36_blas_openblas_200          conda-forge/linux-64\n",
      " numpy 1.9.3   py36_blas_openblas_201          conda-forge/linux-64\n",
      " numpy 1.9.3   py36_blas_openblas_202          conda-forge/linux-64\n",
      " numpy 1.9.3   py36_blas_openblas_203          conda-forge/linux-64\n",
      " numpy 1.9.3   py36_blas_openblash1522bff_1006 conda-forge/linux-64\n",
      " numpy 1.9.3   py36_blas_openblash1522bff_1007 conda-forge/linux-64\n",
      " numpy 1.9.3   py36_blas_openblash1522bff_1207 conda-forge/linux-64\n",
      " numpy 1.9.3   py36_blas_openblashb06ca3d_207  conda-forge/linux-64\n",
      " numpy 1.9.3   py34_blas_openblas_203          conda-forge/linux-64\n",
      " numpy 1.9.3   py36_blas_openblashb06ca3d_7    conda-forge/linux-64\n",
      " numpy 1.9.3   py36_blas_openblashd3ea46f_205  conda-forge/linux-64\n",
      " numpy 1.9.3   py36_blas_openblashd3ea46f_206  conda-forge/linux-64\n",
      " numpy 1.9.3   py36h8b7e671_1208               conda-forge/linux-64\n",
      " numpy 1.9.3   py36he5ce36f_1209               conda-forge/linux-64\n",
      " numpy 1.9.3   py37_blas_openblash1522bff_1006 conda-forge/linux-64\n",
      " numpy 1.9.3   py37_blas_openblash1522bff_1007 conda-forge/linux-64\n",
      " numpy 1.9.3   py37_blas_openblash1522bff_1207 conda-forge/linux-64\n",
      " numpy 1.9.3   py37_blas_openblashb06ca3d_207  conda-forge/linux-64\n",
      " numpy 1.9.3   py37_blas_openblashb06ca3d_6    conda-forge/linux-64\n",
      " numpy 1.9.3   py37_blas_openblashb06ca3d_7    conda-forge/linux-64\n",
      " numpy 1.9.3   py37_blas_openblashd3ea46f_206  conda-forge/linux-64\n",
      " numpy 1.9.3   py37he5ce36f_1209               conda-forge/linux-64\n",
      " numpy 1.9.3   py34_blas_openblas_202          conda-forge/linux-64\n",
      " numpy 1.9.3   py27_blas_openblas_200          conda-forge/linux-64\n",
      " numpy 1.9.3   py27_blas_openblas_201          conda-forge/linux-64\n",
      " numpy 1.9.3   py27_blas_openblas_202          conda-forge/linux-64\n",
      " numpy 1.9.3   py27_blas_openblas_203          conda-forge/linux-64\n",
      " numpy 1.9.3   py27_blas_openblash1522bff_1006 conda-forge/linux-64\n",
      " numpy 1.9.3   py27_blas_openblash1522bff_1007 conda-forge/linux-64\n",
      " numpy 1.9.3   py27_blas_openblash1522bff_1207 conda-forge/linux-64\n",
      " numpy 1.9.3   py27_blas_openblashb06ca3d_207  conda-forge/linux-64\n",
      " numpy 1.9.3   py27_blas_openblashb06ca3d_7    conda-forge/linux-64\n",
      " numpy 1.9.3   py27_blas_openblashd3ea46f_205  conda-forge/linux-64\n",
      " numpy 1.9.3   py27_blas_openblashd3ea46f_206  conda-forge/linux-64\n",
      " numpy 1.9.3   py27h8b7e671_1208               conda-forge/linux-64\n",
      " numpy 1.9.3   py27he5ce36f_1209               conda-forge/linux-64\n",
      " numpy 1.9.3   py34_blas_openblas_200          conda-forge/linux-64\n",
      " numpy 1.9.3   py34_blas_openblas_201          conda-forge/linux-64\n",
      " numpy 1.9.3   py27_blas_openblashb06ca3d_6    conda-forge/linux-64\n",
      " numpy 1.8.2   py27_blas_openblas_200          conda-forge/linux-64\n",
      " numpy 1.8.2   py34_blas_openblas_200          conda-forge/linux-64\n",
      " numpy 1.8.2   py34_blas_openblas_201          conda-forge/linux-64\n",
      " numpy 1.8.2   py35_blas_openblas_200          conda-forge/linux-64\n",
      " numpy 1.8.2   py35_blas_openblas_201          conda-forge/linux-64\n",
      " numpy 1.8.2   py36_blas_openblas_200          conda-forge/linux-64\n",
      " numpy 1.8.2   py36_blas_openblas_201          conda-forge/linux-64\n",
      " numpy 1.8.2   py27_blas_openblas_201          conda-forge/linux-64\n",
      " numpy 1.7.2   py27_blas_openblas_201          conda-forge/linux-64\n",
      " numpy 1.7.2   py27_blas_openblas_202          conda-forge/linux-64\n",
      " numpy 1.7.2   py34_blas_openblas_202          conda-forge/linux-64\n",
      "\n"
     ]
    }
   ],
   "source": [
    "%%bash\n",
    "source activate temp_env\n",
    "\n",
    "mamba repoquery search numpy"
   ]
  },
  {
   "cell_type": "code",
   "execution_count": 9,
   "metadata": {
    "collapsed": false,
    "tags": [
     "no-execute"
    ]
   },
   "outputs": [
    {
     "name": "stdout",
     "output_type": "stream",
     "text": [
      "conda-forge/linux-64     Using cache\n",
      "conda-forge/noarch       Using cache\n",
      "pkgs/main/linux-64       Using cache\n",
      "pkgs/main/noarch         Using cache\n",
      "pkgs/r/linux-64          Using cache\n",
      "pkgs/r/noarch            Using cache\n",
      "Transaction\n",
      "\n",
      "  Prefix: /home/user/.conda/envs/temp_env\n",
      "\n",
      "  Updating specs:\n",
      "\n",
      "   - numpy\n",
      "\n",
      "\n",
      "\n",
      "                  __    __    __    __\n",
      "                 /  \\  /  \\  /  \\  /  \\\n",
      "                /    \\/    \\/    \\/    \\\n",
      "███████████████/  /██/  /██/  /██/  /████████████████████████\n",
      "              /  / \\   / \\   / \\   / \\  \\____\n",
      "             /  /   \\_/   \\_/   \\_/   \\    o \\__,\n",
      "            / _/                       \\_____/  `\n",
      "            |/\n",
      "        ███╗   ███╗ █████╗ ███╗   ███╗██████╗  █████╗\n",
      "        ████╗ ████║██╔══██╗████╗ ████║██╔══██╗██╔══██╗\n",
      "        ██╔████╔██║███████║██╔████╔██║██████╔╝███████║\n",
      "        ██║╚██╔╝██║██╔══██║██║╚██╔╝██║██╔══██╗██╔══██║\n",
      "        ██║ ╚═╝ ██║██║  ██║██║ ╚═╝ ██║██████╔╝██║  ██║\n",
      "        ╚═╝     ╚═╝╚═╝  ╚═╝╚═╝     ╚═╝╚═════╝ ╚═╝  ╚═╝\n",
      "\n",
      "        mamba (0.7.4) supported by @QuantStack\n",
      "\n",
      "        GitHub:  https://github.com/mamba-org/mamba\n",
      "        Twitter: https://twitter.com/QuantStack\n",
      "\n",
      "█████████████████████████████████████████████████████████████\n",
      "\n",
      "\n",
      "Looking for: ['numpy']\n",
      "\n",
      "Preparing transaction: ...working... done\n",
      "Verifying transaction: ...working... done\n",
      "Executing transaction: ...working... done\n",
      "  Package         Version  Build                Channel                    Size\n",
      "─────────────────────────────────────────────────────────────────────────────────\n",
      "  Install:\n",
      "─────────────────────────────────────────────────────────────────────────────────\n",
      "\n",
      "  libblas           3.9.0  10_openblas          conda-forge/linux-64     Cached\n",
      "  libcblas          3.9.0  10_openblas          conda-forge/linux-64     Cached\n",
      "  libgfortran-ng   11.1.0  h69a702a_8           conda-forge/linux-64     Cached\n",
      "  libgfortran5     11.1.0  h6c583b3_8           conda-forge/linux-64     Cached\n",
      "  liblapack         3.9.0  10_openblas          conda-forge/linux-64     Cached\n",
      "  libopenblas      0.3.17  pthreads_h8fe5266_1  conda-forge/linux-64     Cached\n",
      "  numpy            1.21.1  py39hdbf815f_0       conda-forge/linux-64     Cached\n",
      "\n",
      "  Summary:\n",
      "\n",
      "  Install: 7 packages\n",
      "\n",
      "  Total download: 0  B\n",
      "\n",
      "─────────────────────────────────────────────────────────────────────────────────\n",
      "\n"
     ]
    }
   ],
   "source": [
    "%%bash\n",
    "source activate temp_env\n",
    "\n",
    "mamba install -y numpy -c conda-forge"
   ]
  },
  {
   "cell_type": "markdown",
   "metadata": {
    "collapsed": false
   },
   "source": [
    "We can add conda-forge to the list of channels (to avoid adding `-c conda-forge` to every installation line)"
   ]
  },
  {
   "cell_type": "markdown",
   "metadata": {
    "collapsed": false
   },
   "source": [
    "\\* mamba does not currently support changing configuration files. We use conda for this, although the config changes also apply to mamba"
   ]
  },
  {
   "cell_type": "code",
   "execution_count": 10,
   "metadata": {
    "collapsed": false,
    "tags": [
     "no-execute"
    ]
   },
   "outputs": [
    {
     "name": "stderr",
     "output_type": "stream",
     "text": [
      "Warning: 'conda-forge' already in 'channels' list, moving to the top\n"
     ]
    }
   ],
   "source": [
    "%%bash\n",
    "source activate temp_env\n",
    "\n",
    "conda config --add channels conda-forge\n",
    "conda config --set channel_priority strict"
   ]
  },
  {
   "cell_type": "markdown",
   "metadata": {
    "collapsed": false
   },
   "source": [
    "Now we can install packages using less arguments"
   ]
  },
  {
   "cell_type": "code",
   "execution_count": 11,
   "metadata": {
    "collapsed": false,
    "tags": [
     "no-execute"
    ]
   },
   "outputs": [
    {
     "name": "stdout",
     "output_type": "stream",
     "text": [
      "conda-forge/linux-64     Using cache\n",
      "conda-forge/noarch       Using cache\n",
      "pkgs/main/linux-64        \n",
      "pkgs/main/noarch          \n",
      "pkgs/r/linux-64           \n",
      "pkgs/r/noarch             \n",
      "Transaction\n",
      "\n",
      "  Prefix: /home/user/.conda/envs/temp_env\n",
      "\n",
      "  Updating specs:\n",
      "\n",
      "   - scipy\n",
      "\n",
      "\n",
      "\n",
      "                  __    __    __    __\n",
      "                 /  \\  /  \\  /  \\  /  \\\n",
      "                /    \\/    \\/    \\/    \\\n",
      "███████████████/  /██/  /██/  /██/  /████████████████████████\n",
      "              /  / \\   / \\   / \\   / \\  \\____\n",
      "             /  /   \\_/   \\_/   \\_/   \\    o \\__,\n",
      "            / _/                       \\_____/  `\n",
      "            |/\n",
      "        ███╗   ███╗ █████╗ ███╗   ███╗██████╗  █████╗\n",
      "        ████╗ ████║██╔══██╗████╗ ████║██╔══██╗██╔══██╗\n",
      "        ██╔████╔██║███████║██╔████╔██║██████╔╝███████║\n",
      "        ██║╚██╔╝██║██╔══██║██║╚██╔╝██║██╔══██╗██╔══██║\n",
      "        ██║ ╚═╝ ██║██║  ██║██║ ╚═╝ ██║██████╔╝██║  ██║\n",
      "        ╚═╝     ╚═╝╚═╝  ╚═╝╚═╝     ╚═╝╚═════╝ ╚═╝  ╚═╝\n",
      "\n",
      "        mamba (0.7.4) supported by @QuantStack\n",
      "\n",
      "        GitHub:  https://github.com/mamba-org/mamba\n",
      "        Twitter: https://twitter.com/QuantStack\n",
      "\n",
      "█████████████████████████████████████████████████████████████\n",
      "\n",
      "\n",
      "Looking for: ['scipy']\n",
      "\n",
      "Preparing transaction: ...working... done\n",
      "Verifying transaction: ...working... done\n",
      "Executing transaction: ...working... done\n",
      "  Package  Version  Build           Channel                    Size\n",
      "─────────────────────────────────────────────────────────────────────\n",
      "  Install:\n",
      "─────────────────────────────────────────────────────────────────────\n",
      "\n",
      "  scipy      1.7.0  py39hee8e79c_1  conda-forge/linux-64     Cached\n",
      "\n",
      "  Summary:\n",
      "\n",
      "  Install: 1 packages\n",
      "\n",
      "  Total download: 0  B\n",
      "\n",
      "─────────────────────────────────────────────────────────────────────\n",
      "\n"
     ]
    }
   ],
   "source": [
    "%%bash\n",
    "source activate temp_env\n",
    "\n",
    "mamba install -y scipy"
   ]
  },
  {
   "cell_type": "markdown",
   "metadata": {
    "collapsed": false
   },
   "source": [
    "# Creating a Custom Kernel for Jupyter/IPython"
   ]
  },
  {
   "cell_type": "markdown",
   "metadata": {
    "collapsed": false
   },
   "source": [
    "While our environment is ready for command-line use, there are additional steps to use it with jupyter. \n",
    "\n",
    "1. First, we will install \"ipykernel\""
   ]
  },
  {
   "cell_type": "code",
   "execution_count": 12,
   "metadata": {
    "collapsed": false,
    "tags": [
     "no-execute"
    ]
   },
   "outputs": [
    {
     "name": "stdout",
     "output_type": "stream",
     "text": [
      "conda-forge/linux-64     Using cache\n",
      "conda-forge/noarch       Using cache\n",
      "pkgs/main/linux-64       Using cache\n",
      "pkgs/main/noarch         Using cache\n",
      "pkgs/r/linux-64          Using cache\n",
      "pkgs/r/noarch            Using cache\n",
      "Transaction\n",
      "\n",
      "  Prefix: /home/user/.conda/envs/temp_env\n",
      "\n",
      "  Updating specs:\n",
      "\n",
      "   - ipykernel\n",
      "\n",
      "\n",
      "\n",
      "                  __    __    __    __\n",
      "                 /  \\  /  \\  /  \\  /  \\\n",
      "                /    \\/    \\/    \\/    \\\n",
      "███████████████/  /██/  /██/  /██/  /████████████████████████\n",
      "              /  / \\   / \\   / \\   / \\  \\____\n",
      "             /  /   \\_/   \\_/   \\_/   \\    o \\__,\n",
      "            / _/                       \\_____/  `\n",
      "            |/\n",
      "        ███╗   ███╗ █████╗ ███╗   ███╗██████╗  █████╗\n",
      "        ████╗ ████║██╔══██╗████╗ ████║██╔══██╗██╔══██╗\n",
      "        ██╔████╔██║███████║██╔████╔██║██████╔╝███████║\n",
      "        ██║╚██╔╝██║██╔══██║██║╚██╔╝██║██╔══██╗██╔══██║\n",
      "        ██║ ╚═╝ ██║██║  ██║██║ ╚═╝ ██║██████╔╝██║  ██║\n",
      "        ╚═╝     ╚═╝╚═╝  ╚═╝╚═╝     ╚═╝╚═════╝ ╚═╝  ╚═╝\n",
      "\n",
      "        mamba (0.7.4) supported by @QuantStack\n",
      "\n",
      "        GitHub:  https://github.com/mamba-org/mamba\n",
      "        Twitter: https://twitter.com/QuantStack\n",
      "\n",
      "█████████████████████████████████████████████████████████████\n",
      "\n",
      "\n",
      "Looking for: ['ipykernel']\n",
      "\n",
      "Preparing transaction: ...working... done\n",
      "Verifying transaction: ...working... done\n",
      "Executing transaction: ...working... done\n",
      "  Package                        Version  Build              Channel                    Size\n",
      "──────────────────────────────────────────────────────────────────────────────────────────────\n",
      "  Install:\n",
      "──────────────────────────────────────────────────────────────────────────────────────────────\n",
      "\n",
      "  backcall                         0.2.0  pyh9f0ad1d_0       conda-forge/noarch       Cached\n",
      "  backports                          1.0  py_2               conda-forge/noarch       Cached\n",
      "  backports.functools_lru_cache    1.6.4  pyhd8ed1ab_0       conda-forge/noarch       Cached\n",
      "  debugpy                          1.4.1  py39he80948d_0     conda-forge/linux-64     Cached\n",
      "  decorator                        5.0.9  pyhd8ed1ab_0       conda-forge/noarch       Cached\n",
      "  ipykernel                        6.0.3  py39hef51801_0     conda-forge/linux-64     Cached\n",
      "  ipython                         7.26.0  py39hef51801_0     conda-forge/linux-64     Cached\n",
      "  ipython_genutils                 0.2.0  py_1               conda-forge/noarch       Cached\n",
      "  jedi                            0.18.0  py39hf3d152e_2     conda-forge/linux-64     Cached\n",
      "  jupyter_client                  6.1.12  pyhd8ed1ab_0       conda-forge/noarch       Cached\n",
      "  jupyter_core                     4.7.1  py39hf3d152e_0     conda-forge/linux-64     Cached\n",
      "  libsodium                       1.0.18  h516909a_1         conda-forge/linux-64     Cached\n",
      "  matplotlib-inline                0.1.2  pyhd8ed1ab_2       conda-forge/noarch       Cached\n",
      "  parso                            0.8.2  pyhd8ed1ab_0       conda-forge/noarch       Cached\n",
      "  pexpect                          4.8.0  pyh9f0ad1d_2       conda-forge/noarch       Cached\n",
      "  pickleshare                      0.7.5  py39hde42818_1002  conda-forge/linux-64     Cached\n",
      "  prompt-toolkit                  3.0.19  pyha770c72_0       conda-forge/noarch       Cached\n",
      "  ptyprocess                       0.7.0  pyhd3deb0d_0       conda-forge/noarch       Cached\n",
      "  pygments                         2.9.0  pyhd8ed1ab_0       conda-forge/noarch       Cached\n",
      "  python-dateutil                  2.8.2  pyhd8ed1ab_0       conda-forge/noarch       Cached\n",
      "  pyzmq                           22.2.0  py39h37b5a0c_0     conda-forge/linux-64     Cached\n",
      "  six                             1.16.0  pyh6c4a22f_0       conda-forge/noarch       Cached\n",
      "  tornado                            6.1  py39h3811e60_1     conda-forge/linux-64     Cached\n",
      "  traitlets                        5.0.5  py_0               conda-forge/noarch       Cached\n",
      "  wcwidth                          0.2.5  pyh9f0ad1d_2       conda-forge/noarch       Cached\n",
      "  zeromq                           4.3.4  h9c3ff4c_0         conda-forge/linux-64     Cached\n",
      "\n",
      "  Summary:\n",
      "\n",
      "  Install: 26 packages\n",
      "\n",
      "  Total download: 0  B\n",
      "\n",
      "──────────────────────────────────────────────────────────────────────────────────────────────\n",
      "\n"
     ]
    }
   ],
   "source": [
    "%%bash\n",
    "source activate temp_env\n",
    "\n",
    "mamba install -y ipykernel"
   ]
  },
  {
   "cell_type": "markdown",
   "metadata": {
    "collapsed": false
   },
   "source": [
    "2. We will create a jupyter kernelspec for our environment"
   ]
  },
  {
   "cell_type": "code",
   "execution_count": 13,
   "metadata": {
    "collapsed": false,
    "tags": [
     "no-execute"
    ]
   },
   "outputs": [
    {
     "name": "stdout",
     "output_type": "stream",
     "text": [
      "Available kernels:\r\n",
      "  python3    /home/user/.local/share/jupyter/kernels/python3\r\n"
     ]
    }
   ],
   "source": [
    "!jupyter kernelspec list"
   ]
  },
  {
   "cell_type": "markdown",
   "metadata": {
    "collapsed": false
   },
   "source": [
    "We will create a kernelspec (a pointer to our environment) using the python in our environment and add it to the list of kernels for our base environment."
   ]
  },
  {
   "cell_type": "code",
   "execution_count": 14,
   "metadata": {
    "collapsed": false
   },
   "outputs": [
    {
     "name": "stdout",
     "output_type": "stream",
     "text": [
      "# conda environments:\r\n",
      "#\r\n",
      "patrick                  /home/user/.conda/envs/patrick\r\n",
      "temp_env                 /home/user/.conda/envs/temp_env\r\n",
      "base                  *  /srv/conda\r\n",
      "notebook                 /srv/conda/envs/notebook\r\n",
      "\r\n"
     ]
    }
   ],
   "source": [
    "!mamba env list"
   ]
  },
  {
   "cell_type": "code",
   "execution_count": 15,
   "metadata": {
    "collapsed": false,
    "tags": [
     "no-execute"
    ]
   },
   "outputs": [
    {
     "name": "stdout",
     "output_type": "stream",
     "text": [
      "Installed kernelspec temp_env_kernel in /home/user/.local/share/jupyter/kernels/temp_env_kernel\r\n"
     ]
    }
   ],
   "source": [
    "!/home/user/.conda/envs/temp_env/bin/python -m ipykernel install --user --name 'temp_env_kernel'"
   ]
  },
  {
   "cell_type": "code",
   "execution_count": 16,
   "metadata": {
    "collapsed": false,
    "tags": [
     "no-execute"
    ]
   },
   "outputs": [
    {
     "name": "stdout",
     "output_type": "stream",
     "text": [
      "Available kernels:\r\n",
      "  python3            /home/user/.local/share/jupyter/kernels/python3\r\n",
      "  temp_env_kernel    /home/user/.local/share/jupyter/kernels/temp_env_kernel\r\n"
     ]
    }
   ],
   "source": [
    "!jupyter kernelspec list"
   ]
  },
  {
   "cell_type": "code",
   "execution_count": 2,
   "metadata": {
    "collapsed": false
   },
   "outputs": [
   ],
   "source": [
    "import numpy, scipy"
   ]
  },
  {
   "cell_type": "markdown",
   "metadata": {
    "collapsed": false
   },
   "source": [
    "## Remove/Delete Conda environment"
   ]
  },
  {
   "cell_type": "markdown",
   "metadata": {
    "collapsed": false
   },
   "source": [
    "When a conda environment is no longer useful or needs to be uninstalled, remove it with `conda remove`."
   ]
  },
  {
   "cell_type": "code",
   "execution_count": 3,
   "metadata": {
    "collapsed": false,
    "tags": [
     "no-execute"
    ]
   },
   "outputs": [
    {
     "name": "stdout",
     "output_type": "stream",
     "text": [
      "\r\n",
      "                  __    __    __    __\r\n",
      "                 /  \\  /  \\  /  \\  /  \\\r\n",
      "                /    \\/    \\/    \\/    \\\r\n",
      "███████████████/  /██/  /██/  /██/  /████████████████████████\r\n",
      "              /  / \\   / \\   / \\   / \\  \\____\r\n",
      "             /  /   \\_/   \\_/   \\_/   \\    o \\__,\r\n",
      "            / _/                       \\_____/  `\r\n",
      "            |/\r\n",
      "        ███╗   ███╗ █████╗ ███╗   ███╗██████╗  █████╗\r\n",
      "        ████╗ ████║██╔══██╗████╗ ████║██╔══██╗██╔══██╗\r\n",
      "        ██╔████╔██║███████║██╔████╔██║██████╔╝███████║\r\n",
      "        ██║╚██╔╝██║██╔══██║██║╚██╔╝██║██╔══██╗██╔══██║\r\n",
      "        ██║ ╚═╝ ██║██║  ██║██║ ╚═╝ ██║██████╔╝██║  ██║\r\n",
      "        ╚═╝     ╚═╝╚═╝  ╚═╝╚═╝     ╚═╝╚═════╝ ╚═╝  ╚═╝\r\n",
      "\r\n",
      "        mamba (0.7.4) supported by @QuantStack\r\n",
      "\r\n",
      "        GitHub:  https://github.com/mamba-org/mamba\r\n",
      "        Twitter: https://twitter.com/QuantStack\r\n",
      "\r\n",
      "█████████████████████████████████████████████████████████████\r\n",
      "\r\n",
      "\r\n",
      "Remove all packages in environment /home/user/.conda/envs/temp_env:\r\n",
      "\r\n"
     ]
    },
    {
     "name": "stdout",
     "output_type": "stream",
     "text": [
      "Preparing transaction: - "
     ]
    },
    {
     "name": "stdout",
     "output_type": "stream",
     "text": [
      "\b\bdone\r\n",
      "Verifying transaction: | "
     ]
    },
    {
     "name": "stdout",
     "output_type": "stream",
     "text": [
      "\b\bdone\r\n",
      "Executing transaction: "
     ]
    },
    {
     "name": "stdout",
     "output_type": "stream",
     "text": [
      "- "
     ]
    },
    {
     "name": "stdout",
     "output_type": "stream",
     "text": [
      "\b\b\\ "
     ]
    },
    {
     "name": "stdout",
     "output_type": "stream",
     "text": [
      "\b\b| "
     ]
    },
    {
     "name": "stdout",
     "output_type": "stream",
     "text": [
      "\b\b/ "
     ]
    },
    {
     "name": "stdout",
     "output_type": "stream",
     "text": [
      "\b\b- "
     ]
    },
    {
     "name": "stdout",
     "output_type": "stream",
     "text": [
      "\b\b\\ "
     ]
    },
    {
     "name": "stdout",
     "output_type": "stream",
     "text": [
      "\b\bdone\r\n"
     ]
    }
   ],
   "source": [
    "!mamba remove -y --name temp_env --all"
   ]
  },
  {
   "cell_type": "code",
   "execution_count": 4,
   "metadata": {
    "collapsed": false,
    "tags": [
     "no-execute"
    ]
   },
   "outputs": [
    {
     "name": "stdout",
     "output_type": "stream",
     "text": [
      "# conda environments:\r\n",
      "#\r\n",
      "patrick                  /home/user/.conda/envs/patrick\r\n",
      "base                  *  /srv/conda\r\n",
      "notebook                 /srv/conda/envs/notebook\r\n",
      "\r\n"
     ]
    }
   ],
   "source": [
    "!mamba env list"
   ]
  },
  {
   "cell_type": "markdown",
   "metadata": {
    "collapsed": false
   },
   "source": [
    "If we created a kernelspec, we'll want to remove it (not done by default)"
   ]
  },
  {
   "cell_type": "code",
   "execution_count": 5,
   "metadata": {
    "collapsed": false,
    "tags": [
     "no-execute"
    ]
   },
   "outputs": [
    {
     "name": "stdout",
     "output_type": "stream",
     "text": [
      "[RemoveKernelSpec] Removed /home/user/.local/share/jupyter/kernels/temp_env_kernel\r\n"
     ]
    }
   ],
   "source": [
    "!jupyter kernelspec remove -f temp_env_kernel"
   ]
  },
  {
   "cell_type": "code",
   "execution_count": 0,
   "metadata": {
    "collapsed": false
   },
   "outputs": [
   ],
   "source": [
   ]
  }
 ],
 "metadata": {
  "kernelspec": {
  },
  "language_info": {
   "codemirror_mode": {
    "name": "ipython",
    "version": 3
   },
   "file_extension": ".py",
   "mimetype": "text/x-python",
   "name": "python",
   "nbconvert_exporter": "python",
   "pygments_lexer": "ipython3",
   "version": "3.9.6"
  }
 },
 "nbformat": 4,
 "nbformat_minor": 4
}