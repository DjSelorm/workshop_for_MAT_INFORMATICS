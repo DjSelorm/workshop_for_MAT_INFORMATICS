{
 "cells": [
  {
   "cell_type": "markdown",
   "id": "dc58cbf9-23e3-4acb-9661-594dd44d9845",
   "metadata": {},
   "source": [
    "# Introduction to Package Managers and Environments"
   ]
  },
  {
   "cell_type": "markdown",
   "id": "152fec0e-8646-437e-b641-6e9f625a109c",
   "metadata": {},
   "source": [
    "While many programming languages exist, Python has risen to the top amongst the scientific and data science community. Python is simple to learn and use, is platform independent, and most importantly has access to a wide range of open source packages and libraries that aid in data analysis. While many of these packages are open source and readily available, in order to leverage these libraries in our code, we must use package managers to install and manage the packages. There are two common package management systems used - pip and conda."
   ]
  },
  {
   "cell_type": "markdown",
   "id": "2fe18ef1-dd7b-43ec-beda-482ba2f778b1",
   "metadata": {},
   "source": [
    "---"
   ]
  },
  {
   "cell_type": "markdown",
   "id": "78569ef3-970c-4945-b89c-b62ba03a079c",
   "metadata": {},
   "source": [
    "While it is easiest to work with pip and conda in the command line/terminal, for ease of demonstration, we will use ipython notebooks (in Co-calc) for the workshop. \n",
    "\n",
    "Most of the commands (especially those starting with `pip` or `conda`) used in this section are to be executed in a command-line. Within an ipython notebook, we use the `!` to run a single line of code in the command-line. Additionally, if we wish to execute the entirety of a cell as command-line, we can use the `%%bash` magic command. We will see examples of these later in the notebook."
   ]
  },
  {
   "cell_type": "markdown",
   "id": "8fc96903",
   "metadata": {},
   "source": [
    "# Introduction to pip\n",
    "pip is a package management system for python that is used to install and manage additional libraries and dependencies. pip typically comes pre-installed by alongside python. \n",
    "\n",
    "Let's verify that pip is installed:"
   ]
  },
  {
   "cell_type": "code",
   "execution_count": 1,
   "id": "a93f4038",
   "metadata": {},
   "outputs": [
    {
     "name": "stdout",
     "output_type": "stream",
     "text": [
      "pip 21.2.1 from /Users/esivonxay/anaconda3/envs/mp_workshop_2021/lib/python3.9/site-packages/pip (python 3.9)\n"
     ]
    }
   ],
   "source": [
    "!pip --version"
   ]
  },
  {
   "cell_type": "markdown",
   "id": "8b397b5a",
   "metadata": {},
   "source": [
    "*note that we are using the `!` to execute a command on the system terminal/command-line"
   ]
  },
  {
   "cell_type": "markdown",
   "id": "9454e45d",
   "metadata": {},
   "source": [
    "Let's see what we can do with pip using the `help` command"
   ]
  },
  {
   "cell_type": "code",
   "execution_count": 2,
   "id": "f75e53ae",
   "metadata": {},
   "outputs": [
    {
     "name": "stdout",
     "output_type": "stream",
     "text": [
      "\n",
      "Usage:   \n",
      "  pip <command> [options]\n",
      "\n",
      "Commands:\n",
      "  install                     Install packages.\n",
      "  download                    Download packages.\n",
      "  uninstall                   Uninstall packages.\n",
      "  freeze                      Output installed packages in requirements format.\n",
      "  list                        List installed packages.\n",
      "  show                        Show information about installed packages.\n",
      "  check                       Verify installed packages have compatible dependencies.\n",
      "  config                      Manage local and global configuration.\n",
      "  search                      Search PyPI for packages.\n",
      "  cache                       Inspect and manage pip's wheel cache.\n",
      "  index                       Inspect information available from package indexes.\n",
      "  wheel                       Build wheels from your requirements.\n",
      "  hash                        Compute hashes of package archives.\n",
      "  completion                  A helper command used for command completion.\n",
      "  debug                       Show information useful for debugging.\n",
      "  help                        Show help for commands.\n",
      "\n",
      "General Options:\n",
      "  -h, --help                  Show help.\n",
      "  --isolated                  Run pip in an isolated mode, ignoring\n",
      "                              environment variables and user configuration.\n",
      "  -v, --verbose               Give more output. Option is additive, and can be\n",
      "                              used up to 3 times.\n",
      "  -V, --version               Show version and exit.\n",
      "  -q, --quiet                 Give less output. Option is additive, and can be\n",
      "                              used up to 3 times (corresponding to WARNING,\n",
      "                              ERROR, and CRITICAL logging levels).\n",
      "  --log <path>                Path to a verbose appending log.\n",
      "  --no-input                  Disable prompting for input.\n",
      "  --proxy <proxy>             Specify a proxy in the form\n",
      "                              [user:passwd@]proxy.server:port.\n",
      "  --retries <retries>         Maximum number of retries each connection should\n",
      "                              attempt (default 5 times).\n",
      "  --timeout <sec>             Set the socket timeout (default 15 seconds).\n",
      "  --exists-action <action>    Default action when a path already exists:\n",
      "                              (s)witch, (i)gnore, (w)ipe, (b)ackup, (a)bort.\n",
      "  --trusted-host <hostname>   Mark this host or host:port pair as trusted,\n",
      "                              even though it does not have valid or any HTTPS.\n",
      "  --cert <path>               Path to PEM-encoded CA certificate bundle. If\n",
      "                              provided, overrides the default. See 'SSL\n",
      "                              Certificate Verification' in pip documentation\n",
      "                              for more information.\n",
      "  --client-cert <path>        Path to SSL client certificate, a single file\n",
      "                              containing the private key and the certificate\n",
      "                              in PEM format.\n",
      "  --cache-dir <dir>           Store the cache data in <dir>.\n",
      "  --no-cache-dir              Disable the cache.\n",
      "  --disable-pip-version-check\n",
      "                              Don't periodically check PyPI to determine\n",
      "                              whether a new version of pip is available for\n",
      "                              download. Implied with --no-index.\n",
      "  --no-color                  Suppress colored output.\n",
      "  --no-python-version-warning\n",
      "                              Silence deprecation warnings for upcoming\n",
      "                              unsupported Pythons.\n",
      "  --use-feature <feature>     Enable new functionality, that may be backward\n",
      "                              incompatible.\n",
      "  --use-deprecated <feature>  Enable deprecated functionality, that will be\n",
      "                              removed in the future.\n"
     ]
    }
   ],
   "source": [
    "!pip --help"
   ]
  },
  {
   "cell_type": "markdown",
   "id": "aca34351",
   "metadata": {},
   "source": [
    "`pip list` will show all installed packages, while `pip freeze` will show all user installed packages"
   ]
  },
  {
   "cell_type": "code",
   "execution_count": 3,
   "id": "ee52b0cf",
   "metadata": {},
   "outputs": [
    {
     "name": "stdout",
     "output_type": "stream",
     "text": [
      "\u001b[33mWARNING: Ignoring invalid distribution -umpy (/Users/esivonxay/anaconda3/envs/mp_workshop_2021/lib/python3.9/site-packages)\u001b[0m\n",
      "Package                    Version                            Location\n",
      "-------------------------- ---------------------------------- ----------------------------------------------------------------------------\n",
      "absl-py                    0.13.0\n",
      "aioitertools               0.7.1\n",
      "anyio                      3.3.0\n",
      "appnope                    0.1.2\n",
      "argon2-cffi                20.1.0\n",
      "astunparse                 1.6.3\n",
      "async-generator            1.10\n",
      "atomate                    0.9.9\n",
      "attrs                      21.2.0\n",
      "Automat                    20.2.0\n",
      "Babel                      2.9.1\n",
      "backcall                   0.2.0\n",
      "bcrypt                     3.2.0\n",
      "biopython                  1.79\n",
      "bleach                     3.3.1\n",
      "boltons                    21.0.0\n",
      "bravado                    11.0.3\n",
      "bravado-core               5.17.0\n",
      "cachetools                 4.2.2\n",
      "certifi                    2021.5.30\n",
      "cffi                       1.14.6\n",
      "charset-normalizer         2.0.3\n",
      "clang                      5.0\n",
      "click                      8.0.1\n",
      "constantly                 15.1.0\n",
      "coverage                   5.5\n",
      "crochet                    2.0.0\n",
      "cryptography               3.4.7\n",
      "crystal-toolkit            2021.4.29\n",
      "crystaltoolkit-extension   0.3.0\n",
      "custodian                  2021.2.8\n",
      "cycler                     0.10.0\n",
      "debugpy                    1.4.1\n",
      "decorator                  4.4.2\n",
      "defusedxml                 0.7.1\n",
      "dnspython                  2.1.0\n",
      "entrypoints                0.3\n",
      "fastapi                    0.67.0\n",
      "fido                       4.2.2\n",
      "filetype                   1.0.7\n",
      "FireWorks                  1.9.7\n",
      "flake8                     3.9.2\n",
      "Flask                      2.0.1\n",
      "flask-paginate             0.8.1\n",
      "flatbuffers                1.12\n",
      "flatten-dict               0.4.1\n",
      "future                     0.18.2\n",
      "gast                       0.4.0\n",
      "ghp-import                 2.0.1\n",
      "gitdb                      4.0.7\n",
      "GitPython                  3.1.18\n",
      "google-auth                1.33.1\n",
      "google-auth-oauthlib       0.4.4\n",
      "google-pasta               0.2.0\n",
      "graphviz                   0.16\n",
      "GridDataFormats            0.5.0\n",
      "grpcio                     1.34.1\n",
      "gsd                        2.4.2\n",
      "gunicorn                   20.1.0\n",
      "h5py                       3.1.0\n",
      "htmlmin                    0.1.12\n",
      "hyperlink                  21.0.0\n",
      "idna                       3.2\n",
      "imageio                    2.9.0\n",
      "importlib-metadata         4.6.1\n",
      "incremental                21.3.0\n",
      "inflect                    5.3.0\n",
      "iniconfig                  1.1.1\n",
      "ipykernel                  6.0.3\n",
      "ipython                    7.25.0\n",
      "ipython-genutils           0.2.0\n",
      "itsdangerous               2.0.1\n",
      "jedi                       0.18.0\n",
      "Jinja2                     3.0.1\n",
      "joblib                     1.0.1\n",
      "jsmin                      2.2.2\n",
      "json2html                  1.3.0\n",
      "json5                      0.9.6\n",
      "jsonpointer                2.1\n",
      "jsonref                    0.2\n",
      "jsonschema                 3.2.0\n",
      "jupyter-client             6.1.12\n",
      "jupyter-core               4.7.1\n",
      "jupyter-server             1.10.1\n",
      "jupyterlab                 3.0.16\n",
      "jupyterlab-pygments        0.1.2\n",
      "jupyterlab-server          2.6.1\n",
      "keras                      2.6.0rc2\n",
      "keras-nightly              2.5.0.dev2021032900\n",
      "Keras-Preprocessing        1.1.2\n",
      "kiwisolver                 1.3.1\n",
      "latexcodec                 2.0.1\n",
      "maggma                     0.30.2\n",
      "Markdown                   3.3.4\n",
      "MarkupSafe                 2.0.1\n",
      "matplotlib                 3.4.2\n",
      "matplotlib-inline          0.1.2\n",
      "mccabe                     0.6.1\n",
      "mergedeep                  1.3.4\n",
      "mistune                    0.8.4\n",
      "mkdocs                     1.2.1\n",
      "mkdocs-material            7.1.8\n",
      "mkdocs-material-extensions 1.0.1\n",
      "mkdocs-minify-plugin       0.4.0\n",
      "mknotebooks                0.7.0.post0.dev2\n",
      "mmtf-python                1.1.2\n",
      "mock                       4.0.3\n",
      "mongogrant                 0.3.3\n",
      "mongomock                  3.23.0\n",
      "monotonic                  1.6\n",
      "monty                      2021.7.8\n",
      "mp-pyrho                   0.0.14\n",
      "mp-workshop                2021.0.1a1.dev0+g4531146.d20210726 /Users/esivonxay/anaconda3/envs/mp_workshop_2021/code/workshop/python_module\n",
      "mpcontribs-client          3.10.1\n",
      "mpmath                     1.2.1\n",
      "msgpack                    1.0.2\n",
      "nbclassic                  0.3.1\n",
      "nbclient                   0.5.3\n",
      "nbconvert                  6.1.0\n",
      "nbformat                   5.1.3\n",
      "nbval                      0.9.5\n",
      "nbzip                      0.1.0\n",
      "nest-asyncio               1.5.1\n",
      "networkx                   2.5.1\n",
      "notebook                   6.4.0\n",
      "numpy                      1.21.1\n",
      "oauthlib                   3.1.1\n",
      "opt-einsum                 3.3.0\n",
      "orjson                     3.6.0\n",
      "packaging                  21.0\n",
      "palettable                 3.3.0\n",
      "pandas                     1.3.1\n",
      "pandocfilters              1.4.3\n",
      "paramiko                   2.7.2\n",
      "parso                      0.8.2\n",
      "pexpect                    4.8.0\n",
      "pickleshare                0.7.5\n",
      "Pillow                     8.3.1\n",
      "Pint                       0.17\n",
      "pip                        21.2.1\n",
      "plotly                     4.14.3\n",
      "pluggy                     0.13.1\n",
      "prometheus-client          0.11.0\n",
      "prompt-toolkit             3.0.19\n",
      "protobuf                   3.17.3\n",
      "ptyprocess                 0.7.0\n",
      "PubChemPy                  1.0.4\n",
      "py                         1.10.0\n",
      "pyasn1                     0.4.8\n",
      "pyasn1-modules             0.2.8\n",
      "pybtex                     0.24.0\n",
      "pycodestyle                2.7.0\n",
      "pycparser                  2.20\n",
      "pydantic                   1.8.2\n",
      "pydash                     5.0.2\n",
      "pydocstyle                 6.1.1\n",
      "pyflakes                   2.3.1\n",
      "Pygments                   2.9.0\n",
      "pyIsEmail                  1.3.2\n",
      "pymatgen                   2022.0.11\n",
      "pymatgen-diffusion         2020.10.8\n",
      "pymdown-extensions         8.2\n",
      "pymongo                    3.12.0\n",
      "PyNaCl                     1.4.0\n",
      "pynng                      0.7.1\n",
      "pyOpenSSL                  20.0.1\n",
      "pyparsing                  2.4.7\n",
      "pyrsistent                 0.18.0\n",
      "pytest                     6.2.4\n",
      "python-dateutil            2.8.2\n",
      "pytz                       2021.1\n",
      "PyWavelets                 1.1.1\n",
      "PyYAML                     5.4.1\n",
      "pyyaml_env_tag             0.1\n",
      "pyzmq                      22.1.0\n",
      "ratelimit                  2.2.1\n",
      "requests                   2.26.0\n",
      "requests-futures           1.0.0\n",
      "requests-oauthlib          1.3.0\n",
      "requests-unixsocket        0.2.0\n",
      "retrying                   1.3.3\n",
      "rfc3987                    1.3.8\n",
      "robocrys                   0.2.6\n",
      "rsa                        4.7.2\n",
      "ruamel.yaml                0.17.10\n",
      "ruamel.yaml.clib           0.2.6\n",
      "scikit-image               0.18.2\n",
      "scikit-learn               0.24.2\n",
      "scipy                      1.7.0\n",
      "Send2Trash                 1.7.1\n",
      "sentinels                  1.0.0\n",
      "sentry-sdk                 1.3.0\n",
      "service-identity           21.1.0\n",
      "setuptools                 49.6.0.post20210108\n",
      "simplejson                 3.17.3\n",
      "six                        1.16.0\n",
      "smmap                      4.0.0\n",
      "sniffio                    1.2.0\n",
      "snowballstemmer            2.1.0\n",
      "spglib                     1.16.1\n",
      "sshtunnel                  0.4.0\n",
      "starlette                  0.14.2\n",
      "strict-rfc3339             0.7\n",
      "swagger-spec-validator     2.7.3\n",
      "sympy                      1.8\n",
      "tabulate                   0.8.9\n",
      "tensorboard                2.5.0\n",
      "tensorboard-data-server    0.6.1\n",
      "tensorboard-plugin-wit     1.8.0\n",
      "tensorflow                 2.5.0\n",
      "tensorflow-cpu             2.5.0\n",
      "tensorflow-estimator       2.5.0\n",
      "termcolor                  1.1.0\n",
      "terminado                  0.10.1\n",
      "testpath                   0.5.0\n",
      "threadpoolctl              2.2.0\n",
      "tifffile                   2021.7.2\n",
      "toml                       0.10.2\n",
      "tornado                    6.1\n",
      "tqdm                       4.61.2\n",
      "traitlets                  5.0.5\n",
      "Twisted                    21.2.0\n",
      "typing-extensions          3.7.4.3\n",
      "uncertainties              3.1.6\n",
      "urllib3                    1.26.6\n",
      "watchdog                   2.1.3\n",
      "wcwidth                    0.2.5\n",
      "webcolors                  1.11.1\n",
      "webencodings               0.5.1\n",
      "websocket-client           1.1.0\n",
      "Werkzeug                   2.0.1\n",
      "wheel                      0.36.2\n",
      "wrapt                      1.12.1\n",
      "yelp-bytes                 0.3.0\n",
      "yelp-encodings             1.0.0\n",
      "zipp                       3.5.0\n",
      "zope.interface             5.4.0\n",
      "\u001b[33mWARNING: Ignoring invalid distribution -umpy (/Users/esivonxay/anaconda3/envs/mp_workshop_2021/lib/python3.9/site-packages)\u001b[0m\n",
      "\u001b[33mWARNING: Ignoring invalid distribution -umpy (/Users/esivonxay/anaconda3/envs/mp_workshop_2021/lib/python3.9/site-packages)\u001b[0m\n",
      "\u001b[33mWARNING: Ignoring invalid distribution -umpy (/Users/esivonxay/anaconda3/envs/mp_workshop_2021/lib/python3.9/site-packages)\u001b[0m\n"
     ]
    }
   ],
   "source": [
    "!pip list"
   ]
  },
  {
   "cell_type": "code",
   "execution_count": 4,
   "id": "6e18611e",
   "metadata": {},
   "outputs": [
    {
     "name": "stdout",
     "output_type": "stream",
     "text": [
      "\u001b[33mWARNING: Ignoring invalid distribution -umpy (/Users/esivonxay/anaconda3/envs/mp_workshop_2021/lib/python3.9/site-packages)\u001b[0m\n",
      "absl-py==0.13.0\n",
      "aioitertools==0.7.1\n",
      "anyio==3.3.0\n",
      "appnope==0.1.2\n",
      "argon2-cffi==20.1.0\n",
      "astunparse==1.6.3\n",
      "async-generator==1.10\n",
      "atomate==0.9.9\n",
      "attrs==21.2.0\n",
      "Automat==20.2.0\n",
      "Babel==2.9.1\n",
      "backcall==0.2.0\n",
      "bcrypt==3.2.0\n",
      "biopython==1.79\n",
      "bleach==3.3.1\n",
      "boltons==21.0.0\n",
      "bravado==11.0.3\n",
      "bravado-core==5.17.0\n",
      "cachetools==4.2.2\n",
      "certifi==2021.5.30\n",
      "cffi==1.14.6\n",
      "charset-normalizer==2.0.3\n",
      "clang==5.0\n",
      "click==8.0.1\n",
      "constantly==15.1.0\n",
      "coverage==5.5\n",
      "crochet==2.0.0\n",
      "cryptography==3.4.7\n",
      "crystal-toolkit==2021.4.29\n",
      "crystaltoolkit-extension==0.3.0\n",
      "custodian==2021.2.8\n",
      "cycler==0.10.0\n",
      "debugpy==1.4.1\n",
      "decorator==4.4.2\n",
      "defusedxml==0.7.1\n",
      "dnspython==2.1.0\n",
      "entrypoints==0.3\n",
      "fastapi==0.67.0\n",
      "fido==4.2.2\n",
      "filetype==1.0.7\n",
      "FireWorks==1.9.7\n",
      "flake8==3.9.2\n",
      "Flask==2.0.1\n",
      "flask-paginate==0.8.1\n",
      "flatbuffers==1.12\n",
      "flatten-dict==0.4.1\n",
      "future==0.18.2\n",
      "gast==0.4.0\n",
      "ghp-import==2.0.1\n",
      "gitdb==4.0.7\n",
      "GitPython==3.1.18\n",
      "google-auth==1.33.1\n",
      "google-auth-oauthlib==0.4.4\n",
      "google-pasta==0.2.0\n",
      "graphviz==0.16\n",
      "GridDataFormats==0.5.0\n",
      "grpcio==1.34.1\n",
      "gsd==2.4.2\n",
      "gunicorn==20.1.0\n",
      "h5py==3.1.0\n",
      "htmlmin==0.1.12\n",
      "hyperlink==21.0.0\n",
      "idna==3.2\n",
      "imageio==2.9.0\n",
      "importlib-metadata==4.6.1\n",
      "incremental==21.3.0\n",
      "inflect==5.3.0\n",
      "iniconfig==1.1.1\n",
      "ipykernel==6.0.3\n",
      "ipython==7.25.0\n",
      "ipython-genutils==0.2.0\n",
      "itsdangerous==2.0.1\n",
      "jedi==0.18.0\n",
      "Jinja2==3.0.1\n",
      "joblib==1.0.1\n",
      "jsmin==2.2.2\n",
      "json2html==1.3.0\n",
      "json5==0.9.6\n",
      "jsonpointer==2.1\n",
      "jsonref==0.2\n",
      "jsonschema==3.2.0\n",
      "jupyter-client==6.1.12\n",
      "jupyter-core==4.7.1\n",
      "jupyter-server==1.10.1\n",
      "jupyterlab==3.0.16\n",
      "jupyterlab-pygments==0.1.2\n",
      "jupyterlab-server==2.6.1\n",
      "keras==2.6.0rc2\n",
      "keras-nightly==2.5.0.dev2021032900\n",
      "Keras-Preprocessing==1.1.2\n",
      "kiwisolver==1.3.1\n",
      "latexcodec==2.0.1\n",
      "maggma==0.30.2\n",
      "Markdown==3.3.4\n",
      "MarkupSafe==2.0.1\n",
      "matplotlib==3.4.2\n",
      "matplotlib-inline==0.1.2\n",
      "mccabe==0.6.1\n",
      "mergedeep==1.3.4\n",
      "mistune==0.8.4\n",
      "mkdocs==1.2.1\n",
      "mkdocs-material==7.1.8\n",
      "mkdocs-material-extensions==1.0.1\n",
      "mkdocs-minify-plugin==0.4.0\n",
      "mknotebooks==0.7.0.post0.dev2\n",
      "mmtf-python==1.1.2\n",
      "mock==4.0.3\n",
      "mongogrant==0.3.3\n",
      "mongomock==3.23.0\n",
      "monotonic==1.6\n",
      "monty==2021.7.8\n",
      "mp-pyrho==0.0.14\n",
      "-e git+ssh://git@github.com/sivonxay/workshop.git@ef60cedf0f6608657965d29f83e793a99b88c945#egg=mp_workshop\n",
      "mpcontribs-client==3.10.1\n",
      "mpmath==1.2.1\n",
      "msgpack==1.0.2\n",
      "nbclassic==0.3.1\n",
      "nbclient==0.5.3\n",
      "nbconvert==6.1.0\n",
      "nbformat==5.1.3\n",
      "nbval==0.9.5\n",
      "nbzip==0.1.0\n",
      "nest-asyncio==1.5.1\n",
      "networkx==2.5.1\n",
      "notebook==6.4.0\n",
      "numpy==1.21.1\n",
      "oauthlib==3.1.1\n",
      "opt-einsum==3.3.0\n",
      "orjson==3.6.0\n",
      "packaging==21.0\n",
      "palettable==3.3.0\n",
      "pandas==1.3.1\n",
      "pandocfilters==1.4.3\n",
      "paramiko==2.7.2\n",
      "parso==0.8.2\n",
      "pexpect==4.8.0\n",
      "pickleshare==0.7.5\n",
      "Pillow==8.3.1\n",
      "Pint==0.17\n",
      "plotly==4.14.3\n",
      "pluggy==0.13.1\n",
      "prometheus-client==0.11.0\n",
      "prompt-toolkit==3.0.19\n",
      "protobuf==3.17.3\n",
      "ptyprocess==0.7.0\n",
      "PubChemPy==1.0.4\n",
      "py==1.10.0\n",
      "pyasn1==0.4.8\n",
      "pyasn1-modules==0.2.8\n",
      "pybtex==0.24.0\n",
      "pycodestyle==2.7.0\n",
      "pycparser==2.20\n",
      "pydantic==1.8.2\n",
      "pydash==5.0.2\n",
      "pydocstyle==6.1.1\n",
      "pyflakes==2.3.1\n",
      "Pygments==2.9.0\n",
      "pyIsEmail==1.3.2\n",
      "pymatgen==2022.0.11\n",
      "pymatgen-diffusion==2020.10.8\n",
      "pymdown-extensions==8.2\n",
      "pymongo==3.12.0\n",
      "PyNaCl==1.4.0\n",
      "pynng==0.7.1\n",
      "pyOpenSSL==20.0.1\n",
      "pyparsing==2.4.7\n",
      "pyrsistent==0.18.0\n",
      "pytest==6.2.4\n",
      "python-dateutil==2.8.2\n",
      "pytz==2021.1\n",
      "PyWavelets==1.1.1\n",
      "PyYAML==5.4.1\n",
      "pyyaml_env_tag==0.1\n",
      "pyzmq==22.1.0\n",
      "ratelimit==2.2.1\n",
      "requests==2.26.0\n",
      "requests-futures==1.0.0\n",
      "requests-oauthlib==1.3.0\n",
      "requests-unixsocket==0.2.0\n",
      "retrying==1.3.3\n",
      "rfc3987==1.3.8\n",
      "robocrys==0.2.6\n",
      "rsa==4.7.2\n",
      "ruamel.yaml==0.17.10\n",
      "ruamel.yaml.clib==0.2.6\n",
      "scikit-image==0.18.2\n",
      "scikit-learn==0.24.2\n",
      "scipy==1.7.0\n",
      "Send2Trash==1.7.1\n",
      "sentinels==1.0.0\n",
      "sentry-sdk==1.3.0\n",
      "service-identity==21.1.0\n",
      "simplejson==3.17.3\n",
      "six==1.16.0\n",
      "smmap==4.0.0\n",
      "sniffio==1.2.0\n",
      "snowballstemmer==2.1.0\n",
      "spglib==1.16.1\n",
      "sshtunnel==0.4.0\n",
      "starlette==0.14.2\n",
      "strict-rfc3339==0.7\n",
      "swagger-spec-validator==2.7.3\n",
      "sympy==1.8\n",
      "tabulate==0.8.9\n",
      "tensorboard==2.5.0\n",
      "tensorboard-data-server==0.6.1\n",
      "tensorboard-plugin-wit==1.8.0\n",
      "tensorflow==2.5.0\n",
      "tensorflow-cpu==2.5.0\n",
      "tensorflow-estimator==2.5.0\n",
      "termcolor==1.1.0\n",
      "terminado==0.10.1\n",
      "testpath==0.5.0\n",
      "threadpoolctl==2.2.0\n",
      "tifffile==2021.7.2\n",
      "toml==0.10.2\n",
      "tornado==6.1\n",
      "tqdm==4.61.2\n",
      "traitlets==5.0.5\n",
      "Twisted==21.2.0\n",
      "typing-extensions==3.7.4.3\n",
      "uncertainties==3.1.6\n",
      "urllib3==1.26.6\n",
      "watchdog==2.1.3\n",
      "wcwidth==0.2.5\n",
      "webcolors==1.11.1\n",
      "webencodings==0.5.1\n",
      "websocket-client==1.1.0\n",
      "Werkzeug==2.0.1\n",
      "wrapt==1.12.1\n",
      "yelp-bytes==0.3.0\n",
      "yelp-encodings==1.0.0\n",
      "zipp==3.5.0\n",
      "zope.interface==5.4.0\n"
     ]
    }
   ],
   "source": [
    "!pip freeze"
   ]
  },
  {
   "cell_type": "markdown",
   "id": "3bd3fcf5",
   "metadata": {},
   "source": [
    "## Searching for python packages\n",
    "Python packages for (nearly) any task can be found on the [Python Package Index (PyPI)](https://pypi.org/). PyPI is an online repository of 3rd party packages. Additionally, most python packages can be found on github, gitlab or other code repositories. Google search is also very handy when searching for packages.\n",
    "\n",
    "* *For those familiar with pip, `pip search` has recently been deprecated. See this [link](https://status.python.org/) and this [github issue](https://github.com/pypa/pip/issues/5216) for more information.*"
   ]
  },
  {
   "cell_type": "markdown",
   "id": "ddbb4c73-0e06-413e-838d-d0c5c07096c8",
   "metadata": {},
   "source": [
    "For demonstration purposes, we will examine the PyPI entry for [MDAnalysis](https://pypi.org/project/MDAnalysis/). The landing page for MDAnalysis provides us with details on the package in addition to installation instructions, examples, and release history."
   ]
  },
  {
   "cell_type": "markdown",
   "id": "dc762671",
   "metadata": {},
   "source": [
    "## Installing python packages"
   ]
  },
  {
   "cell_type": "markdown",
   "id": "9e575835",
   "metadata": {},
   "source": [
    "To install the latest version of a package, use `pip install`"
   ]
  },
  {
   "cell_type": "code",
   "execution_count": 5,
   "id": "68d1b761",
   "metadata": {},
   "outputs": [
    {
     "name": "stdout",
     "output_type": "stream",
     "text": [
      "\u001b[33mWARNING: Ignoring invalid distribution -umpy (/Users/esivonxay/anaconda3/envs/mp_workshop_2021/lib/python3.9/site-packages)\u001b[0m\n",
      "\u001b[33mWARNING: Package(s) not found: MDAnalysis\u001b[0m\n"
     ]
    }
   ],
   "source": [
    "!pip show MDAnalysis"
   ]
  },
  {
   "cell_type": "code",
   "execution_count": 6,
   "id": "227d1bd0",
   "metadata": {
    "scrolled": true
   },
   "outputs": [
    {
     "name": "stdout",
     "output_type": "stream",
     "text": [
      "\u001b[33mWARNING: Ignoring invalid distribution -umpy (/Users/esivonxay/anaconda3/envs/mp_workshop_2021/lib/python3.9/site-packages)\u001b[0m\n",
      "\u001b[33mWARNING: Ignoring invalid distribution -umpy (/Users/esivonxay/anaconda3/envs/mp_workshop_2021/lib/python3.9/site-packages)\u001b[0m\n",
      "Collecting MDAnalysis\n",
      "  Using cached MDAnalysis-1.0.0-cp39-cp39-macosx_10_9_x86_64.whl\n",
      "Requirement already satisfied: scipy>=1.0.0 in /Users/esivonxay/anaconda3/envs/mp_workshop_2021/lib/python3.9/site-packages (from MDAnalysis) (1.7.0)\n",
      "Requirement already satisfied: joblib>=0.12 in /Users/esivonxay/anaconda3/envs/mp_workshop_2021/lib/python3.9/site-packages (from MDAnalysis) (1.0.1)\n",
      "Requirement already satisfied: mock in /Users/esivonxay/anaconda3/envs/mp_workshop_2021/lib/python3.9/site-packages (from MDAnalysis) (4.0.3)\n",
      "Requirement already satisfied: gsd>=1.4.0 in /Users/esivonxay/anaconda3/envs/mp_workshop_2021/lib/python3.9/site-packages (from MDAnalysis) (2.4.2)\n",
      "Requirement already satisfied: tqdm>=4.43.0 in /Users/esivonxay/anaconda3/envs/mp_workshop_2021/lib/python3.9/site-packages (from MDAnalysis) (4.61.2)\n",
      "Requirement already satisfied: numpy>=1.13.3 in /Users/esivonxay/anaconda3/envs/mp_workshop_2021/lib/python3.9/site-packages (from MDAnalysis) (1.21.1)\n",
      "Requirement already satisfied: matplotlib>=1.5.1 in /Users/esivonxay/anaconda3/envs/mp_workshop_2021/lib/python3.9/site-packages (from MDAnalysis) (3.4.2)\n",
      "Requirement already satisfied: six>=1.4.0 in /Users/esivonxay/anaconda3/envs/mp_workshop_2021/lib/python3.9/site-packages (from MDAnalysis) (1.16.0)\n",
      "Requirement already satisfied: networkx>=1.0 in /Users/esivonxay/anaconda3/envs/mp_workshop_2021/lib/python3.9/site-packages (from MDAnalysis) (2.5.1)\n",
      "Requirement already satisfied: biopython>=1.71 in /Users/esivonxay/anaconda3/envs/mp_workshop_2021/lib/python3.9/site-packages (from MDAnalysis) (1.79)\n",
      "Requirement already satisfied: mmtf-python>=1.0.0 in /Users/esivonxay/anaconda3/envs/mp_workshop_2021/lib/python3.9/site-packages (from MDAnalysis) (1.1.2)\n",
      "Requirement already satisfied: GridDataFormats>=0.4.0 in /Users/esivonxay/anaconda3/envs/mp_workshop_2021/lib/python3.9/site-packages (from MDAnalysis) (0.5.0)\n",
      "Requirement already satisfied: python-dateutil>=2.7 in /Users/esivonxay/anaconda3/envs/mp_workshop_2021/lib/python3.9/site-packages (from matplotlib>=1.5.1->MDAnalysis) (2.8.2)\n",
      "Requirement already satisfied: pyparsing>=2.2.1 in /Users/esivonxay/anaconda3/envs/mp_workshop_2021/lib/python3.9/site-packages (from matplotlib>=1.5.1->MDAnalysis) (2.4.7)\n",
      "Requirement already satisfied: kiwisolver>=1.0.1 in /Users/esivonxay/anaconda3/envs/mp_workshop_2021/lib/python3.9/site-packages (from matplotlib>=1.5.1->MDAnalysis) (1.3.1)\n",
      "Requirement already satisfied: pillow>=6.2.0 in /Users/esivonxay/anaconda3/envs/mp_workshop_2021/lib/python3.9/site-packages (from matplotlib>=1.5.1->MDAnalysis) (8.3.1)\n",
      "Requirement already satisfied: cycler>=0.10 in /Users/esivonxay/anaconda3/envs/mp_workshop_2021/lib/python3.9/site-packages (from matplotlib>=1.5.1->MDAnalysis) (0.10.0)\n",
      "Requirement already satisfied: msgpack>=0.5.6 in /Users/esivonxay/anaconda3/envs/mp_workshop_2021/lib/python3.9/site-packages (from mmtf-python>=1.0.0->MDAnalysis) (1.0.2)\n",
      "Requirement already satisfied: decorator<5,>=4.3 in /Users/esivonxay/anaconda3/envs/mp_workshop_2021/lib/python3.9/site-packages (from networkx>=1.0->MDAnalysis) (4.4.2)\n",
      "\u001b[33mWARNING: Ignoring invalid distribution -umpy (/Users/esivonxay/anaconda3/envs/mp_workshop_2021/lib/python3.9/site-packages)\u001b[0m\n",
      "Installing collected packages: MDAnalysis\n",
      "\u001b[33mWARNING: Ignoring invalid distribution -umpy (/Users/esivonxay/anaconda3/envs/mp_workshop_2021/lib/python3.9/site-packages)\u001b[0m\n",
      "Successfully installed MDAnalysis-1.0.0\n",
      "\u001b[33mWARNING: Ignoring invalid distribution -umpy (/Users/esivonxay/anaconda3/envs/mp_workshop_2021/lib/python3.9/site-packages)\u001b[0m\n",
      "\u001b[33mWARNING: Ignoring invalid distribution -umpy (/Users/esivonxay/anaconda3/envs/mp_workshop_2021/lib/python3.9/site-packages)\u001b[0m\n",
      "\u001b[33mWARNING: Ignoring invalid distribution -umpy (/Users/esivonxay/anaconda3/envs/mp_workshop_2021/lib/python3.9/site-packages)\u001b[0m\n"
     ]
    }
   ],
   "source": [
    "!pip install MDAnalysis"
   ]
  },
  {
   "cell_type": "markdown",
   "id": "4b09cb7c",
   "metadata": {},
   "source": [
    "Now, we confirm the package is installed using the `pip show` command again."
   ]
  },
  {
   "cell_type": "code",
   "execution_count": 7,
   "id": "64598048",
   "metadata": {},
   "outputs": [
    {
     "name": "stdout",
     "output_type": "stream",
     "text": [
      "\u001b[33mWARNING: Ignoring invalid distribution -umpy (/Users/esivonxay/anaconda3/envs/mp_workshop_2021/lib/python3.9/site-packages)\u001b[0m\n",
      "Name: MDAnalysis\n",
      "Version: 1.0.0\n",
      "Summary: An object-oriented toolkit to analyze molecular dynamics trajectories generated by CHARMM, Gromacs, NAMD, LAMMPS, or Amber.\n",
      "Home-page: https://www.mdanalysis.org\n",
      "Author: Naveen Michaud-Agrawal\n",
      "Author-email: naveen.michaudagrawal@gmail.com\n",
      "License: GPL 2\n",
      "Location: /Users/esivonxay/anaconda3/envs/mp_workshop_2021/lib/python3.9/site-packages\n",
      "Requires: matplotlib, numpy, joblib, mmtf-python, scipy, six, GridDataFormats, gsd, biopython, mock, tqdm, networkx\n",
      "Required-by: \n"
     ]
    }
   ],
   "source": [
    "!pip show MDAnalysis"
   ]
  },
  {
   "cell_type": "markdown",
   "id": "5bbaaa1f",
   "metadata": {},
   "source": [
    "After installing the package, we must reload the notebook kernel to load the newly installed package. To do this, click Kernel -> Restart Kernel"
   ]
  },
  {
   "cell_type": "code",
   "execution_count": 1,
   "id": "dd5a959c",
   "metadata": {},
   "outputs": [
    {
     "data": {
      "text/plain": [
       "'2.0.0-beta'"
      ]
     },
     "execution_count": 1,
     "metadata": {},
     "output_type": "execute_result"
    }
   ],
   "source": [
    "import MDAnalysis\n",
    "MDAnalysis.__version__"
   ]
  },
  {
   "cell_type": "markdown",
   "id": "343ff801",
   "metadata": {},
   "source": [
    "Package versions can be found on the PyPI page for each package. We can specify the version we want installed using `==`."
   ]
  },
  {
   "cell_type": "code",
   "execution_count": 2,
   "id": "ed6437eb",
   "metadata": {
    "scrolled": true
   },
   "outputs": [
    {
     "name": "stdout",
     "output_type": "stream",
     "text": [
      "\u001b[33mWARNING: Ignoring invalid distribution -umpy (/Users/esivonxay/anaconda3/envs/mp_workshop_2021/lib/python3.9/site-packages)\u001b[0m\n",
      "\u001b[33mWARNING: Ignoring invalid distribution -umpy (/Users/esivonxay/anaconda3/envs/mp_workshop_2021/lib/python3.9/site-packages)\u001b[0m\n",
      "Requirement already satisfied: MDAnalysis==2.0.0b0 in /Users/esivonxay/anaconda3/envs/mp_workshop_2021/lib/python3.9/site-packages (2.0.0b0)\n",
      "Requirement already satisfied: biopython>=1.71 in /Users/esivonxay/anaconda3/envs/mp_workshop_2021/lib/python3.9/site-packages (from MDAnalysis==2.0.0b0) (1.79)\n",
      "Requirement already satisfied: joblib>=0.12 in /Users/esivonxay/anaconda3/envs/mp_workshop_2021/lib/python3.9/site-packages (from MDAnalysis==2.0.0b0) (1.0.1)\n",
      "Requirement already satisfied: GridDataFormats>=0.4.0 in /Users/esivonxay/anaconda3/envs/mp_workshop_2021/lib/python3.9/site-packages (from MDAnalysis==2.0.0b0) (0.5.0)\n",
      "Requirement already satisfied: mmtf-python>=1.0.0 in /Users/esivonxay/anaconda3/envs/mp_workshop_2021/lib/python3.9/site-packages (from MDAnalysis==2.0.0b0) (1.1.2)\n",
      "Requirement already satisfied: gsd>=1.4.0 in /Users/esivonxay/anaconda3/envs/mp_workshop_2021/lib/python3.9/site-packages (from MDAnalysis==2.0.0b0) (2.4.2)\n",
      "Requirement already satisfied: scipy>=1.0.0 in /Users/esivonxay/anaconda3/envs/mp_workshop_2021/lib/python3.9/site-packages (from MDAnalysis==2.0.0b0) (1.7.0)\n",
      "Requirement already satisfied: numpy>=1.16.0 in /Users/esivonxay/anaconda3/envs/mp_workshop_2021/lib/python3.9/site-packages (from MDAnalysis==2.0.0b0) (1.21.1)\n",
      "Requirement already satisfied: threadpoolctl in /Users/esivonxay/anaconda3/envs/mp_workshop_2021/lib/python3.9/site-packages (from MDAnalysis==2.0.0b0) (2.2.0)\n",
      "Requirement already satisfied: matplotlib>=1.5.1 in /Users/esivonxay/anaconda3/envs/mp_workshop_2021/lib/python3.9/site-packages (from MDAnalysis==2.0.0b0) (3.4.2)\n",
      "Requirement already satisfied: networkx>=1.0 in /Users/esivonxay/anaconda3/envs/mp_workshop_2021/lib/python3.9/site-packages (from MDAnalysis==2.0.0b0) (2.5.1)\n",
      "Requirement already satisfied: tqdm>=4.43.0 in /Users/esivonxay/anaconda3/envs/mp_workshop_2021/lib/python3.9/site-packages (from MDAnalysis==2.0.0b0) (4.61.2)\n",
      "Requirement already satisfied: six in /Users/esivonxay/anaconda3/envs/mp_workshop_2021/lib/python3.9/site-packages (from GridDataFormats>=0.4.0->MDAnalysis==2.0.0b0) (1.16.0)\n",
      "Requirement already satisfied: python-dateutil>=2.7 in /Users/esivonxay/anaconda3/envs/mp_workshop_2021/lib/python3.9/site-packages (from matplotlib>=1.5.1->MDAnalysis==2.0.0b0) (2.8.2)\n",
      "Requirement already satisfied: kiwisolver>=1.0.1 in /Users/esivonxay/anaconda3/envs/mp_workshop_2021/lib/python3.9/site-packages (from matplotlib>=1.5.1->MDAnalysis==2.0.0b0) (1.3.1)\n",
      "Requirement already satisfied: pyparsing>=2.2.1 in /Users/esivonxay/anaconda3/envs/mp_workshop_2021/lib/python3.9/site-packages (from matplotlib>=1.5.1->MDAnalysis==2.0.0b0) (2.4.7)\n",
      "Requirement already satisfied: pillow>=6.2.0 in /Users/esivonxay/anaconda3/envs/mp_workshop_2021/lib/python3.9/site-packages (from matplotlib>=1.5.1->MDAnalysis==2.0.0b0) (8.3.1)\n",
      "Requirement already satisfied: cycler>=0.10 in /Users/esivonxay/anaconda3/envs/mp_workshop_2021/lib/python3.9/site-packages (from matplotlib>=1.5.1->MDAnalysis==2.0.0b0) (0.10.0)\n",
      "Requirement already satisfied: msgpack>=0.5.6 in /Users/esivonxay/anaconda3/envs/mp_workshop_2021/lib/python3.9/site-packages (from mmtf-python>=1.0.0->MDAnalysis==2.0.0b0) (1.0.2)\n",
      "Requirement already satisfied: decorator<5,>=4.3 in /Users/esivonxay/anaconda3/envs/mp_workshop_2021/lib/python3.9/site-packages (from networkx>=1.0->MDAnalysis==2.0.0b0) (4.4.2)\n",
      "\u001b[33mWARNING: Ignoring invalid distribution -umpy (/Users/esivonxay/anaconda3/envs/mp_workshop_2021/lib/python3.9/site-packages)\u001b[0m\n",
      "\u001b[33mWARNING: Ignoring invalid distribution -umpy (/Users/esivonxay/anaconda3/envs/mp_workshop_2021/lib/python3.9/site-packages)\u001b[0m\n",
      "\u001b[33mWARNING: Ignoring invalid distribution -umpy (/Users/esivonxay/anaconda3/envs/mp_workshop_2021/lib/python3.9/site-packages)\u001b[0m\n",
      "\u001b[33mWARNING: Ignoring invalid distribution -umpy (/Users/esivonxay/anaconda3/envs/mp_workshop_2021/lib/python3.9/site-packages)\u001b[0m\n"
     ]
    }
   ],
   "source": [
    "!pip install --upgrade MDAnalysis==2.0.0b0"
   ]
  },
  {
   "cell_type": "code",
   "execution_count": 3,
   "id": "24b6b29c",
   "metadata": {},
   "outputs": [
    {
     "name": "stdout",
     "output_type": "stream",
     "text": [
      "\u001b[33mWARNING: Ignoring invalid distribution -umpy (/Users/esivonxay/anaconda3/envs/mp_workshop_2021/lib/python3.9/site-packages)\u001b[0m\n",
      "Name: MDAnalysis\n",
      "Version: 2.0.0b0\n",
      "Summary: An object-oriented toolkit to analyze molecular dynamics trajectories generated by CHARMM, Gromacs, NAMD, LAMMPS, or Amber.\n",
      "Home-page: https://www.mdanalysis.org\n",
      "Author: MDAnalysis Development Team\n",
      "Author-email: mdanalysis@numfocus.org\n",
      "License: GPL 2\n",
      "Location: /Users/esivonxay/anaconda3/envs/mp_workshop_2021/lib/python3.9/site-packages\n",
      "Requires: gsd, matplotlib, joblib, numpy, networkx, biopython, GridDataFormats, tqdm, mmtf-python, scipy, threadpoolctl\n",
      "Required-by: \n"
     ]
    }
   ],
   "source": [
    "!pip show MDAnalysis"
   ]
  },
  {
   "cell_type": "markdown",
   "id": "bb6db429-d2d7-4b4f-bf7a-ceed26cb1c3f",
   "metadata": {},
   "source": [
    "Again, we must restart our kernel to reset our ipython runtime environment."
   ]
  },
  {
   "cell_type": "code",
   "execution_count": 1,
   "id": "e0fc536f",
   "metadata": {},
   "outputs": [
    {
     "data": {
      "text/plain": [
       "'2.0.0-beta'"
      ]
     },
     "execution_count": 1,
     "metadata": {},
     "output_type": "execute_result"
    }
   ],
   "source": [
    "import MDAnalysis\n",
    "MDAnalysis.__version__"
   ]
  },
  {
   "cell_type": "markdown",
   "id": "2e685a9e",
   "metadata": {},
   "source": [
    "### Installing from packages from Github\n",
    "\n",
    "In some cases, especially for development or when using alpha or beta code, we must install the package from the source code. As an example, we will install [mpmorph](https://github.com/materialsproject/mpmorph) which is a package for running AIMD calculations in vasp using pymatgen, fireworks, and atomate."
   ]
  },
  {
   "cell_type": "code",
   "execution_count": 2,
   "id": "aedd9744",
   "metadata": {},
   "outputs": [
    {
     "name": "stdout",
     "output_type": "stream",
     "text": [
      "Cloning into 'mpmorph'...\n",
      "remote: Enumerating objects: 3783, done.\u001b[K\n",
      "remote: Counting objects: 100% (28/28), done.\u001b[K\n",
      "remote: Compressing objects: 100% (28/28), done.\u001b[K\n",
      "remote: Total 3783 (delta 10), reused 12 (delta 0), pack-reused 3755\u001b[K\n",
      "Receiving objects: 100% (3783/3783), 9.34 MiB | 7.64 MiB/s, done.\n",
      "Resolving deltas: 100% (2800/2800), done.\n"
     ]
    }
   ],
   "source": [
    "!git clone git@github.com:materialsproject/mpmorph.git"
   ]
  },
  {
   "cell_type": "code",
   "execution_count": 3,
   "id": "74c6d2e6",
   "metadata": {},
   "outputs": [
    {
     "name": "stdout",
     "output_type": "stream",
     "text": [
      "\u001b[33mWARNING: Ignoring invalid distribution -umpy (/Users/esivonxay/anaconda3/envs/mp_workshop_2021/lib/python3.9/site-packages)\u001b[0m\n",
      "\u001b[33mWARNING: Ignoring invalid distribution -umpy (/Users/esivonxay/anaconda3/envs/mp_workshop_2021/lib/python3.9/site-packages)\u001b[0m\n",
      "Processing ./mpmorph\n",
      "\u001b[33m  DEPRECATION: A future pip version will change local packages to be built in-place without first copying to a temporary directory. We recommend you use --use-feature=in-tree-build to test your packages with this new behavior before it becomes the default.\n",
      "   pip 21.3 will remove support for this functionality. You can find discussion regarding this at https://github.com/pypa/pip/issues/7555.\u001b[0m\n",
      "Building wheels for collected packages: mpmorph\n",
      "  Building wheel for mpmorph (setup.py) ... \u001b[?25ldone\n",
      "\u001b[?25h  Created wheel for mpmorph: filename=mpmorph-2.0-py3-none-any.whl size=27775 sha256=b1c5662bd4660192da161ec15de1bbf3a90e29b16cf9a64f35c1ff8eb11a3e23\n",
      "  Stored in directory: /private/var/folders/dz/rm936c0s217387w8btrd8z_m0000gn/T/pip-ephem-wheel-cache-yc2quo1s/wheels/ef/aa/75/ec44d4536bd1e72f6a4f3b4bfb43f7350d05467a2d02fd16c7\n",
      "Successfully built mpmorph\n",
      "\u001b[33mWARNING: Ignoring invalid distribution -umpy (/Users/esivonxay/anaconda3/envs/mp_workshop_2021/lib/python3.9/site-packages)\u001b[0m\n",
      "Installing collected packages: mpmorph\n",
      "\u001b[33mWARNING: Ignoring invalid distribution -umpy (/Users/esivonxay/anaconda3/envs/mp_workshop_2021/lib/python3.9/site-packages)\u001b[0m\n",
      "Successfully installed mpmorph-2.0\n",
      "\u001b[33mWARNING: Ignoring invalid distribution -umpy (/Users/esivonxay/anaconda3/envs/mp_workshop_2021/lib/python3.9/site-packages)\u001b[0m\n",
      "\u001b[33mWARNING: Ignoring invalid distribution -umpy (/Users/esivonxay/anaconda3/envs/mp_workshop_2021/lib/python3.9/site-packages)\u001b[0m\n",
      "\u001b[33mWARNING: Ignoring invalid distribution -umpy (/Users/esivonxay/anaconda3/envs/mp_workshop_2021/lib/python3.9/site-packages)\u001b[0m\n"
     ]
    }
   ],
   "source": [
    "!pip install mpmorph/"
   ]
  },
  {
   "cell_type": "code",
   "execution_count": 4,
   "id": "8ae86b04-4161-42c5-8130-c5620363217b",
   "metadata": {},
   "outputs": [
    {
     "name": "stdout",
     "output_type": "stream",
     "text": [
      "\u001b[33mWARNING: Ignoring invalid distribution -umpy (/Users/esivonxay/anaconda3/envs/mp_workshop_2021/lib/python3.9/site-packages)\u001b[0m\n",
      "Name: mpmorph\n",
      "Version: 2.0\n",
      "Summary: UNKNOWN\n",
      "Home-page: https://github.com/materialsproject/mpmorph\n",
      "Author: Muratahan Aykol\n",
      "Author-email: maykol@lbl.gov\n",
      "License: modified BSD\n",
      "Location: /Users/esivonxay/anaconda3/envs/mp_workshop_2021/lib/python3.9/site-packages\n",
      "Requires: \n",
      "Required-by: \n"
     ]
    }
   ],
   "source": [
    "!pip show mpmorph"
   ]
  },
  {
   "cell_type": "markdown",
   "id": "9774a454",
   "metadata": {},
   "source": [
    "## Removing Python Packages"
   ]
  },
  {
   "cell_type": "markdown",
   "id": "6739ed40",
   "metadata": {},
   "source": [
    "Use `pip uninstall` to remove a python package. Use the `-y` flag to pre-confirm the uninstall"
   ]
  },
  {
   "cell_type": "code",
   "execution_count": 5,
   "id": "de22a041",
   "metadata": {},
   "outputs": [
    {
     "name": "stdout",
     "output_type": "stream",
     "text": [
      "\u001b[33mWARNING: Ignoring invalid distribution -umpy (/Users/esivonxay/anaconda3/envs/mp_workshop_2021/lib/python3.9/site-packages)\u001b[0m\n",
      "\u001b[33mWARNING: Ignoring invalid distribution -umpy (/Users/esivonxay/anaconda3/envs/mp_workshop_2021/lib/python3.9/site-packages)\u001b[0m\n",
      "Found existing installation: MDAnalysis 2.0.0b0\n",
      "Uninstalling MDAnalysis-2.0.0b0:\n",
      "  Successfully uninstalled MDAnalysis-2.0.0b0\n"
     ]
    }
   ],
   "source": [
    "!pip uninstall -y MDAnalysis"
   ]
  },
  {
   "cell_type": "code",
   "execution_count": 6,
   "id": "114cfb78",
   "metadata": {},
   "outputs": [
    {
     "name": "stdout",
     "output_type": "stream",
     "text": [
      "\u001b[33mWARNING: Ignoring invalid distribution -umpy (/Users/esivonxay/anaconda3/envs/mp_workshop_2021/lib/python3.9/site-packages)\u001b[0m\n",
      "\u001b[33mWARNING: Package(s) not found: MDAnalysis\u001b[0m\n"
     ]
    }
   ],
   "source": [
    "!pip show MDAnalysis"
   ]
  },
  {
   "cell_type": "markdown",
   "id": "ca240e6a",
   "metadata": {},
   "source": [
    "Now when we attempt to show the details, we see that the MDAnalysis package is uninstalled and cannot be found"
   ]
  },
  {
   "cell_type": "code",
   "execution_count": 7,
   "id": "47072255",
   "metadata": {},
   "outputs": [
    {
     "name": "stdout",
     "output_type": "stream",
     "text": [
      "\u001b[33mWARNING: Ignoring invalid distribution -umpy (/Users/esivonxay/anaconda3/envs/mp_workshop_2021/lib/python3.9/site-packages)\u001b[0m\n",
      "\u001b[33mWARNING: Ignoring invalid distribution -umpy (/Users/esivonxay/anaconda3/envs/mp_workshop_2021/lib/python3.9/site-packages)\u001b[0m\n",
      "Found existing installation: mpmorph 2.0\n",
      "Uninstalling mpmorph-2.0:\n",
      "  Successfully uninstalled mpmorph-2.0\n"
     ]
    }
   ],
   "source": [
    "!pip uninstall -y mpmorph"
   ]
  },
  {
   "cell_type": "markdown",
   "id": "64acde62-81aa-4e11-912d-c2d85397570f",
   "metadata": {},
   "source": [
    "# Introduction to Conda"
   ]
  },
  {
   "cell_type": "markdown",
   "id": "5c46ff7d-f3c6-4a5c-b2ee-c02c7e30cd3e",
   "metadata": {},
   "source": [
    "Much like pip, conda is a program writen in python for the purpose of managing packages. However, using conda, managed packages and software are not limited to python. Conda is a general-purpose package manager and enables installation of C libraries or R packages. Additionally, conda installs pre-built binaries, although it is possible to build packages from the source.\n",
    "\n",
    "Conda also allows for the creation of virtual environments. Environments are very powerful and allow us to install a local collection of packages isolated from system packages or other environments. Unlike pip, conda can also install or manage different versions of python."
   ]
  },
  {
   "cell_type": "code",
   "execution_count": 8,
   "id": "e1689bad-5db4-4e16-a286-04dd9f31d6d8",
   "metadata": {},
   "outputs": [
    {
     "name": "stdout",
     "output_type": "stream",
     "text": [
      "usage: conda [-h] [-V] command ...\n",
      "\n",
      "conda is a tool for managing and deploying applications, environments and packages.\n",
      "\n",
      "Options:\n",
      "\n",
      "positional arguments:\n",
      "  command\n",
      "    clean        Remove unused packages and caches.\n",
      "    compare      Compare packages between conda environments.\n",
      "    config       Modify configuration values in .condarc. This is modeled\n",
      "                 after the git config command. Writes to the user .condarc\n",
      "                 file (/Users/esivonxay/.condarc) by default.\n",
      "    create       Create a new conda environment from a list of specified\n",
      "                 packages.\n",
      "    help         Displays a list of available conda commands and their help\n",
      "                 strings.\n",
      "    info         Display information about current conda install.\n",
      "    init         Initialize conda for shell interaction. [Experimental]\n",
      "    install      Installs a list of packages into a specified conda\n",
      "                 environment.\n",
      "    list         List linked packages in a conda environment.\n",
      "    package      Low-level conda package utility. (EXPERIMENTAL)\n",
      "    remove       Remove a list of packages from a specified conda environment.\n",
      "    uninstall    Alias for conda remove.\n",
      "    run          Run an executable in a conda environment. [Experimental]\n",
      "    search       Search for packages and display associated information. The\n",
      "                 input is a MatchSpec, a query language for conda packages.\n",
      "                 See examples below.\n",
      "    update       Updates conda packages to the latest compatible version.\n",
      "    upgrade      Alias for conda update.\n",
      "\n",
      "optional arguments:\n",
      "  -h, --help     Show this help message and exit.\n",
      "  -V, --version  Show the conda version number and exit.\n",
      "\n",
      "conda commands available from other packages:\n",
      "  env\n",
      "  server\n"
     ]
    }
   ],
   "source": [
    "!conda -h"
   ]
  },
  {
   "cell_type": "markdown",
   "id": "51d09b63-32cd-40fb-9d5c-f729cdb41398",
   "metadata": {},
   "source": [
    "We can get a list of the available conda environments using the `conda env list` command"
   ]
  },
  {
   "cell_type": "code",
   "execution_count": 9,
   "id": "fd10cbb0-625a-4461-b962-d9af7b6d7f61",
   "metadata": {
    "tags": []
   },
   "outputs": [
    {
     "name": "stdout",
     "output_type": "stream",
     "text": [
      "# conda environments:\n",
      "#\n",
      "base                     /Users/esivonxay/anaconda3\n",
      "UCFood                   /Users/esivonxay/anaconda3/envs/UCFood\n",
      "amorph_env               /Users/esivonxay/anaconda3/envs/amorph_env\n",
      "cms                      /Users/esivonxay/anaconda3/envs/cms\n",
      "conda-env-mp-py          /Users/esivonxay/anaconda3/envs/conda-env-mp-py\n",
      "constructor              /Users/esivonxay/anaconda3/envs/constructor\n",
      "deepmd_gpu_2021          /Users/esivonxay/anaconda3/envs/deepmd_gpu_2021\n",
      "handbook_env             /Users/esivonxay/anaconda3/envs/handbook_env\n",
      "misc_env                 /Users/esivonxay/anaconda3/envs/misc_env\n",
      "mp_workshop_2021      *  /Users/esivonxay/anaconda3/envs/mp_workshop_2021\n",
      "mpdocs                   /Users/esivonxay/anaconda3/envs/mpdocs\n",
      "pymoldyn_env             /Users/esivonxay/anaconda3/envs/pymoldyn_env\n",
      "temp_workshop_env        /Users/esivonxay/anaconda3/envs/temp_workshop_env\n",
      "test_env                 /Users/esivonxay/anaconda3/envs/test_env\n",
      "\n"
     ]
    }
   ],
   "source": [
    "!conda env list"
   ]
  },
  {
   "cell_type": "markdown",
   "id": "59663c79-b554-4156-a67a-6fd8fdf56257",
   "metadata": {},
   "source": [
    "## Creating Conda Environments"
   ]
  },
  {
   "cell_type": "markdown",
   "id": "6c38be00-9fd4-4660-9725-501c4f5751da",
   "metadata": {},
   "source": [
    "Create a new conda environment using the `conda create` command. We use the -y flag, since we cannot provide confirmation to the running code. We specify the environment to be created with a installation of python 3.9"
   ]
  },
  {
   "cell_type": "code",
   "execution_count": 10,
   "id": "e6b5397e-ee07-49a7-a723-6c7b5f44ff54",
   "metadata": {
    "tags": [
     "no-execute"
    ]
   },
   "outputs": [
    {
     "name": "stdout",
     "output_type": "stream",
     "text": [
      "Collecting package metadata (current_repodata.json): done\n",
      "Solving environment: done\n",
      "\n",
      "\n",
      "==> WARNING: A newer version of conda exists. <==\n",
      "  current version: 4.8.4\n",
      "  latest version: 4.10.3\n",
      "\n",
      "Please update conda by running\n",
      "\n",
      "    $ conda update -n base conda\n",
      "\n",
      "\n",
      "\n",
      "## Package Plan ##\n",
      "\n",
      "  environment location: /Users/esivonxay/anaconda3/envs/temp_workshop_env\n",
      "\n",
      "  added / updated specs:\n",
      "    - python=3.9\n",
      "\n",
      "\n",
      "The following packages will be downloaded:\n",
      "\n",
      "    package                    |            build\n",
      "    ---------------------------|-----------------\n",
      "    pip-21.2.2                 |     pyhd8ed1ab_0         1.1 MB  conda-forge\n",
      "    ------------------------------------------------------------\n",
      "                                           Total:         1.1 MB\n",
      "\n",
      "The following NEW packages will be INSTALLED:\n",
      "\n",
      "  ca-certificates    conda-forge/osx-64::ca-certificates-2021.5.30-h033912b_0\n",
      "  certifi            conda-forge/osx-64::certifi-2021.5.30-py39h6e9494a_0\n",
      "  libcxx             conda-forge/osx-64::libcxx-12.0.1-habf9029_0\n",
      "  libffi             conda-forge/osx-64::libffi-3.3-h046ec9c_2\n",
      "  ncurses            conda-forge/osx-64::ncurses-6.2-h2e338ed_4\n",
      "  openssl            conda-forge/osx-64::openssl-1.1.1k-h0d85af4_0\n",
      "  pip                conda-forge/noarch::pip-21.2.2-pyhd8ed1ab_0\n",
      "  python             conda-forge/osx-64::python-3.9.6-hd187cdc_1_cpython\n",
      "  python_abi         conda-forge/osx-64::python_abi-3.9-2_cp39\n",
      "  readline           conda-forge/osx-64::readline-8.1-h05e3726_0\n",
      "  setuptools         conda-forge/osx-64::setuptools-49.6.0-py39h6e9494a_3\n",
      "  sqlite             conda-forge/osx-64::sqlite-3.36.0-h23a322b_0\n",
      "  tk                 conda-forge/osx-64::tk-8.6.10-h0419947_1\n",
      "  tzdata             conda-forge/noarch::tzdata-2021a-he74cb21_1\n",
      "  wheel              conda-forge/noarch::wheel-0.36.2-pyhd3deb0d_0\n",
      "  xz                 conda-forge/osx-64::xz-5.2.5-haf1e3a3_1\n",
      "  zlib               conda-forge/osx-64::zlib-1.2.11-h7795811_1010\n",
      "\n",
      "\n",
      "\n",
      "Downloading and Extracting Packages\n",
      "pip-21.2.2           | 1.1 MB    | ##################################### | 100% \n",
      "Preparing transaction: done\n",
      "Verifying transaction: done\n",
      "Executing transaction: done\n",
      "#\n",
      "# To activate this environment, use\n",
      "#\n",
      "#     $ conda activate temp_workshop_env\n",
      "#\n",
      "# To deactivate an active environment, use\n",
      "#\n",
      "#     $ conda deactivate\n",
      "\n"
     ]
    }
   ],
   "source": [
    "!conda create -y --name temp_workshop_env python=3.9"
   ]
  },
  {
   "cell_type": "markdown",
   "id": "ef30c493-9035-48a7-a57c-0437728e72d1",
   "metadata": {},
   "source": [
    "Our new environment shows up under our list of conda environments. However it is not the active environment (does not have a * next to it)."
   ]
  },
  {
   "cell_type": "code",
   "execution_count": 11,
   "id": "6d48f874-524c-4086-bc71-a3e0e2eb8cdb",
   "metadata": {
    "tags": [
     "no-execute"
    ]
   },
   "outputs": [
    {
     "name": "stdout",
     "output_type": "stream",
     "text": [
      "# conda environments:\n",
      "#\n",
      "base                     /Users/esivonxay/anaconda3\n",
      "UCFood                   /Users/esivonxay/anaconda3/envs/UCFood\n",
      "amorph_env               /Users/esivonxay/anaconda3/envs/amorph_env\n",
      "cms                      /Users/esivonxay/anaconda3/envs/cms\n",
      "conda-env-mp-py          /Users/esivonxay/anaconda3/envs/conda-env-mp-py\n",
      "constructor              /Users/esivonxay/anaconda3/envs/constructor\n",
      "deepmd_gpu_2021          /Users/esivonxay/anaconda3/envs/deepmd_gpu_2021\n",
      "handbook_env             /Users/esivonxay/anaconda3/envs/handbook_env\n",
      "misc_env                 /Users/esivonxay/anaconda3/envs/misc_env\n",
      "mp_workshop_2021      *  /Users/esivonxay/anaconda3/envs/mp_workshop_2021\n",
      "mpdocs                   /Users/esivonxay/anaconda3/envs/mpdocs\n",
      "pymoldyn_env             /Users/esivonxay/anaconda3/envs/pymoldyn_env\n",
      "temp_workshop_env        /Users/esivonxay/anaconda3/envs/temp_workshop_env\n",
      "test_env                 /Users/esivonxay/anaconda3/envs/test_env\n",
      "\n"
     ]
    }
   ],
   "source": [
    "!conda env list"
   ]
  },
  {
   "cell_type": "markdown",
   "id": "5cb175dd-1f66-4e79-837d-dfc74c5a03f1",
   "metadata": {},
   "source": [
    "## Using and interacting with Conda environments"
   ]
  },
  {
   "cell_type": "markdown",
   "id": "f35d88a6-138e-451f-8933-35669ad6c6ca",
   "metadata": {},
   "source": [
    "We must activate our environment to install python packages and run python code using the new environment. Since we are interacting with our environment from jupyter notebook, we must activate our environment within each cell before we use any bash commands.\n",
    "\n",
    "To do this, use the `%%bash` command to create a multi-line bash cell, then activate the environment using `source activate <env_name>`"
   ]
  },
  {
   "cell_type": "code",
   "execution_count": 12,
   "id": "fa0552d8-077d-4be1-b656-9580fcfdbc8a",
   "metadata": {
    "tags": [
     "no-execute"
    ]
   },
   "outputs": [
    {
     "name": "stdout",
     "output_type": "stream",
     "text": [
      "# conda environments:\n",
      "#\n",
      "base                     /Users/esivonxay/anaconda3\n",
      "UCFood                   /Users/esivonxay/anaconda3/envs/UCFood\n",
      "amorph_env               /Users/esivonxay/anaconda3/envs/amorph_env\n",
      "cms                      /Users/esivonxay/anaconda3/envs/cms\n",
      "conda-env-mp-py          /Users/esivonxay/anaconda3/envs/conda-env-mp-py\n",
      "constructor              /Users/esivonxay/anaconda3/envs/constructor\n",
      "deepmd_gpu_2021          /Users/esivonxay/anaconda3/envs/deepmd_gpu_2021\n",
      "handbook_env             /Users/esivonxay/anaconda3/envs/handbook_env\n",
      "misc_env                 /Users/esivonxay/anaconda3/envs/misc_env\n",
      "mp_workshop_2021         /Users/esivonxay/anaconda3/envs/mp_workshop_2021\n",
      "mpdocs                   /Users/esivonxay/anaconda3/envs/mpdocs\n",
      "pymoldyn_env             /Users/esivonxay/anaconda3/envs/pymoldyn_env\n",
      "temp_workshop_env     *  /Users/esivonxay/anaconda3/envs/temp_workshop_env\n",
      "test_env                 /Users/esivonxay/anaconda3/envs/test_env\n",
      "\n"
     ]
    }
   ],
   "source": [
    "%%bash\n",
    "source activate temp_workshop_env\n",
    "\n",
    "conda env list"
   ]
  },
  {
   "cell_type": "markdown",
   "id": "4c2c27cc-c89d-451b-bfc6-8d9ab9f736b7",
   "metadata": {},
   "source": [
    "Now, using the `conda env list` command, we see our new environment is active, as denoted by the *"
   ]
  },
  {
   "cell_type": "code",
   "execution_count": 13,
   "id": "86bdbb42-67d8-464e-bdfe-c0b6eb90c766",
   "metadata": {
    "tags": [
     "no-execute"
    ]
   },
   "outputs": [
    {
     "name": "stdout",
     "output_type": "stream",
     "text": [
      "certifi==2021.5.30\n"
     ]
    }
   ],
   "source": [
    "%%bash\n",
    "source activate temp_workshop_env\n",
    "\n",
    "pip freeze"
   ]
  },
  {
   "cell_type": "markdown",
   "id": "e183e7d3-c37b-40d6-be11-66d45d80bb3d",
   "metadata": {},
   "source": [
    "While our environment is ready for command-line use, there are additional steps to use it with jupyter. \n",
    "\n",
    "1. First, we will install \"ipykernel\""
   ]
  },
  {
   "cell_type": "code",
   "execution_count": 14,
   "id": "76ff78e8-fc28-4ec3-a543-13562cefb6a8",
   "metadata": {
    "tags": [
     "no-execute"
    ]
   },
   "outputs": [
    {
     "name": "stdout",
     "output_type": "stream",
     "text": [
      "Collecting package metadata (current_repodata.json): ...working... done\n",
      "Solving environment: ...working... done\n",
      "\n",
      "# All requested packages already installed.\n",
      "\n",
      "Collecting package metadata (current_repodata.json): ...working... done\n",
      "Solving environment: ...working... done\n",
      "\n",
      "## Package Plan ##\n",
      "\n",
      "  environment location: /Users/esivonxay/anaconda3/envs/temp_workshop_env\n",
      "\n",
      "  added / updated specs:\n",
      "    - ipykernel\n",
      "\n",
      "\n",
      "The following packages will be downloaded:\n",
      "\n",
      "    package                    |            build\n",
      "    ---------------------------|-----------------\n",
      "    ipython-7.26.0             |   py39h71a6800_0         1.1 MB  conda-forge\n",
      "    ------------------------------------------------------------\n",
      "                                           Total:         1.1 MB\n",
      "\n",
      "The following NEW packages will be INSTALLED:\n",
      "\n",
      "  appnope            conda-forge/osx-64::appnope-0.1.2-py39h6e9494a_1\n",
      "  backcall           conda-forge/noarch::backcall-0.2.0-pyh9f0ad1d_0\n",
      "  backports          conda-forge/noarch::backports-1.0-py_2\n",
      "  backports.functoo~ conda-forge/noarch::backports.functools_lru_cache-1.6.4-pyhd8ed1ab_0\n",
      "  debugpy            conda-forge/osx-64::debugpy-1.4.1-py39h9fcab8e_0\n",
      "  decorator          conda-forge/noarch::decorator-5.0.9-pyhd8ed1ab_0\n",
      "  ipykernel          conda-forge/osx-64::ipykernel-6.0.3-py39h71a6800_0\n",
      "  ipython            conda-forge/osx-64::ipython-7.26.0-py39h71a6800_0\n",
      "  ipython_genutils   conda-forge/noarch::ipython_genutils-0.2.0-py_1\n",
      "  jedi               conda-forge/osx-64::jedi-0.18.0-py39h6e9494a_2\n",
      "  jupyter_client     conda-forge/noarch::jupyter_client-6.1.12-pyhd8ed1ab_0\n",
      "  jupyter_core       conda-forge/osx-64::jupyter_core-4.7.1-py39h6e9494a_0\n",
      "  libsodium          conda-forge/osx-64::libsodium-1.0.18-hbcb3906_1\n",
      "  matplotlib-inline  conda-forge/noarch::matplotlib-inline-0.1.2-pyhd8ed1ab_2\n",
      "  parso              conda-forge/noarch::parso-0.8.2-pyhd8ed1ab_0\n",
      "  pexpect            conda-forge/noarch::pexpect-4.8.0-pyh9f0ad1d_2\n",
      "  pickleshare        conda-forge/noarch::pickleshare-0.7.5-py_1003\n",
      "  prompt-toolkit     conda-forge/noarch::prompt-toolkit-3.0.19-pyha770c72_0\n",
      "  ptyprocess         conda-forge/noarch::ptyprocess-0.7.0-pyhd3deb0d_0\n",
      "  pygments           conda-forge/noarch::pygments-2.9.0-pyhd8ed1ab_0\n",
      "  python-dateutil    conda-forge/noarch::python-dateutil-2.8.2-pyhd8ed1ab_0\n",
      "  pyzmq              conda-forge/osx-64::pyzmq-22.1.0-py39h7fec2f1_0\n",
      "  six                conda-forge/noarch::six-1.16.0-pyh6c4a22f_0\n",
      "  tornado            conda-forge/osx-64::tornado-6.1-py39h89e85a6_1\n",
      "  traitlets          conda-forge/noarch::traitlets-5.0.5-py_0\n",
      "  wcwidth            conda-forge/noarch::wcwidth-0.2.5-pyh9f0ad1d_2\n",
      "  zeromq             conda-forge/osx-64::zeromq-4.3.4-h1c7c35f_0\n",
      "\n",
      "\n",
      "\n",
      "Downloading and Extracting Packages\n",
      "ipython-7.26.0       | 1.1 MB    | ########## | 100% \n",
      "Preparing transaction: ...working... done\n",
      "Verifying transaction: ...working... done\n",
      "Executing transaction: ...working... done\n"
     ]
    },
    {
     "name": "stderr",
     "output_type": "stream",
     "text": [
      "\n",
      "\n",
      "==> WARNING: A newer version of conda exists. <==\n",
      "  current version: 4.8.4\n",
      "  latest version: 4.10.3\n",
      "\n",
      "Please update conda by running\n",
      "\n",
      "    $ conda update -n base conda\n",
      "\n",
      "\n",
      "\n",
      "\n",
      "==> WARNING: A newer version of conda exists. <==\n",
      "  current version: 4.8.4\n",
      "  latest version: 4.10.3\n",
      "\n",
      "Please update conda by running\n",
      "\n",
      "    $ conda update -n base conda\n",
      "\n",
      "\n"
     ]
    }
   ],
   "source": [
    "%%bash\n",
    "source activate temp_workshop_env\n",
    "\n",
    "conda install -y pip\n",
    "conda install -y ipykernel"
   ]
  },
  {
   "cell_type": "code",
   "execution_count": 15,
   "id": "149db951-a6ff-459f-a973-48560338d152",
   "metadata": {
    "tags": [
     "no-execute"
    ]
   },
   "outputs": [
    {
     "name": "stdout",
     "output_type": "stream",
     "text": [
      "appnope @ file:///Users/runner/miniforge3/conda-bld/appnope_1610094673755/work\n",
      "backcall @ file:///home/conda/feedstock_root/build_artifacts/backcall_1592338393461/work\n",
      "backports.functools-lru-cache @ file:///home/conda/feedstock_root/build_artifacts/backports.functools_lru_cache_1618230623929/work\n",
      "certifi==2021.5.30\n",
      "debugpy @ file:///Users/runner/miniforge3/conda-bld/debugpy_1627075104865/work\n",
      "decorator @ file:///home/conda/feedstock_root/build_artifacts/decorator_1621187651333/work\n",
      "ipykernel @ file:///Users/runner/miniforge3/conda-bld/ipykernel_1626728184263/work/dist/ipykernel-6.0.3-py3-none-any.whl\n",
      "ipython @ file:///Users/runner/miniforge3/conda-bld/ipython_1627911712836/work\n",
      "ipython-genutils==0.2.0\n",
      "jedi @ file:///Users/runner/miniforge3/conda-bld/jedi_1610146808808/work\n",
      "jupyter-client @ file:///home/conda/feedstock_root/build_artifacts/jupyter_client_1615693636836/work\n",
      "jupyter-core @ file:///Users/runner/miniforge3/conda-bld/jupyter_core_1612125283939/work\n",
      "matplotlib-inline @ file:///home/conda/feedstock_root/build_artifacts/matplotlib-inline_1618935594181/work\n",
      "parso @ file:///home/conda/feedstock_root/build_artifacts/parso_1617148930513/work\n",
      "pexpect @ file:///home/conda/feedstock_root/build_artifacts/pexpect_1602535608087/work\n",
      "pickleshare @ file:///home/conda/feedstock_root/build_artifacts/pickleshare_1602536217715/work\n",
      "prompt-toolkit @ file:///home/conda/feedstock_root/build_artifacts/prompt-toolkit_1623977816122/work\n",
      "ptyprocess @ file:///home/conda/feedstock_root/build_artifacts/ptyprocess_1609419310487/work/dist/ptyprocess-0.7.0-py2.py3-none-any.whl\n",
      "Pygments @ file:///home/conda/feedstock_root/build_artifacts/pygments_1620245170812/work\n",
      "python-dateutil @ file:///home/conda/feedstock_root/build_artifacts/python-dateutil_1626286286081/work\n",
      "pyzmq @ file:///Users/runner/miniforge3/conda-bld/pyzmq_1622038559383/work\n",
      "six @ file:///home/conda/feedstock_root/build_artifacts/six_1620240208055/work\n",
      "tornado @ file:///Users/runner/miniforge3/conda-bld/tornado_1625488906146/work\n",
      "traitlets @ file:///home/conda/feedstock_root/build_artifacts/traitlets_1602771532708/work\n",
      "wcwidth @ file:///home/conda/feedstock_root/build_artifacts/wcwidth_1600965781394/work\n"
     ]
    }
   ],
   "source": [
    "%%bash\n",
    "source activate temp_workshop_env\n",
    "\n",
    "pip freeze"
   ]
  },
  {
   "cell_type": "markdown",
   "id": "afe7bbd1-27cd-4229-b787-078981578e43",
   "metadata": {},
   "source": [
    "2. We will create a jupyter kernelspec for our environment"
   ]
  },
  {
   "cell_type": "code",
   "execution_count": 16,
   "id": "1c8ab2f6-2369-4584-9055-f35bd9273e48",
   "metadata": {
    "tags": [
     "no-execute"
    ]
   },
   "outputs": [
    {
     "name": "stdout",
     "output_type": "stream",
     "text": [
      "Available kernels:\n",
      "  amorph_env         /Users/esivonxay/Library/Jupyter/kernels/amorph_env\n",
      "  conda-env-mp-py    /Users/esivonxay/Library/Jupyter/kernels/conda-env-mp-py\n",
      "  deepmd_gpu_2021    /Users/esivonxay/Library/Jupyter/kernels/deepmd_gpu_2021\n",
      "  python3            /Users/esivonxay/Library/Jupyter/kernels/python3\n"
     ]
    }
   ],
   "source": [
    "!jupyter kernelspec list"
   ]
  },
  {
   "cell_type": "code",
   "execution_count": 17,
   "id": "85605d1f-20ba-4d30-bac9-fe2914ec3af2",
   "metadata": {
    "tags": [
     "no-execute"
    ]
   },
   "outputs": [
    {
     "name": "stdout",
     "output_type": "stream",
     "text": [
      "[InstallIPythonKernelSpecApp] WARNING | Installing to /Users/esivonxay/anaconda3/envs/mp_workshop_2021/share/jupyter/kernels, which is not in ['/Users/esivonxay/Library/Jupyter/kernels', '/Users/esivonxay/anaconda3/envs/temp_workshop_env/share/jupyter/kernels', '/usr/local/share/jupyter/kernels', '/usr/share/jupyter/kernels', '/Users/esivonxay/.ipython/kernels']. The kernelspec may not be found.\n",
      "Installed kernelspec temp_workshop_env in /Users/esivonxay/anaconda3/envs/mp_workshop_2021/share/jupyter/kernels/temp_workshop_env\n"
     ]
    }
   ],
   "source": [
    "!/Users/esivonxay/anaconda3/envs/temp_workshop_env/bin/python -m ipykernel install --prefix=/Users/esivonxay/anaconda3/envs/mp_workshop_2021 --name 'temp_workshop_env'"
   ]
  },
  {
   "cell_type": "code",
   "execution_count": 18,
   "id": "2bc019a4-6871-422b-a83e-174908609b60",
   "metadata": {
    "tags": [
     "no-execute"
    ]
   },
   "outputs": [
    {
     "name": "stdout",
     "output_type": "stream",
     "text": [
      "Available kernels:\n",
      "  amorph_env           /Users/esivonxay/Library/Jupyter/kernels/amorph_env\n",
      "  conda-env-mp-py      /Users/esivonxay/Library/Jupyter/kernels/conda-env-mp-py\n",
      "  deepmd_gpu_2021      /Users/esivonxay/Library/Jupyter/kernels/deepmd_gpu_2021\n",
      "  python3              /Users/esivonxay/Library/Jupyter/kernels/python3\n",
      "  temp_workshop_env    /Users/esivonxay/anaconda3/envs/mp_workshop_2021/share/jupyter/kernels/temp_workshop_env\n"
     ]
    }
   ],
   "source": [
    "!jupyter kernelspec list"
   ]
  },
  {
   "cell_type": "markdown",
   "id": "cf1abef8-6712-4f4f-9edf-7f76e0fc070f",
   "metadata": {},
   "source": [
    "## Installing from conda-forge"
   ]
  },
  {
   "cell_type": "markdown",
   "id": "7e8cc664-bde7-4278-a835-55dc300de980",
   "metadata": {},
   "source": [
    "When using conda to install or search for packages, the standard behaviour is to search the [default repositories](https://repo.anaconda.com/pkgs/). These are packages provided by Anaconda, Inc. for free. To access third-party software, we can use the conda-forge channel. [Conda-Forge](https://conda-forge.org/index.html) is a community effort to provide conda packages for a wide range of software."
   ]
  },
  {
   "cell_type": "markdown",
   "id": "f0b7c424-ac2e-4281-bb62-eef5ed22624c",
   "metadata": {},
   "source": [
    "To install software from the conda-forge channel, simply add `-c conda-forge` to the `conda install` command. This will tell conda to include the packages in conda-forge when searching for packages and dependencies.\n",
    "\n",
    "Many Materials Project codes (such as pymatgen, fireworks, custodian, atomate, and matminer) are available through the conda-forge channel."
   ]
  },
  {
   "cell_type": "code",
   "execution_count": 19,
   "id": "f524dc8f-163f-4461-8946-825fe7187601",
   "metadata": {
    "tags": [
     "no-execute"
    ]
   },
   "outputs": [
    {
     "name": "stdout",
     "output_type": "stream",
     "text": [
      "Collecting package metadata (current_repodata.json): ...working... done\n",
      "Solving environment: ...working... failed with initial frozen solve. Retrying with flexible solve.\n",
      "Solving environment: ...working... failed with repodata from current_repodata.json, will retry with next repodata source.\n",
      "Collecting package metadata (repodata.json): ...working... done\n",
      "Solving environment: ...working... done\n",
      "\n",
      "## Package Plan ##\n",
      "\n",
      "  environment location: /Users/esivonxay/anaconda3/envs/temp_workshop_env\n",
      "\n",
      "  added / updated specs:\n",
      "    - pymatgen\n",
      "\n",
      "\n",
      "The following packages will be downloaded:\n",
      "\n",
      "    package                    |            build\n",
      "    ---------------------------|-----------------\n",
      "    colorama-0.4.4             |     pyh9f0ad1d_0          18 KB  conda-forge\n",
      "    curl-7.78.0                |       hb861fe1_0         137 KB  conda-forge\n",
      "    ffmpeg-4.3.2               |       h4dad6da_0        49.3 MB  conda-forge\n",
      "    krb5-1.19.2                |       hcfbf3a7_0         1.3 MB  conda-forge\n",
      "    libblas-3.9.0              |      10_openblas          11 KB  conda-forge\n",
      "    libcblas-3.9.0             |      10_openblas          11 KB  conda-forge\n",
      "    libcurl-7.78.0             |       hf45b732_0         316 KB  conda-forge\n",
      "    libgfortran-5.0.0          |9_3_0_h6c81a4c_23          19 KB  conda-forge\n",
      "    libgfortran5-9.3.0         |      h6c81a4c_23         1.7 MB  conda-forge\n",
      "    liblapack-3.9.0            |      10_openblas          11 KB  conda-forge\n",
      "    libopenblas-0.3.17         |openmp_h3351f45_1         8.7 MB  conda-forge\n",
      "    llvm-openmp-12.0.1         |       hda6cdc1_1         287 KB  conda-forge\n",
      "    lz4-c-1.9.3                |       he49afe7_1         155 KB  conda-forge\n",
      "    tqdm-4.62.0                |     pyhd8ed1ab_0          80 KB  conda-forge\n",
      "    ------------------------------------------------------------\n",
      "                                           Total:        62.0 MB\n",
      "\n",
      "The following NEW packages will be INSTALLED:\n",
      "\n",
      "  ase                conda-forge/noarch::ase-3.22.0-pyhd8ed1ab_0\n",
      "  brotlipy           conda-forge/osx-64::brotlipy-0.7.0-py39h89e85a6_1001\n",
      "  bzip2              conda-forge/osx-64::bzip2-1.0.8-h0d85af4_4\n",
      "  c-ares             conda-forge/osx-64::c-ares-1.17.1-h0d85af4_1\n",
      "  cffi               conda-forge/osx-64::cffi-1.14.6-py39hb71fe58_0\n",
      "  cftime             conda-forge/osx-64::cftime-1.5.0-py39hc89836e_0\n",
      "  chardet            conda-forge/osx-64::chardet-4.0.0-py39h6e9494a_1\n",
      "  charset-normalizer conda-forge/noarch::charset-normalizer-2.0.0-pyhd8ed1ab_0\n",
      "  click              conda-forge/osx-64::click-8.0.1-py39h6e9494a_0\n",
      "  colorama           conda-forge/noarch::colorama-0.4.4-pyh9f0ad1d_0\n",
      "  cryptography       conda-forge/osx-64::cryptography-3.4.7-py39ha2c9959_0\n",
      "  curl               conda-forge/osx-64::curl-7.78.0-hb861fe1_0\n",
      "  cycler             conda-forge/noarch::cycler-0.10.0-py_2\n",
      "  dataclasses        conda-forge/noarch::dataclasses-0.8-pyhc8e2a94_1\n",
      "  double-conversion  conda-forge/osx-64::double-conversion-3.1.5-he49afe7_2\n",
      "  eigen              conda-forge/osx-64::eigen-3.3.9-h926bf3e_1\n",
      "  expat              conda-forge/osx-64::expat-2.4.1-he49afe7_0\n",
      "  ffmpeg             conda-forge/osx-64::ffmpeg-4.3.2-h4dad6da_0\n",
      "  flask              conda-forge/noarch::flask-2.0.1-pyhd8ed1ab_0\n",
      "  freetype           conda-forge/osx-64::freetype-2.10.4-h4cff582_1\n",
      "  future             conda-forge/osx-64::future-0.18.2-py39h6e9494a_3\n",
      "  gettext            conda-forge/osx-64::gettext-0.19.8.1-h7937167_1005\n",
      "  gl2ps              conda-forge/osx-64::gl2ps-1.4.2-h4cff582_0\n",
      "  glew               conda-forge/osx-64::glew-2.1.0-h046ec9c_2\n",
      "  gmp                conda-forge/osx-64::gmp-6.2.1-h2e338ed_0\n",
      "  gmpy2              conda-forge/osx-64::gmpy2-2.1.0b5-py39hab8a6df_0\n",
      "  gnutls             conda-forge/osx-64::gnutls-3.6.13-h756fd2b_1\n",
      "  hdf4               conda-forge/osx-64::hdf4-4.2.15-hefd3b78_3\n",
      "  hdf5               conda-forge/osx-64::hdf5-1.10.6-nompi_hc5d9132_1114\n",
      "  icu                conda-forge/osx-64::icu-68.1-h74dc148_0\n",
      "  idna               conda-forge/noarch::idna-3.1-pyhd3deb0d_0\n",
      "  itsdangerous       conda-forge/noarch::itsdangerous-2.0.1-pyhd8ed1ab_0\n",
      "  jbig               conda-forge/osx-64::jbig-2.1-h0d85af4_2003\n",
      "  jinja2             conda-forge/noarch::jinja2-3.0.1-pyhd8ed1ab_0\n",
      "  jpeg               conda-forge/osx-64::jpeg-9d-hbcb3906_0\n",
      "  jsoncpp            conda-forge/osx-64::jsoncpp-1.9.4-h940c156_3\n",
      "  kiwisolver         conda-forge/osx-64::kiwisolver-1.3.1-py39hf018cea_1\n",
      "  krb5               conda-forge/osx-64::krb5-1.19.2-hcfbf3a7_0\n",
      "  lame               conda-forge/osx-64::lame-3.100-h35c211d_1001\n",
      "  latexcodec         conda-forge/noarch::latexcodec-2.0.1-pyh9f0ad1d_0\n",
      "  lcms2              conda-forge/osx-64::lcms2-2.12-h577c468_0\n",
      "  lerc               conda-forge/osx-64::lerc-2.2.1-h046ec9c_0\n",
      "  libblas            conda-forge/osx-64::libblas-3.9.0-10_openblas\n",
      "  libcblas           conda-forge/osx-64::libcblas-3.9.0-10_openblas\n",
      "  libclang           conda-forge/osx-64::libclang-11.1.0-default_he082bbe_1\n",
      "  libcurl            conda-forge/osx-64::libcurl-7.78.0-hf45b732_0\n",
      "  libdeflate         conda-forge/osx-64::libdeflate-1.7-h35c211d_5\n",
      "  libedit            conda-forge/osx-64::libedit-3.1.20191231-h0678c8f_2\n",
      "  libev              conda-forge/osx-64::libev-4.33-haf1e3a3_1\n",
      "  libgfortran        conda-forge/osx-64::libgfortran-5.0.0-9_3_0_h6c81a4c_23\n",
      "  libgfortran5       conda-forge/osx-64::libgfortran5-9.3.0-h6c81a4c_23\n",
      "  libiconv           conda-forge/osx-64::libiconv-1.16-haf1e3a3_0\n",
      "  liblapack          conda-forge/osx-64::liblapack-3.9.0-10_openblas\n",
      "  libllvm11          conda-forge/osx-64::libllvm11-11.1.0-hd011deb_2\n",
      "  libnetcdf          conda-forge/osx-64::libnetcdf-4.8.0-nompi_hb4d10b0_103\n",
      "  libnghttp2         conda-forge/osx-64::libnghttp2-1.43.0-h07e645a_0\n",
      "  libogg             conda-forge/osx-64::libogg-1.3.4-h35c211d_1\n",
      "  libopenblas        conda-forge/osx-64::libopenblas-0.3.17-openmp_h3351f45_1\n",
      "  libpng             conda-forge/osx-64::libpng-1.6.37-h7cec526_2\n",
      "  libpq              conda-forge/osx-64::libpq-13.3-hea3049e_0\n",
      "  libssh2            conda-forge/osx-64::libssh2-1.9.0-h52ee1ee_6\n",
      "  libtheora          conda-forge/osx-64::libtheora-1.1.1-h0d85af4_1005\n",
      "  libtiff            conda-forge/osx-64::libtiff-4.3.0-h1167814_1\n",
      "  libvorbis          conda-forge/osx-64::libvorbis-1.3.7-h046ec9c_0\n",
      "  libwebp-base       conda-forge/osx-64::libwebp-base-1.2.0-h0d85af4_2\n",
      "  libxml2            conda-forge/osx-64::libxml2-2.9.12-h93ec3fd_0\n",
      "  libzip             conda-forge/osx-64::libzip-1.8.0-h8b0c345_0\n",
      "  llvm-openmp        conda-forge/osx-64::llvm-openmp-12.0.1-hda6cdc1_1\n",
      "  loguru             conda-forge/osx-64::loguru-0.5.3-py39h6e9494a_2\n",
      "  lz4-c              conda-forge/osx-64::lz4-c-1.9.3-he49afe7_1\n",
      "  markupsafe         conda-forge/osx-64::markupsafe-2.0.1-py39h89e85a6_0\n",
      "  matplotlib-base    conda-forge/osx-64::matplotlib-base-3.4.2-py39hb07454d_0\n",
      "  monty              conda-forge/noarch::monty-2021.7.8-pyhd8ed1ab_0\n",
      "  mpc                conda-forge/osx-64::mpc-1.1.0-ha57cd0f_1009\n",
      "  mpfr               conda-forge/osx-64::mpfr-4.0.2-h72d8aaf_1\n",
      "  mpmath             conda-forge/noarch::mpmath-1.2.1-pyhd8ed1ab_0\n",
      "  mysql-common       conda-forge/osx-64::mysql-common-8.0.25-h694c41f_2\n",
      "  mysql-libs         conda-forge/osx-64::mysql-libs-8.0.25-h115446f_2\n",
      "  netcdf4            conda-forge/osx-64::netcdf4-1.5.7-nompi_py39hfa5ec60_100\n",
      "  nettle             conda-forge/osx-64::nettle-3.6-hedd7734_0\n",
      "  networkx           conda-forge/noarch::networkx-2.5-py_0\n",
      "  nspr               conda-forge/osx-64::nspr-4.30-hcd9eead_0\n",
      "  nss                conda-forge/osx-64::nss-3.67-h31e2bf1_0\n",
      "  numpy              conda-forge/osx-64::numpy-1.21.1-py39h7eed0ac_0\n",
      "  olefile            conda-forge/noarch::olefile-0.46-pyh9f0ad1d_1\n",
      "  openh264           conda-forge/osx-64::openh264-2.1.1-hfd3ada9_0\n",
      "  openjpeg           conda-forge/osx-64::openjpeg-2.4.0-h6e7aa92_1\n",
      "  palettable         conda-forge/noarch::palettable-3.3.0-py_0\n",
      "  pandas             conda-forge/osx-64::pandas-1.3.1-py39h4d6be9b_0\n",
      "  pillow             conda-forge/osx-64::pillow-8.3.1-py39he9bb72f_0\n",
      "  plotly             conda-forge/noarch::plotly-5.1.0-pyhd8ed1ab_1\n",
      "  proj               conda-forge/osx-64::proj-7.2.0-h78d1473_2\n",
      "  pugixml            conda-forge/osx-64::pugixml-1.11.4-he49afe7_0\n",
      "  pybtex             conda-forge/osx-64::pybtex-0.24.0-py39h6e9494a_0\n",
      "  pycparser          conda-forge/noarch::pycparser-2.20-pyh9f0ad1d_2\n",
      "  pymatgen           conda-forge/osx-64::pymatgen-2022.0.11-py39hf018cea_0\n",
      "  pyopenssl          conda-forge/noarch::pyopenssl-20.0.1-pyhd8ed1ab_0\n",
      "  pyparsing          conda-forge/noarch::pyparsing-2.4.7-pyh9f0ad1d_0\n",
      "  pysocks            conda-forge/osx-64::pysocks-1.7.1-py39h6e9494a_3\n",
      "  pytz               conda-forge/noarch::pytz-2021.1-pyhd8ed1ab_0\n",
      "  pyyaml             conda-forge/osx-64::pyyaml-5.4.1-py39hcbf5805_0\n",
      "  qt                 conda-forge/osx-64::qt-5.12.9-h126340a_4\n",
      "  requests           conda-forge/noarch::requests-2.26.0-pyhd8ed1ab_0\n",
      "  ruamel.yaml        conda-forge/osx-64::ruamel.yaml-0.17.10-py39h89e85a6_0\n",
      "  ruamel.yaml.clib   conda-forge/osx-64::ruamel.yaml.clib-0.2.2-py39hcbf5805_2\n",
      "  scipy              conda-forge/osx-64::scipy-1.7.0-py39h056f1c0_1\n",
      "  spglib             conda-forge/osx-64::spglib-1.16.1-py39h329c335_0\n",
      "  sympy              conda-forge/osx-64::sympy-1.8-py39h6e9494a_0\n",
      "  tabulate           conda-forge/noarch::tabulate-0.8.9-pyhd8ed1ab_0\n",
      "  tbb                conda-forge/osx-64::tbb-2020.2-h940c156_4\n",
      "  tbb-devel          conda-forge/osx-64::tbb-devel-2020.2-h940c156_4\n",
      "  tenacity           conda-forge/noarch::tenacity-8.0.1-pyhd8ed1ab_0\n",
      "  tqdm               conda-forge/noarch::tqdm-4.62.0-pyhd8ed1ab_0\n",
      "  uncertainties      conda-forge/noarch::uncertainties-3.1.6-pyhd8ed1ab_0\n",
      "  urllib3            conda-forge/noarch::urllib3-1.26.6-pyhd8ed1ab_0\n",
      "  utfcpp             conda-forge/osx-64::utfcpp-3.2.1-h694c41f_0\n",
      "  vtk                conda-forge/osx-64::vtk-9.0.3-no_osmesa_py39h9af63fb_100\n",
      "  werkzeug           conda-forge/noarch::werkzeug-2.0.1-pyhd8ed1ab_0\n",
      "  x264               conda-forge/osx-64::x264-1!161.3030-h0d85af4_1\n",
      "  yaml               conda-forge/osx-64::yaml-0.2.5-haf1e3a3_0\n",
      "  zstd               conda-forge/osx-64::zstd-1.5.0-h582d3a0_0\n",
      "\n",
      "\n",
      "\n",
      "Downloading and Extracting Packages\n",
      "libgfortran5-9.3.0   | 1.7 MB    | ########## | 100% \n",
      "libgfortran-5.0.0    | 19 KB     | ########## | 100% \n",
      "liblapack-3.9.0      | 11 KB     | ########## | 100% \n",
      "llvm-openmp-12.0.1   | 287 KB    | ########## | 100% \n",
      "colorama-0.4.4       | 18 KB     | ########## | 100% \n",
      "krb5-1.19.2          | 1.3 MB    | ########## | 100% \n",
      "libblas-3.9.0        | 11 KB     | ########## | 100% \n",
      "lz4-c-1.9.3          | 155 KB    | ########## | 100% \n",
      "libcblas-3.9.0       | 11 KB     | ########## | 100% \n",
      "curl-7.78.0          | 137 KB    | ########## | 100% \n",
      "libcurl-7.78.0       | 316 KB    | ########## | 100% \n",
      "tqdm-4.62.0          | 80 KB     | ########## | 100% \n",
      "libopenblas-0.3.17   | 8.7 MB    | ########## | 100% \n",
      "ffmpeg-4.3.2         | 49.3 MB   | ########## | 100% \n",
      "Preparing transaction: ...working... done\n",
      "Verifying transaction: ...working... done\n",
      "Executing transaction: ...working... done\n"
     ]
    },
    {
     "name": "stderr",
     "output_type": "stream",
     "text": [
      "\n",
      "\n",
      "==> WARNING: A newer version of conda exists. <==\n",
      "  current version: 4.8.4\n",
      "  latest version: 4.10.3\n",
      "\n",
      "Please update conda by running\n",
      "\n",
      "    $ conda update -n base conda\n",
      "\n",
      "\n"
     ]
    }
   ],
   "source": [
    "%%bash\n",
    "source activate temp_workshop_env\n",
    "\n",
    "conda install -y pymatgen -c conda-forge"
   ]
  },
  {
   "cell_type": "markdown",
   "id": "dcc3d68d-b08e-4b2a-a46d-db0029c2bb7e",
   "metadata": {},
   "source": [
    "We can add conda-forge to the list of channels (to avoid adding `-c conda-forge` to every installation line)"
   ]
  },
  {
   "cell_type": "code",
   "execution_count": 20,
   "id": "f8cbfe81-bf0a-4976-bf0a-a0b43bbcccf0",
   "metadata": {
    "tags": [
     "no-execute"
    ]
   },
   "outputs": [
    {
     "name": "stderr",
     "output_type": "stream",
     "text": [
      "Warning: 'conda-forge' already in 'channels' list, moving to the top\n"
     ]
    }
   ],
   "source": [
    "%%bash\n",
    "source activate temp_workshop_env\n",
    "\n",
    "conda config --add channels conda-forge\n",
    "conda config --set channel_priority strict"
   ]
  },
  {
   "cell_type": "markdown",
   "id": "3cda46f4-818c-455b-82d8-8dae7907b27a",
   "metadata": {},
   "source": [
    "Now we can install packages using less arguments"
   ]
  },
  {
   "cell_type": "code",
   "execution_count": 21,
   "id": "f2f44bdb-fe21-4df9-bb9a-4b126da2d827",
   "metadata": {
    "tags": [
     "no-execute"
    ]
   },
   "outputs": [
    {
     "name": "stdout",
     "output_type": "stream",
     "text": [
      "Collecting package metadata (current_repodata.json): ...working... done\n",
      "Solving environment: ...working... done\n",
      "\n",
      "## Package Plan ##\n",
      "\n",
      "  environment location: /Users/esivonxay/anaconda3/envs/temp_workshop_env\n",
      "\n",
      "  added / updated specs:\n",
      "    - fireworks\n",
      "\n",
      "\n",
      "The following NEW packages will be INSTALLED:\n",
      "\n",
      "  arpack             conda-forge/osx-64::arpack-3.7.0-hefb7bc6_2\n",
      "  bcrypt             conda-forge/osx-64::bcrypt-3.2.0-py39h89e85a6_1\n",
      "  fabric             conda-forge/noarch::fabric-2.6.0-pyhd8ed1ab_1\n",
      "  fireworks          conda-forge/noarch::fireworks-1.9.7-pyhd8ed1ab_0\n",
      "  flask-paginate     conda-forge/noarch::flask-paginate-0.8.1-pyh44b312d_0\n",
      "  glpk               conda-forge/osx-64::glpk-4.65-h0f52abe_1004\n",
      "  gunicorn           conda-forge/osx-64::gunicorn-20.1.0-py39h6e9494a_0\n",
      "  invoke             conda-forge/noarch::invoke-1.6.0-pyhd8ed1ab_0\n",
      "  metis              conda-forge/osx-64::metis-5.1.0-h2e338ed_1006\n",
      "  paramiko           conda-forge/noarch::paramiko-2.7.2-pyh9f0ad1d_0\n",
      "  pathlib2           conda-forge/osx-64::pathlib2-2.3.6-py39h6e9494a_0\n",
      "  pymongo            conda-forge/osx-64::pymongo-3.12.0-py39h9fcab8e_0\n",
      "  pynacl             conda-forge/osx-64::pynacl-1.4.0-py39h89e85a6_2\n",
      "  python-igraph      conda-forge/osx-64::python-igraph-0.9.6-py39h8c2f370_0\n",
      "  suitesparse        conda-forge/osx-64::suitesparse-5.10.1-h68a9093_0\n",
      "  texttable          conda-forge/noarch::texttable-1.6.4-pyhd8ed1ab_0\n",
      "\n",
      "\n",
      "Preparing transaction: ...working... done\n",
      "Verifying transaction: ...working... done\n",
      "Executing transaction: ...working... done\n"
     ]
    },
    {
     "name": "stderr",
     "output_type": "stream",
     "text": [
      "\n",
      "\n",
      "==> WARNING: A newer version of conda exists. <==\n",
      "  current version: 4.8.4\n",
      "  latest version: 4.10.3\n",
      "\n",
      "Please update conda by running\n",
      "\n",
      "    $ conda update -n base conda\n",
      "\n",
      "\n"
     ]
    }
   ],
   "source": [
    "%%bash\n",
    "source activate temp_workshop_env\n",
    "\n",
    "conda install -y fireworks"
   ]
  },
  {
   "cell_type": "markdown",
   "id": "f2f91ed0-8ddb-4d8f-9646-3f1948b65250",
   "metadata": {},
   "source": [
    "## Remove/Delete Conda environment"
   ]
  },
  {
   "cell_type": "markdown",
   "id": "900b0c4d-89b8-4ee8-b4cf-7e73fa304f45",
   "metadata": {},
   "source": [
    "When a conda environment is no longer useful or needs to be uninstalled, remove it with `conda remove`."
   ]
  },
  {
   "cell_type": "code",
   "execution_count": 22,
   "id": "9c80b671-776d-49b1-9e2d-078de8eba8fd",
   "metadata": {
    "tags": [
     "no-execute"
    ]
   },
   "outputs": [
    {
     "name": "stdout",
     "output_type": "stream",
     "text": [
      "\n",
      "Remove all packages in environment /Users/esivonxay/anaconda3/envs/temp_workshop_env:\n",
      "\n",
      "\n",
      "## Package Plan ##\n",
      "\n",
      "  environment location: /Users/esivonxay/anaconda3/envs/temp_workshop_env\n",
      "\n",
      "\n",
      "The following packages will be REMOVED:\n",
      "\n",
      "  appnope-0.1.2-py39h6e9494a_1\n",
      "  arpack-3.7.0-hefb7bc6_2\n",
      "  ase-3.22.0-pyhd8ed1ab_0\n",
      "  backcall-0.2.0-pyh9f0ad1d_0\n",
      "  backports-1.0-py_2\n",
      "  backports.functools_lru_cache-1.6.4-pyhd8ed1ab_0\n",
      "  bcrypt-3.2.0-py39h89e85a6_1\n",
      "  brotlipy-0.7.0-py39h89e85a6_1001\n",
      "  bzip2-1.0.8-h0d85af4_4\n",
      "  c-ares-1.17.1-h0d85af4_1\n",
      "  ca-certificates-2021.5.30-h033912b_0\n",
      "  certifi-2021.5.30-py39h6e9494a_0\n",
      "  cffi-1.14.6-py39hb71fe58_0\n",
      "  cftime-1.5.0-py39hc89836e_0\n",
      "  chardet-4.0.0-py39h6e9494a_1\n",
      "  charset-normalizer-2.0.0-pyhd8ed1ab_0\n",
      "  click-8.0.1-py39h6e9494a_0\n",
      "  colorama-0.4.4-pyh9f0ad1d_0\n",
      "  cryptography-3.4.7-py39ha2c9959_0\n",
      "  curl-7.78.0-hb861fe1_0\n",
      "  cycler-0.10.0-py_2\n",
      "  dataclasses-0.8-pyhc8e2a94_1\n",
      "  debugpy-1.4.1-py39h9fcab8e_0\n",
      "  decorator-5.0.9-pyhd8ed1ab_0\n",
      "  double-conversion-3.1.5-he49afe7_2\n",
      "  eigen-3.3.9-h926bf3e_1\n",
      "  expat-2.4.1-he49afe7_0\n",
      "  fabric-2.6.0-pyhd8ed1ab_1\n",
      "  ffmpeg-4.3.2-h4dad6da_0\n",
      "  fireworks-1.9.7-pyhd8ed1ab_0\n",
      "  flask-2.0.1-pyhd8ed1ab_0\n",
      "  flask-paginate-0.8.1-pyh44b312d_0\n",
      "  freetype-2.10.4-h4cff582_1\n",
      "  future-0.18.2-py39h6e9494a_3\n",
      "  gettext-0.19.8.1-h7937167_1005\n",
      "  gl2ps-1.4.2-h4cff582_0\n",
      "  glew-2.1.0-h046ec9c_2\n",
      "  glpk-4.65-h0f52abe_1004\n",
      "  gmp-6.2.1-h2e338ed_0\n",
      "  gmpy2-2.1.0b5-py39hab8a6df_0\n",
      "  gnutls-3.6.13-h756fd2b_1\n",
      "  gunicorn-20.1.0-py39h6e9494a_0\n",
      "  hdf4-4.2.15-hefd3b78_3\n",
      "  hdf5-1.10.6-nompi_hc5d9132_1114\n",
      "  icu-68.1-h74dc148_0\n",
      "  idna-3.1-pyhd3deb0d_0\n",
      "  invoke-1.6.0-pyhd8ed1ab_0\n",
      "  ipykernel-6.0.3-py39h71a6800_0\n",
      "  ipython-7.26.0-py39h71a6800_0\n",
      "  ipython_genutils-0.2.0-py_1\n",
      "  itsdangerous-2.0.1-pyhd8ed1ab_0\n",
      "  jbig-2.1-h0d85af4_2003\n",
      "  jedi-0.18.0-py39h6e9494a_2\n",
      "  jinja2-3.0.1-pyhd8ed1ab_0\n",
      "  jpeg-9d-hbcb3906_0\n",
      "  jsoncpp-1.9.4-h940c156_3\n",
      "  jupyter_client-6.1.12-pyhd8ed1ab_0\n",
      "  jupyter_core-4.7.1-py39h6e9494a_0\n",
      "  kiwisolver-1.3.1-py39hf018cea_1\n",
      "  krb5-1.19.2-hcfbf3a7_0\n",
      "  lame-3.100-h35c211d_1001\n",
      "  latexcodec-2.0.1-pyh9f0ad1d_0\n",
      "  lcms2-2.12-h577c468_0\n",
      "  lerc-2.2.1-h046ec9c_0\n",
      "  libblas-3.9.0-10_openblas\n",
      "  libcblas-3.9.0-10_openblas\n",
      "  libclang-11.1.0-default_he082bbe_1\n",
      "  libcurl-7.78.0-hf45b732_0\n",
      "  libcxx-12.0.1-habf9029_0\n",
      "  libdeflate-1.7-h35c211d_5\n",
      "  libedit-3.1.20191231-h0678c8f_2\n",
      "  libev-4.33-haf1e3a3_1\n",
      "  libffi-3.3-h046ec9c_2\n",
      "  libgfortran-5.0.0-9_3_0_h6c81a4c_23\n",
      "  libgfortran5-9.3.0-h6c81a4c_23\n",
      "  libiconv-1.16-haf1e3a3_0\n",
      "  liblapack-3.9.0-10_openblas\n",
      "  libllvm11-11.1.0-hd011deb_2\n",
      "  libnetcdf-4.8.0-nompi_hb4d10b0_103\n",
      "  libnghttp2-1.43.0-h07e645a_0\n",
      "  libogg-1.3.4-h35c211d_1\n",
      "  libopenblas-0.3.17-openmp_h3351f45_1\n",
      "  libpng-1.6.37-h7cec526_2\n",
      "  libpq-13.3-hea3049e_0\n",
      "  libsodium-1.0.18-hbcb3906_1\n",
      "  libssh2-1.9.0-h52ee1ee_6\n",
      "  libtheora-1.1.1-h0d85af4_1005\n",
      "  libtiff-4.3.0-h1167814_1\n",
      "  libvorbis-1.3.7-h046ec9c_0\n",
      "  libwebp-base-1.2.0-h0d85af4_2\n",
      "  libxml2-2.9.12-h93ec3fd_0\n",
      "  libzip-1.8.0-h8b0c345_0\n",
      "  llvm-openmp-12.0.1-hda6cdc1_1\n",
      "  loguru-0.5.3-py39h6e9494a_2\n",
      "  lz4-c-1.9.3-he49afe7_1\n",
      "  markupsafe-2.0.1-py39h89e85a6_0\n",
      "  matplotlib-base-3.4.2-py39hb07454d_0\n",
      "  matplotlib-inline-0.1.2-pyhd8ed1ab_2\n",
      "  metis-5.1.0-h2e338ed_1006\n",
      "  monty-2021.7.8-pyhd8ed1ab_0\n",
      "  mpc-1.1.0-ha57cd0f_1009\n",
      "  mpfr-4.0.2-h72d8aaf_1\n",
      "  mpmath-1.2.1-pyhd8ed1ab_0\n",
      "  mysql-common-8.0.25-h694c41f_2\n",
      "  mysql-libs-8.0.25-h115446f_2\n",
      "  ncurses-6.2-h2e338ed_4\n",
      "  netcdf4-1.5.7-nompi_py39hfa5ec60_100\n",
      "  nettle-3.6-hedd7734_0\n",
      "  networkx-2.5-py_0\n",
      "  nspr-4.30-hcd9eead_0\n",
      "  nss-3.67-h31e2bf1_0\n",
      "  numpy-1.21.1-py39h7eed0ac_0\n",
      "  olefile-0.46-pyh9f0ad1d_1\n",
      "  openh264-2.1.1-hfd3ada9_0\n",
      "  openjpeg-2.4.0-h6e7aa92_1\n",
      "  openssl-1.1.1k-h0d85af4_0\n",
      "  palettable-3.3.0-py_0\n",
      "  pandas-1.3.1-py39h4d6be9b_0\n",
      "  paramiko-2.7.2-pyh9f0ad1d_0\n",
      "  parso-0.8.2-pyhd8ed1ab_0\n",
      "  pathlib2-2.3.6-py39h6e9494a_0\n",
      "  pexpect-4.8.0-pyh9f0ad1d_2\n",
      "  pickleshare-0.7.5-py_1003\n",
      "  pillow-8.3.1-py39he9bb72f_0\n",
      "  pip-21.2.2-pyhd8ed1ab_0\n",
      "  plotly-5.1.0-pyhd8ed1ab_1\n",
      "  proj-7.2.0-h78d1473_2\n",
      "  prompt-toolkit-3.0.19-pyha770c72_0\n",
      "  ptyprocess-0.7.0-pyhd3deb0d_0\n",
      "  pugixml-1.11.4-he49afe7_0\n",
      "  pybtex-0.24.0-py39h6e9494a_0\n",
      "  pycparser-2.20-pyh9f0ad1d_2\n",
      "  pygments-2.9.0-pyhd8ed1ab_0\n",
      "  pymatgen-2022.0.11-py39hf018cea_0\n",
      "  pymongo-3.12.0-py39h9fcab8e_0\n",
      "  pynacl-1.4.0-py39h89e85a6_2\n",
      "  pyopenssl-20.0.1-pyhd8ed1ab_0\n",
      "  pyparsing-2.4.7-pyh9f0ad1d_0\n",
      "  pysocks-1.7.1-py39h6e9494a_3\n",
      "  python-3.9.6-hd187cdc_1_cpython\n",
      "  python-dateutil-2.8.2-pyhd8ed1ab_0\n",
      "  python-igraph-0.9.6-py39h8c2f370_0\n",
      "  python_abi-3.9-2_cp39\n",
      "  pytz-2021.1-pyhd8ed1ab_0\n",
      "  pyyaml-5.4.1-py39hcbf5805_0\n",
      "  pyzmq-22.1.0-py39h7fec2f1_0\n",
      "  qt-5.12.9-h126340a_4\n",
      "  readline-8.1-h05e3726_0\n",
      "  requests-2.26.0-pyhd8ed1ab_0\n",
      "  ruamel.yaml-0.17.10-py39h89e85a6_0\n",
      "  ruamel.yaml.clib-0.2.2-py39hcbf5805_2\n",
      "  scipy-1.7.0-py39h056f1c0_1\n",
      "  setuptools-49.6.0-py39h6e9494a_3\n",
      "  six-1.16.0-pyh6c4a22f_0\n",
      "  spglib-1.16.1-py39h329c335_0\n",
      "  sqlite-3.36.0-h23a322b_0\n",
      "  suitesparse-5.10.1-h68a9093_0\n",
      "  sympy-1.8-py39h6e9494a_0\n",
      "  tabulate-0.8.9-pyhd8ed1ab_0\n",
      "  tbb-2020.2-h940c156_4\n",
      "  tbb-devel-2020.2-h940c156_4\n",
      "  tenacity-8.0.1-pyhd8ed1ab_0\n",
      "  texttable-1.6.4-pyhd8ed1ab_0\n",
      "  tk-8.6.10-h0419947_1\n",
      "  tornado-6.1-py39h89e85a6_1\n",
      "  tqdm-4.62.0-pyhd8ed1ab_0\n",
      "  traitlets-5.0.5-py_0\n",
      "  tzdata-2021a-he74cb21_1\n",
      "  uncertainties-3.1.6-pyhd8ed1ab_0\n",
      "  urllib3-1.26.6-pyhd8ed1ab_0\n",
      "  utfcpp-3.2.1-h694c41f_0\n",
      "  vtk-9.0.3-no_osmesa_py39h9af63fb_100\n",
      "  wcwidth-0.2.5-pyh9f0ad1d_2\n",
      "  werkzeug-2.0.1-pyhd8ed1ab_0\n",
      "  wheel-0.36.2-pyhd3deb0d_0\n",
      "  x264-1!161.3030-h0d85af4_1\n",
      "  xz-5.2.5-haf1e3a3_1\n",
      "  yaml-0.2.5-haf1e3a3_0\n",
      "  zeromq-4.3.4-h1c7c35f_0\n",
      "  zlib-1.2.11-h7795811_1010\n",
      "  zstd-1.5.0-h582d3a0_0\n",
      "\n",
      "\n",
      "Preparing transaction: done\n",
      "Verifying transaction: done\n",
      "Executing transaction: done\n"
     ]
    }
   ],
   "source": [
    "!conda remove -y --name temp_workshop_env --all"
   ]
  },
  {
   "cell_type": "code",
   "execution_count": 23,
   "id": "b54ad5d4-4424-4be3-8352-a1fc2dbba902",
   "metadata": {
    "tags": [
     "no-execute"
    ]
   },
   "outputs": [
    {
     "name": "stdout",
     "output_type": "stream",
     "text": [
      "# conda environments:\n",
      "#\n",
      "base                     /Users/esivonxay/anaconda3\n",
      "UCFood                   /Users/esivonxay/anaconda3/envs/UCFood\n",
      "amorph_env               /Users/esivonxay/anaconda3/envs/amorph_env\n",
      "cms                      /Users/esivonxay/anaconda3/envs/cms\n",
      "conda-env-mp-py          /Users/esivonxay/anaconda3/envs/conda-env-mp-py\n",
      "constructor              /Users/esivonxay/anaconda3/envs/constructor\n",
      "deepmd_gpu_2021          /Users/esivonxay/anaconda3/envs/deepmd_gpu_2021\n",
      "handbook_env             /Users/esivonxay/anaconda3/envs/handbook_env\n",
      "misc_env                 /Users/esivonxay/anaconda3/envs/misc_env\n",
      "mp_workshop_2021      *  /Users/esivonxay/anaconda3/envs/mp_workshop_2021\n",
      "mpdocs                   /Users/esivonxay/anaconda3/envs/mpdocs\n",
      "pymoldyn_env             /Users/esivonxay/anaconda3/envs/pymoldyn_env\n",
      "test_env                 /Users/esivonxay/anaconda3/envs/test_env\n",
      "\n"
     ]
    }
   ],
   "source": [
    "!conda env list"
   ]
  },
  {
   "cell_type": "markdown",
   "id": "b18863e9-37e2-4e90-a5a1-85c0c95d0561",
   "metadata": {},
   "source": [
    "If we created a kernelspec, we'll want to remove it (not done by default)"
   ]
  },
  {
   "cell_type": "code",
   "execution_count": 24,
   "id": "6b773ce6-5f0c-4359-b273-d3fce0f417b9",
   "metadata": {
    "tags": [
     "no-execute"
    ]
   },
   "outputs": [
    {
     "name": "stdout",
     "output_type": "stream",
     "text": [
      "[RemoveKernelSpec] Removed /Users/esivonxay/anaconda3/envs/mp_workshop_2021/share/jupyter/kernels/temp_workshop_env\n"
     ]
    }
   ],
   "source": [
    "!jupyter kernelspec remove -f temp_workshop_env"
   ]
  },
  {
   "cell_type": "code",
   "execution_count": null,
   "id": "4ed519c2-cd27-4df5-8a20-b77711f0376e",
   "metadata": {},
   "outputs": [],
   "source": []
  }
 ],
 "metadata": {
  "kernelspec": {
   "display_name": "Python 3 (ipykernel)",
   "language": "python",
   "name": "python3"
  },
  "language_info": {
   "codemirror_mode": {
    "name": "ipython",
    "version": 3
   },
   "file_extension": ".py",
   "mimetype": "text/x-python",
   "name": "python",
   "nbconvert_exporter": "python",
   "pygments_lexer": "ipython3",
   "version": "3.9.6"
  }
 },
 "nbformat": 4,
 "nbformat_minor": 5
}
