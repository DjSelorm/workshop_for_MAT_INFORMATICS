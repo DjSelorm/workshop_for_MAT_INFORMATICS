{
  "nbformat": 4,
  "nbformat_minor": 0,
  "metadata": {
    "colab": {
      "name": "2_google_colab",
      "provenance": [],
      "collapsed_sections": []
    },
    "kernelspec": {
      "display_name": "Python 3 (ipykernel)",
      "language": "python",
      "name": "python3"
    },
    "language_info": {
      "codemirror_mode": {
        "name": "ipython",
        "version": 3
      },
      "file_extension": ".py",
      "mimetype": "text/x-python",
      "name": "python",
      "nbconvert_exporter": "python",
      "pygments_lexer": "ipython3",
      "version": "3.9.6"
    }
  },
  "cells": [
    {
      "cell_type": "markdown",
      "metadata": {
        "id": "PuCDmJj-GPHs"
      },
      "source": [
        "# Getting started on Colab"
      ]
    },
    {
      "cell_type": "markdown",
      "metadata": {
        "id": "Htw6z2E3my70"
      },
      "source": [
        "Colab is a hosted python notebook service, based on Jupyter, that provides free access to computing resources (including GPUs and TPUs). Colab allows for quick and easy sharing with collaborators without requiring downloads or python environment setup."
      ]
    },
    {
      "cell_type": "markdown",
      "metadata": {
        "id": "MYvYP18Xq26V"
      },
      "source": [
        "## Executing Python Code"
      ]
    },
    {
      "cell_type": "code",
      "metadata": {
        "colab": {
          "base_uri": "https://localhost:8080/"
        },
        "id": "UcGiJmIk4WEg",
        "tags": [
          "no-execute"
        ],
        "outputId": "6217ca34-e0f6-4edf-9b45-603a67659fb2"
      },
      "source": [
        "for i in range(10):\n",
        "  print(i**2)"
      ],
      "execution_count": 1,
      "outputs": [
        {
          "output_type": "stream",
          "text": [
            "0\n",
            "1\n",
            "4\n",
            "9\n",
            "16\n",
            "25\n",
            "36\n",
            "49\n",
            "64\n",
            "81\n"
          ],
          "name": "stdout"
        }
      ]
    },
    {
      "cell_type": "markdown",
      "metadata": {
        "id": "SwUJKAa2rDNh"
      },
      "source": [
        "Colab environment comes with a number of pre-installed  scientific and machine learning packages such as numpy, scipy, pandas, tensorflow, and pytorch.\n",
        "\n",
        "We can check the installed python packages using `pip freeze`"
      ]
    },
    {
      "cell_type": "code",
      "metadata": {
        "colab": {
          "base_uri": "https://localhost:8080/"
        },
        "id": "j-KqmAGtrCc9",
        "tags": [
          "no-execute"
        ],
        "outputId": "0e9d7eba-afe9-479d-d01f-23d8c0fef037"
      },
      "source": [
        "!pip freeze"
      ],
      "execution_count": 2,
      "outputs": [
        {
          "output_type": "stream",
          "text": [
            "absl-py==0.12.0\n",
            "alabaster==0.7.12\n",
            "albumentations==0.1.12\n",
            "altair==4.1.0\n",
            "appdirs==1.4.4\n",
            "argon2-cffi==20.1.0\n",
            "arviz==0.11.2\n",
            "astor==0.8.1\n",
            "astropy==4.2.1\n",
            "astunparse==1.6.3\n",
            "async-generator==1.10\n",
            "atari-py==0.2.9\n",
            "atomicwrites==1.4.0\n",
            "attrs==21.2.0\n",
            "audioread==2.1.9\n",
            "autograd==1.3\n",
            "Babel==2.9.1\n",
            "backcall==0.2.0\n",
            "beautifulsoup4==4.6.3\n",
            "bleach==3.3.0\n",
            "blis==0.4.1\n",
            "bokeh==2.3.3\n",
            "Bottleneck==1.3.2\n",
            "branca==0.4.2\n",
            "bs4==0.0.1\n",
            "CacheControl==0.12.6\n",
            "cached-property==1.5.2\n",
            "cachetools==4.2.2\n",
            "catalogue==1.0.0\n",
            "certifi==2021.5.30\n",
            "cffi==1.14.6\n",
            "cftime==1.5.0\n",
            "chardet==3.0.4\n",
            "charset-normalizer==2.0.2\n",
            "click==7.1.2\n",
            "cloudpickle==1.3.0\n",
            "cmake==3.12.0\n",
            "cmdstanpy==0.9.5\n",
            "colorcet==2.0.6\n",
            "colorlover==0.3.0\n",
            "community==1.0.0b1\n",
            "contextlib2==0.5.5\n",
            "convertdate==2.3.2\n",
            "coverage==3.7.1\n",
            "coveralls==0.5\n",
            "crcmod==1.7\n",
            "cufflinks==0.17.3\n",
            "cvxopt==1.2.6\n",
            "cvxpy==1.0.31\n",
            "cycler==0.10.0\n",
            "cymem==2.0.5\n",
            "Cython==0.29.23\n",
            "daft==0.0.4\n",
            "dask==2.12.0\n",
            "datascience==0.10.6\n",
            "debugpy==1.0.0\n",
            "decorator==4.4.2\n",
            "defusedxml==0.7.1\n",
            "descartes==1.1.0\n",
            "dill==0.3.4\n",
            "distributed==1.25.3\n",
            "dlib @ file:///dlib-19.18.0-cp37-cp37m-linux_x86_64.whl\n",
            "dm-tree==0.1.6\n",
            "docopt==0.6.2\n",
            "docutils==0.17.1\n",
            "dopamine-rl==1.0.5\n",
            "earthengine-api==0.1.272\n",
            "easydict==1.9\n",
            "ecos==2.0.7.post1\n",
            "editdistance==0.5.3\n",
            "en-core-web-sm @ https://github.com/explosion/spacy-models/releases/download/en_core_web_sm-2.2.5/en_core_web_sm-2.2.5.tar.gz\n",
            "entrypoints==0.3\n",
            "ephem==4.0.0.2\n",
            "et-xmlfile==1.1.0\n",
            "fa2==0.3.5\n",
            "fastai==1.0.61\n",
            "fastdtw==0.3.4\n",
            "fastprogress==1.0.0\n",
            "fastrlock==0.6\n",
            "fbprophet==0.7.1\n",
            "feather-format==0.4.1\n",
            "filelock==3.0.12\n",
            "firebase-admin==4.4.0\n",
            "fix-yahoo-finance==0.0.22\n",
            "Flask==1.1.4\n",
            "flatbuffers==1.12\n",
            "folium==0.8.3\n",
            "future==0.16.0\n",
            "gast==0.4.0\n",
            "GDAL==2.2.2\n",
            "gdown==3.6.4\n",
            "gensim==3.6.0\n",
            "geographiclib==1.52\n",
            "geopy==1.17.0\n",
            "gin-config==0.4.0\n",
            "glob2==0.7\n",
            "google==2.0.3\n",
            "google-api-core==1.26.3\n",
            "google-api-python-client==1.12.8\n",
            "google-auth==1.32.1\n",
            "google-auth-httplib2==0.0.4\n",
            "google-auth-oauthlib==0.4.4\n",
            "google-cloud-bigquery==1.21.0\n",
            "google-cloud-bigquery-storage==1.1.0\n",
            "google-cloud-core==1.0.3\n",
            "google-cloud-datastore==1.8.0\n",
            "google-cloud-firestore==1.7.0\n",
            "google-cloud-language==1.2.0\n",
            "google-cloud-storage==1.18.1\n",
            "google-cloud-translate==1.5.0\n",
            "google-colab @ file:///colabtools/dist/google-colab-1.0.0.tar.gz\n",
            "google-pasta==0.2.0\n",
            "google-resumable-media==0.4.1\n",
            "googleapis-common-protos==1.53.0\n",
            "googledrivedownloader==0.4\n",
            "graphviz==0.10.1\n",
            "greenlet==1.1.0\n",
            "grpcio==1.34.1\n",
            "gspread==3.0.1\n",
            "gspread-dataframe==3.0.8\n",
            "gym==0.17.3\n",
            "h5py==3.1.0\n",
            "HeapDict==1.0.1\n",
            "hijri-converter==2.1.3\n",
            "holidays==0.10.5.2\n",
            "holoviews==1.14.4\n",
            "html5lib==1.0.1\n",
            "httpimport==0.5.18\n",
            "httplib2==0.17.4\n",
            "httplib2shim==0.0.3\n",
            "humanize==0.5.1\n",
            "hyperopt==0.1.2\n",
            "ideep4py==2.0.0.post3\n",
            "idna==2.10\n",
            "imageio==2.4.1\n",
            "imagesize==1.2.0\n",
            "imbalanced-learn==0.4.3\n",
            "imblearn==0.0\n",
            "imgaug==0.2.9\n",
            "importlib-metadata==4.6.1\n",
            "importlib-resources==5.2.0\n",
            "imutils==0.5.4\n",
            "inflect==2.1.0\n",
            "iniconfig==1.1.1\n",
            "install==1.3.4\n",
            "intel-openmp==2021.3.0\n",
            "intervaltree==2.1.0\n",
            "ipykernel==4.10.1\n",
            "ipython==5.5.0\n",
            "ipython-genutils==0.2.0\n",
            "ipython-sql==0.3.9\n",
            "ipywidgets==7.6.3\n",
            "itsdangerous==1.1.0\n",
            "jax==0.2.17\n",
            "jaxlib @ https://storage.googleapis.com/jax-releases/cuda110/jaxlib-0.1.69+cuda110-cp37-none-manylinux2010_x86_64.whl\n",
            "jdcal==1.4.1\n",
            "jedi==0.18.0\n",
            "jieba==0.42.1\n",
            "Jinja2==2.11.3\n",
            "joblib==1.0.1\n",
            "jpeg4py==0.1.4\n",
            "jsonschema==2.6.0\n",
            "jupyter==1.0.0\n",
            "jupyter-client==5.3.5\n",
            "jupyter-console==5.2.0\n",
            "jupyter-core==4.7.1\n",
            "jupyterlab-pygments==0.1.2\n",
            "jupyterlab-widgets==1.0.0\n",
            "kaggle==1.5.12\n",
            "kapre==0.3.5\n",
            "Keras==2.4.3\n",
            "keras-nightly==2.5.0.dev2021032900\n",
            "Keras-Preprocessing==1.1.2\n",
            "keras-vis==0.4.1\n",
            "kiwisolver==1.3.1\n",
            "korean-lunar-calendar==0.2.1\n",
            "librosa==0.8.1\n",
            "lightgbm==2.2.3\n",
            "llvmlite==0.34.0\n",
            "lmdb==0.99\n",
            "LunarCalendar==0.0.9\n",
            "lxml==4.2.6\n",
            "Markdown==3.3.4\n",
            "MarkupSafe==2.0.1\n",
            "matplotlib==3.2.2\n",
            "matplotlib-inline==0.1.2\n",
            "matplotlib-venn==0.11.6\n",
            "missingno==0.5.0\n",
            "mistune==0.8.4\n",
            "mizani==0.6.0\n",
            "mkl==2019.0\n",
            "mlxtend==0.14.0\n",
            "more-itertools==8.8.0\n",
            "moviepy==0.2.3.5\n",
            "mpmath==1.2.1\n",
            "msgpack==1.0.2\n",
            "multiprocess==0.70.12.2\n",
            "multitasking==0.0.9\n",
            "murmurhash==1.0.5\n",
            "music21==5.5.0\n",
            "natsort==5.5.0\n",
            "nbclient==0.5.3\n",
            "nbconvert==5.6.1\n",
            "nbformat==5.1.3\n",
            "nest-asyncio==1.5.1\n",
            "netCDF4==1.5.7\n",
            "networkx==2.5.1\n",
            "nibabel==3.0.2\n",
            "nltk==3.2.5\n",
            "notebook==5.3.1\n",
            "numba==0.51.2\n",
            "numexpr==2.7.3\n",
            "numpy==1.19.5\n",
            "nvidia-ml-py3==7.352.0\n",
            "oauth2client==4.1.3\n",
            "oauthlib==3.1.1\n",
            "okgrade==0.4.3\n",
            "opencv-contrib-python==4.1.2.30\n",
            "opencv-python==4.1.2.30\n",
            "openpyxl==2.5.9\n",
            "opt-einsum==3.3.0\n",
            "osqp==0.6.2.post0\n",
            "packaging==21.0\n",
            "palettable==3.3.0\n",
            "pandas==1.1.5\n",
            "pandas-datareader==0.9.0\n",
            "pandas-gbq==0.13.3\n",
            "pandas-profiling==1.4.1\n",
            "pandocfilters==1.4.3\n",
            "panel==0.11.3\n",
            "param==1.11.1\n",
            "parso==0.8.2\n",
            "pathlib==1.0.1\n",
            "patsy==0.5.1\n",
            "pexpect==4.8.0\n",
            "pickleshare==0.7.5\n",
            "Pillow==7.1.2\n",
            "pip-tools==4.5.1\n",
            "plac==1.1.3\n",
            "plotly==4.4.1\n",
            "plotnine==0.6.0\n",
            "pluggy==0.7.1\n",
            "pooch==1.4.0\n",
            "portpicker==1.3.9\n",
            "prefetch-generator==1.0.1\n",
            "preshed==3.0.5\n",
            "prettytable==2.1.0\n",
            "progressbar2==3.38.0\n",
            "prometheus-client==0.11.0\n",
            "promise==2.3\n",
            "prompt-toolkit==1.0.18\n",
            "protobuf==3.17.3\n",
            "psutil==5.4.8\n",
            "psycopg2==2.7.6.1\n",
            "ptyprocess==0.7.0\n",
            "py==1.10.0\n",
            "pyarrow==3.0.0\n",
            "pyasn1==0.4.8\n",
            "pyasn1-modules==0.2.8\n",
            "pycocotools==2.0.2\n",
            "pycparser==2.20\n",
            "pyct==0.4.8\n",
            "pydata-google-auth==1.2.0\n",
            "pydot==1.3.0\n",
            "pydot-ng==2.0.0\n",
            "pydotplus==2.0.2\n",
            "PyDrive==1.3.1\n",
            "pyemd==0.5.1\n",
            "pyerfa==2.0.0\n",
            "pyglet==1.5.0\n",
            "Pygments==2.6.1\n",
            "pygobject==3.26.1\n",
            "pymc3==3.11.2\n",
            "PyMeeus==0.5.11\n",
            "pymongo==3.11.4\n",
            "pymystem3==0.2.0\n",
            "PyOpenGL==3.1.5\n",
            "pyparsing==2.4.7\n",
            "pyrsistent==0.18.0\n",
            "pysndfile==1.3.8\n",
            "PySocks==1.7.1\n",
            "pystan==2.19.1.1\n",
            "pytest==3.6.4\n",
            "python-apt==0.0.0\n",
            "python-chess==0.23.11\n",
            "python-dateutil==2.8.1\n",
            "python-louvain==0.15\n",
            "python-slugify==5.0.2\n",
            "python-utils==2.5.6\n",
            "pytz==2018.9\n",
            "pyviz-comms==2.1.0\n",
            "PyWavelets==1.1.1\n",
            "PyYAML==3.13\n",
            "pyzmq==22.1.0\n",
            "qdldl==0.1.5.post0\n",
            "qtconsole==5.1.1\n",
            "QtPy==1.9.0\n",
            "regex==2019.12.20\n",
            "requests==2.23.0\n",
            "requests-oauthlib==1.3.0\n",
            "resampy==0.2.2\n",
            "retrying==1.3.3\n",
            "rpy2==3.4.5\n",
            "rsa==4.7.2\n",
            "scikit-image==0.16.2\n",
            "scikit-learn==0.22.2.post1\n",
            "scipy==1.4.1\n",
            "screen-resolution-extra==0.0.0\n",
            "scs==2.1.4\n",
            "seaborn==0.11.1\n",
            "semver==2.13.0\n",
            "Send2Trash==1.7.1\n",
            "setuptools-git==1.2\n",
            "Shapely==1.7.1\n",
            "simplegeneric==0.8.1\n",
            "six==1.15.0\n",
            "sklearn==0.0\n",
            "sklearn-pandas==1.8.0\n",
            "smart-open==5.1.0\n",
            "snowballstemmer==2.1.0\n",
            "sortedcontainers==2.4.0\n",
            "SoundFile==0.10.3.post1\n",
            "spacy==2.2.4\n",
            "Sphinx==1.8.5\n",
            "sphinxcontrib-serializinghtml==1.1.5\n",
            "sphinxcontrib-websupport==1.2.4\n",
            "SQLAlchemy==1.4.20\n",
            "sqlparse==0.4.1\n",
            "srsly==1.0.5\n",
            "statsmodels==0.10.2\n",
            "sympy==1.7.1\n",
            "tables==3.4.4\n",
            "tabulate==0.8.9\n",
            "tblib==1.7.0\n",
            "tensorboard==2.5.0\n",
            "tensorboard-data-server==0.6.1\n",
            "tensorboard-plugin-wit==1.8.0\n",
            "tensorflow @ file:///tensorflow-2.5.0-cp37-cp37m-linux_x86_64.whl\n",
            "tensorflow-datasets==4.0.1\n",
            "tensorflow-estimator==2.5.0\n",
            "tensorflow-gcs-config==2.5.0\n",
            "tensorflow-hub==0.12.0\n",
            "tensorflow-metadata==1.1.0\n",
            "tensorflow-probability==0.13.0\n",
            "termcolor==1.1.0\n",
            "terminado==0.10.1\n",
            "testpath==0.5.0\n",
            "text-unidecode==1.3\n",
            "textblob==0.15.3\n",
            "Theano-PyMC==1.1.2\n",
            "thinc==7.4.0\n",
            "tifffile==2021.7.2\n",
            "toml==0.10.2\n",
            "toolz==0.11.1\n",
            "torch @ https://download.pytorch.org/whl/cu102/torch-1.9.0%2Bcu102-cp37-cp37m-linux_x86_64.whl\n",
            "torchsummary==1.5.1\n",
            "torchtext==0.10.0\n",
            "torchvision @ https://download.pytorch.org/whl/cu102/torchvision-0.10.0%2Bcu102-cp37-cp37m-linux_x86_64.whl\n",
            "tornado==5.1.1\n",
            "tqdm==4.41.1\n",
            "traitlets==5.0.5\n",
            "tweepy==3.10.0\n",
            "typeguard==2.7.1\n",
            "typing-extensions==3.7.4.3\n",
            "tzlocal==1.5.1\n",
            "uritemplate==3.0.1\n",
            "urllib3==1.24.3\n",
            "vega-datasets==0.9.0\n",
            "wasabi==0.8.2\n",
            "wcwidth==0.2.5\n",
            "webencodings==0.5.1\n",
            "Werkzeug==1.0.1\n",
            "widgetsnbextension==3.5.1\n",
            "wordcloud==1.5.0\n",
            "wrapt==1.12.1\n",
            "xarray==0.18.2\n",
            "xgboost==0.90\n",
            "xkit==0.0.0\n",
            "xlrd==1.1.0\n",
            "xlwt==1.3.0\n",
            "yellowbrick==0.9.1\n",
            "zict==2.0.0\n",
            "zipp==3.5.0\n"
          ],
          "name": "stdout"
        }
      ]
    },
    {
      "cell_type": "markdown",
      "metadata": {
        "id": "q-Vt0vsn4W8F"
      },
      "source": [
        "## Add code snippets \n",
        "\n",
        "To add pre-written code snippets (useful for plotting), open the code snippets tab\n",
        "\n",
        "- Insert -> Code Snippets"
      ]
    },
    {
      "cell_type": "code",
      "metadata": {
        "colab": {
          "base_uri": "https://localhost:8080/",
          "height": 368
        },
        "id": "wLfZ-YLo5YmH",
        "tags": [
          "no-execute"
        ],
        "outputId": "f1182ca5-ae96-4ef4-8cf3-eca0017932b7"
      },
      "source": [
        "from vega_datasets import data\n",
        "stocks = data.stocks()\n",
        "\n",
        "import altair as alt\n",
        "alt.Chart(stocks).mark_line().encode(\n",
        "  x='date:T',\n",
        "  y='price',\n",
        "  color='symbol'\n",
        ").interactive(bind_y=False)"
      ],
      "execution_count": 3,
      "outputs": [
        {
          "output_type": "execute_result",
          "data": {
            "text/plain": [
              "alt.Chart(...)"
            ],
            "text/html": [
              "\n",
              "<div id=\"altair-viz-afcd96b3e45041c8b770e4da0cc18be3\"></div>\n",
              "<script type=\"text/javascript\">\n",
              "  (function(spec, embedOpt){\n",
              "    let outputDiv = document.currentScript.previousElementSibling;\n",
              "    if (outputDiv.id !== \"altair-viz-afcd96b3e45041c8b770e4da0cc18be3\") {\n",
              "      outputDiv = document.getElementById(\"altair-viz-afcd96b3e45041c8b770e4da0cc18be3\");\n",
              "    }\n",
              "    const paths = {\n",
              "      \"vega\": \"https://cdn.jsdelivr.net/npm//vega@5?noext\",\n",
              "      \"vega-lib\": \"https://cdn.jsdelivr.net/npm//vega-lib?noext\",\n",
              "      \"vega-lite\": \"https://cdn.jsdelivr.net/npm//vega-lite@4.8.1?noext\",\n",
              "      \"vega-embed\": \"https://cdn.jsdelivr.net/npm//vega-embed@6?noext\",\n",
              "    };\n",
              "\n",
              "    function loadScript(lib) {\n",
              "      return new Promise(function(resolve, reject) {\n",
              "        var s = document.createElement('script');\n",
              "        s.src = paths[lib];\n",
              "        s.async = true;\n",
              "        s.onload = () => resolve(paths[lib]);\n",
              "        s.onerror = () => reject(`Error loading script: ${paths[lib]}`);\n",
              "        document.getElementsByTagName(\"head\")[0].appendChild(s);\n",
              "      });\n",
              "    }\n",
              "\n",
              "    function showError(err) {\n",
              "      outputDiv.innerHTML = `<div class=\"error\" style=\"color:red;\">${err}</div>`;\n",
              "      throw err;\n",
              "    }\n",
              "\n",
              "    function displayChart(vegaEmbed) {\n",
              "      vegaEmbed(outputDiv, spec, embedOpt)\n",
              "        .catch(err => showError(`Javascript Error: ${err.message}<br>This usually means there's a typo in your chart specification. See the javascript console for the full traceback.`));\n",
              "    }\n",
              "\n",
              "    if(typeof define === \"function\" && define.amd) {\n",
              "      requirejs.config({paths});\n",
              "      require([\"vega-embed\"], displayChart, err => showError(`Error loading script: ${err.message}`));\n",
              "    } else if (typeof vegaEmbed === \"function\") {\n",
              "      displayChart(vegaEmbed);\n",
              "    } else {\n",
              "      loadScript(\"vega\")\n",
              "        .then(() => loadScript(\"vega-lite\"))\n",
              "        .then(() => loadScript(\"vega-embed\"))\n",
              "        .catch(showError)\n",
              "        .then(() => displayChart(vegaEmbed));\n",
              "    }\n",
              "  })({\"config\": {\"view\": {\"continuousWidth\": 400, \"continuousHeight\": 300}}, \"data\": {\"name\": \"data-96e857a61c6b623bafe23440d582a500\"}, \"mark\": \"line\", \"encoding\": {\"color\": {\"type\": \"nominal\", \"field\": \"symbol\"}, \"x\": {\"type\": \"temporal\", \"field\": \"date\"}, \"y\": {\"type\": \"quantitative\", \"field\": \"price\"}}, \"selection\": {\"selector001\": {\"type\": \"interval\", \"bind\": \"scales\", \"encodings\": [\"x\"]}}, \"$schema\": \"https://vega.github.io/schema/vega-lite/v4.8.1.json\", \"datasets\": {\"data-96e857a61c6b623bafe23440d582a500\": [{\"symbol\": \"MSFT\", \"date\": \"2000-01-01T00:00:00\", \"price\": 39.81}, {\"symbol\": \"MSFT\", \"date\": \"2000-02-01T00:00:00\", \"price\": 36.35}, {\"symbol\": \"MSFT\", \"date\": \"2000-03-01T00:00:00\", \"price\": 43.22}, {\"symbol\": \"MSFT\", \"date\": \"2000-04-01T00:00:00\", \"price\": 28.37}, {\"symbol\": \"MSFT\", \"date\": \"2000-05-01T00:00:00\", \"price\": 25.45}, {\"symbol\": \"MSFT\", \"date\": \"2000-06-01T00:00:00\", \"price\": 32.54}, {\"symbol\": \"MSFT\", \"date\": \"2000-07-01T00:00:00\", \"price\": 28.4}, {\"symbol\": \"MSFT\", \"date\": \"2000-08-01T00:00:00\", \"price\": 28.4}, {\"symbol\": \"MSFT\", \"date\": \"2000-09-01T00:00:00\", \"price\": 24.53}, {\"symbol\": \"MSFT\", \"date\": \"2000-10-01T00:00:00\", \"price\": 28.02}, {\"symbol\": \"MSFT\", \"date\": \"2000-11-01T00:00:00\", \"price\": 23.34}, {\"symbol\": \"MSFT\", \"date\": \"2000-12-01T00:00:00\", \"price\": 17.65}, {\"symbol\": \"MSFT\", \"date\": \"2001-01-01T00:00:00\", \"price\": 24.84}, {\"symbol\": \"MSFT\", \"date\": \"2001-02-01T00:00:00\", \"price\": 24.0}, {\"symbol\": \"MSFT\", \"date\": \"2001-03-01T00:00:00\", \"price\": 22.25}, {\"symbol\": \"MSFT\", \"date\": \"2001-04-01T00:00:00\", \"price\": 27.56}, {\"symbol\": \"MSFT\", \"date\": \"2001-05-01T00:00:00\", \"price\": 28.14}, {\"symbol\": \"MSFT\", \"date\": \"2001-06-01T00:00:00\", \"price\": 29.7}, {\"symbol\": \"MSFT\", \"date\": \"2001-07-01T00:00:00\", \"price\": 26.93}, {\"symbol\": \"MSFT\", \"date\": \"2001-08-01T00:00:00\", \"price\": 23.21}, {\"symbol\": \"MSFT\", \"date\": \"2001-09-01T00:00:00\", \"price\": 20.82}, {\"symbol\": \"MSFT\", \"date\": \"2001-10-01T00:00:00\", \"price\": 23.65}, {\"symbol\": \"MSFT\", \"date\": \"2001-11-01T00:00:00\", \"price\": 26.12}, {\"symbol\": \"MSFT\", \"date\": \"2001-12-01T00:00:00\", \"price\": 26.95}, {\"symbol\": \"MSFT\", \"date\": \"2002-01-01T00:00:00\", \"price\": 25.92}, {\"symbol\": \"MSFT\", \"date\": \"2002-02-01T00:00:00\", \"price\": 23.73}, {\"symbol\": \"MSFT\", \"date\": \"2002-03-01T00:00:00\", \"price\": 24.53}, {\"symbol\": \"MSFT\", \"date\": \"2002-04-01T00:00:00\", \"price\": 21.26}, {\"symbol\": \"MSFT\", \"date\": \"2002-05-01T00:00:00\", \"price\": 20.71}, {\"symbol\": \"MSFT\", \"date\": \"2002-06-01T00:00:00\", \"price\": 22.25}, {\"symbol\": \"MSFT\", \"date\": \"2002-07-01T00:00:00\", \"price\": 19.52}, {\"symbol\": \"MSFT\", \"date\": \"2002-08-01T00:00:00\", \"price\": 19.97}, {\"symbol\": \"MSFT\", \"date\": \"2002-09-01T00:00:00\", \"price\": 17.79}, {\"symbol\": \"MSFT\", \"date\": \"2002-10-01T00:00:00\", \"price\": 21.75}, {\"symbol\": \"MSFT\", \"date\": \"2002-11-01T00:00:00\", \"price\": 23.46}, {\"symbol\": \"MSFT\", \"date\": \"2002-12-01T00:00:00\", \"price\": 21.03}, {\"symbol\": \"MSFT\", \"date\": \"2003-01-01T00:00:00\", \"price\": 19.31}, {\"symbol\": \"MSFT\", \"date\": \"2003-02-01T00:00:00\", \"price\": 19.34}, {\"symbol\": \"MSFT\", \"date\": \"2003-03-01T00:00:00\", \"price\": 19.76}, {\"symbol\": \"MSFT\", \"date\": \"2003-04-01T00:00:00\", \"price\": 20.87}, {\"symbol\": \"MSFT\", \"date\": \"2003-05-01T00:00:00\", \"price\": 20.09}, {\"symbol\": \"MSFT\", \"date\": \"2003-06-01T00:00:00\", \"price\": 20.93}, {\"symbol\": \"MSFT\", \"date\": \"2003-07-01T00:00:00\", \"price\": 21.56}, {\"symbol\": \"MSFT\", \"date\": \"2003-08-01T00:00:00\", \"price\": 21.65}, {\"symbol\": \"MSFT\", \"date\": \"2003-09-01T00:00:00\", \"price\": 22.69}, {\"symbol\": \"MSFT\", \"date\": \"2003-10-01T00:00:00\", \"price\": 21.45}, {\"symbol\": \"MSFT\", \"date\": \"2003-11-01T00:00:00\", \"price\": 21.1}, {\"symbol\": \"MSFT\", \"date\": \"2003-12-01T00:00:00\", \"price\": 22.46}, {\"symbol\": \"MSFT\", \"date\": \"2004-01-01T00:00:00\", \"price\": 22.69}, {\"symbol\": \"MSFT\", \"date\": \"2004-02-01T00:00:00\", \"price\": 21.77}, {\"symbol\": \"MSFT\", \"date\": \"2004-03-01T00:00:00\", \"price\": 20.46}, {\"symbol\": \"MSFT\", \"date\": \"2004-04-01T00:00:00\", \"price\": 21.45}, {\"symbol\": \"MSFT\", \"date\": \"2004-05-01T00:00:00\", \"price\": 21.53}, {\"symbol\": \"MSFT\", \"date\": \"2004-06-01T00:00:00\", \"price\": 23.44}, {\"symbol\": \"MSFT\", \"date\": \"2004-07-01T00:00:00\", \"price\": 23.38}, {\"symbol\": \"MSFT\", \"date\": \"2004-08-01T00:00:00\", \"price\": 22.47}, {\"symbol\": \"MSFT\", \"date\": \"2004-09-01T00:00:00\", \"price\": 22.76}, {\"symbol\": \"MSFT\", \"date\": \"2004-10-01T00:00:00\", \"price\": 23.02}, {\"symbol\": \"MSFT\", \"date\": \"2004-11-01T00:00:00\", \"price\": 24.6}, {\"symbol\": \"MSFT\", \"date\": \"2004-12-01T00:00:00\", \"price\": 24.52}, {\"symbol\": \"MSFT\", \"date\": \"2005-01-01T00:00:00\", \"price\": 24.11}, {\"symbol\": \"MSFT\", \"date\": \"2005-02-01T00:00:00\", \"price\": 23.15}, {\"symbol\": \"MSFT\", \"date\": \"2005-03-01T00:00:00\", \"price\": 22.24}, {\"symbol\": \"MSFT\", \"date\": \"2005-04-01T00:00:00\", \"price\": 23.28}, {\"symbol\": \"MSFT\", \"date\": \"2005-05-01T00:00:00\", \"price\": 23.82}, {\"symbol\": \"MSFT\", \"date\": \"2005-06-01T00:00:00\", \"price\": 22.93}, {\"symbol\": \"MSFT\", \"date\": \"2005-07-01T00:00:00\", \"price\": 23.64}, {\"symbol\": \"MSFT\", \"date\": \"2005-08-01T00:00:00\", \"price\": 25.35}, {\"symbol\": \"MSFT\", \"date\": \"2005-09-01T00:00:00\", \"price\": 23.83}, {\"symbol\": \"MSFT\", \"date\": \"2005-10-01T00:00:00\", \"price\": 23.8}, {\"symbol\": \"MSFT\", \"date\": \"2005-11-01T00:00:00\", \"price\": 25.71}, {\"symbol\": \"MSFT\", \"date\": \"2005-12-01T00:00:00\", \"price\": 24.29}, {\"symbol\": \"MSFT\", \"date\": \"2006-01-01T00:00:00\", \"price\": 26.14}, {\"symbol\": \"MSFT\", \"date\": \"2006-02-01T00:00:00\", \"price\": 25.04}, {\"symbol\": \"MSFT\", \"date\": \"2006-03-01T00:00:00\", \"price\": 25.36}, {\"symbol\": \"MSFT\", \"date\": \"2006-04-01T00:00:00\", \"price\": 22.5}, {\"symbol\": \"MSFT\", \"date\": \"2006-05-01T00:00:00\", \"price\": 21.19}, {\"symbol\": \"MSFT\", \"date\": \"2006-06-01T00:00:00\", \"price\": 21.8}, {\"symbol\": \"MSFT\", \"date\": \"2006-07-01T00:00:00\", \"price\": 22.51}, {\"symbol\": \"MSFT\", \"date\": \"2006-08-01T00:00:00\", \"price\": 24.13}, {\"symbol\": \"MSFT\", \"date\": \"2006-09-01T00:00:00\", \"price\": 25.68}, {\"symbol\": \"MSFT\", \"date\": \"2006-10-01T00:00:00\", \"price\": 26.96}, {\"symbol\": \"MSFT\", \"date\": \"2006-11-01T00:00:00\", \"price\": 27.66}, {\"symbol\": \"MSFT\", \"date\": \"2006-12-01T00:00:00\", \"price\": 28.13}, {\"symbol\": \"MSFT\", \"date\": \"2007-01-01T00:00:00\", \"price\": 29.07}, {\"symbol\": \"MSFT\", \"date\": \"2007-02-01T00:00:00\", \"price\": 26.63}, {\"symbol\": \"MSFT\", \"date\": \"2007-03-01T00:00:00\", \"price\": 26.35}, {\"symbol\": \"MSFT\", \"date\": \"2007-04-01T00:00:00\", \"price\": 28.3}, {\"symbol\": \"MSFT\", \"date\": \"2007-05-01T00:00:00\", \"price\": 29.11}, {\"symbol\": \"MSFT\", \"date\": \"2007-06-01T00:00:00\", \"price\": 27.95}, {\"symbol\": \"MSFT\", \"date\": \"2007-07-01T00:00:00\", \"price\": 27.5}, {\"symbol\": \"MSFT\", \"date\": \"2007-08-01T00:00:00\", \"price\": 27.34}, {\"symbol\": \"MSFT\", \"date\": \"2007-09-01T00:00:00\", \"price\": 28.04}, {\"symbol\": \"MSFT\", \"date\": \"2007-10-01T00:00:00\", \"price\": 35.03}, {\"symbol\": \"MSFT\", \"date\": \"2007-11-01T00:00:00\", \"price\": 32.09}, {\"symbol\": \"MSFT\", \"date\": \"2007-12-01T00:00:00\", \"price\": 34.0}, {\"symbol\": \"MSFT\", \"date\": \"2008-01-01T00:00:00\", \"price\": 31.13}, {\"symbol\": \"MSFT\", \"date\": \"2008-02-01T00:00:00\", \"price\": 26.07}, {\"symbol\": \"MSFT\", \"date\": \"2008-03-01T00:00:00\", \"price\": 27.21}, {\"symbol\": \"MSFT\", \"date\": \"2008-04-01T00:00:00\", \"price\": 27.34}, {\"symbol\": \"MSFT\", \"date\": \"2008-05-01T00:00:00\", \"price\": 27.25}, {\"symbol\": \"MSFT\", \"date\": \"2008-06-01T00:00:00\", \"price\": 26.47}, {\"symbol\": \"MSFT\", \"date\": \"2008-07-01T00:00:00\", \"price\": 24.75}, {\"symbol\": \"MSFT\", \"date\": \"2008-08-01T00:00:00\", \"price\": 26.36}, {\"symbol\": \"MSFT\", \"date\": \"2008-09-01T00:00:00\", \"price\": 25.78}, {\"symbol\": \"MSFT\", \"date\": \"2008-10-01T00:00:00\", \"price\": 21.57}, {\"symbol\": \"MSFT\", \"date\": \"2008-11-01T00:00:00\", \"price\": 19.66}, {\"symbol\": \"MSFT\", \"date\": \"2008-12-01T00:00:00\", \"price\": 18.91}, {\"symbol\": \"MSFT\", \"date\": \"2009-01-01T00:00:00\", \"price\": 16.63}, {\"symbol\": \"MSFT\", \"date\": \"2009-02-01T00:00:00\", \"price\": 15.81}, {\"symbol\": \"MSFT\", \"date\": \"2009-03-01T00:00:00\", \"price\": 17.99}, {\"symbol\": \"MSFT\", \"date\": \"2009-04-01T00:00:00\", \"price\": 19.84}, {\"symbol\": \"MSFT\", \"date\": \"2009-05-01T00:00:00\", \"price\": 20.59}, {\"symbol\": \"MSFT\", \"date\": \"2009-06-01T00:00:00\", \"price\": 23.42}, {\"symbol\": \"MSFT\", \"date\": \"2009-07-01T00:00:00\", \"price\": 23.18}, {\"symbol\": \"MSFT\", \"date\": \"2009-08-01T00:00:00\", \"price\": 24.43}, {\"symbol\": \"MSFT\", \"date\": \"2009-09-01T00:00:00\", \"price\": 25.49}, {\"symbol\": \"MSFT\", \"date\": \"2009-10-01T00:00:00\", \"price\": 27.48}, {\"symbol\": \"MSFT\", \"date\": \"2009-11-01T00:00:00\", \"price\": 29.27}, {\"symbol\": \"MSFT\", \"date\": \"2009-12-01T00:00:00\", \"price\": 30.34}, {\"symbol\": \"MSFT\", \"date\": \"2010-01-01T00:00:00\", \"price\": 28.05}, {\"symbol\": \"MSFT\", \"date\": \"2010-02-01T00:00:00\", \"price\": 28.67}, {\"symbol\": \"MSFT\", \"date\": \"2010-03-01T00:00:00\", \"price\": 28.8}, {\"symbol\": \"AMZN\", \"date\": \"2000-01-01T00:00:00\", \"price\": 64.56}, {\"symbol\": \"AMZN\", \"date\": \"2000-02-01T00:00:00\", \"price\": 68.87}, {\"symbol\": \"AMZN\", \"date\": \"2000-03-01T00:00:00\", \"price\": 67.0}, {\"symbol\": \"AMZN\", \"date\": \"2000-04-01T00:00:00\", \"price\": 55.19}, {\"symbol\": \"AMZN\", \"date\": \"2000-05-01T00:00:00\", \"price\": 48.31}, {\"symbol\": \"AMZN\", \"date\": \"2000-06-01T00:00:00\", \"price\": 36.31}, {\"symbol\": \"AMZN\", \"date\": \"2000-07-01T00:00:00\", \"price\": 30.12}, {\"symbol\": \"AMZN\", \"date\": \"2000-08-01T00:00:00\", \"price\": 41.5}, {\"symbol\": \"AMZN\", \"date\": \"2000-09-01T00:00:00\", \"price\": 38.44}, {\"symbol\": \"AMZN\", \"date\": \"2000-10-01T00:00:00\", \"price\": 36.62}, {\"symbol\": \"AMZN\", \"date\": \"2000-11-01T00:00:00\", \"price\": 24.69}, {\"symbol\": \"AMZN\", \"date\": \"2000-12-01T00:00:00\", \"price\": 15.56}, {\"symbol\": \"AMZN\", \"date\": \"2001-01-01T00:00:00\", \"price\": 17.31}, {\"symbol\": \"AMZN\", \"date\": \"2001-02-01T00:00:00\", \"price\": 10.19}, {\"symbol\": \"AMZN\", \"date\": \"2001-03-01T00:00:00\", \"price\": 10.23}, {\"symbol\": \"AMZN\", \"date\": \"2001-04-01T00:00:00\", \"price\": 15.78}, {\"symbol\": \"AMZN\", \"date\": \"2001-05-01T00:00:00\", \"price\": 16.69}, {\"symbol\": \"AMZN\", \"date\": \"2001-06-01T00:00:00\", \"price\": 14.15}, {\"symbol\": \"AMZN\", \"date\": \"2001-07-01T00:00:00\", \"price\": 12.49}, {\"symbol\": \"AMZN\", \"date\": \"2001-08-01T00:00:00\", \"price\": 8.94}, {\"symbol\": \"AMZN\", \"date\": \"2001-09-01T00:00:00\", \"price\": 5.97}, {\"symbol\": \"AMZN\", \"date\": \"2001-10-01T00:00:00\", \"price\": 6.98}, {\"symbol\": \"AMZN\", \"date\": \"2001-11-01T00:00:00\", \"price\": 11.32}, {\"symbol\": \"AMZN\", \"date\": \"2001-12-01T00:00:00\", \"price\": 10.82}, {\"symbol\": \"AMZN\", \"date\": \"2002-01-01T00:00:00\", \"price\": 14.19}, {\"symbol\": \"AMZN\", \"date\": \"2002-02-01T00:00:00\", \"price\": 14.1}, {\"symbol\": \"AMZN\", \"date\": \"2002-03-01T00:00:00\", \"price\": 14.3}, {\"symbol\": \"AMZN\", \"date\": \"2002-04-01T00:00:00\", \"price\": 16.69}, {\"symbol\": \"AMZN\", \"date\": \"2002-05-01T00:00:00\", \"price\": 18.23}, {\"symbol\": \"AMZN\", \"date\": \"2002-06-01T00:00:00\", \"price\": 16.25}, {\"symbol\": \"AMZN\", \"date\": \"2002-07-01T00:00:00\", \"price\": 14.45}, {\"symbol\": \"AMZN\", \"date\": \"2002-08-01T00:00:00\", \"price\": 14.94}, {\"symbol\": \"AMZN\", \"date\": \"2002-09-01T00:00:00\", \"price\": 15.93}, {\"symbol\": \"AMZN\", \"date\": \"2002-10-01T00:00:00\", \"price\": 19.36}, {\"symbol\": \"AMZN\", \"date\": \"2002-11-01T00:00:00\", \"price\": 23.35}, {\"symbol\": \"AMZN\", \"date\": \"2002-12-01T00:00:00\", \"price\": 18.89}, {\"symbol\": \"AMZN\", \"date\": \"2003-01-01T00:00:00\", \"price\": 21.85}, {\"symbol\": \"AMZN\", \"date\": \"2003-02-01T00:00:00\", \"price\": 22.01}, {\"symbol\": \"AMZN\", \"date\": \"2003-03-01T00:00:00\", \"price\": 26.03}, {\"symbol\": \"AMZN\", \"date\": \"2003-04-01T00:00:00\", \"price\": 28.69}, {\"symbol\": \"AMZN\", \"date\": \"2003-05-01T00:00:00\", \"price\": 35.89}, {\"symbol\": \"AMZN\", \"date\": \"2003-06-01T00:00:00\", \"price\": 36.32}, {\"symbol\": \"AMZN\", \"date\": \"2003-07-01T00:00:00\", \"price\": 41.64}, {\"symbol\": \"AMZN\", \"date\": \"2003-08-01T00:00:00\", \"price\": 46.32}, {\"symbol\": \"AMZN\", \"date\": \"2003-09-01T00:00:00\", \"price\": 48.43}, {\"symbol\": \"AMZN\", \"date\": \"2003-10-01T00:00:00\", \"price\": 54.43}, {\"symbol\": \"AMZN\", \"date\": \"2003-11-01T00:00:00\", \"price\": 53.97}, {\"symbol\": \"AMZN\", \"date\": \"2003-12-01T00:00:00\", \"price\": 52.62}, {\"symbol\": \"AMZN\", \"date\": \"2004-01-01T00:00:00\", \"price\": 50.4}, {\"symbol\": \"AMZN\", \"date\": \"2004-02-01T00:00:00\", \"price\": 43.01}, {\"symbol\": \"AMZN\", \"date\": \"2004-03-01T00:00:00\", \"price\": 43.28}, {\"symbol\": \"AMZN\", \"date\": \"2004-04-01T00:00:00\", \"price\": 43.6}, {\"symbol\": \"AMZN\", \"date\": \"2004-05-01T00:00:00\", \"price\": 48.5}, {\"symbol\": \"AMZN\", \"date\": \"2004-06-01T00:00:00\", \"price\": 54.4}, {\"symbol\": \"AMZN\", \"date\": \"2004-07-01T00:00:00\", \"price\": 38.92}, {\"symbol\": \"AMZN\", \"date\": \"2004-08-01T00:00:00\", \"price\": 38.14}, {\"symbol\": \"AMZN\", \"date\": \"2004-09-01T00:00:00\", \"price\": 40.86}, {\"symbol\": \"AMZN\", \"date\": \"2004-10-01T00:00:00\", \"price\": 34.13}, {\"symbol\": \"AMZN\", \"date\": \"2004-11-01T00:00:00\", \"price\": 39.68}, {\"symbol\": \"AMZN\", \"date\": \"2004-12-01T00:00:00\", \"price\": 44.29}, {\"symbol\": \"AMZN\", \"date\": \"2005-01-01T00:00:00\", \"price\": 43.22}, {\"symbol\": \"AMZN\", \"date\": \"2005-02-01T00:00:00\", \"price\": 35.18}, {\"symbol\": \"AMZN\", \"date\": \"2005-03-01T00:00:00\", \"price\": 34.27}, {\"symbol\": \"AMZN\", \"date\": \"2005-04-01T00:00:00\", \"price\": 32.36}, {\"symbol\": \"AMZN\", \"date\": \"2005-05-01T00:00:00\", \"price\": 35.51}, {\"symbol\": \"AMZN\", \"date\": \"2005-06-01T00:00:00\", \"price\": 33.09}, {\"symbol\": \"AMZN\", \"date\": \"2005-07-01T00:00:00\", \"price\": 45.15}, {\"symbol\": \"AMZN\", \"date\": \"2005-08-01T00:00:00\", \"price\": 42.7}, {\"symbol\": \"AMZN\", \"date\": \"2005-09-01T00:00:00\", \"price\": 45.3}, {\"symbol\": \"AMZN\", \"date\": \"2005-10-01T00:00:00\", \"price\": 39.86}, {\"symbol\": \"AMZN\", \"date\": \"2005-11-01T00:00:00\", \"price\": 48.46}, {\"symbol\": \"AMZN\", \"date\": \"2005-12-01T00:00:00\", \"price\": 47.15}, {\"symbol\": \"AMZN\", \"date\": \"2006-01-01T00:00:00\", \"price\": 44.82}, {\"symbol\": \"AMZN\", \"date\": \"2006-02-01T00:00:00\", \"price\": 37.44}, {\"symbol\": \"AMZN\", \"date\": \"2006-03-01T00:00:00\", \"price\": 36.53}, {\"symbol\": \"AMZN\", \"date\": \"2006-04-01T00:00:00\", \"price\": 35.21}, {\"symbol\": \"AMZN\", \"date\": \"2006-05-01T00:00:00\", \"price\": 34.61}, {\"symbol\": \"AMZN\", \"date\": \"2006-06-01T00:00:00\", \"price\": 38.68}, {\"symbol\": \"AMZN\", \"date\": \"2006-07-01T00:00:00\", \"price\": 26.89}, {\"symbol\": \"AMZN\", \"date\": \"2006-08-01T00:00:00\", \"price\": 30.83}, {\"symbol\": \"AMZN\", \"date\": \"2006-09-01T00:00:00\", \"price\": 32.12}, {\"symbol\": \"AMZN\", \"date\": \"2006-10-01T00:00:00\", \"price\": 38.09}, {\"symbol\": \"AMZN\", \"date\": \"2006-11-01T00:00:00\", \"price\": 40.34}, {\"symbol\": \"AMZN\", \"date\": \"2006-12-01T00:00:00\", \"price\": 39.46}, {\"symbol\": \"AMZN\", \"date\": \"2007-01-01T00:00:00\", \"price\": 37.67}, {\"symbol\": \"AMZN\", \"date\": \"2007-02-01T00:00:00\", \"price\": 39.14}, {\"symbol\": \"AMZN\", \"date\": \"2007-03-01T00:00:00\", \"price\": 39.79}, {\"symbol\": \"AMZN\", \"date\": \"2007-04-01T00:00:00\", \"price\": 61.33}, {\"symbol\": \"AMZN\", \"date\": \"2007-05-01T00:00:00\", \"price\": 69.14}, {\"symbol\": \"AMZN\", \"date\": \"2007-06-01T00:00:00\", \"price\": 68.41}, {\"symbol\": \"AMZN\", \"date\": \"2007-07-01T00:00:00\", \"price\": 78.54}, {\"symbol\": \"AMZN\", \"date\": \"2007-08-01T00:00:00\", \"price\": 79.91}, {\"symbol\": \"AMZN\", \"date\": \"2007-09-01T00:00:00\", \"price\": 93.15}, {\"symbol\": \"AMZN\", \"date\": \"2007-10-01T00:00:00\", \"price\": 89.15}, {\"symbol\": \"AMZN\", \"date\": \"2007-11-01T00:00:00\", \"price\": 90.56}, {\"symbol\": \"AMZN\", \"date\": \"2007-12-01T00:00:00\", \"price\": 92.64}, {\"symbol\": \"AMZN\", \"date\": \"2008-01-01T00:00:00\", \"price\": 77.7}, {\"symbol\": \"AMZN\", \"date\": \"2008-02-01T00:00:00\", \"price\": 64.47}, {\"symbol\": \"AMZN\", \"date\": \"2008-03-01T00:00:00\", \"price\": 71.3}, {\"symbol\": \"AMZN\", \"date\": \"2008-04-01T00:00:00\", \"price\": 78.63}, {\"symbol\": \"AMZN\", \"date\": \"2008-05-01T00:00:00\", \"price\": 81.62}, {\"symbol\": \"AMZN\", \"date\": \"2008-06-01T00:00:00\", \"price\": 73.33}, {\"symbol\": \"AMZN\", \"date\": \"2008-07-01T00:00:00\", \"price\": 76.34}, {\"symbol\": \"AMZN\", \"date\": \"2008-08-01T00:00:00\", \"price\": 80.81}, {\"symbol\": \"AMZN\", \"date\": \"2008-09-01T00:00:00\", \"price\": 72.76}, {\"symbol\": \"AMZN\", \"date\": \"2008-10-01T00:00:00\", \"price\": 57.24}, {\"symbol\": \"AMZN\", \"date\": \"2008-11-01T00:00:00\", \"price\": 42.7}, {\"symbol\": \"AMZN\", \"date\": \"2008-12-01T00:00:00\", \"price\": 51.28}, {\"symbol\": \"AMZN\", \"date\": \"2009-01-01T00:00:00\", \"price\": 58.82}, {\"symbol\": \"AMZN\", \"date\": \"2009-02-01T00:00:00\", \"price\": 64.79}, {\"symbol\": \"AMZN\", \"date\": \"2009-03-01T00:00:00\", \"price\": 73.44}, {\"symbol\": \"AMZN\", \"date\": \"2009-04-01T00:00:00\", \"price\": 80.52}, {\"symbol\": \"AMZN\", \"date\": \"2009-05-01T00:00:00\", \"price\": 77.99}, {\"symbol\": \"AMZN\", \"date\": \"2009-06-01T00:00:00\", \"price\": 83.66}, {\"symbol\": \"AMZN\", \"date\": \"2009-07-01T00:00:00\", \"price\": 85.76}, {\"symbol\": \"AMZN\", \"date\": \"2009-08-01T00:00:00\", \"price\": 81.19}, {\"symbol\": \"AMZN\", \"date\": \"2009-09-01T00:00:00\", \"price\": 93.36}, {\"symbol\": \"AMZN\", \"date\": \"2009-10-01T00:00:00\", \"price\": 118.81}, {\"symbol\": \"AMZN\", \"date\": \"2009-11-01T00:00:00\", \"price\": 135.91}, {\"symbol\": \"AMZN\", \"date\": \"2009-12-01T00:00:00\", \"price\": 134.52}, {\"symbol\": \"AMZN\", \"date\": \"2010-01-01T00:00:00\", \"price\": 125.41}, {\"symbol\": \"AMZN\", \"date\": \"2010-02-01T00:00:00\", \"price\": 118.4}, {\"symbol\": \"AMZN\", \"date\": \"2010-03-01T00:00:00\", \"price\": 128.82}, {\"symbol\": \"IBM\", \"date\": \"2000-01-01T00:00:00\", \"price\": 100.52}, {\"symbol\": \"IBM\", \"date\": \"2000-02-01T00:00:00\", \"price\": 92.11}, {\"symbol\": \"IBM\", \"date\": \"2000-03-01T00:00:00\", \"price\": 106.11}, {\"symbol\": \"IBM\", \"date\": \"2000-04-01T00:00:00\", \"price\": 99.95}, {\"symbol\": \"IBM\", \"date\": \"2000-05-01T00:00:00\", \"price\": 96.31}, {\"symbol\": \"IBM\", \"date\": \"2000-06-01T00:00:00\", \"price\": 98.33}, {\"symbol\": \"IBM\", \"date\": \"2000-07-01T00:00:00\", \"price\": 100.74}, {\"symbol\": \"IBM\", \"date\": \"2000-08-01T00:00:00\", \"price\": 118.62}, {\"symbol\": \"IBM\", \"date\": \"2000-09-01T00:00:00\", \"price\": 101.19}, {\"symbol\": \"IBM\", \"date\": \"2000-10-01T00:00:00\", \"price\": 88.5}, {\"symbol\": \"IBM\", \"date\": \"2000-11-01T00:00:00\", \"price\": 84.12}, {\"symbol\": \"IBM\", \"date\": \"2000-12-01T00:00:00\", \"price\": 76.47}, {\"symbol\": \"IBM\", \"date\": \"2001-01-01T00:00:00\", \"price\": 100.76}, {\"symbol\": \"IBM\", \"date\": \"2001-02-01T00:00:00\", \"price\": 89.98}, {\"symbol\": \"IBM\", \"date\": \"2001-03-01T00:00:00\", \"price\": 86.63}, {\"symbol\": \"IBM\", \"date\": \"2001-04-01T00:00:00\", \"price\": 103.7}, {\"symbol\": \"IBM\", \"date\": \"2001-05-01T00:00:00\", \"price\": 100.82}, {\"symbol\": \"IBM\", \"date\": \"2001-06-01T00:00:00\", \"price\": 102.35}, {\"symbol\": \"IBM\", \"date\": \"2001-07-01T00:00:00\", \"price\": 94.87}, {\"symbol\": \"IBM\", \"date\": \"2001-08-01T00:00:00\", \"price\": 90.25}, {\"symbol\": \"IBM\", \"date\": \"2001-09-01T00:00:00\", \"price\": 82.82}, {\"symbol\": \"IBM\", \"date\": \"2001-10-01T00:00:00\", \"price\": 97.58}, {\"symbol\": \"IBM\", \"date\": \"2001-11-01T00:00:00\", \"price\": 104.5}, {\"symbol\": \"IBM\", \"date\": \"2001-12-01T00:00:00\", \"price\": 109.36}, {\"symbol\": \"IBM\", \"date\": \"2002-01-01T00:00:00\", \"price\": 97.54}, {\"symbol\": \"IBM\", \"date\": \"2002-02-01T00:00:00\", \"price\": 88.82}, {\"symbol\": \"IBM\", \"date\": \"2002-03-01T00:00:00\", \"price\": 94.15}, {\"symbol\": \"IBM\", \"date\": \"2002-04-01T00:00:00\", \"price\": 75.82}, {\"symbol\": \"IBM\", \"date\": \"2002-05-01T00:00:00\", \"price\": 72.97}, {\"symbol\": \"IBM\", \"date\": \"2002-06-01T00:00:00\", \"price\": 65.31}, {\"symbol\": \"IBM\", \"date\": \"2002-07-01T00:00:00\", \"price\": 63.86}, {\"symbol\": \"IBM\", \"date\": \"2002-08-01T00:00:00\", \"price\": 68.52}, {\"symbol\": \"IBM\", \"date\": \"2002-09-01T00:00:00\", \"price\": 53.01}, {\"symbol\": \"IBM\", \"date\": \"2002-10-01T00:00:00\", \"price\": 71.76}, {\"symbol\": \"IBM\", \"date\": \"2002-11-01T00:00:00\", \"price\": 79.16}, {\"symbol\": \"IBM\", \"date\": \"2002-12-01T00:00:00\", \"price\": 70.58}, {\"symbol\": \"IBM\", \"date\": \"2003-01-01T00:00:00\", \"price\": 71.22}, {\"symbol\": \"IBM\", \"date\": \"2003-02-01T00:00:00\", \"price\": 71.13}, {\"symbol\": \"IBM\", \"date\": \"2003-03-01T00:00:00\", \"price\": 71.57}, {\"symbol\": \"IBM\", \"date\": \"2003-04-01T00:00:00\", \"price\": 77.47}, {\"symbol\": \"IBM\", \"date\": \"2003-05-01T00:00:00\", \"price\": 80.48}, {\"symbol\": \"IBM\", \"date\": \"2003-06-01T00:00:00\", \"price\": 75.42}, {\"symbol\": \"IBM\", \"date\": \"2003-07-01T00:00:00\", \"price\": 74.28}, {\"symbol\": \"IBM\", \"date\": \"2003-08-01T00:00:00\", \"price\": 75.12}, {\"symbol\": \"IBM\", \"date\": \"2003-09-01T00:00:00\", \"price\": 80.91}, {\"symbol\": \"IBM\", \"date\": \"2003-10-01T00:00:00\", \"price\": 81.96}, {\"symbol\": \"IBM\", \"date\": \"2003-11-01T00:00:00\", \"price\": 83.08}, {\"symbol\": \"IBM\", \"date\": \"2003-12-01T00:00:00\", \"price\": 85.05}, {\"symbol\": \"IBM\", \"date\": \"2004-01-01T00:00:00\", \"price\": 91.06}, {\"symbol\": \"IBM\", \"date\": \"2004-02-01T00:00:00\", \"price\": 88.7}, {\"symbol\": \"IBM\", \"date\": \"2004-03-01T00:00:00\", \"price\": 84.41}, {\"symbol\": \"IBM\", \"date\": \"2004-04-01T00:00:00\", \"price\": 81.04}, {\"symbol\": \"IBM\", \"date\": \"2004-05-01T00:00:00\", \"price\": 81.59}, {\"symbol\": \"IBM\", \"date\": \"2004-06-01T00:00:00\", \"price\": 81.19}, {\"symbol\": \"IBM\", \"date\": \"2004-07-01T00:00:00\", \"price\": 80.19}, {\"symbol\": \"IBM\", \"date\": \"2004-08-01T00:00:00\", \"price\": 78.17}, {\"symbol\": \"IBM\", \"date\": \"2004-09-01T00:00:00\", \"price\": 79.13}, {\"symbol\": \"IBM\", \"date\": \"2004-10-01T00:00:00\", \"price\": 82.84}, {\"symbol\": \"IBM\", \"date\": \"2004-11-01T00:00:00\", \"price\": 87.15}, {\"symbol\": \"IBM\", \"date\": \"2004-12-01T00:00:00\", \"price\": 91.16}, {\"symbol\": \"IBM\", \"date\": \"2005-01-01T00:00:00\", \"price\": 86.39}, {\"symbol\": \"IBM\", \"date\": \"2005-02-01T00:00:00\", \"price\": 85.78}, {\"symbol\": \"IBM\", \"date\": \"2005-03-01T00:00:00\", \"price\": 84.66}, {\"symbol\": \"IBM\", \"date\": \"2005-04-01T00:00:00\", \"price\": 70.77}, {\"symbol\": \"IBM\", \"date\": \"2005-05-01T00:00:00\", \"price\": 70.18}, {\"symbol\": \"IBM\", \"date\": \"2005-06-01T00:00:00\", \"price\": 68.93}, {\"symbol\": \"IBM\", \"date\": \"2005-07-01T00:00:00\", \"price\": 77.53}, {\"symbol\": \"IBM\", \"date\": \"2005-08-01T00:00:00\", \"price\": 75.07}, {\"symbol\": \"IBM\", \"date\": \"2005-09-01T00:00:00\", \"price\": 74.7}, {\"symbol\": \"IBM\", \"date\": \"2005-10-01T00:00:00\", \"price\": 76.25}, {\"symbol\": \"IBM\", \"date\": \"2005-11-01T00:00:00\", \"price\": 82.98}, {\"symbol\": \"IBM\", \"date\": \"2005-12-01T00:00:00\", \"price\": 76.73}, {\"symbol\": \"IBM\", \"date\": \"2006-01-01T00:00:00\", \"price\": 75.89}, {\"symbol\": \"IBM\", \"date\": \"2006-02-01T00:00:00\", \"price\": 75.09}, {\"symbol\": \"IBM\", \"date\": \"2006-03-01T00:00:00\", \"price\": 77.17}, {\"symbol\": \"IBM\", \"date\": \"2006-04-01T00:00:00\", \"price\": 77.05}, {\"symbol\": \"IBM\", \"date\": \"2006-05-01T00:00:00\", \"price\": 75.04}, {\"symbol\": \"IBM\", \"date\": \"2006-06-01T00:00:00\", \"price\": 72.15}, {\"symbol\": \"IBM\", \"date\": \"2006-07-01T00:00:00\", \"price\": 72.7}, {\"symbol\": \"IBM\", \"date\": \"2006-08-01T00:00:00\", \"price\": 76.35}, {\"symbol\": \"IBM\", \"date\": \"2006-09-01T00:00:00\", \"price\": 77.26}, {\"symbol\": \"IBM\", \"date\": \"2006-10-01T00:00:00\", \"price\": 87.06}, {\"symbol\": \"IBM\", \"date\": \"2006-11-01T00:00:00\", \"price\": 86.95}, {\"symbol\": \"IBM\", \"date\": \"2006-12-01T00:00:00\", \"price\": 91.9}, {\"symbol\": \"IBM\", \"date\": \"2007-01-01T00:00:00\", \"price\": 93.79}, {\"symbol\": \"IBM\", \"date\": \"2007-02-01T00:00:00\", \"price\": 88.18}, {\"symbol\": \"IBM\", \"date\": \"2007-03-01T00:00:00\", \"price\": 89.44}, {\"symbol\": \"IBM\", \"date\": \"2007-04-01T00:00:00\", \"price\": 96.98}, {\"symbol\": \"IBM\", \"date\": \"2007-05-01T00:00:00\", \"price\": 101.54}, {\"symbol\": \"IBM\", \"date\": \"2007-06-01T00:00:00\", \"price\": 100.25}, {\"symbol\": \"IBM\", \"date\": \"2007-07-01T00:00:00\", \"price\": 105.4}, {\"symbol\": \"IBM\", \"date\": \"2007-08-01T00:00:00\", \"price\": 111.54}, {\"symbol\": \"IBM\", \"date\": \"2007-09-01T00:00:00\", \"price\": 112.6}, {\"symbol\": \"IBM\", \"date\": \"2007-10-01T00:00:00\", \"price\": 111.0}, {\"symbol\": \"IBM\", \"date\": \"2007-11-01T00:00:00\", \"price\": 100.9}, {\"symbol\": \"IBM\", \"date\": \"2007-12-01T00:00:00\", \"price\": 103.7}, {\"symbol\": \"IBM\", \"date\": \"2008-01-01T00:00:00\", \"price\": 102.75}, {\"symbol\": \"IBM\", \"date\": \"2008-02-01T00:00:00\", \"price\": 109.64}, {\"symbol\": \"IBM\", \"date\": \"2008-03-01T00:00:00\", \"price\": 110.87}, {\"symbol\": \"IBM\", \"date\": \"2008-04-01T00:00:00\", \"price\": 116.23}, {\"symbol\": \"IBM\", \"date\": \"2008-05-01T00:00:00\", \"price\": 125.14}, {\"symbol\": \"IBM\", \"date\": \"2008-06-01T00:00:00\", \"price\": 114.6}, {\"symbol\": \"IBM\", \"date\": \"2008-07-01T00:00:00\", \"price\": 123.74}, {\"symbol\": \"IBM\", \"date\": \"2008-08-01T00:00:00\", \"price\": 118.16}, {\"symbol\": \"IBM\", \"date\": \"2008-09-01T00:00:00\", \"price\": 113.53}, {\"symbol\": \"IBM\", \"date\": \"2008-10-01T00:00:00\", \"price\": 90.24}, {\"symbol\": \"IBM\", \"date\": \"2008-11-01T00:00:00\", \"price\": 79.65}, {\"symbol\": \"IBM\", \"date\": \"2008-12-01T00:00:00\", \"price\": 82.15}, {\"symbol\": \"IBM\", \"date\": \"2009-01-01T00:00:00\", \"price\": 89.46}, {\"symbol\": \"IBM\", \"date\": \"2009-02-01T00:00:00\", \"price\": 90.32}, {\"symbol\": \"IBM\", \"date\": \"2009-03-01T00:00:00\", \"price\": 95.09}, {\"symbol\": \"IBM\", \"date\": \"2009-04-01T00:00:00\", \"price\": 101.29}, {\"symbol\": \"IBM\", \"date\": \"2009-05-01T00:00:00\", \"price\": 104.85}, {\"symbol\": \"IBM\", \"date\": \"2009-06-01T00:00:00\", \"price\": 103.01}, {\"symbol\": \"IBM\", \"date\": \"2009-07-01T00:00:00\", \"price\": 116.34}, {\"symbol\": \"IBM\", \"date\": \"2009-08-01T00:00:00\", \"price\": 117.0}, {\"symbol\": \"IBM\", \"date\": \"2009-09-01T00:00:00\", \"price\": 118.55}, {\"symbol\": \"IBM\", \"date\": \"2009-10-01T00:00:00\", \"price\": 119.54}, {\"symbol\": \"IBM\", \"date\": \"2009-11-01T00:00:00\", \"price\": 125.79}, {\"symbol\": \"IBM\", \"date\": \"2009-12-01T00:00:00\", \"price\": 130.32}, {\"symbol\": \"IBM\", \"date\": \"2010-01-01T00:00:00\", \"price\": 121.85}, {\"symbol\": \"IBM\", \"date\": \"2010-02-01T00:00:00\", \"price\": 127.16}, {\"symbol\": \"IBM\", \"date\": \"2010-03-01T00:00:00\", \"price\": 125.55}, {\"symbol\": \"GOOG\", \"date\": \"2004-08-01T00:00:00\", \"price\": 102.37}, {\"symbol\": \"GOOG\", \"date\": \"2004-09-01T00:00:00\", \"price\": 129.6}, {\"symbol\": \"GOOG\", \"date\": \"2004-10-01T00:00:00\", \"price\": 190.64}, {\"symbol\": \"GOOG\", \"date\": \"2004-11-01T00:00:00\", \"price\": 181.98}, {\"symbol\": \"GOOG\", \"date\": \"2004-12-01T00:00:00\", \"price\": 192.79}, {\"symbol\": \"GOOG\", \"date\": \"2005-01-01T00:00:00\", \"price\": 195.62}, {\"symbol\": \"GOOG\", \"date\": \"2005-02-01T00:00:00\", \"price\": 187.99}, {\"symbol\": \"GOOG\", \"date\": \"2005-03-01T00:00:00\", \"price\": 180.51}, {\"symbol\": \"GOOG\", \"date\": \"2005-04-01T00:00:00\", \"price\": 220.0}, {\"symbol\": \"GOOG\", \"date\": \"2005-05-01T00:00:00\", \"price\": 277.27}, {\"symbol\": \"GOOG\", \"date\": \"2005-06-01T00:00:00\", \"price\": 294.15}, {\"symbol\": \"GOOG\", \"date\": \"2005-07-01T00:00:00\", \"price\": 287.76}, {\"symbol\": \"GOOG\", \"date\": \"2005-08-01T00:00:00\", \"price\": 286.0}, {\"symbol\": \"GOOG\", \"date\": \"2005-09-01T00:00:00\", \"price\": 316.46}, {\"symbol\": \"GOOG\", \"date\": \"2005-10-01T00:00:00\", \"price\": 372.14}, {\"symbol\": \"GOOG\", \"date\": \"2005-11-01T00:00:00\", \"price\": 404.91}, {\"symbol\": \"GOOG\", \"date\": \"2005-12-01T00:00:00\", \"price\": 414.86}, {\"symbol\": \"GOOG\", \"date\": \"2006-01-01T00:00:00\", \"price\": 432.66}, {\"symbol\": \"GOOG\", \"date\": \"2006-02-01T00:00:00\", \"price\": 362.62}, {\"symbol\": \"GOOG\", \"date\": \"2006-03-01T00:00:00\", \"price\": 390.0}, {\"symbol\": \"GOOG\", \"date\": \"2006-04-01T00:00:00\", \"price\": 417.94}, {\"symbol\": \"GOOG\", \"date\": \"2006-05-01T00:00:00\", \"price\": 371.82}, {\"symbol\": \"GOOG\", \"date\": \"2006-06-01T00:00:00\", \"price\": 419.33}, {\"symbol\": \"GOOG\", \"date\": \"2006-07-01T00:00:00\", \"price\": 386.6}, {\"symbol\": \"GOOG\", \"date\": \"2006-08-01T00:00:00\", \"price\": 378.53}, {\"symbol\": \"GOOG\", \"date\": \"2006-09-01T00:00:00\", \"price\": 401.9}, {\"symbol\": \"GOOG\", \"date\": \"2006-10-01T00:00:00\", \"price\": 476.39}, {\"symbol\": \"GOOG\", \"date\": \"2006-11-01T00:00:00\", \"price\": 484.81}, {\"symbol\": \"GOOG\", \"date\": \"2006-12-01T00:00:00\", \"price\": 460.48}, {\"symbol\": \"GOOG\", \"date\": \"2007-01-01T00:00:00\", \"price\": 501.5}, {\"symbol\": \"GOOG\", \"date\": \"2007-02-01T00:00:00\", \"price\": 449.45}, {\"symbol\": \"GOOG\", \"date\": \"2007-03-01T00:00:00\", \"price\": 458.16}, {\"symbol\": \"GOOG\", \"date\": \"2007-04-01T00:00:00\", \"price\": 471.38}, {\"symbol\": \"GOOG\", \"date\": \"2007-05-01T00:00:00\", \"price\": 497.91}, {\"symbol\": \"GOOG\", \"date\": \"2007-06-01T00:00:00\", \"price\": 522.7}, {\"symbol\": \"GOOG\", \"date\": \"2007-07-01T00:00:00\", \"price\": 510.0}, {\"symbol\": \"GOOG\", \"date\": \"2007-08-01T00:00:00\", \"price\": 515.25}, {\"symbol\": \"GOOG\", \"date\": \"2007-09-01T00:00:00\", \"price\": 567.27}, {\"symbol\": \"GOOG\", \"date\": \"2007-10-01T00:00:00\", \"price\": 707.0}, {\"symbol\": \"GOOG\", \"date\": \"2007-11-01T00:00:00\", \"price\": 693.0}, {\"symbol\": \"GOOG\", \"date\": \"2007-12-01T00:00:00\", \"price\": 691.48}, {\"symbol\": \"GOOG\", \"date\": \"2008-01-01T00:00:00\", \"price\": 564.3}, {\"symbol\": \"GOOG\", \"date\": \"2008-02-01T00:00:00\", \"price\": 471.18}, {\"symbol\": \"GOOG\", \"date\": \"2008-03-01T00:00:00\", \"price\": 440.47}, {\"symbol\": \"GOOG\", \"date\": \"2008-04-01T00:00:00\", \"price\": 574.29}, {\"symbol\": \"GOOG\", \"date\": \"2008-05-01T00:00:00\", \"price\": 585.8}, {\"symbol\": \"GOOG\", \"date\": \"2008-06-01T00:00:00\", \"price\": 526.42}, {\"symbol\": \"GOOG\", \"date\": \"2008-07-01T00:00:00\", \"price\": 473.75}, {\"symbol\": \"GOOG\", \"date\": \"2008-08-01T00:00:00\", \"price\": 463.29}, {\"symbol\": \"GOOG\", \"date\": \"2008-09-01T00:00:00\", \"price\": 400.52}, {\"symbol\": \"GOOG\", \"date\": \"2008-10-01T00:00:00\", \"price\": 359.36}, {\"symbol\": \"GOOG\", \"date\": \"2008-11-01T00:00:00\", \"price\": 292.96}, {\"symbol\": \"GOOG\", \"date\": \"2008-12-01T00:00:00\", \"price\": 307.65}, {\"symbol\": \"GOOG\", \"date\": \"2009-01-01T00:00:00\", \"price\": 338.53}, {\"symbol\": \"GOOG\", \"date\": \"2009-02-01T00:00:00\", \"price\": 337.99}, {\"symbol\": \"GOOG\", \"date\": \"2009-03-01T00:00:00\", \"price\": 348.06}, {\"symbol\": \"GOOG\", \"date\": \"2009-04-01T00:00:00\", \"price\": 395.97}, {\"symbol\": \"GOOG\", \"date\": \"2009-05-01T00:00:00\", \"price\": 417.23}, {\"symbol\": \"GOOG\", \"date\": \"2009-06-01T00:00:00\", \"price\": 421.59}, {\"symbol\": \"GOOG\", \"date\": \"2009-07-01T00:00:00\", \"price\": 443.05}, {\"symbol\": \"GOOG\", \"date\": \"2009-08-01T00:00:00\", \"price\": 461.67}, {\"symbol\": \"GOOG\", \"date\": \"2009-09-01T00:00:00\", \"price\": 495.85}, {\"symbol\": \"GOOG\", \"date\": \"2009-10-01T00:00:00\", \"price\": 536.12}, {\"symbol\": \"GOOG\", \"date\": \"2009-11-01T00:00:00\", \"price\": 583.0}, {\"symbol\": \"GOOG\", \"date\": \"2009-12-01T00:00:00\", \"price\": 619.98}, {\"symbol\": \"GOOG\", \"date\": \"2010-01-01T00:00:00\", \"price\": 529.94}, {\"symbol\": \"GOOG\", \"date\": \"2010-02-01T00:00:00\", \"price\": 526.8}, {\"symbol\": \"GOOG\", \"date\": \"2010-03-01T00:00:00\", \"price\": 560.19}, {\"symbol\": \"AAPL\", \"date\": \"2000-01-01T00:00:00\", \"price\": 25.94}, {\"symbol\": \"AAPL\", \"date\": \"2000-02-01T00:00:00\", \"price\": 28.66}, {\"symbol\": \"AAPL\", \"date\": \"2000-03-01T00:00:00\", \"price\": 33.95}, {\"symbol\": \"AAPL\", \"date\": \"2000-04-01T00:00:00\", \"price\": 31.01}, {\"symbol\": \"AAPL\", \"date\": \"2000-05-01T00:00:00\", \"price\": 21.0}, {\"symbol\": \"AAPL\", \"date\": \"2000-06-01T00:00:00\", \"price\": 26.19}, {\"symbol\": \"AAPL\", \"date\": \"2000-07-01T00:00:00\", \"price\": 25.41}, {\"symbol\": \"AAPL\", \"date\": \"2000-08-01T00:00:00\", \"price\": 30.47}, {\"symbol\": \"AAPL\", \"date\": \"2000-09-01T00:00:00\", \"price\": 12.88}, {\"symbol\": \"AAPL\", \"date\": \"2000-10-01T00:00:00\", \"price\": 9.78}, {\"symbol\": \"AAPL\", \"date\": \"2000-11-01T00:00:00\", \"price\": 8.25}, {\"symbol\": \"AAPL\", \"date\": \"2000-12-01T00:00:00\", \"price\": 7.44}, {\"symbol\": \"AAPL\", \"date\": \"2001-01-01T00:00:00\", \"price\": 10.81}, {\"symbol\": \"AAPL\", \"date\": \"2001-02-01T00:00:00\", \"price\": 9.12}, {\"symbol\": \"AAPL\", \"date\": \"2001-03-01T00:00:00\", \"price\": 11.03}, {\"symbol\": \"AAPL\", \"date\": \"2001-04-01T00:00:00\", \"price\": 12.74}, {\"symbol\": \"AAPL\", \"date\": \"2001-05-01T00:00:00\", \"price\": 9.98}, {\"symbol\": \"AAPL\", \"date\": \"2001-06-01T00:00:00\", \"price\": 11.62}, {\"symbol\": \"AAPL\", \"date\": \"2001-07-01T00:00:00\", \"price\": 9.4}, {\"symbol\": \"AAPL\", \"date\": \"2001-08-01T00:00:00\", \"price\": 9.27}, {\"symbol\": \"AAPL\", \"date\": \"2001-09-01T00:00:00\", \"price\": 7.76}, {\"symbol\": \"AAPL\", \"date\": \"2001-10-01T00:00:00\", \"price\": 8.78}, {\"symbol\": \"AAPL\", \"date\": \"2001-11-01T00:00:00\", \"price\": 10.65}, {\"symbol\": \"AAPL\", \"date\": \"2001-12-01T00:00:00\", \"price\": 10.95}, {\"symbol\": \"AAPL\", \"date\": \"2002-01-01T00:00:00\", \"price\": 12.36}, {\"symbol\": \"AAPL\", \"date\": \"2002-02-01T00:00:00\", \"price\": 10.85}, {\"symbol\": \"AAPL\", \"date\": \"2002-03-01T00:00:00\", \"price\": 11.84}, {\"symbol\": \"AAPL\", \"date\": \"2002-04-01T00:00:00\", \"price\": 12.14}, {\"symbol\": \"AAPL\", \"date\": \"2002-05-01T00:00:00\", \"price\": 11.65}, {\"symbol\": \"AAPL\", \"date\": \"2002-06-01T00:00:00\", \"price\": 8.86}, {\"symbol\": \"AAPL\", \"date\": \"2002-07-01T00:00:00\", \"price\": 7.63}, {\"symbol\": \"AAPL\", \"date\": \"2002-08-01T00:00:00\", \"price\": 7.38}, {\"symbol\": \"AAPL\", \"date\": \"2002-09-01T00:00:00\", \"price\": 7.25}, {\"symbol\": \"AAPL\", \"date\": \"2002-10-01T00:00:00\", \"price\": 8.03}, {\"symbol\": \"AAPL\", \"date\": \"2002-11-01T00:00:00\", \"price\": 7.75}, {\"symbol\": \"AAPL\", \"date\": \"2002-12-01T00:00:00\", \"price\": 7.16}, {\"symbol\": \"AAPL\", \"date\": \"2003-01-01T00:00:00\", \"price\": 7.18}, {\"symbol\": \"AAPL\", \"date\": \"2003-02-01T00:00:00\", \"price\": 7.51}, {\"symbol\": \"AAPL\", \"date\": \"2003-03-01T00:00:00\", \"price\": 7.07}, {\"symbol\": \"AAPL\", \"date\": \"2003-04-01T00:00:00\", \"price\": 7.11}, {\"symbol\": \"AAPL\", \"date\": \"2003-05-01T00:00:00\", \"price\": 8.98}, {\"symbol\": \"AAPL\", \"date\": \"2003-06-01T00:00:00\", \"price\": 9.53}, {\"symbol\": \"AAPL\", \"date\": \"2003-07-01T00:00:00\", \"price\": 10.54}, {\"symbol\": \"AAPL\", \"date\": \"2003-08-01T00:00:00\", \"price\": 11.31}, {\"symbol\": \"AAPL\", \"date\": \"2003-09-01T00:00:00\", \"price\": 10.36}, {\"symbol\": \"AAPL\", \"date\": \"2003-10-01T00:00:00\", \"price\": 11.44}, {\"symbol\": \"AAPL\", \"date\": \"2003-11-01T00:00:00\", \"price\": 10.45}, {\"symbol\": \"AAPL\", \"date\": \"2003-12-01T00:00:00\", \"price\": 10.69}, {\"symbol\": \"AAPL\", \"date\": \"2004-01-01T00:00:00\", \"price\": 11.28}, {\"symbol\": \"AAPL\", \"date\": \"2004-02-01T00:00:00\", \"price\": 11.96}, {\"symbol\": \"AAPL\", \"date\": \"2004-03-01T00:00:00\", \"price\": 13.52}, {\"symbol\": \"AAPL\", \"date\": \"2004-04-01T00:00:00\", \"price\": 12.89}, {\"symbol\": \"AAPL\", \"date\": \"2004-05-01T00:00:00\", \"price\": 14.03}, {\"symbol\": \"AAPL\", \"date\": \"2004-06-01T00:00:00\", \"price\": 16.27}, {\"symbol\": \"AAPL\", \"date\": \"2004-07-01T00:00:00\", \"price\": 16.17}, {\"symbol\": \"AAPL\", \"date\": \"2004-08-01T00:00:00\", \"price\": 17.25}, {\"symbol\": \"AAPL\", \"date\": \"2004-09-01T00:00:00\", \"price\": 19.38}, {\"symbol\": \"AAPL\", \"date\": \"2004-10-01T00:00:00\", \"price\": 26.2}, {\"symbol\": \"AAPL\", \"date\": \"2004-11-01T00:00:00\", \"price\": 33.53}, {\"symbol\": \"AAPL\", \"date\": \"2004-12-01T00:00:00\", \"price\": 32.2}, {\"symbol\": \"AAPL\", \"date\": \"2005-01-01T00:00:00\", \"price\": 38.45}, {\"symbol\": \"AAPL\", \"date\": \"2005-02-01T00:00:00\", \"price\": 44.86}, {\"symbol\": \"AAPL\", \"date\": \"2005-03-01T00:00:00\", \"price\": 41.67}, {\"symbol\": \"AAPL\", \"date\": \"2005-04-01T00:00:00\", \"price\": 36.06}, {\"symbol\": \"AAPL\", \"date\": \"2005-05-01T00:00:00\", \"price\": 39.76}, {\"symbol\": \"AAPL\", \"date\": \"2005-06-01T00:00:00\", \"price\": 36.81}, {\"symbol\": \"AAPL\", \"date\": \"2005-07-01T00:00:00\", \"price\": 42.65}, {\"symbol\": \"AAPL\", \"date\": \"2005-08-01T00:00:00\", \"price\": 46.89}, {\"symbol\": \"AAPL\", \"date\": \"2005-09-01T00:00:00\", \"price\": 53.61}, {\"symbol\": \"AAPL\", \"date\": \"2005-10-01T00:00:00\", \"price\": 57.59}, {\"symbol\": \"AAPL\", \"date\": \"2005-11-01T00:00:00\", \"price\": 67.82}, {\"symbol\": \"AAPL\", \"date\": \"2005-12-01T00:00:00\", \"price\": 71.89}, {\"symbol\": \"AAPL\", \"date\": \"2006-01-01T00:00:00\", \"price\": 75.51}, {\"symbol\": \"AAPL\", \"date\": \"2006-02-01T00:00:00\", \"price\": 68.49}, {\"symbol\": \"AAPL\", \"date\": \"2006-03-01T00:00:00\", \"price\": 62.72}, {\"symbol\": \"AAPL\", \"date\": \"2006-04-01T00:00:00\", \"price\": 70.39}, {\"symbol\": \"AAPL\", \"date\": \"2006-05-01T00:00:00\", \"price\": 59.77}, {\"symbol\": \"AAPL\", \"date\": \"2006-06-01T00:00:00\", \"price\": 57.27}, {\"symbol\": \"AAPL\", \"date\": \"2006-07-01T00:00:00\", \"price\": 67.96}, {\"symbol\": \"AAPL\", \"date\": \"2006-08-01T00:00:00\", \"price\": 67.85}, {\"symbol\": \"AAPL\", \"date\": \"2006-09-01T00:00:00\", \"price\": 76.98}, {\"symbol\": \"AAPL\", \"date\": \"2006-10-01T00:00:00\", \"price\": 81.08}, {\"symbol\": \"AAPL\", \"date\": \"2006-11-01T00:00:00\", \"price\": 91.66}, {\"symbol\": \"AAPL\", \"date\": \"2006-12-01T00:00:00\", \"price\": 84.84}, {\"symbol\": \"AAPL\", \"date\": \"2007-01-01T00:00:00\", \"price\": 85.73}, {\"symbol\": \"AAPL\", \"date\": \"2007-02-01T00:00:00\", \"price\": 84.61}, {\"symbol\": \"AAPL\", \"date\": \"2007-03-01T00:00:00\", \"price\": 92.91}, {\"symbol\": \"AAPL\", \"date\": \"2007-04-01T00:00:00\", \"price\": 99.8}, {\"symbol\": \"AAPL\", \"date\": \"2007-05-01T00:00:00\", \"price\": 121.19}, {\"symbol\": \"AAPL\", \"date\": \"2007-06-01T00:00:00\", \"price\": 122.04}, {\"symbol\": \"AAPL\", \"date\": \"2007-07-01T00:00:00\", \"price\": 131.76}, {\"symbol\": \"AAPL\", \"date\": \"2007-08-01T00:00:00\", \"price\": 138.48}, {\"symbol\": \"AAPL\", \"date\": \"2007-09-01T00:00:00\", \"price\": 153.47}, {\"symbol\": \"AAPL\", \"date\": \"2007-10-01T00:00:00\", \"price\": 189.95}, {\"symbol\": \"AAPL\", \"date\": \"2007-11-01T00:00:00\", \"price\": 182.22}, {\"symbol\": \"AAPL\", \"date\": \"2007-12-01T00:00:00\", \"price\": 198.08}, {\"symbol\": \"AAPL\", \"date\": \"2008-01-01T00:00:00\", \"price\": 135.36}, {\"symbol\": \"AAPL\", \"date\": \"2008-02-01T00:00:00\", \"price\": 125.02}, {\"symbol\": \"AAPL\", \"date\": \"2008-03-01T00:00:00\", \"price\": 143.5}, {\"symbol\": \"AAPL\", \"date\": \"2008-04-01T00:00:00\", \"price\": 173.95}, {\"symbol\": \"AAPL\", \"date\": \"2008-05-01T00:00:00\", \"price\": 188.75}, {\"symbol\": \"AAPL\", \"date\": \"2008-06-01T00:00:00\", \"price\": 167.44}, {\"symbol\": \"AAPL\", \"date\": \"2008-07-01T00:00:00\", \"price\": 158.95}, {\"symbol\": \"AAPL\", \"date\": \"2008-08-01T00:00:00\", \"price\": 169.53}, {\"symbol\": \"AAPL\", \"date\": \"2008-09-01T00:00:00\", \"price\": 113.66}, {\"symbol\": \"AAPL\", \"date\": \"2008-10-01T00:00:00\", \"price\": 107.59}, {\"symbol\": \"AAPL\", \"date\": \"2008-11-01T00:00:00\", \"price\": 92.67}, {\"symbol\": \"AAPL\", \"date\": \"2008-12-01T00:00:00\", \"price\": 85.35}, {\"symbol\": \"AAPL\", \"date\": \"2009-01-01T00:00:00\", \"price\": 90.13}, {\"symbol\": \"AAPL\", \"date\": \"2009-02-01T00:00:00\", \"price\": 89.31}, {\"symbol\": \"AAPL\", \"date\": \"2009-03-01T00:00:00\", \"price\": 105.12}, {\"symbol\": \"AAPL\", \"date\": \"2009-04-01T00:00:00\", \"price\": 125.83}, {\"symbol\": \"AAPL\", \"date\": \"2009-05-01T00:00:00\", \"price\": 135.81}, {\"symbol\": \"AAPL\", \"date\": \"2009-06-01T00:00:00\", \"price\": 142.43}, {\"symbol\": \"AAPL\", \"date\": \"2009-07-01T00:00:00\", \"price\": 163.39}, {\"symbol\": \"AAPL\", \"date\": \"2009-08-01T00:00:00\", \"price\": 168.21}, {\"symbol\": \"AAPL\", \"date\": \"2009-09-01T00:00:00\", \"price\": 185.35}, {\"symbol\": \"AAPL\", \"date\": \"2009-10-01T00:00:00\", \"price\": 188.5}, {\"symbol\": \"AAPL\", \"date\": \"2009-11-01T00:00:00\", \"price\": 199.91}, {\"symbol\": \"AAPL\", \"date\": \"2009-12-01T00:00:00\", \"price\": 210.73}, {\"symbol\": \"AAPL\", \"date\": \"2010-01-01T00:00:00\", \"price\": 192.06}, {\"symbol\": \"AAPL\", \"date\": \"2010-02-01T00:00:00\", \"price\": 204.62}, {\"symbol\": \"AAPL\", \"date\": \"2010-03-01T00:00:00\", \"price\": 223.02}]}}, {\"mode\": \"vega-lite\"});\n",
              "</script>"
            ]
          },
          "metadata": {
            "tags": []
          },
          "execution_count": 3
        }
      ]
    },
    {
      "cell_type": "markdown",
      "metadata": {
        "id": "gG31T3IxG9yH"
      },
      "source": [
        "# Runtimes"
      ]
    },
    {
      "cell_type": "markdown",
      "metadata": {
        "id": "XOYTfKojIxr_"
      },
      "source": [
        "Each Colab instance (runtime) runs on an individual Virtual Machine(VM). "
      ]
    },
    {
      "cell_type": "markdown",
      "metadata": {
        "id": "iAC5do2bLW_b"
      },
      "source": [
        "To view active sessions, select Runtime > Manage Sessions. \n",
        "\n",
        "Here you will be able to view all your open notebooks (and terminate them)."
      ]
    },
    {
      "cell_type": "markdown",
      "metadata": {
        "id": "DaDS10tyKUQ6"
      },
      "source": [
        "---\n",
        "By Default, Colab instances have access to CPUs, however notebooks have access to GPU and TPU resources. "
      ]
    },
    {
      "cell_type": "markdown",
      "metadata": {
        "id": "Pbl9Ic0fMcOm"
      },
      "source": [
        "To initialize a runtime with a GPU, \n",
        "\n",
        "\n",
        "1.   Select 'Runtime' > 'Change Runtime Type'\n",
        "2.   Select 'GPU' in the drop down menu and click 'Save'\n",
        "\n"
      ]
    },
    {
      "cell_type": "markdown",
      "metadata": {
        "id": "Am7Zk1vmOPSU"
      },
      "source": [
        "We'll test the GPU using the [example](https://colab.research.google.com/notebooks/gpu.ipynb) provided by colab."
      ]
    },
    {
      "cell_type": "code",
      "metadata": {
        "colab": {
          "base_uri": "https://localhost:8080/"
        },
        "id": "2-9u4NL6No11",
        "tags": [
          "no-execute"
        ],
        "outputId": "808cd1e1-c292-4ef9-8be3-80239a6d0f82"
      },
      "source": [
        "%tensorflow_version 2.x\n",
        "import tensorflow as tf\n",
        "import timeit\n",
        "\n",
        "device_name = tf.test.gpu_device_name()\n",
        "if device_name != '/device:GPU:0':\n",
        "  print(\n",
        "      '\\n\\nThis error most likely means that this notebook is not '\n",
        "      'configured to use a GPU.  Change this in Notebook Settings via the '\n",
        "      'command palette (cmd/ctrl-shift-P) or the Edit menu.\\n\\n')\n",
        "  raise SystemError('GPU device not found')\n",
        "\n",
        "def cpu():\n",
        "  with tf.device('/cpu:0'):\n",
        "    random_image_cpu = tf.random.normal((100, 100, 100, 3))\n",
        "    net_cpu = tf.keras.layers.Conv2D(32, 7)(random_image_cpu)\n",
        "    return tf.math.reduce_sum(net_cpu)\n",
        "\n",
        "def gpu():\n",
        "  with tf.device('/device:GPU:0'):\n",
        "    random_image_gpu = tf.random.normal((100, 100, 100, 3))\n",
        "    net_gpu = tf.keras.layers.Conv2D(32, 7)(random_image_gpu)\n",
        "    return tf.math.reduce_sum(net_gpu)\n",
        "  \n",
        "# We run each op once to warm up; see: https://stackoverflow.com/a/45067900\n",
        "cpu()\n",
        "gpu()\n",
        "\n",
        "# Run the op several times.\n",
        "print('Time (s) to convolve 32x7x7x3 filter over random 100x100x100x3 images '\n",
        "      '(batch x height x width x channel). Sum of five runs.')\n",
        "print('CPU (s):')\n",
        "cpu_time = timeit.timeit('cpu()', number=5, setup=\"from __main__ import cpu\")\n",
        "print(cpu_time)\n",
        "print('GPU (s):')\n",
        "gpu_time = timeit.timeit('gpu()', number=5, setup=\"from __main__ import gpu\")\n",
        "print(gpu_time)\n",
        "print('GPU speedup over CPU: {}x'.format(int(cpu_time/gpu_time)))"
      ],
      "execution_count": 1,
      "outputs": [
        {
          "output_type": "stream",
          "text": [
            "Time (s) to convolve 32x7x7x3 filter over random 100x100x100x3 images (batch x height x width x channel). Sum of five runs.\n",
            "CPU (s):\n",
            "1.4346322850000064\n",
            "GPU (s):\n",
            "0.01777368599999818\n",
            "GPU speedup over CPU: 80x\n"
          ],
          "name": "stdout"
        }
      ]
    },
    {
      "cell_type": "markdown",
      "metadata": {
        "id": "XJsEWVbRXoHw"
      },
      "source": [
        "# Install Conda using conda-colab\n",
        "Google Colab does contain a pre-installed version of conda. Conda is a package manager and environment manager.\n",
        "\n",
        "This will allow you to use conda to install packages"
      ]
    },
    {
      "cell_type": "code",
      "metadata": {
        "id": "JpDm2ypyZfMD",
        "tags": [
          "no-execute"
        ]
      },
      "source": [
        "!which conda"
      ],
      "execution_count": 1,
      "outputs": []
    },
    {
      "cell_type": "markdown",
      "metadata": {
        "id": "faXB6tMOcT2z"
      },
      "source": [
        "To simplify the conda installation, we use [condacolab](https://pypi.org/project/condacolab/). "
      ]
    },
    {
      "cell_type": "code",
      "metadata": {
        "colab": {
          "base_uri": "https://localhost:8080/"
        },
        "id": "pOoEqgtKQL7X",
        "tags": [
          "no-execute"
        ],
        "outputId": "ab157e6c-2870-4e80-fc72-ac7a3a4a1a09"
      },
      "source": [
        "!pip install condacolab"
      ],
      "execution_count": 2,
      "outputs": [
        {
          "output_type": "stream",
          "text": [
            "Collecting condacolab\n",
            "  Downloading condacolab-0.1.3-py3-none-any.whl (6.8 kB)\n",
            "Installing collected packages: condacolab\n",
            "Successfully installed condacolab-0.1.3\n"
          ],
          "name": "stdout"
        }
      ]
    },
    {
      "cell_type": "code",
      "metadata": {
        "colab": {
          "base_uri": "https://localhost:8080/"
        },
        "id": "yqiixsVMQPsq",
        "tags": [
          "no-execute"
        ],
        "outputId": "9e8a0d53-d087-468b-8738-cefd65f63a76"
      },
      "source": [
        "import condacolab\n",
        "condacolab.install()"
      ],
      "execution_count": 3,
      "outputs": [
        {
          "output_type": "stream",
          "text": [
            "⏬ Downloading https://github.com/jaimergp/miniforge/releases/latest/download/Mambaforge-colab-Linux-x86_64.sh...\n",
            "📦 Installing...\n",
            "📌 Adjusting configuration...\n",
            "🩹 Patching environment...\n",
            "⏲ Done in 0:00:40\n",
            "🔁 Restarting kernel...\n"
          ],
          "name": "stdout"
        }
      ]
    },
    {
      "cell_type": "markdown",
      "metadata": {
        "id": "DSetNfuXZh67"
      },
      "source": [
        "After running condacolab.install(), conda and mamba are installed. Conda and Mamba are functionally equivalent, however conda is written in python, whilst Mamba is written in C. \n",
        "\n",
        "In our lesson, we use Mamba to leverage its speed (as compared to Conda). However, we note that Mamba can be more prone to bugs, as it is relatively new and less popular."
      ]
    },
    {
      "cell_type": "code",
      "metadata": {
        "colab": {
          "base_uri": "https://localhost:8080/"
        },
        "id": "u61ZCG7ubOTF",
        "tags": [
          "no-execute"
        ],
        "outputId": "0389ca6e-6629-46c4-dc41-6b752e69e942"
      },
      "source": [
        "!which conda\n",
        "!which mamba"
      ],
      "execution_count": 1,
      "outputs": [
        {
          "output_type": "stream",
          "text": [
            "/usr/local/bin/conda\n",
            "/usr/local/bin/mamba\n"
          ],
          "name": "stdout"
        }
      ]
    },
    {
      "cell_type": "markdown",
      "metadata": {
        "id": "m6xH_dS_XszC"
      },
      "source": [
        "For compatibility with colab, we will need to ensure the numpy version is unchanged when we install packages (such as pymatgen).\n",
        "\n",
        "To identify the numpy version factory installed on colab:"
      ]
    },
    {
      "cell_type": "code",
      "metadata": {
        "colab": {
          "base_uri": "https://localhost:8080/"
        },
        "id": "9ZwllzNPVg1r",
        "tags": [
          "no-execute"
        ],
        "outputId": "2148ff21-d57d-41eb-b9d2-90bc3058df5c"
      },
      "source": [
        "import numpy as np\n",
        "print(np.__version__)"
      ],
      "execution_count": 3,
      "outputs": [
        {
          "output_type": "stream",
          "text": [
            "1.19.5\n"
          ],
          "name": "stdout"
        }
      ]
    },
    {
      "cell_type": "markdown",
      "metadata": {
        "id": "jmrwl3RcX0d7"
      },
      "source": [
        "The current version of numpy is v1.19.5, thus we specify mamba to install this specific version."
      ]
    },
    {
      "cell_type": "code",
      "metadata": {
        "colab": {
          "base_uri": "https://localhost:8080/"
        },
        "id": "Q4JEeqCUSZcA",
        "tags": [
          "no-execute"
        ],
        "outputId": "d8782b81-38f3-486c-980d-2922670b0b2a"
      },
      "source": [
        "!mamba install -q -c conda-forge pymatgen numpy=1.19.5 -y"
      ],
      "execution_count": 4,
      "outputs": [
        {
          "output_type": "stream",
          "text": [
            "  Package                Version  Build                       Channel                    Size\n",
            "───────────────────────────────────────────────────────────────────────────────────────────────\n",
            "  Install:\n",
            "───────────────────────────────────────────────────────────────────────────────────────────────\n",
            "\n",
            "\u001b[32m  apscheduler       \u001b[00m       3.7.0  py37h89c1867_0              conda-forge/linux-64      81 KB\n",
            "\u001b[32m  ase               \u001b[00m      3.22.0  pyhd8ed1ab_0                conda-forge/noarch         2 MB\n",
            "\u001b[32m  beautifulsoup4    \u001b[00m       4.9.3  pyhb0f4dca_0                conda-forge/noarch        86 KB\n",
            "\u001b[32m  cftime            \u001b[00m       1.5.0  py37h6f94858_0              conda-forge/linux-64     224 KB\n",
            "\u001b[32m  click             \u001b[00m       8.0.1  py37h89c1867_0              conda-forge/linux-64     145 KB\n",
            "\u001b[32m  curl              \u001b[00m      7.75.0  h979ede3_0                  conda-forge/linux-64     147 KB\n",
            "\u001b[32m  cycler            \u001b[00m      0.10.0  py_2                        conda-forge/noarch         9 KB\n",
            "\u001b[32m  dataclasses       \u001b[00m         0.8  pyhc8e2a94_1                conda-forge/noarch         7 KB\n",
            "\u001b[32m  decorator         \u001b[00m       4.4.2  py_0                        conda-forge/noarch        11 KB\n",
            "\u001b[32m  double-conversion \u001b[00m       3.1.5  he1b5a44_2                  conda-forge/linux-64      85 KB\n",
            "\u001b[32m  eigen             \u001b[00m       3.3.9  h4bd325d_1                  conda-forge/linux-64     970 KB\n",
            "\u001b[32m  expat             \u001b[00m       2.4.1  h9c3ff4c_0                  conda-forge/linux-64     182 KB\n",
            "\u001b[32m  ffmpeg            \u001b[00m       4.3.2  hca11adc_0                  conda-forge/linux-64      92 MB\n",
            "\u001b[32m  flask             \u001b[00m       2.0.1  pyhd8ed1ab_0                conda-forge/noarch        70 KB\n",
            "\u001b[32m  freetype          \u001b[00m      2.10.4  h0708190_1                  conda-forge/linux-64     890 KB\n",
            "\u001b[32m  future            \u001b[00m      0.18.2  py37h89c1867_3              conda-forge/linux-64     714 KB\n",
            "\u001b[32m  gettext           \u001b[00m      0.21.0  hf68c758_0                  pkgs/main/linux-64         3 MB\n",
            "\u001b[32m  giflib            \u001b[00m       5.2.1  h516909a_2                  conda-forge/linux-64      80 KB\n",
            "\u001b[32m  gl2ps             \u001b[00m       1.4.2  he06d7ca_0                  conda-forge/linux-64     134 KB\n",
            "\u001b[32m  glew              \u001b[00m       2.1.0  h9c3ff4c_2                  conda-forge/linux-64     647 KB\n",
            "\u001b[32m  gmp               \u001b[00m       6.2.1  h58526e2_0                  conda-forge/linux-64     806 KB\n",
            "\u001b[32m  gmpy2             \u001b[00m     2.1.0b5  py37h025e8b9_0              conda-forge/linux-64     207 KB\n",
            "\u001b[32m  gnutls            \u001b[00m      3.6.15  he1e5248_0                  pkgs/main/linux-64         1 MB\n",
            "\u001b[32m  hdf4              \u001b[00m      4.2.15  h10796ff_3                  conda-forge/linux-64     950 KB\n",
            "\u001b[32m  hdf5              \u001b[00m      1.10.6  nompi_h6a2412b_1114         conda-forge/linux-64       3 MB\n",
            "\u001b[32m  importlib-metadata\u001b[00m       4.6.3  py37h89c1867_0              conda-forge/linux-64      31 KB\n",
            "\u001b[32m  itsdangerous      \u001b[00m       2.0.1  pyhd8ed1ab_0                conda-forge/noarch        17 KB\n",
            "\u001b[32m  jinja2            \u001b[00m       3.0.1  pyhd8ed1ab_0                conda-forge/noarch        99 KB\n",
            "\u001b[32m  jpeg              \u001b[00m          9d  h516909a_0                  conda-forge/linux-64     266 KB\n",
            "\u001b[32m  jsoncpp           \u001b[00m       1.9.4  h4bd325d_3                  conda-forge/linux-64     262 KB\n",
            "\u001b[32m  kiwisolver        \u001b[00m       1.3.1  py37h2527ec5_1              conda-forge/linux-64      78 KB\n",
            "\u001b[32m  lame              \u001b[00m       3.100  h14c3975_1001               conda-forge/linux-64     498 KB\n",
            "\u001b[32m  latexcodec        \u001b[00m       2.0.1  pyh9f0ad1d_0                conda-forge/noarch        18 KB\n",
            "\u001b[32m  lcms2             \u001b[00m        2.12  hddcbb42_0                  conda-forge/linux-64     443 KB\n",
            "\u001b[32m  libblas           \u001b[00m       3.9.0  10_openblas                 conda-forge/linux-64      11 KB\n",
            "\u001b[32m  libcblas          \u001b[00m       3.9.0  10_openblas                 conda-forge/linux-64      11 KB\n",
            "\u001b[32m  libgfortran-ng    \u001b[00m      11.1.0  h69a702a_8                  conda-forge/linux-64      19 KB\n",
            "\u001b[32m  libgfortran5      \u001b[00m      11.1.0  h6c583b3_8                  conda-forge/linux-64       2 MB\n",
            "\u001b[32m  libglu            \u001b[00m       9.0.0  he1b5a44_1001               conda-forge/linux-64     413 KB\n",
            "\u001b[32m  libidn2           \u001b[00m       2.3.2  h7f98852_0                  conda-forge/linux-64      98 KB\n",
            "\u001b[32m  liblapack         \u001b[00m       3.9.0  10_openblas                 conda-forge/linux-64      11 KB\n",
            "\u001b[32m  libnetcdf         \u001b[00m       4.7.4  nompi_h56d31a8_107          conda-forge/linux-64       1 MB\n",
            "\u001b[32m  libogg            \u001b[00m       1.3.5  h27cfd23_1                  pkgs/main/linux-64       199 KB\n",
            "\u001b[32m  libopenblas       \u001b[00m      0.3.17  pthreads_h8fe5266_1         conda-forge/linux-64       9 MB\n",
            "\u001b[32m  libpng            \u001b[00m      1.6.37  hed695b0_2                  conda-forge/linux-64     359 KB\n",
            "\u001b[32m  libtasn1          \u001b[00m      4.16.0  h27cfd23_0                  pkgs/main/linux-64        58 KB\n",
            "\u001b[32m  libtheora         \u001b[00m       1.1.1  h7f98852_1005               conda-forge/linux-64     651 KB\n",
            "\u001b[32m  libtiff           \u001b[00m       4.2.0  hbd63e13_2                  conda-forge/linux-64     639 KB\n",
            "\u001b[32m  libunistring      \u001b[00m      0.9.10  h14c3975_0                  conda-forge/linux-64       1 MB\n",
            "\u001b[32m  libuuid           \u001b[00m      2.32.1  h14c3975_1000               conda-forge/linux-64      26 KB\n",
            "\u001b[32m  libvorbis         \u001b[00m       1.3.7  he1b5a44_0                  conda-forge/linux-64     287 KB\n",
            "\u001b[32m  libwebp           \u001b[00m       1.2.0  h3452ae3_0                  conda-forge/linux-64      85 KB\n",
            "\u001b[32m  libwebp-base      \u001b[00m       1.2.0  h7f98852_2                  conda-forge/linux-64     815 KB\n",
            "\u001b[32m  libxcb            \u001b[00m        1.14  h7b6447c_0                  pkgs/main/linux-64       505 KB\n",
            "\u001b[32m  loguru            \u001b[00m       0.5.3  py37hc8dfbb8_2              conda-forge/linux-64      85 KB\n",
            "\u001b[32m  markupsafe        \u001b[00m       2.0.1  py37h5e8e339_0              conda-forge/linux-64      22 KB\n",
            "\u001b[32m  matplotlib-base   \u001b[00m       3.4.2  py37hdd32ed1_0              conda-forge/linux-64       7 MB\n",
            "\u001b[32m  monty             \u001b[00m    2021.7.8  pyhd8ed1ab_0                conda-forge/noarch        37 KB\n",
            "\u001b[32m  mpc               \u001b[00m       1.1.0  h04dde30_1009               conda-forge/linux-64     105 KB\n",
            "\u001b[32m  mpfr              \u001b[00m       4.1.0  h9202a9a_0                  conda-forge/linux-64       3 MB\n",
            "\u001b[32m  mpmath            \u001b[00m       1.2.1  pyhd8ed1ab_0                conda-forge/noarch       437 KB\n",
            "\u001b[32m  netcdf4           \u001b[00m       1.5.6  nompi_py37hf7b6e46_102      conda-forge/linux-64     528 KB\n",
            "\u001b[32m  nettle            \u001b[00m       3.7.3  hbbd107a_1                  pkgs/main/linux-64       809 KB\n",
            "\u001b[32m  networkx          \u001b[00m       2.6.2  pyhd8ed1ab_0                conda-forge/noarch         1 MB\n",
            "\u001b[32m  numpy             \u001b[00m      1.19.5  py37h038b26d_2              conda-forge/linux-64       5 MB\n",
            "\u001b[32m  olefile           \u001b[00m        0.46  pyh9f0ad1d_1                conda-forge/noarch        32 KB\n",
            "\u001b[32m  openh264          \u001b[00m       2.1.1  h780b84a_0                  conda-forge/linux-64       2 MB\n",
            "\u001b[32m  palettable        \u001b[00m       3.3.0  py_0                        conda-forge/noarch        86 KB\n",
            "\u001b[32m  pandas            \u001b[00m       1.3.1  py37h219a48f_0              conda-forge/linux-64      13 MB\n",
            "\u001b[32m  pillow            \u001b[00m       8.3.1  py37h5aabda8_0              pkgs/main/linux-64       633 KB\n",
            "\u001b[32m  plotly            \u001b[00m       5.1.0  pyhd8ed1ab_1                conda-forge/noarch         7 MB\n",
            "\u001b[32m  proj              \u001b[00m       7.2.0  h277dcde_2                  conda-forge/linux-64       3 MB\n",
            "\u001b[32m  pugixml           \u001b[00m      1.11.4  h9c3ff4c_0                  conda-forge/linux-64     125 KB\n",
            "\u001b[32m  pybtex            \u001b[00m      0.24.0  py37h89c1867_0              conda-forge/linux-64     305 KB\n",
            "\u001b[32m  pymatgen          \u001b[00m  2020.12.31  py37h2527ec5_0              conda-forge/linux-64       3 MB\n",
            "\u001b[32m  pyparsing         \u001b[00m       2.4.7  pyh9f0ad1d_0                conda-forge/noarch        60 KB\n",
            "\u001b[32m  python-dateutil   \u001b[00m       2.8.2  pyhd8ed1ab_0                conda-forge/noarch       240 KB\n",
            "\u001b[32m  pytz              \u001b[00m      2021.1  pyhd8ed1ab_0                conda-forge/noarch       239 KB\n",
            "\u001b[32m  pyyaml            \u001b[00m       5.4.1  py37h5e8e339_0              conda-forge/linux-64     189 KB\n",
            "\u001b[32m  ruamel.yaml       \u001b[00m     0.17.10  py37h5e8e339_0              conda-forge/linux-64     169 KB\n",
            "\u001b[32m  ruamel.yaml.clib  \u001b[00m       0.2.2  py37h5e8e339_2              conda-forge/linux-64     171 KB\n",
            "\u001b[32m  scipy             \u001b[00m       1.7.0  py37h29e03ee_1              conda-forge/linux-64      22 MB\n",
            "\u001b[32m  soupsieve         \u001b[00m       2.2.1  pyhd3eb1b0_0                pkgs/main/noarch          32 KB\n",
            "\u001b[32m  spglib            \u001b[00m      1.16.1  py37h902c9e0_0              conda-forge/linux-64     610 KB\n",
            "\u001b[32m  sympy             \u001b[00m         1.8  py37h89c1867_0              conda-forge/linux-64      11 MB\n",
            "\u001b[32m  tabulate          \u001b[00m       0.8.9  pyhd8ed1ab_0                conda-forge/noarch        26 KB\n",
            "\u001b[32m  tbb               \u001b[00m      2020.3  hfd86e86_0                  pkgs/main/linux-64         1 MB\n",
            "\u001b[32m  tbb-devel         \u001b[00m      2020.3  hfd86e86_0                  pkgs/main/linux-64         1 MB\n",
            "\u001b[32m  tenacity          \u001b[00m       8.0.1  pyhd8ed1ab_0                conda-forge/noarch        21 KB\n",
            "\u001b[32m  tornado           \u001b[00m         6.1  py37h5e8e339_1              conda-forge/linux-64     646 KB\n",
            "\u001b[32m  typing_extensions \u001b[00m    3.10.0.0  pyha770c72_0                conda-forge/noarch        28 KB\n",
            "\u001b[32m  tzlocal           \u001b[00m       2.0.0  py_0                        conda-forge/noarch        17 KB\n",
            "\u001b[32m  uncertainties     \u001b[00m       3.1.6  pyhd8ed1ab_0                conda-forge/noarch        76 KB\n",
            "\u001b[32m  utfcpp            \u001b[00m       3.2.1  ha770c72_0                  conda-forge/linux-64      10 KB\n",
            "\u001b[32m  vtk               \u001b[00m       9.0.1  no_osmesa_py37hd45ff58_104  conda-forge/linux-64      36 MB\n",
            "\u001b[32m  werkzeug          \u001b[00m       2.0.1  pyhd8ed1ab_0                conda-forge/noarch       219 KB\n",
            "\u001b[32m  x264              \u001b[00m  1!161.3030  h7f98852_1                  conda-forge/linux-64       2 MB\n",
            "\u001b[32m  xorg-kbproto      \u001b[00m       1.0.7  h14c3975_1002               conda-forge/linux-64      26 KB\n",
            "\u001b[32m  xorg-libice       \u001b[00m      1.0.10  h516909a_0                  conda-forge/linux-64      57 KB\n",
            "\u001b[32m  xorg-libsm        \u001b[00m       1.2.3  hd9c2040_1000               conda-forge/linux-64      26 KB\n",
            "\u001b[32m  xorg-libx11       \u001b[00m       1.7.2  h7f98852_0                  conda-forge/linux-64     941 KB\n",
            "\u001b[32m  xorg-libxext      \u001b[00m       1.3.4  h7f98852_1                  conda-forge/linux-64      54 KB\n",
            "\u001b[32m  xorg-libxt        \u001b[00m       1.2.1  h7f98852_2                  conda-forge/linux-64     375 KB\n",
            "\u001b[32m  xorg-xextproto    \u001b[00m       7.3.0  h14c3975_1002               conda-forge/linux-64      27 KB\n",
            "\u001b[32m  xorg-xproto       \u001b[00m      7.0.31  h14c3975_1007               conda-forge/linux-64      72 KB\n",
            "\u001b[32m  zipp              \u001b[00m       3.5.0  pyhd8ed1ab_0                conda-forge/noarch        12 KB\n",
            "\n",
            "  Upgrade:\n",
            "───────────────────────────────────────────────────────────────────────────────────────────────\n",
            "\n",
            "\u001b[31m  ca-certificates   \u001b[00m   2020.12.5  ha878542_0                  installed                      \n",
            "\u001b[32m  ca-certificates   \u001b[00m    2021.7.5  h06a4308_1                  pkgs/main/linux-64       113 KB\n",
            "\u001b[31m  certifi           \u001b[00m   2020.12.5  py37h89c1867_1              installed                      \n",
            "\u001b[32m  certifi           \u001b[00m   2021.5.30  py37h89c1867_0              conda-forge/linux-64     141 KB\n",
            "\u001b[31m  openssl           \u001b[00m      1.1.1j  h7f98852_0                  installed                      \n",
            "\u001b[32m  openssl           \u001b[00m      1.1.1k  h7f98852_0                  conda-forge/linux-64       2 MB\n",
            "\n",
            "  Summary:\n",
            "\n",
            "  Install: 106 packages\n",
            "  Upgrade: 3 packages\n",
            "\n",
            "  Total download: 253 MB\n",
            "\n",
            "───────────────────────────────────────────────────────────────────────────────────────────────\n",
            "\n",
            "Preparing transaction: ...working... done\n",
            "Verifying transaction: ...working... done\n",
            "Executing transaction: ...working... done\n"
          ],
          "name": "stdout"
        }
      ]
    },
    {
      "cell_type": "markdown",
      "metadata": {
        "id": "BjT3HZIbdRV7"
      },
      "source": [
        "# Setup environment using conda constructor.\n",
        "---\n",
        "\n",
        "\n",
        "1.   First, we want to remove our previous installations by resetting our runtime to factory defaults. This process will revert the environment to its original state, removing any added packages or restoring deleted system files.\n",
        "  *   Runtime > Factory reset runtime\n",
        "\n"
      ]
    },
    {
      "cell_type": "markdown",
      "metadata": {
        "id": "eeoPe5vQIHAH"
      },
      "source": [
        "\n",
        "2.   Next, we install conda colab"
      ]
    },
    {
      "cell_type": "code",
      "metadata": {
        "id": "3NMEY8jpIMWO",
        "tags": [
          "no-execute"
        ]
      },
      "source": [
        "!pip install -q condacolab"
      ],
      "execution_count": 1,
      "outputs": []
    },
    {
      "cell_type": "markdown",
      "metadata": {
        "id": "171eqBlzIMjf"
      },
      "source": [
        "\n",
        "3.   Finally, we install using the constructor we have built for the [workshop](https://github.com/materialsproject/workshop)\n",
        "\n",
        "  Link to the [release](https://github.com/materialsproject/workshop/releases/tag/2021.08.09)\n",
        "\n",
        "  - https://github.com/materialsproject/workshop/releases/download/2021.08.09/condacolab-0.1-Linux-x86_64.sh"
      ]
    },
    {
      "cell_type": "code",
      "metadata": {
        "colab": {
          "base_uri": "https://localhost:8080/"
        },
        "id": "FZE-WmTP-h2a",
        "tags": [
          "no-execute"
        ],
        "outputId": "673de5ea-6930-4d18-afff-688228f74706"
      },
      "source": [
        "import condacolab\n",
        "\n",
        "conda_constructor = 'https://github.com/materialsproject/workshop/releases/download/2021.08.09/condacolab-0.1-Linux-x86_64.sh'\n",
        "condacolab.install_from_url(conda_constructor)"
      ],
      "execution_count": 3,
      "outputs": [
        {
          "output_type": "stream",
          "text": [
            "⏬ Downloading https://github.com/materialsproject/workshop/releases/download/2021.08.09/condacolab-0.1-Linux-x86_64.sh...\n",
            "📦 Installing...\n",
            "📌 Adjusting configuration...\n",
            "🩹 Patching environment...\n",
            "⏲ Done in 0:01:37\n",
            "🔁 Restarting kernel...\n"
          ],
          "name": "stdout"
        }
      ]
    },
    {
      "cell_type": "markdown",
      "metadata": {
        "id": "31vhGHZSWYvL"
      },
      "source": [
        "The environment is now setup with pymatgen, fireworks, custodian, atomate, and matminer."
      ]
    },
    {
      "cell_type": "markdown",
      "metadata": {
        "id": "TlWy5dU9bxtQ"
      },
      "source": [
        "# Building a conda constructor\n",
        "To build your own environment constructor (to save time when restarting notebook)\n",
        "\n",
        "Adapted from this [notebook](https://colab.research.google.com/github/jaimergp/condacolab/blob/main/constructor-example/condacolab_constructor_tutorial.ipynb#scrollTo=-RDpyAYfXk9L)\n"
      ]
    },
    {
      "cell_type": "markdown",
      "metadata": {
        "id": "5BDO0Lqctf5V"
      },
      "source": [
        "1. Download the templates constructor\n",
        "\n"
      ]
    },
    {
      "cell_type": "code",
      "metadata": {
        "id": "GdtsZqUqfO_l",
        "tags": [
          "no-execute"
        ]
      },
      "source": [
        "!wget -q https://raw.githubusercontent.com/materialsproject/workshop/master/workshop/primer/04_Python_environments/env_installer/construct.yaml\n",
        "!wget -q https://raw.githubusercontent.com/materialsproject/workshop/master/workshop/primer/04_Python_environments/env_installer/pip-dependencies.sh"
      ],
      "execution_count": null,
      "outputs": []
    },
    {
      "cell_type": "markdown",
      "metadata": {
        "id": "LqcRCDR9tqVZ"
      },
      "source": [
        "2. Modify the construct.yaml as desired. Here, we will add: \n",
        "\n",
        "  - numpy 1.19.5\n",
        "  - pymatgen\n",
        "  - custodian\n",
        "  - fireworks\n",
        "  - atomate\n",
        "  - matminer\n"
      ]
    },
    {
      "cell_type": "markdown",
      "metadata": {
        "id": "pUphV54ot4Uj"
      },
      "source": [
        "3. Install condacolab, conda, mamba, and constructor"
      ]
    },
    {
      "cell_type": "code",
      "metadata": {
        "colab": {
          "base_uri": "https://localhost:8080/"
        },
        "id": "gNm5p61wbznR",
        "tags": [
          "no-execute"
        ],
        "outputId": "a6c0a736-a9e7-4659-9018-002ff5170ec4"
      },
      "source": [
        "!pip install -q condacolab\n",
        "\n",
        "# Install conda and mamba\n",
        "import condacolab\n",
        "condacolab.install()\n",
        "\n",
        "# Install constructor\n",
        "!mamba install -q constructor"
      ],
      "execution_count": null,
      "outputs": [
        {
          "output_type": "stream",
          "text": [
            "⏬ Downloading https://github.com/jaimergp/miniforge/releases/latest/download/Mambaforge-colab-Linux-x86_64.sh...\n",
            "📦 Installing...\n",
            "📌 Adjusting configuration...\n",
            "🩹 Patching environment...\n",
            "⏲ Done in 0:00:38\n",
            "🔁 Restarting kernel...\n",
            "  Package             Version  Build           Channel                    Size\n",
            "────────────────────────────────────────────────────────────────────────────────\n",
            "  Install:\n",
            "────────────────────────────────────────────────────────────────────────────────\n",
            "\n",
            "\u001b[32m  conda-standalone\u001b[00m     4.10.3  ha770c72_0      conda-forge/linux-64       9 MB\n",
            "\u001b[32m  constructor     \u001b[00m      3.2.1  py37h89c1867_1  conda-forge/linux-64     162 KB\n",
            "\n",
            "  Upgrade:\n",
            "────────────────────────────────────────────────────────────────────────────────\n",
            "\n",
            "\u001b[31m  ca-certificates \u001b[00m  2020.12.5  ha878542_0      installed                      \n",
            "\u001b[32m  ca-certificates \u001b[00m  2021.5.30  ha878542_0      conda-forge/linux-64     136 KB\n",
            "\u001b[31m  certifi         \u001b[00m  2020.12.5  py37h89c1867_1  installed                      \n",
            "\u001b[32m  certifi         \u001b[00m  2021.5.30  py37h89c1867_0  conda-forge/linux-64     141 KB\n",
            "\u001b[31m  openssl         \u001b[00m     1.1.1j  h7f98852_0      installed                      \n",
            "\u001b[32m  openssl         \u001b[00m     1.1.1k  h7f98852_0      conda-forge/linux-64       2 MB\n",
            "\n",
            "  Summary:\n",
            "\n",
            "  Install: 2 packages\n",
            "  Upgrade: 3 packages\n",
            "\n",
            "  Total download: 12 MB\n",
            "\n",
            "────────────────────────────────────────────────────────────────────────────────\n",
            "\n",
            "Preparing transaction: ...working... done\n",
            "Verifying transaction: ...working... done\n",
            "Executing transaction: ...working... done\n"
          ],
          "name": "stdout"
        }
      ]
    },
    {
      "cell_type": "markdown",
      "metadata": {
        "id": "Nxm8bFr2uT0Z"
      },
      "source": [
        "5. Run constructor to build .sh template file"
      ]
    },
    {
      "cell_type": "code",
      "metadata": {
        "colab": {
          "base_uri": "https://localhost:8080/"
        },
        "id": "JCg8ApEYflcj",
        "tags": [
          "no-execute"
        ],
        "outputId": "fc3fb735-8e64-487e-91a6-f1eede653f34"
      },
      "source": [
        "!constructor ."
      ],
      "execution_count": null,
      "outputs": [
        {
          "output_type": "stream",
          "text": [
            "platform: linux-64\n",
            "Collecting package metadata (repodata.json): done\n",
            "Solving environment: done\n",
            "fetching: python-3.7.0-hd21baee_1006.tar.bz2\n",
            "fetching: _libgcc_mutex-0.1-conda_forge.tar.bz2\n",
            "fetching: ca-certificates-2021.5.30-ha878542_0.tar.bz2\n",
            "fetching: libgfortran4-7.5.0-h14aa051_19.tar.bz2\n",
            "fetching: libstdcxx-ng-11.1.0-h56837e0_5.tar.bz2\n",
            "fetching: libgfortran-ng-7.5.0-h14aa051_19.tar.bz2\n",
            "fetching: libgomp-11.1.0-hc902ee8_5.tar.bz2\n",
            "fetching: _openmp_mutex-4.5-1_gnu.tar.bz2\n",
            "fetching: libgcc-ng-11.1.0-hc902ee8_5.tar.bz2\n",
            "fetching: bzip2-1.0.8-h7f98852_4.tar.bz2\n",
            "fetching: expat-2.4.1-h9c3ff4c_0.tar.bz2\n",
            "fetching: gmp-6.2.1-h58526e2_0.tar.bz2\n",
            "fetching: icu-68.1-h58526e2_0.tar.bz2\n",
            "fetching: jpeg-9d-h36c2ea0_0.tar.bz2\n",
            "fetching: jsoncpp-1.8.4-hc9558a2_1002.tar.bz2\n",
            "fetching: libffi-3.2.1-he1b5a44_1007.tar.bz2\n",
            "fetching: libiconv-1.16-h516909a_0.tar.bz2\n",
            "fetching: libopenblas-0.3.12-pthreads_hb3c22a3_1.tar.bz2\n",
            "fetching: libsodium-1.0.18-h36c2ea0_1.tar.bz2\n",
            "fetching: libuuid-2.32.1-h7f98852_1000.tar.bz2\n",
            "fetching: lz4-c-1.8.3-he1b5a44_1001.tar.bz2\n",
            "fetching: metis-5.1.0-h58526e2_1006.tar.bz2\n",
            "fetching: ncurses-6.2-h58526e2_4.tar.bz2\n",
            "fetching: openssl-1.0.2u-h516909a_0.tar.bz2\n",
            "fetching: pthread-stubs-0.4-h36c2ea0_1001.tar.bz2\n",
            "fetching: tbb-2020.2-h4bd325d_4.tar.bz2\n",
            "fetching: xorg-kbproto-1.0.7-h7f98852_1002.tar.bz2\n",
            "fetching: xorg-libice-1.0.10-h7f98852_0.tar.bz2\n",
            "fetching: xorg-libxau-1.0.9-h7f98852_0.tar.bz2\n",
            "fetching: xorg-libxdmcp-1.1.3-h7f98852_0.tar.bz2\n",
            "fetching: xorg-xproto-7.0.31-h7f98852_1007.tar.bz2\n",
            "fetching: xz-5.2.5-h516909a_1.tar.bz2\n",
            "fetching: yaml-0.2.5-h516909a_0.tar.bz2\n",
            "fetching: zlib-1.2.11-h516909a_1010.tar.bz2\n",
            "fetching: glpk-4.65-h9202a9a_1004.tar.bz2\n",
            "fetching: hdf4-4.2.15-h10796ff_3.tar.bz2\n",
            "fetching: hdf5-1.10.4-nompi_h3c11f04_1106.tar.bz2\n",
            "fetching: libblas-3.9.0-8_openblas.tar.bz2\n",
            "fetching: libedit-3.1.20191231-he28a2e2_2.tar.bz2\n",
            "fetching: libllvm10-10.0.1-he513fc3_3.tar.bz2\n",
            "fetching: libpng-1.6.37-h21135ba_2.tar.bz2\n",
            "fetching: libsolv-0.7.19-h780b84a_5.tar.bz2\n",
            "fetching: libssh2-1.8.0-h1ad7b7a_1003.tar.bz2\n",
            "fetching: libxcb-1.13-h7f98852_1003.tar.bz2\n",
            "fetching: libxml2-2.9.12-h72842e0_0.tar.bz2\n",
            "fetching: mpfr-4.0.2-he80fd80_1.tar.bz2\n",
            "fetching: readline-7.0-hf8c457e_1001.tar.bz2\n",
            "fetching: tk-8.6.10-h21135ba_1.tar.bz2\n",
            "fetching: xorg-libsm-1.2.3-hd9c2040_1000.tar.bz2\n",
            "fetching: zstd-1.4.4-h3b9ef0a_2.tar.bz2\n",
            "fetching: freetype-2.10.4-h0708190_1.tar.bz2\n",
            "fetching: krb5-1.16.3-hc83ff2d_1000.tar.bz2\n",
            "fetching: libcblas-3.9.0-8_openblas.tar.bz2\n",
            "fetching: liblapack-3.9.0-8_openblas.tar.bz2\n",
            "fetching: libtiff-4.1.0-hc3755c2_3.tar.bz2\n",
            "fetching: mpc-1.1.0-h04dde30_1009.tar.bz2\n",
            "fetching: sqlite-3.28.0-h8b20d00_0.tar.bz2\n",
            "fetching: xorg-libx11-1.7.2-h7f98852_0.tar.bz2\n",
            "fetching: arpack-3.7.0-hc6cf775_2.tar.bz2\n",
            "fetching: lcms2-2.11-hcbb858e_1.tar.bz2\n",
            "fetching: libcurl-7.64.0-h01ee5af_0.tar.bz2\n",
            "fetching: suitesparse-5.10.1-hd8046ac_0.tar.bz2\n",
            "fetching: xorg-libxt-1.2.1-h7f98852_2.tar.bz2\n",
            "fetching: asn1crypto-1.4.0-pyh9f0ad1d_0.tar.bz2\n",
            "fetching: attrs-21.2.0-pyhd8ed1ab_0.tar.bz2\n",
            "fetching: charset-normalizer-2.0.0-pyhd8ed1ab_0.tar.bz2\n",
            "fetching: curl-7.64.0-h646f8bb_0.tar.bz2\n",
            "fetching: dataclasses-0.8-pyhc8e2a94_1.tar.bz2\n",
            "fetching: decorator-5.0.9-pyhd8ed1ab_0.tar.bz2\n",
            "fetching: idna-3.1-pyhd3deb0d_0.tar.bz2\n",
            "fetching: invoke-1.6.0-pyhd8ed1ab_0.tar.bz2\n",
            "fetching: itsdangerous-2.0.1-pyhd8ed1ab_0.tar.bz2\n",
            "fetching: jmespath-0.10.0-pyh9f0ad1d_0.tar.bz2\n",
            "fetching: monty-2021.7.8-pyhd8ed1ab_0.tar.bz2\n",
            "fetching: mpmath-1.2.1-pyhd8ed1ab_0.tar.bz2\n",
            "fetching: olefile-0.46-pyh9f0ad1d_1.tar.bz2\n",
            "fetching: pycparser-2.20-pyh9f0ad1d_2.tar.bz2\n",
            "fetching: pydash-5.0.2-pyh6c4a22f_0.tar.bz2\n",
            "fetching: pyparsing-2.4.7-pyh9f0ad1d_0.tar.bz2\n",
            "fetching: python_abi-3.7-2_cp37m.tar.bz2\n",
            "fetching: pytz-2021.1-pyhd8ed1ab_0.tar.bz2\n",
            "fetching: sentinels-1.0.0-py_1.tar.bz2\n",
            "fetching: six-1.16.0-pyh6c4a22f_0.tar.bz2\n",
            "fetching: soupsieve-2.0.1-py_1.tar.bz2\n",
            "fetching: starlette-0.14.2-pyhd8ed1ab_0.tar.bz2\n",
            "fetching: tabulate-0.8.9-pyhd8ed1ab_0.tar.bz2\n",
            "fetching: tenacity-8.0.1-pyhd8ed1ab_0.tar.bz2\n",
            "fetching: termcolor-1.1.0-py_2.tar.bz2\n",
            "fetching: texttable-1.6.4-pyhd8ed1ab_0.tar.bz2\n",
            "fetching: threadpoolctl-2.2.0-pyh8a188c0_0.tar.bz2\n",
            "fetching: tqdm-4.61.2-pyhd8ed1ab_1.tar.bz2\n",
            "fetching: typing_extensions-3.10.0.0-pyha770c72_0.tar.bz2\n",
            "fetching: wheel-0.36.2-pyhd3deb0d_0.tar.bz2\n",
            "fetching: zipp-3.5.0-pyhd8ed1ab_0.tar.bz2\n",
            "fetching: aioitertools-0.7.1-pyhd8ed1ab_0.tar.bz2\n",
            "fetching: beautifulsoup4-4.9.3-pyhb0f4dca_0.tar.bz2\n",
            "fetching: certifi-2021.5.30-py37h89c1867_0.tar.bz2\n",
            "fetching: cffi-1.14.4-py37h11fe52a_0.tar.bz2\n",
            "fetching: chardet-4.0.0-py37h89c1867_1.tar.bz2\n",
            "fetching: conda-package-handling-1.7.3-py37h5e8e339_0.tar.bz2\n",
            "fetching: cycler-0.10.0-py_2.tar.bz2\n",
            "fetching: ecdsa-0.17.0-pyhd8ed1ab_0.tar.bz2\n",
            "fetching: future-0.18.2-py37h89c1867_3.tar.bz2\n",
            "fetching: gmpy2-2.1.0b5-py37h025e8b9_0.tar.bz2\n",
            "fetching: httplib2-0.19.1-pyhd8ed1ab_0.tar.bz2\n",
            "fetching: importlib-metadata-4.6.1-py37h89c1867_0.tar.bz2\n",
            "fetching: importlib_resources-5.2.1-pyhd8ed1ab_0.tar.bz2\n",
            "fetching: kiwisolver-1.3.1-py37h2527ec5_1.tar.bz2\n",
            "fetching: latexcodec-2.0.1-pyh9f0ad1d_0.tar.bz2\n",
            "fetching: libnetcdf-4.6.2-hbdf4f91_1001.tar.bz2\n",
            "fetching: llvmlite-0.36.0-py37h9d7f4d0_0.tar.bz2\n",
            "fetching: markupsafe-2.0.1-py37h5e8e339_0.tar.bz2\n",
            "fetching: msgpack-python-1.0.2-py37h2527ec5_1.tar.bz2\n",
            "fetching: numpy-1.19.5-py37h038b26d_2.tar.bz2\n",
            "fetching: orjson-3.6.0-py37h5e8e339_0.tar.bz2\n",
            "fetching: packaging-21.0-pyhd8ed1ab_0.tar.bz2\n",
            "fetching: pathlib2-2.3.6-py37h89c1867_0.tar.bz2\n",
            "fetching: pillow-8.1.0-py37he6b4880_1.tar.bz2\n",
            "fetching: pybind11-global-2.7.0-py37h2527ec5_0.tar.bz2\n",
            "fetching: pycosat-0.6.3-py37h5e8e339_1006.tar.bz2\n",
            "fetching: pycryptodome-3.10.1-py37ha6ede69_0.tar.bz2\n",
            "fetching: pymongo-3.12.0-py37hcd2ae1e_0.tar.bz2\n",
            "fetching: pyrsistent-0.17.3-py37h5e8e339_2.tar.bz2\n",
            "fetching: pysocks-1.7.1-py37h89c1867_3.tar.bz2\n",
            "fetching: python-dateutil-2.8.2-pyhd8ed1ab_0.tar.bz2\n",
            "fetching: python-igraph-0.9.6-py37h6c76e3a_0.tar.bz2\n",
            "fetching: pyyaml-5.4.1-py37h5e8e339_0.tar.bz2\n",
            "fetching: ruamel.yaml.clib-0.2.2-py37h5e8e339_2.tar.bz2\n",
            "fetching: ruamel_yaml-0.15.80-py37h5e8e339_1004.tar.bz2\n",
            "fetching: sniffio-1.2.0-py37h89c1867_1.tar.bz2\n",
            "fetching: tornado-6.1-py37h5e8e339_1.tar.bz2\n",
            "fetching: typing-extensions-3.10.0.0-hd8ed1ab_0.tar.bz2\n",
            "fetching: tzlocal-2.1-pyh9f0ad1d_0.tar.bz2\n",
            "fetching: ujson-4.0.2-py37hcd2ae1e_0.tar.bz2\n",
            "fetching: werkzeug-2.0.1-pyhd8ed1ab_0.tar.bz2\n",
            "fetching: brotlipy-0.7.0-py37h5e8e339_1001.tar.bz2\n",
            "fetching: cftime-1.5.0-py37h6f94858_0.tar.bz2\n",
            "fetching: click-8.0.1-py37h89c1867_0.tar.bz2\n",
            "fetching: cryptography-2.5-py37hb7f436b_1.tar.bz2\n",
            "fetching: dnspython-1.16.0-py_1.tar.bz2\n",
            "fetching: h5py-2.9.0-nompi_py37hcafd542_1103.tar.bz2\n",
            "fetching: importlib_metadata-4.6.1-hd8ed1ab_0.tar.bz2\n",
            "fetching: jinja2-3.0.1-pyhd8ed1ab_0.tar.bz2\n",
            "fetching: pandas-1.3.1-py37h219a48f_0.tar.bz2\n",
            "fetching: pybind11-2.7.0-py37h2527ec5_0.tar.bz2\n",
            "fetching: pydantic-1.8.2-py37h5e8e339_0.tar.bz2\n",
            "fetching: pynacl-1.4.0-py37h5e8e339_2.tar.bz2\n",
            "fetching: pynng-0.7.1-py37h5e8e339_0.tar.bz2\n",
            "fetching: pypif-2.1.1-py_0.tar.bz2\n",
            "fetching: scipy-1.5.3-py37h8911b10_0.tar.bz2\n",
            "fetching: setuptools-49.6.0-py37h89c1867_3.tar.bz2\n",
            "fetching: spglib-1.16.1-py37h902c9e0_0.tar.bz2\n",
            "fetching: sympy-1.8-py37h89c1867_0.tar.bz2\n",
            "fetching: uncertainties-3.1.6-pyhd8ed1ab_0.tar.bz2\n",
            "fetching: vtk-8.2.0-py37ha8e561a_202.tar.bz2\n",
            "fetching: apscheduler-3.6.3-py37h89c1867_3.tar.bz2\n",
            "fetching: fastapi-0.67.0-pyhd8ed1ab_0.tar.bz2\n",
            "fetching: flask-2.0.1-pyhd8ed1ab_0.tar.bz2\n",
            "fetching: gunicorn-20.1.0-py37h89c1867_0.tar.bz2\n",
            "fetching: joblib-1.0.1-pyhd8ed1ab_0.tar.bz2\n",
            "fetching: jsonschema-3.2.0-pyhd8ed1ab_3.tar.bz2\n",
            "fetching: matplotlib-base-3.4.2-py37hdd32ed1_0.tar.bz2\n",
            "fetching: mongomock-3.22.1-pyh44b312d_0.tar.bz2\n",
            "fetching: netcdf4-1.5.1.2-py37had58050_0.tar.bz2\n",
            "fetching: networkx-2.5-py_0.tar.bz2\n",
            "fetching: numba-0.53.1-py37hb11d6e1_1.tar.bz2\n",
            "fetching: palettable-3.3.0-py_0.tar.bz2\n",
            "fetching: pint-0.17-pyhd8ed1ab_0.tar.bz2\n",
            "fetching: pip-21.2.1-pyhd8ed1ab_0.tar.bz2\n",
            "fetching: plotly-5.1.0-pyhd8ed1ab_1.tar.bz2\n",
            "fetching: pybtex-0.24.0-py37h89c1867_0.tar.bz2\n",
            "fetching: pyjwt-1.7.1-py_0.tar.bz2\n",
            "fetching: pyopenssl-19.0.0-py37_0.tar.bz2\n",
            "fetching: ruamel.yaml-0.17.10-py37h5e8e339_0.tar.bz2\n",
            "fetching: ase-3.22.0-pyhd8ed1ab_0.tar.bz2\n",
            "fetching: bcrypt-3.2.0-py37h5e8e339_1.tar.bz2\n",
            "fetching: flask-paginate-0.8.1-pyh44b312d_0.tar.bz2\n",
            "fetching: phonopy-2.11.0-py37hb1e94ed_1.tar.bz2\n",
            "fetching: scikit-learn-0.24.2-py37h18a542f_0.tar.bz2\n",
            "fetching: sparse-0.12.0-pyhd8ed1ab_0.tar.bz2\n",
            "fetching: urllib3-1.26.6-pyhd8ed1ab_0.tar.bz2\n",
            "fetching: aflow-0.0.11-py_0.tar.bz2\n",
            "fetching: dscribe-1.1.0-py37h2527ec5_0.tar.bz2\n",
            "fetching: paramiko-2.7.2-pyh9f0ad1d_0.tar.bz2\n",
            "fetching: requests-2.26.0-pyhd8ed1ab_0.tar.bz2\n",
            "fetching: sentry-sdk-1.3.1-pyhd8ed1ab_0.tar.bz2\n",
            "fetching: conda-4.10.3-py37h89c1867_0.tar.bz2\n",
            "fetching: custodian-2021.2.8-pyh44b312d_0.tar.bz2\n",
            "fetching: fabric-2.6.0-pyhd8ed1ab_1.tar.bz2\n",
            "fetching: globus-sdk-2.0.1-pyhd8ed1ab_0.tar.bz2\n",
            "fetching: mongogrant-0.3.3-pyhd8ed1ab_0.tar.bz2\n",
            "fetching: pymatgen-2020.12.31-py37h2527ec5_0.tar.bz2\n",
            "fetching: requests-mock-1.9.3-pyhd8ed1ab_0.tar.bz2\n",
            "fetching: sshtunnel-0.3.1-pyhd8ed1ab_0.tar.bz2\n",
            "fetching: citrination-client-6.5.1-pyh9f0ad1d_0.tar.bz2\n",
            "fetching: fair-research-login-0.2.2-pyhd8ed1ab_0.tar.bz2\n",
            "fetching: fireworks-1.9.7-pyhd8ed1ab_0.tar.bz2\n",
            "fetching: globus-nexus-client-0.3.0-pyhd8ed1ab_1.tar.bz2\n",
            "fetching: maggma-0.30.2-pyhd8ed1ab_0.tar.bz2\n",
            "fetching: mamba-0.1.2-py37h99015e2_0.tar.bz2\n",
            "fetching: pymatgen-diffusion-2020.10.8-pyh9f0ad1d_0.tar.bz2\n",
            "fetching: atomate-0.9.9-pyhd8ed1ab_0.tar.bz2\n",
            "fetching: mdf_toolbox-0.5.7-pyhd8ed1ab_0.tar.bz2\n",
            "fetching: mdf_forge-0.7.6-py_0.tar.bz2\n",
            "fetching: matminer-0.7.3-pyhd8ed1ab_0.tar.bz2\n",
            "Checking for duplicate files ...\n",
            "Warning: Files 'share/terminfo/2/2621a', 'share/terminfo/2/2621A' found in the package(s): ncurses-6.2-h58526e2_4.tar.bz2\n",
            "Warning: Files 'share/terminfo/e/eterm', 'share/terminfo/E/Eterm' found in the package(s): ncurses-6.2-h58526e2_4.tar.bz2\n",
            "Warning: Files 'share/terminfo/E/Eterm-color', 'share/terminfo/e/eterm-color' found in the package(s): ncurses-6.2-h58526e2_4.tar.bz2\n",
            "Warning: Files 'share/terminfo/l/lft-pc850', 'share/terminfo/L/LFT-PC850' found in the package(s): ncurses-6.2-h58526e2_4.tar.bz2\n",
            "Warning: Files 'share/terminfo/n/ncr260vt300wpp', 'share/terminfo/N/NCR260VT300WPP' found in the package(s): ncurses-6.2-h58526e2_4.tar.bz2\n",
            "Warning: Files 'share/terminfo/N/NCRVT100WPP', 'share/terminfo/n/ncrvt100wpp' found in the package(s): ncurses-6.2-h58526e2_4.tar.bz2\n",
            "Warning: Files 'share/terminfo/p/p12', 'share/terminfo/P/P12' found in the package(s): ncurses-6.2-h58526e2_4.tar.bz2\n",
            "Warning: Files 'share/terminfo/P/P12-M', 'share/terminfo/p/p12-m' found in the package(s): ncurses-6.2-h58526e2_4.tar.bz2\n",
            "Warning: Files 'share/terminfo/p/p12-m-w', 'share/terminfo/P/P12-M-W' found in the package(s): ncurses-6.2-h58526e2_4.tar.bz2\n",
            "Warning: Files 'share/terminfo/P/P12-W', 'share/terminfo/p/p12-w' found in the package(s): ncurses-6.2-h58526e2_4.tar.bz2\n",
            "Warning: Files 'share/terminfo/p/p14', 'share/terminfo/P/P14' found in the package(s): ncurses-6.2-h58526e2_4.tar.bz2\n",
            "Warning: Files 'share/terminfo/P/P14-M', 'share/terminfo/p/p14-m' found in the package(s): ncurses-6.2-h58526e2_4.tar.bz2\n",
            "Warning: Files 'share/terminfo/P/P14-M-W', 'share/terminfo/p/p14-m-w' found in the package(s): ncurses-6.2-h58526e2_4.tar.bz2\n",
            "Warning: Files 'share/terminfo/P/P14-W', 'share/terminfo/p/p14-w' found in the package(s): ncurses-6.2-h58526e2_4.tar.bz2\n",
            "Warning: Files 'share/terminfo/P/P4', 'share/terminfo/p/p4' found in the package(s): ncurses-6.2-h58526e2_4.tar.bz2\n",
            "Warning: Files 'share/terminfo/p/p5', 'share/terminfo/P/P5' found in the package(s): ncurses-6.2-h58526e2_4.tar.bz2\n",
            "Warning: Files 'share/terminfo/P/P7', 'share/terminfo/p/p7' found in the package(s): ncurses-6.2-h58526e2_4.tar.bz2\n",
            "Warning: Files 'share/terminfo/P/P8', 'share/terminfo/p/p8' found in the package(s): ncurses-6.2-h58526e2_4.tar.bz2\n",
            "Warning: Files 'share/terminfo/p/p8-w', 'share/terminfo/P/P8-W' found in the package(s): ncurses-6.2-h58526e2_4.tar.bz2\n",
            "Warning: Files 'share/terminfo/p/p9', 'share/terminfo/P/P9' found in the package(s): ncurses-6.2-h58526e2_4.tar.bz2\n",
            "Warning: Files 'share/terminfo/p/p9-8', 'share/terminfo/P/P9-8' found in the package(s): ncurses-6.2-h58526e2_4.tar.bz2\n",
            "Warning: Files 'share/terminfo/P/P9-8-W', 'share/terminfo/p/p9-8-w' found in the package(s): ncurses-6.2-h58526e2_4.tar.bz2\n",
            "Warning: Files 'share/terminfo/p/p9-w', 'share/terminfo/P/P9-W' found in the package(s): ncurses-6.2-h58526e2_4.tar.bz2\n",
            "Warning: Files 'share/terminfo/h/hp2621a', 'share/terminfo/h/hp2621A' found in the package(s): ncurses-6.2-h58526e2_4.tar.bz2\n",
            "Warning: Files 'share/terminfo/h/hp70092a', 'share/terminfo/h/hp70092A' found in the package(s): ncurses-6.2-h58526e2_4.tar.bz2\n",
            "Reading: /usr/local/lib/python3.7/site-packages/constructor/header.sh\n",
            "Successfully created '/content/condacolab-0.1-Linux-x86_64.sh'.\n"
          ],
          "name": "stdout"
        }
      ]
    },
    {
      "cell_type": "markdown",
      "metadata": {
        "id": "DI5w9dc7uWLq"
      },
      "source": [
        "5. Download .sh constructor and upload to any file hosting site (github releases can be used)\n",
        "\n"
      ]
    },
    {
      "cell_type": "code",
      "metadata": {
        "colab": {
          "base_uri": "https://localhost:8080/",
          "height": 34
        },
        "id": "fiKjwx6Vb15b",
        "tags": [
          "no-execute"
        ],
        "outputId": "2cb71c17-f507-485a-d28d-6ab35427b001"
      },
      "source": [
        "from google.colab import files\n",
        "installer = !ls *-Linux-x86_64.sh\n",
        "files.download(installer[0])"
      ],
      "execution_count": null,
      "outputs": [
        {
          "output_type": "display_data",
          "data": {
            "application/javascript": [
              "\n",
              "    async function download(id, filename, size) {\n",
              "      if (!google.colab.kernel.accessAllowed) {\n",
              "        return;\n",
              "      }\n",
              "      const div = document.createElement('div');\n",
              "      const label = document.createElement('label');\n",
              "      label.textContent = `Downloading \"${filename}\": `;\n",
              "      div.appendChild(label);\n",
              "      const progress = document.createElement('progress');\n",
              "      progress.max = size;\n",
              "      div.appendChild(progress);\n",
              "      document.body.appendChild(div);\n",
              "\n",
              "      const buffers = [];\n",
              "      let downloaded = 0;\n",
              "\n",
              "      const channel = await google.colab.kernel.comms.open(id);\n",
              "      // Send a message to notify the kernel that we're ready.\n",
              "      channel.send({})\n",
              "\n",
              "      for await (const message of channel.messages) {\n",
              "        // Send a message to notify the kernel that we're ready.\n",
              "        channel.send({})\n",
              "        if (message.buffers) {\n",
              "          for (const buffer of message.buffers) {\n",
              "            buffers.push(buffer);\n",
              "            downloaded += buffer.byteLength;\n",
              "            progress.value = downloaded;\n",
              "          }\n",
              "        }\n",
              "      }\n",
              "      const blob = new Blob(buffers, {type: 'application/binary'});\n",
              "      const a = document.createElement('a');\n",
              "      a.href = window.URL.createObjectURL(blob);\n",
              "      a.download = filename;\n",
              "      div.appendChild(a);\n",
              "      a.click();\n",
              "      div.remove();\n",
              "    }\n",
              "  "
            ],
            "text/plain": [
              "<IPython.core.display.Javascript object>"
            ]
          },
          "metadata": {
            "tags": []
          }
        },
        {
          "output_type": "display_data",
          "data": {
            "application/javascript": [
              "download(\"download_2fbcf144-ab1f-4119-85e1-6c750c425b3b\", \"condacolab-0.1-Linux-x86_64.sh\", 299340058)"
            ],
            "text/plain": [
              "<IPython.core.display.Javascript object>"
            ]
          },
          "metadata": {
            "tags": []
          }
        }
      ]
    }
  ]
}