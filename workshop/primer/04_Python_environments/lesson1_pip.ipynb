{
 "cells": [
  {
   "cell_type": "markdown",
   "id": "8fc96903",
   "metadata": {},
   "source": [
    "# pip\n",
    "- Package management system for python - used to install and manage software packages."
   ]
  },
  {
   "cell_type": "markdown",
   "id": "9454e45d",
   "metadata": {},
   "source": [
    "Let's see what we can do with pip:"
   ]
  },
  {
   "cell_type": "code",
   "execution_count": 1,
   "id": "f75e53ae",
   "metadata": {},
   "outputs": [
    {
     "name": "stdout",
     "output_type": "stream",
     "text": [
      "\r\n",
      "Usage:   \r\n",
      "  pip <command> [options]\r\n",
      "\r\n",
      "Commands:\r\n",
      "  install                     Install packages.\r\n",
      "  download                    Download packages.\r\n",
      "  uninstall                   Uninstall packages.\r\n",
      "  freeze                      Output installed packages in requirements format.\r\n",
      "  list                        List installed packages.\r\n",
      "  show                        Show information about installed packages.\r\n",
      "  check                       Verify installed packages have compatible dependencies.\r\n",
      "  config                      Manage local and global configuration.\r\n",
      "  search                      Search PyPI for packages.\r\n",
      "  cache                       Inspect and manage pip's wheel cache.\r\n",
      "  index                       Inspect information available from package indexes.\r\n",
      "  wheel                       Build wheels from your requirements.\r\n",
      "  hash                        Compute hashes of package archives.\r\n",
      "  completion                  A helper command used for command completion.\r\n",
      "  debug                       Show information useful for debugging.\r\n",
      "  help                        Show help for commands.\r\n",
      "\r\n",
      "General Options:\r\n",
      "  -h, --help                  Show help.\r\n",
      "  --isolated                  Run pip in an isolated mode, ignoring\r\n",
      "                              environment variables and user configuration.\r\n",
      "  -v, --verbose               Give more output. Option is additive, and can be\r\n",
      "                              used up to 3 times.\r\n",
      "  -V, --version               Show version and exit.\r\n",
      "  -q, --quiet                 Give less output. Option is additive, and can be\r\n",
      "                              used up to 3 times (corresponding to WARNING,\r\n",
      "                              ERROR, and CRITICAL logging levels).\r\n",
      "  --log <path>                Path to a verbose appending log.\r\n",
      "  --no-input                  Disable prompting for input.\r\n",
      "  --proxy <proxy>             Specify a proxy in the form\r\n",
      "                              [user:passwd@]proxy.server:port.\r\n",
      "  --retries <retries>         Maximum number of retries each connection should\r\n",
      "                              attempt (default 5 times).\r\n",
      "  --timeout <sec>             Set the socket timeout (default 15 seconds).\r\n",
      "  --exists-action <action>    Default action when a path already exists:\r\n",
      "                              (s)witch, (i)gnore, (w)ipe, (b)ackup, (a)bort.\r\n",
      "  --trusted-host <hostname>   Mark this host or host:port pair as trusted,\r\n",
      "                              even though it does not have valid or any HTTPS.\r\n",
      "  --cert <path>               Path to PEM-encoded CA certificate bundle. If\r\n",
      "                              provided, overrides the default. See 'SSL\r\n",
      "                              Certificate Verification' in pip documentation\r\n",
      "                              for more information.\r\n",
      "  --client-cert <path>        Path to SSL client certificate, a single file\r\n",
      "                              containing the private key and the certificate\r\n",
      "                              in PEM format.\r\n",
      "  --cache-dir <dir>           Store the cache data in <dir>.\r\n",
      "  --no-cache-dir              Disable the cache.\r\n",
      "  --disable-pip-version-check\r\n",
      "                              Don't periodically check PyPI to determine\r\n",
      "                              whether a new version of pip is available for\r\n",
      "                              download. Implied with --no-index.\r\n",
      "  --no-color                  Suppress colored output.\r\n",
      "  --no-python-version-warning\r\n",
      "                              Silence deprecation warnings for upcoming\r\n",
      "                              unsupported Pythons.\r\n",
      "  --use-feature <feature>     Enable new functionality, that may be backward\r\n",
      "                              incompatible.\r\n",
      "  --use-deprecated <feature>  Enable deprecated functionality, that will be\r\n",
      "                              removed in the future.\r\n"
     ]
    }
   ],
   "source": [
    "!pip --help"
   ]
  },
  {
   "cell_type": "markdown",
   "id": "aca34351",
   "metadata": {},
   "source": [
    "`pip list` will show all installed packages, while `pip freeze` will show all user installed packages"
   ]
  },
  {
   "cell_type": "code",
   "execution_count": 2,
   "id": "ee52b0cf",
   "metadata": {},
   "outputs": [
    {
     "name": "stdout",
     "output_type": "stream",
     "text": [
      "\u001b[33mWARNING: Ignoring invalid distribution -umpy (/Users/esivonxay/anaconda3/envs/mp_workshop_2021/lib/python3.9/site-packages)\u001b[0m\n",
      "Package                    Version                            Location\n",
      "-------------------------- ---------------------------------- ----------------------------------------------------------------------------\n",
      "absl-py                    0.13.0\n",
      "aioitertools               0.7.1\n",
      "anyio                      3.3.0\n",
      "appnope                    0.1.2\n",
      "argon2-cffi                20.1.0\n",
      "astunparse                 1.6.3\n",
      "async-generator            1.10\n",
      "atomate                    0.9.9\n",
      "attrs                      21.2.0\n",
      "Automat                    20.2.0\n",
      "Babel                      2.9.1\n",
      "backcall                   0.2.0\n",
      "bcrypt                     3.2.0\n",
      "biopython                  1.79\n",
      "bleach                     3.3.1\n",
      "boltons                    21.0.0\n",
      "bravado                    11.0.3\n",
      "bravado-core               5.17.0\n",
      "cachetools                 4.2.2\n",
      "certifi                    2021.5.30\n",
      "cffi                       1.14.6\n",
      "charset-normalizer         2.0.3\n",
      "clang                      5.0\n",
      "click                      8.0.1\n",
      "constantly                 15.1.0\n",
      "coverage                   5.5\n",
      "crochet                    2.0.0\n",
      "cryptography               3.4.7\n",
      "crystal-toolkit            2021.4.29\n",
      "crystaltoolkit-extension   0.3.0\n",
      "custodian                  2021.2.8\n",
      "cycler                     0.10.0\n",
      "debugpy                    1.4.1\n",
      "decorator                  4.4.2\n",
      "defusedxml                 0.7.1\n",
      "dnspython                  2.1.0\n",
      "entrypoints                0.3\n",
      "fastapi                    0.67.0\n",
      "fido                       4.2.2\n",
      "filetype                   1.0.7\n",
      "FireWorks                  1.9.7\n",
      "flake8                     3.9.2\n",
      "Flask                      2.0.1\n",
      "flask-paginate             0.8.1\n",
      "flatbuffers                1.12\n",
      "flatten-dict               0.4.1\n",
      "future                     0.18.2\n",
      "gast                       0.4.0\n",
      "ghp-import                 2.0.1\n",
      "gitdb                      4.0.7\n",
      "GitPython                  3.1.18\n",
      "google-auth                1.33.1\n",
      "google-auth-oauthlib       0.4.4\n",
      "google-pasta               0.2.0\n",
      "graphviz                   0.16\n",
      "GridDataFormats            0.5.0\n",
      "grpcio                     1.34.1\n",
      "gsd                        2.4.2\n",
      "gunicorn                   20.1.0\n",
      "h5py                       3.1.0\n",
      "htmlmin                    0.1.12\n",
      "hyperlink                  21.0.0\n",
      "idna                       3.2\n",
      "imageio                    2.9.0\n",
      "importlib-metadata         4.6.1\n",
      "incremental                21.3.0\n",
      "inflect                    5.3.0\n",
      "iniconfig                  1.1.1\n",
      "ipykernel                  6.0.3\n",
      "ipython                    7.25.0\n",
      "ipython-genutils           0.2.0\n",
      "itsdangerous               2.0.1\n",
      "jedi                       0.18.0\n",
      "Jinja2                     3.0.1\n",
      "joblib                     1.0.1\n",
      "jsmin                      2.2.2\n",
      "json2html                  1.3.0\n",
      "json5                      0.9.6\n",
      "jsonpointer                2.1\n",
      "jsonref                    0.2\n",
      "jsonschema                 3.2.0\n",
      "jupyter-client             6.1.12\n",
      "jupyter-core               4.7.1\n",
      "jupyter-server             1.10.1\n",
      "jupyterlab                 3.0.16\n",
      "jupyterlab-pygments        0.1.2\n",
      "jupyterlab-server          2.6.1\n",
      "keras                      2.6.0rc2\n",
      "keras-nightly              2.5.0.dev2021032900\n",
      "Keras-Preprocessing        1.1.2\n",
      "kiwisolver                 1.3.1\n",
      "latexcodec                 2.0.1\n",
      "maggma                     0.30.2\n",
      "Markdown                   3.3.4\n",
      "MarkupSafe                 2.0.1\n",
      "matplotlib                 3.4.2\n",
      "matplotlib-inline          0.1.2\n",
      "mccabe                     0.6.1\n",
      "mergedeep                  1.3.4\n",
      "mistune                    0.8.4\n",
      "mkdocs                     1.2.1\n",
      "mkdocs-material            7.1.8\n",
      "mkdocs-material-extensions 1.0.1\n",
      "mkdocs-minify-plugin       0.4.0\n",
      "mknotebooks                0.6.2\n",
      "mmtf-python                1.1.2\n",
      "mock                       4.0.3\n",
      "mongogrant                 0.3.3\n",
      "mongomock                  3.23.0\n",
      "monotonic                  1.6\n",
      "monty                      2021.7.8\n",
      "mp-pyrho                   0.0.14\n",
      "mp-workshop                2021.0.1a1.dev0+g4531146.d20210726 /Users/esivonxay/anaconda3/envs/mp_workshop_2021/code/workshop/python_module\n",
      "mpcontribs-client          3.10.1\n",
      "mpmath                     1.2.1\n",
      "msgpack                    1.0.2\n",
      "nbclassic                  0.3.1\n",
      "nbclient                   0.5.3\n",
      "nbconvert                  6.1.0\n",
      "nbformat                   5.1.3\n",
      "nbval                      0.9.5\n",
      "nbzip                      0.1.0\n",
      "nest-asyncio               1.5.1\n",
      "networkx                   2.5.1\n",
      "notebook                   6.4.0\n",
      "numpy                      1.21.1\n",
      "oauthlib                   3.1.1\n",
      "opt-einsum                 3.3.0\n",
      "orjson                     3.6.0\n",
      "packaging                  21.0\n",
      "palettable                 3.3.0\n",
      "pandas                     1.3.1\n",
      "pandocfilters              1.4.3\n",
      "paramiko                   2.7.2\n",
      "parso                      0.8.2\n",
      "pexpect                    4.8.0\n",
      "pickleshare                0.7.5\n",
      "Pillow                     8.3.1\n",
      "Pint                       0.17\n",
      "pip                        21.2.1\n",
      "plotly                     4.14.3\n",
      "pluggy                     0.13.1\n",
      "prometheus-client          0.11.0\n",
      "prompt-toolkit             3.0.19\n",
      "protobuf                   3.17.3\n",
      "ptyprocess                 0.7.0\n",
      "PubChemPy                  1.0.4\n",
      "py                         1.10.0\n",
      "pyasn1                     0.4.8\n",
      "pyasn1-modules             0.2.8\n",
      "pybtex                     0.24.0\n",
      "pycodestyle                2.7.0\n",
      "pycparser                  2.20\n",
      "pydantic                   1.8.2\n",
      "pydash                     5.0.2\n",
      "pydocstyle                 6.1.1\n",
      "pyflakes                   2.3.1\n",
      "Pygments                   2.9.0\n",
      "pyIsEmail                  1.3.2\n",
      "pymatgen                   2022.0.11\n",
      "pymatgen-diffusion         2020.10.8\n",
      "pymdown-extensions         8.2\n",
      "pymongo                    3.12.0\n",
      "PyNaCl                     1.4.0\n",
      "pynng                      0.7.1\n",
      "pyOpenSSL                  20.0.1\n",
      "pyparsing                  2.4.7\n",
      "pyrsistent                 0.18.0\n",
      "pytest                     6.2.4\n",
      "python-dateutil            2.8.2\n",
      "pytz                       2021.1\n",
      "PyWavelets                 1.1.1\n",
      "PyYAML                     5.4.1\n",
      "pyyaml_env_tag             0.1\n",
      "pyzmq                      22.1.0\n",
      "ratelimit                  2.2.1\n",
      "requests                   2.26.0\n",
      "requests-futures           1.0.0\n",
      "requests-oauthlib          1.3.0\n",
      "requests-unixsocket        0.2.0\n",
      "retrying                   1.3.3\n",
      "rfc3987                    1.3.8\n",
      "robocrys                   0.2.6\n",
      "rsa                        4.7.2\n",
      "ruamel.yaml                0.17.10\n",
      "ruamel.yaml.clib           0.2.6\n",
      "scikit-image               0.18.2\n",
      "scikit-learn               0.24.2\n",
      "scipy                      1.7.0\n",
      "Send2Trash                 1.7.1\n",
      "sentinels                  1.0.0\n",
      "sentry-sdk                 1.3.0\n",
      "service-identity           21.1.0\n",
      "setuptools                 49.6.0.post20210108\n",
      "simplejson                 3.17.3\n",
      "six                        1.16.0\n",
      "smmap                      4.0.0\n",
      "sniffio                    1.2.0\n",
      "snowballstemmer            2.1.0\n",
      "spglib                     1.16.1\n",
      "sshtunnel                  0.4.0\n",
      "starlette                  0.14.2\n",
      "strict-rfc3339             0.7\n",
      "swagger-spec-validator     2.7.3\n",
      "sympy                      1.8\n",
      "tabulate                   0.8.9\n",
      "tensorboard                2.5.0\n",
      "tensorboard-data-server    0.6.1\n",
      "tensorboard-plugin-wit     1.8.0\n",
      "tensorflow                 2.5.0\n",
      "tensorflow-cpu             2.5.0\n",
      "tensorflow-estimator       2.5.0\n",
      "termcolor                  1.1.0\n",
      "terminado                  0.10.1\n",
      "testpath                   0.5.0\n",
      "threadpoolctl              2.2.0\n",
      "tifffile                   2021.7.2\n",
      "toml                       0.10.2\n",
      "tornado                    6.1\n",
      "tqdm                       4.61.2\n",
      "traitlets                  5.0.5\n",
      "Twisted                    21.2.0\n",
      "typing-extensions          3.7.4.3\n",
      "uncertainties              3.1.6\n",
      "urllib3                    1.26.6\n",
      "watchdog                   2.1.3\n",
      "wcwidth                    0.2.5\n",
      "webcolors                  1.11.1\n",
      "webencodings               0.5.1\n",
      "websocket-client           1.1.0\n",
      "Werkzeug                   2.0.1\n",
      "wheel                      0.36.2\n",
      "wrapt                      1.12.1\n",
      "yelp-bytes                 0.3.0\n",
      "yelp-encodings             1.0.0\n",
      "zipp                       3.5.0\n",
      "zope.interface             5.4.0\n",
      "\u001b[33mWARNING: Ignoring invalid distribution -umpy (/Users/esivonxay/anaconda3/envs/mp_workshop_2021/lib/python3.9/site-packages)\u001b[0m\n",
      "\u001b[33mWARNING: Ignoring invalid distribution -umpy (/Users/esivonxay/anaconda3/envs/mp_workshop_2021/lib/python3.9/site-packages)\u001b[0m\n"
     ]
    }
   ],
   "source": [
    "!pip list"
   ]
  },
  {
   "cell_type": "code",
   "execution_count": 3,
   "id": "6e18611e",
   "metadata": {},
   "outputs": [
    {
     "name": "stdout",
     "output_type": "stream",
     "text": [
      "\u001b[33mWARNING: Ignoring invalid distribution -umpy (/Users/esivonxay/anaconda3/envs/mp_workshop_2021/lib/python3.9/site-packages)\u001b[0m\n",
      "absl-py==0.13.0\n",
      "aioitertools==0.7.1\n",
      "anyio==3.3.0\n",
      "appnope==0.1.2\n",
      "argon2-cffi==20.1.0\n",
      "astunparse==1.6.3\n",
      "async-generator==1.10\n",
      "atomate==0.9.9\n",
      "attrs==21.2.0\n",
      "Automat==20.2.0\n",
      "Babel==2.9.1\n",
      "backcall==0.2.0\n",
      "bcrypt==3.2.0\n",
      "biopython==1.79\n",
      "bleach==3.3.1\n",
      "boltons==21.0.0\n",
      "bravado==11.0.3\n",
      "bravado-core==5.17.0\n",
      "cachetools==4.2.2\n",
      "certifi==2021.5.30\n",
      "cffi==1.14.6\n",
      "charset-normalizer==2.0.3\n",
      "clang==5.0\n",
      "click==8.0.1\n",
      "constantly==15.1.0\n",
      "coverage==5.5\n",
      "crochet==2.0.0\n",
      "cryptography==3.4.7\n",
      "crystal-toolkit==2021.4.29\n",
      "crystaltoolkit-extension==0.3.0\n",
      "custodian==2021.2.8\n",
      "cycler==0.10.0\n",
      "debugpy==1.4.1\n",
      "decorator==4.4.2\n",
      "defusedxml==0.7.1\n",
      "dnspython==2.1.0\n",
      "entrypoints==0.3\n",
      "fastapi==0.67.0\n",
      "fido==4.2.2\n",
      "filetype==1.0.7\n",
      "FireWorks==1.9.7\n",
      "flake8==3.9.2\n",
      "Flask==2.0.1\n",
      "flask-paginate==0.8.1\n",
      "flatbuffers==1.12\n",
      "flatten-dict==0.4.1\n",
      "future==0.18.2\n",
      "gast==0.4.0\n",
      "ghp-import==2.0.1\n",
      "gitdb==4.0.7\n",
      "GitPython==3.1.18\n",
      "google-auth==1.33.1\n",
      "google-auth-oauthlib==0.4.4\n",
      "google-pasta==0.2.0\n",
      "graphviz==0.16\n",
      "GridDataFormats==0.5.0\n",
      "grpcio==1.34.1\n",
      "gsd==2.4.2\n",
      "gunicorn==20.1.0\n",
      "h5py==3.1.0\n",
      "htmlmin==0.1.12\n",
      "hyperlink==21.0.0\n",
      "idna==3.2\n",
      "imageio==2.9.0\n",
      "importlib-metadata==4.6.1\n",
      "incremental==21.3.0\n",
      "inflect==5.3.0\n",
      "iniconfig==1.1.1\n",
      "ipykernel==6.0.3\n",
      "ipython==7.25.0\n",
      "ipython-genutils==0.2.0\n",
      "itsdangerous==2.0.1\n",
      "jedi==0.18.0\n",
      "Jinja2==3.0.1\n",
      "joblib==1.0.1\n",
      "jsmin==2.2.2\n",
      "json2html==1.3.0\n",
      "json5==0.9.6\n",
      "jsonpointer==2.1\n",
      "jsonref==0.2\n",
      "jsonschema==3.2.0\n",
      "jupyter-client==6.1.12\n",
      "jupyter-core==4.7.1\n",
      "jupyter-server==1.10.1\n",
      "jupyterlab==3.0.16\n",
      "jupyterlab-pygments==0.1.2\n",
      "jupyterlab-server==2.6.1\n",
      "keras==2.6.0rc2\n",
      "keras-nightly==2.5.0.dev2021032900\n",
      "Keras-Preprocessing==1.1.2\n",
      "kiwisolver==1.3.1\n",
      "latexcodec==2.0.1\n",
      "maggma==0.30.2\n",
      "Markdown==3.3.4\n",
      "MarkupSafe==2.0.1\n",
      "matplotlib==3.4.2\n",
      "matplotlib-inline==0.1.2\n",
      "mccabe==0.6.1\n",
      "mergedeep==1.3.4\n",
      "mistune==0.8.4\n",
      "mkdocs==1.2.1\n",
      "mkdocs-material==7.1.8\n",
      "mkdocs-material-extensions==1.0.1\n",
      "mkdocs-minify-plugin==0.4.0\n",
      "mknotebooks==0.6.2\n",
      "mmtf-python==1.1.2\n",
      "mock==4.0.3\n",
      "mongogrant==0.3.3\n",
      "mongomock==3.23.0\n",
      "monotonic==1.6\n",
      "monty==2021.7.8\n",
      "mp-pyrho==0.0.14\n",
      "-e git+ssh://git@github.com/sivonxay/workshop.git@dc716873b59e4b5d13b0243d568f3293959a5955#egg=mp_workshop\n",
      "mpcontribs-client==3.10.1\n",
      "mpmath==1.2.1\n",
      "msgpack==1.0.2\n",
      "nbclassic==0.3.1\n",
      "nbclient==0.5.3\n",
      "nbconvert==6.1.0\n",
      "nbformat==5.1.3\n",
      "nbval==0.9.5\n",
      "nbzip==0.1.0\n",
      "nest-asyncio==1.5.1\n",
      "networkx==2.5.1\n",
      "notebook==6.4.0\n",
      "numpy==1.21.1\n",
      "oauthlib==3.1.1\n",
      "opt-einsum==3.3.0\n",
      "orjson==3.6.0\n",
      "packaging==21.0\n",
      "palettable==3.3.0\n",
      "pandas==1.3.1\n",
      "pandocfilters==1.4.3\n",
      "paramiko==2.7.2\n",
      "parso==0.8.2\n",
      "pexpect==4.8.0\n",
      "pickleshare==0.7.5\n",
      "Pillow==8.3.1\n",
      "Pint==0.17\n",
      "plotly==4.14.3\n",
      "pluggy==0.13.1\n",
      "prometheus-client==0.11.0\n",
      "prompt-toolkit==3.0.19\n",
      "protobuf==3.17.3\n",
      "ptyprocess==0.7.0\n",
      "PubChemPy==1.0.4\n",
      "py==1.10.0\n",
      "pyasn1==0.4.8\n",
      "pyasn1-modules==0.2.8\n",
      "pybtex==0.24.0\n",
      "pycodestyle==2.7.0\n",
      "pycparser==2.20\n",
      "pydantic==1.8.2\n",
      "pydash==5.0.2\n",
      "pydocstyle==6.1.1\n",
      "pyflakes==2.3.1\n",
      "Pygments==2.9.0\n",
      "pyIsEmail==1.3.2\n",
      "pymatgen==2022.0.11\n",
      "pymatgen-diffusion==2020.10.8\n",
      "pymdown-extensions==8.2\n",
      "pymongo==3.12.0\n",
      "PyNaCl==1.4.0\n",
      "pynng==0.7.1\n",
      "pyOpenSSL==20.0.1\n",
      "pyparsing==2.4.7\n",
      "pyrsistent==0.18.0\n",
      "pytest==6.2.4\n",
      "python-dateutil==2.8.2\n",
      "pytz==2021.1\n",
      "PyWavelets==1.1.1\n",
      "PyYAML==5.4.1\n",
      "pyyaml_env_tag==0.1\n",
      "pyzmq==22.1.0\n",
      "ratelimit==2.2.1\n",
      "requests==2.26.0\n",
      "requests-futures==1.0.0\n",
      "requests-oauthlib==1.3.0\n",
      "requests-unixsocket==0.2.0\n",
      "retrying==1.3.3\n",
      "rfc3987==1.3.8\n",
      "robocrys==0.2.6\n",
      "rsa==4.7.2\n",
      "ruamel.yaml==0.17.10\n",
      "ruamel.yaml.clib==0.2.6\n",
      "scikit-image==0.18.2\n",
      "scikit-learn==0.24.2\n",
      "scipy==1.7.0\n",
      "Send2Trash==1.7.1\n",
      "sentinels==1.0.0\n",
      "sentry-sdk==1.3.0\n",
      "service-identity==21.1.0\n",
      "simplejson==3.17.3\n",
      "six==1.16.0\n",
      "smmap==4.0.0\n",
      "sniffio==1.2.0\n",
      "snowballstemmer==2.1.0\n",
      "spglib==1.16.1\n",
      "sshtunnel==0.4.0\n",
      "starlette==0.14.2\n",
      "strict-rfc3339==0.7\n",
      "swagger-spec-validator==2.7.3\n",
      "sympy==1.8\n",
      "tabulate==0.8.9\n",
      "tensorboard==2.5.0\n",
      "tensorboard-data-server==0.6.1\n",
      "tensorboard-plugin-wit==1.8.0\n",
      "tensorflow==2.5.0\n",
      "tensorflow-cpu==2.5.0\n",
      "tensorflow-estimator==2.5.0\n",
      "termcolor==1.1.0\n",
      "terminado==0.10.1\n",
      "testpath==0.5.0\n",
      "threadpoolctl==2.2.0\n",
      "tifffile==2021.7.2\n",
      "toml==0.10.2\n",
      "tornado==6.1\n",
      "tqdm==4.61.2\n",
      "traitlets==5.0.5\n",
      "Twisted==21.2.0\n",
      "typing-extensions==3.7.4.3\n",
      "uncertainties==3.1.6\n",
      "urllib3==1.26.6\n",
      "watchdog==2.1.3\n",
      "wcwidth==0.2.5\n",
      "webcolors==1.11.1\n",
      "webencodings==0.5.1\n",
      "websocket-client==1.1.0\n",
      "Werkzeug==2.0.1\n",
      "wrapt==1.12.1\n",
      "yelp-bytes==0.3.0\n",
      "yelp-encodings==1.0.0\n",
      "zipp==3.5.0\n",
      "zope.interface==5.4.0\n"
     ]
    }
   ],
   "source": [
    "!pip freeze"
   ]
  },
  {
   "cell_type": "markdown",
   "id": "3bd3fcf5",
   "metadata": {},
   "source": [
    "## Searching for python packages\n",
    "~~pip can search for software packages in the the Python Package Index (PyPI), an online repository of 3rd party packages~~\n",
    "\n",
    "pip search is deprecated. See this [link](https://status.python.org/) and this [github issue](https://github.com/pypa/pip/issues/5216) for more information."
   ]
  },
  {
   "cell_type": "code",
   "execution_count": 4,
   "id": "7e58ea1d",
   "metadata": {},
   "outputs": [
    {
     "name": "stdout",
     "output_type": "stream",
     "text": [
      "\u001b[33mWARNING: Ignoring invalid distribution -umpy (/Users/esivonxay/anaconda3/envs/mp_workshop_2021/lib/python3.9/site-packages)\u001b[0m\n",
      "\u001b[31mERROR: XMLRPC request failed [code: -32500]\n",
      "RuntimeError: PyPI's XMLRPC API is currently disabled due to unmanageable load and will be deprecated in the near future. See https://status.python.org/ for more information.\u001b[0m\n"
     ]
    }
   ],
   "source": [
    "!pip search scipy"
   ]
  },
  {
   "cell_type": "markdown",
   "id": "f96f76ff",
   "metadata": {},
   "source": [
    "Python packages can be found on the [Python Package Index (PyPI)](https://pypi.org/)."
   ]
  },
  {
   "cell_type": "markdown",
   "id": "dc762671",
   "metadata": {},
   "source": [
    "# Installing python packages"
   ]
  },
  {
   "cell_type": "markdown",
   "id": "9e575835",
   "metadata": {},
   "source": [
    "To install the latest version of a package, use `pip install`"
   ]
  },
  {
   "cell_type": "code",
   "execution_count": 5,
   "id": "68d1b761",
   "metadata": {},
   "outputs": [
    {
     "name": "stdout",
     "output_type": "stream",
     "text": [
      "\u001b[33mWARNING: Ignoring invalid distribution -umpy (/Users/esivonxay/anaconda3/envs/mp_workshop_2021/lib/python3.9/site-packages)\u001b[0m\r\n"
     ]
    }
   ],
   "source": [
    "!pip freeze | grep 'MDAnalysis'"
   ]
  },
  {
   "cell_type": "code",
   "execution_count": 6,
   "id": "227d1bd0",
   "metadata": {
    "scrolled": true
   },
   "outputs": [
    {
     "name": "stdout",
     "output_type": "stream",
     "text": [
      "\u001b[33mWARNING: Ignoring invalid distribution -umpy (/Users/esivonxay/anaconda3/envs/mp_workshop_2021/lib/python3.9/site-packages)\u001b[0m\n",
      "\u001b[33mWARNING: Ignoring invalid distribution -umpy (/Users/esivonxay/anaconda3/envs/mp_workshop_2021/lib/python3.9/site-packages)\u001b[0m\n",
      "Collecting MDAnalysis\n",
      "  Using cached MDAnalysis-1.0.0-cp39-cp39-macosx_10_9_x86_64.whl\n",
      "Requirement already satisfied: scipy>=1.0.0 in /Users/esivonxay/anaconda3/envs/mp_workshop_2021/lib/python3.9/site-packages (from MDAnalysis) (1.7.0)\n",
      "Requirement already satisfied: numpy>=1.13.3 in /Users/esivonxay/anaconda3/envs/mp_workshop_2021/lib/python3.9/site-packages (from MDAnalysis) (1.21.1)\n",
      "Requirement already satisfied: matplotlib>=1.5.1 in /Users/esivonxay/anaconda3/envs/mp_workshop_2021/lib/python3.9/site-packages (from MDAnalysis) (3.4.2)\n",
      "Requirement already satisfied: joblib>=0.12 in /Users/esivonxay/anaconda3/envs/mp_workshop_2021/lib/python3.9/site-packages (from MDAnalysis) (1.0.1)\n",
      "Requirement already satisfied: tqdm>=4.43.0 in /Users/esivonxay/anaconda3/envs/mp_workshop_2021/lib/python3.9/site-packages (from MDAnalysis) (4.61.2)\n",
      "Requirement already satisfied: gsd>=1.4.0 in /Users/esivonxay/anaconda3/envs/mp_workshop_2021/lib/python3.9/site-packages (from MDAnalysis) (2.4.2)\n",
      "Requirement already satisfied: six>=1.4.0 in /Users/esivonxay/anaconda3/envs/mp_workshop_2021/lib/python3.9/site-packages (from MDAnalysis) (1.16.0)\n",
      "Requirement already satisfied: GridDataFormats>=0.4.0 in /Users/esivonxay/anaconda3/envs/mp_workshop_2021/lib/python3.9/site-packages (from MDAnalysis) (0.5.0)\n",
      "Requirement already satisfied: mock in /Users/esivonxay/anaconda3/envs/mp_workshop_2021/lib/python3.9/site-packages (from MDAnalysis) (4.0.3)\n",
      "Requirement already satisfied: mmtf-python>=1.0.0 in /Users/esivonxay/anaconda3/envs/mp_workshop_2021/lib/python3.9/site-packages (from MDAnalysis) (1.1.2)\n",
      "Requirement already satisfied: networkx>=1.0 in /Users/esivonxay/anaconda3/envs/mp_workshop_2021/lib/python3.9/site-packages (from MDAnalysis) (2.5.1)\n",
      "Requirement already satisfied: biopython>=1.71 in /Users/esivonxay/anaconda3/envs/mp_workshop_2021/lib/python3.9/site-packages (from MDAnalysis) (1.79)\n",
      "Requirement already satisfied: python-dateutil>=2.7 in /Users/esivonxay/anaconda3/envs/mp_workshop_2021/lib/python3.9/site-packages (from matplotlib>=1.5.1->MDAnalysis) (2.8.2)\n",
      "Requirement already satisfied: pyparsing>=2.2.1 in /Users/esivonxay/anaconda3/envs/mp_workshop_2021/lib/python3.9/site-packages (from matplotlib>=1.5.1->MDAnalysis) (2.4.7)\n",
      "Requirement already satisfied: kiwisolver>=1.0.1 in /Users/esivonxay/anaconda3/envs/mp_workshop_2021/lib/python3.9/site-packages (from matplotlib>=1.5.1->MDAnalysis) (1.3.1)\n",
      "Requirement already satisfied: pillow>=6.2.0 in /Users/esivonxay/anaconda3/envs/mp_workshop_2021/lib/python3.9/site-packages (from matplotlib>=1.5.1->MDAnalysis) (8.3.1)\n",
      "Requirement already satisfied: cycler>=0.10 in /Users/esivonxay/anaconda3/envs/mp_workshop_2021/lib/python3.9/site-packages (from matplotlib>=1.5.1->MDAnalysis) (0.10.0)\n",
      "Requirement already satisfied: msgpack>=0.5.6 in /Users/esivonxay/anaconda3/envs/mp_workshop_2021/lib/python3.9/site-packages (from mmtf-python>=1.0.0->MDAnalysis) (1.0.2)\n",
      "Requirement already satisfied: decorator<5,>=4.3 in /Users/esivonxay/anaconda3/envs/mp_workshop_2021/lib/python3.9/site-packages (from networkx>=1.0->MDAnalysis) (4.4.2)\n",
      "\u001b[33mWARNING: Ignoring invalid distribution -umpy (/Users/esivonxay/anaconda3/envs/mp_workshop_2021/lib/python3.9/site-packages)\u001b[0m\n",
      "Installing collected packages: MDAnalysis\n",
      "\u001b[33mWARNING: Ignoring invalid distribution -umpy (/Users/esivonxay/anaconda3/envs/mp_workshop_2021/lib/python3.9/site-packages)\u001b[0m\n",
      "Successfully installed MDAnalysis-1.0.0\n",
      "\u001b[33mWARNING: Ignoring invalid distribution -umpy (/Users/esivonxay/anaconda3/envs/mp_workshop_2021/lib/python3.9/site-packages)\u001b[0m\n",
      "\u001b[33mWARNING: Ignoring invalid distribution -umpy (/Users/esivonxay/anaconda3/envs/mp_workshop_2021/lib/python3.9/site-packages)\u001b[0m\n"
     ]
    }
   ],
   "source": [
    "!pip install MDAnalysis"
   ]
  },
  {
   "cell_type": "markdown",
   "id": "4b09cb7c",
   "metadata": {},
   "source": [
    "Check if the package is installed"
   ]
  },
  {
   "cell_type": "code",
   "execution_count": 7,
   "id": "ab86f945",
   "metadata": {},
   "outputs": [
    {
     "name": "stdout",
     "output_type": "stream",
     "text": [
      "\u001b[33mWARNING: Ignoring invalid distribution -umpy (/Users/esivonxay/anaconda3/envs/mp_workshop_2021/lib/python3.9/site-packages)\u001b[0m\n",
      "\u001b[01;31m\u001b[KMDAnalysis\u001b[m\u001b[K==1.0.0\n"
     ]
    }
   ],
   "source": [
    "!pip freeze | grep 'MDAnalysis'"
   ]
  },
  {
   "cell_type": "code",
   "execution_count": 8,
   "id": "64598048",
   "metadata": {},
   "outputs": [
    {
     "name": "stdout",
     "output_type": "stream",
     "text": [
      "\u001b[33mWARNING: Ignoring invalid distribution -umpy (/Users/esivonxay/anaconda3/envs/mp_workshop_2021/lib/python3.9/site-packages)\u001b[0m\n",
      "Name: MDAnalysis\n",
      "Version: 1.0.0\n",
      "Summary: An object-oriented toolkit to analyze molecular dynamics trajectories generated by CHARMM, Gromacs, NAMD, LAMMPS, or Amber.\n",
      "Home-page: https://www.mdanalysis.org\n",
      "Author: Naveen Michaud-Agrawal\n",
      "Author-email: naveen.michaudagrawal@gmail.com\n",
      "License: GPL 2\n",
      "Location: /Users/esivonxay/anaconda3/envs/mp_workshop_2021/lib/python3.9/site-packages\n",
      "Requires: joblib, tqdm, matplotlib, gsd, numpy, scipy, mmtf-python, GridDataFormats, mock, six, networkx, biopython\n",
      "Required-by: \n"
     ]
    }
   ],
   "source": [
    "!pip show MDAnalysis"
   ]
  },
  {
   "cell_type": "code",
   "execution_count": 9,
   "id": "f57c570d",
   "metadata": {},
   "outputs": [
    {
     "data": {
      "text/plain": [
       "'1.0.0'"
      ]
     },
     "execution_count": 9,
     "metadata": {},
     "output_type": "execute_result"
    }
   ],
   "source": [
    "# Why does this work without restarting the package?\n",
    "import MDAnalysis\n",
    "MDAnalysis.__version__"
   ]
  },
  {
   "cell_type": "markdown",
   "id": "5bbaaa1f",
   "metadata": {},
   "source": [
    "Reload the notebook kernel to load the newly installed package"
   ]
  },
  {
   "cell_type": "code",
   "execution_count": 10,
   "id": "dd5a959c",
   "metadata": {},
   "outputs": [
    {
     "data": {
      "text/plain": [
       "'1.0.0'"
      ]
     },
     "execution_count": 10,
     "metadata": {},
     "output_type": "execute_result"
    }
   ],
   "source": [
    "import MDAnalysis\n",
    "MDAnalysis.__version__"
   ]
  },
  {
   "cell_type": "markdown",
   "id": "343ff801",
   "metadata": {},
   "source": [
    "Package versions can be found on the PyPI page for each package. Specify the version using `==`."
   ]
  },
  {
   "cell_type": "code",
   "execution_count": 11,
   "id": "ed6437eb",
   "metadata": {
    "scrolled": true
   },
   "outputs": [
    {
     "name": "stdout",
     "output_type": "stream",
     "text": [
      "\u001b[33mWARNING: Ignoring invalid distribution -umpy (/Users/esivonxay/anaconda3/envs/mp_workshop_2021/lib/python3.9/site-packages)\u001b[0m\n",
      "\u001b[33mWARNING: Ignoring invalid distribution -umpy (/Users/esivonxay/anaconda3/envs/mp_workshop_2021/lib/python3.9/site-packages)\u001b[0m\n",
      "Collecting MDAnalysis==2.0.0b0\n",
      "  Using cached MDAnalysis-2.0.0b0-cp39-cp39-macosx_10_9_x86_64.whl\n",
      "Requirement already satisfied: joblib>=0.12 in /Users/esivonxay/anaconda3/envs/mp_workshop_2021/lib/python3.9/site-packages (from MDAnalysis==2.0.0b0) (1.0.1)\n",
      "Requirement already satisfied: scipy>=1.0.0 in /Users/esivonxay/anaconda3/envs/mp_workshop_2021/lib/python3.9/site-packages (from MDAnalysis==2.0.0b0) (1.7.0)\n",
      "Requirement already satisfied: mmtf-python>=1.0.0 in /Users/esivonxay/anaconda3/envs/mp_workshop_2021/lib/python3.9/site-packages (from MDAnalysis==2.0.0b0) (1.1.2)\n",
      "Requirement already satisfied: networkx>=1.0 in /Users/esivonxay/anaconda3/envs/mp_workshop_2021/lib/python3.9/site-packages (from MDAnalysis==2.0.0b0) (2.5.1)\n",
      "Requirement already satisfied: matplotlib>=1.5.1 in /Users/esivonxay/anaconda3/envs/mp_workshop_2021/lib/python3.9/site-packages (from MDAnalysis==2.0.0b0) (3.4.2)\n",
      "Requirement already satisfied: gsd>=1.4.0 in /Users/esivonxay/anaconda3/envs/mp_workshop_2021/lib/python3.9/site-packages (from MDAnalysis==2.0.0b0) (2.4.2)\n",
      "Requirement already satisfied: biopython>=1.71 in /Users/esivonxay/anaconda3/envs/mp_workshop_2021/lib/python3.9/site-packages (from MDAnalysis==2.0.0b0) (1.79)\n",
      "Requirement already satisfied: tqdm>=4.43.0 in /Users/esivonxay/anaconda3/envs/mp_workshop_2021/lib/python3.9/site-packages (from MDAnalysis==2.0.0b0) (4.61.2)\n",
      "Requirement already satisfied: GridDataFormats>=0.4.0 in /Users/esivonxay/anaconda3/envs/mp_workshop_2021/lib/python3.9/site-packages (from MDAnalysis==2.0.0b0) (0.5.0)\n",
      "Requirement already satisfied: threadpoolctl in /Users/esivonxay/anaconda3/envs/mp_workshop_2021/lib/python3.9/site-packages (from MDAnalysis==2.0.0b0) (2.2.0)\n",
      "Requirement already satisfied: numpy>=1.16.0 in /Users/esivonxay/anaconda3/envs/mp_workshop_2021/lib/python3.9/site-packages (from MDAnalysis==2.0.0b0) (1.21.1)\n",
      "Requirement already satisfied: six in /Users/esivonxay/anaconda3/envs/mp_workshop_2021/lib/python3.9/site-packages (from GridDataFormats>=0.4.0->MDAnalysis==2.0.0b0) (1.16.0)\n",
      "Requirement already satisfied: pillow>=6.2.0 in /Users/esivonxay/anaconda3/envs/mp_workshop_2021/lib/python3.9/site-packages (from matplotlib>=1.5.1->MDAnalysis==2.0.0b0) (8.3.1)\n",
      "Requirement already satisfied: cycler>=0.10 in /Users/esivonxay/anaconda3/envs/mp_workshop_2021/lib/python3.9/site-packages (from matplotlib>=1.5.1->MDAnalysis==2.0.0b0) (0.10.0)\n",
      "Requirement already satisfied: kiwisolver>=1.0.1 in /Users/esivonxay/anaconda3/envs/mp_workshop_2021/lib/python3.9/site-packages (from matplotlib>=1.5.1->MDAnalysis==2.0.0b0) (1.3.1)\n",
      "Requirement already satisfied: python-dateutil>=2.7 in /Users/esivonxay/anaconda3/envs/mp_workshop_2021/lib/python3.9/site-packages (from matplotlib>=1.5.1->MDAnalysis==2.0.0b0) (2.8.2)\n",
      "Requirement already satisfied: pyparsing>=2.2.1 in /Users/esivonxay/anaconda3/envs/mp_workshop_2021/lib/python3.9/site-packages (from matplotlib>=1.5.1->MDAnalysis==2.0.0b0) (2.4.7)\n",
      "Requirement already satisfied: msgpack>=0.5.6 in /Users/esivonxay/anaconda3/envs/mp_workshop_2021/lib/python3.9/site-packages (from mmtf-python>=1.0.0->MDAnalysis==2.0.0b0) (1.0.2)\n",
      "Requirement already satisfied: decorator<5,>=4.3 in /Users/esivonxay/anaconda3/envs/mp_workshop_2021/lib/python3.9/site-packages (from networkx>=1.0->MDAnalysis==2.0.0b0) (4.4.2)\n",
      "\u001b[33mWARNING: Ignoring invalid distribution -umpy (/Users/esivonxay/anaconda3/envs/mp_workshop_2021/lib/python3.9/site-packages)\u001b[0m\n",
      "Installing collected packages: MDAnalysis\n",
      "  Attempting uninstall: MDAnalysis\n",
      "\u001b[33m    WARNING: Ignoring invalid distribution -umpy (/Users/esivonxay/anaconda3/envs/mp_workshop_2021/lib/python3.9/site-packages)\u001b[0m\n",
      "    Found existing installation: MDAnalysis 1.0.0\n",
      "    Uninstalling MDAnalysis-1.0.0:\n",
      "      Successfully uninstalled MDAnalysis-1.0.0\n",
      "\u001b[33mWARNING: Ignoring invalid distribution -umpy (/Users/esivonxay/anaconda3/envs/mp_workshop_2021/lib/python3.9/site-packages)\u001b[0m\n",
      "Successfully installed MDAnalysis-2.0.0b0\n",
      "\u001b[33mWARNING: Ignoring invalid distribution -umpy (/Users/esivonxay/anaconda3/envs/mp_workshop_2021/lib/python3.9/site-packages)\u001b[0m\n",
      "\u001b[33mWARNING: Ignoring invalid distribution -umpy (/Users/esivonxay/anaconda3/envs/mp_workshop_2021/lib/python3.9/site-packages)\u001b[0m\n"
     ]
    }
   ],
   "source": [
    "!pip install --upgrade MDAnalysis==2.0.0b0"
   ]
  },
  {
   "cell_type": "code",
   "execution_count": 12,
   "id": "24b6b29c",
   "metadata": {},
   "outputs": [
    {
     "name": "stdout",
     "output_type": "stream",
     "text": [
      "\u001b[33mWARNING: Ignoring invalid distribution -umpy (/Users/esivonxay/anaconda3/envs/mp_workshop_2021/lib/python3.9/site-packages)\u001b[0m\n",
      "Name: MDAnalysis\n",
      "Version: 2.0.0b0\n",
      "Summary: An object-oriented toolkit to analyze molecular dynamics trajectories generated by CHARMM, Gromacs, NAMD, LAMMPS, or Amber.\n",
      "Home-page: https://www.mdanalysis.org\n",
      "Author: MDAnalysis Development Team\n",
      "Author-email: mdanalysis@numfocus.org\n",
      "License: GPL 2\n",
      "Location: /Users/esivonxay/anaconda3/envs/mp_workshop_2021/lib/python3.9/site-packages\n",
      "Requires: GridDataFormats, gsd, mmtf-python, networkx, joblib, biopython, scipy, matplotlib, tqdm, threadpoolctl, numpy\n",
      "Required-by: \n"
     ]
    }
   ],
   "source": [
    "!pip show MDAnalysis"
   ]
  },
  {
   "cell_type": "code",
   "execution_count": 1,
   "id": "e0fc536f",
   "metadata": {},
   "outputs": [
    {
     "data": {
      "text/plain": [
       "'2.0.0-beta'"
      ]
     },
     "execution_count": 1,
     "metadata": {},
     "output_type": "execute_result"
    }
   ],
   "source": [
    "import MDAnalysis\n",
    "MDAnalysis.__version__"
   ]
  },
  {
   "cell_type": "markdown",
   "id": "2e685a9e",
   "metadata": {},
   "source": [
    "## Installing from packages from Github"
   ]
  },
  {
   "cell_type": "code",
   "execution_count": 7,
   "id": "aedd9744",
   "metadata": {},
   "outputs": [
    {
     "name": "stdout",
     "output_type": "stream",
     "text": [
      "Cloning into 'matminer'...\n",
      "remote: Enumerating objects: 23077, done.\u001b[K\n",
      "remote: Counting objects: 100% (1951/1951), done.\u001b[K\n",
      "remote: Compressing objects: 100% (597/597), done.\u001b[K\n",
      "remote: Total 23077 (delta 1392), reused 1785 (delta 1346), pack-reused 21126\u001b[K\n",
      "Receiving objects: 100% (23077/23077), 37.02 MiB | 16.73 MiB/s, done.\n",
      "Resolving deltas: 100% (17113/17113), done.\n"
     ]
    }
   ],
   "source": [
    "!git clone git@github.com:hackingmaterials/matminer.git"
   ]
  },
  {
   "cell_type": "code",
   "execution_count": 8,
   "id": "74c6d2e6",
   "metadata": {},
   "outputs": [
    {
     "name": "stdout",
     "output_type": "stream",
     "text": [
      "\u001b[33mWARNING: Ignoring invalid distribution -umpy (/Users/esivonxay/anaconda3/envs/mp_workshop_2021/lib/python3.9/site-packages)\u001b[0m\n",
      "\u001b[33mWARNING: Ignoring invalid distribution -umpy (/Users/esivonxay/anaconda3/envs/mp_workshop_2021/lib/python3.9/site-packages)\u001b[0m\n",
      "Processing ./matminer\n",
      "\u001b[33m  DEPRECATION: A future pip version will change local packages to be built in-place without first copying to a temporary directory. We recommend you use --use-feature=in-tree-build to test your packages with this new behavior before it becomes the default.\n",
      "   pip 21.3 will remove support for this functionality. You can find discussion regarding this at https://github.com/pypa/pip/issues/7555.\u001b[0m\n",
      "  Installing build dependencies ... \u001b[?25ldone\n",
      "\u001b[?25h  Getting requirements to build wheel ... \u001b[?25ldone\n",
      "\u001b[?25h  Installing backend dependencies ... \u001b[?25ldone\n",
      "\u001b[?25h    Preparing wheel metadata ... \u001b[?25ldone\n",
      "\u001b[?25hRequirement already satisfied: requests>=2.26.0 in /Users/esivonxay/anaconda3/envs/mp_workshop_2021/lib/python3.9/site-packages (from matminer==0.7.3) (2.26.0)\n",
      "Requirement already satisfied: future>=0.18.2 in /Users/esivonxay/anaconda3/envs/mp_workshop_2021/lib/python3.9/site-packages (from matminer==0.7.3) (0.18.2)\n",
      "Requirement already satisfied: scikit-learn>=0.24.2 in /Users/esivonxay/anaconda3/envs/mp_workshop_2021/lib/python3.9/site-packages (from matminer==0.7.3) (0.24.2)\n",
      "Requirement already satisfied: pandas>=1.3.0 in /Users/esivonxay/anaconda3/envs/mp_workshop_2021/lib/python3.9/site-packages (from matminer==0.7.3) (1.3.1)\n",
      "Requirement already satisfied: numpy>=1.21.1 in /Users/esivonxay/anaconda3/envs/mp_workshop_2021/lib/python3.9/site-packages (from matminer==0.7.3) (1.21.1)\n",
      "Requirement already satisfied: pymongo>=3.12.0 in /Users/esivonxay/anaconda3/envs/mp_workshop_2021/lib/python3.9/site-packages (from matminer==0.7.3) (3.12.0)\n",
      "Requirement already satisfied: tqdm>=4.61.2 in /Users/esivonxay/anaconda3/envs/mp_workshop_2021/lib/python3.9/site-packages (from matminer==0.7.3) (4.61.2)\n",
      "Requirement already satisfied: jsonschema>=3.2.0 in /Users/esivonxay/anaconda3/envs/mp_workshop_2021/lib/python3.9/site-packages (from matminer==0.7.3) (3.2.0)\n",
      "Requirement already satisfied: six>=1.16.0 in /Users/esivonxay/anaconda3/envs/mp_workshop_2021/lib/python3.9/site-packages (from matminer==0.7.3) (1.16.0)\n",
      "Requirement already satisfied: sympy>=1.8 in /Users/esivonxay/anaconda3/envs/mp_workshop_2021/lib/python3.9/site-packages (from matminer==0.7.3) (1.8)\n",
      "Requirement already satisfied: pint>=0.17 in /Users/esivonxay/anaconda3/envs/mp_workshop_2021/lib/python3.9/site-packages (from matminer==0.7.3) (0.17)\n",
      "Requirement already satisfied: pymatgen>=2022.0.10 in /Users/esivonxay/anaconda3/envs/mp_workshop_2021/lib/python3.9/site-packages (from matminer==0.7.3) (2022.0.11)\n",
      "Requirement already satisfied: monty>=2021.7.8 in /Users/esivonxay/anaconda3/envs/mp_workshop_2021/lib/python3.9/site-packages (from matminer==0.7.3) (2021.7.8)\n",
      "Requirement already satisfied: setuptools in /Users/esivonxay/anaconda3/envs/mp_workshop_2021/lib/python3.9/site-packages (from jsonschema>=3.2.0->matminer==0.7.3) (49.6.0.post20210108)\n",
      "Requirement already satisfied: attrs>=17.4.0 in /Users/esivonxay/anaconda3/envs/mp_workshop_2021/lib/python3.9/site-packages (from jsonschema>=3.2.0->matminer==0.7.3) (21.2.0)\n",
      "Requirement already satisfied: pyrsistent>=0.14.0 in /Users/esivonxay/anaconda3/envs/mp_workshop_2021/lib/python3.9/site-packages (from jsonschema>=3.2.0->matminer==0.7.3) (0.18.0)\n",
      "Requirement already satisfied: pytz>=2017.3 in /Users/esivonxay/anaconda3/envs/mp_workshop_2021/lib/python3.9/site-packages (from pandas>=1.3.0->matminer==0.7.3) (2021.1)\n",
      "Requirement already satisfied: python-dateutil>=2.7.3 in /Users/esivonxay/anaconda3/envs/mp_workshop_2021/lib/python3.9/site-packages (from pandas>=1.3.0->matminer==0.7.3) (2.8.2)\n",
      "Requirement already satisfied: packaging in /Users/esivonxay/anaconda3/envs/mp_workshop_2021/lib/python3.9/site-packages (from pint>=0.17->matminer==0.7.3) (21.0)\n",
      "Requirement already satisfied: networkx>=2.2 in /Users/esivonxay/anaconda3/envs/mp_workshop_2021/lib/python3.9/site-packages (from pymatgen>=2022.0.10->matminer==0.7.3) (2.5.1)\n",
      "Requirement already satisfied: uncertainties>=3.1.4 in /Users/esivonxay/anaconda3/envs/mp_workshop_2021/lib/python3.9/site-packages (from pymatgen>=2022.0.10->matminer==0.7.3) (3.1.6)\n",
      "Requirement already satisfied: ruamel.yaml>=0.15.6 in /Users/esivonxay/anaconda3/envs/mp_workshop_2021/lib/python3.9/site-packages (from pymatgen>=2022.0.10->matminer==0.7.3) (0.17.10)\n",
      "Requirement already satisfied: palettable>=3.1.1 in /Users/esivonxay/anaconda3/envs/mp_workshop_2021/lib/python3.9/site-packages (from pymatgen>=2022.0.10->matminer==0.7.3) (3.3.0)\n",
      "Requirement already satisfied: tabulate in /Users/esivonxay/anaconda3/envs/mp_workshop_2021/lib/python3.9/site-packages (from pymatgen>=2022.0.10->matminer==0.7.3) (0.8.9)\n",
      "Requirement already satisfied: scipy>=1.5.0 in /Users/esivonxay/anaconda3/envs/mp_workshop_2021/lib/python3.9/site-packages (from pymatgen>=2022.0.10->matminer==0.7.3) (1.7.0)\n",
      "Requirement already satisfied: spglib>=1.9.9.44 in /Users/esivonxay/anaconda3/envs/mp_workshop_2021/lib/python3.9/site-packages (from pymatgen>=2022.0.10->matminer==0.7.3) (1.16.1)\n",
      "Requirement already satisfied: matplotlib>=1.5 in /Users/esivonxay/anaconda3/envs/mp_workshop_2021/lib/python3.9/site-packages (from pymatgen>=2022.0.10->matminer==0.7.3) (3.4.2)\n",
      "Requirement already satisfied: plotly>=4.5.0 in /Users/esivonxay/anaconda3/envs/mp_workshop_2021/lib/python3.9/site-packages (from pymatgen>=2022.0.10->matminer==0.7.3) (4.14.3)\n",
      "Requirement already satisfied: cycler>=0.10 in /Users/esivonxay/anaconda3/envs/mp_workshop_2021/lib/python3.9/site-packages (from matplotlib>=1.5->pymatgen>=2022.0.10->matminer==0.7.3) (0.10.0)\n",
      "Requirement already satisfied: pyparsing>=2.2.1 in /Users/esivonxay/anaconda3/envs/mp_workshop_2021/lib/python3.9/site-packages (from matplotlib>=1.5->pymatgen>=2022.0.10->matminer==0.7.3) (2.4.7)\n",
      "Requirement already satisfied: kiwisolver>=1.0.1 in /Users/esivonxay/anaconda3/envs/mp_workshop_2021/lib/python3.9/site-packages (from matplotlib>=1.5->pymatgen>=2022.0.10->matminer==0.7.3) (1.3.1)\n",
      "Requirement already satisfied: pillow>=6.2.0 in /Users/esivonxay/anaconda3/envs/mp_workshop_2021/lib/python3.9/site-packages (from matplotlib>=1.5->pymatgen>=2022.0.10->matminer==0.7.3) (8.3.1)\n",
      "Requirement already satisfied: decorator<5,>=4.3 in /Users/esivonxay/anaconda3/envs/mp_workshop_2021/lib/python3.9/site-packages (from networkx>=2.2->pymatgen>=2022.0.10->matminer==0.7.3) (4.4.2)\n",
      "Requirement already satisfied: retrying>=1.3.3 in /Users/esivonxay/anaconda3/envs/mp_workshop_2021/lib/python3.9/site-packages (from plotly>=4.5.0->pymatgen>=2022.0.10->matminer==0.7.3) (1.3.3)\n",
      "Requirement already satisfied: certifi>=2017.4.17 in /Users/esivonxay/anaconda3/envs/mp_workshop_2021/lib/python3.9/site-packages (from requests>=2.26.0->matminer==0.7.3) (2021.5.30)\n",
      "Requirement already satisfied: urllib3<1.27,>=1.21.1 in /Users/esivonxay/anaconda3/envs/mp_workshop_2021/lib/python3.9/site-packages (from requests>=2.26.0->matminer==0.7.3) (1.26.6)\n",
      "Requirement already satisfied: idna<4,>=2.5 in /Users/esivonxay/anaconda3/envs/mp_workshop_2021/lib/python3.9/site-packages (from requests>=2.26.0->matminer==0.7.3) (3.2)\n",
      "Requirement already satisfied: charset-normalizer~=2.0.0 in /Users/esivonxay/anaconda3/envs/mp_workshop_2021/lib/python3.9/site-packages (from requests>=2.26.0->matminer==0.7.3) (2.0.3)\n",
      "Requirement already satisfied: ruamel.yaml.clib>=0.1.2 in /Users/esivonxay/anaconda3/envs/mp_workshop_2021/lib/python3.9/site-packages (from ruamel.yaml>=0.15.6->pymatgen>=2022.0.10->matminer==0.7.3) (0.2.6)\n",
      "Requirement already satisfied: threadpoolctl>=2.0.0 in /Users/esivonxay/anaconda3/envs/mp_workshop_2021/lib/python3.9/site-packages (from scikit-learn>=0.24.2->matminer==0.7.3) (2.2.0)\n",
      "Requirement already satisfied: joblib>=0.11 in /Users/esivonxay/anaconda3/envs/mp_workshop_2021/lib/python3.9/site-packages (from scikit-learn>=0.24.2->matminer==0.7.3) (1.0.1)\n",
      "Requirement already satisfied: mpmath>=0.19 in /Users/esivonxay/anaconda3/envs/mp_workshop_2021/lib/python3.9/site-packages (from sympy>=1.8->matminer==0.7.3) (1.2.1)\n"
     ]
    },
    {
     "name": "stdout",
     "output_type": "stream",
     "text": [
      "Building wheels for collected packages: matminer\n",
      "  Building wheel for matminer (PEP 517) ... \u001b[?25ldone\n",
      "\u001b[?25h  Created wheel for matminer: filename=matminer-0.7.3-py3-none-any.whl size=1376795 sha256=cc32e8125a223b3f7fb562680133160b441fd8301b5a975cadb21ea1dc0a2a44\n",
      "  Stored in directory: /private/var/folders/dz/rm936c0s217387w8btrd8z_m0000gn/T/pip-ephem-wheel-cache-jaejahx8/wheels/e8/23/d1/7fea87b87f2e1548e5fad5008fe15ee9934db5dff509e434ca\n",
      "Successfully built matminer\n",
      "\u001b[33mWARNING: Ignoring invalid distribution -umpy (/Users/esivonxay/anaconda3/envs/mp_workshop_2021/lib/python3.9/site-packages)\u001b[0m\n",
      "Installing collected packages: matminer\n",
      "\u001b[33mWARNING: Ignoring invalid distribution -umpy (/Users/esivonxay/anaconda3/envs/mp_workshop_2021/lib/python3.9/site-packages)\u001b[0m\n",
      "Successfully installed matminer-0.7.3\n",
      "\u001b[33mWARNING: Ignoring invalid distribution -umpy (/Users/esivonxay/anaconda3/envs/mp_workshop_2021/lib/python3.9/site-packages)\u001b[0m\n",
      "\u001b[33mWARNING: Ignoring invalid distribution -umpy (/Users/esivonxay/anaconda3/envs/mp_workshop_2021/lib/python3.9/site-packages)\u001b[0m\n"
     ]
    }
   ],
   "source": [
    "!pip install matminer/"
   ]
  },
  {
   "cell_type": "markdown",
   "id": "9774a454",
   "metadata": {},
   "source": [
    "# Removing Python Packages"
   ]
  },
  {
   "cell_type": "markdown",
   "id": "6739ed40",
   "metadata": {},
   "source": [
    "Use `pip uninstall` to remove a python package. Use the `-y` flag to pre-confirm the uninstall"
   ]
  },
  {
   "cell_type": "code",
   "execution_count": 9,
   "id": "de22a041",
   "metadata": {},
   "outputs": [
    {
     "name": "stdout",
     "output_type": "stream",
     "text": [
      "\u001b[33mWARNING: Ignoring invalid distribution -umpy (/Users/esivonxay/anaconda3/envs/mp_workshop_2021/lib/python3.9/site-packages)\u001b[0m\n",
      "\u001b[33mWARNING: Ignoring invalid distribution -umpy (/Users/esivonxay/anaconda3/envs/mp_workshop_2021/lib/python3.9/site-packages)\u001b[0m\n",
      "Found existing installation: MDAnalysis 2.0.0b0\n",
      "Uninstalling MDAnalysis-2.0.0b0:\n",
      "  Successfully uninstalled MDAnalysis-2.0.0b0\n"
     ]
    }
   ],
   "source": [
    "!pip uninstall -y MDAnalysis"
   ]
  },
  {
   "cell_type": "code",
   "execution_count": 10,
   "id": "114cfb78",
   "metadata": {},
   "outputs": [
    {
     "name": "stdout",
     "output_type": "stream",
     "text": [
      "\u001b[33mWARNING: Ignoring invalid distribution -umpy (/Users/esivonxay/anaconda3/envs/mp_workshop_2021/lib/python3.9/site-packages)\u001b[0m\r\n",
      "\u001b[33mWARNING: Package(s) not found: MDAnalysis\u001b[0m\r\n"
     ]
    }
   ],
   "source": [
    "!pip show MDAnalysis"
   ]
  },
  {
   "cell_type": "markdown",
   "id": "ca240e6a",
   "metadata": {},
   "source": [
    "Now when we attempt to show the details, we see that the MDAnalysis package is uninstalled and cannot be found"
   ]
  },
  {
   "cell_type": "code",
   "execution_count": 11,
   "id": "47072255",
   "metadata": {},
   "outputs": [
    {
     "name": "stdout",
     "output_type": "stream",
     "text": [
      "\u001b[33mWARNING: Ignoring invalid distribution -umpy (/Users/esivonxay/anaconda3/envs/mp_workshop_2021/lib/python3.9/site-packages)\u001b[0m\n",
      "\u001b[33mWARNING: Ignoring invalid distribution -umpy (/Users/esivonxay/anaconda3/envs/mp_workshop_2021/lib/python3.9/site-packages)\u001b[0m\n",
      "Found existing installation: matminer 0.7.3\n",
      "Uninstalling matminer-0.7.3:\n",
      "  Successfully uninstalled matminer-0.7.3\n"
     ]
    }
   ],
   "source": [
    "!pip uninstall -y matminer"
   ]
  },
  {
   "cell_type": "code",
   "execution_count": null,
   "id": "250326f7",
   "metadata": {},
   "outputs": [],
   "source": []
  }
 ],
 "metadata": {
  "kernelspec": {
   "display_name": "Python 3 (ipykernel)",
   "language": "python",
   "name": "python3"
  },
  "language_info": {
   "codemirror_mode": {
    "name": "ipython",
    "version": 3
   },
   "file_extension": ".py",
   "mimetype": "text/x-python",
   "name": "python",
   "nbconvert_exporter": "python",
   "pygments_lexer": "ipython3",
   "version": "3.9.6"
  }
 },
 "nbformat": 4,
 "nbformat_minor": 5
}
