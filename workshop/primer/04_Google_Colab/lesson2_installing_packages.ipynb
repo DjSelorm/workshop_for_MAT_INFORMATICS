{
  "nbformat": 4,
  "nbformat_minor": 0,
  "metadata": {
    "colab": {
      "name": "lesson2_installing_packages.ipynb",
      "provenance": [],
      "collapsed_sections": []
    },
    "kernelspec": {
      "name": "python3",
      "display_name": "Python 3"
    },
    "language_info": {
      "name": "python"
    }
  },
  "cells": [
    {
      "cell_type": "markdown",
      "metadata": {
        "id": "XJsEWVbRXoHw"
      },
      "source": [
        "# Install Conda using conda-colab\n",
        "Google Colab does contain a pre-installed version of conda. Conda is a package manager and environment manager.\n",
        "\n",
        "This will allow you to use conda to install packages"
      ]
    },
    {
      "cell_type": "code",
      "metadata": {
        "colab": {
          "base_uri": "https://localhost:8080/"
        },
        "id": "JpDm2ypyZfMD",
        "outputId": "68153ddd-e7af-4961-821e-b80d8af69ebb"
      },
      "source": [
        "!which conda"
      ],
      "execution_count": 14,
      "outputs": [
        {
          "output_type": "stream",
          "text": [
            "/usr/local/bin/conda\n"
          ],
          "name": "stdout"
        }
      ]
    },
    {
      "cell_type": "markdown",
      "metadata": {
        "id": "faXB6tMOcT2z"
      },
      "source": [
        "To simplify the conda installation, we use [condacolab](https://pypi.org/project/condacolab/). "
      ]
    },
    {
      "cell_type": "code",
      "metadata": {
        "colab": {
          "base_uri": "https://localhost:8080/"
        },
        "id": "pOoEqgtKQL7X",
        "outputId": "4875104c-5662-47ee-d412-dbe173306d77"
      },
      "source": [
        "%%timeit -n 1 -r 1\n",
        "!pip install -q condacolab"
      ],
      "execution_count": 1,
      "outputs": [
        {
          "output_type": "stream",
          "text": [
            "1 loop, best of 1: 4.14 s per loop\n"
          ],
          "name": "stdout"
        }
      ]
    },
    {
      "cell_type": "code",
      "metadata": {
        "colab": {
          "base_uri": "https://localhost:8080/"
        },
        "id": "yqiixsVMQPsq",
        "outputId": "7659242c-94ed-4d15-c6dc-152d126a1286"
      },
      "source": [
        "%%timeit -n 1 -r 1\n",
        "import condacolab\n",
        "condacolab.install()"
      ],
      "execution_count": 2,
      "outputs": [
        {
          "output_type": "stream",
          "text": [
            "⏬ Downloading https://github.com/jaimergp/miniforge/releases/latest/download/Mambaforge-colab-Linux-x86_64.sh...\n",
            "📦 Installing...\n",
            "📌 Adjusting configuration...\n",
            "🩹 Patching environment...\n",
            "⏲ Done in 0:00:40\n",
            "🔁 Restarting kernel...\n",
            "1 loop, best of 1: 40.3 s per loop\n"
          ],
          "name": "stdout"
        }
      ]
    },
    {
      "cell_type": "markdown",
      "metadata": {
        "id": "DSetNfuXZh67"
      },
      "source": [
        "After running condacolab.install(), conda and mamba are installed. Conda and Mamba are functionally equivalent, however conda is written in python, whilst Mamba is written in C. \n",
        "\n",
        "In our lesson, we use Mamba to leverage its speed (as compared to Conda). However, we note that Mamba can be more prone to bugs, as it is relatively new and less popular."
      ]
    },
    {
      "cell_type": "code",
      "metadata": {
        "colab": {
          "base_uri": "https://localhost:8080/"
        },
        "id": "u61ZCG7ubOTF",
        "outputId": "bed44e2a-10ca-4b76-d90a-57df43878e05"
      },
      "source": [
        "!which conda\n",
        "!which mamba"
      ],
      "execution_count": 15,
      "outputs": [
        {
          "output_type": "stream",
          "text": [
            "/usr/local/bin/conda\n",
            "/usr/local/bin/mamba\n"
          ],
          "name": "stdout"
        }
      ]
    },
    {
      "cell_type": "markdown",
      "metadata": {
        "id": "m6xH_dS_XszC"
      },
      "source": [
        "For compatibility with colab, we will need to ensure the numpy version is unchanged when we install packages (such as pymatgen).\n",
        "\n",
        "To identify the numpy version factory installed on colab:"
      ]
    },
    {
      "cell_type": "code",
      "metadata": {
        "colab": {
          "base_uri": "https://localhost:8080/"
        },
        "id": "9ZwllzNPVg1r",
        "outputId": "1da82c84-bc5a-4c66-9903-69372ad07a9a"
      },
      "source": [
        "import numpy as np\n",
        "print(np.__version__)"
      ],
      "execution_count": 11,
      "outputs": [
        {
          "output_type": "stream",
          "text": [
            "1.19.5\n"
          ],
          "name": "stdout"
        }
      ]
    },
    {
      "cell_type": "markdown",
      "metadata": {
        "id": "jmrwl3RcX0d7"
      },
      "source": [
        "The current version of numpy is v1.19.5, thus we specify mamba to install this specific version."
      ]
    },
    {
      "cell_type": "code",
      "metadata": {
        "colab": {
          "base_uri": "https://localhost:8080/"
        },
        "id": "Q4JEeqCUSZcA",
        "outputId": "5e4eea22-34fc-4c91-98c5-af2703600ae8"
      },
      "source": [
        "%%timeit -n 1 -r 1\n",
        "!mamba install -q --channel conda-forge pymatgen numpy=1.19.5 -y"
      ],
      "execution_count": 13,
      "outputs": [
        {
          "output_type": "stream",
          "text": [
            "1 loop, best of 1: 4.54 s per loop\n"
          ],
          "name": "stdout"
        }
      ]
    },
    {
      "cell_type": "markdown",
      "metadata": {
        "id": "YJ53xLpRbSkB"
      },
      "source": [
        "Installation of pymatgen is complete. We test its functionality"
      ]
    },
    {
      "cell_type": "code",
      "metadata": {
        "id": "8zxeAwzLSZ_D"
      },
      "source": [
        "from pymatgen.core import Structure, Lattice\n",
        "lattice = Lattice.cubic(2)\n",
        "struct = Structure(lattice, species=['Li'], coords=[[0, 0, 0]])"
      ],
      "execution_count": 8,
      "outputs": []
    },
    {
      "cell_type": "code",
      "metadata": {
        "colab": {
          "base_uri": "https://localhost:8080/"
        },
        "id": "GjIRAlv9U9HO",
        "outputId": "2f673f53-f6cf-48ba-f41a-8a31f39eddd9"
      },
      "source": [
        "struct"
      ],
      "execution_count": 9,
      "outputs": [
        {
          "output_type": "execute_result",
          "data": {
            "text/plain": [
              "Structure Summary\n",
              "Lattice\n",
              "    abc : 2.0 2.0 2.0\n",
              " angles : 90.0 90.0 90.0\n",
              " volume : 8.0\n",
              "      A : 2.0 0.0 0.0\n",
              "      B : 0.0 2.0 0.0\n",
              "      C : 0.0 0.0 2.0\n",
              "PeriodicSite: Li (0.0000, 0.0000, 0.0000) [0.0000, 0.0000, 0.0000]"
            ]
          },
          "metadata": {
            "tags": []
          },
          "execution_count": 9
        }
      ]
    },
    {
      "cell_type": "markdown",
      "metadata": {
        "id": "BjT3HZIbdRV7"
      },
      "source": [
        "# Using conda constructor"
      ]
    },
    {
      "cell_type": "markdown",
      "metadata": {
        "id": "TlWy5dU9bxtQ"
      },
      "source": [
        "# Building a conda constructor\n",
        "\n",
        "[guide](https://colab.research.google.com/github/jaimergp/condacolab/blob/main/constructor-example/condacolab_constructor_tutorial.ipynb#scrollTo=-RDpyAYfXk9L)\n"
      ]
    },
    {
      "cell_type": "code",
      "metadata": {
        "id": "GdtsZqUqfO_l"
      },
      "source": [
        "!wget -q https://raw.githubusercontent.com/jaimergp/condacolab/main/constructor-example/construct.yaml"
      ],
      "execution_count": 22,
      "outputs": []
    },
    {
      "cell_type": "code",
      "metadata": {
        "id": "5AN62f3GbxfG"
      },
      "source": [
        "!wget -q https://raw.githubusercontent.com/sivonxay/workshop/blob/colab_envs/workshop/primer/04_Google_Colab/env_installer/construct.yaml"
      ],
      "execution_count": 21,
      "outputs": []
    },
    {
      "cell_type": "code",
      "metadata": {
        "id": "gNm5p61wbznR"
      },
      "source": [
        "!pip install -q condacolab\n",
        "import condacolab\n",
        "condacolab.install()"
      ],
      "execution_count": null,
      "outputs": []
    },
    {
      "cell_type": "code",
      "metadata": {
        "id": "RpWBQx0-b0Mr"
      },
      "source": [
        "!mamba install -q constructor"
      ],
      "execution_count": null,
      "outputs": []
    },
    {
      "cell_type": "code",
      "metadata": {
        "id": "JCg8ApEYflcj"
      },
      "source": [
        "!constructor ."
      ],
      "execution_count": null,
      "outputs": []
    },
    {
      "cell_type": "code",
      "metadata": {
        "id": "fiKjwx6Vb15b"
      },
      "source": [
        "from google.colab import files\n",
        "installer = !ls *-Linux-x86_64.sh\n",
        "files.download(installer[0])"
      ],
      "execution_count": null,
      "outputs": []
    },
    {
      "cell_type": "code",
      "metadata": {
        "id": "rL0nO8MFfYnn"
      },
      "source": [
        "!pip install -q condacolab\n",
        "import condacolab\n",
        "conda_constructor = 'https://github.com/sivonxay/workshop/releases/download/v2021.07.21/condacolab-0.1-Linux-x86_64.sh'\n",
        "condacolab.install_from_url(conda_constructor)"
      ],
      "execution_count": null,
      "outputs": []
    }
  ]
}