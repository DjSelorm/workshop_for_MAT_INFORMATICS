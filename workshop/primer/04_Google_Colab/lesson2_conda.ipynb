{
 "cells": [
  {
   "cell_type": "markdown",
   "id": "54900c66",
   "metadata": {},
   "source": [
    "# Conda"
   ]
  },
  {
   "cell_type": "markdown",
   "id": "0b7af0eb",
   "metadata": {},
   "source": [
    "Much like pip, conda is a program writen in python for the purpose of managing packages. Programs are not limited to \n",
    "Conda also allows for the creation of virtual environments. Environments are very powerful and allow us to install a local collection of packages isolated from system packages or other environments. "
   ]
  },
  {
   "cell_type": "markdown",
   "id": "d8c2336c",
   "metadata": {},
   "source": [
    "We can get a list of the available conda environments using the `conda env list` command"
   ]
  },
  {
   "cell_type": "code",
   "execution_count": 1,
   "id": "90c47b12",
   "metadata": {},
   "outputs": [
    {
     "name": "stdout",
     "output_type": "stream",
     "text": [
      "# conda environments:\r\n",
      "#\r\n",
      "base                     /Users/esivonxay/anaconda3\r\n",
      "UCFood                   /Users/esivonxay/anaconda3/envs/UCFood\r\n",
      "amorph_env               /Users/esivonxay/anaconda3/envs/amorph_env\r\n",
      "cms                      /Users/esivonxay/anaconda3/envs/cms\r\n",
      "conda-env-mp-py          /Users/esivonxay/anaconda3/envs/conda-env-mp-py\r\n",
      "constructor              /Users/esivonxay/anaconda3/envs/constructor\r\n",
      "deepmd_gpu_2021          /Users/esivonxay/anaconda3/envs/deepmd_gpu_2021\r\n",
      "handbook_env             /Users/esivonxay/anaconda3/envs/handbook_env\r\n",
      "misc_env                 /Users/esivonxay/anaconda3/envs/misc_env\r\n",
      "mp_workshop_2021      *  /Users/esivonxay/anaconda3/envs/mp_workshop_2021\r\n",
      "mpdocs                   /Users/esivonxay/anaconda3/envs/mpdocs\r\n",
      "pymoldyn_env             /Users/esivonxay/anaconda3/envs/pymoldyn_env\r\n",
      "test_env                 /Users/esivonxay/anaconda3/envs/test_env\r\n",
      "\r\n"
     ]
    }
   ],
   "source": [
    "!conda env list"
   ]
  },
  {
   "cell_type": "markdown",
   "id": "fff7dcf7",
   "metadata": {},
   "source": [
    "## Creating Conda Environments"
   ]
  },
  {
   "cell_type": "markdown",
   "id": "0def136e",
   "metadata": {},
   "source": [
    "Create a new conda environment using the `conda create` command. We use the -y flag, since we cannot provide confirmation to the running code. We specify the environment to be created with a installation of python 3.9"
   ]
  },
  {
   "cell_type": "code",
   "execution_count": 2,
   "id": "bc0da5a6",
   "metadata": {},
   "outputs": [
    {
     "name": "stdout",
     "output_type": "stream",
     "text": [
      "Collecting package metadata (current_repodata.json): done\n",
      "Solving environment: done\n",
      "\n",
      "\n",
      "==> WARNING: A newer version of conda exists. <==\n",
      "  current version: 4.8.4\n",
      "  latest version: 4.10.3\n",
      "\n",
      "Please update conda by running\n",
      "\n",
      "    $ conda update -n base conda\n",
      "\n",
      "\n",
      "\n",
      "## Package Plan ##\n",
      "\n",
      "  environment location: /Users/esivonxay/anaconda3/envs/temp_workshop_env\n",
      "\n",
      "  added / updated specs:\n",
      "    - python=3.9\n",
      "\n",
      "\n",
      "The following NEW packages will be INSTALLED:\n",
      "\n",
      "  ca-certificates    conda-forge/osx-64::ca-certificates-2021.5.30-h033912b_0\n",
      "  certifi            conda-forge/osx-64::certifi-2021.5.30-py39h6e9494a_0\n",
      "  libcxx             conda-forge/osx-64::libcxx-12.0.1-habf9029_0\n",
      "  libffi             conda-forge/osx-64::libffi-3.3-h046ec9c_2\n",
      "  ncurses            conda-forge/osx-64::ncurses-6.2-h2e338ed_4\n",
      "  openssl            conda-forge/osx-64::openssl-1.1.1k-h0d85af4_0\n",
      "  pip                conda-forge/noarch::pip-21.2.1-pyhd8ed1ab_0\n",
      "  python             conda-forge/osx-64::python-3.9.6-hd187cdc_1_cpython\n",
      "  python_abi         conda-forge/osx-64::python_abi-3.9-2_cp39\n",
      "  readline           conda-forge/osx-64::readline-8.1-h05e3726_0\n",
      "  setuptools         conda-forge/osx-64::setuptools-49.6.0-py39h6e9494a_3\n",
      "  sqlite             conda-forge/osx-64::sqlite-3.36.0-h23a322b_0\n",
      "  tk                 conda-forge/osx-64::tk-8.6.10-h0419947_1\n",
      "  tzdata             conda-forge/noarch::tzdata-2021a-he74cb21_1\n",
      "  wheel              conda-forge/noarch::wheel-0.36.2-pyhd3deb0d_0\n",
      "  xz                 conda-forge/osx-64::xz-5.2.5-haf1e3a3_1\n",
      "  zlib               conda-forge/osx-64::zlib-1.2.11-h7795811_1010\n",
      "\n",
      "\n",
      "Preparing transaction: done\n",
      "Verifying transaction: done\n",
      "Executing transaction: done\n",
      "#\n",
      "# To activate this environment, use\n",
      "#\n",
      "#     $ conda activate temp_workshop_env\n",
      "#\n",
      "# To deactivate an active environment, use\n",
      "#\n",
      "#     $ conda deactivate\n",
      "\n"
     ]
    }
   ],
   "source": [
    "!conda create -y --name temp_workshop_env python=3.9"
   ]
  },
  {
   "cell_type": "markdown",
   "id": "16a24f39",
   "metadata": {},
   "source": [
    "Our new environment shows up under our list of conda environments. However it is not the active environment (does not have a * next to it)."
   ]
  },
  {
   "cell_type": "code",
   "execution_count": 3,
   "id": "7d9cc8b0",
   "metadata": {},
   "outputs": [
    {
     "name": "stdout",
     "output_type": "stream",
     "text": [
      "# conda environments:\r\n",
      "#\r\n",
      "base                     /Users/esivonxay/anaconda3\r\n",
      "UCFood                   /Users/esivonxay/anaconda3/envs/UCFood\r\n",
      "amorph_env               /Users/esivonxay/anaconda3/envs/amorph_env\r\n",
      "cms                      /Users/esivonxay/anaconda3/envs/cms\r\n",
      "conda-env-mp-py          /Users/esivonxay/anaconda3/envs/conda-env-mp-py\r\n",
      "constructor              /Users/esivonxay/anaconda3/envs/constructor\r\n",
      "deepmd_gpu_2021          /Users/esivonxay/anaconda3/envs/deepmd_gpu_2021\r\n",
      "handbook_env             /Users/esivonxay/anaconda3/envs/handbook_env\r\n",
      "misc_env                 /Users/esivonxay/anaconda3/envs/misc_env\r\n",
      "mp_workshop_2021      *  /Users/esivonxay/anaconda3/envs/mp_workshop_2021\r\n",
      "mpdocs                   /Users/esivonxay/anaconda3/envs/mpdocs\r\n",
      "pymoldyn_env             /Users/esivonxay/anaconda3/envs/pymoldyn_env\r\n",
      "temp_workshop_env        /Users/esivonxay/anaconda3/envs/temp_workshop_env\r\n",
      "test_env                 /Users/esivonxay/anaconda3/envs/test_env\r\n",
      "\r\n"
     ]
    }
   ],
   "source": [
    "!conda env list"
   ]
  },
  {
   "cell_type": "markdown",
   "id": "c60d0afc",
   "metadata": {},
   "source": [
    "## Using and interacting with Conda environments"
   ]
  },
  {
   "cell_type": "markdown",
   "id": "414a951d",
   "metadata": {},
   "source": [
    "We must activate our environment to install python packages and run python code using the new environment. Since we are interacting with our environment from jupyter notebook, we must activate our environment within each cell before we use any bash commands.\n",
    "\n",
    "To do this, use the `%%bash` command to create a multi-line bash cell, then activate the environment using `source activate <env_name>`"
   ]
  },
  {
   "cell_type": "code",
   "execution_count": 4,
   "id": "5c694c26",
   "metadata": {},
   "outputs": [
    {
     "name": "stdout",
     "output_type": "stream",
     "text": [
      "# conda environments:\n",
      "#\n",
      "base                     /Users/esivonxay/anaconda3\n",
      "UCFood                   /Users/esivonxay/anaconda3/envs/UCFood\n",
      "amorph_env               /Users/esivonxay/anaconda3/envs/amorph_env\n",
      "cms                      /Users/esivonxay/anaconda3/envs/cms\n",
      "conda-env-mp-py          /Users/esivonxay/anaconda3/envs/conda-env-mp-py\n",
      "constructor              /Users/esivonxay/anaconda3/envs/constructor\n",
      "deepmd_gpu_2021          /Users/esivonxay/anaconda3/envs/deepmd_gpu_2021\n",
      "handbook_env             /Users/esivonxay/anaconda3/envs/handbook_env\n",
      "misc_env                 /Users/esivonxay/anaconda3/envs/misc_env\n",
      "mp_workshop_2021         /Users/esivonxay/anaconda3/envs/mp_workshop_2021\n",
      "mpdocs                   /Users/esivonxay/anaconda3/envs/mpdocs\n",
      "pymoldyn_env             /Users/esivonxay/anaconda3/envs/pymoldyn_env\n",
      "temp_workshop_env     *  /Users/esivonxay/anaconda3/envs/temp_workshop_env\n",
      "test_env                 /Users/esivonxay/anaconda3/envs/test_env\n",
      "\n"
     ]
    }
   ],
   "source": [
    "%%bash\n",
    "source activate temp_workshop_env\n",
    "\n",
    "conda env list"
   ]
  },
  {
   "cell_type": "markdown",
   "id": "8e387067",
   "metadata": {},
   "source": [
    "Now, using the `conda env list` command, we see our new environment is active, as denoted by the *"
   ]
  },
  {
   "cell_type": "code",
   "execution_count": 5,
   "id": "8eb1baa1",
   "metadata": {},
   "outputs": [
    {
     "name": "stdout",
     "output_type": "stream",
     "text": [
      "certifi==2021.5.30\n"
     ]
    }
   ],
   "source": [
    "%%bash\n",
    "source activate temp_workshop_env\n",
    "\n",
    "pip freeze"
   ]
  },
  {
   "cell_type": "markdown",
   "id": "2993efd1",
   "metadata": {},
   "source": [
    "While our environment is ready for command-line use, there are additional steps to use it with jupyter. \n",
    "\n",
    "1. First, we will install \"ipykernel\""
   ]
  },
  {
   "cell_type": "code",
   "execution_count": 6,
   "id": "96de5791",
   "metadata": {},
   "outputs": [
    {
     "name": "stdout",
     "output_type": "stream",
     "text": [
      "Collecting package metadata (current_repodata.json): ...working... done\n",
      "Solving environment: ...working... done\n",
      "\n",
      "# All requested packages already installed.\n",
      "\n",
      "Collecting package metadata (current_repodata.json): ...working... done\n",
      "Solving environment: ...working... done\n",
      "\n",
      "## Package Plan ##\n",
      "\n",
      "  environment location: /Users/esivonxay/anaconda3/envs/temp_workshop_env\n",
      "\n",
      "  added / updated specs:\n",
      "    - ipykernel\n",
      "\n",
      "\n",
      "The following NEW packages will be INSTALLED:\n",
      "\n",
      "  appnope            conda-forge/osx-64::appnope-0.1.2-py39h6e9494a_1\n",
      "  backcall           conda-forge/noarch::backcall-0.2.0-pyh9f0ad1d_0\n",
      "  backports          conda-forge/noarch::backports-1.0-py_2\n",
      "  backports.functoo~ conda-forge/noarch::backports.functools_lru_cache-1.6.4-pyhd8ed1ab_0\n",
      "  debugpy            conda-forge/osx-64::debugpy-1.4.1-py39h9fcab8e_0\n",
      "  decorator          conda-forge/noarch::decorator-5.0.9-pyhd8ed1ab_0\n",
      "  ipykernel          conda-forge/osx-64::ipykernel-6.0.3-py39h71a6800_0\n",
      "  ipython            conda-forge/osx-64::ipython-7.25.0-py39h71a6800_1\n",
      "  ipython_genutils   conda-forge/noarch::ipython_genutils-0.2.0-py_1\n",
      "  jedi               conda-forge/osx-64::jedi-0.18.0-py39h6e9494a_2\n",
      "  jupyter_client     conda-forge/noarch::jupyter_client-6.1.12-pyhd8ed1ab_0\n",
      "  jupyter_core       conda-forge/osx-64::jupyter_core-4.7.1-py39h6e9494a_0\n",
      "  libsodium          conda-forge/osx-64::libsodium-1.0.18-hbcb3906_1\n",
      "  matplotlib-inline  conda-forge/noarch::matplotlib-inline-0.1.2-pyhd8ed1ab_2\n",
      "  parso              conda-forge/noarch::parso-0.8.2-pyhd8ed1ab_0\n",
      "  pexpect            conda-forge/noarch::pexpect-4.8.0-pyh9f0ad1d_2\n",
      "  pickleshare        conda-forge/noarch::pickleshare-0.7.5-py_1003\n",
      "  prompt-toolkit     conda-forge/noarch::prompt-toolkit-3.0.19-pyha770c72_0\n",
      "  ptyprocess         conda-forge/noarch::ptyprocess-0.7.0-pyhd3deb0d_0\n",
      "  pygments           conda-forge/noarch::pygments-2.9.0-pyhd8ed1ab_0\n",
      "  python-dateutil    conda-forge/noarch::python-dateutil-2.8.2-pyhd8ed1ab_0\n",
      "  pyzmq              conda-forge/osx-64::pyzmq-22.1.0-py39h7fec2f1_0\n",
      "  six                conda-forge/noarch::six-1.16.0-pyh6c4a22f_0\n",
      "  tornado            conda-forge/osx-64::tornado-6.1-py39h89e85a6_1\n",
      "  traitlets          conda-forge/noarch::traitlets-5.0.5-py_0\n",
      "  wcwidth            conda-forge/noarch::wcwidth-0.2.5-pyh9f0ad1d_2\n",
      "  zeromq             conda-forge/osx-64::zeromq-4.3.4-h1c7c35f_0\n",
      "\n",
      "\n",
      "Preparing transaction: ...working... done\n",
      "Verifying transaction: ...working... done\n",
      "Executing transaction: ...working... done\n"
     ]
    },
    {
     "name": "stderr",
     "output_type": "stream",
     "text": [
      "\n",
      "\n",
      "==> WARNING: A newer version of conda exists. <==\n",
      "  current version: 4.8.4\n",
      "  latest version: 4.10.3\n",
      "\n",
      "Please update conda by running\n",
      "\n",
      "    $ conda update -n base conda\n",
      "\n",
      "\n",
      "\n",
      "\n",
      "==> WARNING: A newer version of conda exists. <==\n",
      "  current version: 4.8.4\n",
      "  latest version: 4.10.3\n",
      "\n",
      "Please update conda by running\n",
      "\n",
      "    $ conda update -n base conda\n",
      "\n",
      "\n"
     ]
    }
   ],
   "source": [
    "%%bash\n",
    "source activate temp_workshop_env\n",
    "\n",
    "conda install -y pip\n",
    "conda install -y ipykernel"
   ]
  },
  {
   "cell_type": "code",
   "execution_count": 8,
   "id": "9496dfe2",
   "metadata": {},
   "outputs": [
    {
     "name": "stdout",
     "output_type": "stream",
     "text": [
      "appnope @ file:///Users/runner/miniforge3/conda-bld/appnope_1610094673755/work\n",
      "backcall @ file:///home/conda/feedstock_root/build_artifacts/backcall_1592338393461/work\n",
      "backports.functools-lru-cache @ file:///home/conda/feedstock_root/build_artifacts/backports.functools_lru_cache_1618230623929/work\n",
      "certifi==2021.5.30\n",
      "debugpy @ file:///Users/runner/miniforge3/conda-bld/debugpy_1627075104865/work\n",
      "decorator @ file:///home/conda/feedstock_root/build_artifacts/decorator_1621187651333/work\n",
      "ipykernel @ file:///Users/runner/miniforge3/conda-bld/ipykernel_1626728184263/work/dist/ipykernel-6.0.3-py3-none-any.whl\n",
      "ipython @ file:///Users/runner/miniforge3/conda-bld/ipython_1625027511604/work\n",
      "ipython-genutils==0.2.0\n",
      "jedi @ file:///Users/runner/miniforge3/conda-bld/jedi_1610146808808/work\n",
      "jupyter-client @ file:///home/conda/feedstock_root/build_artifacts/jupyter_client_1615693636836/work\n",
      "jupyter-core @ file:///Users/runner/miniforge3/conda-bld/jupyter_core_1612125283939/work\n",
      "matplotlib-inline @ file:///home/conda/feedstock_root/build_artifacts/matplotlib-inline_1618935594181/work\n",
      "parso @ file:///home/conda/feedstock_root/build_artifacts/parso_1617148930513/work\n",
      "pexpect @ file:///home/conda/feedstock_root/build_artifacts/pexpect_1602535608087/work\n",
      "pickleshare @ file:///home/conda/feedstock_root/build_artifacts/pickleshare_1602536217715/work\n",
      "prompt-toolkit @ file:///home/conda/feedstock_root/build_artifacts/prompt-toolkit_1623977816122/work\n",
      "ptyprocess @ file:///home/conda/feedstock_root/build_artifacts/ptyprocess_1609419310487/work/dist/ptyprocess-0.7.0-py2.py3-none-any.whl\n",
      "Pygments @ file:///home/conda/feedstock_root/build_artifacts/pygments_1620245170812/work\n",
      "python-dateutil @ file:///home/conda/feedstock_root/build_artifacts/python-dateutil_1626286286081/work\n",
      "pyzmq @ file:///Users/runner/miniforge3/conda-bld/pyzmq_1622038559383/work\n",
      "six @ file:///home/conda/feedstock_root/build_artifacts/six_1620240208055/work\n",
      "tornado @ file:///Users/runner/miniforge3/conda-bld/tornado_1625488906146/work\n",
      "traitlets @ file:///home/conda/feedstock_root/build_artifacts/traitlets_1602771532708/work\n",
      "wcwidth @ file:///home/conda/feedstock_root/build_artifacts/wcwidth_1600965781394/work\n"
     ]
    }
   ],
   "source": [
    "%%bash\n",
    "source activate temp_workshop_env\n",
    "\n",
    "pip freeze"
   ]
  },
  {
   "cell_type": "markdown",
   "id": "15e884d1",
   "metadata": {},
   "source": [
    "2. We will create a jupyter kernelspec for our environment"
   ]
  },
  {
   "cell_type": "code",
   "execution_count": 9,
   "id": "3b718f87",
   "metadata": {},
   "outputs": [
    {
     "name": "stdout",
     "output_type": "stream",
     "text": [
      "Available kernels:\r\n",
      "  amorph_env         /Users/esivonxay/Library/Jupyter/kernels/amorph_env\r\n",
      "  conda-env-mp-py    /Users/esivonxay/Library/Jupyter/kernels/conda-env-mp-py\r\n",
      "  deepmd_gpu_2021    /Users/esivonxay/Library/Jupyter/kernels/deepmd_gpu_2021\r\n",
      "  python3            /Users/esivonxay/Library/Jupyter/kernels/python3\r\n"
     ]
    }
   ],
   "source": [
    "!jupyter kernelspec list"
   ]
  },
  {
   "cell_type": "code",
   "execution_count": 10,
   "id": "7512d54b",
   "metadata": {},
   "outputs": [
    {
     "name": "stdout",
     "output_type": "stream",
     "text": [
      "[InstallIPythonKernelSpecApp] WARNING | Installing to /Users/esivonxay/anaconda3/envs/mp_workshop_2021/share/jupyter/kernels, which is not in ['/Users/esivonxay/Library/Jupyter/kernels', '/Users/esivonxay/anaconda3/envs/temp_workshop_env/share/jupyter/kernels', '/usr/local/share/jupyter/kernels', '/usr/share/jupyter/kernels', '/Users/esivonxay/.ipython/kernels']. The kernelspec may not be found.\r\n",
      "Installed kernelspec temp_workshop_env in /Users/esivonxay/anaconda3/envs/mp_workshop_2021/share/jupyter/kernels/temp_workshop_env\r\n"
     ]
    }
   ],
   "source": [
    "!/Users/esivonxay/anaconda3/envs/temp_workshop_env/bin/python -m ipykernel install --prefix=/Users/esivonxay/anaconda3/envs/mp_workshop_2021 --name 'temp_workshop_env'"
   ]
  },
  {
   "cell_type": "code",
   "execution_count": 11,
   "id": "d3a71890",
   "metadata": {},
   "outputs": [
    {
     "name": "stdout",
     "output_type": "stream",
     "text": [
      "Available kernels:\r\n",
      "  amorph_env           /Users/esivonxay/Library/Jupyter/kernels/amorph_env\r\n",
      "  conda-env-mp-py      /Users/esivonxay/Library/Jupyter/kernels/conda-env-mp-py\r\n",
      "  deepmd_gpu_2021      /Users/esivonxay/Library/Jupyter/kernels/deepmd_gpu_2021\r\n",
      "  python3              /Users/esivonxay/Library/Jupyter/kernels/python3\r\n",
      "  temp_workshop_env    /Users/esivonxay/anaconda3/envs/mp_workshop_2021/share/jupyter/kernels/temp_workshop_env\r\n"
     ]
    }
   ],
   "source": [
    "!jupyter kernelspec list"
   ]
  },
  {
   "cell_type": "markdown",
   "id": "f406a734",
   "metadata": {},
   "source": [
    "# Installing from conda-forge"
   ]
  },
  {
   "cell_type": "markdown",
   "id": "f22d2838",
   "metadata": {},
   "source": [
    "When using conda to install or search for packages, the standard behaviour is to search the [default repositories](https://repo.anaconda.com/pkgs/). These are packages provided by Anaconda, Inc. for free. To access third-party software, we can use the conda-forge channel. [Conda-Forge](https://conda-forge.org/index.html) is a community effort to provide conda packages for a wide range of software."
   ]
  },
  {
   "cell_type": "markdown",
   "id": "916f99eb",
   "metadata": {},
   "source": [
    "To install software from the conda-forge channel, simply add `-c conda-forge` to the `conda install` command. This will tell conda to include the packages in conda-forge when searching for packages and dependencies.\n",
    "\n",
    "Many Materials Project codes (such as pymatgen, fireworks, custodian, atomate, and matminer) are available through the conda-forge channel."
   ]
  },
  {
   "cell_type": "code",
   "execution_count": 12,
   "id": "477da996",
   "metadata": {},
   "outputs": [
    {
     "name": "stdout",
     "output_type": "stream",
     "text": [
      "Collecting package metadata (current_repodata.json): ...working... done\n",
      "Solving environment: ...working... failed with initial frozen solve. Retrying with flexible solve.\n",
      "Solving environment: ...working... failed with repodata from current_repodata.json, will retry with next repodata source.\n",
      "Collecting package metadata (repodata.json): ...working... done\n",
      "Solving environment: ...working... done\n",
      "\n",
      "## Package Plan ##\n",
      "\n",
      "  environment location: /Users/esivonxay/anaconda3/envs/temp_workshop_env\n",
      "\n",
      "  added / updated specs:\n",
      "    - pymatgen\n",
      "\n",
      "\n",
      "The following NEW packages will be INSTALLED:\n",
      "\n",
      "  ase                conda-forge/noarch::ase-3.22.0-pyhd8ed1ab_0\n",
      "  brotlipy           conda-forge/osx-64::brotlipy-0.7.0-py39h89e85a6_1001\n",
      "  bzip2              conda-forge/osx-64::bzip2-1.0.8-h0d85af4_4\n",
      "  c-ares             conda-forge/osx-64::c-ares-1.17.1-h0d85af4_1\n",
      "  cffi               conda-forge/osx-64::cffi-1.14.6-py39hb71fe58_0\n",
      "  cftime             conda-forge/osx-64::cftime-1.5.0-py39hc89836e_0\n",
      "  chardet            conda-forge/osx-64::chardet-4.0.0-py39h6e9494a_1\n",
      "  charset-normalizer conda-forge/noarch::charset-normalizer-2.0.0-pyhd8ed1ab_0\n",
      "  click              conda-forge/osx-64::click-8.0.1-py39h6e9494a_0\n",
      "  cryptography       conda-forge/osx-64::cryptography-3.4.7-py39ha2c9959_0\n",
      "  curl               conda-forge/osx-64::curl-7.77.0-hb861fe1_0\n",
      "  cycler             conda-forge/noarch::cycler-0.10.0-py_2\n",
      "  dataclasses        conda-forge/noarch::dataclasses-0.8-pyhc8e2a94_1\n",
      "  double-conversion  conda-forge/osx-64::double-conversion-3.1.5-he49afe7_2\n",
      "  eigen              conda-forge/osx-64::eigen-3.3.9-h926bf3e_1\n",
      "  expat              conda-forge/osx-64::expat-2.4.1-he49afe7_0\n",
      "  ffmpeg             conda-forge/osx-64::ffmpeg-4.3.1-hb787a4c_2\n",
      "  flask              conda-forge/noarch::flask-2.0.1-pyhd8ed1ab_0\n",
      "  freetype           conda-forge/osx-64::freetype-2.10.4-h4cff582_1\n",
      "  future             conda-forge/osx-64::future-0.18.2-py39h6e9494a_3\n",
      "  gettext            conda-forge/osx-64::gettext-0.19.8.1-h7937167_1005\n",
      "  gl2ps              conda-forge/osx-64::gl2ps-1.4.2-h4cff582_0\n",
      "  glew               conda-forge/osx-64::glew-2.1.0-h046ec9c_2\n",
      "  gmp                conda-forge/osx-64::gmp-6.2.1-h2e338ed_0\n",
      "  gmpy2              conda-forge/osx-64::gmpy2-2.1.0b5-py39hab8a6df_0\n",
      "  gnutls             conda-forge/osx-64::gnutls-3.6.13-h756fd2b_1\n",
      "  hdf4               conda-forge/osx-64::hdf4-4.2.15-hefd3b78_3\n",
      "  hdf5               conda-forge/osx-64::hdf5-1.10.6-nompi_hc5d9132_1114\n",
      "  icu                conda-forge/osx-64::icu-68.1-h74dc148_0\n",
      "  idna               conda-forge/noarch::idna-3.1-pyhd3deb0d_0\n",
      "  itsdangerous       conda-forge/noarch::itsdangerous-2.0.1-pyhd8ed1ab_0\n",
      "  jbig               conda-forge/osx-64::jbig-2.1-h0d85af4_2003\n",
      "  jinja2             conda-forge/noarch::jinja2-3.0.1-pyhd8ed1ab_0\n",
      "  jpeg               conda-forge/osx-64::jpeg-9d-hbcb3906_0\n",
      "  jsoncpp            conda-forge/osx-64::jsoncpp-1.9.4-h940c156_3\n",
      "  kiwisolver         conda-forge/osx-64::kiwisolver-1.3.1-py39hf018cea_1\n",
      "  krb5               conda-forge/osx-64::krb5-1.19.1-hcfbf3a7_0\n",
      "  lame               conda-forge/osx-64::lame-3.100-h35c211d_1001\n",
      "  latexcodec         conda-forge/noarch::latexcodec-2.0.1-pyh9f0ad1d_0\n",
      "  lcms2              conda-forge/osx-64::lcms2-2.12-h577c468_0\n",
      "  lerc               conda-forge/osx-64::lerc-2.2.1-h046ec9c_0\n",
      "  libblas            conda-forge/osx-64::libblas-3.9.0-9_openblas\n",
      "  libcblas           conda-forge/osx-64::libcblas-3.9.0-9_openblas\n",
      "  libclang           conda-forge/osx-64::libclang-11.1.0-default_he082bbe_1\n",
      "  libcurl            conda-forge/osx-64::libcurl-7.77.0-hf45b732_0\n",
      "  libdeflate         conda-forge/osx-64::libdeflate-1.7-h35c211d_5\n",
      "  libedit            conda-forge/osx-64::libedit-3.1.20191231-h0678c8f_2\n",
      "  libev              conda-forge/osx-64::libev-4.33-haf1e3a3_1\n",
      "  libgfortran        conda-forge/osx-64::libgfortran-5.0.0-9_3_0_h6c81a4c_22\n",
      "  libgfortran5       conda-forge/osx-64::libgfortran5-9.3.0-h6c81a4c_22\n",
      "  libiconv           conda-forge/osx-64::libiconv-1.16-haf1e3a3_0\n",
      "  liblapack          conda-forge/osx-64::liblapack-3.9.0-9_openblas\n",
      "  libllvm11          conda-forge/osx-64::libllvm11-11.1.0-hd011deb_2\n",
      "  libnetcdf          conda-forge/osx-64::libnetcdf-4.8.0-nompi_hb4d10b0_103\n",
      "  libnghttp2         conda-forge/osx-64::libnghttp2-1.43.0-h07e645a_0\n",
      "  libogg             conda-forge/osx-64::libogg-1.3.4-h35c211d_1\n",
      "  libopenblas        conda-forge/osx-64::libopenblas-0.3.15-openmp_h5e1b9a4_1\n",
      "  libpng             conda-forge/osx-64::libpng-1.6.37-h7cec526_2\n",
      "  libpq              conda-forge/osx-64::libpq-13.3-hea3049e_0\n",
      "  libssh2            conda-forge/osx-64::libssh2-1.9.0-h52ee1ee_6\n",
      "  libtheora          conda-forge/osx-64::libtheora-1.1.1-h0d85af4_1005\n",
      "  libtiff            conda-forge/osx-64::libtiff-4.3.0-h1167814_1\n",
      "  libvorbis          conda-forge/osx-64::libvorbis-1.3.7-h046ec9c_0\n",
      "  libwebp-base       conda-forge/osx-64::libwebp-base-1.2.0-h0d85af4_2\n",
      "  libxml2            conda-forge/osx-64::libxml2-2.9.12-h93ec3fd_0\n",
      "  libzip             conda-forge/osx-64::libzip-1.8.0-h8b0c345_0\n",
      "  llvm-openmp        conda-forge/osx-64::llvm-openmp-12.0.1-hda6cdc1_0\n",
      "  loguru             conda-forge/osx-64::loguru-0.5.3-py39h6e9494a_2\n",
      "  lz4-c              conda-forge/osx-64::lz4-c-1.9.3-h046ec9c_0\n",
      "  markupsafe         conda-forge/osx-64::markupsafe-2.0.1-py39h89e85a6_0\n",
      "  matplotlib-base    conda-forge/osx-64::matplotlib-base-3.4.2-py39hb07454d_0\n",
      "  monty              conda-forge/noarch::monty-2021.7.8-pyhd8ed1ab_0\n",
      "  mpc                conda-forge/osx-64::mpc-1.1.0-ha57cd0f_1009\n",
      "  mpfr               conda-forge/osx-64::mpfr-4.0.2-h72d8aaf_1\n",
      "  mpmath             conda-forge/noarch::mpmath-1.2.1-pyhd8ed1ab_0\n",
      "  mysql-common       conda-forge/osx-64::mysql-common-8.0.25-h694c41f_2\n",
      "  mysql-libs         conda-forge/osx-64::mysql-libs-8.0.25-h115446f_2\n",
      "  netcdf4            conda-forge/osx-64::netcdf4-1.5.7-nompi_py39hfa5ec60_100\n",
      "  nettle             conda-forge/osx-64::nettle-3.6-hedd7734_0\n",
      "  networkx           conda-forge/noarch::networkx-2.5-py_0\n",
      "  nspr               conda-forge/osx-64::nspr-4.30-hcd9eead_0\n",
      "  nss                conda-forge/osx-64::nss-3.67-h31e2bf1_0\n",
      "  numpy              conda-forge/osx-64::numpy-1.21.1-py39h7eed0ac_0\n",
      "  olefile            conda-forge/noarch::olefile-0.46-pyh9f0ad1d_1\n",
      "  openh264           conda-forge/osx-64::openh264-2.1.1-hfd3ada9_0\n",
      "  openjpeg           conda-forge/osx-64::openjpeg-2.4.0-h6e7aa92_1\n",
      "  palettable         conda-forge/noarch::palettable-3.3.0-py_0\n",
      "  pandas             conda-forge/osx-64::pandas-1.3.1-py39h4d6be9b_0\n",
      "  pillow             conda-forge/osx-64::pillow-8.3.1-py39he9bb72f_0\n",
      "  plotly             conda-forge/noarch::plotly-5.1.0-pyhd8ed1ab_1\n",
      "  proj               conda-forge/osx-64::proj-7.2.0-h78d1473_2\n",
      "  pugixml            conda-forge/osx-64::pugixml-1.11.4-he49afe7_0\n",
      "  pybtex             conda-forge/osx-64::pybtex-0.24.0-py39h6e9494a_0\n",
      "  pycparser          conda-forge/noarch::pycparser-2.20-pyh9f0ad1d_2\n",
      "  pymatgen           conda-forge/osx-64::pymatgen-2022.0.11-py39hf018cea_0\n",
      "  pyopenssl          conda-forge/noarch::pyopenssl-20.0.1-pyhd8ed1ab_0\n",
      "  pyparsing          conda-forge/noarch::pyparsing-2.4.7-pyh9f0ad1d_0\n",
      "  pysocks            conda-forge/osx-64::pysocks-1.7.1-py39h6e9494a_3\n",
      "  pytz               conda-forge/noarch::pytz-2021.1-pyhd8ed1ab_0\n",
      "  pyyaml             conda-forge/osx-64::pyyaml-5.4.1-py39hcbf5805_0\n",
      "  qt                 conda-forge/osx-64::qt-5.12.9-h126340a_4\n",
      "  requests           conda-forge/noarch::requests-2.26.0-pyhd8ed1ab_0\n",
      "  ruamel.yaml        conda-forge/osx-64::ruamel.yaml-0.17.10-py39h89e85a6_0\n",
      "  ruamel.yaml.clib   conda-forge/osx-64::ruamel.yaml.clib-0.2.2-py39hcbf5805_2\n",
      "  scipy              conda-forge/osx-64::scipy-1.7.0-py39h056f1c0_1\n",
      "  spglib             conda-forge/osx-64::spglib-1.16.1-py39h329c335_0\n",
      "  sympy              conda-forge/osx-64::sympy-1.8-py39h6e9494a_0\n",
      "  tabulate           conda-forge/noarch::tabulate-0.8.9-pyhd8ed1ab_0\n",
      "  tbb                conda-forge/osx-64::tbb-2020.2-h940c156_4\n",
      "  tbb-devel          conda-forge/osx-64::tbb-devel-2020.2-h940c156_4\n",
      "  tenacity           conda-forge/noarch::tenacity-8.0.1-pyhd8ed1ab_0\n",
      "  tqdm               conda-forge/noarch::tqdm-4.61.2-pyhd8ed1ab_1\n",
      "  uncertainties      conda-forge/noarch::uncertainties-3.1.6-pyhd8ed1ab_0\n",
      "  urllib3            conda-forge/noarch::urllib3-1.26.6-pyhd8ed1ab_0\n",
      "  utfcpp             conda-forge/osx-64::utfcpp-3.2.1-h694c41f_0\n",
      "  vtk                conda-forge/osx-64::vtk-9.0.3-no_osmesa_py39h9af63fb_100\n",
      "  werkzeug           conda-forge/noarch::werkzeug-2.0.1-pyhd8ed1ab_0\n",
      "  x264               conda-forge/osx-64::x264-1!161.3030-h0d85af4_1\n",
      "  yaml               conda-forge/osx-64::yaml-0.2.5-haf1e3a3_0\n",
      "  zstd               conda-forge/osx-64::zstd-1.5.0-h582d3a0_0\n",
      "\n",
      "\n",
      "Preparing transaction: ...working... done\n",
      "Verifying transaction: ...working... done\n",
      "Executing transaction: ...working... done\n"
     ]
    },
    {
     "name": "stderr",
     "output_type": "stream",
     "text": [
      "\n",
      "\n",
      "==> WARNING: A newer version of conda exists. <==\n",
      "  current version: 4.8.4\n",
      "  latest version: 4.10.3\n",
      "\n",
      "Please update conda by running\n",
      "\n",
      "    $ conda update -n base conda\n",
      "\n",
      "\n"
     ]
    }
   ],
   "source": [
    "%%bash\n",
    "source activate temp_workshop_env\n",
    "\n",
    "conda install -y pymatgen -c conda-forge"
   ]
  },
  {
   "cell_type": "markdown",
   "id": "94c04020",
   "metadata": {},
   "source": [
    "We can add conda-forge to the list of channels (to avoid adding `-c conda-forge` to every installation line)"
   ]
  },
  {
   "cell_type": "code",
   "execution_count": 13,
   "id": "b535daf1",
   "metadata": {},
   "outputs": [
    {
     "name": "stderr",
     "output_type": "stream",
     "text": [
      "Warning: 'conda-forge' already in 'channels' list, moving to the top\n"
     ]
    }
   ],
   "source": [
    "%%bash\n",
    "source activate temp_workshop_env\n",
    "\n",
    "conda config --add channels conda-forge\n",
    "conda config --set channel_priority strict"
   ]
  },
  {
   "cell_type": "markdown",
   "id": "895f6455",
   "metadata": {},
   "source": [
    "Now we can install packages using less arguments"
   ]
  },
  {
   "cell_type": "code",
   "execution_count": 14,
   "id": "cec89e97",
   "metadata": {},
   "outputs": [
    {
     "name": "stdout",
     "output_type": "stream",
     "text": [
      "Collecting package metadata (current_repodata.json): ...working... done\n",
      "Solving environment: ...working... done\n",
      "\n",
      "## Package Plan ##\n",
      "\n",
      "  environment location: /Users/esivonxay/anaconda3/envs/temp_workshop_env\n",
      "\n",
      "  added / updated specs:\n",
      "    - fireworks\n",
      "\n",
      "\n",
      "The following packages will be downloaded:\n",
      "\n",
      "    package                    |            build\n",
      "    ---------------------------|-----------------\n",
      "    arpack-3.7.0               |       hefb7bc6_2         195 KB  conda-forge\n",
      "    bcrypt-3.2.0               |   py39h89e85a6_1          42 KB  conda-forge\n",
      "    fabric-2.6.0               |     pyhd8ed1ab_1          41 KB  conda-forge\n",
      "    fireworks-1.9.7            |     pyhd8ed1ab_0         354 KB  conda-forge\n",
      "    flask-paginate-0.8.1       |     pyh44b312d_0          11 KB  conda-forge\n",
      "    glpk-4.65                  |    h0f52abe_1004         1.0 MB  conda-forge\n",
      "    gunicorn-20.1.0            |   py39h6e9494a_0         119 KB  conda-forge\n",
      "    invoke-1.6.0               |     pyhd8ed1ab_0         137 KB  conda-forge\n",
      "    metis-5.1.0                |    h2e338ed_1006         4.1 MB  conda-forge\n",
      "    paramiko-2.7.2             |     pyh9f0ad1d_0         135 KB  conda-forge\n",
      "    pathlib2-2.3.6             |   py39h6e9494a_0          35 KB  conda-forge\n",
      "    pymongo-3.12.0             |   py39h9fcab8e_0         1.2 MB  conda-forge\n",
      "    pynacl-1.4.0               |   py39h89e85a6_2         1.3 MB  conda-forge\n",
      "    python-igraph-0.9.6        |   py39h8c2f370_0         1.3 MB  conda-forge\n",
      "    suitesparse-5.10.1         |       h68a9093_0         2.5 MB  conda-forge\n",
      "    texttable-1.6.4            |     pyhd8ed1ab_0          16 KB  conda-forge\n",
      "    ------------------------------------------------------------\n",
      "                                           Total:        12.6 MB\n",
      "\n",
      "The following NEW packages will be INSTALLED:\n",
      "\n",
      "  arpack             conda-forge/osx-64::arpack-3.7.0-hefb7bc6_2\n",
      "  bcrypt             conda-forge/osx-64::bcrypt-3.2.0-py39h89e85a6_1\n",
      "  fabric             conda-forge/noarch::fabric-2.6.0-pyhd8ed1ab_1\n",
      "  fireworks          conda-forge/noarch::fireworks-1.9.7-pyhd8ed1ab_0\n",
      "  flask-paginate     conda-forge/noarch::flask-paginate-0.8.1-pyh44b312d_0\n",
      "  glpk               conda-forge/osx-64::glpk-4.65-h0f52abe_1004\n",
      "  gunicorn           conda-forge/osx-64::gunicorn-20.1.0-py39h6e9494a_0\n",
      "  invoke             conda-forge/noarch::invoke-1.6.0-pyhd8ed1ab_0\n",
      "  metis              conda-forge/osx-64::metis-5.1.0-h2e338ed_1006\n",
      "  paramiko           conda-forge/noarch::paramiko-2.7.2-pyh9f0ad1d_0\n",
      "  pathlib2           conda-forge/osx-64::pathlib2-2.3.6-py39h6e9494a_0\n",
      "  pymongo            conda-forge/osx-64::pymongo-3.12.0-py39h9fcab8e_0\n",
      "  pynacl             conda-forge/osx-64::pynacl-1.4.0-py39h89e85a6_2\n",
      "  python-igraph      conda-forge/osx-64::python-igraph-0.9.6-py39h8c2f370_0\n",
      "  suitesparse        conda-forge/osx-64::suitesparse-5.10.1-h68a9093_0\n",
      "  texttable          conda-forge/noarch::texttable-1.6.4-pyhd8ed1ab_0\n",
      "\n",
      "\n",
      "\n",
      "Downloading and Extracting Packages\n",
      "\r",
      "flask-paginate-0.8.1 | 11 KB     |            |   0% \r",
      "flask-paginate-0.8.1 | 11 KB     | ########## | 100% \r",
      "flask-paginate-0.8.1 | 11 KB     | ########## | 100% \n",
      "\r",
      "arpack-3.7.0         | 195 KB    |            |   0% \r",
      "arpack-3.7.0         | 195 KB    | #########  |  90% \r",
      "arpack-3.7.0         | 195 KB    | ########## | 100% \n",
      "\r",
      "fabric-2.6.0         | 41 KB     |            |   0% \r",
      "fabric-2.6.0         | 41 KB     | ########## | 100% \r",
      "fabric-2.6.0         | 41 KB     | ########## | 100% \n",
      "\r",
      "invoke-1.6.0         | 137 KB    |            |   0% \r",
      "invoke-1.6.0         | 137 KB    | ######9    |  70% \r",
      "invoke-1.6.0         | 137 KB    | ########## | 100% \r",
      "invoke-1.6.0         | 137 KB    | ########## | 100% \n",
      "\r",
      "pymongo-3.12.0       | 1.2 MB    |            |   0% \r",
      "pymongo-3.12.0       | 1.2 MB    | 1          |   1% \r",
      "pymongo-3.12.0       | 1.2 MB    | ###        |  31% \r",
      "pymongo-3.12.0       | 1.2 MB    | #####5     |  55% \r",
      "pymongo-3.12.0       | 1.2 MB    | ########## | 100% \r",
      "pymongo-3.12.0       | 1.2 MB    | ########## | 100% \n",
      "\r",
      "gunicorn-20.1.0      | 119 KB    |            |   0% \r",
      "gunicorn-20.1.0      | 119 KB    | #3         |  13% \r",
      "gunicorn-20.1.0      | 119 KB    | ########## | 100% \n",
      "\r",
      "paramiko-2.7.2       | 135 KB    |            |   0% \r",
      "paramiko-2.7.2       | 135 KB    | ########## | 100% \r",
      "paramiko-2.7.2       | 135 KB    | ########## | 100% \n",
      "\r",
      "pynacl-1.4.0         | 1.3 MB    |            |   0% \r",
      "pynacl-1.4.0         | 1.3 MB    | #4         |  14% \r",
      "pynacl-1.4.0         | 1.3 MB    | #######3   |  74% \r",
      "pynacl-1.4.0         | 1.3 MB    | ########## | 100% \r",
      "pynacl-1.4.0         | 1.3 MB    | ########## | 100% \n",
      "\r",
      "texttable-1.6.4      | 16 KB     |            |   0% \r",
      "texttable-1.6.4      | 16 KB     | ########## | 100% \n",
      "\r",
      "suitesparse-5.10.1   | 2.5 MB    |            |   0% \r",
      "suitesparse-5.10.1   | 2.5 MB    | ##5        |  25% \r",
      "suitesparse-5.10.1   | 2.5 MB    | #######3   |  74% \r",
      "suitesparse-5.10.1   | 2.5 MB    | ########## | 100% \r",
      "suitesparse-5.10.1   | 2.5 MB    | ########## | 100% \n",
      "\r",
      "fireworks-1.9.7      | 354 KB    |            |   0% \r",
      "fireworks-1.9.7      | 354 KB    | 4          |   5% \r",
      "fireworks-1.9.7      | 354 KB    | ########## | 100% \r",
      "fireworks-1.9.7      | 354 KB    | ########## | 100% \n",
      "\r",
      "glpk-4.65            | 1.0 MB    |            |   0% \r",
      "glpk-4.65            | 1.0 MB    | ########## | 100% \r",
      "glpk-4.65            | 1.0 MB    | ########## | 100% \n",
      "\r",
      "python-igraph-0.9.6  | 1.3 MB    |            |   0% \r",
      "python-igraph-0.9.6  | 1.3 MB    | 1          |   1% \r",
      "python-igraph-0.9.6  | 1.3 MB    | ########## | 100% \r",
      "python-igraph-0.9.6  | 1.3 MB    | ########## | 100% \n",
      "\r",
      "bcrypt-3.2.0         | 42 KB     |            |   0% \r",
      "bcrypt-3.2.0         | 42 KB     | ########## | 100% \n",
      "\r",
      "pathlib2-2.3.6       | 35 KB     |            |   0% \r",
      "pathlib2-2.3.6       | 35 KB     | ########## | 100% \n",
      "\r",
      "metis-5.1.0          | 4.1 MB    |            |   0% \r",
      "metis-5.1.0          | 4.1 MB    | ###4       |  35% \r",
      "metis-5.1.0          | 4.1 MB    | ########9  |  89% \r",
      "metis-5.1.0          | 4.1 MB    | ########## | 100% \n",
      "Preparing transaction: ...working... done\n",
      "Verifying transaction: ...working... done\n",
      "Executing transaction: ...working... done\n"
     ]
    },
    {
     "name": "stderr",
     "output_type": "stream",
     "text": [
      "\n",
      "\n",
      "==> WARNING: A newer version of conda exists. <==\n",
      "  current version: 4.8.4\n",
      "  latest version: 4.10.3\n",
      "\n",
      "Please update conda by running\n",
      "\n",
      "    $ conda update -n base conda\n",
      "\n",
      "\n"
     ]
    }
   ],
   "source": [
    "%%bash\n",
    "source activate temp_workshop_env\n",
    "\n",
    "conda install -y fireworks"
   ]
  },
  {
   "cell_type": "markdown",
   "id": "6b045ded",
   "metadata": {},
   "source": [
    "## Remove/Delete Conda environment"
   ]
  },
  {
   "cell_type": "markdown",
   "id": "9d6e5527",
   "metadata": {},
   "source": [
    "When a conda environment is no longer useful or needs to be uninstalled, remove it with `conda remove`."
   ]
  },
  {
   "cell_type": "code",
   "execution_count": 15,
   "id": "6fceffe7",
   "metadata": {},
   "outputs": [
    {
     "name": "stdout",
     "output_type": "stream",
     "text": [
      "\n",
      "Remove all packages in environment /Users/esivonxay/anaconda3/envs/temp_workshop_env:\n",
      "\n",
      "\n",
      "## Package Plan ##\n",
      "\n",
      "  environment location: /Users/esivonxay/anaconda3/envs/temp_workshop_env\n",
      "\n",
      "\n",
      "The following packages will be REMOVED:\n",
      "\n",
      "  appnope-0.1.2-py39h6e9494a_1\n",
      "  arpack-3.7.0-hefb7bc6_2\n",
      "  ase-3.22.0-pyhd8ed1ab_0\n",
      "  backcall-0.2.0-pyh9f0ad1d_0\n",
      "  backports-1.0-py_2\n",
      "  backports.functools_lru_cache-1.6.4-pyhd8ed1ab_0\n",
      "  bcrypt-3.2.0-py39h89e85a6_1\n",
      "  brotlipy-0.7.0-py39h89e85a6_1001\n",
      "  bzip2-1.0.8-h0d85af4_4\n",
      "  c-ares-1.17.1-h0d85af4_1\n",
      "  ca-certificates-2021.5.30-h033912b_0\n",
      "  certifi-2021.5.30-py39h6e9494a_0\n",
      "  cffi-1.14.6-py39hb71fe58_0\n",
      "  cftime-1.5.0-py39hc89836e_0\n",
      "  chardet-4.0.0-py39h6e9494a_1\n",
      "  charset-normalizer-2.0.0-pyhd8ed1ab_0\n",
      "  click-8.0.1-py39h6e9494a_0\n",
      "  cryptography-3.4.7-py39ha2c9959_0\n",
      "  curl-7.77.0-hb861fe1_0\n",
      "  cycler-0.10.0-py_2\n",
      "  dataclasses-0.8-pyhc8e2a94_1\n",
      "  debugpy-1.4.1-py39h9fcab8e_0\n",
      "  decorator-5.0.9-pyhd8ed1ab_0\n",
      "  double-conversion-3.1.5-he49afe7_2\n",
      "  eigen-3.3.9-h926bf3e_1\n",
      "  expat-2.4.1-he49afe7_0\n",
      "  fabric-2.6.0-pyhd8ed1ab_1\n",
      "  ffmpeg-4.3.1-hb787a4c_2\n",
      "  fireworks-1.9.7-pyhd8ed1ab_0\n",
      "  flask-2.0.1-pyhd8ed1ab_0\n",
      "  flask-paginate-0.8.1-pyh44b312d_0\n",
      "  freetype-2.10.4-h4cff582_1\n",
      "  future-0.18.2-py39h6e9494a_3\n",
      "  gettext-0.19.8.1-h7937167_1005\n",
      "  gl2ps-1.4.2-h4cff582_0\n",
      "  glew-2.1.0-h046ec9c_2\n",
      "  glpk-4.65-h0f52abe_1004\n",
      "  gmp-6.2.1-h2e338ed_0\n",
      "  gmpy2-2.1.0b5-py39hab8a6df_0\n",
      "  gnutls-3.6.13-h756fd2b_1\n",
      "  gunicorn-20.1.0-py39h6e9494a_0\n",
      "  hdf4-4.2.15-hefd3b78_3\n",
      "  hdf5-1.10.6-nompi_hc5d9132_1114\n",
      "  icu-68.1-h74dc148_0\n",
      "  idna-3.1-pyhd3deb0d_0\n",
      "  invoke-1.6.0-pyhd8ed1ab_0\n",
      "  ipykernel-6.0.3-py39h71a6800_0\n",
      "  ipython-7.25.0-py39h71a6800_1\n",
      "  ipython_genutils-0.2.0-py_1\n",
      "  itsdangerous-2.0.1-pyhd8ed1ab_0\n",
      "  jbig-2.1-h0d85af4_2003\n",
      "  jedi-0.18.0-py39h6e9494a_2\n",
      "  jinja2-3.0.1-pyhd8ed1ab_0\n",
      "  jpeg-9d-hbcb3906_0\n",
      "  jsoncpp-1.9.4-h940c156_3\n",
      "  jupyter_client-6.1.12-pyhd8ed1ab_0\n",
      "  jupyter_core-4.7.1-py39h6e9494a_0\n",
      "  kiwisolver-1.3.1-py39hf018cea_1\n",
      "  krb5-1.19.1-hcfbf3a7_0\n",
      "  lame-3.100-h35c211d_1001\n",
      "  latexcodec-2.0.1-pyh9f0ad1d_0\n",
      "  lcms2-2.12-h577c468_0\n",
      "  lerc-2.2.1-h046ec9c_0\n",
      "  libblas-3.9.0-9_openblas\n",
      "  libcblas-3.9.0-9_openblas\n",
      "  libclang-11.1.0-default_he082bbe_1\n",
      "  libcurl-7.77.0-hf45b732_0\n",
      "  libcxx-12.0.1-habf9029_0\n",
      "  libdeflate-1.7-h35c211d_5\n",
      "  libedit-3.1.20191231-h0678c8f_2\n",
      "  libev-4.33-haf1e3a3_1\n",
      "  libffi-3.3-h046ec9c_2\n",
      "  libgfortran-5.0.0-9_3_0_h6c81a4c_22\n",
      "  libgfortran5-9.3.0-h6c81a4c_22\n",
      "  libiconv-1.16-haf1e3a3_0\n",
      "  liblapack-3.9.0-9_openblas\n",
      "  libllvm11-11.1.0-hd011deb_2\n",
      "  libnetcdf-4.8.0-nompi_hb4d10b0_103\n",
      "  libnghttp2-1.43.0-h07e645a_0\n",
      "  libogg-1.3.4-h35c211d_1\n",
      "  libopenblas-0.3.15-openmp_h5e1b9a4_1\n",
      "  libpng-1.6.37-h7cec526_2\n",
      "  libpq-13.3-hea3049e_0\n",
      "  libsodium-1.0.18-hbcb3906_1\n",
      "  libssh2-1.9.0-h52ee1ee_6\n",
      "  libtheora-1.1.1-h0d85af4_1005\n",
      "  libtiff-4.3.0-h1167814_1\n",
      "  libvorbis-1.3.7-h046ec9c_0\n",
      "  libwebp-base-1.2.0-h0d85af4_2\n",
      "  libxml2-2.9.12-h93ec3fd_0\n",
      "  libzip-1.8.0-h8b0c345_0\n",
      "  llvm-openmp-12.0.1-hda6cdc1_0\n",
      "  loguru-0.5.3-py39h6e9494a_2\n",
      "  lz4-c-1.9.3-h046ec9c_0\n",
      "  markupsafe-2.0.1-py39h89e85a6_0\n",
      "  matplotlib-base-3.4.2-py39hb07454d_0\n",
      "  matplotlib-inline-0.1.2-pyhd8ed1ab_2\n",
      "  metis-5.1.0-h2e338ed_1006\n",
      "  monty-2021.7.8-pyhd8ed1ab_0\n",
      "  mpc-1.1.0-ha57cd0f_1009\n",
      "  mpfr-4.0.2-h72d8aaf_1\n",
      "  mpmath-1.2.1-pyhd8ed1ab_0\n",
      "  mysql-common-8.0.25-h694c41f_2\n",
      "  mysql-libs-8.0.25-h115446f_2\n",
      "  ncurses-6.2-h2e338ed_4\n",
      "  netcdf4-1.5.7-nompi_py39hfa5ec60_100\n",
      "  nettle-3.6-hedd7734_0\n",
      "  networkx-2.5-py_0\n",
      "  nspr-4.30-hcd9eead_0\n",
      "  nss-3.67-h31e2bf1_0\n",
      "  numpy-1.21.1-py39h7eed0ac_0\n",
      "  olefile-0.46-pyh9f0ad1d_1\n",
      "  openh264-2.1.1-hfd3ada9_0\n",
      "  openjpeg-2.4.0-h6e7aa92_1\n",
      "  openssl-1.1.1k-h0d85af4_0\n",
      "  palettable-3.3.0-py_0\n",
      "  pandas-1.3.1-py39h4d6be9b_0\n",
      "  paramiko-2.7.2-pyh9f0ad1d_0\n",
      "  parso-0.8.2-pyhd8ed1ab_0\n",
      "  pathlib2-2.3.6-py39h6e9494a_0\n",
      "  pexpect-4.8.0-pyh9f0ad1d_2\n",
      "  pickleshare-0.7.5-py_1003\n",
      "  pillow-8.3.1-py39he9bb72f_0\n",
      "  pip-21.2.1-pyhd8ed1ab_0\n",
      "  plotly-5.1.0-pyhd8ed1ab_1\n",
      "  proj-7.2.0-h78d1473_2\n",
      "  prompt-toolkit-3.0.19-pyha770c72_0\n",
      "  ptyprocess-0.7.0-pyhd3deb0d_0\n",
      "  pugixml-1.11.4-he49afe7_0\n",
      "  pybtex-0.24.0-py39h6e9494a_0\n",
      "  pycparser-2.20-pyh9f0ad1d_2\n",
      "  pygments-2.9.0-pyhd8ed1ab_0\n",
      "  pymatgen-2022.0.11-py39hf018cea_0\n",
      "  pymongo-3.12.0-py39h9fcab8e_0\n",
      "  pynacl-1.4.0-py39h89e85a6_2\n",
      "  pyopenssl-20.0.1-pyhd8ed1ab_0\n",
      "  pyparsing-2.4.7-pyh9f0ad1d_0\n",
      "  pysocks-1.7.1-py39h6e9494a_3\n",
      "  python-3.9.6-hd187cdc_1_cpython\n",
      "  python-dateutil-2.8.2-pyhd8ed1ab_0\n",
      "  python-igraph-0.9.6-py39h8c2f370_0\n",
      "  python_abi-3.9-2_cp39\n",
      "  pytz-2021.1-pyhd8ed1ab_0\n",
      "  pyyaml-5.4.1-py39hcbf5805_0\n",
      "  pyzmq-22.1.0-py39h7fec2f1_0\n",
      "  qt-5.12.9-h126340a_4\n",
      "  readline-8.1-h05e3726_0\n",
      "  requests-2.26.0-pyhd8ed1ab_0\n",
      "  ruamel.yaml-0.17.10-py39h89e85a6_0\n",
      "  ruamel.yaml.clib-0.2.2-py39hcbf5805_2\n",
      "  scipy-1.7.0-py39h056f1c0_1\n",
      "  setuptools-49.6.0-py39h6e9494a_3\n",
      "  six-1.16.0-pyh6c4a22f_0\n",
      "  spglib-1.16.1-py39h329c335_0\n",
      "  sqlite-3.36.0-h23a322b_0\n",
      "  suitesparse-5.10.1-h68a9093_0\n",
      "  sympy-1.8-py39h6e9494a_0\n",
      "  tabulate-0.8.9-pyhd8ed1ab_0\n",
      "  tbb-2020.2-h940c156_4\n",
      "  tbb-devel-2020.2-h940c156_4\n",
      "  tenacity-8.0.1-pyhd8ed1ab_0\n",
      "  texttable-1.6.4-pyhd8ed1ab_0\n",
      "  tk-8.6.10-h0419947_1\n",
      "  tornado-6.1-py39h89e85a6_1\n",
      "  tqdm-4.61.2-pyhd8ed1ab_1\n",
      "  traitlets-5.0.5-py_0\n",
      "  tzdata-2021a-he74cb21_1\n",
      "  uncertainties-3.1.6-pyhd8ed1ab_0\n",
      "  urllib3-1.26.6-pyhd8ed1ab_0\n",
      "  utfcpp-3.2.1-h694c41f_0\n",
      "  vtk-9.0.3-no_osmesa_py39h9af63fb_100\n",
      "  wcwidth-0.2.5-pyh9f0ad1d_2\n",
      "  werkzeug-2.0.1-pyhd8ed1ab_0\n",
      "  wheel-0.36.2-pyhd3deb0d_0\n",
      "  x264-1!161.3030-h0d85af4_1\n",
      "  xz-5.2.5-haf1e3a3_1\n",
      "  yaml-0.2.5-haf1e3a3_0\n",
      "  zeromq-4.3.4-h1c7c35f_0\n",
      "  zlib-1.2.11-h7795811_1010\n",
      "  zstd-1.5.0-h582d3a0_0\n",
      "\n",
      "\n",
      "Preparing transaction: done\n",
      "Verifying transaction: done\n",
      "Executing transaction: done\n"
     ]
    }
   ],
   "source": [
    "!conda remove -y --name temp_workshop_env --all"
   ]
  },
  {
   "cell_type": "code",
   "execution_count": 17,
   "id": "51027122",
   "metadata": {},
   "outputs": [
    {
     "name": "stdout",
     "output_type": "stream",
     "text": [
      "# conda environments:\r\n",
      "#\r\n",
      "base                     /Users/esivonxay/anaconda3\r\n",
      "UCFood                   /Users/esivonxay/anaconda3/envs/UCFood\r\n",
      "amorph_env               /Users/esivonxay/anaconda3/envs/amorph_env\r\n",
      "cms                      /Users/esivonxay/anaconda3/envs/cms\r\n",
      "conda-env-mp-py          /Users/esivonxay/anaconda3/envs/conda-env-mp-py\r\n",
      "constructor              /Users/esivonxay/anaconda3/envs/constructor\r\n",
      "deepmd_gpu_2021          /Users/esivonxay/anaconda3/envs/deepmd_gpu_2021\r\n",
      "handbook_env             /Users/esivonxay/anaconda3/envs/handbook_env\r\n",
      "misc_env                 /Users/esivonxay/anaconda3/envs/misc_env\r\n",
      "mp_workshop_2021      *  /Users/esivonxay/anaconda3/envs/mp_workshop_2021\r\n",
      "mpdocs                   /Users/esivonxay/anaconda3/envs/mpdocs\r\n",
      "pymoldyn_env             /Users/esivonxay/anaconda3/envs/pymoldyn_env\r\n",
      "test_env                 /Users/esivonxay/anaconda3/envs/test_env\r\n",
      "\r\n"
     ]
    }
   ],
   "source": [
    "!conda env list"
   ]
  },
  {
   "cell_type": "markdown",
   "id": "d0c8923a",
   "metadata": {},
   "source": [
    "If we created a kernelspec, we'll want to remove it (not done by default)"
   ]
  },
  {
   "cell_type": "code",
   "execution_count": 16,
   "id": "58fa5bd0",
   "metadata": {},
   "outputs": [
    {
     "name": "stdout",
     "output_type": "stream",
     "text": [
      "[RemoveKernelSpec] Removed /Users/esivonxay/anaconda3/envs/mp_workshop_2021/share/jupyter/kernels/temp_workshop_env\r\n"
     ]
    }
   ],
   "source": [
    "!jupyter kernelspec remove -f temp_workshop_env"
   ]
  },
  {
   "cell_type": "code",
   "execution_count": null,
   "id": "98f5f3fd",
   "metadata": {},
   "outputs": [],
   "source": []
  }
 ],
 "metadata": {
  "kernelspec": {
   "display_name": "Python 3 (ipykernel)",
   "language": "python",
   "name": "python3"
  },
  "language_info": {
   "codemirror_mode": {
    "name": "ipython",
    "version": 3
   },
   "file_extension": ".py",
   "mimetype": "text/x-python",
   "name": "python",
   "nbconvert_exporter": "python",
   "pygments_lexer": "ipython3",
   "version": "3.9.6"
  }
 },
 "nbformat": 4,
 "nbformat_minor": 5
}
