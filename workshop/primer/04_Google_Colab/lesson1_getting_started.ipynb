{
  "nbformat": 4,
  "nbformat_minor": 0,
  "metadata": {
    "colab": {
      "name": "lesson1_getting_started",
      "provenance": [],
      "collapsed_sections": []
    },
    "kernelspec": {
      "name": "python3",
      "display_name": "Python 3"
    },
    "language_info": {
      "name": "python"
    }
  },
  "cells": [
    {
      "cell_type": "markdown",
      "metadata": {
        "id": "PuCDmJj-GPHs"
      },
      "source": [
        "# Getting started on Colab"
      ]
    },
    {
      "cell_type": "markdown",
      "metadata": {
        "id": "TP7a0rG4JFZJ"
      },
      "source": [
        "Google Colab comes pre-configured with a python environment capable of machine learning"
      ]
    },
    {
      "cell_type": "code",
      "metadata": {
        "colab": {
          "base_uri": "https://localhost:8080/"
        },
        "id": "eD_FIeaSJQik",
        "outputId": "56d2c032-590b-4b33-dad9-b39a46ee0f49"
      },
      "source": [
        "import numpy as np\n",
        "\n",
        "rand_arr = np.random.rand(1000000)\n",
        "rand_arr = rand_arr.reshape(1000, 1000)\n",
        "np.mean(rand_arr)"
      ],
      "execution_count": 1,
      "outputs": [
        {
          "output_type": "execute_result",
          "data": {
            "text/plain": [
              "0.49978312636745387"
            ]
          },
          "metadata": {
            "tags": []
          },
          "execution_count": 1
        }
      ]
    },
    {
      "cell_type": "code",
      "metadata": {
        "colab": {
          "base_uri": "https://localhost:8080/"
        },
        "id": "_Nal9-XaQ9UW",
        "outputId": "aa9cc50e-deec-4826-8b97-6c3adbd61550"
      },
      "source": [
        "import tensorflow as tf\n",
        "print(tf.reduce_mean(tf.random.uniform([1000, 1000])))"
      ],
      "execution_count": 2,
      "outputs": [
        {
          "output_type": "stream",
          "text": [
            "tf.Tensor(0.5002437, shape=(), dtype=float32)\n"
          ],
          "name": "stdout"
        }
      ]
    },
    {
      "cell_type": "markdown",
      "metadata": {
        "id": "1ctEH7lUKH5_"
      },
      "source": [
        "## Navigating the notebook"
      ]
    },
    {
      "cell_type": "markdown",
      "metadata": {
        "id": "P4JGHl-WJ_dT"
      },
      "source": [
        "Many Jupyter shortcuts are available in colab.\n",
        "\n",
        "Use `Enter` to select and interact with a cell\n",
        "\n",
        "Use `Esc` to deselect a cell"
      ]
    },
    {
      "cell_type": "code",
      "metadata": {
        "id": "imfIy8ofKtCE"
      },
      "source": [
        "#Try to type something into this box: "
      ],
      "execution_count": 3,
      "outputs": []
    },
    {
      "cell_type": "markdown",
      "metadata": {
        "id": "8IxbmSoxKk27"
      },
      "source": [
        "Run a cell using `Shift+Enter`"
      ]
    },
    {
      "cell_type": "markdown",
      "metadata": {
        "id": "J65W4J_HGYMw"
      },
      "source": [
        "## Use the `!` command to execute shell commands "
      ]
    },
    {
      "cell_type": "code",
      "metadata": {
        "colab": {
          "base_uri": "https://localhost:8080/"
        },
        "id": "SUe7PAE99Giw",
        "outputId": "d850f1d1-8a56-41b1-d336-fd184ba1051c"
      },
      "source": [
        "!python --version"
      ],
      "execution_count": 4,
      "outputs": [
        {
          "output_type": "stream",
          "text": [
            "Python 3.7.11\n"
          ],
          "name": "stdout"
        }
      ]
    },
    {
      "cell_type": "code",
      "metadata": {
        "colab": {
          "base_uri": "https://localhost:8080/"
        },
        "id": "W2OqooXbGm3T",
        "outputId": "0cec47b3-c120-4303-d75b-8424f3ca6b00"
      },
      "source": [
        "!pwd"
      ],
      "execution_count": 5,
      "outputs": [
        {
          "output_type": "stream",
          "text": [
            "/content\n"
          ],
          "name": "stdout"
        }
      ]
    },
    {
      "cell_type": "code",
      "metadata": {
        "colab": {
          "base_uri": "https://localhost:8080/"
        },
        "id": "D4GxvDdqGn_j",
        "outputId": "80678d9f-ef5d-4e07-bef8-b7902934e333"
      },
      "source": [
        "!ls /content/sample_data/"
      ],
      "execution_count": 6,
      "outputs": [
        {
          "output_type": "stream",
          "text": [
            "anscombe.json\t\t      mnist_test.csv\n",
            "california_housing_test.csv   mnist_train_small.csv\n",
            "california_housing_train.csv  README.md\n"
          ],
          "name": "stdout"
        }
      ]
    },
    {
      "cell_type": "markdown",
      "metadata": {
        "id": "UsCXdMNWGzS2"
      },
      "source": [
        "## Use `%%bash` to set entire cell to execute as shell commands"
      ]
    },
    {
      "cell_type": "code",
      "metadata": {
        "colab": {
          "base_uri": "https://localhost:8080/"
        },
        "id": "HZB6SmAb-4hJ",
        "outputId": "23b3ebe7-6c76-4433-e3c5-c27b9abdbf2d"
      },
      "source": [
        "%%bash\n",
        "\n",
        "pwd\n",
        "which python3"
      ],
      "execution_count": 7,
      "outputs": [
        {
          "output_type": "stream",
          "text": [
            "/content\n",
            "/usr/bin/python3\n"
          ],
          "name": "stdout"
        }
      ]
    }
  ]
}