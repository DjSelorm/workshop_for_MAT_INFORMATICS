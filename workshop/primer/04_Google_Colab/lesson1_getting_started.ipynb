{
  "nbformat": 4,
  "nbformat_minor": 0,
  "metadata": {
    "colab": {
      "name": "lesson1_getting_started",
      "provenance": [],
      "collapsed_sections": [],
      "toc_visible": true
    },
    "kernelspec": {
      "name": "python3",
      "display_name": "Python 3"
    },
    "language_info": {
      "name": "python"
    }
  },
  "cells": [
    {
      "cell_type": "markdown",
      "metadata": {
        "id": "PuCDmJj-GPHs"
      },
      "source": [
        "# Getting started on Colab"
      ]
    },
    {
      "cell_type": "markdown",
      "metadata": {
        "id": "1ctEH7lUKH5_"
      },
      "source": [
        "## Navigating the notebook"
      ]
    },
    {
      "cell_type": "markdown",
      "metadata": {
        "id": "P4JGHl-WJ_dT"
      },
      "source": [
        "Many Jupyter shortcuts are available in colab.\n",
        "\n",
        "Use `Enter` to select and interact with a cell\n",
        "\n",
        "Use `Esc` to deselect a cell"
      ]
    },
    {
      "cell_type": "code",
      "metadata": {
        "id": "imfIy8ofKtCE"
      },
      "source": [
        "#Try to type something into this box: "
      ],
      "execution_count": 3,
      "outputs": []
    },
    {
      "cell_type": "markdown",
      "metadata": {
        "id": "8IxbmSoxKk27"
      },
      "source": [
        "Run a cell using `Shift+Enter`"
      ]
    },
    {
      "cell_type": "markdown",
      "metadata": {
        "id": "TP7a0rG4JFZJ"
      },
      "source": [
        ""
      ]
    },
    {
      "cell_type": "code",
      "metadata": {
        "colab": {
          "base_uri": "https://localhost:8080/"
        },
        "id": "eD_FIeaSJQik",
        "outputId": "56d2c032-590b-4b33-dad9-b39a46ee0f49"
      },
      "source": [
        "import numpy as np\n",
        "\n",
        "rand_arr = np.random.rand(1000000)\n",
        "rand_arr = rand_arr.reshape(1000, 1000)\n",
        "np.mean(rand_arr)"
      ],
      "execution_count": 1,
      "outputs": [
        {
          "output_type": "execute_result",
          "data": {
            "text/plain": [
              "0.49978312636745387"
            ]
          },
          "metadata": {
            "tags": []
          },
          "execution_count": 1
        }
      ]
    },
    {
      "cell_type": "code",
      "metadata": {
        "colab": {
          "base_uri": "https://localhost:8080/"
        },
        "id": "_Nal9-XaQ9UW",
        "outputId": "aa9cc50e-deec-4826-8b97-6c3adbd61550"
      },
      "source": [
        "import tensorflow as tf\n",
        "print(tf.reduce_mean(tf.random.uniform([1000, 1000])))"
      ],
      "execution_count": 2,
      "outputs": [
        {
          "output_type": "stream",
          "text": [
            "tf.Tensor(0.5002437, shape=(), dtype=float32)\n"
          ],
          "name": "stdout"
        }
      ]
    },
    {
      "cell_type": "markdown",
      "metadata": {
        "id": "Gz6I5fdmN5nT"
      },
      "source": [
        "# Executing Shell Commands\n",
        "Shell commands are useful to "
      ]
    },
    {
      "cell_type": "markdown",
      "metadata": {
        "id": "J65W4J_HGYMw"
      },
      "source": [
        "## Use the `!` command to execute shell commands "
      ]
    },
    {
      "cell_type": "code",
      "metadata": {
        "colab": {
          "base_uri": "https://localhost:8080/"
        },
        "id": "SUe7PAE99Giw",
        "outputId": "d850f1d1-8a56-41b1-d336-fd184ba1051c"
      },
      "source": [
        "!python --version"
      ],
      "execution_count": 4,
      "outputs": [
        {
          "output_type": "stream",
          "text": [
            "Python 3.7.11\n"
          ],
          "name": "stdout"
        }
      ]
    },
    {
      "cell_type": "code",
      "metadata": {
        "colab": {
          "base_uri": "https://localhost:8080/"
        },
        "id": "W2OqooXbGm3T",
        "outputId": "0cec47b3-c120-4303-d75b-8424f3ca6b00"
      },
      "source": [
        "!pwd"
      ],
      "execution_count": 5,
      "outputs": [
        {
          "output_type": "stream",
          "text": [
            "/content\n"
          ],
          "name": "stdout"
        }
      ]
    },
    {
      "cell_type": "code",
      "metadata": {
        "colab": {
          "base_uri": "https://localhost:8080/"
        },
        "id": "D4GxvDdqGn_j",
        "outputId": "80678d9f-ef5d-4e07-bef8-b7902934e333"
      },
      "source": [
        "!ls /content/sample_data/"
      ],
      "execution_count": 6,
      "outputs": [
        {
          "output_type": "stream",
          "text": [
            "anscombe.json\t\t      mnist_test.csv\n",
            "california_housing_test.csv   mnist_train_small.csv\n",
            "california_housing_train.csv  README.md\n"
          ],
          "name": "stdout"
        }
      ]
    },
    {
      "cell_type": "markdown",
      "metadata": {
        "id": "UsCXdMNWGzS2"
      },
      "source": [
        "## Use `%%bash` to set entire cell to execute as shell commands"
      ]
    },
    {
      "cell_type": "code",
      "metadata": {
        "colab": {
          "base_uri": "https://localhost:8080/"
        },
        "id": "HZB6SmAb-4hJ",
        "outputId": "23b3ebe7-6c76-4433-e3c5-c27b9abdbf2d"
      },
      "source": [
        "%%bash\n",
        "\n",
        "pwd\n",
        "which python3"
      ],
      "execution_count": 7,
      "outputs": [
        {
          "output_type": "stream",
          "text": [
            "/content\n",
            "/usr/bin/python3\n"
          ],
          "name": "stdout"
        }
      ]
    },
    {
      "cell_type": "markdown",
      "metadata": {
        "id": "gG31T3IxG9yH"
      },
      "source": [
        "# Runtimes"
      ]
    },
    {
      "cell_type": "markdown",
      "metadata": {
        "id": "XOYTfKojIxr_"
      },
      "source": [
        "Each Colab instance (runtime) runs on an individual Virtual Machine(VM). "
      ]
    },
    {
      "cell_type": "markdown",
      "metadata": {
        "id": "iAC5do2bLW_b"
      },
      "source": [
        "To view active sessions, select Runtime > Manage Sessions. \n",
        "\n",
        "Here you will be able to view all your open notebooks (and terminate them)."
      ]
    },
    {
      "cell_type": "markdown",
      "metadata": {
        "id": "DaDS10tyKUQ6"
      },
      "source": [
        "---\n",
        "By Default, Colab instances have access to CPUs, however notebooks have access to GPU and TPU resources. "
      ]
    },
    {
      "cell_type": "markdown",
      "metadata": {
        "id": "Pbl9Ic0fMcOm"
      },
      "source": [
        "To initialize a runtime with a GPU, \n",
        "\n",
        "\n",
        "1.   Select 'Runtime' > 'Change Runtime Type'\n",
        "2.   Select 'GPU' in the drop down menu and click 'Save'\n",
        "\n"
      ]
    },
    {
      "cell_type": "markdown",
      "metadata": {
        "id": "Am7Zk1vmOPSU"
      },
      "source": [
        "We'll test the GPU using the [example](https://colab.research.google.com/notebooks/gpu.ipynb) provided by colab."
      ]
    },
    {
      "cell_type": "code",
      "metadata": {
        "colab": {
          "base_uri": "https://localhost:8080/"
        },
        "id": "2-9u4NL6No11",
        "outputId": "d7218af0-5db4-4421-f984-2ab659340c85"
      },
      "source": [
        "%tensorflow_version 2.x\n",
        "import tensorflow as tf\n",
        "import timeit\n",
        "\n",
        "device_name = tf.test.gpu_device_name()\n",
        "if device_name != '/device:GPU:0':\n",
        "  print(\n",
        "      '\\n\\nThis error most likely means that this notebook is not '\n",
        "      'configured to use a GPU.  Change this in Notebook Settings via the '\n",
        "      'command palette (cmd/ctrl-shift-P) or the Edit menu.\\n\\n')\n",
        "  raise SystemError('GPU device not found')\n",
        "\n",
        "def cpu():\n",
        "  with tf.device('/cpu:0'):\n",
        "    random_image_cpu = tf.random.normal((100, 100, 100, 3))\n",
        "    net_cpu = tf.keras.layers.Conv2D(32, 7)(random_image_cpu)\n",
        "    return tf.math.reduce_sum(net_cpu)\n",
        "\n",
        "def gpu():\n",
        "  with tf.device('/device:GPU:0'):\n",
        "    random_image_gpu = tf.random.normal((100, 100, 100, 3))\n",
        "    net_gpu = tf.keras.layers.Conv2D(32, 7)(random_image_gpu)\n",
        "    return tf.math.reduce_sum(net_gpu)\n",
        "  \n",
        "# We run each op once to warm up; see: https://stackoverflow.com/a/45067900\n",
        "cpu()\n",
        "gpu()\n",
        "\n",
        "# Run the op several times.\n",
        "print('Time (s) to convolve 32x7x7x3 filter over random 100x100x100x3 images '\n",
        "      '(batch x height x width x channel). Sum of ten runs.')\n",
        "print('CPU (s):')\n",
        "cpu_time = timeit.timeit('cpu()', number=10, setup=\"from __main__ import cpu\")\n",
        "print(cpu_time)\n",
        "print('GPU (s):')\n",
        "gpu_time = timeit.timeit('gpu()', number=10, setup=\"from __main__ import gpu\")\n",
        "print(gpu_time)\n",
        "print('GPU speedup over CPU: {}x'.format(int(cpu_time/gpu_time)))"
      ],
      "execution_count": 1,
      "outputs": [
        {
          "output_type": "stream",
          "text": [
            "Time (s) to convolve 32x7x7x3 filter over random 100x100x100x3 images (batch x height x width x channel). Sum of ten runs.\n",
            "CPU (s):\n",
            "3.113109799\n",
            "GPU (s):\n",
            "0.03972303500000862\n",
            "GPU speedup over CPU: 78x\n"
          ],
          "name": "stdout"
        }
      ]
    },
    {
      "cell_type": "code",
      "metadata": {
        "id": "48vipFQsOi2H"
      },
      "source": [
        ""
      ],
      "execution_count": null,
      "outputs": []
    }
  ]
}