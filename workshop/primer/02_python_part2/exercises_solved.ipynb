{
 "cells": [
  {
   "cell_type": "markdown",
   "metadata": {},
   "source": [
    "# Python Primer Part II Exercises (with Solutions)"
   ]
  },
  {
   "cell_type": "markdown",
   "metadata": {},
   "source": [
    "## Lesson 5: Conditional\n",
    "---"
   ]
  },
  {
   "cell_type": "markdown",
   "metadata": {},
   "source": [
    "### Exercise: convert temperature between Celsius and Fahrenheit\n",
    "\n",
    "Formula: `c = (f-32)*5/9`, where `c` is temperature in Celsius and `f` is temperature in Fahrenheit.\n",
    "\n",
    "Expected Output : \n",
    "\n",
    "30°C is 86 in Fahrenheit\n",
    "\n",
    "68°F is 20 in Celsius "
   ]
  },
  {
   "cell_type": "code",
   "execution_count": 1,
   "metadata": {},
   "outputs": [
    {
     "name": "stdout",
     "output_type": "stream",
     "text": [
      "The temperature 68.0F is 20.0 in Celsius.\n"
     ]
    }
   ],
   "source": [
    "# set the input temperature you like to convert, e.g. 68F, 30C etc.\n",
    "T = \"68F\"\n",
    "# T = '30C'\n",
    "\n",
    "# separate the input into value and unit, e.g. `68F` to `68` and `F`\n",
    "T = T.strip()\n",
    "in_value = float(T[:-1])  # the value part, e.g. 68\n",
    "in_unit = T[-1].upper()  # the unit part, either `F` or `C`\n",
    "\n",
    "# convert between C and F\n",
    "if in_unit == \"C\":\n",
    "    out_value = in_value * 9 / 5 + 32\n",
    "    out_unit = \"Fahrenheit\"\n",
    "elif in_unit == \"F\":\n",
    "    out_value = (in_value - 32) * 5 / 9\n",
    "    out_unit = \"Celsius\"\n",
    "else:\n",
    "    raise ValueError(f\"Unknown unit convention `{in_unit}`; expect `C` or `F`.\")\n",
    "\n",
    "# write output\n",
    "print(f\"The temperature {in_value:.1f}{in_unit} is {out_value:.1f} in {out_unit}.\")"
   ]
  },
  {
   "cell_type": "markdown",
   "metadata": {},
   "source": [
    "## Lesson 6: Dictionary\n",
    "---"
   ]
  },
  {
   "cell_type": "markdown",
   "metadata": {},
   "source": [
    "### Exercise 1: count occurence of characters in a sentence\n",
    "\n",
    "For example, given `hello hola`, the program returns a dictionary `{\"h\": 2, \"e\": 1, \"l\": 3, \"o\": 2, \"a\": 1}`"
   ]
  },
  {
   "cell_type": "code",
   "execution_count": 2,
   "metadata": {},
   "outputs": [
    {
     "name": "stdout",
     "output_type": "stream",
     "text": [
      "{'h': 2, 'e': 1, 'l': 3, 'o': 2, 'a': 1}\n"
     ]
    }
   ],
   "source": [
    "sentence = \"hello hola\"\n",
    "\n",
    "count = {}\n",
    "for n in sentence:\n",
    "\n",
    "    # ignore white space\n",
    "    if n == \" \":\n",
    "        continue\n",
    "\n",
    "    # initialize the count to 1 when first see it\n",
    "    if n not in count:\n",
    "        count[n] = 1\n",
    "    # increase count by 1\n",
    "    else:\n",
    "        count[n] = count[n] + 1\n",
    "\n",
    "print(count)"
   ]
  },
  {
   "cell_type": "markdown",
   "metadata": {},
   "source": [
    "Reminder: there are lots of useful Python libraries. \n",
    "To do the counting, we can also use `collections.Counter` from the standard library."
   ]
  },
  {
   "cell_type": "code",
   "execution_count": 3,
   "metadata": {},
   "outputs": [
    {
     "name": "stdout",
     "output_type": "stream",
     "text": [
      "{'h': 2, 'e': 1, 'l': 3, 'o': 2, ' ': 1, 'a': 1}\n"
     ]
    }
   ],
   "source": [
    "from collections import Counter\n",
    "\n",
    "count = Counter(sentence)\n",
    "print(dict(count))  # unlike our program, this will include a count for the white space"
   ]
  },
  {
   "cell_type": "markdown",
   "metadata": {},
   "source": [
    "### Exercise 2: How heavy is a molecule?\n",
    "\n",
    "You are given two things:\n",
    "\n",
    "- a dictionary mapping an element's symbol to its atomic weight, i.e. \n",
    "    ```python\n",
    "    atomic_weights = {\n",
    "        \"H\": 1.00794,\n",
    "        \"He\": 4.002602,\n",
    "        ...\n",
    "        \"Lr\": 262.0,\n",
    "    }        \n",
    "    ```\n",
    "\n",
    "- another dictionary holds the information of a molecule, with its atomic symbols as keys and the element counts as values, e.g. \n",
    "    ```python\n",
    "    water = {\"H\": 2, \"O\": 1}\n",
    "    ```\n",
    "\n",
    "    or \n",
    "    \n",
    "    ```python\n",
    "    caffine = {\"C\": 8, \"H\": 10, \"N\": 4, \"O\": 2}\n",
    "    ```\n",
    "\n",
    "Print the molecule's molecular weight."
   ]
  },
  {
   "cell_type": "code",
   "execution_count": 4,
   "metadata": {},
   "outputs": [
    {
     "name": "stdout",
     "output_type": "stream",
     "text": [
      "Molecular weight is: 18.01528\n"
     ]
    }
   ],
   "source": [
    "from pathlib import Path\n",
    "from monty.serialization import loadfn\n",
    "\n",
    "# load symbol to weight dict from file\n",
    "atomic_weights = loadfn(Path(\"./data\").joinpath(\"atomic_weights.json\"))\n",
    "\n",
    "# atomic weight is 18.01528\n",
    "water = {\"H\": 2, \"O\": 1}\n",
    "\n",
    "# atomic weight is 194.1906\n",
    "caffine = {\"C\": 8, \"H\": 10, \"N\": 4, \"O\": 2}\n",
    "\n",
    "# pick a molecule\n",
    "molecule = water\n",
    "# molecule = caffine\n",
    "\n",
    "# calculate the molecular weight\n",
    "weight = 0.0\n",
    "for symbol, count in molecule.items():\n",
    "    weight += count * atomic_weights[symbol]\n",
    "\n",
    "print(\"Molecular weight is:\", weight)"
   ]
  },
  {
   "cell_type": "markdown",
   "metadata": {},
   "source": [
    "## Lesson 7: Function\n",
    "---"
   ]
  },
  {
   "cell_type": "markdown",
   "metadata": {},
   "source": [
    "### Exercise 1: find first negative value\n",
    "\n",
    "Write a function that takes a list of numbers as input and returns the first negative number in the list. \n",
    "What does the function do if the list is empty or there is no negative values?\n",
    "\n",
    "For example, given input `[2, -1, -4, 3]`, the function returns `-1`."
   ]
  },
  {
   "cell_type": "code",
   "execution_count": 5,
   "metadata": {},
   "outputs": [
    {
     "name": "stdout",
     "output_type": "stream",
     "text": [
      "-1\n"
     ]
    }
   ],
   "source": [
    "def find_first_negative(values):\n",
    "    for v in values:\n",
    "        if v < 0:\n",
    "            return v\n",
    "\n",
    "\n",
    "n = find_first_negative([2, -1, -4, 3])\n",
    "print(n)"
   ]
  },
  {
   "cell_type": "markdown",
   "metadata": {},
   "source": [
    "What about finding the second negative values?"
   ]
  },
  {
   "cell_type": "code",
   "execution_count": 6,
   "metadata": {},
   "outputs": [
    {
     "name": "stdout",
     "output_type": "stream",
     "text": [
      "-4\n"
     ]
    }
   ],
   "source": [
    "def find_second_negative(values):\n",
    "    negative_count = 0\n",
    "\n",
    "    for v in values:\n",
    "        if v < 0:\n",
    "            negative_count += 1\n",
    "            if negative_count == 2:\n",
    "                return v\n",
    "\n",
    "\n",
    "n = find_second_negative([2, -1, -4, 3])\n",
    "print(n)"
   ]
  },
  {
   "cell_type": "markdown",
   "metadata": {},
   "source": [
    "### Exercise 2: convert temperatures \n",
    "\n",
    "Write a function to convert temperature between Celsius and Fahrenheit. \n",
    "Given the value and unit of temperature in one convension, you function should return the value and unit in the other convension. \n",
    "For example,\n",
    "\n",
    "`convert_temperature(30, \"C\") -> 86, \"F\"`\n",
    "\n",
    "You may want to reuse some parts of the code in the exercise of Lesson 5."
   ]
  },
  {
   "cell_type": "code",
   "execution_count": 7,
   "metadata": {},
   "outputs": [
    {
     "name": "stdout",
     "output_type": "stream",
     "text": [
      "30C is 86.0F\n",
      "68F is 20.0C\n"
     ]
    }
   ],
   "source": [
    "def convert_temperature(value, unit=\"C\"):\n",
    "\n",
    "    if unit.upper() == \"C\":\n",
    "        out_value = value * 9 / 5 + 32\n",
    "        out_unit = \"F\"\n",
    "    elif unit.upper() == \"F\":\n",
    "        out_value = (value - 32) * 5 / 9\n",
    "        out_unit = \"C\"\n",
    "    else:\n",
    "        raise ValueError(f\"Expect unit convertion to be `C` or `F`; got {unit}\")\n",
    "\n",
    "    return out_value, out_unit\n",
    "\n",
    "\n",
    "v, u = convert_temperature(30, \"C\")\n",
    "print(f\"30C is {v}{u}\")\n",
    "\n",
    "v, u = convert_temperature(68, \"F\")\n",
    "print(f\"68F is {v}{u}\")"
   ]
  },
  {
   "cell_type": "markdown",
   "metadata": {},
   "source": [
    "## Lesson 8: Class\n",
    "---"
   ]
  },
  {
   "cell_type": "markdown",
   "metadata": {},
   "source": [
    "### Exercise: convert temperatures (yes, again)\n",
    "\n",
    "In exercise 2 of lesson 7, we put the temperature conversion between Celsius and Fahrenheit into a function. \n",
    "Let's now convert it into a class and add more functionality, e.g. \n",
    "\n",
    "- convert to Kelvin (Kelvin = Celsius + 273.15) \n",
    "- increase/decrease the temperature\n",
    "- ...\n",
    "\n",
    "In this class, we store the temperature as Celsius in an attribute `self._celsius` and converts to other units as needed.\n",
    "You are asked to complete the `__init__()` and `increase()` function. \n",
    "\n",
    "As a side note, by convention, atrributes and methods with names starting with an underscore `_` are supposed to be used only within the class. "
   ]
  },
  {
   "cell_type": "code",
   "execution_count": 8,
   "metadata": {},
   "outputs": [],
   "source": [
    "class Temperature:\n",
    "    def __init__(self, value: float, unit: str = \"C\"):\n",
    "\n",
    "        # keep record of the input unit\n",
    "        self._unit = unit.upper()\n",
    "\n",
    "        # convert all temperature to Celsius\n",
    "        if self._unit == \"C\":\n",
    "            self._celsius = value\n",
    "        elif self._unit == \"F\":\n",
    "            self._celsius = (value - 32) * 5 / 9\n",
    "        elif self._unit == \"K\":\n",
    "            self._celsius = value - 273.15\n",
    "        else:\n",
    "            raise ValueError(\n",
    "                f\"Expect unit convertion to be `C`, `F` or `K`; got {unit}\"\n",
    "            )\n",
    "\n",
    "        self._check()\n",
    "\n",
    "    def increase(self, delta: float):\n",
    "        \"\"\"\n",
    "        Increase the temperature by `delta` degrees, in the same unit provided\n",
    "        at initializaion of the class.\n",
    "        \"\"\"\n",
    "\n",
    "        if self._unit == \"C\":\n",
    "            self._celsius += delta\n",
    "        elif self._unit == \"F\":\n",
    "            # change of 1 Fahrenheit degree is equal to change of 5/9 Celsius degree\n",
    "            self._celsius += delta * 5 / 9\n",
    "        elif self._unit == \"K\":\n",
    "            # change of 1 Kelvin degree is equal to change of 1 Celsius degree\n",
    "            self._celsius += delta\n",
    "        else:\n",
    "            raise ValueError(\"You will never get here.\")\n",
    "\n",
    "        self._check()\n",
    "\n",
    "    def decrease(self, delta: float):\n",
    "        self.increase(-1 * delta)\n",
    "\n",
    "    @property\n",
    "    def celsius(self) -> float:\n",
    "        return self._celsius\n",
    "\n",
    "    @property\n",
    "    def fahrenheit(self) -> float:\n",
    "        return self._celsius * 9 / 5 + 32\n",
    "\n",
    "    @property\n",
    "    def kelvin(self) -> float:\n",
    "        return self._celsius + 273.15\n",
    "\n",
    "    def _check(self):\n",
    "        \"\"\"\n",
    "        Check the validicity of the values. You don't want to get a value below 0 K.\n",
    "        \"\"\"\n",
    "        if self._celsius < -273.15:\n",
    "            raise ValueError(\"Temperature below absolute zero!!!\")"
   ]
  },
  {
   "cell_type": "code",
   "execution_count": 9,
   "metadata": {},
   "outputs": [
    {
     "name": "stdout",
     "output_type": "stream",
     "text": [
      "Celsius 0.0\n",
      "Fahrenheit 32.0\n",
      "Kelvin 273.15\n"
     ]
    }
   ],
   "source": [
    "t = Temperature(273.15, \"K\")\n",
    "\n",
    "print(\"Celsius\", t.celsius)\n",
    "print(\"Fahrenheit\", t.fahrenheit)\n",
    "print(\"Kelvin\", t.kelvin)"
   ]
  },
  {
   "cell_type": "code",
   "execution_count": 10,
   "metadata": {},
   "outputs": [
    {
     "name": "stdout",
     "output_type": "stream",
     "text": [
      "Celsius -100.0\n",
      "Fahrenheit -148.0\n",
      "Kelvin 173.14999999999998\n"
     ]
    }
   ],
   "source": [
    "t.decrease(100)\n",
    "\n",
    "print(\"Celsius\", t.celsius)\n",
    "print(\"Fahrenheit\", t.fahrenheit)\n",
    "print(\"Kelvin\", t.kelvin)"
   ]
  },
  {
   "cell_type": "code",
   "execution_count": null,
   "metadata": {},
   "outputs": [],
   "source": []
  }
 ],
 "metadata": {
  "kernelspec": {
   "display_name": "Python 3",
   "language": "python",
   "name": "python3"
  },
  "language_info": {
   "codemirror_mode": {
    "name": "ipython",
    "version": 3
   },
   "file_extension": ".py",
   "mimetype": "text/x-python",
   "name": "python",
   "nbconvert_exporter": "python",
   "pygments_lexer": "ipython3",
   "version": "3.7.10"
  }
 },
 "nbformat": 4,
 "nbformat_minor": 4
}
