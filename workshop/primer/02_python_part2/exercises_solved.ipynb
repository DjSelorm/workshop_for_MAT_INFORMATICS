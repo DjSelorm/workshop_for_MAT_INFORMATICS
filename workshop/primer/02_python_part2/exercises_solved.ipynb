{
 "cells": [
  {
   "cell_type": "markdown",
   "metadata": {},
   "source": [
    "# Python Primer Part II Exercises (with Solutions)"
   ]
  },
  {
   "cell_type": "markdown",
   "metadata": {},
   "source": [
    "## Lesson 5: Conditionals\n",
    "---"
   ]
  },
  {
   "cell_type": "markdown",
   "metadata": {},
   "source": [
    "### Exercise: convert temperatures between Celsius and Fahrenheit\n",
    "\n",
    "Formula: `c = (f-32)*5/9`, where `c` is temperature in celsius and `f` is temperature in fahrenheit.\n",
    "\n",
    "Expected Output : \n",
    "\n",
    "30°C is 86 in Fahrenheit\n",
    "\n",
    "68°F is 20 in Celsius "
   ]
  },
  {
   "cell_type": "code",
   "execution_count": 1,
   "metadata": {},
   "outputs": [
    {
     "name": "stdin",
     "output_type": "stream",
     "text": [
      "Input the temperature you like to convert (e.g. 68F, 30C etc.): 30C\n"
     ]
    },
    {
     "name": "stdout",
     "output_type": "stream",
     "text": [
      "The temperature 30.0C is 86.0 in Fahrenheit.\n"
     ]
    }
   ],
   "source": [
    "# get input from user\n",
    "T = input(\"Input the temperature you like to convert (e.g. 68F, 30C etc.):\")\n",
    "\n",
    "# separate the input into value and unit, e.g. `45F` to `45` and `F`\n",
    "T = T.strip()\n",
    "in_value = float(T[:-1])\n",
    "in_unit = T[-1].upper()\n",
    "\n",
    "# convert between C and F\n",
    "if in_unit == \"C\":\n",
    "    out_value = in_value * 9 / 5.0 + 32\n",
    "    out_unit = \"Fahrenheit\"\n",
    "elif in_unit == \"F\":\n",
    "    out_value = (in_value - 32) * 5 / 9.0\n",
    "    out_unit = \"Celsius\"\n",
    "else:\n",
    "    raise ValueError(\"Unknown convention; expect input ending with `C` or `F`.\")\n",
    "\n",
    "# write output\n",
    "print(f\"The temperature {in_value:.1f}{in_unit} is {out_value:.1f} in {out_unit}.\")"
   ]
  },
  {
   "cell_type": "markdown",
   "metadata": {},
   "source": [
    "## Lesson 6: Dictionaries\n",
    "---"
   ]
  },
  {
   "cell_type": "markdown",
   "metadata": {},
   "source": [
    "### Exercise 1: count occurence of characters in a sentence\n",
    "\n",
    "For example, given `hello hola`, the program returns a dictionary `{\"h\": 2, \"e\": 1, \"l\": 3, \"o\": 2, \"a\": 1}`"
   ]
  },
  {
   "cell_type": "code",
   "execution_count": 2,
   "metadata": {},
   "outputs": [
    {
     "name": "stdout",
     "output_type": "stream",
     "text": [
      "{'h': 2, 'e': 1, 'l': 3, 'o': 2, 'a': 1}\n"
     ]
    }
   ],
   "source": [
    "sentence = \"hello hola\"\n",
    "\n",
    "count = {}\n",
    "for n in sentence:\n",
    "\n",
    "    # ignore white space\n",
    "    if n == \" \":\n",
    "        continue\n",
    "\n",
    "    # initialize the count to 1 when first see it\n",
    "    if n not in count:\n",
    "        count[n] = 1\n",
    "    # increase count by 1\n",
    "    else:\n",
    "        count[n] = count[n] + 1\n",
    "\n",
    "print(count)"
   ]
  },
  {
   "cell_type": "markdown",
   "metadata": {},
   "source": [
    "Reminder: there are lots of useful Python libraries. \n",
    "To do the counting, wen can also use `collections.Counter` from standard library."
   ]
  },
  {
   "cell_type": "code",
   "execution_count": 3,
   "metadata": {},
   "outputs": [
    {
     "name": "stdout",
     "output_type": "stream",
     "text": [
      "{'h': 2, 'e': 1, 'l': 3, 'o': 2, ' ': 1, 'a': 1}\n"
     ]
    }
   ],
   "source": [
    "from collections import Counter\n",
    "\n",
    "count = Counter(sentence)\n",
    "print(dict(count))"
   ]
  },
  {
   "cell_type": "markdown",
   "metadata": {},
   "source": [
    "### Exercise 2: How heavy is a molecule?\n",
    "\n",
    "You are given two things:\n",
    "\n",
    "- a dictionary mapping elements' atomic symbols to the weights, i.e. \n",
    "    ```python\n",
    "    atomic_weights = {\n",
    "        \"H\": 1.00794,\n",
    "        \"He\": 4.002602,\n",
    "        ...\n",
    "        \"Lr\": 262.0,\n",
    "    }        \n",
    "    ```\n",
    "\n",
    "- another dictionary of the atomic symbols and the counts in a moleucle, e.g.\n",
    "    ```python\n",
    "    water = {\"H\": 2, \"O\": 1}\n",
    "    caffine = {\"C\": 8, \"H\": 10, \"N\": 4, \"O\": 2}\n",
    "    ```\n",
    "\n",
    "Print that molecule's molecular weight."
   ]
  },
  {
   "cell_type": "code",
   "execution_count": 4,
   "metadata": {},
   "outputs": [
    {
     "name": "stdout",
     "output_type": "stream",
     "text": [
      "Molecular weight is: 18.01528\n"
     ]
    }
   ],
   "source": [
    "import os\n",
    "from monty.serialization import loadfn\n",
    "\n",
    "# load symbol to weight dict from file\n",
    "atomic_weights = loadfn(os.path.join(\"./data\", \"atomic_weights.json\"))\n",
    "\n",
    "# atomic weight is 18.01528\n",
    "water = {\"H\": 2, \"O\": 1}\n",
    "\n",
    "# atomic weight is 194.1906\n",
    "caffine = {\"C\": 8, \"H\": 10, \"N\": 4, \"O\": 2}\n",
    "\n",
    "# pick a molecule\n",
    "molecule = water\n",
    "# molecule = caffine\n",
    "\n",
    "# calculate the molecular weight\n",
    "weight = 0.0\n",
    "for symbol, count in molecule.items():\n",
    "    weight += count * atomic_weights[symbol]\n",
    "\n",
    "print(\"Molecular weight is:\", weight)"
   ]
  },
  {
   "cell_type": "markdown",
   "metadata": {},
   "source": [
    "## Lesson 7: Functions\n",
    "---"
   ]
  },
  {
   "cell_type": "markdown",
   "metadata": {},
   "source": [
    "### Exercise 1: find first negative value\n",
    "\n",
    "Write a function that takes a list of numbers as input and returns the first negative value in the list. What does the function do if the list is empty or there is no negative values?"
   ]
  },
  {
   "cell_type": "code",
   "execution_count": 5,
   "metadata": {},
   "outputs": [
    {
     "name": "stdout",
     "output_type": "stream",
     "text": [
      "-1\n"
     ]
    }
   ],
   "source": [
    "from typing import List\n",
    "\n",
    "\n",
    "def find_first_negative(values: List[float]):\n",
    "    for v in values:\n",
    "        if v < 0:\n",
    "            return v\n",
    "\n",
    "\n",
    "n = find_first_negative([2, -1, -4, 3])\n",
    "print(n)"
   ]
  },
  {
   "cell_type": "markdown",
   "metadata": {},
   "source": [
    "### Exercise 2: convert temperatures \n",
    "\n",
    "Write a function to convert temperature between Celsius and Fahrenheit. \n",
    "Given the temperature value in one conversion, you function should return two values, the value and the other convension. \n",
    "For example,\n",
    "\n",
    "`convert_temperature(30, \"C\") -> 86, \"F\"`\n",
    "\n",
    "You may want to reuse some parts of the code in the exercise of Lesson 5."
   ]
  },
  {
   "cell_type": "code",
   "execution_count": 6,
   "metadata": {},
   "outputs": [
    {
     "name": "stdout",
     "output_type": "stream",
     "text": [
      "30C is 86.0F\n",
      "68F is 20.0C\n"
     ]
    }
   ],
   "source": [
    "def convert_temperature(value: float, unit: str = \"C\"):\n",
    "\n",
    "    if unit.upper() == \"C\":\n",
    "        out_value = value * 9 / 5.0 + 32\n",
    "        out_unit = \"F\"\n",
    "    elif unit.upper() == \"F\":\n",
    "        out_value = (value - 32) * 5 / 9.0\n",
    "        out_unit = \"C\"\n",
    "    else:\n",
    "        raise ValueError(f\"Expect unit convertion to be `C` or `F`; got {unit}\")\n",
    "\n",
    "    return out_value, out_unit\n",
    "\n",
    "\n",
    "v, u = convert_temperature(30, \"C\")\n",
    "print(f\"30C is {v}{u}\")\n",
    "\n",
    "v, u = convert_temperature(68, \"F\")\n",
    "print(f\"68F is {v}{u}\")"
   ]
  },
  {
   "cell_type": "markdown",
   "metadata": {},
   "source": [
    "## Lesson 8: Classes\n",
    "---"
   ]
  },
  {
   "cell_type": "markdown",
   "metadata": {},
   "source": [
    "### Exercise: convert temperatures (yes, again)\n",
    "\n",
    "In exercise 2 of lesson 7, we put the temperature conversion between Celsius and Fahrenheit into a function. \n",
    "This improves the readbility and reusability of the code. \n",
    "Let's now convert it to a class to add more functionality, e.g. \n",
    "\n",
    "- convert to Kelvin (Kelvin = Celsius + 273.15) \n",
    "- increase/decrease the temperature\n",
    "- ...\n",
    "\n",
    "In this class, we store the temperature as Celsius in an attribute `self._celsius` and converts to others as needed.\n",
    "You are asked to complete the `__init__()` and `increase()` function. \n",
    "\n",
    "As a side note, by convention, atrributes and methods with names starting with an underscore `_` are supposed to be used only within the class. "
   ]
  },
  {
   "cell_type": "code",
   "execution_count": 7,
   "metadata": {},
   "outputs": [],
   "source": [
    "class Temperature:\n",
    "    def __init__(self, value: float, unit: str = \"C\"):\n",
    "\n",
    "        self._unit = unit.upper()\n",
    "\n",
    "        # convert all temperature to celsius\n",
    "        if self._unit == \"C\":\n",
    "            self._celsius = value\n",
    "        elif self._unit == \"F\":\n",
    "            self._celsius = (value - 32) * 5 / 9.0\n",
    "        elif self._unit == \"K\":\n",
    "            self._celsius = value - 273.15\n",
    "        else:\n",
    "            raise ValueError(\n",
    "                f\"Expect unit convertion to be `C`, `F` or `K`; got {unit}\"\n",
    "            )\n",
    "\n",
    "        self._check()\n",
    "\n",
    "    def increase(self, delta: float):\n",
    "\n",
    "        if self._unit == \"C\":\n",
    "            self._celsius += delta\n",
    "        elif self._unit == \"F\":\n",
    "            # 1 Fahrenheit degree = 5/9 Celsius degree\n",
    "            self._celsius += delta * 5 / 9.0\n",
    "        elif self._unit == \"K\":\n",
    "            # 1 Kelvin degree = 1 Celsius degree\n",
    "            self._celsius += delta\n",
    "        else:\n",
    "            raise Value(\"You will never get here.\")\n",
    "\n",
    "        self._check()\n",
    "\n",
    "    def decrease(self, delta: float):\n",
    "        self.increase(-1 * delta)\n",
    "\n",
    "    @property\n",
    "    def celsius(self):\n",
    "        return self._celsius\n",
    "\n",
    "    @property\n",
    "    def fahrenheit(self):\n",
    "        return self._celsius * 9 / 5.0 + 32\n",
    "\n",
    "    @property\n",
    "    def kelvin(self):\n",
    "        return self._celsius + 273.15\n",
    "\n",
    "    def _check(self):\n",
    "        \"\"\"\n",
    "        Check the validicity of the values. You don't want to get a value below 0 K.\n",
    "        \"\"\"\n",
    "        if self._celsius < -273.15:\n",
    "            raise ValueError(\"Temperature below absolute zero!!!\")"
   ]
  },
  {
   "cell_type": "code",
   "execution_count": 8,
   "metadata": {},
   "outputs": [
    {
     "name": "stdout",
     "output_type": "stream",
     "text": [
      "Celsius 0.0\n",
      "Fahrenheit 32.0\n",
      "Kelvin 273.15\n"
     ]
    }
   ],
   "source": [
    "t = Temperature(273.15, \"K\")\n",
    "\n",
    "print(\"Celsius\", t.celsius)\n",
    "print(\"Fahrenheit\", t.fahrenheit)\n",
    "print(\"Kelvin\", t.kelvin)"
   ]
  },
  {
   "cell_type": "code",
   "execution_count": 9,
   "metadata": {},
   "outputs": [
    {
     "name": "stdout",
     "output_type": "stream",
     "text": [
      "Celsius -100.0\n",
      "Fahrenheit -148.0\n",
      "Kelvin 173.14999999999998\n"
     ]
    }
   ],
   "source": [
    "t.decrease(100)\n",
    "\n",
    "print(\"Celsius\", t.celsius)\n",
    "print(\"Fahrenheit\", t.fahrenheit)\n",
    "print(\"Kelvin\", t.kelvin)"
   ]
  },
  {
   "cell_type": "markdown",
   "metadata": {},
   "source": [
    "# Lesson 9: Test your Skills\n",
    "---"
   ]
  },
  {
   "cell_type": "markdown",
   "metadata": {},
   "source": [
    "## Now it's time to put your skills to the test!\n",
    "* Exercise: As a materials investigator, your team has just finished running calculations for a large number of crystal structures. Now, you want to analyze the dataset by writing __functions__ that utilize logic (in the form of __conditionals__) to parse through the datasets in the forms of __dictionaries__ and __lists__."
   ]
  },
  {
   "cell_type": "markdown",
   "metadata": {},
   "source": [
    "First, load the relevant datasets"
   ]
  },
  {
   "cell_type": "code",
   "execution_count": 10,
   "metadata": {},
   "outputs": [],
   "source": [
    "import os\n",
    "from monty.serialization import loadfn\n",
    "\n",
    "data_dir = \"./data/\"\n",
    "\n",
    "# Our crystal structures, in addition to useful elemental information\n",
    "crystals = loadfn(os.path.join(data_dir, \"crystals.json\"))\n",
    "atomic_numbers = loadfn(os.path.join(data_dir, \"atomic_numbers.json\"))\n",
    "atomic_weights = loadfn(os.path.join(data_dir, \"atomic_weights.json\"))\n",
    "\n",
    "# Names of elements associated with an element symbol (e.g. {\"Al\": \"Aluminium\"})\n",
    "element_names = loadfn(os.path.join(data_dir, \"element_names.json\"))\n",
    "\n",
    "# Elemental mass fraction of Earth's crust (source: https://en.wikipedia.org/wiki/Abundances_of_the_elements_(data_page))\n",
    "mass_frac_earth_crust = loadfn(os.path.join(data_dir, \"mass_frac_earth_crust.json\"))\n",
    "\n",
    "# Dictionary of elements, with those who discovered them\n",
    "# and the year they were discovered\n",
    "# (sources: https://en.wikipedia.org/wiki/Timeline_of_chemical_element_discoveries,\n",
    "#  https://education.jlab.org/qa/discover_ele.html)\n",
    "discovery_dict = loadfn(os.path.join(data_dir, \"discoveries.json\"))"
   ]
  },
  {
   "cell_type": "markdown",
   "metadata": {},
   "source": [
    "We have the mapping from `symbol` $\\rightarrow$ `name`, now let's obtain `name` $\\rightarrow$ `symbol` (we'll need it later)"
   ]
  },
  {
   "cell_type": "code",
   "execution_count": 11,
   "metadata": {},
   "outputs": [
    {
     "name": "stdout",
     "output_type": "stream",
     "text": [
      "Silver\n",
      "Ag\n"
     ]
    }
   ],
   "source": [
    "print(element_names[\"Ag\"])\n",
    "\n",
    "element_symbols = {v: k for k, v in element_names.items()}\n",
    "\n",
    "print(element_symbols[\"Silver\"])"
   ]
  },
  {
   "cell_type": "markdown",
   "metadata": {},
   "source": [
    "Next, we'll choose the set of elements that we would like to start with. Each element has a unique story associated with it. We can explore these stories with the information from the element discovery timeline.\n",
    "\n",
    "__Our task:__ Build a function that takes a list of element symbols as input. In addition, if we want to add the elements associated with a particular materials discoverer, we can include some _regex_ (or \"regular expression\") strings corresponding to the discoverers we would like to feature."
   ]
  },
  {
   "cell_type": "code",
   "execution_count": 12,
   "metadata": {},
   "outputs": [],
   "source": [
    "from pymatgen.core import Element, Composition"
   ]
  },
  {
   "cell_type": "code",
   "execution_count": 13,
   "metadata": {},
   "outputs": [],
   "source": [
    "def my_element_discoverer(\n",
    "    elements: list = [], discoverers: list = [], prior_to: int = 2020\n",
    "):\n",
    "\n",
    "    # Start with elements provided by user\n",
    "    # (use copy() to not modify list passed to function)\n",
    "    all_elements = elements.copy()\n",
    "\n",
    "    # Loop through discoverers to find which elements they discovered\n",
    "    # and then add them to your list\n",
    "    for discoverer in discoverers:\n",
    "        for element_name in discovery_dict:\n",
    "\n",
    "            for name in discovery_dict[element_name][\"discovered_by\"]:\n",
    "                if discoverer in name:\n",
    "                    elem = Element(element_symbols[element_name])\n",
    "                    all_elements.append(elem)\n",
    "\n",
    "    # Create a new list that will contain only the elements discovered\n",
    "    # before the year you provide\n",
    "    elements_pruned = []\n",
    "\n",
    "    for elem in all_elements:\n",
    "        element_name = element_names[str(elem)]\n",
    "        if discovery_dict[element_name][\"year\"] != \"?\":\n",
    "            year_discovered = int(discovery_dict[element_name][\"year\"])\n",
    "        else:\n",
    "            # Unknown discovery date (known since ancient times)\n",
    "            year_discovered = -2000\n",
    "\n",
    "        if year_discovered < prior_to:\n",
    "            elem = Element(elem)\n",
    "            elements_pruned.append(elem)\n",
    "\n",
    "    all_elements = elements_pruned\n",
    "\n",
    "    # Use set() to convert your list into a unique set\n",
    "    # then recast as a list()\n",
    "    all_elements = list(set(all_elements))\n",
    "\n",
    "    return all_elements"
   ]
  },
  {
   "cell_type": "markdown",
   "metadata": {},
   "source": [
    "Let's test out our function! Say we want to use oxygen in addition to elements discovered by scientists with Curie in their name (Marie and Pierre), as well as elements discovered by scientists in Berkeley"
   ]
  },
  {
   "cell_type": "code",
   "execution_count": 14,
   "metadata": {},
   "outputs": [
    {
     "name": "stdout",
     "output_type": "stream",
     "text": [
      "[Element O, Element Db, Element Ra, Element Po]\n"
     ]
    }
   ],
   "source": [
    "my_elements = my_element_discoverer(\n",
    "    elements=[\"O\"], discoverers=[\"Curie\", \"Lawrence Berkeley\"], prior_to=2020\n",
    ")\n",
    "print(my_elements)"
   ]
  },
  {
   "cell_type": "markdown",
   "metadata": {},
   "source": [
    "Can you spot which elements are missing?\n",
    "\n",
    "(Hint below)"
   ]
  },
  {
   "cell_type": "code",
   "execution_count": 15,
   "metadata": {},
   "outputs": [
    {
     "name": "stdout",
     "output_type": "stream",
     "text": [
      "[Element Cm, Element Bk, Element Cf, Element Es, Element Fm, Element Md, Element No, Element Lr, Element Rf, Element Sg, Element Am]\n"
     ]
    }
   ],
   "source": [
    "# Discovered by scientists at UC Berkeley\n",
    "my_elements = my_element_discoverer(discoverers=[\"Ghiorso\"], prior_to=2020)\n",
    "print(my_elements)"
   ]
  },
  {
   "cell_type": "markdown",
   "metadata": {},
   "source": [
    "Platinum was found in gold alloys in present day Columbia dating as far back as 800 BC"
   ]
  },
  {
   "cell_type": "code",
   "execution_count": 16,
   "metadata": {},
   "outputs": [
    {
     "name": "stdout",
     "output_type": "stream",
     "text": [
      "[Element Ni, Element Pt]\n"
     ]
    }
   ],
   "source": [
    "my_elements = my_element_discoverer(\n",
    "    elements=[\"Ni\"], discoverers=[\"Indigenous People of South America\"], prior_to=1800\n",
    ")\n",
    "print(my_elements)"
   ]
  },
  {
   "cell_type": "markdown",
   "metadata": {},
   "source": [
    "Next, our goal is to find all of the crystals that contain the elements in our list. \n",
    "\n",
    "Once we obtain this list, it is often useful to sort these materials based on a particular metric, depending on which properties that we would like to assess. The two criteria we will use in this study are the molar mass and abundance:\n",
    "\n",
    "* Molar mass = $\\sum_{i=1}^N x_i n_i$, where $n_i$ is the elemental molar mass, and $x_i$ is the molar fraction\n",
    "* Abundance metric = $\\prod_{i=1}^N a_i^{y_i}$, where $a_i$ is the mass abundance of the element $i$, and $y_i$ is the mass fraction in the material"
   ]
  },
  {
   "cell_type": "code",
   "execution_count": 17,
   "metadata": {},
   "outputs": [],
   "source": [
    "import numpy as np"
   ]
  },
  {
   "cell_type": "code",
   "execution_count": 18,
   "metadata": {},
   "outputs": [],
   "source": [
    "def compute_molar_weight(crystal):\n",
    "    # Obtain atomic fractions of material\n",
    "    comp = Composition(crystal[\"pretty_formula\"])\n",
    "    atomic_fractions = [\n",
    "        comp.get_atomic_fraction(Element(elem)) for elem in crystal[\"elements\"]\n",
    "    ]\n",
    "\n",
    "    # Obtain atomic weights of elements in material\n",
    "    weights = [atomic_weights[elem] for elem in crystal[\"elements\"]]\n",
    "\n",
    "    # Compute molar weight of material (weighted mean)\n",
    "    molar_weight = 0.0\n",
    "    for elem, frac, weight in zip(crystal[\"elements\"], atomic_fractions, weights):\n",
    "        molar_weight += frac * weight\n",
    "\n",
    "    return molar_weight\n",
    "\n",
    "\n",
    "def compute_abundance_metric(crystal):\n",
    "    # Obtain mass fractions of material\n",
    "    comp = Composition(crystal[\"pretty_formula\"])\n",
    "    molar_weight = compute_molar_weight(crystal)\n",
    "    mass_fractions = [\n",
    "        comp.get_atomic_fraction(Element(elem)) * (atomic_weights[elem] / molar_weight)\n",
    "        for elem in crystal[\"elements\"]\n",
    "    ]\n",
    "\n",
    "    # Obtain atomic abundances of elements in material\n",
    "    abundances = [mass_frac_earth_crust[elem] for elem in crystal[\"elements\"]]\n",
    "\n",
    "    # Compute abundance metric (geometric mean)\n",
    "    abundance_metric = 1.0\n",
    "    for elem, frac, abundance in zip(crystal[\"elements\"], mass_fractions, abundances):\n",
    "        abundance_metric *= (100 * abundance) ** frac\n",
    "\n",
    "    return abundance_metric"
   ]
  },
  {
   "cell_type": "code",
   "execution_count": 19,
   "metadata": {},
   "outputs": [
    {
     "name": "stdout",
     "output_type": "stream",
     "text": [
      "Material: Ca3Ge3(MoO6)2\n",
      "Molar weight (g / mol / # atoms per formula unit) =  36.10134\n",
      "Abundance metric (% kg/kg) =  0.022347289066530374\n"
     ]
    }
   ],
   "source": [
    "crystal = crystals[0]\n",
    "print(\"Material:\", crystal[\"pretty_formula\"])\n",
    "print(\n",
    "    \"Molar weight (g / mol / # atoms per formula unit) = \",\n",
    "    compute_molar_weight(crystal),\n",
    ")\n",
    "print(\"Abundance metric (% kg/kg) = \", compute_abundance_metric(crystal))"
   ]
  },
  {
   "cell_type": "markdown",
   "metadata": {},
   "source": [
    "Now that we have our sorting metrics, let's find the materials in our dataset that contain the elements we have provided, and sort them based on the criteria above.\n",
    "\n",
    "A helpful relation: For finite sets $A$ and $B$, $B \\subseteq A$ if and only if $B = A \\cap B$"
   ]
  },
  {
   "cell_type": "code",
   "execution_count": 20,
   "metadata": {},
   "outputs": [],
   "source": [
    "def get_crystals_from_elements(elements: list, crystals: list, sort_scheme: int = 0):\n",
    "\n",
    "    crystals_matched = []\n",
    "    for crystal in crystals:\n",
    "\n",
    "        crystal_elems = [Element(elem) for elem in crystal[\"elements\"]]\n",
    "\n",
    "        # We can check if the material contains the elements that we have provided\n",
    "        # (set B in A) by checking if B = intersection(A,B)\n",
    "        intersection = set(elements) & set(crystal_elems)\n",
    "        if set(elements) == intersection:\n",
    "            crystals_matched.append(crystal)\n",
    "\n",
    "    if sort_scheme == 0:\n",
    "        # Sort by molar weight\n",
    "        sort_key = \"Molar weight (g / mol / # atoms per formula unit)\"\n",
    "        sortable_values = [\n",
    "            compute_molar_weight(crystal) for crystal in crystals_matched\n",
    "        ]\n",
    "    elif sort_scheme == 1:\n",
    "        # Sort by abundance metric\n",
    "        sort_key = \"Abundance metric (% kg/kg)\"\n",
    "        sortable_values = [\n",
    "            compute_abundance_metric(crystal) for crystal in crystals_matched\n",
    "        ]\n",
    "    else:\n",
    "        # Catch all case - no sorting provided\n",
    "        sortable_values = []\n",
    "        print(\"Warning: Invalid sort scheme!\")\n",
    "        return [], [], \"\"\n",
    "\n",
    "    if sortable_values:\n",
    "        # print(sortable_values)\n",
    "\n",
    "        # Sort crystals based on sorting metric (reverse to descending order)\n",
    "        value_map = [\n",
    "            {\"value\": v, \"crystal\": c}\n",
    "            for v, c in zip(sortable_values, crystals_matched)\n",
    "        ]\n",
    "        value_map = sorted(value_map, key=lambda x: x[\"value\"], reverse=True)\n",
    "        # sortable_values, crystals_matched = zip(*sorted(zip(sortable_values, crystals_matched), reverse=True))\n",
    "\n",
    "        # Extract desired values after sorting\n",
    "        sortable_values = [x[\"value\"] for x in value_map]\n",
    "        crystals_matched = [x[\"crystal\"] for x in value_map]\n",
    "\n",
    "        # print(sortable_values)\n",
    "\n",
    "    return crystals_matched, sortable_values, sort_key"
   ]
  },
  {
   "cell_type": "markdown",
   "metadata": {},
   "source": [
    "We've built our functions! Now let's test them to search the materials in our dataset"
   ]
  },
  {
   "cell_type": "code",
   "execution_count": 21,
   "metadata": {},
   "outputs": [
    {
     "name": "stdout",
     "output_type": "stream",
     "text": [
      "Number of crystals found:  445\n"
     ]
    }
   ],
   "source": [
    "# The elements we would like to search our dataset\n",
    "elements = [Element(elem) for elem in [\"Ca\", \"O\"]]\n",
    "\n",
    "# Testing our function\n",
    "crystals_matched, sorted_values, sort_key = get_crystals_from_elements(\n",
    "    elements, crystals, sort_scheme=0\n",
    ")\n",
    "\n",
    "# The formulas of the crystals that we searched for\n",
    "formulas = [crystal[\"pretty_formula\"] for crystal in crystals_matched]\n",
    "\n",
    "print(\"Number of crystals found: \", len(crystals_matched))\n",
    "# print(formulas)"
   ]
  },
  {
   "cell_type": "markdown",
   "metadata": {},
   "source": [
    "For a large number of materials, we often gain the most information by perfoming an analysis of how the sorting criteria is distributed. In this case, we can create a histogram of the data using the `matplotlib` package. "
   ]
  },
  {
   "cell_type": "code",
   "execution_count": 22,
   "metadata": {},
   "outputs": [
    {
     "data": {
      "image/png": "[encoded data removed]",
      "text/plain": [
       "<Figure size 432x288 with 1 Axes>"
      ]
     },
     "metadata": {
      "needs_background": "light"
     },
     "output_type": "display_data"
    }
   ],
   "source": [
    "import matplotlib.pyplot as plt\n",
    "\n",
    "number_of_bins = 20\n",
    "plt.hist(sorted_values, number_of_bins)\n",
    "plt.ylabel(\"Counts\")\n",
    "plt.xlabel(sort_key)\n",
    "plt.show()"
   ]
  },
  {
   "cell_type": "code",
   "execution_count": null,
   "metadata": {},
   "outputs": [],
   "source": []
  }
 ],
 "metadata": {
  "kernelspec": {
   "display_name": "Python 3",
   "language": "python",
   "name": "python3"
  },
  "language_info": {
   "codemirror_mode": {
    "name": "ipython",
    "version": 3
   },
   "file_extension": ".py",
   "mimetype": "text/x-python",
   "name": "python",
   "nbconvert_exporter": "python",
   "pygments_lexer": "ipython3",
   "version": "3.7.10"
  }
 },
 "nbformat": 4,
 "nbformat_minor": 4
}
