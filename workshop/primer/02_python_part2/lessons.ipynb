{
 "cells": [
  {
   "cell_type": "markdown",
   "metadata": {},
   "source": [
    "# Building Basic Logic in Python"
   ]
  },
  {
   "cell_type": "markdown",
   "metadata": {},
   "source": [
    "## Lesson 5: Conditional\n",
    "---"
   ]
  },
  {
   "cell_type": "markdown",
   "metadata": {},
   "source": [
    "We often want our programs to take actions based on what's going on at the time (e.g. the current value of some variable).\n",
    "In a Python program, the `if...elif...else` statement is how we perform this sort of decision-making. \n",
    "It allows for **conditional** execution of a line of code or a block of codes based on the value of the conditional expression."
   ]
  },
  {
   "cell_type": "markdown",
   "metadata": {},
   "source": [
    "### Booleans\n",
    "\n",
    "A conditional expression in Python is evaluated to a boolean, `bool` for short. \n",
    "A bool variable can take two values, `True` or `False`.\n",
    "Python implements all of the usual operators for bool logic using simple English words `and`, `or`, and `not`. "
   ]
  },
  {
   "cell_type": "code",
   "execution_count": 1,
   "metadata": {},
   "outputs": [],
   "source": [
    "b1 = True\n",
    "b2 = False"
   ]
  },
  {
   "cell_type": "code",
   "execution_count": 2,
   "metadata": {},
   "outputs": [
    {
     "data": {
      "text/plain": [
       "False"
      ]
     },
     "execution_count": 2,
     "metadata": {},
     "output_type": "execute_result"
    }
   ],
   "source": [
    "b1 and b2"
   ]
  },
  {
   "cell_type": "code",
   "execution_count": 3,
   "metadata": {},
   "outputs": [
    {
     "data": {
      "text/plain": [
       "True"
      ]
     },
     "execution_count": 3,
     "metadata": {},
     "output_type": "execute_result"
    }
   ],
   "source": [
    "b1 or b2"
   ]
  },
  {
   "cell_type": "code",
   "execution_count": 4,
   "metadata": {},
   "outputs": [
    {
     "data": {
      "text/plain": [
       "False"
      ]
     },
     "execution_count": 4,
     "metadata": {},
     "output_type": "execute_result"
    }
   ],
   "source": [
    "not b1"
   ]
  },
  {
   "cell_type": "markdown",
   "metadata": {},
   "source": [
    "### First conditional statement "
   ]
  },
  {
   "cell_type": "code",
   "execution_count": 5,
   "metadata": {},
   "outputs": [
    {
     "name": "stdout",
     "output_type": "stream",
     "text": [
      "This will be printed\n"
     ]
    }
   ],
   "source": [
    "b = True\n",
    "\n",
    "if b:\n",
    "    print(\"This will be printed\")"
   ]
  },
  {
   "cell_type": "code",
   "execution_count": 6,
   "metadata": {},
   "outputs": [],
   "source": [
    "b = False\n",
    "\n",
    "if b:\n",
    "    print(\"This will not be printed\")"
   ]
  },
  {
   "cell_type": "markdown",
   "metadata": {},
   "source": [
    "### What is _true_? "
   ]
  },
  {
   "cell_type": "markdown",
   "metadata": {},
   "source": [
    "#### The bool function\n",
    "\n",
    "We can check whether a variable of other data types (e.g. `int`, `string`, and even `list`) will be regarded as `True` or `False` using the `bool()` function.\n",
    "Some of the results in the below examples (e.g. `bool[\"\"]`) may not be what you think at first sight.\n",
    "Loosely speaking, for container data types like `list`, an **empty** state will be evaluted to `False`."
   ]
  },
  {
   "cell_type": "code",
   "execution_count": 7,
   "metadata": {},
   "outputs": [
    {
     "data": {
      "text/plain": [
       "True"
      ]
     },
     "execution_count": 7,
     "metadata": {},
     "output_type": "execute_result"
    }
   ],
   "source": [
    "bool(3)"
   ]
  },
  {
   "cell_type": "code",
   "execution_count": 8,
   "metadata": {},
   "outputs": [
    {
     "data": {
      "text/plain": [
       "False"
      ]
     },
     "execution_count": 8,
     "metadata": {},
     "output_type": "execute_result"
    }
   ],
   "source": [
    "bool(0.0)"
   ]
  },
  {
   "cell_type": "code",
   "execution_count": 9,
   "metadata": {},
   "outputs": [
    {
     "data": {
      "text/plain": [
       "True"
      ]
     },
     "execution_count": 9,
     "metadata": {},
     "output_type": "execute_result"
    }
   ],
   "source": [
    "bool(\"Berkeley\")"
   ]
  },
  {
   "cell_type": "code",
   "execution_count": 10,
   "metadata": {},
   "outputs": [
    {
     "data": {
      "text/plain": [
       "False"
      ]
     },
     "execution_count": 10,
     "metadata": {},
     "output_type": "execute_result"
    }
   ],
   "source": [
    "bool(\"\")"
   ]
  },
  {
   "cell_type": "code",
   "execution_count": 11,
   "metadata": {},
   "outputs": [
    {
     "data": {
      "text/plain": [
       "True"
      ]
     },
     "execution_count": 11,
     "metadata": {},
     "output_type": "execute_result"
    }
   ],
   "source": [
    "bool([1, 2, 3])"
   ]
  },
  {
   "cell_type": "code",
   "execution_count": 12,
   "metadata": {},
   "outputs": [
    {
     "data": {
      "text/plain": [
       "False"
      ]
     },
     "execution_count": 12,
     "metadata": {},
     "output_type": "execute_result"
    }
   ],
   "source": [
    "bool([])"
   ]
  },
  {
   "cell_type": "code",
   "execution_count": 13,
   "metadata": {},
   "outputs": [
    {
     "data": {
      "text/plain": [
       "True"
      ]
     },
     "execution_count": 13,
     "metadata": {},
     "output_type": "execute_result"
    }
   ],
   "source": [
    "bool([0])"
   ]
  },
  {
   "cell_type": "code",
   "execution_count": 14,
   "metadata": {},
   "outputs": [
    {
     "data": {
      "text/plain": [
       "True"
      ]
     },
     "execution_count": 14,
     "metadata": {},
     "output_type": "execute_result"
    }
   ],
   "source": [
    "bool([\"\"])"
   ]
  },
  {
   "cell_type": "markdown",
   "metadata": {},
   "source": [
    "#### No need to explicitly convert using the `bool()` function"
   ]
  },
  {
   "cell_type": "code",
   "execution_count": 15,
   "metadata": {},
   "outputs": [],
   "source": [
    "if []:\n",
    "    print(\"This will not be printed\")"
   ]
  },
  {
   "cell_type": "code",
   "execution_count": 16,
   "metadata": {},
   "outputs": [
    {
     "name": "stdout",
     "output_type": "stream",
     "text": [
      "This will be printed\n"
     ]
    }
   ],
   "source": [
    "if [\"\"]:\n",
    "    print(\"This will be printed\")"
   ]
  },
  {
   "cell_type": "markdown",
   "metadata": {},
   "source": [
    "### Some other conditional expressions\n",
    "\n",
    "- `==`, `!=`, `>`, `<`\n",
    "- `in` membership assesment \n",
    "- `is` identity operator\n",
    "- `in` and `is` can be combined with `not` to form `not in` and `is not`"
   ]
  },
  {
   "cell_type": "code",
   "execution_count": 17,
   "metadata": {},
   "outputs": [
    {
     "data": {
      "text/plain": [
       "False"
      ]
     },
     "execution_count": 17,
     "metadata": {},
     "output_type": "execute_result"
    }
   ],
   "source": [
    "3 == 2"
   ]
  },
  {
   "cell_type": "code",
   "execution_count": 18,
   "metadata": {},
   "outputs": [
    {
     "data": {
      "text/plain": [
       "True"
      ]
     },
     "execution_count": 18,
     "metadata": {},
     "output_type": "execute_result"
    }
   ],
   "source": [
    "\"H\" in \"Hydrogen\"  # character(s) in string"
   ]
  },
  {
   "cell_type": "code",
   "execution_count": 19,
   "metadata": {},
   "outputs": [
    {
     "data": {
      "text/plain": [
       "True"
      ]
     },
     "execution_count": 19,
     "metadata": {},
     "output_type": "execute_result"
    }
   ],
   "source": [
    "\"a\" not in \"Hydrogen\""
   ]
  },
  {
   "cell_type": "code",
   "execution_count": 20,
   "metadata": {},
   "outputs": [
    {
     "data": {
      "text/plain": [
       "True"
      ]
     },
     "execution_count": 20,
     "metadata": {},
     "output_type": "execute_result"
    }
   ],
   "source": [
    "2 in [1, 2, 3]  # componment in list"
   ]
  },
  {
   "cell_type": "code",
   "execution_count": 21,
   "metadata": {},
   "outputs": [
    {
     "data": {
      "text/plain": [
       "True"
      ]
     },
     "execution_count": 21,
     "metadata": {},
     "output_type": "execute_result"
    }
   ],
   "source": [
    "element = None\n",
    "\n",
    "element is None"
   ]
  },
  {
   "cell_type": "code",
   "execution_count": 22,
   "metadata": {},
   "outputs": [
    {
     "data": {
      "text/plain": [
       "True"
      ]
     },
     "execution_count": 22,
     "metadata": {},
     "output_type": "execute_result"
    }
   ],
   "source": [
    "element = \"Hydrogen\"\n",
    "\n",
    "element is not None"
   ]
  },
  {
   "cell_type": "markdown",
   "metadata": {},
   "source": []
  },
  {
   "cell_type": "markdown",
   "metadata": {},
   "source": [
    "### The `if elif else` statement"
   ]
  },
  {
   "cell_type": "markdown",
   "metadata": {},
   "source": [
    "Let's start with an illustrative example of the state of water based on temperature."
   ]
  },
  {
   "cell_type": "code",
   "execution_count": 23,
   "metadata": {},
   "outputs": [],
   "source": [
    "water_temperature = -1  # degrees celsius"
   ]
  },
  {
   "cell_type": "markdown",
   "metadata": {},
   "source": [
    "Below is the simple if statement: _\"if the temperature of water is greater than or equal to 100 °C, it must be boiling\"_."
   ]
  },
  {
   "cell_type": "code",
   "execution_count": 24,
   "metadata": {},
   "outputs": [],
   "source": [
    "if water_temperature >= 100:\n",
    "    print(\"Boiling!\")"
   ]
  },
  {
   "cell_type": "markdown",
   "metadata": {},
   "source": [
    "Now, let's add an `else` to catch our if statement: _\"if ... greater than ..., **otherwise**, the water is not boiling\"_."
   ]
  },
  {
   "cell_type": "code",
   "execution_count": 25,
   "metadata": {},
   "outputs": [
    {
     "name": "stdout",
     "output_type": "stream",
     "text": [
      "Not boiling!\n"
     ]
    }
   ],
   "source": [
    "if water_temperature >= 100:\n",
    "    print(\"Boiling!\")\n",
    "else:\n",
    "    print(\"Not boiling!\")"
   ]
  },
  {
   "cell_type": "markdown",
   "metadata": {},
   "source": [
    "We can increase the number of levels of the `elif` statement in the following manner:\n",
    "\n",
    "```\n",
    "if (condition 1):\n",
    "    execute code for case 1\n",
    ".\n",
    ".\n",
    ".\n",
    "elif (condition k):\n",
    "    execute code for case k\n",
    ".\n",
    ".\n",
    ".\n",
    "elif (condition n):\n",
    "    execute code for case n\n",
    "else:\n",
    "    execute \"catch all\" case\n",
    "```"
   ]
  },
  {
   "cell_type": "code",
   "execution_count": 26,
   "metadata": {},
   "outputs": [
    {
     "name": "stdout",
     "output_type": "stream",
     "text": [
      "Solid!\n"
     ]
    }
   ],
   "source": [
    "water_temperature = -5\n",
    "\n",
    "if water_temperature >= 100:\n",
    "    print(\"Gas!\")\n",
    "elif water_temperature > 0:\n",
    "    print(\"Liquid!\")\n",
    "else:\n",
    "    print(\"Solid!\")"
   ]
  },
  {
   "cell_type": "markdown",
   "metadata": {},
   "source": [
    "## Lesson 6: Dictionary\n",
    "---"
   ]
  },
  {
   "cell_type": "markdown",
   "metadata": {},
   "source": [
    "Dictionary is a data type to store **key:value** pairs.\n",
    "It maps *key* to *value*.\n",
    "Dictionaries are optimized for retrieving data. \n",
    "We must know the key to retrieve the value.\n",
    "A dictionary is ordered (since Python 3.7), changeable, and does not allow duplicates."
   ]
  },
  {
   "cell_type": "markdown",
   "metadata": {},
   "source": [
    "### Create dict and access value "
   ]
  },
  {
   "cell_type": "code",
   "execution_count": 27,
   "metadata": {},
   "outputs": [
    {
     "data": {
      "text/plain": [
       "{'Hydrogen': 1, 'Carbon': 6}"
      ]
     },
     "execution_count": 27,
     "metadata": {},
     "output_type": "execute_result"
    }
   ],
   "source": [
    "elements = {\"Hydrogen\": 1, \"Carbon\": 6}\n",
    "elements"
   ]
  },
  {
   "cell_type": "code",
   "execution_count": 28,
   "metadata": {},
   "outputs": [
    {
     "data": {
      "text/plain": [
       "6"
      ]
     },
     "execution_count": 28,
     "metadata": {},
     "output_type": "execute_result"
    }
   ],
   "source": [
    "n = elements[\"Carbon\"]\n",
    "n"
   ]
  },
  {
   "cell_type": "markdown",
   "metadata": {},
   "source": [
    "### Basic operations on dict (add, edit, and remove)"
   ]
  },
  {
   "cell_type": "code",
   "execution_count": 29,
   "metadata": {},
   "outputs": [
    {
     "data": {
      "text/plain": [
       "{'Hydrogen': 1, 'Carbon': 6, 'Copper': 27}"
      ]
     },
     "execution_count": 29,
     "metadata": {},
     "output_type": "execute_result"
    }
   ],
   "source": [
    "# add via key-value\n",
    "elements[\"Copper\"] = 27  # oops, seems wrong\n",
    "\n",
    "elements"
   ]
  },
  {
   "cell_type": "code",
   "execution_count": 30,
   "metadata": {},
   "outputs": [
    {
     "data": {
      "text/plain": [
       "{'Hydrogen': 1, 'Carbon': 6, 'Copper': 29}"
      ]
     },
     "execution_count": 30,
     "metadata": {},
     "output_type": "execute_result"
    }
   ],
   "source": [
    "# edit\n",
    "elements[\"Copper\"] = 29  # that's better\n",
    "\n",
    "elements"
   ]
  },
  {
   "cell_type": "code",
   "execution_count": 31,
   "metadata": {},
   "outputs": [
    {
     "data": {
      "text/plain": [
       "{'Hydrogen': 1, 'Carbon': 6, 'Copper': 29, 'Nitrogen': 7, 'Oxygen': 8}"
      ]
     },
     "execution_count": 31,
     "metadata": {},
     "output_type": "execute_result"
    }
   ],
   "source": [
    "# add multiple key value pairs from another dict\n",
    "elements.update({\"Nitrogen\": 7, \"Oxygen\": 8})\n",
    "\n",
    "elements"
   ]
  },
  {
   "cell_type": "code",
   "execution_count": 32,
   "metadata": {},
   "outputs": [
    {
     "name": "stdout",
     "output_type": "stream",
     "text": [
      "return value: 7\n",
      "current dict: {'Hydrogen': 1, 'Carbon': 6, 'Copper': 29, 'Oxygen': 8}\n"
     ]
    }
   ],
   "source": [
    "# remove by key\n",
    "v = elements.pop(\"Nitrogen\")  # return the value, here 7\n",
    "\n",
    "print(\"return value:\", v)\n",
    "print(\"current dict:\", elements)"
   ]
  },
  {
   "cell_type": "markdown",
   "metadata": {
    "tags": []
   },
   "source": [
    "### Dictionary keys should be immutable\n",
    "\n",
    "- Immutable objects: in simple words, an immutable object **cannot** be changed after it is created. Pyhton built-in data types such as `int`, `float`, `bool`, `string`, and `tuple` are immutable. \n",
    "- Mutable objects: a mutable object **can** be changed after it is created, e.g. `list` and `dict`."
   ]
  },
  {
   "cell_type": "code",
   "execution_count": 33,
   "metadata": {},
   "outputs": [
    {
     "data": {
      "text/plain": [
       "'d'"
      ]
     },
     "execution_count": 33,
     "metadata": {},
     "output_type": "execute_result"
    }
   ],
   "source": [
    "elem = \"Hydrogen\"\n",
    "elem[2]"
   ]
  },
  {
   "cell_type": "code",
   "execution_count": 34,
   "metadata": {},
   "outputs": [],
   "source": [
    "# elem[2] = \"D\"  # this gives error; cannot edit a string"
   ]
  },
  {
   "cell_type": "code",
   "execution_count": 35,
   "metadata": {},
   "outputs": [],
   "source": [
    "# molecule = {[\"Hydrogen\", \"H\"]: 1}  # this gives error; mutable list cannot be dict key"
   ]
  },
  {
   "cell_type": "code",
   "execution_count": 36,
   "metadata": {},
   "outputs": [],
   "source": [
    "molecule = {(\"Hydrogen\", \"H\"): 1}  # a tuple of string can be used as dict key"
   ]
  },
  {
   "cell_type": "markdown",
   "metadata": {},
   "source": [
    "### Loop over dictionary "
   ]
  },
  {
   "cell_type": "markdown",
   "metadata": {},
   "source": [
    "#### simple loop over keys"
   ]
  },
  {
   "cell_type": "code",
   "execution_count": 37,
   "metadata": {},
   "outputs": [
    {
     "name": "stdout",
     "output_type": "stream",
     "text": [
      "key = Hydrogen\n",
      "value = 1\n",
      "key = Carbon\n",
      "value = 6\n",
      "key = Oxygen\n",
      "value = 8\n"
     ]
    }
   ],
   "source": [
    "elements = {\"Hydrogen\": 1, \"Carbon\": 6, \"Oxygen\": 8}\n",
    "\n",
    "for k in elements:\n",
    "    v = elements[k]\n",
    "    print(\"key =\", k)\n",
    "    print(\"value =\", v)"
   ]
  },
  {
   "cell_type": "markdown",
   "metadata": {},
   "source": [
    "#### loop over key value pairs together"
   ]
  },
  {
   "cell_type": "code",
   "execution_count": 38,
   "metadata": {},
   "outputs": [
    {
     "name": "stdout",
     "output_type": "stream",
     "text": [
      "key = Hydrogen\n",
      "value= 1\n",
      "key = Carbon\n",
      "value= 6\n",
      "key = Oxygen\n",
      "value= 8\n"
     ]
    }
   ],
   "source": [
    "for k, v in elements.items():\n",
    "    print(\"key =\", k)\n",
    "    print(\"value=\", v)"
   ]
  },
  {
   "cell_type": "markdown",
   "metadata": {},
   "source": [
    "### More ways to create dictionary "
   ]
  },
  {
   "cell_type": "code",
   "execution_count": 39,
   "metadata": {},
   "outputs": [],
   "source": [
    "names = [\"Hydrogen\", \"Carbon\", \"Oxygen\"]\n",
    "numbers = [1, 6, 8]"
   ]
  },
  {
   "cell_type": "markdown",
   "metadata": {},
   "source": [
    "#### dict comprehension"
   ]
  },
  {
   "cell_type": "code",
   "execution_count": 40,
   "metadata": {},
   "outputs": [
    {
     "data": {
      "text/plain": [
       "{1: 'Hydrogen', 6: 'Carbon', 8: 'Oxygen'}"
      ]
     },
     "execution_count": 40,
     "metadata": {},
     "output_type": "execute_result"
    }
   ],
   "source": [
    "elements = {i: s for i, s in zip(numbers, names)}\n",
    "elements"
   ]
  },
  {
   "cell_type": "markdown",
   "metadata": {},
   "source": [
    "#### `dict` function"
   ]
  },
  {
   "cell_type": "code",
   "execution_count": 41,
   "metadata": {},
   "outputs": [
    {
     "data": {
      "text/plain": [
       "{1: 'Hydrogen', 6: 'Carbon', 8: 'Oxygen'}"
      ]
     },
     "execution_count": 41,
     "metadata": {},
     "output_type": "execute_result"
    }
   ],
   "source": [
    "elements = dict(zip(numbers, names))\n",
    "elements"
   ]
  },
  {
   "cell_type": "markdown",
   "metadata": {},
   "source": [
    "## Lesson 7: Function\n",
    "---"
   ]
  },
  {
   "cell_type": "markdown",
   "metadata": {},
   "source": [
    "### Break down programs into functions\n",
    "- Readability: human beings can only keep a few items in working memory at a time.\n",
    "  Encapsulate complexity so that we can treat it as a single \"thing\".\n",
    "- Reusability: write one time, use many times.\n",
    "- Testing: components with well-defined boundaries are easier to test.\n",
    "- ..."
   ]
  },
  {
   "cell_type": "markdown",
   "metadata": {},
   "source": [
    "### Define a function using `def` with a name, arguments, and a block of code\n",
    "\n",
    "- Function name must obey the same rules as variable names (i.e. combination of alphanumerics and the underschore \"_\")\n",
    "- Put _arguments_ in parentheses\n",
    "- Then a colon, and finally an indented code block"
   ]
  },
  {
   "cell_type": "code",
   "execution_count": 42,
   "metadata": {},
   "outputs": [
    {
     "name": "stdout",
     "output_type": "stream",
     "text": [
      "Hi!\n"
     ]
    }
   ],
   "source": [
    "# Empty parentheses if the function doesn't take any arguments\n",
    "\n",
    "\n",
    "def say_hi():\n",
    "    print(\"Hi!\")\n",
    "\n",
    "\n",
    "say_hi()"
   ]
  },
  {
   "cell_type": "code",
   "execution_count": 43,
   "metadata": {},
   "outputs": [
    {
     "name": "stdout",
     "output_type": "stream",
     "text": [
      "Hi Berkeley !\n"
     ]
    }
   ],
   "source": [
    "def say_hi_2(name):\n",
    "    print(\"Hi\", name, \"!\")\n",
    "\n",
    "\n",
    "say_hi_2(\"Berkeley\")"
   ]
  },
  {
   "cell_type": "markdown",
   "metadata": {},
   "source": [
    "### A Function can return a result to its caller using `return`"
   ]
  },
  {
   "cell_type": "code",
   "execution_count": 44,
   "metadata": {},
   "outputs": [],
   "source": [
    "import math\n",
    "\n",
    "\n",
    "def get_vector_magnitude(x, y):\n",
    "    mag = math.sqrt(x ** 2 + y ** 2)\n",
    "\n",
    "    return mag"
   ]
  },
  {
   "cell_type": "code",
   "execution_count": 45,
   "metadata": {},
   "outputs": [
    {
     "name": "stdout",
     "output_type": "stream",
     "text": [
      "magnitude of vector: 5.0\n"
     ]
    }
   ],
   "source": [
    "m = get_vector_magnitude(3, 4)\n",
    "\n",
    "print(\"magnitude of vector:\", m)"
   ]
  },
  {
   "cell_type": "code",
   "execution_count": 46,
   "metadata": {},
   "outputs": [
    {
     "name": "stdout",
     "output_type": "stream",
     "text": [
      "Hi!\n",
      "return value of `say_hi()` is: None\n"
     ]
    }
   ],
   "source": [
    "# A function without explicit `return` returns `None`\n",
    "\n",
    "print(\"return value of `say_hi()` is:\", say_hi())"
   ]
  },
  {
   "cell_type": "markdown",
   "metadata": {
    "tags": []
   },
   "source": [
    "### Can specify default values for arguments\n",
    "\n",
    "- All arguments with defaults must come *after* all arguments without (otherwise, argument-to-parameter matching would be ambigious)\n",
    "- Makes common cases simpler, and signals intent\n",
    "- Functional can return multiple values"
   ]
  },
  {
   "cell_type": "code",
   "execution_count": 47,
   "metadata": {},
   "outputs": [],
   "source": [
    "def scale_vector_by_factor(x, y, factor=1):\n",
    "    x *= factor\n",
    "    y *= factor\n",
    "\n",
    "    return x, y"
   ]
  },
  {
   "cell_type": "code",
   "execution_count": 48,
   "metadata": {},
   "outputs": [
    {
     "name": "stdout",
     "output_type": "stream",
     "text": [
      "scale_vector_by_factor with default: (3, 4)\n"
     ]
    }
   ],
   "source": [
    "print(\"scale_vector_by_factor with default:\", scale_vector_by_factor(3, 4))"
   ]
  },
  {
   "cell_type": "code",
   "execution_count": 49,
   "metadata": {},
   "outputs": [
    {
     "name": "stdout",
     "output_type": "stream",
     "text": [
      "scale_vector_by_factor: (6, 8)\n"
     ]
    }
   ],
   "source": [
    "print(\"scale_vector_by_factor:\", scale_vector_by_factor(3, 4, 2))"
   ]
  },
  {
   "cell_type": "code",
   "execution_count": 50,
   "metadata": {},
   "outputs": [
    {
     "name": "stdout",
     "output_type": "stream",
     "text": [
      "scaled x: 6 scaled_y: 8\n"
     ]
    }
   ],
   "source": [
    "scaled_x, scaled_y = scale_vector_by_factor(3, 4, 2)\n",
    "\n",
    "print(\"scaled x:\", scaled_x, \"scaled_y:\", scaled_y)"
   ]
  },
  {
   "cell_type": "markdown",
   "metadata": {},
   "source": [
    "### Can pass arguments by name\n",
    "* Helpful when functions have lots of options\n",
    "> If you have a procedure with ten parameters, you probably missed some. <br>-- from \"Epigrams in Programming\", by Alan J. Perlis"
   ]
  },
  {
   "cell_type": "code",
   "execution_count": 51,
   "metadata": {},
   "outputs": [
    {
     "name": "stdout",
     "output_type": "stream",
     "text": [
      "scale_vector_by_factor: (6, 8)\n"
     ]
    }
   ],
   "source": [
    "print(\"scale_vector_by_factor:\", scale_vector_by_factor(x=3, y=4, factor=2))"
   ]
  },
  {
   "cell_type": "markdown",
   "metadata": {},
   "source": [
    "## Lesson 8: Class\n",
    "---"
   ]
  },
  {
   "cell_type": "markdown",
   "metadata": {},
   "source": [
    "Classes provide a means of bundling data and functionality on the data together."
   ]
  },
  {
   "cell_type": "markdown",
   "metadata": {},
   "source": [
    "### Define a class using the keyword `class` with a name \n",
    "  - Name in camel case by convension \n",
    "  - Optionally parentheses (put in super classes the current class inherits from)\n",
    "  - Then a colon, and finally an indented code block"
   ]
  },
  {
   "cell_type": "markdown",
   "metadata": {},
   "source": [
    "#### The `__init__()` magic method \n",
    "\n",
    "Oftentimes, we want our class to be general and can handle arbitrary input data. This can be achieved by the `__init__()` magic method.\n",
    "\n",
    "  - Constructor to assign values to the data attributes of the instance of the class at initialization.\n",
    "  - `self` represents the instance of the class. Using `self`, we can access the attributes and methods of the class."
   ]
  },
  {
   "cell_type": "code",
   "execution_count": 52,
   "metadata": {},
   "outputs": [],
   "source": [
    "class TwoDimVector:\n",
    "    def __init__(self, x, y):\n",
    "        self.x = x\n",
    "        self.y = y"
   ]
  },
  {
   "cell_type": "code",
   "execution_count": 53,
   "metadata": {},
   "outputs": [
    {
     "name": "stdout",
     "output_type": "stream",
     "text": [
      "6\n",
      "8\n"
     ]
    }
   ],
   "source": [
    "v = TwoDimVector(6, 8)\n",
    "print(v.x)\n",
    "print(v.y)"
   ]
  },
  {
   "cell_type": "markdown",
   "metadata": {},
   "source": [
    "### User-defined class methods\n",
    "  - get access to and modify class attributes \n",
    "  - perform calculations "
   ]
  },
  {
   "cell_type": "code",
   "execution_count": 54,
   "metadata": {},
   "outputs": [],
   "source": [
    "import math\n",
    "\n",
    "\n",
    "class TwoDimVector:\n",
    "    def __init__(self, x, y):\n",
    "        self.x = x\n",
    "        self.y = y\n",
    "\n",
    "    def get_magnitude(self):\n",
    "        mag = math.sqrt(self.x ** 2 + self.y ** 2)\n",
    "\n",
    "        return mag\n",
    "\n",
    "    def scale_by_factor(self, factor=1.0):\n",
    "        self.x *= factor\n",
    "        self.y *= factor"
   ]
  },
  {
   "cell_type": "code",
   "execution_count": 55,
   "metadata": {},
   "outputs": [
    {
     "name": "stdout",
     "output_type": "stream",
     "text": [
      "vector magnitude 5.0\n",
      "vector magnitude after scale 10.0\n"
     ]
    }
   ],
   "source": [
    "v = TwoDimVector(3, 4)\n",
    "print(\"vector magnitude\", v.get_magnitude())\n",
    "\n",
    "v.scale_by_factor(2)\n",
    "print(\"vector magnitude after scale\", v.get_magnitude())"
   ]
  },
  {
   "cell_type": "markdown",
   "metadata": {},
   "source": [
    "### The `property` decorator\n",
    "  \n",
    "  - A `decorator` feature in Python wraps in a function, appends several functionalities to existing code and then returns it\n",
    "  - Property decorator makes the use of getter and setters easier\n",
    "  \n",
    "  "
   ]
  },
  {
   "cell_type": "code",
   "execution_count": 56,
   "metadata": {},
   "outputs": [],
   "source": [
    "import math\n",
    "\n",
    "\n",
    "class TwoDimVector:\n",
    "    def __init__(self, x, y):\n",
    "        self.x = x\n",
    "        self.y = y\n",
    "\n",
    "    def scale_by_factor(self, factor=1.0):\n",
    "        self.x *= factor\n",
    "        self.y *= factor\n",
    "\n",
    "    @property\n",
    "    def magnitude(self):\n",
    "        m = math.sqrt(self.x ** 2 + self.y ** 2)\n",
    "        return m"
   ]
  },
  {
   "cell_type": "code",
   "execution_count": 57,
   "metadata": {},
   "outputs": [
    {
     "data": {
      "text/plain": [
       "5.0"
      ]
     },
     "execution_count": 57,
     "metadata": {},
     "output_type": "execute_result"
    }
   ],
   "source": [
    "v = TwoDimVector(3, 4)\n",
    "\n",
    "v.magnitude"
   ]
  },
  {
   "cell_type": "markdown",
   "metadata": {},
   "source": [
    "### Type annotation \n",
    "\n",
    "Type hints for function and variables greatly improves code readability.\n",
    "To set type hints for an argument, add colon \":\" and the expected type after the name of the argument. \n",
    "\n",
    "  - The Python runtime does not enforce function and variable type annotations\n",
    "  - But they can be used by third party tools such as type checkers, IDEs, linters, etc. \n",
    "  - The `typing` module provides more types, like `List` and `Dict` "
   ]
  },
  {
   "cell_type": "code",
   "execution_count": 58,
   "metadata": {},
   "outputs": [],
   "source": [
    "import math\n",
    "\n",
    "\n",
    "class TwoDimVector:\n",
    "    \"\"\"\n",
    "    A two-dimensional vector class.\n",
    "\n",
    "    Args:\n",
    "        x: first component of a two-dimensional vector.\n",
    "        y: second component of a two-dimensional vedtor.\n",
    "    \"\"\"\n",
    "\n",
    "    def __init__(self, x: float, y: float):\n",
    "        self.x = x\n",
    "        self.y = y\n",
    "\n",
    "    def scale_by_factor(self, factor: float = 1.0):\n",
    "        self.x *= factor\n",
    "        self.y *= factor\n",
    "\n",
    "    @property\n",
    "    def magnitude(self) -> float:\n",
    "        m = math.sqrt(self.x ** 2 + self.y ** 2)\n",
    "        return m"
   ]
  },
  {
   "cell_type": "code",
   "execution_count": null,
   "metadata": {},
   "outputs": [],
   "source": []
  }
 ],
 "metadata": {
  "kernelspec": {
   "display_name": "Python 3",
   "language": "python",
   "name": "python3"
  },
  "language_info": {
   "codemirror_mode": {
    "name": "ipython",
    "version": 3
   },
   "file_extension": ".py",
   "mimetype": "text/x-python",
   "name": "python",
   "nbconvert_exporter": "python",
   "pygments_lexer": "ipython3",
   "version": "3.7.10"
  }
 },
 "nbformat": 4,
 "nbformat_minor": 4
}
