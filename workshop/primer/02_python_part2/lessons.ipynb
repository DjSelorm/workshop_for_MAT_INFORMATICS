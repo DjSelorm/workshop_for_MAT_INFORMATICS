{
 "cells": [
  {
   "cell_type": "markdown",
   "metadata": {},
   "source": [
    "# Building Basic Logic in Python"
   ]
  },
  {
   "cell_type": "markdown",
   "metadata": {},
   "source": [
    "## Lesson 5: Conditionals\n",
    "---"
   ]
  },
  {
   "cell_type": "markdown",
   "metadata": {},
   "source": [
    "We often want our programs to take actions based on what's going on at the time (e.g. the current value of some variable).\n",
    "Like most other programming languages, Python supports __conditional statements__.  \n",
    "The way in which we make decisions in our code based on conditions is through the `if` statement."
   ]
  },
  {
   "cell_type": "markdown",
   "metadata": {},
   "source": [
    "### Booleans\n",
    "\n",
    "The boolean, or `bool`, datatype in Python is useful for logic expressions. \n",
    "A bool variable can take two values, either `True` or `False`.\n",
    "Python implements all of the usual operators for bool logic, but uses English words (`and`, `or`, `not`) rather than symbols. "
   ]
  },
  {
   "cell_type": "code",
   "execution_count": 1,
   "metadata": {},
   "outputs": [],
   "source": [
    "b1 = True\n",
    "b2 = False"
   ]
  },
  {
   "cell_type": "code",
   "execution_count": 2,
   "metadata": {},
   "outputs": [
    {
     "data": {
      "text/plain": [
       "False"
      ]
     },
     "execution_count": 2,
     "metadata": {},
     "output_type": "execute_result"
    }
   ],
   "source": [
    "b1 and b2"
   ]
  },
  {
   "cell_type": "code",
   "execution_count": 3,
   "metadata": {},
   "outputs": [
    {
     "data": {
      "text/plain": [
       "True"
      ]
     },
     "execution_count": 3,
     "metadata": {},
     "output_type": "execute_result"
    }
   ],
   "source": [
    "b1 or b2"
   ]
  },
  {
   "cell_type": "code",
   "execution_count": 4,
   "metadata": {},
   "outputs": [
    {
     "data": {
      "text/plain": [
       "False"
      ]
     },
     "execution_count": 4,
     "metadata": {},
     "output_type": "execute_result"
    }
   ],
   "source": [
    "not b1"
   ]
  },
  {
   "cell_type": "markdown",
   "metadata": {},
   "source": [
    "### What is _true_? "
   ]
  },
  {
   "cell_type": "markdown",
   "metadata": {},
   "source": [
    "#### Type casting \n",
    "\n",
    "We can _typecast_ other datatype (e.g. `int`, `string`, and even `list`) as `bool` using the `bool()` function. \n",
    "The results of some of these casting examples are quite interesting!"
   ]
  },
  {
   "cell_type": "code",
   "execution_count": 5,
   "metadata": {},
   "outputs": [
    {
     "data": {
      "text/plain": [
       "True"
      ]
     },
     "execution_count": 5,
     "metadata": {},
     "output_type": "execute_result"
    }
   ],
   "source": [
    "bool(3)"
   ]
  },
  {
   "cell_type": "code",
   "execution_count": 6,
   "metadata": {},
   "outputs": [
    {
     "data": {
      "text/plain": [
       "False"
      ]
     },
     "execution_count": 6,
     "metadata": {},
     "output_type": "execute_result"
    }
   ],
   "source": [
    "bool(0.0)"
   ]
  },
  {
   "cell_type": "code",
   "execution_count": 7,
   "metadata": {},
   "outputs": [
    {
     "data": {
      "text/plain": [
       "True"
      ]
     },
     "execution_count": 7,
     "metadata": {},
     "output_type": "execute_result"
    }
   ],
   "source": [
    "bool(\"Berkeley\")"
   ]
  },
  {
   "cell_type": "code",
   "execution_count": 8,
   "metadata": {},
   "outputs": [
    {
     "data": {
      "text/plain": [
       "False"
      ]
     },
     "execution_count": 8,
     "metadata": {},
     "output_type": "execute_result"
    }
   ],
   "source": [
    "bool(\"\")"
   ]
  },
  {
   "cell_type": "code",
   "execution_count": 9,
   "metadata": {},
   "outputs": [
    {
     "data": {
      "text/plain": [
       "True"
      ]
     },
     "execution_count": 9,
     "metadata": {},
     "output_type": "execute_result"
    }
   ],
   "source": [
    "bool([1, 2, 3])"
   ]
  },
  {
   "cell_type": "code",
   "execution_count": 10,
   "metadata": {},
   "outputs": [
    {
     "data": {
      "text/plain": [
       "False"
      ]
     },
     "execution_count": 10,
     "metadata": {},
     "output_type": "execute_result"
    }
   ],
   "source": [
    "bool([])"
   ]
  },
  {
   "cell_type": "code",
   "execution_count": 11,
   "metadata": {},
   "outputs": [
    {
     "data": {
      "text/plain": [
       "True"
      ]
     },
     "execution_count": 11,
     "metadata": {},
     "output_type": "execute_result"
    }
   ],
   "source": [
    "bool([0])"
   ]
  },
  {
   "cell_type": "code",
   "execution_count": 12,
   "metadata": {},
   "outputs": [
    {
     "data": {
      "text/plain": [
       "True"
      ]
     },
     "execution_count": 12,
     "metadata": {},
     "output_type": "execute_result"
    }
   ],
   "source": [
    "bool([\"\"])"
   ]
  },
  {
   "cell_type": "markdown",
   "metadata": {},
   "source": [
    "#### Expressions evaluated to bool\n",
    "\n",
    "- `==`, `!=`, `>`, `<`, etc. \n",
    "- `in` membership assesment \n",
    "- `is` identity operator\n",
    "- `in` and `is` can be combined with `not` to form `not in` and `is not`"
   ]
  },
  {
   "cell_type": "code",
   "execution_count": 13,
   "metadata": {},
   "outputs": [
    {
     "data": {
      "text/plain": [
       "False"
      ]
     },
     "execution_count": 13,
     "metadata": {},
     "output_type": "execute_result"
    }
   ],
   "source": [
    "3 == 2"
   ]
  },
  {
   "cell_type": "code",
   "execution_count": 14,
   "metadata": {},
   "outputs": [
    {
     "data": {
      "text/plain": [
       "True"
      ]
     },
     "execution_count": 14,
     "metadata": {},
     "output_type": "execute_result"
    }
   ],
   "source": [
    "b = \"H\" in \"Hydrogen\"  # character(s) in string\n",
    "\n",
    "b"
   ]
  },
  {
   "cell_type": "code",
   "execution_count": 15,
   "metadata": {},
   "outputs": [
    {
     "data": {
      "text/plain": [
       "True"
      ]
     },
     "execution_count": 15,
     "metadata": {},
     "output_type": "execute_result"
    }
   ],
   "source": [
    "\"a\" not in \"Hydrogen\""
   ]
  },
  {
   "cell_type": "code",
   "execution_count": 16,
   "metadata": {},
   "outputs": [
    {
     "data": {
      "text/plain": [
       "True"
      ]
     },
     "execution_count": 16,
     "metadata": {},
     "output_type": "execute_result"
    }
   ],
   "source": [
    "elements = [\"Hydrogen\", \"Carbon\", \"Oxygen\"]  # componment in list\n",
    "b = \"Hydrogen\" in elements\n",
    "\n",
    "b"
   ]
  },
  {
   "cell_type": "code",
   "execution_count": 17,
   "metadata": {},
   "outputs": [
    {
     "name": "stdout",
     "output_type": "stream",
     "text": [
      "True\n"
     ]
    }
   ],
   "source": [
    "element = None\n",
    "\n",
    "print(element is None)"
   ]
  },
  {
   "cell_type": "code",
   "execution_count": 18,
   "metadata": {},
   "outputs": [
    {
     "data": {
      "text/plain": [
       "True"
      ]
     },
     "execution_count": 18,
     "metadata": {},
     "output_type": "execute_result"
    }
   ],
   "source": [
    "element = \"Hydrogen\"\n",
    "\n",
    "element is not None"
   ]
  },
  {
   "cell_type": "markdown",
   "metadata": {},
   "source": [
    "Be very careful with this! \n",
    "Python's \"falsy\" functionality makes code fun to write and easier to read, but can cause problems.\n",
    "For example, many people will put a simple `if` statement as a conditional on whether the variable is stored as a falsy value (e. g. None). \n",
    "\n",
    "(mjwen) not sure what the last sentence means. Ask Guy"
   ]
  },
  {
   "cell_type": "markdown",
   "metadata": {},
   "source": [
    "### The `if` Statement"
   ]
  },
  {
   "cell_type": "markdown",
   "metadata": {},
   "source": [
    "Let's start with an illustrative example of the state of water (H<sub>2</sub>O) based on the temperature."
   ]
  },
  {
   "cell_type": "code",
   "execution_count": 19,
   "metadata": {},
   "outputs": [],
   "source": [
    "water_temperature = -1  # degrees celsius"
   ]
  },
  {
   "cell_type": "markdown",
   "metadata": {},
   "source": [
    "Below is the simple if statement: _\"if the temperature of water is greater than or equal to 100 °C, it must be boiling\"_."
   ]
  },
  {
   "cell_type": "code",
   "execution_count": 20,
   "metadata": {},
   "outputs": [],
   "source": [
    "if water_temperature >= 100:\n",
    "    print(\"Boiling!\")"
   ]
  },
  {
   "cell_type": "markdown",
   "metadata": {},
   "source": [
    "Now, let's add an `else` to catch our if statement: _\"if ... greater than ..., __otherwise__, the water is not boiling\"_."
   ]
  },
  {
   "cell_type": "code",
   "execution_count": 21,
   "metadata": {},
   "outputs": [
    {
     "name": "stdout",
     "output_type": "stream",
     "text": [
      "Not boiling!\n"
     ]
    }
   ],
   "source": [
    "if water_temperature >= 100:\n",
    "    print(\"Boiling!\")\n",
    "else:\n",
    "    print(\"Not boiling!\")"
   ]
  },
  {
   "cell_type": "markdown",
   "metadata": {},
   "source": [
    "We can increase the number of levels of the `if` statement in the following manner:\n",
    "\n",
    "```\n",
    "if (condition 1):\n",
    "    execute code for case 1\n",
    "    ...\n",
    ".\n",
    ".\n",
    ".\n",
    "elif (condition k):\n",
    "    execute code for case k\n",
    "    ...\n",
    ".\n",
    ".\n",
    ".\n",
    "elif (condition n):\n",
    "    execute code for case n\n",
    "    ...\n",
    "else:\n",
    "    execute \"catch all\" case\n",
    "    ...\n",
    "```\n",
    "\n",
    "The _conditions_ can be any expression that evaluates to a bool.\n",
    "In principle, there is no limit to the number of intermediate `elif` (else if) checks."
   ]
  },
  {
   "cell_type": "code",
   "execution_count": 22,
   "metadata": {},
   "outputs": [
    {
     "name": "stdout",
     "output_type": "stream",
     "text": [
      "Solid!\n"
     ]
    }
   ],
   "source": [
    "water_temperature = -5\n",
    "\n",
    "if water_temperature >= 100:\n",
    "    print(\"Boiling!\")\n",
    "elif water_temperature > 0:\n",
    "    print(\"Liquid!\")\n",
    "else:\n",
    "    print(\"Solid!\")"
   ]
  },
  {
   "cell_type": "markdown",
   "metadata": {},
   "source": [
    "Note that codes within the conditional blocks are demarcated using __indentation__.\n",
    "This is a contentious property of Python, but is implemented primarily because it makes code much easier to read.\n",
    "Note also that the indentation level can be almost any combination of whitespace characters (tabs and spaces), but elements of the same indentation block must use the same type of indentation.\n",
    "\n",
    "Because it gets confusing to use multiple types, the python style guide strongly recommends using 4 spaces to indent, which is the default in the jupyter notebook for example.\n",
    "This is sometimes more difficult to toggle in text editors, but most of them have online resources for setting up your text editor to use tabs and indentation in a way that conforms to Python's style."
   ]
  },
  {
   "cell_type": "markdown",
   "metadata": {},
   "source": [
    "## Lesson 6: Dictionaries\n",
    "---"
   ]
  },
  {
   "cell_type": "markdown",
   "metadata": {},
   "source": [
    "Dictionaries are used to store data values in __key:value__ pairs.\n",
    "A dictionary is a collection which is ordered (since Python 3.7), changeable, and does not allow duplicates."
   ]
  },
  {
   "cell_type": "markdown",
   "metadata": {},
   "source": [
    "### Create dict and access component "
   ]
  },
  {
   "cell_type": "code",
   "execution_count": 23,
   "metadata": {},
   "outputs": [
    {
     "data": {
      "text/plain": [
       "6"
      ]
     },
     "execution_count": 23,
     "metadata": {},
     "output_type": "execute_result"
    }
   ],
   "source": [
    "elements = {\"Hydrogen\": 1, \"Carbon\": 6}\n",
    "\n",
    "n = elements[\"Carbon\"]\n",
    "n"
   ]
  },
  {
   "cell_type": "markdown",
   "metadata": {},
   "source": [
    "### Basic operations on dict (add, edit, and remove)"
   ]
  },
  {
   "cell_type": "code",
   "execution_count": 24,
   "metadata": {},
   "outputs": [
    {
     "data": {
      "text/plain": [
       "{'Hydrogen': 1, 'Carbon': 6, 'Copper': 27}"
      ]
     },
     "execution_count": 24,
     "metadata": {},
     "output_type": "execute_result"
    }
   ],
   "source": [
    "# add via key-value\n",
    "elements[\"Copper\"] = 27  # oops, seems wrong\n",
    "\n",
    "elements"
   ]
  },
  {
   "cell_type": "code",
   "execution_count": 25,
   "metadata": {},
   "outputs": [
    {
     "data": {
      "text/plain": [
       "{'Hydrogen': 1, 'Carbon': 6, 'Copper': 29}"
      ]
     },
     "execution_count": 25,
     "metadata": {},
     "output_type": "execute_result"
    }
   ],
   "source": [
    "# edit\n",
    "elements[\"Copper\"] = 29  # that's better\n",
    "\n",
    "elements"
   ]
  },
  {
   "cell_type": "code",
   "execution_count": 26,
   "metadata": {},
   "outputs": [
    {
     "data": {
      "text/plain": [
       "{'Hydrogen': 1, 'Carbon': 6, 'Copper': 29, 'Nitrogen': 7, 'Oxygen': 8}"
      ]
     },
     "execution_count": 26,
     "metadata": {},
     "output_type": "execute_result"
    }
   ],
   "source": [
    "# add multiple key value pairs from another dict\n",
    "elements.update({\"Nitrogen\": 7, \"Oxygen\": 8})\n",
    "\n",
    "elements"
   ]
  },
  {
   "cell_type": "code",
   "execution_count": 27,
   "metadata": {},
   "outputs": [
    {
     "name": "stdout",
     "output_type": "stream",
     "text": [
      "return value: 7\n",
      "current dict: {'Hydrogen': 1, 'Carbon': 6, 'Copper': 29, 'Oxygen': 8}\n"
     ]
    }
   ],
   "source": [
    "# remove by key\n",
    "v = elements.pop(\"Nitrogen\")  # return the value, here 7\n",
    "\n",
    "print(\"return value:\", v)\n",
    "print(\"current dict:\", elements)"
   ]
  },
  {
   "cell_type": "markdown",
   "metadata": {
    "tags": []
   },
   "source": [
    "### Dict keys should be immutable\n",
    "\n",
    "- Immutable objects : In simple words, an immutable object cannot be changed after it is created. Example built-in types like `int`, `float`, `bool`, `string`, `tuple`, etc. are immutable. \n",
    "- Mutable objects: An mutable object cannot be changed after it is created, e.g. `list` and `dict`."
   ]
  },
  {
   "cell_type": "code",
   "execution_count": 28,
   "metadata": {},
   "outputs": [
    {
     "data": {
      "text/plain": [
       "'d'"
      ]
     },
     "execution_count": 28,
     "metadata": {},
     "output_type": "execute_result"
    }
   ],
   "source": [
    "elem = \"Hydrogen\"\n",
    "elem[2]"
   ]
  },
  {
   "cell_type": "code",
   "execution_count": 29,
   "metadata": {},
   "outputs": [],
   "source": [
    "# elem[2] = \"D\"  # this will give error"
   ]
  },
  {
   "cell_type": "code",
   "execution_count": 30,
   "metadata": {},
   "outputs": [],
   "source": [
    "# molecule = {[\"Hydrogen\", \"H\"]: 1}  # note this will give error"
   ]
  },
  {
   "cell_type": "code",
   "execution_count": 31,
   "metadata": {},
   "outputs": [],
   "source": [
    "molecule = {(\"Hydrogen\", \"H\"): 1}"
   ]
  },
  {
   "cell_type": "markdown",
   "metadata": {},
   "source": [
    "### Iterate over dict \n",
    "\n",
    "- simple loop over dict keys\n",
    "- loop over dict to get the _key_ and _value_ at the same time"
   ]
  },
  {
   "cell_type": "code",
   "execution_count": 32,
   "metadata": {},
   "outputs": [
    {
     "name": "stdout",
     "output_type": "stream",
     "text": [
      "key = Hydrogen\n",
      "value = 1\n",
      "key = Carbon\n",
      "value = 6\n",
      "key = Copper\n",
      "value = 29\n"
     ]
    }
   ],
   "source": [
    "elements = {\"Hydrogen\": 1, \"Carbon\": 6, \"Copper\": 29}\n",
    "\n",
    "for k in elements:\n",
    "    v = elements[k]\n",
    "    print(\"key =\", k)\n",
    "    print(\"value =\", v)"
   ]
  },
  {
   "cell_type": "code",
   "execution_count": 33,
   "metadata": {},
   "outputs": [
    {
     "name": "stdout",
     "output_type": "stream",
     "text": [
      "key = Hydrogen\n",
      "value= 1\n",
      "key = Carbon\n",
      "value= 6\n",
      "key = Copper\n",
      "value= 29\n"
     ]
    }
   ],
   "source": [
    "for k, v in elements.items():\n",
    "    print(\"key =\", k)\n",
    "    print(\"value=\", v)"
   ]
  },
  {
   "cell_type": "markdown",
   "metadata": {},
   "source": [
    "### Other ways to create dictionary "
   ]
  },
  {
   "cell_type": "code",
   "execution_count": 34,
   "metadata": {},
   "outputs": [
    {
     "data": {
      "text/plain": [
       "{1: 'Hydrogen', 6: 'Carbon', 8: 'Oxygen'}"
      ]
     },
     "execution_count": 34,
     "metadata": {},
     "output_type": "execute_result"
    }
   ],
   "source": [
    "elements = {1: \"Hydrogen\", 6: \"Carbon\", 8: \"Oxygen\"}\n",
    "elements"
   ]
  },
  {
   "cell_type": "code",
   "execution_count": 35,
   "metadata": {},
   "outputs": [],
   "source": [
    "names = [\"Hydrogen\", \"Carbon\", \"Oxygen\"]\n",
    "numbers = [1, 6, 8]"
   ]
  },
  {
   "cell_type": "code",
   "execution_count": 36,
   "metadata": {},
   "outputs": [
    {
     "data": {
      "text/plain": [
       "{1: 'Hydrogen', 6: 'Carbon', 8: 'Oxygen'}"
      ]
     },
     "execution_count": 36,
     "metadata": {},
     "output_type": "execute_result"
    }
   ],
   "source": [
    "elements = {i: s for i, s in zip(numbers, names)}  # dict comprehesion\n",
    "elements"
   ]
  },
  {
   "cell_type": "code",
   "execution_count": 37,
   "metadata": {},
   "outputs": [
    {
     "data": {
      "text/plain": [
       "{1: 'Hydrogen', 6: 'Carbon', 8: 'Oxygen'}"
      ]
     },
     "execution_count": 37,
     "metadata": {},
     "output_type": "execute_result"
    }
   ],
   "source": [
    "elements = dict(zip(numbers, names))\n",
    "elements"
   ]
  },
  {
   "cell_type": "markdown",
   "metadata": {},
   "source": [
    "## Lesson 7: Writing Functions\n",
    "---"
   ]
  },
  {
   "cell_type": "markdown",
   "metadata": {},
   "source": [
    "### Break down programs into functions\n",
    "* Readability: human beings can only keep a few items in working memory at a time. Encapsulate complexity so that we can treat it as a single “thing”.\n",
    "* Reuse: write one time, use many times.\n",
    "* Testing: components with well-defined boundaries are easier to test."
   ]
  },
  {
   "cell_type": "markdown",
   "metadata": {},
   "source": [
    "### Define a function using `def` with a name, parameters, and a block of code\n",
    "\n",
    "* Function name must obey the same rules as variable names\n",
    "* Put *parameters* in parentheses\n",
    "* Then a colon, then an indented code block"
   ]
  },
  {
   "cell_type": "code",
   "execution_count": 38,
   "metadata": {},
   "outputs": [],
   "source": [
    "# Empty parentheses if the function doesn't take any inputs:\n",
    "def print_greeting():\n",
    "    print(\"Hello!\")"
   ]
  },
  {
   "cell_type": "markdown",
   "metadata": {},
   "source": [
    "### Arguments in call are matched to parameters in definition"
   ]
  },
  {
   "cell_type": "code",
   "execution_count": 39,
   "metadata": {},
   "outputs": [
    {
     "name": "stdout",
     "output_type": "stream",
     "text": [
      "1871/3/19\n"
     ]
    }
   ],
   "source": [
    "def print_date(year, month, day):\n",
    "    joined = str(year) + \"/\" + str(month) + \"/\" + str(day)\n",
    "    print(joined)\n",
    "\n",
    "\n",
    "print_date(1871, 3, 19)"
   ]
  },
  {
   "cell_type": "markdown",
   "metadata": {},
   "source": [
    "### Functions may return a result to their caller using `return`\n",
    "\n",
    "* May occur anywhere in the function\n",
    "* But functions are easier to understand if `return` occurs\n",
    "   * At the start, to handle special cases\n",
    "   * At the very end, with a final result\n",
    "\n",
    "\n",
    "* Functions without explicit `return` produce `None`"
   ]
  },
  {
   "cell_type": "code",
   "execution_count": 40,
   "metadata": {},
   "outputs": [],
   "source": [
    "def average(values):\n",
    "    if len(values) == 0:\n",
    "        return None\n",
    "    return sum(values) / len(values)"
   ]
  },
  {
   "cell_type": "code",
   "execution_count": 41,
   "metadata": {},
   "outputs": [
    {
     "name": "stdout",
     "output_type": "stream",
     "text": [
      "average of actual values: 2.6666666666666665\n"
     ]
    }
   ],
   "source": [
    "a = average([1, 3, 4])\n",
    "print(\"average of actual values:\", a)"
   ]
  },
  {
   "cell_type": "code",
   "execution_count": 42,
   "metadata": {},
   "outputs": [
    {
     "name": "stdout",
     "output_type": "stream",
     "text": [
      "average of empty list: None\n"
     ]
    }
   ],
   "source": [
    "print(\"average of empty list:\", average([]))"
   ]
  },
  {
   "cell_type": "code",
   "execution_count": 43,
   "metadata": {},
   "outputs": [
    {
     "name": "stdout",
     "output_type": "stream",
     "text": [
      "1871/3/19\n",
      "result of call is: None\n"
     ]
    }
   ],
   "source": [
    "result = print_date(1871, 3, 19)\n",
    "print(\"result of call is:\", result)"
   ]
  },
  {
   "cell_type": "markdown",
   "metadata": {},
   "source": [
    "### Can specify default values for parameters\n",
    "* All paramters with defaults must come *after* all parameters without.\n",
    "* Otherwise, argument-to-parameter matching would be ambigious.\n",
    "* Makes common cases simpler, and signals intent"
   ]
  },
  {
   "cell_type": "code",
   "execution_count": 44,
   "metadata": {},
   "outputs": [
    {
     "name": "stdout",
     "output_type": "stream",
     "text": [
      "my_sum with default: 6.0\n",
      "sum with factor: 3.0\n"
     ]
    }
   ],
   "source": [
    "def my_sum(values, scale=1.0):\n",
    "    result = 0.0\n",
    "    for v in values:\n",
    "        result += v * scale\n",
    "    return result\n",
    "\n",
    "\n",
    "print(\"my_sum with default:\", my_sum([1, 2, 3]))\n",
    "print(\"sum with factor:\", my_sum([1, 2, 3], 0.5))"
   ]
  },
  {
   "cell_type": "code",
   "execution_count": 45,
   "metadata": {},
   "outputs": [],
   "source": [
    "# Succinctly...\n",
    "def my_sum(values, scale=1.0):\n",
    "    return sum(v * scale for v in values)"
   ]
  },
  {
   "cell_type": "markdown",
   "metadata": {},
   "source": [
    "### Can pass parameters by name\n",
    "* Helpful when functions have lots of options\n",
    "> If you have a procedure with ten parameters, you probably missed some. <br>-- from \"Epigrams in Programming\", by Alan J. Perlis"
   ]
  },
  {
   "cell_type": "code",
   "execution_count": 46,
   "metadata": {},
   "outputs": [
    {
     "name": "stdout",
     "output_type": "stream",
     "text": [
      "out of order: 1.5\n"
     ]
    }
   ],
   "source": [
    "print(\"out of order:\", my_sum(scale=0.25, values=[1, 2, 3]))"
   ]
  },
  {
   "cell_type": "markdown",
   "metadata": {},
   "source": [
    "### Functions can take a variable number of arguments\n",
    "* Prefix at most one parameter's name with `*`.\n",
    "* By convention, everyone calls the parameters `*args`.\n",
    "* All \"extra\" paramters are put in a list-like structure assigned to that parameter"
   ]
  },
  {
   "cell_type": "code",
   "execution_count": 47,
   "metadata": {},
   "outputs": [
    {
     "name": "stdout",
     "output_type": "stream",
     "text": [
      "with one value: 0.5\n",
      "with two values: 2.0\n"
     ]
    }
   ],
   "source": [
    "def total(scale, *args):\n",
    "    return sum(a * scale for a in args)\n",
    "\n",
    "\n",
    "print(\"with one value:\", total(0.5, 1))\n",
    "print(\"with two values:\", total(0.5, 1, 3))"
   ]
  },
  {
   "cell_type": "markdown",
   "metadata": {},
   "source": [
    "### Functions can return multiple values\n",
    "* This is just a special case of many-to-many assignment"
   ]
  },
  {
   "cell_type": "code",
   "execution_count": 48,
   "metadata": {},
   "outputs": [
    {
     "name": "stdout",
     "output_type": "stream",
     "text": [
      "order(10, 5): 5 10\n"
     ]
    }
   ],
   "source": [
    "red, green, blue = 10, 50, 180\n",
    "\n",
    "\n",
    "def order(a, b):\n",
    "    if a < b:\n",
    "        return a, b\n",
    "    else:\n",
    "        return b, a\n",
    "\n",
    "\n",
    "low, high = order(10, 5)\n",
    "print(\"order(10, 5):\", low, high)"
   ]
  },
  {
   "cell_type": "code",
   "execution_count": null,
   "metadata": {},
   "outputs": [],
   "source": []
  }
 ],
 "metadata": {
  "kernelspec": {
   "display_name": "Python 3",
   "language": "python",
   "name": "python3"
  },
  "language_info": {
   "codemirror_mode": {
    "name": "ipython",
    "version": 3
   },
   "file_extension": ".py",
   "mimetype": "text/x-python",
   "name": "python",
   "nbconvert_exporter": "python",
   "pygments_lexer": "ipython3",
   "version": "3.7.10"
  }
 },
 "nbformat": 4,
 "nbformat_minor": 4
}
