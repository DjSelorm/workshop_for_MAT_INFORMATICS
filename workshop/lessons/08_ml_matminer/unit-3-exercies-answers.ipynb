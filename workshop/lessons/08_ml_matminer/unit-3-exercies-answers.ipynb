{
 "cells": [
  {
   "cell_type": "markdown",
   "metadata": {},
   "source": [
    "# Machine learning models – Exercises\n",
    "\n",
    "In these exercises, we'll load a cleaned and featurized dataframe then use scikit-learn to predict materials properties.\n",
    "\n",
    "Before starting, we need to use matminer's `load_dataframe_from_json()` function to load a cleaned and featurized version of the `dielectric_constant` dataset. We will use this dataset for all the exercises."
   ]
  },
  {
   "cell_type": "code",
   "execution_count": 1,
   "metadata": {},
   "outputs": [
    {
     "name": "stderr",
     "output_type": "stream",
     "text": [
      "Reading file resources/dielectric_constant_featurized.json: 2112it [00:02, 1015.13it/s]#############################################################################################################8| 2109/2112 [00:02<00:00, 1675.19it/s]\n",
      "Decoding objects from resources/dielectric_constant_featurized.json: 100%|###########################################################################################################################| 2112/2112 [00:02<00:00, 1015.27it/s]\n"
     ]
    },
    {
     "data": {
      "text/html": [
       "<div>\n",
       "<style scoped>\n",
       "    .dataframe tbody tr th:only-of-type {\n",
       "        vertical-align: middle;\n",
       "    }\n",
       "\n",
       "    .dataframe tbody tr th {\n",
       "        vertical-align: top;\n",
       "    }\n",
       "\n",
       "    .dataframe thead th {\n",
       "        text-align: right;\n",
       "    }\n",
       "</style>\n",
       "<table border=\"1\" class=\"dataframe\">\n",
       "  <thead>\n",
       "    <tr style=\"text-align: right;\">\n",
       "      <th></th>\n",
       "      <th>structure</th>\n",
       "      <th>total_dielectric</th>\n",
       "      <th>composition</th>\n",
       "      <th>MagpieData minimum Number</th>\n",
       "      <th>MagpieData maximum Number</th>\n",
       "      <th>MagpieData range Number</th>\n",
       "      <th>MagpieData mean Number</th>\n",
       "      <th>MagpieData avg_dev Number</th>\n",
       "      <th>MagpieData mode Number</th>\n",
       "      <th>MagpieData minimum MendeleevNumber</th>\n",
       "      <th>...</th>\n",
       "      <th>MagpieData mode GSmagmom</th>\n",
       "      <th>MagpieData minimum SpaceGroupNumber</th>\n",
       "      <th>MagpieData maximum SpaceGroupNumber</th>\n",
       "      <th>MagpieData range SpaceGroupNumber</th>\n",
       "      <th>MagpieData mean SpaceGroupNumber</th>\n",
       "      <th>MagpieData avg_dev SpaceGroupNumber</th>\n",
       "      <th>MagpieData mode SpaceGroupNumber</th>\n",
       "      <th>density</th>\n",
       "      <th>vpa</th>\n",
       "      <th>packing fraction</th>\n",
       "    </tr>\n",
       "  </thead>\n",
       "  <tbody>\n",
       "    <tr>\n",
       "      <th>0</th>\n",
       "      <td>[[1.75725875 1.2425695  3.04366125] Rb, [5.271...</td>\n",
       "      <td>6.23</td>\n",
       "      <td>(Rb, Te)</td>\n",
       "      <td>37.0</td>\n",
       "      <td>52.0</td>\n",
       "      <td>15.0</td>\n",
       "      <td>42.000000</td>\n",
       "      <td>6.666667</td>\n",
       "      <td>37.0</td>\n",
       "      <td>4.0</td>\n",
       "      <td>...</td>\n",
       "      <td>0.0</td>\n",
       "      <td>152.0</td>\n",
       "      <td>229.0</td>\n",
       "      <td>77.0</td>\n",
       "      <td>203.333333</td>\n",
       "      <td>34.222222</td>\n",
       "      <td>229.0</td>\n",
       "      <td>3.108002</td>\n",
       "      <td>53.167069</td>\n",
       "      <td>0.753707</td>\n",
       "    </tr>\n",
       "    <tr>\n",
       "      <th>1</th>\n",
       "      <td>[[0. 0. 0.] Cd, [ 4.27210959  2.64061969 13.13...</td>\n",
       "      <td>6.73</td>\n",
       "      <td>(Cd, Cl)</td>\n",
       "      <td>17.0</td>\n",
       "      <td>48.0</td>\n",
       "      <td>31.0</td>\n",
       "      <td>27.333333</td>\n",
       "      <td>13.777778</td>\n",
       "      <td>17.0</td>\n",
       "      <td>70.0</td>\n",
       "      <td>...</td>\n",
       "      <td>0.0</td>\n",
       "      <td>64.0</td>\n",
       "      <td>194.0</td>\n",
       "      <td>130.0</td>\n",
       "      <td>107.333333</td>\n",
       "      <td>57.777778</td>\n",
       "      <td>64.0</td>\n",
       "      <td>3.611055</td>\n",
       "      <td>28.099366</td>\n",
       "      <td>0.284421</td>\n",
       "    </tr>\n",
       "    <tr>\n",
       "      <th>2</th>\n",
       "      <td>[[0. 0. 0.] Mn, [-2.07904300e-06  2.40067320e+...</td>\n",
       "      <td>10.64</td>\n",
       "      <td>(Mn, I)</td>\n",
       "      <td>25.0</td>\n",
       "      <td>53.0</td>\n",
       "      <td>28.0</td>\n",
       "      <td>43.666667</td>\n",
       "      <td>12.444444</td>\n",
       "      <td>53.0</td>\n",
       "      <td>52.0</td>\n",
       "      <td>...</td>\n",
       "      <td>0.0</td>\n",
       "      <td>64.0</td>\n",
       "      <td>217.0</td>\n",
       "      <td>153.0</td>\n",
       "      <td>115.000000</td>\n",
       "      <td>68.000000</td>\n",
       "      <td>64.0</td>\n",
       "      <td>4.732379</td>\n",
       "      <td>36.111958</td>\n",
       "      <td>0.318289</td>\n",
       "    </tr>\n",
       "    <tr>\n",
       "      <th>3</th>\n",
       "      <td>[[-1.73309900e-06  2.38611186e+00  5.95256328e...</td>\n",
       "      <td>17.99</td>\n",
       "      <td>(La, N)</td>\n",
       "      <td>7.0</td>\n",
       "      <td>57.0</td>\n",
       "      <td>50.0</td>\n",
       "      <td>32.000000</td>\n",
       "      <td>25.000000</td>\n",
       "      <td>7.0</td>\n",
       "      <td>13.0</td>\n",
       "      <td>...</td>\n",
       "      <td>0.0</td>\n",
       "      <td>194.0</td>\n",
       "      <td>194.0</td>\n",
       "      <td>0.0</td>\n",
       "      <td>194.000000</td>\n",
       "      <td>0.000000</td>\n",
       "      <td>194.0</td>\n",
       "      <td>5.760192</td>\n",
       "      <td>22.040641</td>\n",
       "      <td>0.730689</td>\n",
       "    </tr>\n",
       "    <tr>\n",
       "      <th>4</th>\n",
       "      <td>[[1.677294 2.484476 2.484476] Mn, [0. 0. 0.] M...</td>\n",
       "      <td>7.12</td>\n",
       "      <td>(Mn, F)</td>\n",
       "      <td>9.0</td>\n",
       "      <td>25.0</td>\n",
       "      <td>16.0</td>\n",
       "      <td>14.333333</td>\n",
       "      <td>7.111111</td>\n",
       "      <td>9.0</td>\n",
       "      <td>52.0</td>\n",
       "      <td>...</td>\n",
       "      <td>0.0</td>\n",
       "      <td>15.0</td>\n",
       "      <td>217.0</td>\n",
       "      <td>202.0</td>\n",
       "      <td>82.333333</td>\n",
       "      <td>89.777778</td>\n",
       "      <td>15.0</td>\n",
       "      <td>3.726395</td>\n",
       "      <td>13.804400</td>\n",
       "      <td>0.302832</td>\n",
       "    </tr>\n",
       "  </tbody>\n",
       "</table>\n",
       "<p>5 rows × 138 columns</p>\n",
       "</div>"
      ],
      "text/plain": [
       "                                           structure  total_dielectric  \\\n",
       "0  [[1.75725875 1.2425695  3.04366125] Rb, [5.271...              6.23   \n",
       "1  [[0. 0. 0.] Cd, [ 4.27210959  2.64061969 13.13...              6.73   \n",
       "2  [[0. 0. 0.] Mn, [-2.07904300e-06  2.40067320e+...             10.64   \n",
       "3  [[-1.73309900e-06  2.38611186e+00  5.95256328e...             17.99   \n",
       "4  [[1.677294 2.484476 2.484476] Mn, [0. 0. 0.] M...              7.12   \n",
       "\n",
       "  composition  MagpieData minimum Number  MagpieData maximum Number  \\\n",
       "0    (Rb, Te)                       37.0                       52.0   \n",
       "1    (Cd, Cl)                       17.0                       48.0   \n",
       "2     (Mn, I)                       25.0                       53.0   \n",
       "3     (La, N)                        7.0                       57.0   \n",
       "4     (Mn, F)                        9.0                       25.0   \n",
       "\n",
       "   MagpieData range Number  MagpieData mean Number  MagpieData avg_dev Number  \\\n",
       "0                     15.0               42.000000                   6.666667   \n",
       "1                     31.0               27.333333                  13.777778   \n",
       "2                     28.0               43.666667                  12.444444   \n",
       "3                     50.0               32.000000                  25.000000   \n",
       "4                     16.0               14.333333                   7.111111   \n",
       "\n",
       "   MagpieData mode Number  MagpieData minimum MendeleevNumber  ...  \\\n",
       "0                    37.0                                 4.0  ...   \n",
       "1                    17.0                                70.0  ...   \n",
       "2                    53.0                                52.0  ...   \n",
       "3                     7.0                                13.0  ...   \n",
       "4                     9.0                                52.0  ...   \n",
       "\n",
       "   MagpieData mode GSmagmom  MagpieData minimum SpaceGroupNumber  \\\n",
       "0                       0.0                                152.0   \n",
       "1                       0.0                                 64.0   \n",
       "2                       0.0                                 64.0   \n",
       "3                       0.0                                194.0   \n",
       "4                       0.0                                 15.0   \n",
       "\n",
       "   MagpieData maximum SpaceGroupNumber  MagpieData range SpaceGroupNumber  \\\n",
       "0                                229.0                               77.0   \n",
       "1                                194.0                              130.0   \n",
       "2                                217.0                              153.0   \n",
       "3                                194.0                                0.0   \n",
       "4                                217.0                              202.0   \n",
       "\n",
       "   MagpieData mean SpaceGroupNumber  MagpieData avg_dev SpaceGroupNumber  \\\n",
       "0                        203.333333                            34.222222   \n",
       "1                        107.333333                            57.777778   \n",
       "2                        115.000000                            68.000000   \n",
       "3                        194.000000                             0.000000   \n",
       "4                         82.333333                            89.777778   \n",
       "\n",
       "   MagpieData mode SpaceGroupNumber   density        vpa  packing fraction  \n",
       "0                             229.0  3.108002  53.167069          0.753707  \n",
       "1                              64.0  3.611055  28.099366          0.284421  \n",
       "2                              64.0  4.732379  36.111958          0.318289  \n",
       "3                             194.0  5.760192  22.040641          0.730689  \n",
       "4                              15.0  3.726395  13.804400          0.302832  \n",
       "\n",
       "[5 rows x 138 columns]"
      ]
     },
     "execution_count": 1,
     "metadata": {},
     "output_type": "execute_result"
    }
   ],
   "source": [
    "import os\n",
    "from matminer.utils.io import load_dataframe_from_json\n",
    "\n",
    "df = load_dataframe_from_json(os.path.join(\"resources\", \"dielectric_constant_featurized.json\"))\n",
    "df.head()"
   ]
  },
  {
   "cell_type": "markdown",
   "metadata": {},
   "source": [
    "## Exercise 1: Split dataset in target property and features\n",
    "\n",
    "You first need to partition the data into the target property and features used for learning. For this dataset, the target property is contained in the `total_dielectric` column. The features are all other columns, except `structure`, and `composition`.\n",
    "\n",
    "The target property data should be stored in the `y` variable. The set of features used for learning should be stored in the `X` variable.\n",
    "\n",
    "*Hint remember to exclude the target property from the feature set.* "
   ]
  },
  {
   "cell_type": "code",
   "execution_count": 2,
   "metadata": {},
   "outputs": [],
   "source": [
    "# Fill in the blanks\n",
    "\n",
    "y = df[\"total_dielectric\"].values\n",
    "\n",
    "X = df.drop([\"structure\", \"composition\", \"total_dielectric\"], axis=1)"
   ]
  },
  {
   "cell_type": "markdown",
   "metadata": {},
   "source": [
    "## Exercise 2: Train a random forest model on the dataset\n",
    "\n",
    "Train a random forest model with 150 estimators on the dataset. Next, use the model to get predictions for all samples and store them to the `y_pred` variable."
   ]
  },
  {
   "cell_type": "code",
   "execution_count": 3,
   "metadata": {},
   "outputs": [],
   "source": [
    "from sklearn.ensemble import RandomForestRegressor\n",
    "\n",
    "# Fill in the blanks below\n",
    "\n",
    "rf = RandomForestRegressor(n_estimators=150)\n",
    "\n",
    "rf.fit(X, y)\n",
    "\n",
    "y_pred = rf.predict(X)"
   ]
  },
  {
   "cell_type": "markdown",
   "metadata": {},
   "source": [
    "To see how well your model is performing, run the next cell."
   ]
  },
  {
   "cell_type": "code",
   "execution_count": 4,
   "metadata": {},
   "outputs": [
    {
     "name": "stdout",
     "output_type": "stream",
     "text": [
      "training RMSE = 6.620\n"
     ]
    }
   ],
   "source": [
    "import numpy as np\n",
    "from sklearn.metrics import mean_squared_error\n",
    "\n",
    "mse = mean_squared_error(y, y_pred)\n",
    "print('training RMSE = {:.3f}'.format(np.sqrt(mse)))"
   ]
  },
  {
   "cell_type": "markdown",
   "metadata": {},
   "source": [
    "## Exercise 3: Evaluate the model using cross validation"
   ]
  },
  {
   "cell_type": "markdown",
   "metadata": {},
   "source": [
    "Evaluate your random forest model using cross validation with 5 splits. This will give a more realistic idea of how well your model will perform in practice."
   ]
  },
  {
   "cell_type": "code",
   "execution_count": 5,
   "metadata": {},
   "outputs": [],
   "source": [
    "from sklearn.model_selection import KFold\n",
    "from sklearn.model_selection import cross_val_score\n",
    "\n",
    "# Fill in the blanks below\n",
    "\n",
    "kfold = KFold(n_splits=5)\n",
    "\n",
    "scores = cross_val_score(rf, X, y, scoring='neg_mean_squared_error', cv=kfold)"
   ]
  },
  {
   "cell_type": "markdown",
   "metadata": {},
   "source": [
    "The final cross validation score can be printed by running the cell below."
   ]
  },
  {
   "cell_type": "code",
   "execution_count": 6,
   "metadata": {},
   "outputs": [
    {
     "name": "stdout",
     "output_type": "stream",
     "text": [
      "Mean RMSE: 19.938\n"
     ]
    }
   ],
   "source": [
    "rmse_scores = [np.sqrt(abs(s)) for s in scores]\n",
    "print('Mean RMSE: {:.3f}'.format(np.mean(rmse_scores)))"
   ]
  },
  {
   "cell_type": "code",
   "execution_count": null,
   "metadata": {},
   "outputs": [],
   "source": []
  }
 ],
 "metadata": {
  "kernelspec": {
   "display_name": "Python 3 (ipykernel)",
   "language": "python",
   "name": "python3"
  },
  "language_info": {
   "codemirror_mode": {
    "name": "ipython",
    "version": 3
   },
   "file_extension": ".py",
   "mimetype": "text/x-python",
   "name": "python",
   "nbconvert_exporter": "python",
   "pygments_lexer": "ipython3",
   "version": "3.7.3"
  }
 },
 "nbformat": 4,
 "nbformat_minor": 4
}
