{
 "cells": [
  {
   "cell_type": "markdown",
   "metadata": {
    "slideshow": {
     "slide_type": "slide"
    }
   },
   "source": [
    "# The Materials API"
   ]
  },
  {
   "cell_type": "markdown",
   "metadata": {
    "slideshow": {
     "slide_type": "slide"
    }
   },
   "source": [
    "In this lesson, we cover:\n",
    "\n",
    "* The (new) Materials Project API (MAPI) and its documentation (https://api.materialsproject.org/).\n",
    "* Getting your Materials Project API key.\n",
    "* Using the MPRester to access the MP database.\n",
    "* A hands-on example of using the API and pymatgen to screen the MP database for interesting materials."
   ]
  },
  {
   "cell_type": "code",
   "execution_count": null,
   "metadata": {
    "slideshow": {
     "slide_type": "skip"
    }
   },
   "outputs": [],
   "source": [
    "# This supresses warnings.\n",
    "import warnings\n",
    "warnings.filterwarnings('ignore')\n",
    "\n",
    "# This is a helper function to shorten lists during the \n",
    "# live presentation of this lesson for better readability. \n",
    "# You can ignore it. \n",
    "def shortlist(long_list, n=5):\n",
    "    print(\"First {} of {} items:\".format(min(n, 5), len(long_list)))\n",
    "    for item in long_list[0:n]:\n",
    "        print(item)"
   ]
  },
  {
   "cell_type": "markdown",
   "metadata": {
    "slideshow": {
     "slide_type": "slide"
    }
   },
   "source": [
    "***\n",
    "## Section 0: Installing the Materials Project API client\n",
    "\n",
    "The new API client can be installed using pip: `pip install mp-api`\n",
    "\n",
    "***NOTE: If you are doing this lesson in CoCalc, the package should already be installed.***"
   ]
  },
  {
   "cell_type": "markdown",
   "metadata": {
    "slideshow": {
     "slide_type": "slide"
    }
   },
   "source": [
    "***\n",
    "## Section 1: Getting an API key\n",
    "\n",
    "The first step to getting started with the API is to get an API key. This can be done on the next-gen preview Materials Project website (https://next-gen.materialsproject.org.)\n",
    "\n",
    "1. Log in using your account of choice.\n",
    "2. Click `API` in the top right of the homepage.\n",
    "3. Copy and paste your API key in the command below."
   ]
  },
  {
   "cell_type": "code",
   "execution_count": null,
   "metadata": {
    "slideshow": {
     "slide_type": "fragment"
    }
   },
   "outputs": [],
   "source": [
    "MP_API_KEY=\"<your API key>\""
   ]
  },
  {
   "cell_type": "markdown",
   "metadata": {
    "slideshow": {
     "slide_type": "slide"
    }
   },
   "source": [
    "## Section 2: Documentation\n",
    "\n",
    "A description of the new Materials Project API can be found on the [API details page](https://next-gen.materialsproject.org/api). This, along with the [more detailed documentation](https://api.materialsproject.org/docs) it links to, are a key source of information regarding what data can be queried for. It should be the first thing you consult whenever you are having trouble with the API.\n",
    "\n",
    "The API is organized into into different endpoints that provided access to different types of data:\n",
    "\n",
    "<img src=\"images/endpoints_website.png\">"
   ]
  },
  {
   "cell_type": "markdown",
   "metadata": {
    "slideshow": {
     "slide_type": "slide"
    }
   },
   "source": [
    "***\n",
    "## Section 3: API Requests\n",
    "\n",
    "Data from the API can be accessed through REST requests.\n",
    "\n",
    "REST is a widely used type of standardization that allows different computer systems to work together. In RESTful systems, information is organized into resources, each of which is uniquely identified via a uniform resource identifier (URI). Since the Materials Project API is a RESTful system, users can interact with the MP database regardless of their computer system or programming language (as long as it supports basic http requests.)\n",
    "\n",
    "To request data from the Materials Project, you will need to make requests to our API. To do this, you could simply make a GET HTTP request providing your API key as an argument in the header of the request. \n",
    "\n",
    "Below is an example of this using the `requests` package in python."
   ]
  },
  {
   "cell_type": "code",
   "execution_count": null,
   "metadata": {
    "slideshow": {
     "slide_type": "fragment"
    }
   },
   "outputs": [],
   "source": [
    "import os\n",
    "import requests\n",
    "\n",
    "response = requests.get(\"https://api.materialsproject.org/materials/mp-149/?fields=material_id%2Cstructure&all_fields=false\", \n",
    "                        headers={\"X-API-KEY\": MP_API_KEY})\n",
    "\n",
    "print(response.text)"
   ]
  },
  {
   "cell_type": "markdown",
   "metadata": {
    "slideshow": {
     "slide_type": "subslide"
    }
   },
   "source": [
    "\n",
    "The above request for the material id and structure of Si (mp-149) should return the following JSON document:\n",
    "```\n",
    "{\"data\":[{\"_id\":\"60b7d8ddb671aa7b01a7ce04\",\"material_id\":\"mp-149\",\"structure\":{\"@module\":\"pymatgen.core.structure\",\"@class\":\"Structure\",\"charge\":null,\"lattice\":{\"matrix\":[[5.468728,0.0,3.348630120303753e-16],[8.794385361720812e-16,5.468728,3.348630120303753e-16],[0.0,0.0,5.468728]],\"a\":5.468728,\"b\":5.468728,\"c\":5.468728,\"alpha\":90.0,\"beta\":90.0,\"gamma\":90.0,\"volume\":163.55317139465933},\"sites\":[{\"species\":[{\"element\":\"Si\",\"occu\":1}],\"abc\":[0.25,0.75,0.25],\"xyz\":[1.3671820000000006,4.101546,1.3671820000000003],\"label\":\"Si\",\"properties\":{}},{\"species\":[{\"element\":\"Si\",\"occu\":1}],\"abc\":[0.0,0.0,0.5],\"xyz\":[0.0,0.0,2.734364],\"label\":\"Si\",\"properties\":{}},{\"species\":[{\"element\":\"Si\",\"occu\":1}],\"abc\":[0.25,0.25,0.75],\"xyz\":[1.3671820000000001,1.367182,4.101546],\"label\":\"Si\",\"properties\":{}},{\"species\":[{\"element\":\"Si\",\"occu\":1}],\"abc\":[0.0,0.5,0.0],\"xyz\":[4.397192680860406e-16,2.734364,1.6743150601518765e-16],\"label\":\"Si\",\"properties\":{}},{\"species\":[{\"element\":\"Si\",\"occu\":1}],\"abc\":[0.75,0.75,0.75],\"xyz\":[4.101546000000001,4.101546,4.101546000000001],\"label\":\"Si\",\"properties\":{}},{\"species\":[{\"element\":\"Si\",\"occu\":1}],\"abc\":[0.5,0.0,0.0],\"xyz\":[2.734364,0.0,1.6743150601518765e-16],\"label\":\"Si\",\"properties\":{}},{\"species\":[{\"element\":\"Si\",\"occu\":1}],\"abc\":[0.75,0.25,0.25],\"xyz\":[4.101546,1.367182,1.3671820000000003],\"label\":\"Si\",\"properties\":{}},{\"species\":[{\"element\":\"Si\",\"occu\":1}],\"abc\":[0.5,0.5,0.5],\"xyz\":[2.7343640000000002,2.734364,2.7343640000000002],\"label\":\"Si\",\"properties\":{}}]}}]}\n",
    "```"
   ]
  },
  {
   "cell_type": "markdown",
   "metadata": {
    "slideshow": {
     "slide_type": "slide"
    }
   },
   "source": [
    "***\n",
    "## Section 4: The MPRester\n"
   ]
  },
  {
   "cell_type": "markdown",
   "metadata": {
    "slideshow": {
     "slide_type": "subslide"
    }
   },
   "source": [
    "To facilitate researchers in using our API, we implemented a convenient wrapper for it called the `MPRester`.\n",
    "\n",
    "This python class contains many convenience methods for easily accessing data from the API without having to issue direct REST requests."
   ]
  },
  {
   "cell_type": "markdown",
   "metadata": {
    "slideshow": {
     "slide_type": "slide"
    }
   },
   "source": [
    "### Starting up an instance of the MPRester\n",
    "\n",
    "We'll import the MPRester and create an instance of it. \n",
    "\n",
    "*Note: You may need to use your API key as an input argument if it has not been pre-configured.*"
   ]
  },
  {
   "cell_type": "code",
   "execution_count": null,
   "metadata": {
    "slideshow": {
     "slide_type": "fragment"
    },
    "tags": []
   },
   "outputs": [],
   "source": []
  },
  {
   "cell_type": "markdown",
   "metadata": {
    "slideshow": {
     "slide_type": "slide"
    }
   },
   "source": [
    "However, we recommend that you use the “with” context manager to ensure that sessions are properly closed after usage:"
   ]
  },
  {
   "cell_type": "code",
   "execution_count": null,
   "metadata": {
    "scrolled": true,
    "slideshow": {
     "slide_type": "fragment"
    }
   },
   "outputs": [],
   "source": []
  },
  {
   "cell_type": "markdown",
   "metadata": {
    "slideshow": {
     "slide_type": "slide"
    }
   },
   "source": [
    "### MPRester Methods:\n",
    "\n",
    "The MPRester has many methods that you might want to use in your research. For example, there is a method to get the bandstructure for a material, `get_bandstructure_by_material_id`. \n",
    "\n",
    "Let's use this method and the following bandstructure plotting function to get and plot a bandstructure for mp-1234:"
   ]
  },
  {
   "cell_type": "code",
   "execution_count": null,
   "metadata": {
    "slideshow": {
     "slide_type": "fragment"
    }
   },
   "outputs": [],
   "source": [
    "### Don't edit this code ####\n",
    "from pymatgen.electronic_structure.plotter import BSPlotter\n",
    "# Helpful function for plotting a bandstructure. \n",
    "def plot_bandstructure(bs):\n",
    "    BSPlotter(bs).get_plot().show() \n",
    "#############################"
   ]
  },
  {
   "cell_type": "code",
   "execution_count": 1,
   "metadata": {
    "slideshow": {
     "slide_type": "slide"
    }
   },
   "outputs": [],
   "source": [
    "# Use the MPRester's get_bandstructure_by_material_id method to \n",
    "# get a bandstructure from the MP Database and plot it using the\n",
    "# plot_bandstructure functin defined above.\n",
    "\n"
   ]
  },
  {
   "cell_type": "markdown",
   "metadata": {
    "slideshow": {
     "slide_type": "slide"
    }
   },
   "source": [
    "There's also a method to get MPIDs for a formula or chemical system called `get_materials_ids`."
   ]
  },
  {
   "cell_type": "code",
   "execution_count": null,
   "metadata": {
    "slideshow": {
     "slide_type": "fragment"
    }
   },
   "outputs": [],
   "source": []
  },
  {
   "cell_type": "markdown",
   "metadata": {
    "slideshow": {
     "slide_type": "slide"
    }
   },
   "source": [
    "### Using the API to achieve research goals: \n",
    "\n",
    "Imagine you want to get the **structure** for the ferroelectric material $Ca_3Ti_2O_7$ (**`mp-4163`**) and suggest some **substrates** for growing it.\n",
    "\n",
    "We can use methods of the MPRester to get this information from the Materials Project API. Substrate data can be accessed with the `sub_form` key. \n",
    "\n",
    "Hints:\n",
    "\n",
    "* `MPRester.get_structure_by_material_id`\n",
    "* `MPRester.get_substrates` "
   ]
  },
  {
   "cell_type": "code",
   "execution_count": 2,
   "metadata": {
    "slideshow": {
     "slide_type": "subslide"
    }
   },
   "outputs": [],
   "source": [
    "# Get the structure for Ca3Ti2O7 (mp-4163) and \n",
    "# suggest some substrates for growing it.\n",
    "\n"
   ]
  },
  {
   "cell_type": "markdown",
   "metadata": {
    "slideshow": {
     "slide_type": "slide"
    }
   },
   "source": [
    "At this point, you should be comfortable with:\n",
    "\n",
    "* Finding documentation on the MPRester. \n",
    "* Creating an instance of the MPRester.\n",
    "* Using methods of the MPRester."
   ]
  },
  {
   "cell_type": "markdown",
   "metadata": {},
   "source": [
    "***\n",
    "## Section 5: Using the MPRester.query method.\n",
    "\n",
    "The MPRester has a very powerful method called `query`, which allows us to search over aggregate data for a material in our database. You will probably find yourself using the MPRester's query method frequently...\n"
   ]
  },
  {
   "cell_type": "markdown",
   "metadata": {
    "slideshow": {
     "slide_type": "subslide"
    }
   },
   "source": [
    "The method returns a list of `SummaryDoc` objects which contain the data for the material as attributes."
   ]
  },
  {
   "cell_type": "markdown",
   "metadata": {
    "slideshow": {
     "slide_type": "slide"
    }
   },
   "source": [
    "Let's try out some queries to learn how it works! \n",
    "\n",
    "First, we'll query for $SiO_2$ compounds in a variety of ways using through `chemsys_formula`."
   ]
  },
  {
   "cell_type": "code",
   "execution_count": null,
   "metadata": {
    "slideshow": {
     "slide_type": "fragment"
    }
   },
   "outputs": [],
   "source": [
    "# Here we query with the explicit formula\n"
   ]
  },
  {
   "cell_type": "code",
   "execution_count": 3,
   "metadata": {},
   "outputs": [],
   "source": [
    "# Here we query with the chemical system (chemsys)\n"
   ]
  },
  {
   "cell_type": "markdown",
   "metadata": {
    "slideshow": {
     "slide_type": "slide"
    }
   },
   "source": [
    "If we investigate the object that the query method returns, we find that it is a list of `SummaryDoc` objects."
   ]
  },
  {
   "cell_type": "code",
   "execution_count": null,
   "metadata": {
    "slideshow": {
     "slide_type": "fragment"
    }
   },
   "outputs": [],
   "source": [
    "print('Results are returned as a {} of {}.\\n'.format(type(_____), type(_____)))"
   ]
  },
  {
   "cell_type": "markdown",
   "metadata": {},
   "source": [
    "To access data within the document model, we can either call different attributes, or convert to a python `dict` and access with keys. Let's try accessing the `material_id` and `structure` using both approaches for the first entry in the list."
   ]
  },
  {
   "cell_type": "code",
   "execution_count": 4,
   "metadata": {},
   "outputs": [],
   "source": [
    "# Access data as an attribute\n"
   ]
  },
  {
   "cell_type": "code",
   "execution_count": 5,
   "metadata": {},
   "outputs": [],
   "source": [
    "# Access data through dictionary keys\n"
   ]
  },
  {
   "cell_type": "markdown",
   "metadata": {
    "slideshow": {
     "slide_type": "slide"
    }
   },
   "source": [
    "You can even use **wildcard** characters in `chemsys_formula` searches. For example, if we want to find all $ABO_3$ compounds in the Materials Project:"
   ]
  },
  {
   "cell_type": "code",
   "execution_count": null,
   "metadata": {
    "slideshow": {
     "slide_type": "fragment"
    }
   },
   "outputs": [],
   "source": []
  },
  {
   "cell_type": "code",
   "execution_count": null,
   "metadata": {},
   "outputs": [],
   "source": []
  },
  {
   "cell_type": "markdown",
   "metadata": {},
   "source": [
    "***\n",
    "## Section 6: Accessing more detailed properties"
   ]
  },
  {
   "cell_type": "markdown",
   "metadata": {},
   "source": [
    "The `query` method lets us search through *some* aggregate data but not all.\n",
    "\n",
    "To query all available data of a particular category, specific search methods can be used."
   ]
  },
  {
   "cell_type": "markdown",
   "metadata": {},
   "source": [
    "For example, let's query for initial structures for all cubic materials with 2 or less atomic sites using the materials specific search method:"
   ]
  },
  {
   "cell_type": "code",
   "execution_count": null,
   "metadata": {},
   "outputs": [],
   "source": []
  },
  {
   "cell_type": "code",
   "execution_count": null,
   "metadata": {},
   "outputs": [],
   "source": [
    "print('Results are returned as a {} of {}.\\n'.format(type(___), type(___)))\n"
   ]
  },
  {
   "cell_type": "markdown",
   "metadata": {},
   "source": [
    "Much like the `SummaryDoc` we can access data of `MaterialsDoc` through it's attributes, or by conversion to a python dictionary."
   ]
  },
  {
   "cell_type": "code",
   "execution_count": null,
   "metadata": {},
   "outputs": [],
   "source": []
  },
  {
   "cell_type": "code",
   "execution_count": null,
   "metadata": {},
   "outputs": [],
   "source": []
  },
  {
   "cell_type": "markdown",
   "metadata": {
    "slideshow": {
     "slide_type": "slide"
    }
   },
   "source": [
    "***\n",
    "# EXCERCISE 1\n",
    "***"
   ]
  },
  {
   "cell_type": "markdown",
   "metadata": {
    "slideshow": {
     "slide_type": "slide"
    }
   },
   "source": [
    "# EXCERCISE 2\n",
    "***"
   ]
  }
 ],
 "metadata": {
  "celltoolbar": "Slideshow",
  "kernelspec": {
   "display_name": "Python 3 (ipykernel)",
   "language": "python",
   "name": "python3"
  },
  "language_info": {
   "codemirror_mode": {
    "name": "ipython",
    "version": 3
   },
   "file_extension": ".py",
   "mimetype": "text/x-python",
   "name": "python",
   "nbconvert_exporter": "python",
   "pygments_lexer": "ipython3",
   "version": "3.8.11"
  }
 },
 "nbformat": 4,
 "nbformat_minor": 4
}
