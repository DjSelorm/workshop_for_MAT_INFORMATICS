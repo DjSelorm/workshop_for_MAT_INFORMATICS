{
 "cells": [
  {
   "cell_type": "markdown",
   "metadata": {},
   "source": [
    "# Materials API - Exercise 2: Using the MPRester and Pymatgen to Find Materials With Exotic Mechanical Properties\n",
    "\n",
    "The tetragonal SiO$_2$ polymorph $\\alpha$-cristobalite is one of the very few crystalline materials known to have a negative average Poisson's ratio, which means that its cross-section expands under tensile strain rather than contracting. This property can be extremely useful in a variety of applications such as scratch-resistant coatings and high-toughness ceramics. \n",
    "\n",
    "Why does $\\alpha$-cristobalite exhibit this property while other materials do not? The prevailing hypothesis is that $\\alpha$-cristobalite's negative Poisson's ratio is a result of its crystal structure. If that's the case, then perhaps we can find other materials with this exotic property by looking for materials with similar structures and then calculating their Poisson's ratios."
   ]
  },
  {
   "cell_type": "markdown",
   "metadata": {},
   "source": [
    "## Step 1: Retrieve the structure of $\\alpha$-cristobalite\n",
    "\n",
    "First, we should find the ground state structure for $\\alpha$-cristobalite, which has the spacegroup $P4_12_12$ [92]. Remember, stable materials have *low* energy above hull (`energy_above_hull`).\n",
    "\n",
    "_Hint: Query using `chemsys_formula` and `spacegroup_number` for the desired compound and then select the one with the lowest `energy_above_hull` if there are multiple results. Consider using the `sort_field` and `ascending` input parameters of the query method._"
   ]
  },
  {
   "cell_type": "code",
   "execution_count": 26,
   "metadata": {},
   "outputs": [],
   "source": [
    "# Your code here\n",
    "from mp_api.matproj import MPRester\n",
    "\n",
    "with MPRester(\"<your API key>\") as mpr:\n",
    "    ac = mpr.query(spacegroup_number=92, chemsys_formula=\"SiO2\", sort_field=\"energy_above_hull\", ascending=True, fields=[\"material_id\", \"structure\", \"energy_above_hull\"])\n"
   ]
  },
  {
   "cell_type": "code",
   "execution_count": 29,
   "metadata": {},
   "outputs": [
    {
     "name": "stdout",
     "output_type": "stream",
     "text": [
      "[0.0029292908333324874, 0.16456397777777632, 0.16702923694444216, 0.18101650749999898]\n"
     ]
    }
   ],
   "source": [
    "print([entry.energy_above_hull for entry in ac])"
   ]
  },
  {
   "cell_type": "code",
   "execution_count": 30,
   "metadata": {},
   "outputs": [],
   "source": [
    "ac_structure = ac[0].structure\n",
    "ac_mpid = ac[0].material_id"
   ]
  },
  {
   "cell_type": "code",
   "execution_count": 31,
   "metadata": {},
   "outputs": [
    {
     "name": "stdout",
     "output_type": "stream",
     "text": [
      "mp-6945 Full Formula (Si4 O8)\n",
      "Reduced Formula: SiO2\n",
      "abc   :   5.084701   5.084701   7.098579\n",
      "angles:  90.000000  90.000000  90.000000\n",
      "Sites (12)\n",
      "  #  SP           a         b         c\n",
      "---  ----  --------  --------  --------\n",
      "  0  Si    0.70555   0.70555   0.5\n",
      "  1  Si    0.79445   0.20555   0.75\n",
      "  2  Si    0.20555   0.79445   0.25\n",
      "  3  Si    0.29445   0.29445   0\n",
      "  4  O     0.905897  0.758978  0.325641\n",
      "  5  O     0.094103  0.241022  0.825641\n",
      "  6  O     0.758978  0.905897  0.674359\n",
      "  7  O     0.258978  0.594103  0.075641\n",
      "  8  O     0.241022  0.094103  0.174359\n",
      "  9  O     0.405897  0.741022  0.424359\n",
      " 10  O     0.594103  0.258978  0.924359\n",
      " 11  O     0.741022  0.405897  0.575641\n"
     ]
    }
   ],
   "source": [
    "print(ac_mpid, ac_structure)"
   ]
  },
  {
   "cell_type": "markdown",
   "metadata": {},
   "source": [
    "## Step 2: Build a structure comparison engine and test it out\n",
    "\n",
    "The code below creates a structure matcher object that can be used to compare if two structures are simlar (loose tolerances = similar, tight tolerances = identical). Please verify that the structure matcher works for identical structure by comparing the structure of AC with itself. \n",
    "\n",
    "_Hint: Replace <YOUR CODE HERE> with the two structures you want to compare, separated by a comma._"
   ]
  },
  {
   "cell_type": "code",
   "execution_count": 32,
   "metadata": {
    "scrolled": true
   },
   "outputs": [],
   "source": [
    "##### Don't edit code below #####\n",
    "\n",
    "from pymatgen.analysis.structure_matcher import StructureMatcher\n",
    "from pymatgen.analysis.structure_matcher import FrameworkComparator\n",
    "# This line initializes our comparator. Please don't play with its tolerances until after you are done\n",
    "comparison_engine = StructureMatcher(ltol=.2, stol=.5, angle_tol=10, primitive_cell=True, \n",
    "                                     scale=True, attempt_supercell=True, \n",
    "                                     comparator=FrameworkComparator())\n",
    "##### Don't edit code above #####"
   ]
  },
  {
   "cell_type": "code",
   "execution_count": 33,
   "metadata": {},
   "outputs": [
    {
     "name": "stdout",
     "output_type": "stream",
     "text": [
      "True\n"
     ]
    }
   ],
   "source": [
    "print(comparison_engine.fit(ac_structure, ac_structure))"
   ]
  },
  {
   "cell_type": "markdown",
   "metadata": {},
   "source": [
    "We know that the high-temperature phase of cristobalite, $\\beta$-cristobalite [(mp-546794)](https://materialsproject.org/materials/mp-546794/), has a very similar structure to $\\alpha$-cristobalite. Let's see if the structure matcher agrees. Please retreive the structure for `mp-546794` and then compare it with our prototype structure. \n",
    "\n",
    "_Hint: No need to re-initialize the structure matcher. Just call it's `fit` function again._"
   ]
  },
  {
   "cell_type": "code",
   "execution_count": 34,
   "metadata": {},
   "outputs": [
    {
     "name": "stdout",
     "output_type": "stream",
     "text": [
      "True\n"
     ]
    }
   ],
   "source": [
    "# Your code here\n",
    "with MPRester(\"<your API key>\") as mpr:\n",
    "    bc_structure = mpr.get_structure_by_material_id(\"mp-546794\")\n",
    "print(comparison_engine.fit(bc_structure, ac_structure))"
   ]
  },
  {
   "cell_type": "markdown",
   "metadata": {},
   "source": [
    "Just to make sure we haven't increased the tolerances too much, please try it against a random compound to make sure it's not matching dissimilar structures.\n",
    "\n",
    "_Hint: \"mp-4991\" is a good random MPID you can use_"
   ]
  },
  {
   "cell_type": "code",
   "execution_count": 35,
   "metadata": {},
   "outputs": [
    {
     "name": "stdout",
     "output_type": "stream",
     "text": [
      "False\n"
     ]
    }
   ],
   "source": [
    "# Your code here\n",
    "with MPRester(\"<your API key>\") as mpr:\n",
    "    bc_structure = mpr.get_structure_by_material_id(\"mp-4991\")\n",
    "print(comparison_engine.fit(bc_structure, ac_structure))"
   ]
  },
  {
   "cell_type": "markdown",
   "metadata": {},
   "source": [
    "## Step 3: Get a set of candidate structures to compare\n",
    "\n",
    "Now that we have our comparator, we need some candidates to screen! \n",
    "\n",
    "Imagine that we have an experimental colleague, Soren Tsarpinski, who is an expert at synthesizing vanadate compounds. We have a hunch that some of the vanadates coming out of Dr. Tsarpinski's lab might have similar structures to $\\alpha$-cristobalite and therefore might have negative Poisson's ratios. Let's see if we're right:\n",
    "\n",
    "For our search, we want to start with a set of structures that are:\n",
    "* Computationally tractable, so not too many sites (i.e `nsites = (0, 50)` is a good range)\n",
    "* Not too unlikely to be synthesizable (energy above hull <=100 meV/atom, i.e. `energy_above_hull = (0.0, 0.1)`)\n",
    "* Have a \"vanadate\" composition, i.e. `\"*V3O8\"`\n",
    "\n",
    "Construct and execute a query to get the `structure`, `material_id`, and `formula_pretty` for all materials that match these criteria:"
   ]
  },
  {
   "cell_type": "code",
   "execution_count": 42,
   "metadata": {},
   "outputs": [],
   "source": [
    "# Your code here\n",
    "with MPRester(\"<your API key>\") as mpr:\n",
    "    \n",
    "    vanadate_ids = [entry.material_id for entry in mpr.query(chemsys_formula=\"*V3O8\", fields=[\"material_id\"])]\n",
    "    \n",
    "    vanadates = mpr.query(material_ids=vanadate_ids, \n",
    "                          energy_above_hull=(0.0,0.1),\n",
    "                          nsites=(0,50),\n",
    "                          fields=[\"structure\", \"material_id\", \"formula_pretty\"])"
   ]
  },
  {
   "cell_type": "markdown",
   "metadata": {},
   "source": [
    "## Step 4: Screen the vanadates for similar structures to $\\alpha$-cristobalite and then check if our hypothesis is valid by querying for their Poisson's ratios. \n",
    "\n",
    "Now that we have a list of vanadates, let's screen it for similar structures. After we have the similar structures, make one final query to the Materials API to retrieve the `formula_pretty` and `homogeneous_possion` property for each one. \n",
    "\n",
    "_Hint: Create an empty list for matches and then iterate through the vanadate entries with a for loop. If its structure is similar to $\\alpha$-cristobalite, append its `material_id` to a list of matches. After you have a match list, query the Materials API for entries with a `material_id` that is in your matches._"
   ]
  },
  {
   "cell_type": "code",
   "execution_count": 49,
   "metadata": {},
   "outputs": [
    {
     "name": "stdout",
     "output_type": "stream",
     "text": [
      "mp-753738 V3CoO8 None\n",
      "mp-774945 MnV3O8 None\n",
      "mp-775001 V3FeO8 -0.06158139322390399\n"
     ]
    }
   ],
   "source": [
    "# Your code here\n",
    "matches = []\n",
    "for entry in vanadates:\n",
    "    if comparison_engine.fit(ac_structure, entry.structure):\n",
    "        matches.append(entry.material_id)\n",
    "\n",
    "with MPRester(\"<your API key>\") as mpr:\n",
    "    elastic_data = mpr.query(material_ids=matches, fields=['material_id', 'formula_pretty', 'homogeneous_poisson'])\n",
    "\n",
    "for e in elastic_data:\n",
    "    print(e.material_id, e.formula_pretty, e.homogeneous_poisson)"
   ]
  }
 ],
 "metadata": {
  "kernelspec": {
   "display_name": "Python 3 (ipykernel)",
   "language": "python",
   "name": "python3"
  },
  "language_info": {
   "codemirror_mode": {
    "name": "ipython",
    "version": 3
   },
   "file_extension": ".py",
   "mimetype": "text/x-python",
   "name": "python",
   "nbconvert_exporter": "python",
   "pygments_lexer": "ipython3",
   "version": "3.7.10"
  }
 },
 "nbformat": 4,
 "nbformat_minor": 4
}
