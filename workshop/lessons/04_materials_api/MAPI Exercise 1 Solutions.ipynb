{
 "cells": [
  {
   "cell_type": "markdown",
   "metadata": {},
   "source": [
    "# Materials API - Exercise 1\n",
    "\n",
    "In this excercise, your task is to plot the distribution of crystal systems (cubic, tetragonal, monoclinic, etc) within all SiO$_2$ compounds. You will do this through the following 3 steps:\n",
    "\n",
    "1. Retrieve the spacegroup entries in the MP database with the formula SiO$_2$\n",
    "2. Collect their crystal systems\n",
    "3. Plot a bar chart with the data"
   ]
  },
  {
   "cell_type": "markdown",
   "metadata": {},
   "source": [
    "## Step 1: Retrieve the spacegroup entries in the MP database with the formula SiO$_2$\n",
    "\n",
    "Use the Materials API to get the __\"symmetry\"__ property for all SiO$_2$ compounds. \n",
    "\n",
    "_Hint: use the `query` method of the `MPRester`._"
   ]
  },
  {
   "cell_type": "code",
   "execution_count": 9,
   "metadata": {},
   "outputs": [],
   "source": [
    "# Your code here\n",
    "from mp_api.matproj import MPRester\n",
    "\n",
    "with MPRester(\"<your API key>\") as mpr:\n",
    "    SiO2_entries = mpr.query(chemsys_formula=\"SiO2\", fields=[\"symmetry\"])\n"
   ]
  },
  {
   "cell_type": "code",
   "execution_count": 11,
   "metadata": {},
   "outputs": [
    {
     "name": "stdout",
     "output_type": "stream",
     "text": [
      "crystal_system=<CrystalSystem.hex_: 'Hexagonal'> symbol='P6_3/mmc' number=194 point_group='6/mmm' symprec=0.1 version='1.16.1'\n"
     ]
    }
   ],
   "source": [
    "print(SiO2_entries[0].symmetry)"
   ]
  },
  {
   "cell_type": "markdown",
   "metadata": {},
   "source": [
    "## Step 2: Extract the crystal_system property for the entries we retrieved into a list\n",
    "\n",
    "_Hint: \"crystal_system\" is a sub-entry of the symmetry property._"
   ]
  },
  {
   "cell_type": "code",
   "execution_count": 15,
   "metadata": {},
   "outputs": [],
   "source": [
    "# Your code here\n",
    "\n",
    "crystal_systems = []\n",
    "for entry in SiO2_entries:\n",
    "    crystal_systems.append(entry.symmetry.crystal_system)"
   ]
  },
  {
   "cell_type": "code",
   "execution_count": 17,
   "metadata": {},
   "outputs": [
    {
     "name": "stdout",
     "output_type": "stream",
     "text": [
      "[<CrystalSystem.hex_: 'Hexagonal'>, <CrystalSystem.cubic: 'Cubic'>, <CrystalSystem.ortho: 'Orthorhombic'>, <CrystalSystem.trig: 'Trigonal'>, <CrystalSystem.hex_: 'Hexagonal'>, <CrystalSystem.ortho: 'Orthorhombic'>, <CrystalSystem.tet: 'Tetragonal'>, <CrystalSystem.tet: 'Tetragonal'>, <CrystalSystem.ortho: 'Orthorhombic'>, <CrystalSystem.ortho: 'Orthorhombic'>]\n"
     ]
    }
   ],
   "source": [
    "print(crystal_systems[0:10])"
   ]
  },
  {
   "cell_type": "markdown",
   "metadata": {},
   "source": [
    "## Step 3: Process the data and plot the results\n",
    "\n",
    "Our data is currently a list of crystal systems. Your task now is to create a \"count_dict\" where each key is the name of the crystal system and it's value is the count for that crystal system. Once you have written code to create `count_dict`, you the cell beneath it will plot the data for you.\n",
    "\n",
    "_Hint: Iterate through the list of crystal_systems you just created using a for loop and check if they are already in the dictionary before updating any entries._"
   ]
  },
  {
   "cell_type": "code",
   "execution_count": 36,
   "metadata": {},
   "outputs": [],
   "source": [
    "count_dict = {}\n",
    "# Your code here|\n",
    "for entry in crystal_systems:\n",
    "    count_dict[entry] = count_dict[entry] + 1 if entry in count_dict else 0"
   ]
  },
  {
   "cell_type": "code",
   "execution_count": 37,
   "metadata": {},
   "outputs": [
    {
     "data": {
      "image/png": "[encoded data removed]",
      "text/plain": [
       "<Figure size 864x864 with 1 Axes>"
      ]
     },
     "metadata": {
      "needs_background": "light"
     },
     "output_type": "display_data"
    }
   ],
   "source": [
    "import matplotlib.pyplot as plt\n",
    "\n",
    "%matplotlib inline\n",
    "\n",
    "# The code below plots the distribution\n",
    "plt.figure(figsize=(12,12))\n",
    "plt.bar(range(len(count_dict)), count_dict.values(), align='center')\n",
    "plt.xticks(range(len(count_dict)), [str(key) for key in list(count_dict.keys())])\n",
    "plt.title('Distribution of crystal systems within SiO2 compounds')\n",
    "plt.show()"
   ]
  },
  {
   "cell_type": "code",
   "execution_count": null,
   "metadata": {},
   "outputs": [],
   "source": []
  }
 ],
 "metadata": {
  "kernelspec": {
   "display_name": "Python 3 (ipykernel)",
   "language": "python",
   "name": "python3"
  },
  "language_info": {
   "codemirror_mode": {
    "name": "ipython",
    "version": 3
   },
   "file_extension": ".py",
   "mimetype": "text/x-python",
   "name": "python",
   "nbconvert_exporter": "python",
   "pygments_lexer": "ipython3",
   "version": "3.7.10"
  }
 },
 "nbformat": 4,
 "nbformat_minor": 4
}
