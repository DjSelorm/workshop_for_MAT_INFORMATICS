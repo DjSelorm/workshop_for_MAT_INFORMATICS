{
 "cells": [
  {
   "cell_type": "markdown",
   "id": "31017b54",
   "metadata": {},
   "source": [
    "# Exploring Materials Synthesis with MP Data and Reaction Networks"
   ]
  },
  {
   "cell_type": "markdown",
   "id": "636b13b3",
   "metadata": {},
   "source": [
    "**Author:** Matthew McDermott  \n",
    "**Last updated:** 08/05/21"
   ]
  },
  {
   "cell_type": "markdown",
   "id": "3812db7f-8ed0-4de8-ab9a-7631f7de5c24",
   "metadata": {},
   "source": [
    "![](assets/banner.png)"
   ]
  },
  {
   "cell_type": "markdown",
   "id": "972c8fc0",
   "metadata": {},
   "source": [
    "### Goal\n",
    "*Learn how to build & interpret phase diagrams using MP data and apply these to predict reaction pathways in inorganic materials synthesis.*\n",
    "\n",
    "### Outline\n",
    "\n",
    "1. Identifying a target system\n",
    "2. Building phase diagrams\n",
    "3. Predicting interface reactions between solids\n",
    "4. Enumerating all possible reactions to a specific target phase\n",
    "5. Constructing a reaction network from enumerated reactions\n",
    "6. Finding and balancing reaction pathways "
   ]
  },
  {
   "cell_type": "markdown",
   "id": "f396a274",
   "metadata": {},
   "source": [
    "## 1. Identifying a target system\n",
    "\n",
    "**Scenario:** \n",
    "\n",
    "While researching ferroelectric materials, you stumble upon a compound that has shown much promise as a multiferroic material: **yttrium manganese oxide, YMnO$_3$**. When you consult the literature, it looks like there are many different approaches for making this material: solid-state synthesis, chimie douce methods, microwave-assisted synthesis, pulsed laser deposition, hydrothermal synthesis, etc. \n",
    "\n",
    "In almost all of the papers you find, however, the authors describe significant difficulty in synthesizing phase-pure YMnO$_3$. For example:\n",
    "- _\"... observation that crystallization at low temperature or high oxygen partial pressures gives a mixture of Y2Mn2O7 together with YMnO3\" Brinks et al., Journal of Solid State Chemistry 129, 334-340 (1997)._\n",
    "- _\"The solid state synthesis of YMnO3 requires very long procedure with repeated heating and grinding\" Z. Brankovic et al. Ceramics International 41 (2015)_\n",
    "- _\"There are still challenges to be addressed with respect to hydrothermal synthesis of h-YMnO3, most notably the difficulty in synthesising phase pure h-YMnO3. This is a result of the complexity of the system, with a total of eight crystalline phases having been detected throughout the course of the reaction.\" Marshall et al., Chem Eur. J 2020, 26, 9330-9337 (2020)._\n"
   ]
  },
  {
   "cell_type": "markdown",
   "id": "cc8bdf5c",
   "metadata": {},
   "source": [
    "Being familiar with the Materials Project database and *pymatgen*, you decide to check the database to see if it can help answer the question: **why is phase-pure YMnO$_3$ so difficult to synthesize?**\n",
    "\n",
    "We previously learned how to use the *MPRester* to access computed data on the Materials Project. Let's start by importing `MPRester`:"
   ]
  },
  {
   "cell_type": "code",
   "execution_count": null,
   "id": "ee09dbc5",
   "metadata": {},
   "outputs": [],
   "source": []
  },
  {
   "cell_type": "markdown",
   "id": "2b11ab2b",
   "metadata": {},
   "source": [
    "### 1.1 EXERCISE: Acquiring entries from MP\n",
    "Using the `MPRester`, acquire alll entries from the Materials Project with the composition YMnO$_3$ in the cell below:"
   ]
  },
  {
   "cell_type": "code",
   "execution_count": null,
   "id": "df0b47f8",
   "metadata": {},
   "outputs": [],
   "source": []
  },
  {
   "cell_type": "markdown",
   "id": "c6e40d0e-ec66-4911-9250-fbbacdee33a5",
   "metadata": {},
   "source": [
    "### 1.2 Exploring downloaded entries\n",
    "\n",
    "Great! Now let's take a look at one of the downloaded entry objects:"
   ]
  },
  {
   "cell_type": "code",
   "execution_count": null,
   "id": "0ab335c2-aa1c-4313-9f79-6683e80d4b9a",
   "metadata": {},
   "outputs": [],
   "source": []
  },
  {
   "cell_type": "markdown",
   "id": "719c802c-46f3-4890-8e06-1c94db95995e",
   "metadata": {},
   "source": [
    "In the `ComputedStructureEntry` printout, we can see the uncorrected energy, correction, final energy, and the various parameters/data associated with the calculation.\n",
    "\n",
    "Since this is hard to interpret, it will be easier for us to reformat the entries into a *pandas* `DataFrame` with the relevant information. First we import *pandas*:"
   ]
  },
  {
   "cell_type": "code",
   "execution_count": null,
   "id": "d5ff576a-b9b3-4ff2-b7ef-89609abeff28",
   "metadata": {},
   "outputs": [],
   "source": []
  },
  {
   "cell_type": "markdown",
   "id": "d408101f-5432-4a24-b186-9312a953fcb3",
   "metadata": {},
   "source": [
    "And then we create a function to help us wrangle the entries into the `DataFrame` format:"
   ]
  },
  {
   "cell_type": "code",
   "execution_count": null,
   "id": "e6039072-986e-4677-bc62-5c34d123409c",
   "metadata": {},
   "outputs": [],
   "source": [
    "def get_df_from_entries(entries):\n",
    "    formulas = [e.composition.reduced_formula for e in entries]\n",
    "    energies = [e.energy_per_atom for e in entries]\n",
    "    spacegroups = [e.structure.get_space_group_info()[0] for e in entries]\n",
    "    structures = [e.structure for e in entries]\n",
    "    \n",
    "    data = {\"formula\": formulas, \"energy\": energies, \"spacegroup\": spacegroups, \"entry\":entries}\n",
    "    \n",
    "    df = pandas.DataFrame(data).sort_values(\"energy\")\n",
    "    \n",
    "    return df"
   ]
  },
  {
   "cell_type": "markdown",
   "id": "9b54ed37-1146-4a35-88be-6b0d72ce28d5",
   "metadata": {},
   "source": [
    "The dataframe can now be created by calling the function:"
   ]
  },
  {
   "cell_type": "code",
   "execution_count": null,
   "id": "a3a9e24a-c0a7-4662-a912-a59825bb607d",
   "metadata": {},
   "outputs": [],
   "source": []
  },
  {
   "cell_type": "markdown",
   "id": "e4e8632c-7a2d-4826-900c-36261843aaec",
   "metadata": {},
   "source": [
    " We see that there are several polymorphs of similar energy. The lowest energy polymorph is the hexagonal YMnO$_3$ phase which is well known as the stable phase in the literature:"
   ]
  },
  {
   "cell_type": "code",
   "execution_count": null,
   "id": "184e1ed9-6713-4530-b303-d0bd93c965d4",
   "metadata": {},
   "outputs": [],
   "source": []
  },
  {
   "cell_type": "markdown",
   "id": "2559c46c-04f5-4894-b29a-1b7e13d18810",
   "metadata": {},
   "source": [
    "If we want to interactively view this structure in JupyterLab, we can also import crystal_toolkit to view it:"
   ]
  },
  {
   "cell_type": "code",
   "execution_count": null,
   "id": "a2e9fe60-3b9f-4a4e-b90e-923dd402ed0d",
   "metadata": {},
   "outputs": [],
   "source": []
  },
  {
   "cell_type": "markdown",
   "id": "3b693d78",
   "metadata": {},
   "source": [
    "## 2. Building phase diagrams"
   ]
  },
  {
   "cell_type": "markdown",
   "id": "1bf5375c-80cc-48c5-b45b-05b59fc5b436",
   "metadata": {},
   "source": [
    "Now that we've confirmed the existence of the target phase within the MP database, we'd like to better understand phase composition within the Y-Mn-O system. This means answering questions suchs as:\n",
    "\n",
    "1. Just how stable is YMnO$_3$? \n",
    "2. How much energy is released upon formation of YMnO$_3$ from binary oxides vs. the elements?\n",
    "3. What other phases might compete against the formation of YMnO$_3$? \n",
    "4. What kinds of oxygen chemical potentials stabilize YMnO$_3$? \n",
    "\n",
    "These are all questions that can be answered by constructing phase diagrams within *pymatgen*."
   ]
  },
  {
   "cell_type": "markdown",
   "id": "6ac364f6-251c-4e29-a6b5-f9829eaef348",
   "metadata": {},
   "source": [
    "### 2.1 EXERCISE: Acquiring all entries within the chemical system\n",
    "Let's start by downloading entries for the full Y-Mn-O system using `MPRester`. How many entries exist within the full Y-Mn-O system?"
   ]
  },
  {
   "cell_type": "code",
   "execution_count": null,
   "id": "d72576ce-5859-41f1-adf9-56de485494ba",
   "metadata": {
    "tags": []
   },
   "outputs": [],
   "source": []
  },
  {
   "cell_type": "code",
   "execution_count": null,
   "id": "ef38b2c9-ebc8-4778-9171-fa017515608b",
   "metadata": {},
   "outputs": [],
   "source": []
  },
  {
   "cell_type": "markdown",
   "id": "c3ab5075-a991-4f3b-9c5e-7554c693bf21",
   "metadata": {},
   "source": [
    "### 2.2 Compositional phase diagrams\n",
    "Now that we have all the entrise within the Y-Mn-O system, we can create a ternary compositional phase diagram by simply passing the list of entries to create a `PhaseDiagram` object. Let's first import the phase_diagram module:"
   ]
  },
  {
   "cell_type": "code",
   "execution_count": null,
   "id": "162af2c6-f2a4-46db-847f-5f91d5771da0",
   "metadata": {},
   "outputs": [],
   "source": []
  },
  {
   "cell_type": "markdown",
   "id": "b8921309-efff-4351-a3e9-5a8680a915b2",
   "metadata": {},
   "source": [
    "And create the phase diagram:"
   ]
  },
  {
   "cell_type": "code",
   "execution_count": null,
   "id": "2947ed11-ede6-4c3d-a914-b80fd99211ac",
   "metadata": {},
   "outputs": [],
   "source": []
  },
  {
   "cell_type": "markdown",
   "id": "5d95d65e-88ed-4021-b161-5b0d8f4c2b24",
   "metadata": {},
   "source": [
    "To plot the phase diagram, we can either:\n",
    "1. Create a `PDPlotter` object and call `get_plot()` with custom arguments\n",
    "2. Create a `PDPlotter` object and call `show()`\n",
    "3. In JupyterLab, just type the name of the phase diagram object in a cell and click Enter"
   ]
  },
  {
   "cell_type": "markdown",
   "id": "20088540-9ad2-4485-a813-3387eafa0303",
   "metadata": {},
   "source": [
    "Let's do option 1. First we import `PDPlotter`:"
   ]
  },
  {
   "cell_type": "code",
   "execution_count": null,
   "id": "bc71e430-89f3-4071-bb0d-704f3f37fc57",
   "metadata": {},
   "outputs": [],
   "source": []
  },
  {
   "cell_type": "markdown",
   "id": "d9bb2a92-a7d9-44e6-b797-c02021b5a80b",
   "metadata": {},
   "source": [
    "And then we create the plotting object and call the `get_plot` function:"
   ]
  },
  {
   "cell_type": "code",
   "execution_count": null,
   "id": "db29cd8d-afd7-48a2-82a3-1ba72e2f2acc",
   "metadata": {},
   "outputs": [],
   "source": []
  },
  {
   "cell_type": "code",
   "execution_count": null,
   "id": "87e9662a-692e-4c16-8f98-5e7330d7d177",
   "metadata": {},
   "outputs": [],
   "source": []
  },
  {
   "cell_type": "markdown",
   "id": "6e165a60-cb9f-4b16-a68c-3caf82064c50",
   "metadata": {},
   "source": [
    "The default backend for plotting phase diagrams is *plotly*, however, you can also specify *matplotlib*:"
   ]
  },
  {
   "cell_type": "code",
   "execution_count": null,
   "id": "0b5264ae-9d67-4fab-a216-efef4a4070d1",
   "metadata": {},
   "outputs": [],
   "source": []
  },
  {
   "cell_type": "markdown",
   "id": "0ee9b26a-8dc2-44ca-9d64-2448307c5627",
   "metadata": {},
   "source": [
    "From the phase diagram, we see that there are three ternary oxides within the system: YMnO$_3$, YMn$_2$O$_5$, and Y$_2$Mn$_2$O$_7$. \n",
    "\n",
    "Let's look at formation energy data in a *pandas* `DataFrame`. As before, we create a function to wrangle the data into the correct format:"
   ]
  },
  {
   "cell_type": "code",
   "execution_count": null,
   "id": "b8f45c4d-2b29-451f-934e-96a6ba95dad3",
   "metadata": {},
   "outputs": [],
   "source": [
    "def get_df_from_pd(pd):\n",
    "    ents = pd.stable_entries\n",
    "    \n",
    "    formulas = [e.composition.reduced_formula for e in ents]\n",
    "    form_energies = [pd.get_form_energy_per_atom(e) for e in ents]\n",
    "    decomp_enthalpies = [pd.get_phase_separation_energy(e) for e in ents]\n",
    "    \n",
    "    data = {\"formula\": formulas, \"form_energy (eV/atom)\": form_energies, \"decomp_enthalpy (eV/atom)\": decomp_enthalpies}\n",
    "    \n",
    "    df = pandas.DataFrame(data).sort_values(\"form_energy (eV/atom)\").reset_index(drop=True)\n",
    "    \n",
    "    return df"
   ]
  },
  {
   "cell_type": "markdown",
   "id": "49309d3b-6e4b-445d-851e-4b74a2ae2ae8",
   "metadata": {},
   "source": [
    "We then call this function to get the data frame:"
   ]
  },
  {
   "cell_type": "code",
   "execution_count": null,
   "id": "f75ea17a-58ab-4af6-9d88-cc875545edce",
   "metadata": {},
   "outputs": [],
   "source": []
  },
  {
   "cell_type": "markdown",
   "id": "c0da8572-56b5-4b80-a8f0-69c2cd1e003a",
   "metadata": {},
   "source": [
    "While YMnO$_3$ has one of the lowest formation energies within the Y-Mn-O system, it's decomposition enthalpy (energy \"below\" hull) is not very negative compared to the other phases in the system. This suggests that it has a low relative stability compared to the neighboring phases.\n",
    "\n",
    "This is largely due to the fact that **Y$_2$O$_3$ is a massive thermodynamic sink** -- it has both the most negative formation energy and the most negative decomposition enthalpy. We can even see this on the color-shading of the ternary phase diagram.\n"
   ]
  },
  {
   "cell_type": "markdown",
   "id": "34f3402d-a48e-4cd9-841b-dab0653fbd41",
   "metadata": {},
   "source": [
    "### 2.3 Compound phase diagrams for plotting subsets of the convex hull\n",
    "\n",
    "The previous analysis partially explains why synthesis routes to YMnO$_3$ from the starting binary oxides (i.e. Y$_2$O$_3$ and Mn$_2$O$_3$) require such high temperatures to proceed. We can take a slice of the hull with the `CompoundPhaseDiagram` to visualize this. First, let's import the module:"
   ]
  },
  {
   "cell_type": "code",
   "execution_count": null,
   "id": "151f767d-979f-417d-b1e8-0b65b18fa623",
   "metadata": {},
   "outputs": [],
   "source": []
  },
  {
   "cell_type": "markdown",
   "id": "02d0bdbd-a219-498d-8167-449a237a819e",
   "metadata": {},
   "source": [
    "We also have to specify the terminal compositions as `Composition` objects within pymatgen:"
   ]
  },
  {
   "cell_type": "code",
   "execution_count": null,
   "id": "684e7c0a-4e97-4b7d-995d-71dff7864381",
   "metadata": {},
   "outputs": [],
   "source": []
  },
  {
   "cell_type": "markdown",
   "id": "414fbce1-e2c8-4a23-88f0-f3b010ae0da1",
   "metadata": {},
   "source": [
    "Now we can initialize the compound phase diagram object and plot it:"
   ]
  },
  {
   "cell_type": "code",
   "execution_count": null,
   "id": "0eeef148-83eb-40e1-8c19-e2edda21c8b4",
   "metadata": {},
   "outputs": [],
   "source": []
  },
  {
   "cell_type": "code",
   "execution_count": null,
   "id": "b5c9c339-833d-475e-aea3-e13a4c84aba7",
   "metadata": {},
   "outputs": [],
   "source": []
  },
  {
   "cell_type": "markdown",
   "id": "abaae8cd-4983-48aa-a05b-456ec64743e3",
   "metadata": {},
   "source": [
    "From the plot, if we hover over YMnO$_3$, we see that the reaction energy between Y$_2$O$_3$-Mn$_2$O$_3$ is calculated to be $\\Delta$H = -0.044 eV/atom.\n",
    "\n",
    "An alternative way to derive this is by providing the entries to the `ComputedReaction` object, which will automatically balance the reaction for us. Let's import it:"
   ]
  },
  {
   "cell_type": "code",
   "execution_count": null,
   "id": "cb7dbeb7-c6da-44db-9533-c8f089f16087",
   "metadata": {},
   "outputs": [],
   "source": []
  },
  {
   "cell_type": "markdown",
   "id": "bbad2eea-67de-455d-a8ef-c38aaaf89819",
   "metadata": {},
   "source": [
    "We next have to acquire the entries by specifying the formulas:"
   ]
  },
  {
   "cell_type": "code",
   "execution_count": null,
   "id": "ea41562e-b008-4da9-b907-ad520ddb9c2a",
   "metadata": {},
   "outputs": [],
   "source": []
  },
  {
   "cell_type": "code",
   "execution_count": null,
   "id": "31955958-8ff3-40f2-af59-0b79530270f1",
   "metadata": {},
   "outputs": [],
   "source": []
  },
  {
   "cell_type": "markdown",
   "id": "0a906472-6833-460f-8252-7f9a60a5deaf",
   "metadata": {},
   "source": [
    "We can then initialize the `ComputedReaction` object:"
   ]
  },
  {
   "cell_type": "code",
   "execution_count": null,
   "id": "cfd41176-2109-46fe-aff1-564576d37e8c",
   "metadata": {},
   "outputs": [],
   "source": []
  },
  {
   "cell_type": "markdown",
   "id": "2331d1b0-d095-410a-99d6-3ab0ad56d65e",
   "metadata": {},
   "source": [
    "**Note:** The reaction energy associated with the ComputedReaction object is eV per mole of reaction (i.e. per mole of YMnO$_3$):"
   ]
  },
  {
   "cell_type": "code",
   "execution_count": null,
   "id": "9b2360b2-ae64-4c74-b67e-f6cec522570e",
   "metadata": {},
   "outputs": [],
   "source": []
  },
  {
   "cell_type": "markdown",
   "id": "737670c5-b427-4cc1-9d0b-a421f0245097",
   "metadata": {},
   "source": [
    "However, if we calculate the number of atoms in the reaction we can normalize this to a a **reaction energy per atom** basis:"
   ]
  },
  {
   "cell_type": "code",
   "execution_count": null,
   "id": "818bfa0b-914c-4426-b061-ed5494edf76a",
   "metadata": {},
   "outputs": [],
   "source": []
  },
  {
   "cell_type": "markdown",
   "id": "38fa39be-0f2e-4fc5-a5f2-12bea9356ccf",
   "metadata": {},
   "source": [
    "And now we see that the -0.044 eV/atom reaction energy matches with the result from the `CompoundPhaseDiagram` interface."
   ]
  },
  {
   "cell_type": "markdown",
   "id": "a8e3f14b-80bf-460d-be59-ec045f92fa9d",
   "metadata": {},
   "source": [
    "Note that the `CompoundPhaseDiagram` is also useful for plotting subsections of the convex hull:"
   ]
  },
  {
   "cell_type": "code",
   "execution_count": null,
   "id": "8952f6f0-969c-4c21-a37f-f217fbbf05f8",
   "metadata": {},
   "outputs": [],
   "source": []
  },
  {
   "cell_type": "markdown",
   "id": "3a16dcce-1efa-41f2-8eca-4542967eb957",
   "metadata": {},
   "source": [
    "### 2.4 Incorporating temperature-dependence with a previously derived ML model ($G_{SISSO}$) and expt data\n",
    "\n",
    "The Materials Project contains DFT-calculated energies for commpounds at T=0 K. Since most experimental syntheses take place well above 0 K, it is useful to have some idea of how the phase diagram (and hence reaction energies, relative stabilities, etc.) change with increasing temperature.\n",
    "\n",
    "A recent work by Bartel et al. derived an equation to estimate the Gibbs free energy of formation of solids, $\\Delta G_f(T)$, as a function of temperature using the MP formation enthalpy (T=298 K) as a reference. This has been implemented within pymatgen as the `GibbsComputedStructureEntry` class. Note that this implementation also includes the change in elemental chemical potentials as a function of temperature, as well as as the thermochemistry data for some known gases such as CO$_2$.\n",
    "\n",
    "**Reference**: \n",
    "##### _Bartel, C. J., Millican, S. L., Deml, A. M., Rumptz, J. R., Tumas, W., Weimer, A. W., … Holder, A. M. (2018). Physical descriptor for the Gibbs energy of inorganic crystalline solids and temperature-dependent materials chemistry. Nature Communications, 9(1), 4168. https://doi.org/10.1038/s41467-018-06682-4_"
   ]
  },
  {
   "cell_type": "markdown",
   "id": "d39791e3-7a36-4563-93d3-b36c3ecfb543",
   "metadata": {},
   "source": [
    "We can create the phase diagram at T = 2000 K and compare this to our previous MP (T=298 K) phase diagram. First let's import the module:"
   ]
  },
  {
   "cell_type": "code",
   "execution_count": null,
   "id": "d94d9b29-100f-416a-a096-ba1194ace08b",
   "metadata": {},
   "outputs": [],
   "source": []
  },
  {
   "cell_type": "markdown",
   "id": "c92fcdbf-e3f5-4a85-8a56-662b7ba638dc",
   "metadata": {},
   "source": [
    "Since the entries require phase diagram derived data, it is most convenient to initialize a list of them from a list of regular `ComputedStructureEntry` objects, as below:"
   ]
  },
  {
   "cell_type": "code",
   "execution_count": null,
   "id": "c8f8056c-caa9-470d-a304-963cd825bf7b",
   "metadata": {},
   "outputs": [],
   "source": []
  },
  {
   "cell_type": "markdown",
   "id": "d3bab807-97f1-435c-a35c-a5b9f3b4d1b5",
   "metadata": {},
   "source": [
    "Let's print one of the entries to see what it looks like:"
   ]
  },
  {
   "cell_type": "code",
   "execution_count": null,
   "id": "981f1bb4-1aee-4e0c-bcba-0687f169138c",
   "metadata": {},
   "outputs": [],
   "source": []
  },
  {
   "cell_type": "markdown",
   "id": "7badcc56-b712-49aa-869d-aab0431360a3",
   "metadata": {},
   "source": [
    "Now we can make and plot our phase diagram with the new Gibbs entries:"
   ]
  },
  {
   "cell_type": "code",
   "execution_count": null,
   "id": "b802ce6d-fdd2-47e1-9bc4-ebddd7e1c958",
   "metadata": {},
   "outputs": [],
   "source": []
  },
  {
   "cell_type": "markdown",
   "id": "37b64ceb-f744-4885-abda-22ab0f2c1176",
   "metadata": {},
   "source": [
    "We see that Mn$_2$O$_3$, MnO$_2$, and Y$_2$Mn$_2$O$_7$ are all predicted to become significantly destabilized at higher temperatures. While some of this behavior could arise from differences in solid-state entropies, this is most likely a result of the significant decrease in oxygen chemical potential at high temperatures, which creates more reducing conditions that favor phases containing less oxygen. "
   ]
  },
  {
   "cell_type": "markdown",
   "id": "44170e9a-95d0-47cc-ac25-da182cfc6617",
   "metadata": {},
   "source": [
    "### 2.5 Grand potential phase diagrams for open elements\n",
    "In solid-state synthesis, materials are often synthesized in some type of gaseous environment. This may be an inert gas, flowing/controlled oxygen, etc. A common question in materials synthesis is: **what kind of atmosphere do I need to promote the synthesis of my target material?**\n",
    "\n",
    "For oxides such as YMnO$_3$ this means determining how oxidizing/reducing the environment should be: i.e. determining the partial pressure (and hence chemical potential) of oxygen.\n",
    "\n",
    "In thermodynamics, a system open to an element can be modeled with the grand potential, $\\phi$. For open oxygen, this corresponds to:\n",
    "\n",
    "$$\\phi = G - \\mu_On_O$$\n",
    "\n",
    "We can switch to the grand potential by using the `GrandPotentialPhaseDiagram` within *pymatgen*. From now on, we will use `GibbsComputedStructureEntry` objects, as they are referenced to a standard state where elemental chemical potentials are 0 eV. This helps us better understand chemical potentials as a function of formation energies (rather than DFT energies)."
   ]
  },
  {
   "cell_type": "code",
   "execution_count": null,
   "id": "04e38998-ca70-4f56-bdac-53741465469c",
   "metadata": {},
   "outputs": [],
   "source": []
  },
  {
   "cell_type": "code",
   "execution_count": null,
   "id": "e2b09623-4bb9-4a4e-8c63-0f58a20070aa",
   "metadata": {},
   "outputs": [],
   "source": []
  },
  {
   "cell_type": "code",
   "execution_count": null,
   "id": "46ea75a6-82d2-4901-ab37-24a76222ddd5",
   "metadata": {},
   "outputs": [],
   "source": []
  },
  {
   "cell_type": "markdown",
   "id": "6aa806a9-11d2-454e-8a14-a3c4aaf25b26",
   "metadata": {},
   "source": [
    "From the grand potential phase diagram above, we see that only YMn$_2$O$_5$ and Y$_2$Mn$_2$O$_7$ are stable at a relative oxygen chemical potential of 0 eV at T = 1000 K. This corresponds to flowing (open) oxygen gas at the standard state of pressure of 0.1 MPa (close to 1 atm).\n",
    "\n",
    "Note that the is for a binary system, since we have removed a degree of freedom in fixing the oxygen chemical potential to a specific value."
   ]
  },
  {
   "cell_type": "markdown",
   "id": "3e64f6a5-b0e1-4bd0-ae61-b2042515595c",
   "metadata": {
    "tags": []
   },
   "source": [
    "#### 2.5.2 EXERCISE: Determine oxygen stability window of YMnO$_3$\n",
    "\n",
    "Determine the partial pressure of oxygen (T = 1000 K) where YMnO$_3$ becomes stable.\n",
    "\n",
    "**Hint:** *Determine the chemical potential of oxygen and use the following formula to solve for the pressure:*\n",
    "\n",
    "$$ \\mu - \\mu^0 = k_b T \\ln{\\frac{p}{p_0}} $$"
   ]
  },
  {
   "cell_type": "code",
   "execution_count": null,
   "id": "96643e8d-0aa1-46b2-9ed7-de590cf201fe",
   "metadata": {},
   "outputs": [],
   "source": [
    "from math import exp\n",
    "k = 8.617e-5  # eV/K\n",
    "T = 1000  # K\n",
    "\n",
    "mu_O = _\n",
    "mu_O2 = mu_O * 2  \n",
    "\n",
    "..."
   ]
  },
  {
   "cell_type": "markdown",
   "id": "888675b2-c76e-452a-aa20-c936901767d9",
   "metadata": {},
   "source": [
    "This is quite a low O$_2$ partial pressure. However, note that this value is extremely sensitive to small differences in calculated formation energies for the compounds. \n",
    "\n",
    "Temperature is often an even more powerful driver for oxidizing/reducing conditions than pressure. In fact, at higher temperatures (T = 1400 K), YMnO3 is predicted to be stable even at the standard state (0.1 MPa) pressure."
   ]
  },
  {
   "cell_type": "markdown",
   "id": "79b7daeb-fa38-4391-a376-44be3fb7c8b4",
   "metadata": {},
   "source": [
    "#### 2.5.3 Finding \"critical\" chemical potentials within pymatgen\n",
    "\n",
    "As was hinted at above, all phases on the compositional phase diagram are stable within a certain region of chemical potentials. These do not need to be found manually as above, instead there are methods to solve for them algorithmically. For YMnO$_3$, we get:"
   ]
  },
  {
   "cell_type": "code",
   "execution_count": null,
   "id": "f3bf28b9-c641-4654-aad3-5856221295fe",
   "metadata": {},
   "outputs": [],
   "source": []
  },
  {
   "cell_type": "markdown",
   "id": "0529cabf-b071-4527-b84d-9132bbf9b52b",
   "metadata": {},
   "source": [
    "Note that the upper bound value of chemical potential for oxygen matches what we found in the previous exercise (-0.343 eV)."
   ]
  },
  {
   "cell_type": "markdown",
   "id": "30abf874-183f-425e-bf1f-a1f8b40aefa2",
   "metadata": {},
   "source": [
    "### 2.6 Plotting predominance diagrams"
   ]
  },
  {
   "cell_type": "markdown",
   "id": "a58a570d-0b3f-4081-ac1c-5f6fa43ff55c",
   "metadata": {},
   "source": [
    "The chemical potential ranges over which a phase is stable can be plotted in a new diagram, historically called a predominance diagram. Because one chemical potential is always dependent, we only need 2 dimensions to represent the chemical potential stability regions. These form polygons, which are not necessarily rectangular!\n",
    "\n",
    "**Note:** the -0.343 eV value where YMnO$_3$ becomes stable is actually the tip of the narrow YMnO$_3$ polygon!"
   ]
  },
  {
   "cell_type": "code",
   "execution_count": null,
   "id": "c529ae27-cc76-4786-819a-a6abb8dbd7d1",
   "metadata": {},
   "outputs": [],
   "source": []
  },
  {
   "cell_type": "markdown",
   "id": "d3c74d9d-3d91-4efc-90b0-3cbfb429c494",
   "metadata": {},
   "source": [
    "### 2.7 BONUS: Plotting chemical potential diagrams (adding one more dimension!)\n",
    "\n",
    "It is often even more convenient to visualize all three dimensions within chemical potential space. For this, we can plot a **chemical potential diagram**. For now, this code only exists in the (separate) reaction-network package, but will be added soon to pymatgen."
   ]
  },
  {
   "cell_type": "code",
   "execution_count": null,
   "id": "732624dc-415f-406c-9b74-5f18d8943e05",
   "metadata": {},
   "outputs": [],
   "source": [
    "from rxn_network.thermo.chempot_diagram import ChempotDiagram"
   ]
  },
  {
   "cell_type": "markdown",
   "id": "72addee1-c7fd-46f7-9631-a3cb5e3a0298",
   "metadata": {},
   "source": [
    "To create the diagram, we first need to define some limits on the chemical potential ranges to plot:"
   ]
  },
  {
   "cell_type": "code",
   "execution_count": null,
   "id": "4a4539dd-1911-413e-9bfe-6e7ed3a2cfe7",
   "metadata": {},
   "outputs": [],
   "source": [
    "limits={Element(\"Y\"): (-10, 0),\n",
    "        Element(\"Mn\"): (-10, 0),\n",
    "        Element(\"O\"): (-7, 0)\n",
    "       }"
   ]
  },
  {
   "cell_type": "markdown",
   "id": "3f1d6cca-fb5d-4b6b-9e95-2ad6dec7c2c6",
   "metadata": {},
   "source": [
    "And then we can plot it similar to plotting a conventional phase diagram in pymatgen:"
   ]
  },
  {
   "cell_type": "code",
   "execution_count": null,
   "id": "0a4d9e1f-7c15-4d74-9633-1f1c91433fa6",
   "metadata": {},
   "outputs": [],
   "source": [
    "cd = ChempotDiagram(pd_gibbs, limits=limits)\n",
    "cd.get_plot()"
   ]
  },
  {
   "cell_type": "markdown",
   "id": "20c7a79e-84a5-4199-bbf9-f8d73773a292",
   "metadata": {},
   "source": [
    "From the chemical potential diagram, we can easily see the relative stabilities of each phase and get a visual picture of where the critical chemical potentials are for each phase."
   ]
  },
  {
   "cell_type": "markdown",
   "id": "d7994a26",
   "metadata": {},
   "source": [
    "## 3. Predicting interface reactions between solids"
   ]
  },
  {
   "cell_type": "markdown",
   "id": "35a755cf-fb09-454b-90bb-3b7538ea4220",
   "metadata": {},
   "source": [
    "### 3.1 A simple model of solid-state synthesis\n",
    "\n",
    "In solid-state synthesis, precursor compounds are typically ground/milled into powders of small solid crystallites. These powders are intimately mixed, typically pressed into a pellet, and then heated in a furnace. Typically, solid-state synthesis involves high temperatures (i.e. 1200 ºC) and long heating times (24-72 hrs). However, many reactions can proceed significantly faster (on the order of a few minutes) and at temperatures as low as 400-500ºC. \n",
    "\n",
    "A simple cartoon of solid-state synthesis can be seen below:"
   ]
  },
  {
   "cell_type": "markdown",
   "id": "363cc2b8",
   "metadata": {},
   "source": [
    "<img src=\"assets/interface_rxn.png\" width=\"750\">"
   ]
  },
  {
   "cell_type": "markdown",
   "id": "db0de397-3a57-4921-b1d2-9c0b4bc0d59b",
   "metadata": {},
   "source": [
    "At the interfaces where solid crystallites touch, if the free energy of the system can be decreased by forming a new phase or set of phases, the new phase(s) will nucleate and grow.\n",
    "\n",
    "We can predict the possible reactions between the interface of any two phases by drawing a line (see the red dashed line below) connecting the two phases on the phase diagram. A reaction is given by each point where the connecting line intersects the phase diagram points/lines. \n",
    "\n",
    "In the hypothetical system below, there are two predicted reactions given by the yellow star and green circle -- in this case **the reaction to form $\\gamma$ (green circle) is the most thermodynamically favorable** because it involves the greatest decrease in free energy. However, the reaction given by the yellow star is still favorable and may occur at higher temperatures / later times."
   ]
  },
  {
   "cell_type": "markdown",
   "id": "12f14a01-07ea-4b07-a10d-d66670b37e3a",
   "metadata": {},
   "source": [
    "<img src=\"assets/interface_pd.png\" width=\"900\">"
   ]
  },
  {
   "cell_type": "markdown",
   "id": "89509b56-5c7f-4b84-9a1c-21603aeebf69",
   "metadata": {},
   "source": [
    "### 3.2 Using pymatgen's interface reaction calculator\n",
    "\n",
    "The phase diagram slice approach depicted above has been implemented into pymatgen within the `InterfacialReactivity` class and is available as an app on the MP website. \n",
    "\n",
    "Let's see if we can apply it within the Y-Mn-O chemical system to better understand the synthesis of our YMnO$_3$ target. We will start with plotting the suggested reactions between Y$_2$O$_3$ and Mn$_2$O$_3$:"
   ]
  },
  {
   "cell_type": "code",
   "execution_count": null,
   "id": "bde94c66-fbd4-4b69-bf45-7158059e0854",
   "metadata": {},
   "outputs": [],
   "source": []
  },
  {
   "cell_type": "markdown",
   "id": "8091b86b-401e-4de9-a579-3a6c9a151759",
   "metadata": {},
   "source": [
    "In the plot, we see a new convex hull slice, where each point represents a reaction as a function of the (normalized) ratio of mixing between the two reactants. To see which reactions the plot above corresponds to, we need to extract data about the \"kinks\" within the diagram:"
   ]
  },
  {
   "cell_type": "code",
   "execution_count": null,
   "id": "032293f4-e7c1-415c-99ef-e6c96fc9cc8b",
   "metadata": {},
   "outputs": [],
   "source": [
    "pandas.set_option(\"max_colwidth\", 80)  # make columns wider to see full reaction\n",
    "\n",
    "def get_df_from_interface_rxns(ir):\n",
    "    critical_rxns = [\n",
    "        {\"Atomic fraction\":round(ratio, 3),\n",
    "         \"Reaction\": rxn,\n",
    "            \"E$_{rxn}$ (kJ/mol)\": round(rxn_energy, 1),\n",
    "            \"E$_{rxn}$ (eV/atom)\":round(reactivity, 3)\n",
    "        }\n",
    "        for _, ratio, reactivity, rxn, rxn_energy in ir.get_kinks()\n",
    "    ]\n",
    "    \n",
    "    ir_df = pandas.DataFrame(critical_rxns)\n",
    "    return ir_df"
   ]
  },
  {
   "cell_type": "code",
   "execution_count": null,
   "id": "d3927ffc-3c6a-4f6b-87f2-7a3acdba3663",
   "metadata": {},
   "outputs": [],
   "source": []
  },
  {
   "cell_type": "markdown",
   "id": "e03f5111-0a48-488d-8d81-27811ebe8577",
   "metadata": {},
   "source": [
    "In the table, we see the reactions as a function of the normalized mixing ratio, along with their energy in kJ per mole of reaction, as well as eV per (reactant) atom. \n",
    "\n",
    "It seems that YMnO$_3$ is indeed the major predicted reaction product when Y$_2$O$_3$ and and Mn$_2$O$_3$ are combined in equal molar amounts. However, the reaction forming YMn$_2$O$_5$ and Mn$_3$O$_4$ could still occur to some degree depending on the process by which the synthesis procedure occurs (i.e. initial grain sizes, heating rate, maximum temperature reached, etc.) This is because **there is still a thermodynamic driving force for subsequent interfacial reaction between YMnO$_3$ and any remaining precursor Mn$_2$O$_3$**:"
   ]
  },
  {
   "cell_type": "code",
   "execution_count": null,
   "id": "4f5df932-35c1-4008-b56c-eb8dd53d33ba",
   "metadata": {},
   "outputs": [],
   "source": []
  },
  {
   "cell_type": "markdown",
   "id": "34f8033b-588f-4651-bc92-72a940f5b261",
   "metadata": {},
   "source": [
    "It turns out that this is true again for any Mn$_3$O$_4$ produced, which may react with remaining Y$_2$O$_3$ precursor to make YMnO$_3$ and MnO. The same goes again for MnO and Mn$_2$O$_3$. \n",
    "\n",
    "Just in this simple ternary system, we can already see the **complex (and sometimes unpredictable) behavior associated with reaction pathways within solid-state synthesiss**. To organize this progression of reactions, we choose to create a graph network representation of the possible reaction pathway, such as the one illustrated below:"
   ]
  },
  {
   "cell_type": "markdown",
   "id": "30b207a6-fcf1-4214-b084-591694ff7264",
   "metadata": {},
   "source": [
    "<img src=\"assets/small_rxn_network.png\" width=\"900\">"
   ]
  },
  {
   "cell_type": "markdown",
   "id": "98b8d369-9dbf-4aa1-bf2c-3df4843c2845",
   "metadata": {},
   "source": [
    "Before we can explore this reaction network structure further, however, we need to first discuss how to acquire all possible reactions which may occur within a chemical system."
   ]
  },
  {
   "cell_type": "markdown",
   "id": "48838449",
   "metadata": {},
   "source": [
    "## 4. Enumerating all reactions within a chemical system\n",
    "\n",
    "As we saw above, the possibility of subsequent reactions makes a model for solid-state synthesis quite complex. If we wish to capture this behavior, we first need to be able to enumerate through all possible reactions within a chemical system. These reactions will then be used to construct the reaction network.\n",
    "\n",
    "There are two methods for predicting reactions in a high-throughput manner: \n",
    "\n",
    "1) interface reactions iteration through all possible slices of the full phase diagram (as above)\n",
    "2) brute force trial & error balancing between set of reactants and any set of products\n",
    "\n",
    "Both of these methods are implemented in the *reaction-network* package, which builds reaction network analysis on top of pymatgen:\n",
    "\n",
    "<img src=\"assets/logo.png\" width=\"700\">\n",
    "\n",
    "### 4.1 Minimize Gibbs (interface reaction) approach\n",
    "\n",
    "First, we need to come up with a candidate set of entries. Since we are using the reaction-network package, we are going to initialize the entries using that package's convenience methods:"
   ]
  },
  {
   "cell_type": "code",
   "execution_count": null,
   "id": "e7193f61-ea8f-4050-98fa-c65fc3b414d3",
   "metadata": {},
   "outputs": [],
   "source": []
  },
  {
   "cell_type": "markdown",
   "id": "35a08518-d3ba-40b2-a6db-a00540dbb183",
   "metadata": {},
   "source": [
    "Now, we can initialize the enumerator object:"
   ]
  },
  {
   "cell_type": "code",
   "execution_count": null,
   "id": "9b49a457",
   "metadata": {},
   "outputs": [],
   "source": []
  },
  {
   "cell_type": "markdown",
   "id": "0e441a16-913e-430d-aa27-1c981016b19d",
   "metadata": {},
   "source": [
    "To enumerate reactions, we call `enumerate()` with a list of provided entries. This will return a list of reactions which are computed using the interface reaction method from above:"
   ]
  },
  {
   "cell_type": "code",
   "execution_count": null,
   "id": "9d031289-0ddd-4b05-af93-a6eae371150b",
   "metadata": {},
   "outputs": [],
   "source": []
  },
  {
   "cell_type": "markdown",
   "id": "4fc67868-7ffa-4430-8b76-c652786e3ed1",
   "metadata": {},
   "source": [
    "As before, let's look at these in a DataFrame:"
   ]
  },
  {
   "cell_type": "code",
   "execution_count": null,
   "id": "084f9c0c-60f6-4244-9514-6f3a22f0cc3a",
   "metadata": {},
   "outputs": [],
   "source": [
    "def get_df_from_rxns(rxns):\n",
    "    energies = [r.energy_per_atom for r in rxns]\n",
    "    uncertainties = [r.energy_uncertainty_per_atom.s for r in rxns]\n",
    "    chemsyses = [r.chemical_system for r in rxns]\n",
    "    \n",
    "    data = {\"reaction\": rxns, \"energy\": energies, \"dE\": uncertainties, \"chemsys\": chemsyses}\n",
    "    \n",
    "    return pandas.DataFrame(data).sort_values(\"energy\").reset_index(drop=True)"
   ]
  },
  {
   "cell_type": "code",
   "execution_count": null,
   "id": "817c8641-2f81-416c-acd8-221f5246c757",
   "metadata": {},
   "outputs": [],
   "source": []
  },
  {
   "cell_type": "markdown",
   "id": "d9d1276f-a369-415a-ab28-8ad357647eab",
   "metadata": {},
   "source": [
    "We can plot a histogram of the reaction energies to get an idea of the thermodynamics of the system. Again, we see that Y$_2$O$_3$ is quite stable (the reaction on the far left!). Most reactions, however, are in the -0.4 to 0.0 eV/atom range."
   ]
  },
  {
   "cell_type": "code",
   "execution_count": null,
   "id": "57da22fe-9c31-4a10-ad47-5e4a090942b0",
   "metadata": {},
   "outputs": [],
   "source": []
  },
  {
   "cell_type": "markdown",
   "id": "3a7c2333-4762-4d49-b338-d0ff7a998b17",
   "metadata": {},
   "source": [
    "### 4.2 Brute force (simple) approach\n",
    "\n",
    "Enumerating reactions by brute force may seem like a less advanced approach, but it offers the added benefit that we can identify reactions involving:\n",
    "\n",
    "1) metastable products\n",
    "2) products which are not stable with respect to each other\n",
    "\n",
    "This approach has been implemented with the `BasicEnumerator` class in the reaction-network package:"
   ]
  },
  {
   "cell_type": "code",
   "execution_count": null,
   "id": "272979b8-9fc3-4c44-9a74-a64f272ffe53",
   "metadata": {},
   "outputs": [],
   "source": []
  },
  {
   "cell_type": "markdown",
   "id": "a11f1e51-d8e1-4a16-a23a-ca4d3ad467ac",
   "metadata": {},
   "source": [
    "Let's try using entries up to an energy cutoff of 30 meV/atom above the hull:"
   ]
  },
  {
   "cell_type": "code",
   "execution_count": null,
   "id": "2d2aec68-8ef0-4ad6-8c77-db69b9d201d4",
   "metadata": {},
   "outputs": [],
   "source": []
  },
  {
   "cell_type": "markdown",
   "id": "ca36ff44-08ad-4709-9010-92e00b988710",
   "metadata": {},
   "source": [
    "Now we will enumerate via a brute force approach all reactions within this set of expanded entries. Note that we get both the forward and reverse reactions from this approach, producing a symmetric reaction energy distribution:"
   ]
  },
  {
   "cell_type": "code",
   "execution_count": null,
   "id": "3ae61728-46b0-4b0c-995f-ff9a2284f0b7",
   "metadata": {},
   "outputs": [],
   "source": []
  },
  {
   "cell_type": "code",
   "execution_count": null,
   "id": "fff6b5d7-67af-4d25-b037-db7e86ad799d",
   "metadata": {},
   "outputs": [],
   "source": []
  },
  {
   "cell_type": "code",
   "execution_count": null,
   "id": "28bd72c0-64c8-4a6f-b8ae-f4831e3800fa",
   "metadata": {},
   "outputs": [],
   "source": []
  },
  {
   "cell_type": "markdown",
   "id": "ef9015af-1f63-4e14-acae-55bb2f0b4d89",
   "metadata": {},
   "source": [
    "### 4.3 Enumerating reactions to a specific target or from specific precursors\n",
    "The Enumerator classes also allow for specifying a desired target phase:"
   ]
  },
  {
   "cell_type": "code",
   "execution_count": null,
   "id": "7afe3df8-58ca-4b58-89da-5064ff7875ff",
   "metadata": {},
   "outputs": [],
   "source": []
  },
  {
   "cell_type": "code",
   "execution_count": null,
   "id": "ab773987-ebb5-4f70-877e-e588cc150e98",
   "metadata": {},
   "outputs": [],
   "source": []
  },
  {
   "cell_type": "markdown",
   "id": "4a337f56-cdb1-4900-a6f2-5e1000fb39a2",
   "metadata": {},
   "source": [
    "It is also possible to specify precursors:"
   ]
  },
  {
   "cell_type": "code",
   "execution_count": null,
   "id": "1f6d2252-10c9-42a7-9e58-55e02cf04e99",
   "metadata": {},
   "outputs": [],
   "source": []
  },
  {
   "cell_type": "markdown",
   "id": "9084794e-5c09-40c0-8603-e32b41ecd60e",
   "metadata": {},
   "source": [
    "Or even specify both precursors *and* target:"
   ]
  },
  {
   "cell_type": "code",
   "execution_count": null,
   "id": "d9b46028-b74a-4357-84df-011264681ace",
   "metadata": {},
   "outputs": [],
   "source": []
  },
  {
   "cell_type": "code",
   "execution_count": null,
   "id": "2fcc425b-98af-4b75-b4fa-b9ea6658b3b5",
   "metadata": {},
   "outputs": [],
   "source": []
  },
  {
   "cell_type": "markdown",
   "id": "3183180e-c6d0-4260-ac0c-02a87fcc00fd",
   "metadata": {},
   "source": [
    "### 4.4 BONUS: Enumerating open reactions\n",
    "\n",
    "Since solid-state synthesis often happens in the presence of some kind of gaseous or \"open\" environment, it is also possible to enumerate so-called open reactions where a particular entry is open."
   ]
  },
  {
   "cell_type": "code",
   "execution_count": null,
   "id": "10624ecb-ec49-4cf2-a6b2-cc96c864dd07",
   "metadata": {},
   "outputs": [],
   "source": [
    "from rxn_network.enumerators.basic import BasicOpenEnumerator"
   ]
  },
  {
   "cell_type": "code",
   "execution_count": null,
   "id": "f69eecd8-1987-4ca2-b30f-eb85cd31d906",
   "metadata": {},
   "outputs": [],
   "source": [
    "boe = BasicOpenEnumerator([\"O2\"])\n",
    "open_rxns = boe.enumerate(entries_030)"
   ]
  },
  {
   "cell_type": "code",
   "execution_count": null,
   "id": "4171a307-66bb-4f67-9cf2-b8a28c321f23",
   "metadata": {},
   "outputs": [],
   "source": [
    "get_df_from_rxns(open_rxns)"
   ]
  },
  {
   "cell_type": "markdown",
   "id": "8998b40f-6d8a-47fd-a28f-b7ef4e913e4c",
   "metadata": {},
   "source": [
    "If these reactions involve an open entry that is also an element, then it is possible to recalculate the reaction energy in terms of grand potential:"
   ]
  },
  {
   "cell_type": "code",
   "execution_count": null,
   "id": "09aa1579-a2c1-448d-96d3-a9d12775b110",
   "metadata": {},
   "outputs": [],
   "source": [
    "from rxn_network.reactions.reaction_set import ReactionSet"
   ]
  },
  {
   "cell_type": "code",
   "execution_count": null,
   "id": "5dd7e046-2f10-41a5-bb49-b9b99961a084",
   "metadata": {},
   "outputs": [],
   "source": [
    "rxn_set = ReactionSet.from_rxns(open_rxns)\n",
    "open_rxns_grand = rxn_set.get_rxns(open_elem=Element(\"O\"), chempot=0.0)"
   ]
  },
  {
   "cell_type": "code",
   "execution_count": null,
   "id": "befe7969-3397-4e5b-b149-f71c314a29f3",
   "metadata": {},
   "outputs": [],
   "source": [
    "get_df_from_rxns(open_rxns_grand)"
   ]
  },
  {
   "cell_type": "markdown",
   "id": "00f42989-2738-4ad7-848b-17fa1b24a57c",
   "metadata": {},
   "source": [
    "Similarly, it is also possible to enumerate reactions straight from the grand potential phase diagram:"
   ]
  },
  {
   "cell_type": "code",
   "execution_count": null,
   "id": "7b4fbb82-410a-4600-b45c-a795792bf88a",
   "metadata": {},
   "outputs": [],
   "source": [
    "from rxn_network.enumerators.minimize import MinimizeGrandPotentialEnumerator\n",
    "\n",
    "mgpe = MinimizeGrandPotentialEnumerator(open_elem=Element(\"O\"), mu=0.0)\n",
    "open_rxns2 = mgpe.enumerate(entries_030)"
   ]
  },
  {
   "cell_type": "code",
   "execution_count": null,
   "id": "a8871e15-4885-48a7-853f-3e26cf09cdb0",
   "metadata": {},
   "outputs": [],
   "source": [
    "get_df_from_rxns(open_rxns2)"
   ]
  },
  {
   "cell_type": "markdown",
   "id": "e3b42dc1",
   "metadata": {},
   "source": [
    "## 5. Constructing a reaction network from enumerated reactions\n",
    "\n",
    "Now that we have a way to enumerate all reactions within a chemical system, we'd like to be able to put them in a convenient data structure such that we can learn something. One particular data structure that is helpful for predicting reaction pathways is a **weighted directed graph**. \n",
    "\n",
    "The weighted directed graph, or reaction network, connects all phases within the chemical system via the possible reactions between them. This corresponds to a structure like the following:\n",
    "- **Nodes**: Phase combinations\n",
    "- **Edges**: Reactions\n",
    "- **Edge weights/costs**: Reaction free energies (after monotonic transformation)\n",
    "\n",
    "The function that monotonically transforms reaction free energies to (positive) costs/weights is dubbed a cost function.\n",
    "\n",
    "For more information about this approach, please see the following publication:\n",
    "\n",
    "**Reference:** *McDermott, M. J., Dwaraknath, S. S., and Persson, K. A. (2021). A graph-based network for predicting chemical reaction pathways in solid-state materials synthesis. Nature Communications, 12(1). https://doi.org/10.1038/s41467-021-23339-x*"
   ]
  },
  {
   "cell_type": "markdown",
   "id": "f6ca3afa-1cf3-4bda-9682-612dcbecf80d",
   "metadata": {},
   "source": [
    "Let's start by reacquiring entries for the Y-Mn-O system and filtering for stable entries."
   ]
  },
  {
   "cell_type": "code",
   "execution_count": null,
   "id": "d4235400-91f5-41cf-93e0-7de084ab0dd9",
   "metadata": {},
   "outputs": [],
   "source": []
  },
  {
   "cell_type": "code",
   "execution_count": null,
   "id": "c0555a3a-fc35-445e-966c-d1ab4c75eff6",
   "metadata": {},
   "outputs": [],
   "source": []
  },
  {
   "cell_type": "markdown",
   "id": "4c63998c-8585-4936-9cb1-90e04803c63a",
   "metadata": {},
   "source": [
    "Now we specify the enumerator(s) and cost function to use in the network construction. At the moment, only the softplus function is implemented."
   ]
  },
  {
   "cell_type": "code",
   "execution_count": null,
   "id": "ca93175c-d592-4324-81b4-88044411be05",
   "metadata": {},
   "outputs": [],
   "source": []
  },
  {
   "cell_type": "markdown",
   "id": "e55db285-cda7-4def-91b3-fa2ddc7d0c67",
   "metadata": {},
   "source": [
    "We need to import the `logging` package to get information about the network creation process:"
   ]
  },
  {
   "cell_type": "code",
   "execution_count": null,
   "id": "9cd3d036-f75d-4b99-a45a-a9cc0b9bb952",
   "metadata": {},
   "outputs": [],
   "source": []
  },
  {
   "cell_type": "markdown",
   "id": "f29d70d4-5ef6-4bfb-9d42-555d63815fb8",
   "metadata": {},
   "source": [
    "We then initialize our reaction network object:"
   ]
  },
  {
   "cell_type": "code",
   "execution_count": null,
   "id": "4aed4304-8e44-4cc1-b034-766cf5df3036",
   "metadata": {},
   "outputs": [],
   "source": []
  },
  {
   "cell_type": "markdown",
   "id": "91f6192d-3e65-4289-a2c2-85ca33a960a6",
   "metadata": {},
   "source": [
    "The network can be built by calling `build()`. This runs through each enumerator provided, and constructs the reaction network structure within the _graph-tool_ package. The graph object is stored under the `graph` attribute."
   ]
  },
  {
   "cell_type": "code",
   "execution_count": null,
   "id": "9ff0ce9f-a591-4a5e-8910-2c4cb2cea258",
   "metadata": {},
   "outputs": [],
   "source": []
  },
  {
   "cell_type": "code",
   "execution_count": null,
   "id": "f0bbded8-6aa5-4584-822c-014747d994ed",
   "metadata": {},
   "outputs": [],
   "source": []
  },
  {
   "cell_type": "markdown",
   "id": "d60c3010-0f17-4424-8ca2-0b3be9e57fdf",
   "metadata": {},
   "source": [
    "To perform pathfinding, we first need to set the precursors and target defining the particular synthesis procedure we are interested in. For now, let's look at the synthesis of YMnO3 from the starting binary oxides, Y2O3 and Mn2O3. We first acquire the entries from the set of entries by providing the formula:"
   ]
  },
  {
   "cell_type": "code",
   "execution_count": null,
   "id": "8523face-761a-42cd-8772-5399ebb5a5d8",
   "metadata": {},
   "outputs": [],
   "source": []
  },
  {
   "cell_type": "markdown",
   "id": "cc5b526b-9417-4078-93ca-bee0900295cc",
   "metadata": {},
   "source": [
    "And then we set the precursors and target nodes:"
   ]
  },
  {
   "cell_type": "code",
   "execution_count": null,
   "id": "ddfcf6d8-7432-49c6-85a3-69b25caed13e",
   "metadata": {},
   "outputs": [],
   "source": []
  },
  {
   "cell_type": "markdown",
   "id": "6ff9f9af-d5f9-47b6-8aa7-1b85e810888d",
   "metadata": {},
   "source": [
    "We can also draw a cartoon illustration of what this reaction network looks like:"
   ]
  },
  {
   "cell_type": "code",
   "execution_count": null,
   "id": "2be09cae-2c5f-4c4a-b12c-06d3dd8b08cd",
   "metadata": {},
   "outputs": [],
   "source": []
  },
  {
   "cell_type": "markdown",
   "id": "32b57f92-7fb6-418d-b2a5-85b43d8e3caf",
   "metadata": {},
   "source": [
    "We can perform simple pathfinding between the precursors node and target node. This finds the k-shortest paths between our precursors and target, which yields a sequence of reaction steps. **Note: these are not necessarily mass balanced!**"
   ]
  },
  {
   "cell_type": "code",
   "execution_count": null,
   "id": "04d6b966-9bcc-4b1c-aa27-271d3a35b61a",
   "metadata": {},
   "outputs": [],
   "source": []
  },
  {
   "cell_type": "markdown",
   "id": "67a184f4",
   "metadata": {},
   "source": [
    "## 6. BONUS: Finding and balancing reaction pathways from a real experiment\n",
    "\n",
    "In 2019, Todd et al. reported the synthesis of YMnO3 through an \"assisted metathesis\" approach corresponding to the following reaction equation:\n",
    "\n",
    "$$ Mn_2O_3 + 2 YCl_3 + 3 Li_2CO_3 \\rightarrow 2 YMnO_3 + 6 LiCl + 3 CO_2 $$\n",
    "\n",
    "They also observed the following progression of phases, as determined via in situ X-ray diffraction on a synchrotron beamline:"
   ]
  },
  {
   "cell_type": "markdown",
   "id": "5e5adaec-8bc6-460f-b3db-ee96825027fd",
   "metadata": {},
   "source": [
    "<img src=\"assets/ymno3.png\" width=\"500\">\n",
    "\n",
    "**Reference:** *Todd, P. K., Smith, A. M., &amp; Neilson, J. R. (2019). Yttrium manganese oxide phase stability and selectivity using lithium carbonate assisted metathesis reactions. Inorganic Chemistry, 58(22), 15166–15174. https://doi.org/10.1021/acs.inorgchem.9b02075*"
   ]
  },
  {
   "cell_type": "markdown",
   "id": "630084b7-1cfb-4988-9c73-5c872483d30c",
   "metadata": {},
   "source": [
    "To model this synthesis, we first acquire the entries for the entire 6-element chemical system from MP:"
   ]
  },
  {
   "cell_type": "code",
   "execution_count": null,
   "id": "df2ca2e3-8177-4432-a3dc-53eb31305209",
   "metadata": {},
   "outputs": [],
   "source": [
    "with MPRester() as mpr:\n",
    "    entries = mpr.get_entries_in_chemsys(\"Y-Mn-O-Li-Cl-C\")"
   ]
  },
  {
   "cell_type": "markdown",
   "id": "aa54cbb7-ae72-4b70-8388-8354d3353759",
   "metadata": {},
   "source": [
    "And we filter this entries by a stability filter of 20 meV/atom at T = 650 ºC:"
   ]
  },
  {
   "cell_type": "code",
   "execution_count": null,
   "id": "bfb36d50-09b9-4403-8a00-68cac5dee17d",
   "metadata": {},
   "outputs": [],
   "source": [
    "temp = 650 + 273\n",
    "gibbs_entries = GibbsEntrySet.from_entries(entries, temperature=temp).filter_by_stability(0.020)"
   ]
  },
  {
   "cell_type": "markdown",
   "id": "9d5e77fa-6b24-4386-8fad-adb05fdb7d55",
   "metadata": {},
   "source": [
    "We then designate the enumerator, cost function, and build the network. This may take a minute!"
   ]
  },
  {
   "cell_type": "code",
   "execution_count": null,
   "id": "c1d8c272-f780-4371-ab4d-805c51f2b3ba",
   "metadata": {},
   "outputs": [],
   "source": [
    "be = BasicEnumerator()\n",
    "cf = Softplus(temp=temp)"
   ]
  },
  {
   "cell_type": "code",
   "execution_count": null,
   "id": "f3d49f20-c770-475c-aa94-f22cdee0c08f",
   "metadata": {},
   "outputs": [],
   "source": [
    "rn = ReactionNetwork(gibbs_entries, [be], cf)"
   ]
  },
  {
   "cell_type": "code",
   "execution_count": null,
   "id": "4289e633-09e7-4028-a750-48c5b382f1fc",
   "metadata": {},
   "outputs": [],
   "source": [
    "rn.build()"
   ]
  },
  {
   "cell_type": "markdown",
   "id": "bcb363fb-2698-4285-a961-b1e6dfa266d5",
   "metadata": {},
   "source": [
    "As before, we then set the precursors:"
   ]
  },
  {
   "cell_type": "code",
   "execution_count": null,
   "id": "3442e678-711b-4384-bec9-3545a31c81db",
   "metadata": {},
   "outputs": [],
   "source": [
    "rn.set_precursors([gibbs_entries.get_min_entry_by_formula(\"Li2CO3\"), \n",
    "                   gibbs_entries.get_min_entry_by_formula(\"Mn2O3\"), \n",
    "                   gibbs_entries.get_min_entry_by_formula(\"YCl3\")])"
   ]
  },
  {
   "cell_type": "markdown",
   "id": "761dd3bb-c91d-4dc5-8cc9-8419c7db0863",
   "metadata": {},
   "source": [
    "And then we perform pathfinding to all three targets simultaneously:"
   ]
  },
  {
   "cell_type": "code",
   "execution_count": null,
   "id": "853f7114",
   "metadata": {},
   "outputs": [],
   "source": [
    "paths = rn.find_pathways([\"YMnO3\",\"LiCl\",\"CO2\"], k=10)"
   ]
  },
  {
   "cell_type": "markdown",
   "id": "6788880e-a790-401b-88a7-e3bfd1ab88f4",
   "metadata": {},
   "source": [
    "Finally, we must enforce mass balance to filter out unfeasbile pathways. To do this, we import and use the `PathwaySolver` class:"
   ]
  },
  {
   "cell_type": "code",
   "execution_count": null,
   "id": "fb7aa499-6962-4f44-8e9f-e3866052bba8",
   "metadata": {},
   "outputs": [],
   "source": [
    "from rxn_network.pathways.solver import PathwaySolver\n",
    "from rxn_network.reactions.computed import ComputedReaction\n",
    "\n",
    "ps = PathwaySolver(rn.entries, paths, Softplus(1000))"
   ]
  },
  {
   "cell_type": "markdown",
   "id": "b1b7b2d7-8867-458c-a0b3-427e94317be8",
   "metadata": {},
   "source": [
    "The `PathwaySolver` takes a net reaction by which to enforce mass balance, i.e. total consumption of all produced intermediates. This corresponds to the previous reaction formula we showed. We can create a `ComputedReaction` object by finding the relevant entries and providing them to the reaction constructor:"
   ]
  },
  {
   "cell_type": "code",
   "execution_count": null,
   "id": "7c979021-dbe0-48cc-911f-f920fe26490f",
   "metadata": {},
   "outputs": [],
   "source": [
    "product_entries = []\n",
    "\n",
    "for i in [\"YMnO3\", \"LiCl\", \"CO2\"]:\n",
    "    product_entries.append(gibbs_entries.get_min_entry_by_formula(i))"
   ]
  },
  {
   "cell_type": "code",
   "execution_count": null,
   "id": "bda0fce2-a0ea-46d4-926c-a6a6080b1d43",
   "metadata": {},
   "outputs": [],
   "source": [
    "net_rxn = ComputedReaction.balance(rn.precursors,product_entries)\n",
    "print(net_rxn)"
   ]
  },
  {
   "cell_type": "markdown",
   "id": "57b02163-0e16-45f3-add3-46fa83d606ef",
   "metadata": {},
   "source": [
    "Finally, we solve for the balanced paths and print them. This may take a minute!"
   ]
  },
  {
   "cell_type": "code",
   "execution_count": null,
   "id": "2a8e5276-bfbf-4cdb-bc8c-c30619d8caaf",
   "metadata": {},
   "outputs": [],
   "source": [
    "balanced_paths = ps.solve(net_rxn)"
   ]
  },
  {
   "cell_type": "markdown",
   "id": "5c027d9e-fe72-40f7-83dc-3631e7e91f57",
   "metadata": {},
   "source": [
    "The final balanced pathways can be printed, as below:"
   ]
  },
  {
   "cell_type": "code",
   "execution_count": null,
   "id": "7262c983-2fc0-4b91-b619-c568ddfeb658",
   "metadata": {},
   "outputs": [],
   "source": [
    "for p in balanced_paths:\n",
    "    print(p, \"\\n\")"
   ]
  },
  {
   "cell_type": "markdown",
   "id": "8d05bc25-62f9-4682-9090-a69dc80ddb2a",
   "metadata": {},
   "source": [
    "As we see, the balanced pathways reported capture many of the experimentally observed intermediates and reaction steps!\n",
    "\n",
    "For more information or questions regarding this lesson, please contact **mcdermott [at] lbl.gov** Thank you!"
   ]
  }
 ],
 "metadata": {
  "kernelspec": {
   "display_name": "Python 3 (ipykernel)",
   "language": "python",
   "name": "python3"
  },
  "language_info": {
   "codemirror_mode": {
    "name": "ipython",
    "version": 3
   },
   "file_extension": ".py",
   "mimetype": "text/x-python",
   "name": "python",
   "nbconvert_exporter": "python",
   "pygments_lexer": "ipython3",
   "version": "3.9.5"
  }
 },
 "nbformat": 4,
 "nbformat_minor": 5
}
