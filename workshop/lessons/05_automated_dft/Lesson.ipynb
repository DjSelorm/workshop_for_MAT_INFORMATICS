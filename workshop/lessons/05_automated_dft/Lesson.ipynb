{
 "cells": [
  {
   "cell_type": "markdown",
   "metadata": {},
   "source": [
    "# Automated DFT\n",
    "\n",
    "This lesson focuses on key concepts necessary to run automated Density Functional Theory (DFT) workflows using our atomate code. We begin by focusing on using pymatgen to build inputs and parsing outputs of DFT calculations. We will finish by going through a demonstration of using atomate to run DFT calculations.\n",
    "\n",
    "\n",
    "## Core Concepts\n",
    "- **Writing Input Files** - There is an enitre module in pymatgen devoted to reading and writing the input and output files of other codes to assist in calculation automation.\n",
    "- **Parsing Output Files** - Similar to handling input files, pymatgen also supports parsing output files. This machinery is also used by automate to parse entire output directories.\n",
    "- **Database Automation** - Atomate combines everything needed to automate running DFT calculations and storing them in a database."
   ]
  },
  {
   "cell_type": "markdown",
   "metadata": {},
   "source": [
    "## Lesson 1: Writing Input Files with Pymatgen\n",
    "\n",
    "For the first lesson we'll focus on using pymatgen to simplfy interfacing with DFT codes. Pymatgen has a IO (input/output) module which has methods to parse and write files that are compatible with a number of external codes. These external codes are written in coding languages other than python (e.g. Fortran, C, C++, etc.) but pymatgen's IO module allows us to interface with them all through python. These include:\n",
    "\n",
    "- AbInit\n",
    "- EXCITING\n",
    "- FEFF\n",
    "- LAMMPS\n",
    "- Lobster\n",
    "- QChem\n",
    "- VASP\n",
    "- ATAT\n",
    "- Gaussian\n",
    "- NWCHem\n",
    "- ShengBTE\n",
    "- Wannier90\n",
    "- Zeo++\n",
    "\n",
    "For today's lesson, we will focus on one of these codes, VASP (Vienna Ab initio Simulation Package), which is a DFT code for atomic scale materials modeling. VASP is the DFT code used by the Materials Project for inorganic crystals. We will also use a second DFT code, Q-Chem, in the exercises which is used by the Materials Project for molecules."
   ]
  },
  {
   "cell_type": "markdown",
   "metadata": {},
   "source": [
    "### POSCAR Demonstration\n",
    "Let's begin by obtaining a silicon structure to use in today's lesson. We will import this structure from a CIF (Crystallographic Information File) file which is not compatible with many DFT codes."
   ]
  },
  {
   "cell_type": "code",
   "execution_count": null,
   "metadata": {},
   "outputs": [],
   "source": [
    "from pymatgen.core import Structure\n",
    "struct = Structure.from_file(filename=\"./example_files/Si.CIF\")\n",
    "print(struct)"
   ]
  },
  {
   "cell_type": "markdown",
   "metadata": {},
   "source": [
    "VASP has 4 types of input files that must be provided by the user to run a calculation:\n",
    "* INCAR: specifies modeling parameters (how to run the calculation)\n",
    "* POSCAR: provides atomic structure\n",
    "* KPOINTS: outlines points for sampling space in the simulation cell\n",
    "* POTCAR: describes how to simulate electrons via pseudopotentials\n",
    "\n",
    "Pymatgen has python objects for representing each type of input file. For this lesson, we will first focus on the POSCAR to demonstrate the capabilties of these python objects."
   ]
  },
  {
   "cell_type": "code",
   "execution_count": null,
   "metadata": {
    "scrolled": true
   },
   "outputs": [
    {
     "name": "stdout",
     "output_type": "stream",
     "text": [
      "Al16 Cr10\n",
      "1.0\n",
      "7.417988 0.000000 -2.655322\n",
      "-3.770804 6.388081 -2.655321\n",
      "0.000000 0.000000 7.878914\n",
      "Al Cr\n",
      "16 10\n",
      "direct\n",
      "0.696455 0.696455 0.696455 Al\n",
      "0.646563 0.002044 0.646563 Al\n",
      "0.646563 0.646563 0.002044 Al\n",
      "0.002044 0.646563 0.646563 Al\n",
      "0.336523 0.558569 0.336523 Al\n",
      "0.336523 0.336523 0.558569 Al\n",
      "0.558569 0.336523 0.336523 Al\n",
      "0.734771 0.383622 0.734771 Al\n",
      "0.734771 0.734771 0.383622 Al\n",
      "0.383622 0.734771 0.734771 Al\n",
      "0.280797 0.666745 0.038053 Al\n",
      "0.038053 0.280797 0.666745 Al\n",
      "0.666745 0.038053 0.280797 Al\n",
      "0.666745 0.280797 0.038053 Al\n",
      "0.038053 0.666745 0.280797 Al\n",
      "0.280797 0.038053 0.666745 Al\n",
      "0.151124 0.151124 0.151124 Cr\n",
      "0.015343 0.797266 0.015343 Cr\n",
      "0.015343 0.015343 0.797266 Cr\n",
      "0.797266 0.015343 0.015343 Cr\n",
      "0.987828 0.333690 0.987828 Cr\n",
      "0.987828 0.987828 0.333690 Cr\n",
      "0.333690 0.987828 0.987828 Cr\n",
      "0.365023 0.015932 0.365023 Cr\n",
      "0.365023 0.365023 0.015932 Cr\n",
      "0.015932 0.365023 0.365023 Cr\n",
      "\n"
     ]
    }
   ],
   "source": [
    "from pymatgen.io.vasp.inputs import Poscar"
   ]
  },
  {
   "cell_type": "markdown",
   "metadata": {},
   "source": [
    "Let's obtain a Poscar python object using the silicon structure object from before. "
   ]
  },
  {
   "cell_type": "code",
   "execution_count": null,
   "metadata": {},
   "outputs": [],
   "source": [
    "poscar = Poscar(structure=struct,comment=\"silicon\")\n",
    "print(poscar)"
   ]
  },
  {
   "cell_type": "markdown",
   "metadata": {},
   "source": [
    "Since we can construct POSCARs from any structure object, we can make modifications to structure objects (make supercells, remove atoms to form defects, etc.) and construct complex structures (e.g. heterostructures, adsorbates on surfaces, etc.) all using pymatgen before turning the structure into a POSCAR file. \n",
    "\n",
    "In this Poscar object there is a full pymatgen structure that we can manipulate pythonically. To demonstrate, let's introduce a defect by removing the first site. To check our work, we can print out the number of sites in our original struct (8) and the Poscar structure (7)."
   ]
  },
  {
   "cell_type": "code",
   "execution_count": null,
   "metadata": {},
   "outputs": [],
   "source": [
    "poscar.structure.remove_sites([0])"
   ]
  },
  {
   "cell_type": "code",
   "execution_count": null,
   "metadata": {},
   "outputs": [],
   "source": [
    "print(struct.num_sites,poscar.structure.num_sites)"
   ]
  },
  {
   "cell_type": "markdown",
   "metadata": {},
   "source": [
    "When your structure is ready, in order to obtain our POSCAR file for running VASP, the Poscar object has a method for writing it out as a file."
   ]
  },
  {
   "cell_type": "code",
   "execution_count": null,
   "metadata": {},
   "outputs": [],
   "source": [
    "poscar.write_file(filename=\"POSCAR\")"
   ]
  },
  {
   "cell_type": "markdown",
   "metadata": {},
   "source": [
    "Another useful method is getting a Poscar object from a POSCAR file that has already been written. Note you are able to import a compressed file without unzipping it."
   ]
  },
  {
   "cell_type": "code",
   "execution_count": null,
   "metadata": {
    "scrolled": true
   },
   "outputs": [
    {
     "name": "stdout",
     "output_type": "stream",
     "text": [
      "Al16 Cr10\n",
      "1.0\n",
      "7.430657 -0.067234 -2.618797\n",
      "-3.680038 6.455734 -2.618797\n",
      "-0.039473 -0.067234 7.878528\n",
      "Al Cr\n",
      "16 10\n",
      "direct\n",
      "0.696455 0.696455 0.696455 Al\n",
      "0.646563 0.002044 0.646563 Al\n",
      "0.646563 0.646563 0.002044 Al\n",
      "0.002044 0.646563 0.646563 Al\n",
      "0.336523 0.558569 0.336523 Al\n",
      "0.336523 0.336523 0.558569 Al\n",
      "0.558569 0.336523 0.336523 Al\n",
      "0.734771 0.383622 0.734771 Al\n",
      "0.734771 0.734771 0.383622 Al\n",
      "0.383622 0.734771 0.734771 Al\n",
      "0.280797 0.666745 0.038053 Al\n",
      "0.038053 0.280797 0.666745 Al\n",
      "0.666745 0.038053 0.280797 Al\n",
      "0.666745 0.280797 0.038053 Al\n",
      "0.038053 0.666745 0.280797 Al\n",
      "0.280797 0.038053 0.666745 Al\n",
      "0.151124 0.151124 0.151124 Cr\n",
      "0.015343 0.797266 0.015343 Cr\n",
      "0.015343 0.015343 0.797266 Cr\n",
      "0.797266 0.015343 0.015343 Cr\n",
      "0.987828 0.333690 0.987828 Cr\n",
      "0.987828 0.987828 0.333690 Cr\n",
      "0.333690 0.987828 0.987828 Cr\n",
      "0.365023 0.015932 0.365023 Cr\n",
      "0.365023 0.365023 0.015932 Cr\n",
      "0.015932 0.365023 0.365023 Cr\n",
      "\n"
     ]
    },
    {
     "name": "stderr",
     "output_type": "stream",
     "text": [
      "/Users/shyamd/Dropbox/Codes/pymatgen/pymatgen/io/vasp/inputs.py:1853: UnknownPotcarWarning: POTCAR with symbol Al has metadata that does not match                          any VASP POTCAR known to pymatgen. The data in this                          POTCAR is known to match the following functionals:                          ['PBE']\n",
      "  warnings.warn(\"POTCAR with symbol {} has metadata that does not match\\\n",
      "/Users/shyamd/Dropbox/Codes/pymatgen/pymatgen/io/vasp/inputs.py:1853: UnknownPotcarWarning: POTCAR with symbol Cr_pv has metadata that does not match                          any VASP POTCAR known to pymatgen. The data in this                          POTCAR is known to match the following functionals:                          ['PBE']\n",
      "  warnings.warn(\"POTCAR with symbol {} has metadata that does not match\\\n"
     ]
    }
   ],
   "source": [
    "poscar_from_file = Poscar.from_file(filename=\"./example_files/POSCAR.gz\")\n",
    "print(poscar_from_file)"
   ]
  },
  {
   "cell_type": "markdown",
   "metadata": {
    "scrolled": true
   },
   "source": [
    "All the python objects for VASP inputs (INCAR, POSCAR, KPOINTS, POTCAR) have similar methods for initiating the object and writing out files. See the pymatgen documentation for more details: https://pymatgen.org/_modules/pymatgen/io/vasp/inputs.html"
   ]
  },
  {
   "cell_type": "markdown",
   "metadata": {},
   "source": [
    "### Input Sets\n",
    "\n",
    "It can still take quite some effort to explicitly generate each input file needed for calculation. To further automatation, pymatgen builds upon these pieces to generate `InputSets`. InputSets are objects that provide default parameters to perform a specific kind of calcualtion. Pymatgen has several InputSets including ones with the default paramters used for MP calculations. But it is also possible to define your own InputSet that lets you build new calculations using the parameters you want.\n",
    "\n",
    "Let's continue with our silicon structure from before. To generate the remaining input files needed for a VASP calculation, let's use an InputSet object. To perform a structure relaxation, we can import the parameters used in the Materials Project from `MPRelaxSet`."
   ]
  },
  {
   "cell_type": "code",
   "execution_count": null,
   "metadata": {},
   "outputs": [],
   "source": [
    "from pymatgen.io.vasp.sets import MPRelaxSet"
   ]
  },
  {
   "cell_type": "markdown",
   "metadata": {},
   "source": [
    "Note all we need to initiate the MPRelaxSet InputSet is a structure object. All the information we need to generate the four VASP input files can be determined from the provided structure."
   ]
  },
  {
   "cell_type": "code",
   "execution_count": null,
   "metadata": {},
   "outputs": [],
   "source": [
    "relax_set = MPRelaxSet(structure=struct)"
   ]
  },
  {
   "cell_type": "markdown",
   "metadata": {},
   "source": [
    "We can access the pythonic object for each of the VASP Input files (INCAR, POSCAR, KPOINTS, POTCAR) from our InputSet object."
   ]
  },
  {
   "cell_type": "code",
   "execution_count": null,
   "metadata": {},
   "outputs": [],
   "source": [
    "relax_set.incar"
   ]
  },
  {
   "cell_type": "code",
   "execution_count": null,
   "metadata": {},
   "outputs": [],
   "source": [
    "relax_set.poscar"
   ]
  },
  {
   "cell_type": "code",
   "execution_count": null,
   "metadata": {},
   "outputs": [],
   "source": [
    "relax_set.kpoints"
   ]
  },
  {
   "cell_type": "code",
   "execution_count": null,
   "metadata": {},
   "outputs": [],
   "source": [
    "relax_set.potcar.as_dict()"
   ]
  },
  {
   "cell_type": "markdown",
   "metadata": {},
   "source": [
    "InputSet has a `.write_input()` method which will write out all the VASP input files we need to run a structure optimization for our silicon structure. Let's specify writing our input files to a directory as if we were going to launch VASP from that directory.\n",
    "\n",
    "Note we will also set the `potcar_spec=True` flag to avoid writing an actual POTCAR file (which is composed from POTCAR files that can only be distrubuted under a VASP license). By default, POTCARs will be written based on POTCARs specifed by the environment variable `PMG_VASP_PSP_DIR`."
   ]
  },
  {
   "cell_type": "code",
   "execution_count": null,
   "metadata": {},
   "outputs": [],
   "source": [
    "relax_set.write_input(output_dir=\"./Si_MPRelaxSet\",potcar_spec=True)"
   ]
  },
  {
   "cell_type": "markdown",
   "metadata": {},
   "source": [
    "## Lesson 2: Parsing Output Files\n",
    "\n",
    "Once, you've run VASP, you'll need to parse the VASP outputs to get the data you want. VASP makes a number of output files: \n",
    "\n",
    "- WAVECAR\n",
    "- CHGCAR\n",
    "- OUTCAR\n",
    "- vasprun.xml\n",
    "- PROCAR\n",
    "- And more ...\n",
    "\n",
    "Please read the [VASP documentation](https://www.vasp.at/wiki/index.php/The_VASP_Manual) for descriptions of what these all are. \n",
    "\n",
    "### Vasprun Demonstration\n",
    "\n",
    "For this portion of the lesson, we'll focus on vasprun.xml in the VASP_Al16Cr10_example directory. Similar to how pymatgen has objects corresponding to VASP input files, pymatgen has a `Vasprun` python object for parsing the outputs contained in vasprun.xml files."
   ]
  },
  {
   "cell_type": "code",
   "execution_count": 7,
   "metadata": {},
   "outputs": [],
   "source": [
    "from pymatgen.io.vasp.outputs import Vasprun\n",
    "\n",
    "vrun = Vasprun(filename=\"./example_VASP_Al16Cr10/vasprun.xml.gz\")"
   ]
  },
  {
   "cell_type": "markdown",
   "metadata": {},
   "source": [
    "Since Vasprun objects has most of the information that VASP can provide, this one object is often enough to parse a full VASP calculation. Use Shift+Tab to check out the properties from the Vasprun object. \n",
    "\n",
    "For example, we can check if the calculation is converged as well as the the final structure and energy after the structure optimization was finished."
   ]
  },
  {
   "cell_type": "code",
   "execution_count": 8,
   "metadata": {},
   "outputs": [
    {
     "data": {
      "text/plain": [
       "'5.4.4.18Apr17-6-g9f103f2a35'"
      ]
     },
     "execution_count": 8,
     "metadata": {},
     "output_type": "execute_result"
    }
   ],
   "source": [
    "vrun.converged"
   ]
  },
  {
   "cell_type": "markdown",
   "metadata": {},
   "source": [
    "We can see what actual kpoints VASP used when it auto-generated it's mesh to run DFT on:"
   ]
  },
  {
   "cell_type": "code",
   "execution_count": 9,
   "metadata": {
    "scrolled": true
   },
   "outputs": [
    {
     "data": {
      "text/plain": [
       "[[0.0, 0.0, 0.0],\n",
       " [0.33333333, -0.0, -0.0],\n",
       " [0.0, 0.33333333, 0.0],\n",
       " [0.33333333, 0.33333333, 0.0],\n",
       " [-0.33333333, 0.33333333, 0.0],\n",
       " [0.0, -0.0, 0.33333333],\n",
       " [0.33333333, -0.0, 0.33333333],\n",
       " [-0.33333333, 0.0, 0.33333333],\n",
       " [0.0, 0.33333333, 0.33333333],\n",
       " [0.33333333, 0.33333333, 0.33333333],\n",
       " [-0.33333333, 0.33333333, 0.33333333],\n",
       " [-0.0, -0.33333333, 0.33333333],\n",
       " [0.33333333, -0.33333333, 0.33333333],\n",
       " [-0.33333333, -0.33333333, 0.33333333]]"
      ]
     },
     "execution_count": 9,
     "metadata": {},
     "output_type": "execute_result"
    }
   ],
   "source": [
    "vrun.final_structure"
   ]
  },
  {
   "cell_type": "markdown",
   "metadata": {},
   "source": [
    "We can also look at the final energy"
   ]
  },
  {
   "cell_type": "code",
   "execution_count": 10,
   "metadata": {
    "scrolled": true
   },
   "outputs": [
    {
     "data": {
      "text/plain": [
       "-157.80974238"
      ]
     },
     "execution_count": 10,
     "metadata": {},
     "output_type": "execute_result"
    }
   ],
   "source": [
    "vrun.final_energy"
   ]
  },
  {
   "cell_type": "markdown",
   "metadata": {},
   "source": [
    "Another useful set of data is stored under `.ionic_steps` because this contains information on how the calculation progressed during each ionic step in the structure optimization.\n",
    "\n",
    "We can check how many ionic steps were taken and what properties are stored for each ionic step. "
   ]
  },
  {
   "cell_type": "markdown",
   "metadata": {},
   "source": [
    "Or even the progress of VASP as it optimized the structure"
   ]
  },
  {
   "cell_type": "code",
   "execution_count": 11,
   "metadata": {},
   "outputs": [
    {
     "data": {
      "text/plain": [
       "4"
      ]
     },
     "execution_count": 11,
     "metadata": {},
     "output_type": "execute_result"
    }
   ],
   "source": [
    "len(vrun.ionic_steps)"
   ]
  },
  {
   "cell_type": "code",
   "execution_count": 12,
   "metadata": {},
   "outputs": [
    {
     "data": {
      "text/plain": [
       "dict_keys(['e_fr_energy', 'e_wo_entrp', 'e_0_energy', 'forces', 'stress', 'electronic_steps', 'structure'])"
      ]
     },
     "execution_count": 12,
     "metadata": {},
     "output_type": "execute_result"
    }
   ],
   "source": [
    "vrun.ionic_steps[0].keys()"
   ]
  },
  {
   "cell_type": "markdown",
   "metadata": {},
   "source": [
    "By looping through we can see how many electronic steps were taken during each ionic step and how many electronic steps were required."
   ]
  },
  {
   "cell_type": "code",
   "execution_count": null,
   "metadata": {},
   "outputs": [],
   "source": [
    "for i in vrun.ionic_steps:\n",
    "    print(i[\"e_fr_energy\"] ,len(i[\"electronic_steps\"]))"
   ]
  },
  {
   "cell_type": "markdown",
   "metadata": {},
   "source": [
    "### Parsing Directories with Atomate Drones\n",
    "\n",
    "To take parsing outputs from external codes one step further, we will introduce the concept of `drones` from the python code package, `atomate`. Pymatgen provides methods for parsing individual output files. Atomate drones combine these capabilities to parse entire output calculation directories and has an `.assimilate()` methode to produce a dictionary summarizing the results. This dictionary representation is helpful because it can be stored in a database as done with the Materials Project."
   ]
  },
  {
   "cell_type": "code",
   "execution_count": null,
   "metadata": {},
   "outputs": [],
   "source": [
    "from atomate.vasp.drones import VaspDrone"
   ]
  },
  {
   "cell_type": "code",
   "execution_count": null,
   "metadata": {},
   "outputs": [],
   "source": [
    "drone = VaspDrone()"
   ]
  },
  {
   "cell_type": "code",
   "execution_count": null,
   "metadata": {},
   "outputs": [],
   "source": [
    "task_doc = drone.assimilate(path=\"./example_VASP_Al16Cr10\")\n",
    "print(task_doc.keys())"
   ]
  },
  {
   "cell_type": "markdown",
   "metadata": {},
   "source": [
    "## Lesson 3: Automating DFT with Atomate\n",
    "\n",
    "The final section of this lesson focuses on automating DFT using our `atomate` code. `atomate` is a set of recipes for computing properties for both molecules and structures. The workflows in `atomate` run on `fireworks`, our workflow management software. `fireworks` stores workflow information and calculation summaries in MongoDB. Using this infrastructure MP routinely manages 10,000 simultaneous calculations on supercomputers such as Cori at NERSC. \n",
    "\n",
    "Let's begin by importing a basic silicon structure"
   ]
  },
  {
   "cell_type": "code",
   "execution_count": 18,
   "metadata": {},
   "outputs": [],
   "source": [
    "from pymatgen.core import Structure\n",
    "si = Structure.from_file(\"./example_files/Si.CIF\")\n",
    "print(si)"
   ]
  },
  {
   "cell_type": "markdown",
   "metadata": {},
   "source": [
    "In the past two lessons we've gone over some of the machinery used in this automation. Atomate workflows (with the support of fireworks) compiles everything needed to:\n",
    "* Store workflow inputs from the user\n",
    "* Create new calculation directories and write input files\n",
    "* Parse output directories and store results in a MongoDB database\n",
    "\n",
    "We can import `workflows` from atomate which are essentially the recipes that outline the steps for how to automate calculations from start to finish. There are many pre-built workflows in automate for common types of calculations. The best way to explore all available workflows is by checking the atomate source code linked below.\n",
    "* VASP Workflows: https://github.com/hackingmaterials/atomate/tree/main/atomate/vasp/workflows/base\n",
    "* Q-Chem Workflows: https://github.com/hackingmaterials/atomate/tree/main/atomate/qchem/workflows/base\n",
    "\n",
    "For this lesson, we will focus on two types of workflows for VASP.\n",
    "* Structure Optimization Workflow (simpler)\n",
    "* Bandstructure Workflow (more complex)\n",
    "\n",
    "Let's get started by importing these workflows and then creating workflow objects from our silicon structure."
   ]
  },
  {
   "cell_type": "code",
   "execution_count": 19,
   "metadata": {},
   "outputs": [],
   "source": [
    "from atomate.vasp.workflows.presets.core import wf_structure_optimization, wf_bandstructure"
   ]
  },
  {
   "cell_type": "code",
   "execution_count": 20,
   "metadata": {
    "scrolled": true
   },
   "outputs": [
    {
     "name": "stdout",
     "output_type": "stream",
     "text": [
      "Workflow object: (fw_ids: odict_keys([-1]) , name: Si)\n"
     ]
    }
   ],
   "source": [
    "so_wf = wf_structure_optimization(structure=si)\n",
    "print(so_wf)"
   ]
  },
  {
   "cell_type": "code",
   "execution_count": 21,
   "metadata": {},
   "outputs": [
    {
     "name": "stdout",
     "output_type": "stream",
     "text": [
      "Workflow object: (fw_ids: odict_keys([-2, -3, -4, -5]) , name: Si)\n"
     ]
    }
   ],
   "source": [
    "bs_wf = wf_bandstructure(structure=si)\n",
    "print(bs_wf)"
   ]
  },
  {
   "cell_type": "markdown",
   "metadata": {},
   "source": [
    "Now we can see there are a low more fireworks in this workflow, but its still hard to tell what is going on. Let's start by looking at the whole workflow as a graph.\n",
    "\n",
    "We'll use a function built for this workshop to plot what the workflow looks like."
   ]
  },
  {
   "cell_type": "code",
   "execution_count": 22,
   "metadata": {},
   "outputs": [],
   "source": [
    "from mp_workshop.atomate import wf_to_graph"
   ]
  },
  {
   "cell_type": "code",
   "execution_count": null,
   "metadata": {},
   "outputs": [],
   "source": [
    "wf_to_graph(so_wf)"
   ]
  },
  {
   "cell_type": "code",
   "execution_count": 23,
   "metadata": {},
   "outputs": [
    {
     "data": {
      "image/svg+xml": [
       "<?xml version=\"1.0\" encoding=\"UTF-8\" standalone=\"no\"?>\n",
       "<!DOCTYPE svg PUBLIC \"-//W3C//DTD SVG 1.1//EN\"\n",
       " \"http://www.w3.org/Graphics/SVG/1.1/DTD/svg11.dtd\">\n",
       "<!-- Generated by graphviz version 2.40.1 (20161225.0304)\n",
       " -->\n",
       "<!-- Title: %3 Pages: 1 -->\n",
       "<svg width=\"338pt\" height=\"98pt\"\n",
       " viewBox=\"0.00 0.00 338.00 98.00\" xmlns=\"http://www.w3.org/2000/svg\" xmlns:xlink=\"http://www.w3.org/1999/xlink\">\n",
       "<g id=\"graph0\" class=\"graph\" transform=\"scale(1 1) rotate(0) translate(4 94)\">\n",
       "<title>%3</title>\n",
       "<polygon fill=\"#ffffff\" stroke=\"transparent\" points=\"-4,4 -4,-94 334,-94 334,4 -4,4\"/>\n",
       "<!-- &#45;2 -->\n",
       "<g id=\"node1\" class=\"node\">\n",
       "<title>&#45;2</title>\n",
       "<polygon fill=\"none\" stroke=\"#1f62a2\" points=\"121,-63 0,-63 0,-27 121,-27 121,-63\"/>\n",
       "<text text-anchor=\"middle\" x=\"60.5\" y=\"-41.3\" font-family=\"Times,serif\" font-size=\"14.00\" fill=\"#000000\">Si&#45;structure optimization</text>\n",
       "</g>\n",
       "<!-- &#45;3 -->\n",
       "<g id=\"node2\" class=\"node\">\n",
       "<title>&#45;3</title>\n",
       "<polygon fill=\"none\" stroke=\"#1f62a2\" points=\"211,-63 157,-63 157,-27 211,-27 211,-63\"/>\n",
       "<text text-anchor=\"middle\" x=\"184\" y=\"-41.3\" font-family=\"Times,serif\" font-size=\"14.00\" fill=\"#000000\">Si&#45;static</text>\n",
       "</g>\n",
       "<!-- &#45;2&#45;&gt;&#45;3 -->\n",
       "<g id=\"edge1\" class=\"edge\">\n",
       "<title>&#45;2&#45;&gt;&#45;3</title>\n",
       "<path fill=\"none\" stroke=\"#000000\" d=\"M121.1646,-45C129.902,-45 138.6685,-45 146.7639,-45\"/>\n",
       "<polygon fill=\"#000000\" stroke=\"#000000\" points=\"146.9607,-48.5001 156.9606,-45 146.9606,-41.5001 146.9607,-48.5001\"/>\n",
       "</g>\n",
       "<!-- &#45;4 -->\n",
       "<g id=\"node3\" class=\"node\">\n",
       "<title>&#45;4</title>\n",
       "<polygon fill=\"none\" stroke=\"#1f62a2\" points=\"330,-90 247,-90 247,-54 330,-54 330,-90\"/>\n",
       "<text text-anchor=\"middle\" x=\"288.5\" y=\"-68.3\" font-family=\"Times,serif\" font-size=\"14.00\" fill=\"#000000\">Si&#45;nscf uniform</text>\n",
       "</g>\n",
       "<!-- &#45;3&#45;&gt;&#45;4 -->\n",
       "<g id=\"edge2\" class=\"edge\">\n",
       "<title>&#45;3&#45;&gt;&#45;4</title>\n",
       "<path fill=\"none\" stroke=\"#000000\" d=\"M211.1833,-52.0234C219.1773,-54.0889 228.1972,-56.4194 237.1803,-58.7404\"/>\n",
       "<polygon fill=\"#000000\" stroke=\"#000000\" points=\"236.3057,-62.1293 246.8634,-61.2422 238.0569,-55.3518 236.3057,-62.1293\"/>\n",
       "</g>\n",
       "<!-- &#45;5 -->\n",
       "<g id=\"node4\" class=\"node\">\n",
       "<title>&#45;5</title>\n",
       "<polygon fill=\"none\" stroke=\"#1f62a2\" points=\"321,-36 256,-36 256,0 321,0 321,-36\"/>\n",
       "<text text-anchor=\"middle\" x=\"288.5\" y=\"-14.3\" font-family=\"Times,serif\" font-size=\"14.00\" fill=\"#000000\">Si&#45;nscf line</text>\n",
       "</g>\n",
       "<!-- &#45;3&#45;&gt;&#45;5 -->\n",
       "<g id=\"edge3\" class=\"edge\">\n",
       "<title>&#45;3&#45;&gt;&#45;5</title>\n",
       "<path fill=\"none\" stroke=\"#000000\" d=\"M211.1833,-37.9766C221.8609,-35.2178 234.3687,-31.9861 246.1746,-28.9357\"/>\n",
       "<polygon fill=\"#000000\" stroke=\"#000000\" points=\"247.0645,-32.3208 255.871,-26.4305 245.3134,-25.5434 247.0645,-32.3208\"/>\n",
       "</g>\n",
       "</g>\n",
       "</svg>\n"
      ],
      "text/plain": [
       "<graphviz.dot.Digraph at 0x7fc9b0a38100>"
      ]
     },
     "execution_count": 23,
     "metadata": {},
     "output_type": "execute_result"
    }
   ],
   "source": [
    "wf_to_graph(bs_wf)"
   ]
  },
  {
   "cell_type": "markdown",
   "metadata": {},
   "source": [
    "The exact steps in each firework can vary but for these cases, each firework roughly represents one VASP calculation which consists of the following steps:\n",
    "\n",
    "    1. Write VASP input files\n",
    "    2. Run VASP\n",
    "    3. Parse VASP output files\n",
    "\n",
    "In the more complex bandstructure workflow, we can see the fireworks are connected. That means the outputs from one firework are passed to the next firework so the VASP calculation can start from the relaxed structure of the previous calculation."
   ]
  },
  {
   "cell_type": "markdown",
   "metadata": {},
   "source": [
    "Before we move forward with running our workflows, we will make one modification called `use_fake_vasp_workshop`. This will change the fireworks in the workflows so they will not actually run VASP (which requires greater computer resources and a VASP license), but instead will simulate running VASP by copying over pre-existing VASP output files."
   ]
  },
  {
   "cell_type": "code",
   "execution_count": 24,
   "metadata": {},
   "outputs": [],
   "source": [
    "from mp_workshop.atomate import use_fake_vasp_workshop"
   ]
  },
  {
   "cell_type": "code",
   "execution_count": null,
   "metadata": {},
   "outputs": [],
   "source": [
    "so_wf = use_fake_vasp_workshop(so_wf)\n",
    "bs_wf = use_fake_vasp_workshop(bs_wf)"
   ]
  },
  {
   "cell_type": "markdown",
   "metadata": {},
   "source": [
    "### Launching Workflows from Your LaunchPad\n",
    "\n",
    "Now we will introduce the `LaunchPad` from fireworks which is a python object that let's us interface with MongoDB and manage our queue of calculations. The LaunchPad allows you to submit and query workflows from anywhere you have database access. We need to get ourselves a LaunchPad object and set it up so we can submit our workflow."
   ]
  },
  {
   "cell_type": "code",
   "execution_count": 25,
   "metadata": {},
   "outputs": [],
   "source": [
    "from fireworks import LaunchPad"
   ]
  },
  {
   "cell_type": "code",
   "execution_count": 26,
   "metadata": {},
   "outputs": [],
   "source": [
    "lp = LaunchPad.auto_load()"
   ]
  },
  {
   "cell_type": "code",
   "execution_count": 27,
   "metadata": {},
   "outputs": [
    {
     "name": "stdout",
     "output_type": "stream",
     "text": [
      "2020-07-29 16:22:52,820 INFO Performing db tune-up\n",
      "2020-07-29 16:22:52,917 INFO LaunchPad was RESET.\n"
     ]
    }
   ],
   "source": [
    "lp.reset(password=None,require_password=False)"
   ]
  },
  {
   "cell_type": "markdown",
   "metadata": {},
   "source": [
    "Note `lp.reset()` should only be executed one time when you are first initializing your database set-up. If you reset your LaunchPad at a later time, you will erase the record of past calcuations you have run."
   ]
  },
  {
   "cell_type": "markdown",
   "metadata": {},
   "source": [
    "Adding our workflows to our Launchpad will encode and store these two workflow objects into MongoDB so they can be accessed later. "
   ]
  },
  {
   "cell_type": "code",
   "execution_count": 28,
   "metadata": {},
   "outputs": [
    {
     "name": "stdout",
     "output_type": "stream",
     "text": [
      "2020-07-29 16:22:52,930 INFO Added a workflow. id_map: {-5: 1, -4: 2, -3: 3, -2: 4}\n"
     ]
    },
    {
     "data": {
      "text/plain": [
       "{-5: 1, -4: 2, -3: 3, -2: 4}"
      ]
     },
     "execution_count": 28,
     "metadata": {},
     "output_type": "execute_result"
    }
   ],
   "source": [
    "lp.add_wf(so_wf)\n",
    "lp.add_wf(bs_wf)"
   ]
  },
  {
   "cell_type": "markdown",
   "metadata": {},
   "source": [
    "Now that our workflows are in our LaunchPad, we can check on their status using `.get_wf_summary_dict()`"
   ]
  },
  {
   "cell_type": "code",
   "execution_count": 29,
   "metadata": {},
   "outputs": [
    {
     "data": {
      "text/plain": [
       "{'state': 'READY',\n",
       " 'name': 'Si',\n",
       " 'created_on': datetime.datetime(2020, 7, 29, 23, 22, 52, 542000),\n",
       " 'updated_on': datetime.datetime(2020, 7, 29, 23, 22, 52, 542000),\n",
       " 'states': OrderedDict([('Si-nscf line--1', 'WAITING'),\n",
       "              ('Si-nscf uniform--2', 'WAITING'),\n",
       "              ('Si-static--3', 'WAITING'),\n",
       "              ('Si-structure optimization--4', 'READY')]),\n",
       " 'launch_dirs': OrderedDict([('Si-nscf line--1', []),\n",
       "              ('Si-nscf uniform--2', []),\n",
       "              ('Si-static--3', []),\n",
       "              ('Si-structure optimization--4', [])])}"
      ]
     },
     "execution_count": 29,
     "metadata": {},
     "output_type": "execute_result"
    }
   ],
   "source": [
    "lp.get_wf_summary_dict(1)"
   ]
  },
  {
   "cell_type": "code",
   "execution_count": null,
   "metadata": {},
   "outputs": [],
   "source": [
    "lp.get_wf_summary_dict(2)"
   ]
  },
  {
   "cell_type": "markdown",
   "metadata": {},
   "source": [
    "Normally we don't run these calculation in a notebook, but rather on a supercomputer. We use a command called `qlaunch` to automatically submit to the supercomputer to run. We can also run them locally using the command `rlaunch`. Let's check how we'd use it."
   ]
  },
  {
   "cell_type": "code",
   "execution_count": 30,
   "metadata": {
    "scrolled": true
   },
   "outputs": [
    {
     "name": "stdout",
     "output_type": "stream",
     "text": [
      "FW Echo Test: MP Workshop\n",
      "usage: rlaunch [-h] [-l LAUNCHPAD_FILE] [-w FWORKER_FILE] [-c CONFIG_DIR]\n",
      "               [--loglvl LOGLVL] [-s]\n",
      "               {singleshot,rapidfire,multi} ...\n",
      "\n",
      "This program launches one or more Rockets. A Rocket retrieves a job from the\n",
      "central database and runs it. The \"single-shot\" option launches a single\n",
      "Rocket, whereas the \"rapidfire\" option loops until all FireWorks are\n",
      "completed.\n",
      "\n",
      "positional arguments:\n",
      "  {singleshot,rapidfire,multi}\n",
      "                        command\n",
      "    singleshot          launch a single Rocket\n",
      "    rapidfire           launch multiple Rockets (loop until all FireWorks\n",
      "                        complete)\n",
      "    multi               launches multiple Rockets simultaneously\n",
      "\n",
      "optional arguments:\n",
      "  -h, --help            show this help message and exit\n",
      "  -l LAUNCHPAD_FILE, --launchpad_file LAUNCHPAD_FILE\n",
      "                        path to launchpad file\n",
      "  -w FWORKER_FILE, --fworker_file FWORKER_FILE\n",
      "                        path to fworker file\n",
      "  -c CONFIG_DIR, --config_dir CONFIG_DIR\n",
      "                        path to a directory containing the config file (used\n",
      "                        if -l, -w unspecified)\n",
      "  --loglvl LOGLVL       level to print log messages\n",
      "  -s, --silencer        shortcut to mute log messages\n"
     ]
    }
   ],
   "source": [
    "!rlaunch --help"
   ]
  },
  {
   "cell_type": "code",
   "execution_count": 31,
   "metadata": {},
   "outputs": [
    {
     "name": "stdout",
     "output_type": "stream",
     "text": [
      "FW Echo Test: MP Workshop\n",
      "2020-07-29 16:22:53,942 INFO Hostname/IP lookup (this will take a few seconds)\n",
      "2020-07-29 16:22:55,579 INFO Created new dir /Users/shyamd/Dropbox/Codes/workshop/workshop/lessons/05_automated_dft/launcher_2020-07-29-23-22-55-578983\n",
      "2020-07-29 16:22:55,579 INFO Launching Rocket\n",
      "2020-07-29 16:22:55,596 INFO RUNNING fw_id: 4 in directory: /Users/shyamd/Dropbox/Codes/workshop/workshop/lessons/05_automated_dft/launcher_2020-07-29-23-22-55-578983\n",
      "2020-07-29 16:22:55,602 INFO Task started: FileWriteTask.\n",
      "2020-07-29 16:22:55,603 INFO Task completed: FileWriteTask \n",
      "2020-07-29 16:22:55,604 INFO Task started: {{atomate.vasp.firetasks.write_inputs.WriteVaspFromIOSet}}.\n",
      "2020-07-29 16:22:55,639 INFO Task completed: {{atomate.vasp.firetasks.write_inputs.WriteVaspFromIOSet}} \n",
      "2020-07-29 16:22:55,640 INFO Task started: {{atomate.vasp.firetasks.run_calc.RunVaspFake}}.\n",
      "2020-07-29 16:22:55,641 INFO atomate.vasp.firetasks.run_calc RunVaspFake: verified inputs successfully\n",
      "2020-07-29 16:22:55,662 INFO atomate.vasp.firetasks.run_calc RunVaspFake: ran fake VASP, generated outputs\n",
      "2020-07-29 16:22:55,662 INFO Task completed: {{atomate.vasp.firetasks.run_calc.RunVaspFake}} \n",
      "2020-07-29 16:22:55,665 INFO Task started: {{atomate.common.firetasks.glue_tasks.PassCalcLocs}}.\n",
      "2020-07-29 16:22:55,665 INFO Task completed: {{atomate.common.firetasks.glue_tasks.PassCalcLocs}} \n",
      "2020-07-29 16:22:55,668 INFO Task started: {{atomate.vasp.firetasks.parse_outputs.VaspToDb}}.\n",
      "2020-07-29 16:22:55,668 INFO atomate.vasp.firetasks.parse_outputs PARSING DIRECTORY: /Users/shyamd/Dropbox/Codes/workshop/workshop/lessons/05_automated_dft/launcher_2020-07-29-23-22-55-578983\n",
      "2020-07-29 16:22:55,668 INFO atomate.vasp.drones Getting task doc for base dir :/Users/shyamd/Dropbox/Codes/workshop/workshop/lessons/05_automated_dft/launcher_2020-07-29-23-22-55-578983\n",
      "/Users/shyamd/Dropbox/Codes/pymatgen/pymatgen/io/vasp/inputs.py:1853: UnknownPotcarWarning: POTCAR with symbol Si has metadata that does not match                          any VASP POTCAR known to pymatgen. The data in this                          POTCAR is known to match the following functionals:                          ['PBE']\n",
      "  warnings.warn(\"POTCAR with symbol {} has metadata that does not match\\\n",
      "2020-07-29 16:22:56,460 INFO atomate.vasp.drones Post-processing dir:/Users/shyamd/Dropbox/Codes/workshop/workshop/lessons/05_automated_dft/launcher_2020-07-29-23-22-55-578983\n",
      "2020-07-29 16:22:56,460 WARNING atomate.vasp.drones Transformations file does not exist.\n",
      "2020-07-29 16:22:56,463 INFO atomate.vasp.drones Post-processed /Users/shyamd/Dropbox/Codes/workshop/workshop/lessons/05_automated_dft/launcher_2020-07-29-23-22-55-578983\n",
      "2020-07-29 16:22:56,548 INFO atomate.utils.database Inserting shyams-mbp.dhcp.lbnl.us:/Users/shyamd/Dropbox/Codes/workshop/workshop/lessons/05_automated_dft/launcher_2020-07-29-23-22-55-578983 with taskid = 21\n",
      "2020-07-29 16:22:56,588 INFO atomate.vasp.firetasks.parse_outputs Finished parsing with task_id: 21\n",
      "2020-07-29 16:22:56,589 INFO Task completed: {{atomate.vasp.firetasks.parse_outputs.VaspToDb}} \n",
      "2020-07-29 16:22:56,609 INFO Rocket finished\n"
     ]
    }
   ],
   "source": [
    "!rlaunch rapidfire --nlaunches 1 --fw_id #"
   ]
  },
  {
   "cell_type": "markdown",
   "metadata": {},
   "source": [
    "Let's check on our workflow in our LaunchPad to see how it has changed after launching one firework."
   ]
  },
  {
   "cell_type": "code",
   "execution_count": null,
   "metadata": {},
   "outputs": [],
   "source": [
    "lp.get_wf_summary_dict(1)"
   ]
  },
  {
   "cell_type": "markdown",
   "metadata": {},
   "source": [
    "Note that if the `--nlaunches` flag is not used, `rlaunch rapidfire` will continue to launch more fireworks from the LaunchPad until no \"Ready\" fireworks remain. Let's give it a try."
   ]
  },
  {
   "cell_type": "code",
   "execution_count": 32,
   "metadata": {},
   "outputs": [
    {
     "name": "stdout",
     "output_type": "stream",
     "text": [
      "FW Echo Test: MP Workshop\n",
      "2020-07-29 16:22:57,855 INFO Hostname/IP lookup (this will take a few seconds)\n",
      "2020-07-29 16:22:59,793 INFO Created new dir /Users/shyamd/Dropbox/Codes/workshop/workshop/lessons/05_automated_dft/launcher_2020-07-29-23-22-59-792907\n",
      "2020-07-29 16:22:59,793 INFO Launching Rocket\n",
      "2020-07-29 16:22:59,804 INFO RUNNING fw_id: 3 in directory: /Users/shyamd/Dropbox/Codes/workshop/workshop/lessons/05_automated_dft/launcher_2020-07-29-23-22-59-792907\n",
      "2020-07-29 16:22:59,808 INFO Task started: FileWriteTask.\n",
      "2020-07-29 16:22:59,808 INFO Task completed: FileWriteTask \n",
      "2020-07-29 16:22:59,810 INFO Task started: {{atomate.vasp.firetasks.glue_tasks.CopyVaspOutputs}}.\n",
      "2020-07-29 16:22:59,820 INFO Task completed: {{atomate.vasp.firetasks.glue_tasks.CopyVaspOutputs}} \n",
      "2020-07-29 16:22:59,822 INFO Task started: {{atomate.vasp.firetasks.write_inputs.WriteVaspStaticFromPrev}}.\n",
      "/Users/shyamd/Dropbox/Codes/pymatgen/pymatgen/io/vasp/inputs.py:1853: UnknownPotcarWarning: POTCAR with symbol Si has metadata that does not match                          any VASP POTCAR known to pymatgen. The data in this                          POTCAR is known to match the following functionals:                          ['PBE']\n",
      "  warnings.warn(\"POTCAR with symbol {} has metadata that does not match\\\n",
      "2020-07-29 16:23:00,078 INFO Task completed: {{atomate.vasp.firetasks.write_inputs.WriteVaspStaticFromPrev}} \n",
      "2020-07-29 16:23:00,079 INFO Task started: {{atomate.vasp.firetasks.run_calc.RunVaspFake}}.\n",
      "2020-07-29 16:23:00,080 INFO atomate.vasp.firetasks.run_calc RunVaspFake: verified inputs successfully\n",
      "2020-07-29 16:23:00,098 INFO atomate.vasp.firetasks.run_calc RunVaspFake: ran fake VASP, generated outputs\n",
      "2020-07-29 16:23:00,098 INFO Task completed: {{atomate.vasp.firetasks.run_calc.RunVaspFake}} \n",
      "2020-07-29 16:23:00,100 INFO Task started: {{atomate.common.firetasks.glue_tasks.PassCalcLocs}}.\n",
      "2020-07-29 16:23:00,101 INFO Task completed: {{atomate.common.firetasks.glue_tasks.PassCalcLocs}} \n",
      "2020-07-29 16:23:00,103 INFO Task started: {{atomate.vasp.firetasks.parse_outputs.VaspToDb}}.\n",
      "2020-07-29 16:23:00,103 INFO atomate.vasp.firetasks.parse_outputs PARSING DIRECTORY: /Users/shyamd/Dropbox/Codes/workshop/workshop/lessons/05_automated_dft/launcher_2020-07-29-23-22-59-792907\n",
      "2020-07-29 16:23:00,103 INFO atomate.vasp.drones Getting task doc for base dir :/Users/shyamd/Dropbox/Codes/workshop/workshop/lessons/05_automated_dft/launcher_2020-07-29-23-22-59-792907\n",
      "2020-07-29 16:23:01,640 INFO atomate.vasp.drones Post-processing dir:/Users/shyamd/Dropbox/Codes/workshop/workshop/lessons/05_automated_dft/launcher_2020-07-29-23-22-59-792907\n",
      "2020-07-29 16:23:01,641 WARNING atomate.vasp.drones Transformations file does not exist.\n",
      "2020-07-29 16:23:01,784 INFO atomate.vasp.drones Post-processed /Users/shyamd/Dropbox/Codes/workshop/workshop/lessons/05_automated_dft/launcher_2020-07-29-23-22-59-792907\n",
      "2020-07-29 16:23:02,537 INFO atomate.utils.database Inserting shyams-mbp.dhcp.lbnl.us:/Users/shyamd/Dropbox/Codes/workshop/workshop/lessons/05_automated_dft/launcher_2020-07-29-23-22-59-792907 with taskid = 22\n",
      "2020-07-29 16:23:02,834 INFO atomate.vasp.firetasks.parse_outputs Finished parsing with task_id: 22\n",
      "2020-07-29 16:23:02,834 INFO Task completed: {{atomate.vasp.firetasks.parse_outputs.VaspToDb}} \n",
      "2020-07-29 16:23:02,849 INFO Rocket finished\n",
      "2020-07-29 16:23:02,852 INFO Created new dir /Users/shyamd/Dropbox/Codes/workshop/workshop/lessons/05_automated_dft/launcher_2020-07-29-23-23-02-851888\n",
      "2020-07-29 16:23:02,852 INFO Launching Rocket\n",
      "2020-07-29 16:23:02,862 INFO RUNNING fw_id: 1 in directory: /Users/shyamd/Dropbox/Codes/workshop/workshop/lessons/05_automated_dft/launcher_2020-07-29-23-23-02-851888\n",
      "2020-07-29 16:23:02,865 INFO Task started: FileWriteTask.\n",
      "2020-07-29 16:23:02,865 INFO Task completed: FileWriteTask \n",
      "2020-07-29 16:23:02,866 INFO Task started: {{atomate.vasp.firetasks.glue_tasks.CopyVaspOutputs}}.\n",
      "2020-07-29 16:23:02,920 INFO Task completed: {{atomate.vasp.firetasks.glue_tasks.CopyVaspOutputs}} \n",
      "2020-07-29 16:23:02,923 INFO Task started: {{atomate.vasp.firetasks.write_inputs.WriteVaspNSCFFromPrev}}.\n",
      "/Users/shyamd/Dropbox/Codes/pymatgen/pymatgen/symmetry/kpath.py:161: UserWarning: 'magmom' entry found in site properties but will be ignored                   for the Setyawan and Curtarolo convention.\n",
      "  warn(\n",
      "/Users/shyamd/Dropbox/Codes/pymatgen/pymatgen/symmetry/kpath.py:177: UserWarning: The input structure does not match the expected standard primitive! The path can be incorrect. Use at your own risk.\n",
      "  warn(\n",
      "2020-07-29 16:23:03,365 INFO Task completed: {{atomate.vasp.firetasks.write_inputs.WriteVaspNSCFFromPrev}} \n",
      "2020-07-29 16:23:03,367 INFO Task started: {{atomate.vasp.firetasks.run_calc.RunVaspFake}}.\n",
      "2020-07-29 16:23:03,367 INFO atomate.vasp.firetasks.run_calc RunVaspFake: verified inputs successfully\n",
      "2020-07-29 16:23:03,381 INFO atomate.vasp.firetasks.run_calc RunVaspFake: ran fake VASP, generated outputs\n",
      "2020-07-29 16:23:03,382 INFO Task completed: {{atomate.vasp.firetasks.run_calc.RunVaspFake}} \n",
      "2020-07-29 16:23:03,384 INFO Task started: {{atomate.common.firetasks.glue_tasks.PassCalcLocs}}.\n",
      "2020-07-29 16:23:03,384 INFO Task completed: {{atomate.common.firetasks.glue_tasks.PassCalcLocs}} \n",
      "2020-07-29 16:23:03,386 INFO Task started: {{atomate.vasp.firetasks.parse_outputs.VaspToDb}}.\n",
      "2020-07-29 16:23:03,386 INFO atomate.vasp.firetasks.parse_outputs PARSING DIRECTORY: /Users/shyamd/Dropbox/Codes/workshop/workshop/lessons/05_automated_dft/launcher_2020-07-29-23-23-02-851888\n",
      "2020-07-29 16:23:03,386 INFO atomate.vasp.drones Getting task doc for base dir :/Users/shyamd/Dropbox/Codes/workshop/workshop/lessons/05_automated_dft/launcher_2020-07-29-23-23-02-851888\n",
      "2020-07-29 16:23:04,233 INFO atomate.vasp.drones Post-processing dir:/Users/shyamd/Dropbox/Codes/workshop/workshop/lessons/05_automated_dft/launcher_2020-07-29-23-23-02-851888\n",
      "2020-07-29 16:23:04,234 WARNING atomate.vasp.drones Transformations file does not exist.\n",
      "2020-07-29 16:23:04,362 INFO atomate.vasp.drones Post-processed /Users/shyamd/Dropbox/Codes/workshop/workshop/lessons/05_automated_dft/launcher_2020-07-29-23-23-02-851888\n",
      "2020-07-29 16:23:04,629 INFO atomate.utils.database Inserting shyams-mbp.dhcp.lbnl.us:/Users/shyamd/Dropbox/Codes/workshop/workshop/lessons/05_automated_dft/launcher_2020-07-29-23-23-02-851888 with taskid = 23\n",
      "2020-07-29 16:23:04,754 INFO atomate.vasp.firetasks.parse_outputs Finished parsing with task_id: 23\n",
      "2020-07-29 16:23:04,755 INFO Task completed: {{atomate.vasp.firetasks.parse_outputs.VaspToDb}} \n",
      "2020-07-29 16:23:04,766 INFO Rocket finished\n",
      "2020-07-29 16:23:04,769 INFO Created new dir /Users/shyamd/Dropbox/Codes/workshop/workshop/lessons/05_automated_dft/launcher_2020-07-29-23-23-04-769444\n",
      "2020-07-29 16:23:04,769 INFO Launching Rocket\n",
      "2020-07-29 16:23:04,782 INFO RUNNING fw_id: 2 in directory: /Users/shyamd/Dropbox/Codes/workshop/workshop/lessons/05_automated_dft/launcher_2020-07-29-23-23-04-769444\n",
      "2020-07-29 16:23:04,785 INFO Task started: FileWriteTask.\n",
      "2020-07-29 16:23:04,786 INFO Task completed: FileWriteTask \n",
      "2020-07-29 16:23:04,787 INFO Task started: {{atomate.vasp.firetasks.glue_tasks.CopyVaspOutputs}}.\n",
      "2020-07-29 16:23:04,858 INFO Task completed: {{atomate.vasp.firetasks.glue_tasks.CopyVaspOutputs}} \n",
      "2020-07-29 16:23:04,860 INFO Task started: {{atomate.vasp.firetasks.write_inputs.WriteVaspNSCFFromPrev}}.\n",
      "2020-07-29 16:23:05,121 INFO Task completed: {{atomate.vasp.firetasks.write_inputs.WriteVaspNSCFFromPrev}} \n",
      "2020-07-29 16:23:05,123 INFO Task started: {{atomate.vasp.firetasks.run_calc.RunVaspFake}}.\n",
      "2020-07-29 16:23:05,123 INFO atomate.vasp.firetasks.run_calc RunVaspFake: verified inputs successfully\n",
      "2020-07-29 16:23:05,138 INFO atomate.vasp.firetasks.run_calc RunVaspFake: ran fake VASP, generated outputs\n",
      "2020-07-29 16:23:05,138 INFO Task completed: {{atomate.vasp.firetasks.run_calc.RunVaspFake}} \n",
      "2020-07-29 16:23:05,140 INFO Task started: {{atomate.common.firetasks.glue_tasks.PassCalcLocs}}.\n",
      "2020-07-29 16:23:05,140 INFO Task completed: {{atomate.common.firetasks.glue_tasks.PassCalcLocs}} \n",
      "2020-07-29 16:23:05,142 INFO Task started: {{atomate.vasp.firetasks.parse_outputs.VaspToDb}}.\n"
     ]
    },
    {
     "name": "stdout",
     "output_type": "stream",
     "text": [
      "2020-07-29 16:23:05,142 INFO atomate.vasp.firetasks.parse_outputs PARSING DIRECTORY: /Users/shyamd/Dropbox/Codes/workshop/workshop/lessons/05_automated_dft/launcher_2020-07-29-23-23-04-769444\n",
      "2020-07-29 16:23:05,142 INFO atomate.vasp.drones Getting task doc for base dir :/Users/shyamd/Dropbox/Codes/workshop/workshop/lessons/05_automated_dft/launcher_2020-07-29-23-23-04-769444\n",
      "2020-07-29 16:23:05,939 INFO atomate.vasp.drones Post-processing dir:/Users/shyamd/Dropbox/Codes/workshop/workshop/lessons/05_automated_dft/launcher_2020-07-29-23-23-04-769444\n",
      "2020-07-29 16:23:05,939 WARNING atomate.vasp.drones Transformations file does not exist.\n",
      "2020-07-29 16:23:06,085 INFO atomate.vasp.drones Post-processed /Users/shyamd/Dropbox/Codes/workshop/workshop/lessons/05_automated_dft/launcher_2020-07-29-23-23-04-769444\n",
      "2020-07-29 16:23:06,374 INFO atomate.utils.database Inserting shyams-mbp.dhcp.lbnl.us:/Users/shyamd/Dropbox/Codes/workshop/workshop/lessons/05_automated_dft/launcher_2020-07-29-23-23-04-769444 with taskid = 24\n",
      "2020-07-29 16:23:06,498 INFO atomate.vasp.firetasks.parse_outputs Finished parsing with task_id: 24\n",
      "2020-07-29 16:23:06,498 INFO Task completed: {{atomate.vasp.firetasks.parse_outputs.VaspToDb}} \n",
      "2020-07-29 16:23:06,509 INFO Rocket finished\n"
     ]
    }
   ],
   "source": [
    "!rlaunch rapidfire "
   ]
  },
  {
   "cell_type": "markdown",
   "metadata": {},
   "source": [
    "Fireworks also has a command called `qlaunch` to automatically submiting jobs to the supercomputer to run. Upon the job starting to run on the supercomputer, rlaunch from fireworks will be called thus running fireworks with supercomputer resources. qlaunch is the primary command used by users in the command-line interface on supercomputers."
   ]
  }
 ],
 "metadata": {
  "kernelspec": {
   "display_name": "Python 3.8.2 64-bit ('dev': conda)",
   "language": "python",
   "name": "python38264bitdevconda06c7c692422b4cb59f191a8cff7c413e"
  },
  "language_info": {
   "codemirror_mode": {
    "name": "ipython",
    "version": 3
   },
   "file_extension": ".py",
   "mimetype": "text/x-python",
   "name": "python",
   "nbconvert_exporter": "python",
   "pygments_lexer": "ipython3",
   "version": "3.8.3"
  }
 },
 "nbformat": 4,
 "nbformat_minor": 4
}
